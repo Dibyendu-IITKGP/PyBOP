{
 "cells": [
  {
   "cell_type": "markdown",
   "id": "00940c64-4748-4b08-9a35-ea98ce311e71",
   "metadata": {},
   "source": [
    "## LG M50 Single Pulse Parameter Identification\n",
    "\n",
    "This example presents an experimental parameter identification method for a two-RC circuit model. The data for this notebook is located within the same directory and was obtained from WDWidanage/Simscape-Battery-Library [[1]](https://github.com/WDWidanage/Simscape-Battery-Library/tree/a3842b91b3ccda006bc9be5d59c8bcbd167ceef7/Examples/parameterEstimation_TECMD/Data).\n",
    "\n",
    "\n",
    "### Setting up the Environment\n",
    "\n",
    "Before we begin, we need to ensure that we have all the necessary tools. We will install PyBOP for the fitting and Pandas for the data ingestion and manipulation:"
   ]
  },
  {
   "cell_type": "code",
   "execution_count": 1,
   "id": "dd0e1a20-1ba3-4ff5-8f6a-f9c6f25c2a4a",
   "metadata": {
    "execution": {
     "iopub.execute_input": "2024-04-14T18:57:35.622247Z",
     "iopub.status.busy": "2024-04-14T18:57:35.621773Z",
     "iopub.status.idle": "2024-04-14T18:57:40.672493Z",
     "shell.execute_reply": "2024-04-14T18:57:40.671959Z"
    }
   },
   "outputs": [
    {
     "name": "stdout",
     "output_type": "stream",
     "text": [
      "Requirement already satisfied: pip in /Users/engs2510/.pyenv/versions/3.12.2/envs/pybop-3.12/lib/python3.12/site-packages (24.1.2)\n",
      "Requirement already satisfied: ipywidgets in /Users/engs2510/.pyenv/versions/3.12.2/envs/pybop-3.12/lib/python3.12/site-packages (8.1.3)\n",
      "Requirement already satisfied: comm>=0.1.3 in /Users/engs2510/.pyenv/versions/3.12.2/envs/pybop-3.12/lib/python3.12/site-packages (from ipywidgets) (0.2.2)\n",
      "Requirement already satisfied: ipython>=6.1.0 in /Users/engs2510/.pyenv/versions/3.12.2/envs/pybop-3.12/lib/python3.12/site-packages (from ipywidgets) (8.23.0)\n",
      "Requirement already satisfied: traitlets>=4.3.1 in /Users/engs2510/.pyenv/versions/3.12.2/envs/pybop-3.12/lib/python3.12/site-packages (from ipywidgets) (5.14.2)\n",
      "Requirement already satisfied: widgetsnbextension~=4.0.11 in /Users/engs2510/.pyenv/versions/3.12.2/envs/pybop-3.12/lib/python3.12/site-packages (from ipywidgets) (4.0.11)\n",
      "Requirement already satisfied: jupyterlab-widgets~=3.0.11 in /Users/engs2510/.pyenv/versions/3.12.2/envs/pybop-3.12/lib/python3.12/site-packages (from ipywidgets) (3.0.11)\n",
      "Requirement already satisfied: decorator in /Users/engs2510/.pyenv/versions/3.12.2/envs/pybop-3.12/lib/python3.12/site-packages (from ipython>=6.1.0->ipywidgets) (5.1.1)\n",
      "Requirement already satisfied: jedi>=0.16 in /Users/engs2510/.pyenv/versions/3.12.2/envs/pybop-3.12/lib/python3.12/site-packages (from ipython>=6.1.0->ipywidgets) (0.19.1)\n",
      "Requirement already satisfied: matplotlib-inline in /Users/engs2510/.pyenv/versions/3.12.2/envs/pybop-3.12/lib/python3.12/site-packages (from ipython>=6.1.0->ipywidgets) (0.1.6)\n",
      "Requirement already satisfied: prompt-toolkit<3.1.0,>=3.0.41 in /Users/engs2510/.pyenv/versions/3.12.2/envs/pybop-3.12/lib/python3.12/site-packages (from ipython>=6.1.0->ipywidgets) (3.0.43)\n",
      "Requirement already satisfied: pygments>=2.4.0 in /Users/engs2510/.pyenv/versions/3.12.2/envs/pybop-3.12/lib/python3.12/site-packages (from ipython>=6.1.0->ipywidgets) (2.17.2)\n",
      "Requirement already satisfied: stack-data in /Users/engs2510/.pyenv/versions/3.12.2/envs/pybop-3.12/lib/python3.12/site-packages (from ipython>=6.1.0->ipywidgets) (0.6.3)\n",
      "Requirement already satisfied: pexpect>4.3 in /Users/engs2510/.pyenv/versions/3.12.2/envs/pybop-3.12/lib/python3.12/site-packages (from ipython>=6.1.0->ipywidgets) (4.9.0)\n",
      "Requirement already satisfied: parso<0.9.0,>=0.8.3 in /Users/engs2510/.pyenv/versions/3.12.2/envs/pybop-3.12/lib/python3.12/site-packages (from jedi>=0.16->ipython>=6.1.0->ipywidgets) (0.8.4)\n",
      "Requirement already satisfied: ptyprocess>=0.5 in /Users/engs2510/.pyenv/versions/3.12.2/envs/pybop-3.12/lib/python3.12/site-packages (from pexpect>4.3->ipython>=6.1.0->ipywidgets) (0.7.0)\n",
      "Requirement already satisfied: wcwidth in /Users/engs2510/.pyenv/versions/3.12.2/envs/pybop-3.12/lib/python3.12/site-packages (from prompt-toolkit<3.1.0,>=3.0.41->ipython>=6.1.0->ipywidgets) (0.2.13)\n",
      "Requirement already satisfied: executing>=1.2.0 in /Users/engs2510/.pyenv/versions/3.12.2/envs/pybop-3.12/lib/python3.12/site-packages (from stack-data->ipython>=6.1.0->ipywidgets) (2.0.1)\n",
      "Requirement already satisfied: asttokens>=2.1.0 in /Users/engs2510/.pyenv/versions/3.12.2/envs/pybop-3.12/lib/python3.12/site-packages (from stack-data->ipython>=6.1.0->ipywidgets) (2.4.1)\n",
      "Requirement already satisfied: pure-eval in /Users/engs2510/.pyenv/versions/3.12.2/envs/pybop-3.12/lib/python3.12/site-packages (from stack-data->ipython>=6.1.0->ipywidgets) (0.2.2)\n",
      "Requirement already satisfied: six>=1.12.0 in /Users/engs2510/.pyenv/versions/3.12.2/envs/pybop-3.12/lib/python3.12/site-packages (from asttokens>=2.1.0->stack-data->ipython>=6.1.0->ipywidgets) (1.16.0)\n",
      "Note: you may need to restart the kernel to use updated packages.\n",
      "zsh:1: no matches found: pybop[plot]\n",
      "Note: you may need to restart the kernel to use updated packages.\n",
      "Note: you may need to restart the kernel to use updated packages.\n"
     ]
    }
   ],
   "source": [
    "%pip install --upgrade pip ipywidgets\n",
    "%pip install pybop[plot] -q\n",
    "%pip install pandas -q"
   ]
  },
  {
   "cell_type": "markdown",
   "id": "90efc3d3-bf00-423d-ba81-246e4763b499",
   "metadata": {},
   "source": [
    "### Importing Libraries\n",
    "\n",
    "With the environment set up, we can now import PyBOP alongside other libraries we will need:"
   ]
  },
  {
   "cell_type": "code",
   "execution_count": 2,
   "id": "d6afb8f9-3872-4a7e-a76d-0b50855fe089",
   "metadata": {
    "execution": {
     "iopub.execute_input": "2024-04-14T18:57:40.675505Z",
     "iopub.status.busy": "2024-04-14T18:57:40.675195Z",
     "iopub.status.idle": "2024-04-14T18:57:46.231644Z",
     "shell.execute_reply": "2024-04-14T18:57:46.230956Z"
    }
   },
   "outputs": [],
   "source": [
    "import pandas as pd\n",
    "import plotly.graph_objects as go\n",
    "import pybamm\n",
    "from scipy.io import loadmat\n",
    "\n",
    "import pybop"
   ]
  },
  {
   "cell_type": "markdown",
   "id": "a976f817-f0b3-421e-8cd3-a49be9128068",
   "metadata": {},
   "source": [
    "## Importing Data\n",
    "\n",
    "The data is imported as a dictionary with the following key level:\n",
    "- [\"LGM50_5Ah_Pulse\"]\n",
    "    - Temperature-> [\"T0\"]\n",
    "        - State of Charge ->[\"SoC3\"]\n",
    "            - Cell number -> [\"Cell1\"]\n",
    "                - Corresponding data -> [\"data\"]\n",
    "\n",
    "Using SciPy's `loadmat`, we import the data from the MAT containers:"
   ]
  },
  {
   "cell_type": "code",
   "execution_count": 3,
   "id": "705e7986",
   "metadata": {
    "execution": {
     "iopub.execute_input": "2024-04-14T18:57:46.250744Z",
     "iopub.status.busy": "2024-04-14T18:57:46.250383Z",
     "iopub.status.idle": "2024-04-14T18:57:46.294482Z",
     "shell.execute_reply": "2024-04-14T18:57:46.294078Z"
    }
   },
   "outputs": [],
   "source": [
    "ocp = loadmat(\"data/LGM50_5Ah_OCV.mat\", simplify_cells=True, mat_dtype=False)\n",
    "pulse_data = loadmat(\"data/LGM50_5Ah_Pulse.mat\", simplify_cells=True, mat_dtype=False)\n",
    "rate_data = loadmat(\"data/LGM50_5Ah_RateTest.mat\", simplify_cells=True, mat_dtype=False)"
   ]
  },
  {
   "cell_type": "markdown",
   "id": "609b0fc7",
   "metadata": {},
   "source": [
    "### Convert to Dataframes\n",
    "\n",
    "Next, we construct a dataframe from a selected pulse. In this case, we select the data for zero degrees (`T0`) with a state-of-charge of 90% (`SoC9`) and the 19th cell (`Cell19`). This can be extended to multiple pulses, or a different selection.\n",
    "\n",
    "Additionally, we apply two filters to the dataframe to ensure the data contains only monotonically increasing time samples without duplicates."
   ]
  },
  {
   "cell_type": "code",
   "execution_count": 4,
   "id": "cc48c662",
   "metadata": {
    "execution": {
     "iopub.execute_input": "2024-04-14T18:57:46.296068Z",
     "iopub.status.busy": "2024-04-14T18:57:46.295926Z",
     "iopub.status.idle": "2024-04-14T18:57:46.302754Z",
     "shell.execute_reply": "2024-04-14T18:57:46.302555Z"
    }
   },
   "outputs": [],
   "source": [
    "df = pd.DataFrame(pulse_data[\"LGM50_5Ah_Pulse\"][\"T0\"][\"SoC9\"][\"Cell19\"][\"data\"])\n",
    "df[\"ProgTime\"] = df[\"ProgTime\"] - df[\"ProgTime\"].min()\n",
    "df.drop_duplicates(subset=[\"ProgTime\"], inplace=True)"
   ]
  },
  {
   "cell_type": "markdown",
   "id": "34aeb1d2",
   "metadata": {},
   "source": [
    "A plot of time vs voltage confirms the data looks correct for fitting. In this situation, we would prefer to have additional samples from the relaxation, but as we will show below, PyBOP is still able to identify parameter values that fit this system."
   ]
  },
  {
   "cell_type": "code",
   "execution_count": 5,
   "id": "c4189ca7",
   "metadata": {
    "execution": {
     "iopub.execute_input": "2024-04-14T18:57:46.304020Z",
     "iopub.status.busy": "2024-04-14T18:57:46.303922Z",
     "iopub.status.idle": "2024-04-14T18:57:46.726277Z",
     "shell.execute_reply": "2024-04-14T18:57:46.725777Z"
    }
   },
   "outputs": [
    {
     "data": {
      "application/vnd.plotly.v1+json": {
       "config": {
        "plotlyServerURL": "https://plot.ly"
       },
       "data": [
        {
         "type": "scatter",
         "x": [
          0,
          0.01800000004004687,
          0.12100000004284084,
          0.25100000004749745,
          0.34300000010989606,
          0.4190000001108274,
          0.5600000000558794,
          0.6170000000856817,
          0.7250000000931323,
          0.8570000000763685,
          0.9250000000465661,
          1.0330000000540167,
          1.1739999999990687,
          1.2300000000977889,
          1.343000000109896,
          1.4170000000158325,
          1.5370000000111759,
          1.6480000000447035,
          1.7160000000149012,
          1.8209999999962747,
          1.922000000020489,
          2.0010000000474975,
          2.1510000000707805,
          2.2290000000502914,
          2.4300000000512227,
          2.4980000000214204,
          2.534000000101514,
          2.7020000000484288,
          2.7989999999990687,
          2.8380000001052395,
          3.002000000094995,
          3.103000000002794,
          3.1440000000875443,
          3.2660000000614673,
          3.3570000000763685,
          3.4860000000335276,
          3.525000000023283,
          3.7220000000670552,
          3.762000000104308,
          3.8320000000530854,
          4.0230000000447035,
          4.069000000017695,
          4.14000000001397,
          4.282000000006519,
          4.3600000001024455,
          4.44800000009127,
          4.5070000000996515,
          4.633000000030734,
          4.726000000024214,
          4.94800000009127,
          4.990000000107102,
          5.033000000054017,
          5.134000000078231,
          5.24800000002142,
          5.339000000036322,
          5.474000000045635,
          5.57300000009127,
          5.614000000059605,
          5.7570000000996515,
          5.875,
          5.926000000094064,
          6.0670000000391155,
          6.182000000029802,
          6.2350000001024455,
          6.341000000014901,
          6.512000000104308,
          6.579000000027008,
          6.618000000016764,
          6.7730000000447035,
          6.856000000028871,
          6.927000000025146,
          7.066000000108033,
          7.1510000000707805,
          7.238000000012107,
          7.3080000000773,
          7.4610000000102445,
          7.546000000089407,
          7.753000000026077,
          7.815000000060536,
          7.853000000002794,
          7.923999999999069,
          8.051000000094064,
          8.160000000032596,
          8.23300000000745,
          8.318000000086613,
          8.427000000025146,
          8.53900000010617,
          8.660000000032596,
          8.747000000090338,
          8.852000000071712,
          8.989000000059605,
          9.078000000095926,
          9.127000000094995,
          9.274000000092201,
          9.361000000033528,
          9.434000000008382,
          9.524000000092201,
          9.63600000005681,
          9.754000000073574,
          9.83800000010524,
          9.949000000022352,
          10.016000000061467,
          10.065000000060536,
          10.085000000079162,
          11.104000000050291,
          12.092000000062399,
          13.12100000004284,
          14.091000000014901,
          15.08800000010524,
          16.113000000012107,
          17.14000000001397,
          18.087000000057742,
          19.101000000024214,
          20.10800000000745
         ],
         "y": [
          4.08078,
          3.96745,
          3.96156,
          3.96156,
          3.95955,
          3.959,
          3.95889,
          3.95855,
          3.95755,
          3.95755,
          3.95722,
          3.95644,
          3.95644,
          3.95611,
          3.95533,
          3.95511,
          3.95511,
          3.95433,
          3.95422,
          3.95422,
          3.95355,
          3.95333,
          3.95322,
          3.95266,
          3.95255,
          3.95221,
          3.95188,
          3.95166,
          3.95166,
          3.95121,
          3.95099,
          3.95088,
          3.95055,
          3.95032,
          3.9501,
          3.94999,
          3.94977,
          3.94955,
          3.94932,
          3.9491,
          3.94888,
          3.94866,
          3.94843,
          3.94832,
          3.9481,
          3.94788,
          3.94777,
          3.94766,
          3.94743,
          3.9471,
          3.94699,
          3.94677,
          3.94665,
          3.94665,
          3.94621,
          3.9461,
          3.9461,
          3.94588,
          3.94565,
          3.94554,
          3.94532,
          3.94521,
          3.9451,
          3.94488,
          3.94476,
          3.94454,
          3.94443,
          3.94421,
          3.9441,
          3.94399,
          3.94376,
          3.94365,
          3.94354,
          3.94332,
          3.94321,
          3.94321,
          3.94287,
          3.94276,
          3.94265,
          3.94243,
          3.94232,
          3.94221,
          3.9421,
          3.94187,
          3.94176,
          3.94176,
          3.94154,
          3.94143,
          3.94132,
          3.9411,
          3.94098,
          3.94087,
          3.94076,
          3.94054,
          3.94054,
          3.94043,
          3.94021,
          3.94021,
          3.93998,
          3.93987,
          3.93987,
          3.93976,
          3.93954,
          3.93943,
          4.06199,
          4.06411,
          4.06544,
          4.06644,
          4.06744,
          4.06822,
          4.06878,
          4.06922,
          4.06978,
          4.07011
         ]
        }
       ],
       "layout": {
        "template": {
         "data": {
          "bar": [
           {
            "error_x": {
             "color": "#2a3f5f"
            },
            "error_y": {
             "color": "#2a3f5f"
            },
            "marker": {
             "line": {
              "color": "#E5ECF6",
              "width": 0.5
             },
             "pattern": {
              "fillmode": "overlay",
              "size": 10,
              "solidity": 0.2
             }
            },
            "type": "bar"
           }
          ],
          "barpolar": [
           {
            "marker": {
             "line": {
              "color": "#E5ECF6",
              "width": 0.5
             },
             "pattern": {
              "fillmode": "overlay",
              "size": 10,
              "solidity": 0.2
             }
            },
            "type": "barpolar"
           }
          ],
          "carpet": [
           {
            "aaxis": {
             "endlinecolor": "#2a3f5f",
             "gridcolor": "white",
             "linecolor": "white",
             "minorgridcolor": "white",
             "startlinecolor": "#2a3f5f"
            },
            "baxis": {
             "endlinecolor": "#2a3f5f",
             "gridcolor": "white",
             "linecolor": "white",
             "minorgridcolor": "white",
             "startlinecolor": "#2a3f5f"
            },
            "type": "carpet"
           }
          ],
          "choropleth": [
           {
            "colorbar": {
             "outlinewidth": 0,
             "ticks": ""
            },
            "type": "choropleth"
           }
          ],
          "contour": [
           {
            "colorbar": {
             "outlinewidth": 0,
             "ticks": ""
            },
            "colorscale": [
             [
              0,
              "#0d0887"
             ],
             [
              0.1111111111111111,
              "#46039f"
             ],
             [
              0.2222222222222222,
              "#7201a8"
             ],
             [
              0.3333333333333333,
              "#9c179e"
             ],
             [
              0.4444444444444444,
              "#bd3786"
             ],
             [
              0.5555555555555556,
              "#d8576b"
             ],
             [
              0.6666666666666666,
              "#ed7953"
             ],
             [
              0.7777777777777778,
              "#fb9f3a"
             ],
             [
              0.8888888888888888,
              "#fdca26"
             ],
             [
              1,
              "#f0f921"
             ]
            ],
            "type": "contour"
           }
          ],
          "contourcarpet": [
           {
            "colorbar": {
             "outlinewidth": 0,
             "ticks": ""
            },
            "type": "contourcarpet"
           }
          ],
          "heatmap": [
           {
            "colorbar": {
             "outlinewidth": 0,
             "ticks": ""
            },
            "colorscale": [
             [
              0,
              "#0d0887"
             ],
             [
              0.1111111111111111,
              "#46039f"
             ],
             [
              0.2222222222222222,
              "#7201a8"
             ],
             [
              0.3333333333333333,
              "#9c179e"
             ],
             [
              0.4444444444444444,
              "#bd3786"
             ],
             [
              0.5555555555555556,
              "#d8576b"
             ],
             [
              0.6666666666666666,
              "#ed7953"
             ],
             [
              0.7777777777777778,
              "#fb9f3a"
             ],
             [
              0.8888888888888888,
              "#fdca26"
             ],
             [
              1,
              "#f0f921"
             ]
            ],
            "type": "heatmap"
           }
          ],
          "heatmapgl": [
           {
            "colorbar": {
             "outlinewidth": 0,
             "ticks": ""
            },
            "colorscale": [
             [
              0,
              "#0d0887"
             ],
             [
              0.1111111111111111,
              "#46039f"
             ],
             [
              0.2222222222222222,
              "#7201a8"
             ],
             [
              0.3333333333333333,
              "#9c179e"
             ],
             [
              0.4444444444444444,
              "#bd3786"
             ],
             [
              0.5555555555555556,
              "#d8576b"
             ],
             [
              0.6666666666666666,
              "#ed7953"
             ],
             [
              0.7777777777777778,
              "#fb9f3a"
             ],
             [
              0.8888888888888888,
              "#fdca26"
             ],
             [
              1,
              "#f0f921"
             ]
            ],
            "type": "heatmapgl"
           }
          ],
          "histogram": [
           {
            "marker": {
             "pattern": {
              "fillmode": "overlay",
              "size": 10,
              "solidity": 0.2
             }
            },
            "type": "histogram"
           }
          ],
          "histogram2d": [
           {
            "colorbar": {
             "outlinewidth": 0,
             "ticks": ""
            },
            "colorscale": [
             [
              0,
              "#0d0887"
             ],
             [
              0.1111111111111111,
              "#46039f"
             ],
             [
              0.2222222222222222,
              "#7201a8"
             ],
             [
              0.3333333333333333,
              "#9c179e"
             ],
             [
              0.4444444444444444,
              "#bd3786"
             ],
             [
              0.5555555555555556,
              "#d8576b"
             ],
             [
              0.6666666666666666,
              "#ed7953"
             ],
             [
              0.7777777777777778,
              "#fb9f3a"
             ],
             [
              0.8888888888888888,
              "#fdca26"
             ],
             [
              1,
              "#f0f921"
             ]
            ],
            "type": "histogram2d"
           }
          ],
          "histogram2dcontour": [
           {
            "colorbar": {
             "outlinewidth": 0,
             "ticks": ""
            },
            "colorscale": [
             [
              0,
              "#0d0887"
             ],
             [
              0.1111111111111111,
              "#46039f"
             ],
             [
              0.2222222222222222,
              "#7201a8"
             ],
             [
              0.3333333333333333,
              "#9c179e"
             ],
             [
              0.4444444444444444,
              "#bd3786"
             ],
             [
              0.5555555555555556,
              "#d8576b"
             ],
             [
              0.6666666666666666,
              "#ed7953"
             ],
             [
              0.7777777777777778,
              "#fb9f3a"
             ],
             [
              0.8888888888888888,
              "#fdca26"
             ],
             [
              1,
              "#f0f921"
             ]
            ],
            "type": "histogram2dcontour"
           }
          ],
          "mesh3d": [
           {
            "colorbar": {
             "outlinewidth": 0,
             "ticks": ""
            },
            "type": "mesh3d"
           }
          ],
          "parcoords": [
           {
            "line": {
             "colorbar": {
              "outlinewidth": 0,
              "ticks": ""
             }
            },
            "type": "parcoords"
           }
          ],
          "pie": [
           {
            "automargin": true,
            "type": "pie"
           }
          ],
          "scatter": [
           {
            "fillpattern": {
             "fillmode": "overlay",
             "size": 10,
             "solidity": 0.2
            },
            "type": "scatter"
           }
          ],
          "scatter3d": [
           {
            "line": {
             "colorbar": {
              "outlinewidth": 0,
              "ticks": ""
             }
            },
            "marker": {
             "colorbar": {
              "outlinewidth": 0,
              "ticks": ""
             }
            },
            "type": "scatter3d"
           }
          ],
          "scattercarpet": [
           {
            "marker": {
             "colorbar": {
              "outlinewidth": 0,
              "ticks": ""
             }
            },
            "type": "scattercarpet"
           }
          ],
          "scattergeo": [
           {
            "marker": {
             "colorbar": {
              "outlinewidth": 0,
              "ticks": ""
             }
            },
            "type": "scattergeo"
           }
          ],
          "scattergl": [
           {
            "marker": {
             "colorbar": {
              "outlinewidth": 0,
              "ticks": ""
             }
            },
            "type": "scattergl"
           }
          ],
          "scattermapbox": [
           {
            "marker": {
             "colorbar": {
              "outlinewidth": 0,
              "ticks": ""
             }
            },
            "type": "scattermapbox"
           }
          ],
          "scatterpolar": [
           {
            "marker": {
             "colorbar": {
              "outlinewidth": 0,
              "ticks": ""
             }
            },
            "type": "scatterpolar"
           }
          ],
          "scatterpolargl": [
           {
            "marker": {
             "colorbar": {
              "outlinewidth": 0,
              "ticks": ""
             }
            },
            "type": "scatterpolargl"
           }
          ],
          "scatterternary": [
           {
            "marker": {
             "colorbar": {
              "outlinewidth": 0,
              "ticks": ""
             }
            },
            "type": "scatterternary"
           }
          ],
          "surface": [
           {
            "colorbar": {
             "outlinewidth": 0,
             "ticks": ""
            },
            "colorscale": [
             [
              0,
              "#0d0887"
             ],
             [
              0.1111111111111111,
              "#46039f"
             ],
             [
              0.2222222222222222,
              "#7201a8"
             ],
             [
              0.3333333333333333,
              "#9c179e"
             ],
             [
              0.4444444444444444,
              "#bd3786"
             ],
             [
              0.5555555555555556,
              "#d8576b"
             ],
             [
              0.6666666666666666,
              "#ed7953"
             ],
             [
              0.7777777777777778,
              "#fb9f3a"
             ],
             [
              0.8888888888888888,
              "#fdca26"
             ],
             [
              1,
              "#f0f921"
             ]
            ],
            "type": "surface"
           }
          ],
          "table": [
           {
            "cells": {
             "fill": {
              "color": "#EBF0F8"
             },
             "line": {
              "color": "white"
             }
            },
            "header": {
             "fill": {
              "color": "#C8D4E3"
             },
             "line": {
              "color": "white"
             }
            },
            "type": "table"
           }
          ]
         },
         "layout": {
          "annotationdefaults": {
           "arrowcolor": "#2a3f5f",
           "arrowhead": 0,
           "arrowwidth": 1
          },
          "autotypenumbers": "strict",
          "coloraxis": {
           "colorbar": {
            "outlinewidth": 0,
            "ticks": ""
           }
          },
          "colorscale": {
           "diverging": [
            [
             0,
             "#8e0152"
            ],
            [
             0.1,
             "#c51b7d"
            ],
            [
             0.2,
             "#de77ae"
            ],
            [
             0.3,
             "#f1b6da"
            ],
            [
             0.4,
             "#fde0ef"
            ],
            [
             0.5,
             "#f7f7f7"
            ],
            [
             0.6,
             "#e6f5d0"
            ],
            [
             0.7,
             "#b8e186"
            ],
            [
             0.8,
             "#7fbc41"
            ],
            [
             0.9,
             "#4d9221"
            ],
            [
             1,
             "#276419"
            ]
           ],
           "sequential": [
            [
             0,
             "#0d0887"
            ],
            [
             0.1111111111111111,
             "#46039f"
            ],
            [
             0.2222222222222222,
             "#7201a8"
            ],
            [
             0.3333333333333333,
             "#9c179e"
            ],
            [
             0.4444444444444444,
             "#bd3786"
            ],
            [
             0.5555555555555556,
             "#d8576b"
            ],
            [
             0.6666666666666666,
             "#ed7953"
            ],
            [
             0.7777777777777778,
             "#fb9f3a"
            ],
            [
             0.8888888888888888,
             "#fdca26"
            ],
            [
             1,
             "#f0f921"
            ]
           ],
           "sequentialminus": [
            [
             0,
             "#0d0887"
            ],
            [
             0.1111111111111111,
             "#46039f"
            ],
            [
             0.2222222222222222,
             "#7201a8"
            ],
            [
             0.3333333333333333,
             "#9c179e"
            ],
            [
             0.4444444444444444,
             "#bd3786"
            ],
            [
             0.5555555555555556,
             "#d8576b"
            ],
            [
             0.6666666666666666,
             "#ed7953"
            ],
            [
             0.7777777777777778,
             "#fb9f3a"
            ],
            [
             0.8888888888888888,
             "#fdca26"
            ],
            [
             1,
             "#f0f921"
            ]
           ]
          },
          "colorway": [
           "#636efa",
           "#EF553B",
           "#00cc96",
           "#ab63fa",
           "#FFA15A",
           "#19d3f3",
           "#FF6692",
           "#B6E880",
           "#FF97FF",
           "#FECB52"
          ],
          "font": {
           "color": "#2a3f5f"
          },
          "geo": {
           "bgcolor": "white",
           "lakecolor": "white",
           "landcolor": "#E5ECF6",
           "showlakes": true,
           "showland": true,
           "subunitcolor": "white"
          },
          "hoverlabel": {
           "align": "left"
          },
          "hovermode": "closest",
          "mapbox": {
           "style": "light"
          },
          "paper_bgcolor": "white",
          "plot_bgcolor": "#E5ECF6",
          "polar": {
           "angularaxis": {
            "gridcolor": "white",
            "linecolor": "white",
            "ticks": ""
           },
           "bgcolor": "#E5ECF6",
           "radialaxis": {
            "gridcolor": "white",
            "linecolor": "white",
            "ticks": ""
           }
          },
          "scene": {
           "xaxis": {
            "backgroundcolor": "#E5ECF6",
            "gridcolor": "white",
            "gridwidth": 2,
            "linecolor": "white",
            "showbackground": true,
            "ticks": "",
            "zerolinecolor": "white"
           },
           "yaxis": {
            "backgroundcolor": "#E5ECF6",
            "gridcolor": "white",
            "gridwidth": 2,
            "linecolor": "white",
            "showbackground": true,
            "ticks": "",
            "zerolinecolor": "white"
           },
           "zaxis": {
            "backgroundcolor": "#E5ECF6",
            "gridcolor": "white",
            "gridwidth": 2,
            "linecolor": "white",
            "showbackground": true,
            "ticks": "",
            "zerolinecolor": "white"
           }
          },
          "shapedefaults": {
           "line": {
            "color": "#2a3f5f"
           }
          },
          "ternary": {
           "aaxis": {
            "gridcolor": "white",
            "linecolor": "white",
            "ticks": ""
           },
           "baxis": {
            "gridcolor": "white",
            "linecolor": "white",
            "ticks": ""
           },
           "bgcolor": "#E5ECF6",
           "caxis": {
            "gridcolor": "white",
            "linecolor": "white",
            "ticks": ""
           }
          },
          "title": {
           "x": 0.05
          },
          "xaxis": {
           "automargin": true,
           "gridcolor": "white",
           "linecolor": "white",
           "ticks": "",
           "title": {
            "standoff": 15
           },
           "zerolinecolor": "white",
           "zerolinewidth": 2
          },
          "yaxis": {
           "automargin": true,
           "gridcolor": "white",
           "linecolor": "white",
           "ticks": "",
           "title": {
            "standoff": 15
           },
           "zerolinecolor": "white",
           "zerolinewidth": 2
          }
         }
        }
       }
      }
     },
     "metadata": {},
     "output_type": "display_data"
    }
   ],
   "source": [
    "go.Figure(\n",
    "    data=go.Scatter(\n",
    "        x=df[\"ProgTime\"],\n",
    "        y=df[\"Voltage\"],\n",
    "    )\n",
    ")"
   ]
  },
  {
   "cell_type": "markdown",
   "id": "e2d000fd",
   "metadata": {},
   "source": [
    "Next, we construct the OCV function from the imported `OCV` data. This is completed with a wrapper method on the `pybamm.Interpolant` function,"
   ]
  },
  {
   "cell_type": "code",
   "execution_count": 6,
   "id": "4c9514d0",
   "metadata": {
    "execution": {
     "iopub.execute_input": "2024-04-14T18:57:46.757965Z",
     "iopub.status.busy": "2024-04-14T18:57:46.757718Z",
     "iopub.status.idle": "2024-04-14T18:57:46.759684Z",
     "shell.execute_reply": "2024-04-14T18:57:46.759446Z"
    }
   },
   "outputs": [],
   "source": [
    "def ocv_LGM50(sto):\n",
    "    name = \"OCV\"\n",
    "    x = (ocp[\"LGM50_5Ah_OCV\"][\"T25\"][\"refSoC\"].reshape(-1) / 100,)\n",
    "    y = ocp[\"LGM50_5Ah_OCV\"][\"T25\"][\"meanOCV\"].reshape(-1)\n",
    "    return pybamm.Interpolant(x, y, sto, name)"
   ]
  },
  {
   "cell_type": "markdown",
   "id": "be2d2cbe",
   "metadata": {},
   "source": [
    "We can construct the two RC parameter set with initial values as listed. Note, the initial SOC is shifted slightly to better match the zero degree data."
   ]
  },
  {
   "cell_type": "code",
   "execution_count": 7,
   "id": "8d4a0635-51da-4998-8b48-deda13a49e39",
   "metadata": {
    "execution": {
     "iopub.execute_input": "2024-04-14T18:57:46.761110Z",
     "iopub.status.busy": "2024-04-14T18:57:46.761005Z",
     "iopub.status.idle": "2024-04-14T18:57:46.763324Z",
     "shell.execute_reply": "2024-04-14T18:57:46.762905Z"
    }
   },
   "outputs": [],
   "source": [
    "params = pybop.ParameterSet(\n",
    "    params_dict={\n",
    "        \"chemistry\": \"ecm\",\n",
    "        \"Initial SoC\": 0.9 - 0.01,\n",
    "        \"Initial temperature [K]\": 25 + 273.15,\n",
    "        \"Cell capacity [A.h]\": 5,\n",
    "        \"Nominal cell capacity [A.h]\": 5,\n",
    "        \"Ambient temperature [K]\": 25 + 273.15,\n",
    "        \"Current function [A]\": 4.85,\n",
    "        \"Upper voltage cut-off [V]\": 4.2,\n",
    "        \"Lower voltage cut-off [V]\": 3.0,\n",
    "        \"Cell thermal mass [J/K]\": 1000,\n",
    "        \"Cell-jig heat transfer coefficient [W/K]\": 10,\n",
    "        \"Jig thermal mass [J/K]\": 500,\n",
    "        \"Jig-air heat transfer coefficient [W/K]\": 10,\n",
    "        \"Open-circuit voltage [V]\": ocv_LGM50,\n",
    "        \"R0 [Ohm]\": 0.005,\n",
    "        \"Element-1 initial overpotential [V]\": 0,\n",
    "        \"Element-2 initial overpotential [V]\": 0,\n",
    "        \"R1 [Ohm]\": 0.0001,\n",
    "        \"R2 [Ohm]\": 0.0001,\n",
    "        \"C1 [F]\": 3000,\n",
    "        \"C2 [F]\": 6924,\n",
    "        \"Entropic change [V/K]\": 0.0004,\n",
    "    }\n",
    ")"
   ]
  },
  {
   "cell_type": "markdown",
   "id": "017695fd-ee78-4113-af18-2fea04cf6126",
   "metadata": {},
   "source": [
    "## Identifying the Parameters\n",
    "\n",
    "Now that the initial parameter set is defined, we can start the PyBOP fitting process. First, we construct the model class with two RC elements and the corresponding parameter set."
   ]
  },
  {
   "cell_type": "code",
   "execution_count": 8,
   "id": "e84b6dd0-8f9e-4b68-b7cb-f3bcb9988802",
   "metadata": {
    "execution": {
     "iopub.execute_input": "2024-04-14T18:57:46.764814Z",
     "iopub.status.busy": "2024-04-14T18:57:46.764636Z",
     "iopub.status.idle": "2024-04-14T18:57:46.808602Z",
     "shell.execute_reply": "2024-04-14T18:57:46.808190Z"
    }
   },
   "outputs": [],
   "source": [
    "model = pybop.empirical.Thevenin(\n",
    "    parameter_set=params, options={\"number of rc elements\": 2}\n",
    ")"
   ]
  },
  {
   "cell_type": "markdown",
   "id": "bf63b4f9-de38-4e70-9472-1de4973a0954",
   "metadata": {},
   "source": [
    "In this example, we are going to try to fit all five parameters at once. To do this, we define a `pybop.Parameter` for each fitting parameter and compile them in pybop.Parameters,"
   ]
  },
  {
   "cell_type": "code",
   "execution_count": 9,
   "id": "e75da7e3-8815-4159-a5ad-600a235b028c",
   "metadata": {
    "execution": {
     "iopub.execute_input": "2024-04-14T18:57:46.810162Z",
     "iopub.status.busy": "2024-04-14T18:57:46.810016Z",
     "iopub.status.idle": "2024-04-14T18:57:46.812076Z",
     "shell.execute_reply": "2024-04-14T18:57:46.811861Z"
    }
   },
   "outputs": [],
   "source": [
    "parameters = pybop.Parameters(\n",
    "    pybop.Parameter(\n",
    "        \"R0 [Ohm]\",\n",
    "        prior=pybop.Gaussian(0.005, 0.0001),\n",
    "        bounds=[1e-6, 2e-1],\n",
    "    ),\n",
    "    pybop.Parameter(\n",
    "        \"R1 [Ohm]\",\n",
    "        prior=pybop.Gaussian(0.0001, 0.0001),\n",
    "        bounds=[1e-6, 1],\n",
    "    ),\n",
    "    pybop.Parameter(\n",
    "        \"R2 [Ohm]\",\n",
    "        prior=pybop.Gaussian(0.0001, 0.0001),\n",
    "        bounds=[1e-6, 1],\n",
    "    ),\n",
    "    pybop.Parameter(\n",
    "        \"C1 [F]\",\n",
    "        prior=pybop.Gaussian(3000, 2500),\n",
    "        bounds=[0.5, 1e4],\n",
    "    ),\n",
    "    pybop.Parameter(\n",
    "        \"C2 [F]\",\n",
    "        prior=pybop.Gaussian(3000, 2500),\n",
    "        bounds=[0.5, 1e4],\n",
    "    ),\n",
    ")"
   ]
  },
  {
   "cell_type": "markdown",
   "id": "3ab5afb4-5007-4cef-9802-c25dc077e466",
   "metadata": {},
   "source": [
    "We can now form the `pybop.Dataset` from the experimental data. In this situation, the applied current convention is different between the experimental data and PyBOP's convention. This is solved by negating the vector on construction."
   ]
  },
  {
   "cell_type": "code",
   "execution_count": 10,
   "id": "c346b106-99a9-46bc-8b5d-d330ed911660",
   "metadata": {
    "execution": {
     "iopub.execute_input": "2024-04-14T18:57:46.813333Z",
     "iopub.status.busy": "2024-04-14T18:57:46.813251Z",
     "iopub.status.idle": "2024-04-14T18:57:46.815279Z",
     "shell.execute_reply": "2024-04-14T18:57:46.815045Z"
    }
   },
   "outputs": [],
   "source": [
    "dataset = pybop.Dataset(\n",
    "    {\n",
    "        \"Time [s]\": df[\"ProgTime\"].values,\n",
    "        \"Current function [A]\": -df[\"Current\"].values,\n",
    "        \"Voltage [V]\": df[\"Voltage\"].values,\n",
    "    }\n",
    ")"
   ]
  },
  {
   "cell_type": "markdown",
   "id": "8ce6c438-a402-4b1b-ad8a-598ceee74f2f",
   "metadata": {},
   "source": [
    "The `FittingProblem` class provides us with a class to hold all of the objects we need to evaluate our selected `SumSquaredError` cost function. "
   ]
  },
  {
   "cell_type": "code",
   "execution_count": 11,
   "id": "62369a4d-96e5-49d2-8951-4468b3fc5831",
   "metadata": {
    "execution": {
     "iopub.execute_input": "2024-04-14T18:57:46.816520Z",
     "iopub.status.busy": "2024-04-14T18:57:46.816445Z",
     "iopub.status.idle": "2024-04-14T18:57:46.825773Z",
     "shell.execute_reply": "2024-04-14T18:57:46.825420Z"
    }
   },
   "outputs": [],
   "source": [
    "problem = pybop.FittingProblem(model, parameters, dataset)\n",
    "cost = pybop.SumSquaredError(problem)"
   ]
  },
  {
   "cell_type": "markdown",
   "id": "ab62ee34-85ee-4b5a-ab25-3bd7dd47f312",
   "metadata": {},
   "source": [
    "The cost function can be interrogated manually via the `cost([params])` API. In this example, that would look like the following,"
   ]
  },
  {
   "cell_type": "code",
   "execution_count": 12,
   "id": "f69b34f5-0b46-4646-acbe-991046997b98",
   "metadata": {
    "execution": {
     "iopub.execute_input": "2024-04-14T18:57:46.827101Z",
     "iopub.status.busy": "2024-04-14T18:57:46.827016Z",
     "iopub.status.idle": "2024-04-14T18:57:46.848523Z",
     "shell.execute_reply": "2024-04-14T18:57:46.848271Z"
    }
   },
   "outputs": [
    {
     "data": {
      "text/plain": [
       "1.176754404015497"
      ]
     },
     "execution_count": 12,
     "metadata": {},
     "output_type": "execute_result"
    }
   ],
   "source": [
    "cost([0.01, 0.01, 0.01, 20000, 20000])"
   ]
  },
  {
   "cell_type": "markdown",
   "id": "3ef5b0da-f755-43c6-8904-79d7ee0f218c",
   "metadata": {},
   "source": [
    "Next, we construct the optimisation class with our algorithm of choice and run it. In this case, we select the PSO method as it provides global optimisation capability. After optimisation, we can compare the initial parameters to the identified parameters."
   ]
  },
  {
   "cell_type": "code",
   "execution_count": 13,
   "id": "6244882e-11ad-4bfe-a512-f1c687a06a08",
   "metadata": {
    "execution": {
     "iopub.execute_input": "2024-04-14T18:57:46.853030Z",
     "iopub.status.busy": "2024-04-14T18:57:46.852901Z",
     "iopub.status.idle": "2024-04-14T18:58:02.492589Z",
     "shell.execute_reply": "2024-04-14T18:58:02.491566Z"
    }
   },
   "outputs": [
    {
     "name": "stdout",
     "output_type": "stream",
     "text": [
      "Initial parameters: [5.08110404e-03 2.19403168e-04 2.02006632e-04 5.47363260e+03\n",
      " 7.27658653e+03]\n",
      "Estimated parameters: [1.69025923e-02 8.83558474e-01 3.20312538e-02 1.46667923e+03\n",
      " 2.39837028e+00]\n"
     ]
    }
   ],
   "source": [
    "optim = pybop.PSO(cost, max_unchanged_iterations=55, threshold=1e-6)\n",
    "x, final_cost = optim.run()\n",
    "print(\"Initial parameters:\", optim.x0)\n",
    "print(\"Estimated parameters:\", x)"
   ]
  },
  {
   "cell_type": "markdown",
   "id": "93ee37a3-67f6-4c6a-a05d-507700cfa9da",
   "metadata": {},
   "source": [
    "## Plotting and Visualisation\n",
    "\n",
    "PyBOP provides various plotting utilities to visualise the results of the optimisation. The `quick_plot` method provides a fast scatter of two variables. For this example, we plot the identified parameter set to the target dataset. The default plot is voltage vs time as shown below."
   ]
  },
  {
   "cell_type": "code",
   "execution_count": 14,
   "id": "2cec5659-31fa-4164-82f0-4467a4894729",
   "metadata": {
    "execution": {
     "iopub.execute_input": "2024-04-14T18:58:02.495253Z",
     "iopub.status.busy": "2024-04-14T18:58:02.495052Z",
     "iopub.status.idle": "2024-04-14T18:58:02.969070Z",
     "shell.execute_reply": "2024-04-14T18:58:02.968517Z"
    }
   },
   "outputs": [
    {
     "data": {
      "image/svg+xml": [
       "<svg class=\"main-svg\" xmlns=\"http://www.w3.org/2000/svg\" xmlns:xlink=\"http://www.w3.org/1999/xlink\" width=\"700\" height=\"500\" style=\"\" viewBox=\"0 0 700 500\"><rect x=\"0\" y=\"0\" width=\"700\" height=\"500\" style=\"fill: rgb(255, 255, 255); fill-opacity: 1;\"/><defs id=\"defs-7b29bf\"><g class=\"clips\"><clipPath id=\"clip7b29bfxyplot\" class=\"plotclip\"><rect width=\"492\" height=\"320\"/></clipPath><clipPath class=\"axesclip\" id=\"clip7b29bfx\"><rect x=\"80\" y=\"0\" width=\"492\" height=\"500\"/></clipPath><clipPath class=\"axesclip\" id=\"clip7b29bfy\"><rect x=\"0\" y=\"100\" width=\"700\" height=\"320\"/></clipPath><clipPath class=\"axesclip\" id=\"clip7b29bfxy\"><rect x=\"80\" y=\"100\" width=\"492\" height=\"320\"/></clipPath></g><g class=\"gradients\"/><g class=\"patterns\"/></defs><g class=\"bglayer\"><rect class=\"bg\" x=\"80\" y=\"100\" width=\"492\" height=\"320\" style=\"fill: rgb(229, 236, 246); fill-opacity: 1; stroke-width: 0;\"/></g><g class=\"layer-below\"><g class=\"imagelayer\"/><g class=\"shapelayer\"/></g><g class=\"cartesianlayer\"><g class=\"subplot xy\"><g class=\"layer-subplot\"><g class=\"shapelayer\"/><g class=\"imagelayer\"/></g><g class=\"minor-gridlayer\"><g class=\"x\"/><g class=\"y\"/></g><g class=\"gridlayer\"><g class=\"x\"><path class=\"xgrid crisp\" transform=\"translate(216.59,0)\" d=\"M0,100v320\" style=\"stroke: rgb(255, 255, 255); stroke-opacity: 1; stroke-width: 1px;\"/><path class=\"xgrid crisp\" transform=\"translate(324.83000000000004,0)\" d=\"M0,100v320\" style=\"stroke: rgb(255, 255, 255); stroke-opacity: 1; stroke-width: 1px;\"/><path class=\"xgrid crisp\" transform=\"translate(433.07,0)\" d=\"M0,100v320\" style=\"stroke: rgb(255, 255, 255); stroke-opacity: 1; stroke-width: 1px;\"/><path class=\"xgrid crisp\" transform=\"translate(541.31,0)\" d=\"M0,100v320\" style=\"stroke: rgb(255, 255, 255); stroke-opacity: 1; stroke-width: 1px;\"/></g><g class=\"y\"><path class=\"ygrid crisp\" transform=\"translate(0,366.24)\" d=\"M80,0h492\" style=\"stroke: rgb(255, 255, 255); stroke-opacity: 1; stroke-width: 1px;\"/><path class=\"ygrid crisp\" transform=\"translate(0,278.53999999999996)\" d=\"M80,0h492\" style=\"stroke: rgb(255, 255, 255); stroke-opacity: 1; stroke-width: 1px;\"/><path class=\"ygrid crisp\" transform=\"translate(0,190.85)\" d=\"M80,0h492\" style=\"stroke: rgb(255, 255, 255); stroke-opacity: 1; stroke-width: 1px;\"/><path class=\"ygrid crisp\" transform=\"translate(0,103.16)\" d=\"M80,0h492\" style=\"stroke: rgb(255, 255, 255); stroke-opacity: 1; stroke-width: 1px;\"/></g></g><g class=\"zerolinelayer\"><path class=\"xzl zl crisp\" transform=\"translate(108.35,0)\" d=\"M0,100v320\" style=\"stroke: rgb(255, 255, 255); stroke-opacity: 1; stroke-width: 2px;\"/></g><path class=\"xlines-below\"/><path class=\"ylines-below\"/><g class=\"overlines-below\"/><g class=\"xaxislayer-below\"/><g class=\"yaxislayer-below\"/><g class=\"overaxes-below\"/><g class=\"plot\" transform=\"translate(80,100)\" clip-path=\"url(#clip7b29bfxyplot)\"><g class=\"scatterlayer mlayer\"><g class=\"trace scatter tracec1b4c8\" style=\"stroke-miterlimit: 2; opacity: 1;\"><g class=\"fills\"><g><path class=\"js-fill\" d=\"M28.35,16L28.74,16L30.97,153.22L33.78,216.65L35.78,226.95L37.42,229.94L40.47,231.76L50.71,233.5L53.76,233.94L246.24,261.34L246.67,170.49L268.73,46.8L290.12,46.78L463.65,46.6L463.65,89.26L268.73,89.46L246.67,213.15L246.24,304L245.18,303.85L165.62,292.53L163.33,292.21L40.47,274.42L37.42,272.6L35.78,269.61L33.78,259.32L30.97,195.88L28.74,58.66L28.35,58.66Z\" style=\"fill: rgb(255, 229, 204); fill-opacity: 0.8; stroke-width: 0;\"/></g></g><g class=\"errorbars\"/><g class=\"lines\"><path class=\"js-line\" d=\"M28.35,16L28.74,16L30.97,153.22L33.78,216.65L35.78,226.95L37.42,229.94L40.47,231.76L50.71,233.5L53.76,233.94L246.24,261.34L246.67,170.49L268.73,46.8L290.12,46.78L463.65,46.6L463.65,89.26L268.73,89.46L246.67,213.15L246.24,304L245.18,303.85L165.62,292.53L163.33,292.21L40.47,274.42L37.42,272.6L35.78,269.61L33.78,259.32L30.97,195.88L28.74,58.66L28.35,58.66\" style=\"vector-effect: none; fill: none; stroke: rgb(255, 255, 255); stroke-opacity: 0; stroke-width: 2px; opacity: 1;\"/></g><g class=\"points\"/><g class=\"text\"/></g><g class=\"trace scatter trace4a1041\" style=\"stroke-miterlimit: 2; opacity: 1;\"><g class=\"fills\"/><g class=\"errorbars\"/><g class=\"lines\"/><g class=\"points\"><path class=\"point\" transform=\"translate(28.35,36.86)\" d=\"M3,0A3,3 0 1,1 0,-3A3,3 0 0,1 3,0Z\" style=\"opacity: 1; stroke-width: 0px; fill: rgb(239, 85, 59); fill-opacity: 1;\"/><path class=\"point\" transform=\"translate(28.74,235.63)\" d=\"M3,0A3,3 0 1,1 0,-3A3,3 0 0,1 3,0Z\" style=\"opacity: 1; stroke-width: 0px; fill: rgb(239, 85, 59); fill-opacity: 1;\"/><path class=\"point\" transform=\"translate(30.97,245.96)\" d=\"M3,0A3,3 0 1,1 0,-3A3,3 0 0,1 3,0Z\" style=\"opacity: 1; stroke-width: 0px; fill: rgb(239, 85, 59); fill-opacity: 1;\"/><path class=\"point\" transform=\"translate(33.78,245.96)\" d=\"M3,0A3,3 0 1,1 0,-3A3,3 0 0,1 3,0Z\" style=\"opacity: 1; stroke-width: 0px; fill: rgb(239, 85, 59); fill-opacity: 1;\"/><path class=\"point\" transform=\"translate(35.78,249.49)\" d=\"M3,0A3,3 0 1,1 0,-3A3,3 0 0,1 3,0Z\" style=\"opacity: 1; stroke-width: 0px; fill: rgb(239, 85, 59); fill-opacity: 1;\"/><path class=\"point\" transform=\"translate(37.42,250.45)\" d=\"M3,0A3,3 0 1,1 0,-3A3,3 0 0,1 3,0Z\" style=\"opacity: 1; stroke-width: 0px; fill: rgb(239, 85, 59); fill-opacity: 1;\"/><path class=\"point\" transform=\"translate(40.47,250.64)\" d=\"M3,0A3,3 0 1,1 0,-3A3,3 0 0,1 3,0Z\" style=\"opacity: 1; stroke-width: 0px; fill: rgb(239, 85, 59); fill-opacity: 1;\"/><path class=\"point\" transform=\"translate(41.71,251.24)\" d=\"M3,0A3,3 0 1,1 0,-3A3,3 0 0,1 3,0Z\" style=\"opacity: 1; stroke-width: 0px; fill: rgb(239, 85, 59); fill-opacity: 1;\"/><path class=\"point\" transform=\"translate(44.04,252.99)\" d=\"M3,0A3,3 0 1,1 0,-3A3,3 0 0,1 3,0Z\" style=\"opacity: 1; stroke-width: 0px; fill: rgb(239, 85, 59); fill-opacity: 1;\"/><path class=\"point\" transform=\"translate(46.9,252.99)\" d=\"M3,0A3,3 0 1,1 0,-3A3,3 0 0,1 3,0Z\" style=\"opacity: 1; stroke-width: 0px; fill: rgb(239, 85, 59); fill-opacity: 1;\"/><path class=\"point\" transform=\"translate(48.37,253.57)\" d=\"M3,0A3,3 0 1,1 0,-3A3,3 0 0,1 3,0Z\" style=\"opacity: 1; stroke-width: 0px; fill: rgb(239, 85, 59); fill-opacity: 1;\"/><path class=\"point\" transform=\"translate(50.71,254.94)\" d=\"M3,0A3,3 0 1,1 0,-3A3,3 0 0,1 3,0Z\" style=\"opacity: 1; stroke-width: 0px; fill: rgb(239, 85, 59); fill-opacity: 1;\"/><path class=\"point\" transform=\"translate(53.76,254.94)\" d=\"M3,0A3,3 0 1,1 0,-3A3,3 0 0,1 3,0Z\" style=\"opacity: 1; stroke-width: 0px; fill: rgb(239, 85, 59); fill-opacity: 1;\"/><path class=\"point\" transform=\"translate(54.98,255.52)\" d=\"M3,0A3,3 0 1,1 0,-3A3,3 0 0,1 3,0Z\" style=\"opacity: 1; stroke-width: 0px; fill: rgb(239, 85, 59); fill-opacity: 1;\"/><path class=\"point\" transform=\"translate(57.42,256.89)\" d=\"M3,0A3,3 0 1,1 0,-3A3,3 0 0,1 3,0Z\" style=\"opacity: 1; stroke-width: 0px; fill: rgb(239, 85, 59); fill-opacity: 1;\"/><path class=\"point\" transform=\"translate(59.03,257.27)\" d=\"M3,0A3,3 0 1,1 0,-3A3,3 0 0,1 3,0Z\" style=\"opacity: 1; stroke-width: 0px; fill: rgb(239, 85, 59); fill-opacity: 1;\"/><path class=\"point\" transform=\"translate(61.62,257.27)\" d=\"M3,0A3,3 0 1,1 0,-3A3,3 0 0,1 3,0Z\" style=\"opacity: 1; stroke-width: 0px; fill: rgb(239, 85, 59); fill-opacity: 1;\"/><path class=\"point\" transform=\"translate(64.03,258.64)\" d=\"M3,0A3,3 0 1,1 0,-3A3,3 0 0,1 3,0Z\" style=\"opacity: 1; stroke-width: 0px; fill: rgb(239, 85, 59); fill-opacity: 1;\"/><path class=\"point\" transform=\"translate(65.5,258.83)\" d=\"M3,0A3,3 0 1,1 0,-3A3,3 0 0,1 3,0Z\" style=\"opacity: 1; stroke-width: 0px; fill: rgb(239, 85, 59); fill-opacity: 1;\"/><path class=\"point\" transform=\"translate(67.77,258.83)\" d=\"M3,0A3,3 0 1,1 0,-3A3,3 0 0,1 3,0Z\" style=\"opacity: 1; stroke-width: 0px; fill: rgb(239, 85, 59); fill-opacity: 1;\"/><path class=\"point\" transform=\"translate(69.96,260.01)\" d=\"M3,0A3,3 0 1,1 0,-3A3,3 0 0,1 3,0Z\" style=\"opacity: 1; stroke-width: 0px; fill: rgb(239, 85, 59); fill-opacity: 1;\"/><path class=\"point\" transform=\"translate(71.67,260.4)\" d=\"M3,0A3,3 0 1,1 0,-3A3,3 0 0,1 3,0Z\" style=\"opacity: 1; stroke-width: 0px; fill: rgb(239, 85, 59); fill-opacity: 1;\"/><path class=\"point\" transform=\"translate(74.92,260.59)\" d=\"M3,0A3,3 0 1,1 0,-3A3,3 0 0,1 3,0Z\" style=\"opacity: 1; stroke-width: 0px; fill: rgb(239, 85, 59); fill-opacity: 1;\"/><path class=\"point\" transform=\"translate(76.6,261.57)\" d=\"M3,0A3,3 0 1,1 0,-3A3,3 0 0,1 3,0Z\" style=\"opacity: 1; stroke-width: 0px; fill: rgb(239, 85, 59); fill-opacity: 1;\"/><path class=\"point\" transform=\"translate(80.95,261.76)\" d=\"M3,0A3,3 0 1,1 0,-3A3,3 0 0,1 3,0Z\" style=\"opacity: 1; stroke-width: 0px; fill: rgb(239, 85, 59); fill-opacity: 1;\"/><path class=\"point\" transform=\"translate(82.43,262.36)\" d=\"M3,0A3,3 0 1,1 0,-3A3,3 0 0,1 3,0Z\" style=\"opacity: 1; stroke-width: 0px; fill: rgb(239, 85, 59); fill-opacity: 1;\"/><path class=\"point\" transform=\"translate(83.21,262.94)\" d=\"M3,0A3,3 0 1,1 0,-3A3,3 0 0,1 3,0Z\" style=\"opacity: 1; stroke-width: 0px; fill: rgb(239, 85, 59); fill-opacity: 1;\"/><path class=\"point\" transform=\"translate(86.84,263.32)\" d=\"M3,0A3,3 0 1,1 0,-3A3,3 0 0,1 3,0Z\" style=\"opacity: 1; stroke-width: 0px; fill: rgb(239, 85, 59); fill-opacity: 1;\"/><path class=\"point\" transform=\"translate(88.94,263.32)\" d=\"M3,0A3,3 0 1,1 0,-3A3,3 0 0,1 3,0Z\" style=\"opacity: 1; stroke-width: 0px; fill: rgb(239, 85, 59); fill-opacity: 1;\"/><path class=\"point\" transform=\"translate(89.79,264.11)\" d=\"M3,0A3,3 0 1,1 0,-3A3,3 0 0,1 3,0Z\" style=\"opacity: 1; stroke-width: 0px; fill: rgb(239, 85, 59); fill-opacity: 1;\"/><path class=\"point\" transform=\"translate(93.34,264.5)\" d=\"M3,0A3,3 0 1,1 0,-3A3,3 0 0,1 3,0Z\" style=\"opacity: 1; stroke-width: 0px; fill: rgb(239, 85, 59); fill-opacity: 1;\"/><path class=\"point\" transform=\"translate(95.52,264.69)\" d=\"M3,0A3,3 0 1,1 0,-3A3,3 0 0,1 3,0Z\" style=\"opacity: 1; stroke-width: 0px; fill: rgb(239, 85, 59); fill-opacity: 1;\"/><path class=\"point\" transform=\"translate(96.41,265.27)\" d=\"M3,0A3,3 0 1,1 0,-3A3,3 0 0,1 3,0Z\" style=\"opacity: 1; stroke-width: 0px; fill: rgb(239, 85, 59); fill-opacity: 1;\"/><path class=\"point\" transform=\"translate(99.05,265.67)\" d=\"M3,0A3,3 0 1,1 0,-3A3,3 0 0,1 3,0Z\" style=\"opacity: 1; stroke-width: 0px; fill: rgb(239, 85, 59); fill-opacity: 1;\"/><path class=\"point\" transform=\"translate(101.02,266.06)\" d=\"M3,0A3,3 0 1,1 0,-3A3,3 0 0,1 3,0Z\" style=\"opacity: 1; stroke-width: 0px; fill: rgb(239, 85, 59); fill-opacity: 1;\"/><path class=\"point\" transform=\"translate(103.82,266.25)\" d=\"M3,0A3,3 0 1,1 0,-3A3,3 0 0,1 3,0Z\" style=\"opacity: 1; stroke-width: 0px; fill: rgb(239, 85, 59); fill-opacity: 1;\"/><path class=\"point\" transform=\"translate(104.66,266.64)\" d=\"M3,0A3,3 0 1,1 0,-3A3,3 0 0,1 3,0Z\" style=\"opacity: 1; stroke-width: 0px; fill: rgb(239, 85, 59); fill-opacity: 1;\"/><path class=\"point\" transform=\"translate(108.92,267.03)\" d=\"M3,0A3,3 0 1,1 0,-3A3,3 0 0,1 3,0Z\" style=\"opacity: 1; stroke-width: 0px; fill: rgb(239, 85, 59); fill-opacity: 1;\"/><path class=\"point\" transform=\"translate(109.79,267.43)\" d=\"M3,0A3,3 0 1,1 0,-3A3,3 0 0,1 3,0Z\" style=\"opacity: 1; stroke-width: 0px; fill: rgb(239, 85, 59); fill-opacity: 1;\"/><path class=\"point\" transform=\"translate(111.31,267.81)\" d=\"M3,0A3,3 0 1,1 0,-3A3,3 0 0,1 3,0Z\" style=\"opacity: 1; stroke-width: 0px; fill: rgb(239, 85, 59); fill-opacity: 1;\"/><path class=\"point\" transform=\"translate(115.44,268.2)\" d=\"M3,0A3,3 0 1,1 0,-3A3,3 0 0,1 3,0Z\" style=\"opacity: 1; stroke-width: 0px; fill: rgb(239, 85, 59); fill-opacity: 1;\"/><path class=\"point\" transform=\"translate(116.44,268.59)\" d=\"M3,0A3,3 0 1,1 0,-3A3,3 0 0,1 3,0Z\" style=\"opacity: 1; stroke-width: 0px; fill: rgb(239, 85, 59); fill-opacity: 1;\"/><path class=\"point\" transform=\"translate(117.97,268.99)\" d=\"M3,0A3,3 0 1,1 0,-3A3,3 0 0,1 3,0Z\" style=\"opacity: 1; stroke-width: 0px; fill: rgb(239, 85, 59); fill-opacity: 1;\"/><path class=\"point\" transform=\"translate(121.05,269.18)\" d=\"M3,0A3,3 0 1,1 0,-3A3,3 0 0,1 3,0Z\" style=\"opacity: 1; stroke-width: 0px; fill: rgb(239, 85, 59); fill-opacity: 1;\"/><path class=\"point\" transform=\"translate(122.74,269.57)\" d=\"M3,0A3,3 0 1,1 0,-3A3,3 0 0,1 3,0Z\" style=\"opacity: 1; stroke-width: 0px; fill: rgb(239, 85, 59); fill-opacity: 1;\"/><path class=\"point\" transform=\"translate(124.64,269.95)\" d=\"M3,0A3,3 0 1,1 0,-3A3,3 0 0,1 3,0Z\" style=\"opacity: 1; stroke-width: 0px; fill: rgb(239, 85, 59); fill-opacity: 1;\"/><path class=\"point\" transform=\"translate(125.92,270.15)\" d=\"M3,0A3,3 0 1,1 0,-3A3,3 0 0,1 3,0Z\" style=\"opacity: 1; stroke-width: 0px; fill: rgb(239, 85, 59); fill-opacity: 1;\"/><path class=\"point\" transform=\"translate(128.65,270.34)\" d=\"M3,0A3,3 0 1,1 0,-3A3,3 0 0,1 3,0Z\" style=\"opacity: 1; stroke-width: 0px; fill: rgb(239, 85, 59); fill-opacity: 1;\"/><path class=\"point\" transform=\"translate(130.66,270.74)\" d=\"M3,0A3,3 0 1,1 0,-3A3,3 0 0,1 3,0Z\" style=\"opacity: 1; stroke-width: 0px; fill: rgb(239, 85, 59); fill-opacity: 1;\"/><path class=\"point\" transform=\"translate(135.46,271.32)\" d=\"M3,0A3,3 0 1,1 0,-3A3,3 0 0,1 3,0Z\" style=\"opacity: 1; stroke-width: 0px; fill: rgb(239, 85, 59); fill-opacity: 1;\"/><path class=\"point\" transform=\"translate(136.37,271.52)\" d=\"M3,0A3,3 0 1,1 0,-3A3,3 0 0,1 3,0Z\" style=\"opacity: 1; stroke-width: 0px; fill: rgb(239, 85, 59); fill-opacity: 1;\"/><path class=\"point\" transform=\"translate(137.3,271.9)\" d=\"M3,0A3,3 0 1,1 0,-3A3,3 0 0,1 3,0Z\" style=\"opacity: 1; stroke-width: 0px; fill: rgb(239, 85, 59); fill-opacity: 1;\"/><path class=\"point\" transform=\"translate(139.49,272.11)\" d=\"M3,0A3,3 0 1,1 0,-3A3,3 0 0,1 3,0Z\" style=\"opacity: 1; stroke-width: 0px; fill: rgb(239, 85, 59); fill-opacity: 1;\"/><path class=\"point\" transform=\"translate(141.96,272.11)\" d=\"M3,0A3,3 0 1,1 0,-3A3,3 0 0,1 3,0Z\" style=\"opacity: 1; stroke-width: 0px; fill: rgb(239, 85, 59); fill-opacity: 1;\"/><path class=\"point\" transform=\"translate(143.93,272.88)\" d=\"M3,0A3,3 0 1,1 0,-3A3,3 0 0,1 3,0Z\" style=\"opacity: 1; stroke-width: 0px; fill: rgb(239, 85, 59); fill-opacity: 1;\"/><path class=\"point\" transform=\"translate(146.85,273.08)\" d=\"M3,0A3,3 0 1,1 0,-3A3,3 0 0,1 3,0Z\" style=\"opacity: 1; stroke-width: 0px; fill: rgb(239, 85, 59); fill-opacity: 1;\"/><path class=\"point\" transform=\"translate(148.99,273.08)\" d=\"M3,0A3,3 0 1,1 0,-3A3,3 0 0,1 3,0Z\" style=\"opacity: 1; stroke-width: 0px; fill: rgb(239, 85, 59); fill-opacity: 1;\"/><path class=\"point\" transform=\"translate(149.88,273.46)\" d=\"M3,0A3,3 0 1,1 0,-3A3,3 0 0,1 3,0Z\" style=\"opacity: 1; stroke-width: 0px; fill: rgb(239, 85, 59); fill-opacity: 1;\"/><path class=\"point\" transform=\"translate(152.98,273.87)\" d=\"M3,0A3,3 0 1,1 0,-3A3,3 0 0,1 3,0Z\" style=\"opacity: 1; stroke-width: 0px; fill: rgb(239, 85, 59); fill-opacity: 1;\"/><path class=\"point\" transform=\"translate(155.53,274.06)\" d=\"M3,0A3,3 0 1,1 0,-3A3,3 0 0,1 3,0Z\" style=\"opacity: 1; stroke-width: 0px; fill: rgb(239, 85, 59); fill-opacity: 1;\"/><path class=\"point\" transform=\"translate(156.64,274.44)\" d=\"M3,0A3,3 0 1,1 0,-3A3,3 0 0,1 3,0Z\" style=\"opacity: 1; stroke-width: 0px; fill: rgb(239, 85, 59); fill-opacity: 1;\"/><path class=\"point\" transform=\"translate(159.69,274.64)\" d=\"M3,0A3,3 0 1,1 0,-3A3,3 0 0,1 3,0Z\" style=\"opacity: 1; stroke-width: 0px; fill: rgb(239, 85, 59); fill-opacity: 1;\"/><path class=\"point\" transform=\"translate(162.18,274.83)\" d=\"M3,0A3,3 0 1,1 0,-3A3,3 0 0,1 3,0Z\" style=\"opacity: 1; stroke-width: 0px; fill: rgb(239, 85, 59); fill-opacity: 1;\"/><path class=\"point\" transform=\"translate(163.33,275.22)\" d=\"M3,0A3,3 0 1,1 0,-3A3,3 0 0,1 3,0Z\" style=\"opacity: 1; stroke-width: 0px; fill: rgb(239, 85, 59); fill-opacity: 1;\"/><path class=\"point\" transform=\"translate(165.62,275.43)\" d=\"M3,0A3,3 0 1,1 0,-3A3,3 0 0,1 3,0Z\" style=\"opacity: 1; stroke-width: 0px; fill: rgb(239, 85, 59); fill-opacity: 1;\"/><path class=\"point\" transform=\"translate(169.32,275.81)\" d=\"M3,0A3,3 0 1,1 0,-3A3,3 0 0,1 3,0Z\" style=\"opacity: 1; stroke-width: 0px; fill: rgb(239, 85, 59); fill-opacity: 1;\"/><path class=\"point\" transform=\"translate(170.77,276.01)\" d=\"M3,0A3,3 0 1,1 0,-3A3,3 0 0,1 3,0Z\" style=\"opacity: 1; stroke-width: 0px; fill: rgb(239, 85, 59); fill-opacity: 1;\"/><path class=\"point\" transform=\"translate(171.62,276.39)\" d=\"M3,0A3,3 0 1,1 0,-3A3,3 0 0,1 3,0Z\" style=\"opacity: 1; stroke-width: 0px; fill: rgb(239, 85, 59); fill-opacity: 1;\"/><path class=\"point\" transform=\"translate(174.97,276.58)\" d=\"M3,0A3,3 0 1,1 0,-3A3,3 0 0,1 3,0Z\" style=\"opacity: 1; stroke-width: 0px; fill: rgb(239, 85, 59); fill-opacity: 1;\"/><path class=\"point\" transform=\"translate(176.77,276.78)\" d=\"M3,0A3,3 0 1,1 0,-3A3,3 0 0,1 3,0Z\" style=\"opacity: 1; stroke-width: 0px; fill: rgb(239, 85, 59); fill-opacity: 1;\"/><path class=\"point\" transform=\"translate(178.31,277.18)\" d=\"M3,0A3,3 0 1,1 0,-3A3,3 0 0,1 3,0Z\" style=\"opacity: 1; stroke-width: 0px; fill: rgb(239, 85, 59); fill-opacity: 1;\"/><path class=\"point\" transform=\"translate(181.32,277.37)\" d=\"M3,0A3,3 0 1,1 0,-3A3,3 0 0,1 3,0Z\" style=\"opacity: 1; stroke-width: 0px; fill: rgb(239, 85, 59); fill-opacity: 1;\"/><path class=\"point\" transform=\"translate(183.16,277.57)\" d=\"M3,0A3,3 0 1,1 0,-3A3,3 0 0,1 3,0Z\" style=\"opacity: 1; stroke-width: 0px; fill: rgb(239, 85, 59); fill-opacity: 1;\"/><path class=\"point\" transform=\"translate(185.04,277.95)\" d=\"M3,0A3,3 0 1,1 0,-3A3,3 0 0,1 3,0Z\" style=\"opacity: 1; stroke-width: 0px; fill: rgb(239, 85, 59); fill-opacity: 1;\"/><path class=\"point\" transform=\"translate(186.55,278.14)\" d=\"M3,0A3,3 0 1,1 0,-3A3,3 0 0,1 3,0Z\" style=\"opacity: 1; stroke-width: 0px; fill: rgb(239, 85, 59); fill-opacity: 1;\"/><path class=\"point\" transform=\"translate(189.87,278.14)\" d=\"M3,0A3,3 0 1,1 0,-3A3,3 0 0,1 3,0Z\" style=\"opacity: 1; stroke-width: 0px; fill: rgb(239, 85, 59); fill-opacity: 1;\"/><path class=\"point\" transform=\"translate(191.71,278.74)\" d=\"M3,0A3,3 0 1,1 0,-3A3,3 0 0,1 3,0Z\" style=\"opacity: 1; stroke-width: 0px; fill: rgb(239, 85, 59); fill-opacity: 1;\"/><path class=\"point\" transform=\"translate(196.19,278.93)\" d=\"M3,0A3,3 0 1,1 0,-3A3,3 0 0,1 3,0Z\" style=\"opacity: 1; stroke-width: 0px; fill: rgb(239, 85, 59); fill-opacity: 1;\"/><path class=\"point\" transform=\"translate(197.53,279.13)\" d=\"M3,0A3,3 0 1,1 0,-3A3,3 0 0,1 3,0Z\" style=\"opacity: 1; stroke-width: 0px; fill: rgb(239, 85, 59); fill-opacity: 1;\"/><path class=\"point\" transform=\"translate(198.35,279.51)\" d=\"M3,0A3,3 0 1,1 0,-3A3,3 0 0,1 3,0Z\" style=\"opacity: 1; stroke-width: 0px; fill: rgb(239, 85, 59); fill-opacity: 1;\"/><path class=\"point\" transform=\"translate(199.89,279.71)\" d=\"M3,0A3,3 0 1,1 0,-3A3,3 0 0,1 3,0Z\" style=\"opacity: 1; stroke-width: 0px; fill: rgb(239, 85, 59); fill-opacity: 1;\"/><path class=\"point\" transform=\"translate(202.64,279.9)\" d=\"M3,0A3,3 0 1,1 0,-3A3,3 0 0,1 3,0Z\" style=\"opacity: 1; stroke-width: 0px; fill: rgb(239, 85, 59); fill-opacity: 1;\"/><path class=\"point\" transform=\"translate(205,280.09)\" d=\"M3,0A3,3 0 1,1 0,-3A3,3 0 0,1 3,0Z\" style=\"opacity: 1; stroke-width: 0px; fill: rgb(239, 85, 59); fill-opacity: 1;\"/><path class=\"point\" transform=\"translate(206.58,280.49)\" d=\"M3,0A3,3 0 1,1 0,-3A3,3 0 0,1 3,0Z\" style=\"opacity: 1; stroke-width: 0px; fill: rgb(239, 85, 59); fill-opacity: 1;\"/><path class=\"point\" transform=\"translate(208.42,280.69)\" d=\"M3,0A3,3 0 1,1 0,-3A3,3 0 0,1 3,0Z\" style=\"opacity: 1; stroke-width: 0px; fill: rgb(239, 85, 59); fill-opacity: 1;\"/><path class=\"point\" transform=\"translate(210.78,280.69)\" d=\"M3,0A3,3 0 1,1 0,-3A3,3 0 0,1 3,0Z\" style=\"opacity: 1; stroke-width: 0px; fill: rgb(239, 85, 59); fill-opacity: 1;\"/><path class=\"point\" transform=\"translate(213.2,281.07)\" d=\"M3,0A3,3 0 1,1 0,-3A3,3 0 0,1 3,0Z\" style=\"opacity: 1; stroke-width: 0px; fill: rgb(239, 85, 59); fill-opacity: 1;\"/><path class=\"point\" transform=\"translate(215.82,281.27)\" d=\"M3,0A3,3 0 1,1 0,-3A3,3 0 0,1 3,0Z\" style=\"opacity: 1; stroke-width: 0px; fill: rgb(239, 85, 59); fill-opacity: 1;\"/><path class=\"point\" transform=\"translate(217.71,281.46)\" d=\"M3,0A3,3 0 1,1 0,-3A3,3 0 0,1 3,0Z\" style=\"opacity: 1; stroke-width: 0px; fill: rgb(239, 85, 59); fill-opacity: 1;\"/><path class=\"point\" transform=\"translate(219.98,281.85)\" d=\"M3,0A3,3 0 1,1 0,-3A3,3 0 0,1 3,0Z\" style=\"opacity: 1; stroke-width: 0px; fill: rgb(239, 85, 59); fill-opacity: 1;\"/><path class=\"point\" transform=\"translate(222.94,282.06)\" d=\"M3,0A3,3 0 1,1 0,-3A3,3 0 0,1 3,0Z\" style=\"opacity: 1; stroke-width: 0px; fill: rgb(239, 85, 59); fill-opacity: 1;\"/><path class=\"point\" transform=\"translate(224.87,282.25)\" d=\"M3,0A3,3 0 1,1 0,-3A3,3 0 0,1 3,0Z\" style=\"opacity: 1; stroke-width: 0px; fill: rgb(239, 85, 59); fill-opacity: 1;\"/><path class=\"point\" transform=\"translate(225.93,282.44)\" d=\"M3,0A3,3 0 1,1 0,-3A3,3 0 0,1 3,0Z\" style=\"opacity: 1; stroke-width: 0px; fill: rgb(239, 85, 59); fill-opacity: 1;\"/><path class=\"point\" transform=\"translate(229.11,282.83)\" d=\"M3,0A3,3 0 1,1 0,-3A3,3 0 0,1 3,0Z\" style=\"opacity: 1; stroke-width: 0px; fill: rgb(239, 85, 59); fill-opacity: 1;\"/><path class=\"point\" transform=\"translate(231,282.83)\" d=\"M3,0A3,3 0 1,1 0,-3A3,3 0 0,1 3,0Z\" style=\"opacity: 1; stroke-width: 0px; fill: rgb(239, 85, 59); fill-opacity: 1;\"/><path class=\"point\" transform=\"translate(232.58,283.02)\" d=\"M3,0A3,3 0 1,1 0,-3A3,3 0 0,1 3,0Z\" style=\"opacity: 1; stroke-width: 0px; fill: rgb(239, 85, 59); fill-opacity: 1;\"/><path class=\"point\" transform=\"translate(234.53,283.41)\" d=\"M3,0A3,3 0 1,1 0,-3A3,3 0 0,1 3,0Z\" style=\"opacity: 1; stroke-width: 0px; fill: rgb(239, 85, 59); fill-opacity: 1;\"/><path class=\"point\" transform=\"translate(236.95,283.41)\" d=\"M3,0A3,3 0 1,1 0,-3A3,3 0 0,1 3,0Z\" style=\"opacity: 1; stroke-width: 0px; fill: rgb(239, 85, 59); fill-opacity: 1;\"/><path class=\"point\" transform=\"translate(239.51,283.81)\" d=\"M3,0A3,3 0 1,1 0,-3A3,3 0 0,1 3,0Z\" style=\"opacity: 1; stroke-width: 0px; fill: rgb(239, 85, 59); fill-opacity: 1;\"/><path class=\"point\" transform=\"translate(241.32,284)\" d=\"M3,0A3,3 0 1,1 0,-3A3,3 0 0,1 3,0Z\" style=\"opacity: 1; stroke-width: 0px; fill: rgb(239, 85, 59); fill-opacity: 1;\"/><path class=\"point\" transform=\"translate(243.73,284)\" d=\"M3,0A3,3 0 1,1 0,-3A3,3 0 0,1 3,0Z\" style=\"opacity: 1; stroke-width: 0px; fill: rgb(239, 85, 59); fill-opacity: 1;\"/><path class=\"point\" transform=\"translate(245.18,284.2)\" d=\"M3,0A3,3 0 1,1 0,-3A3,3 0 0,1 3,0Z\" style=\"opacity: 1; stroke-width: 0px; fill: rgb(239, 85, 59); fill-opacity: 1;\"/><path class=\"point\" transform=\"translate(246.24,284.58)\" d=\"M3,0A3,3 0 1,1 0,-3A3,3 0 0,1 3,0Z\" style=\"opacity: 1; stroke-width: 0px; fill: rgb(239, 85, 59); fill-opacity: 1;\"/><path class=\"point\" transform=\"translate(246.67,284.77)\" d=\"M3,0A3,3 0 1,1 0,-3A3,3 0 0,1 3,0Z\" style=\"opacity: 1; stroke-width: 0px; fill: rgb(239, 85, 59); fill-opacity: 1;\"/><path class=\"point\" transform=\"translate(268.73,69.82)\" d=\"M3,0A3,3 0 1,1 0,-3A3,3 0 0,1 3,0Z\" style=\"opacity: 1; stroke-width: 0px; fill: rgb(239, 85, 59); fill-opacity: 1;\"/><path class=\"point\" transform=\"translate(290.12,66.1)\" d=\"M3,0A3,3 0 1,1 0,-3A3,3 0 0,1 3,0Z\" style=\"opacity: 1; stroke-width: 0px; fill: rgb(239, 85, 59); fill-opacity: 1;\"/><path class=\"point\" transform=\"translate(312.39,63.77)\" d=\"M3,0A3,3 0 1,1 0,-3A3,3 0 0,1 3,0Z\" style=\"opacity: 1; stroke-width: 0px; fill: rgb(239, 85, 59); fill-opacity: 1;\"/><path class=\"point\" transform=\"translate(333.39,62.02)\" d=\"M3,0A3,3 0 1,1 0,-3A3,3 0 0,1 3,0Z\" style=\"opacity: 1; stroke-width: 0px; fill: rgb(239, 85, 59); fill-opacity: 1;\"/><path class=\"point\" transform=\"translate(354.98,60.26)\" d=\"M3,0A3,3 0 1,1 0,-3A3,3 0 0,1 3,0Z\" style=\"opacity: 1; stroke-width: 0px; fill: rgb(239, 85, 59); fill-opacity: 1;\"/><path class=\"point\" transform=\"translate(377.17,58.89)\" d=\"M3,0A3,3 0 1,1 0,-3A3,3 0 0,1 3,0Z\" style=\"opacity: 1; stroke-width: 0px; fill: rgb(239, 85, 59); fill-opacity: 1;\"/><path class=\"point\" transform=\"translate(399.4,57.91)\" d=\"M3,0A3,3 0 1,1 0,-3A3,3 0 0,1 3,0Z\" style=\"opacity: 1; stroke-width: 0px; fill: rgb(239, 85, 59); fill-opacity: 1;\"/><path class=\"point\" transform=\"translate(419.9,57.14)\" d=\"M3,0A3,3 0 1,1 0,-3A3,3 0 0,1 3,0Z\" style=\"opacity: 1; stroke-width: 0px; fill: rgb(239, 85, 59); fill-opacity: 1;\"/><path class=\"point\" transform=\"translate(441.85,56.16)\" d=\"M3,0A3,3 0 1,1 0,-3A3,3 0 0,1 3,0Z\" style=\"opacity: 1; stroke-width: 0px; fill: rgb(239, 85, 59); fill-opacity: 1;\"/><path class=\"point\" transform=\"translate(463.65,55.58)\" d=\"M3,0A3,3 0 1,1 0,-3A3,3 0 0,1 3,0Z\" style=\"opacity: 1; stroke-width: 0px; fill: rgb(239, 85, 59); fill-opacity: 1;\"/></g><g class=\"text\"/></g><g class=\"trace scatter trace2750c5\" style=\"stroke-miterlimit: 2; opacity: 1;\"><g class=\"fills\"/><g class=\"errorbars\"/><g class=\"lines\"><path class=\"js-line\" d=\"M28.35,37.33L28.74,37.33L30.97,174.55L33.78,237.99L35.78,248.28L37.42,251.27L40.47,253.09L50.71,254.83L53.76,255.27L246.24,282.67L246.67,191.82L268.73,68.13L290.12,68.11L463.65,67.93\" style=\"vector-effect: none; fill: none; stroke: rgb(0, 204, 150); stroke-opacity: 1; stroke-width: 4px; opacity: 1;\"/></g><g class=\"points\"/><g class=\"text\"/></g></g></g><g class=\"overplot\"/><path class=\"xlines-above crisp\" d=\"M0,0\" style=\"fill: none;\"/><path class=\"ylines-above crisp\" d=\"M0,0\" style=\"fill: none;\"/><g class=\"overlines-above\"/><g class=\"xaxislayer-above\"><g class=\"xtick\"><text text-anchor=\"middle\" x=\"0\" y=\"433\" transform=\"translate(108.35,0)\" style=\"font-family: 'Open Sans', verdana, arial, sans-serif; font-size: 12px; fill: rgb(42, 63, 95); fill-opacity: 1; white-space: pre; opacity: 1;\">0</text></g><g class=\"xtick\"><text text-anchor=\"middle\" x=\"0\" y=\"433\" style=\"font-family: 'Open Sans', verdana, arial, sans-serif; font-size: 12px; fill: rgb(42, 63, 95); fill-opacity: 1; white-space: pre; opacity: 1;\" transform=\"translate(216.59,0)\">5</text></g><g class=\"xtick\"><text text-anchor=\"middle\" x=\"0\" y=\"433\" style=\"font-family: 'Open Sans', verdana, arial, sans-serif; font-size: 12px; fill: rgb(42, 63, 95); fill-opacity: 1; white-space: pre; opacity: 1;\" transform=\"translate(324.83000000000004,0)\">10</text></g><g class=\"xtick\"><text text-anchor=\"middle\" x=\"0\" y=\"433\" style=\"font-family: 'Open Sans', verdana, arial, sans-serif; font-size: 12px; fill: rgb(42, 63, 95); fill-opacity: 1; white-space: pre; opacity: 1;\" transform=\"translate(433.07,0)\">15</text></g><g class=\"xtick\"><text text-anchor=\"middle\" x=\"0\" y=\"433\" style=\"font-family: 'Open Sans', verdana, arial, sans-serif; font-size: 12px; fill: rgb(42, 63, 95); fill-opacity: 1; white-space: pre; opacity: 1;\" transform=\"translate(541.31,0)\">20</text></g></g><g class=\"yaxislayer-above\"><g class=\"ytick\"><text text-anchor=\"end\" x=\"79\" y=\"4.199999999999999\" transform=\"translate(0,366.24)\" style=\"font-family: 'Open Sans', verdana, arial, sans-serif; font-size: 12px; fill: rgb(42, 63, 95); fill-opacity: 1; white-space: pre; opacity: 1;\">3.95</text></g><g class=\"ytick\"><text text-anchor=\"end\" x=\"79\" y=\"4.199999999999999\" style=\"font-family: 'Open Sans', verdana, arial, sans-serif; font-size: 12px; fill: rgb(42, 63, 95); fill-opacity: 1; white-space: pre; opacity: 1;\" transform=\"translate(0,278.53999999999996)\">4</text></g><g class=\"ytick\"><text text-anchor=\"end\" x=\"79\" y=\"4.199999999999999\" style=\"font-family: 'Open Sans', verdana, arial, sans-serif; font-size: 12px; fill: rgb(42, 63, 95); fill-opacity: 1; white-space: pre; opacity: 1;\" transform=\"translate(0,190.85)\">4.05</text></g><g class=\"ytick\"><text text-anchor=\"end\" x=\"79\" y=\"4.199999999999999\" style=\"font-family: 'Open Sans', verdana, arial, sans-serif; font-size: 12px; fill: rgb(42, 63, 95); fill-opacity: 1; white-space: pre; opacity: 1;\" transform=\"translate(0,103.16)\">4.1</text></g></g><g class=\"overaxes-above\"/></g></g><g class=\"polarlayer\"/><g class=\"smithlayer\"/><g class=\"ternarylayer\"/><g class=\"geolayer\"/><g class=\"funnelarealayer\"/><g class=\"pielayer\"/><g class=\"iciclelayer\"/><g class=\"treemaplayer\"/><g class=\"sunburstlayer\"/><g class=\"glimages\"/><defs id=\"topdefs-7b29bf\"><g class=\"clips\"/><clipPath id=\"legend7b29bf\"><rect width=\"106\" height=\"48\" x=\"0\" y=\"0\"/></clipPath></defs><g class=\"layer-above\"><g class=\"imagelayer\"/><g class=\"shapelayer\"/></g><g class=\"infolayer\"><g class=\"legend\" pointer-events=\"all\" transform=\"translate(581.84,100)\"><rect class=\"bg\" shape-rendering=\"crispEdges\" style=\"stroke: rgb(68, 68, 68); stroke-opacity: 1; fill: rgb(255, 255, 255); fill-opacity: 1; stroke-width: 0px;\" width=\"106\" height=\"48\" x=\"0\" y=\"0\"/><g class=\"scrollbox\" transform=\"\" clip-path=\"url(#legend7b29bf)\"><g class=\"groups\"><g class=\"traces\" transform=\"translate(0,14.5)\" style=\"opacity: 1;\"><text class=\"legendtext\" text-anchor=\"start\" x=\"40\" y=\"4.680000000000001\" style=\"font-family: 'Open Sans', verdana, arial, sans-serif; font-size: 12px; fill: rgb(42, 63, 95); fill-opacity: 1; white-space: pre;\">Reference</text><g class=\"layers\" style=\"opacity: 1;\"><g class=\"legendfill\"/><g class=\"legendlines\"/><g class=\"legendsymbols\"><g class=\"legendpoints\"><path class=\"scatterpts\" transform=\"translate(20,0)\" d=\"M3,0A3,3 0 1,1 0,-3A3,3 0 0,1 3,0Z\" style=\"opacity: 1; stroke-width: 0px; fill: rgb(239, 85, 59); fill-opacity: 1;\"/></g></g></g><rect class=\"legendtoggle\" x=\"0\" y=\"-9.5\" width=\"100.125\" height=\"19\" style=\"fill: rgb(0, 0, 0); fill-opacity: 0;\"/></g><g class=\"traces\" transform=\"translate(0,33.5)\" style=\"opacity: 1;\"><text class=\"legendtext\" text-anchor=\"start\" x=\"40\" y=\"4.680000000000001\" style=\"font-family: 'Open Sans', verdana, arial, sans-serif; font-size: 12px; fill: rgb(42, 63, 95); fill-opacity: 1; white-space: pre;\">Model</text><g class=\"layers\" style=\"opacity: 1;\"><g class=\"legendfill\"/><g class=\"legendlines\"><path class=\"js-line\" d=\"M5,0h30\" style=\"fill: none; stroke: rgb(0, 204, 150); stroke-opacity: 1; stroke-width: 4px;\"/></g><g class=\"legendsymbols\"><g class=\"legendpoints\"/></g></g><rect class=\"legendtoggle\" x=\"0\" y=\"-9.5\" width=\"100.125\" height=\"19\" style=\"fill: rgb(0, 0, 0); fill-opacity: 0;\"/></g></g></g><rect class=\"scrollbar\" rx=\"20\" ry=\"3\" width=\"0\" height=\"0\" style=\"fill: rgb(128, 139, 164); fill-opacity: 1;\" x=\"0\" y=\"0\"/></g><g class=\"g-gtitle\"><text class=\"gtitle\" x=\"35\" y=\"50\" text-anchor=\"start\" dy=\"0em\" style=\"font-family: 'Open Sans', verdana, arial, sans-serif; font-size: 17px; fill: rgb(42, 63, 95); opacity: 1; font-weight: normal; white-space: pre;\">Optimised Comparison</text></g><g class=\"g-xtitle\"><text class=\"xtitle\" x=\"326\" y=\"459.8\" text-anchor=\"middle\" style=\"font-family: 'Open Sans', verdana, arial, sans-serif; font-size: 14px; fill: rgb(42, 63, 95); opacity: 1; font-weight: normal; white-space: pre;\">Time / s</text></g><g class=\"g-ytitle\"><text class=\"ytitle\" transform=\"rotate(-90,27.434375000000003,260)\" x=\"27.434375000000003\" y=\"260\" text-anchor=\"middle\" style=\"font-family: 'Open Sans', verdana, arial, sans-serif; font-size: 14px; fill: rgb(42, 63, 95); opacity: 1; font-weight: normal; white-space: pre;\">Voltage  / V</text></g></g></svg>"
      ]
     },
     "metadata": {},
     "output_type": "display_data"
    }
   ],
   "source": [
    "pybop.quick_plot(problem, problem_inputs=x, title=\"Optimised Comparison\");"
   ]
  },
  {
   "cell_type": "markdown",
   "id": "7d265967-e6e5-440c-badf-156a43943c88",
   "metadata": {},
   "source": [
    "### Convergence and Parameter Trajectories\n",
    "\n",
    "To assess the optimisation process, we can plot the convergence of the cost function and the trajectories of the parameters:"
   ]
  },
  {
   "cell_type": "code",
   "execution_count": 15,
   "id": "f66e0b0f-4861-42dd-bb7f-8734fcca3328",
   "metadata": {
    "execution": {
     "iopub.execute_input": "2024-04-14T18:58:02.971034Z",
     "iopub.status.busy": "2024-04-14T18:58:02.970869Z",
     "iopub.status.idle": "2024-04-14T18:58:17.121157Z",
     "shell.execute_reply": "2024-04-14T18:58:17.120837Z"
    }
   },
   "outputs": [
    {
     "data": {
      "image/svg+xml": [
       "<svg class=\"main-svg\" xmlns=\"http://www.w3.org/2000/svg\" xmlns:xlink=\"http://www.w3.org/1999/xlink\" width=\"700\" height=\"500\" style=\"\" viewBox=\"0 0 700 500\"><rect x=\"0\" y=\"0\" width=\"700\" height=\"500\" style=\"fill: rgb(255, 255, 255); fill-opacity: 1;\"/><defs id=\"defs-29c05c\"><g class=\"clips\"><clipPath id=\"clip29c05cxyplot\" class=\"plotclip\"><rect width=\"540\" height=\"320\"/></clipPath><clipPath class=\"axesclip\" id=\"clip29c05cx\"><rect x=\"80\" y=\"0\" width=\"540\" height=\"500\"/></clipPath><clipPath class=\"axesclip\" id=\"clip29c05cy\"><rect x=\"0\" y=\"100\" width=\"700\" height=\"320\"/></clipPath><clipPath class=\"axesclip\" id=\"clip29c05cxy\"><rect x=\"80\" y=\"100\" width=\"540\" height=\"320\"/></clipPath></g><g class=\"gradients\"/><g class=\"patterns\"/></defs><g class=\"bglayer\"><rect class=\"bg\" x=\"80\" y=\"100\" width=\"540\" height=\"320\" style=\"fill: rgb(229, 236, 246); fill-opacity: 1; stroke-width: 0;\"/></g><g class=\"layer-below\"><g class=\"imagelayer\"/><g class=\"shapelayer\"/></g><g class=\"cartesianlayer\"><g class=\"subplot xy\"><g class=\"layer-subplot\"><g class=\"shapelayer\"/><g class=\"imagelayer\"/></g><g class=\"minor-gridlayer\"><g class=\"x\"/><g class=\"y\"/></g><g class=\"gridlayer\"><g class=\"x\"><path class=\"xgrid crisp\" transform=\"translate(153.91,0)\" d=\"M0,100v320\" style=\"stroke: rgb(255, 255, 255); stroke-opacity: 1; stroke-width: 1px;\"/><path class=\"xgrid crisp\" transform=\"translate(229.33,0)\" d=\"M0,100v320\" style=\"stroke: rgb(255, 255, 255); stroke-opacity: 1; stroke-width: 1px;\"/><path class=\"xgrid crisp\" transform=\"translate(304.75,0)\" d=\"M0,100v320\" style=\"stroke: rgb(255, 255, 255); stroke-opacity: 1; stroke-width: 1px;\"/><path class=\"xgrid crisp\" transform=\"translate(380.17,0)\" d=\"M0,100v320\" style=\"stroke: rgb(255, 255, 255); stroke-opacity: 1; stroke-width: 1px;\"/><path class=\"xgrid crisp\" transform=\"translate(455.59,0)\" d=\"M0,100v320\" style=\"stroke: rgb(255, 255, 255); stroke-opacity: 1; stroke-width: 1px;\"/><path class=\"xgrid crisp\" transform=\"translate(531.01,0)\" d=\"M0,100v320\" style=\"stroke: rgb(255, 255, 255); stroke-opacity: 1; stroke-width: 1px;\"/><path class=\"xgrid crisp\" transform=\"translate(606.42,0)\" d=\"M0,100v320\" style=\"stroke: rgb(255, 255, 255); stroke-opacity: 1; stroke-width: 1px;\"/></g><g class=\"y\"><path class=\"ygrid crisp\" transform=\"translate(0,400.79)\" d=\"M80,0h540\" style=\"stroke: rgb(255, 255, 255); stroke-opacity: 1; stroke-width: 1px;\"/><path class=\"ygrid crisp\" transform=\"translate(0,346.49)\" d=\"M80,0h540\" style=\"stroke: rgb(255, 255, 255); stroke-opacity: 1; stroke-width: 1px;\"/><path class=\"ygrid crisp\" transform=\"translate(0,292.19)\" d=\"M80,0h540\" style=\"stroke: rgb(255, 255, 255); stroke-opacity: 1; stroke-width: 1px;\"/><path class=\"ygrid crisp\" transform=\"translate(0,237.89)\" d=\"M80,0h540\" style=\"stroke: rgb(255, 255, 255); stroke-opacity: 1; stroke-width: 1px;\"/><path class=\"ygrid crisp\" transform=\"translate(0,183.59)\" d=\"M80,0h540\" style=\"stroke: rgb(255, 255, 255); stroke-opacity: 1; stroke-width: 1px;\"/><path class=\"ygrid crisp\" transform=\"translate(0,129.29)\" d=\"M80,0h540\" style=\"stroke: rgb(255, 255, 255); stroke-opacity: 1; stroke-width: 1px;\"/></g></g><g class=\"zerolinelayer\"/><path class=\"xlines-below\"/><path class=\"ylines-below\"/><g class=\"overlines-below\"/><g class=\"xaxislayer-below\"/><g class=\"yaxislayer-below\"/><g class=\"overaxes-below\"/><g class=\"plot\" transform=\"translate(80,100)\" clip-path=\"url(#clip29c05cxyplot)\"><g class=\"scatterlayer mlayer\"><g class=\"trace scatter trace3686ab\" style=\"stroke-miterlimit: 2; opacity: 1;\"><g class=\"fills\"/><g class=\"errorbars\"/><g class=\"lines\"><path class=\"js-line\" d=\"M0,16L7.54,16L9.05,27.85L15.08,27.85L16.59,29.86L31.68,30.83L33.18,31.32L48.27,31.73L49.78,33.32L70.89,33.46L72.4,39.91L84.47,39.91L85.98,42.03L92.01,42.03L93.52,44.99L105.59,44.99L107.09,48.2L123.69,48.2L125.2,49.75L126.7,49.75L128.21,51.38L132.74,51.38L134.25,55.16L137.26,55.16L138.77,56.19L143.3,56.19L144.8,57.47L150.84,58.22L152.35,61.56L170.45,61.67L171.96,63.49L177.99,63.49L179.5,70.69L181.01,70.69L182.51,71.8L184.02,71.8L185.53,72.91L188.55,72.91L190.06,79.23L194.58,79.23L196.09,82.77L197.6,82.77L199.11,93.61L211.17,93.61L212.68,94.96L215.7,94.96L217.21,106.56L226.26,106.56L227.77,145.49L259.44,145.49L260.95,152.27L274.53,152.27L276.03,160.88L282.07,160.88L283.58,162.89L291.12,162.89L292.63,176.23L294.13,184.09L295.64,184.09L309.22,184.09L310.73,197.49L349.94,197.49L351.45,204.27L354.47,204.52L355.98,248.73L396.7,248.73L398.21,256.14L444.97,256.14L446.48,265.53L455.53,265.53L457.04,304L540,304\" style=\"vector-effect: none; fill: none; stroke: rgb(99, 110, 250); stroke-opacity: 1; stroke-width: 4px; opacity: 1;\"/></g><g class=\"points\"/><g class=\"text\"/></g></g></g><g class=\"overplot\"/><path class=\"xlines-above crisp\" d=\"M0,0\" style=\"fill: none;\"/><path class=\"ylines-above crisp\" d=\"M0,0\" style=\"fill: none;\"/><g class=\"overlines-above\"/><g class=\"xaxislayer-above\"><g class=\"xtick\"><text text-anchor=\"middle\" x=\"0\" y=\"433\" transform=\"translate(153.91,0)\" style=\"font-family: 'Open Sans', verdana, arial, sans-serif; font-size: 12px; fill: rgb(42, 63, 95); fill-opacity: 1; white-space: pre; opacity: 1;\">50</text></g><g class=\"xtick\"><text text-anchor=\"middle\" x=\"0\" y=\"433\" style=\"font-family: 'Open Sans', verdana, arial, sans-serif; font-size: 12px; fill: rgb(42, 63, 95); fill-opacity: 1; white-space: pre; opacity: 1;\" transform=\"translate(229.33,0)\">100</text></g><g class=\"xtick\"><text text-anchor=\"middle\" x=\"0\" y=\"433\" style=\"font-family: 'Open Sans', verdana, arial, sans-serif; font-size: 12px; fill: rgb(42, 63, 95); fill-opacity: 1; white-space: pre; opacity: 1;\" transform=\"translate(304.75,0)\">150</text></g><g class=\"xtick\"><text text-anchor=\"middle\" x=\"0\" y=\"433\" style=\"font-family: 'Open Sans', verdana, arial, sans-serif; font-size: 12px; fill: rgb(42, 63, 95); fill-opacity: 1; white-space: pre; opacity: 1;\" transform=\"translate(380.17,0)\">200</text></g><g class=\"xtick\"><text text-anchor=\"middle\" x=\"0\" y=\"433\" style=\"font-family: 'Open Sans', verdana, arial, sans-serif; font-size: 12px; fill: rgb(42, 63, 95); fill-opacity: 1; white-space: pre; opacity: 1;\" transform=\"translate(455.59,0)\">250</text></g><g class=\"xtick\"><text text-anchor=\"middle\" x=\"0\" y=\"433\" style=\"font-family: 'Open Sans', verdana, arial, sans-serif; font-size: 12px; fill: rgb(42, 63, 95); fill-opacity: 1; white-space: pre; opacity: 1;\" transform=\"translate(531.01,0)\">300</text></g><g class=\"xtick\"><text text-anchor=\"middle\" x=\"0\" y=\"433\" style=\"font-family: 'Open Sans', verdana, arial, sans-serif; font-size: 12px; fill: rgb(42, 63, 95); fill-opacity: 1; white-space: pre; opacity: 1;\" transform=\"translate(606.42,0)\">350</text></g></g><g class=\"yaxislayer-above\"><g class=\"ytick\"><text text-anchor=\"end\" x=\"79\" y=\"4.199999999999999\" transform=\"translate(0,400.79)\" style=\"font-family: 'Open Sans', verdana, arial, sans-serif; font-size: 12px; fill: rgb(42, 63, 95); fill-opacity: 1; white-space: pre; opacity: 1;\">0.018</text></g><g class=\"ytick\"><text text-anchor=\"end\" x=\"79\" y=\"4.199999999999999\" style=\"font-family: 'Open Sans', verdana, arial, sans-serif; font-size: 12px; fill: rgb(42, 63, 95); fill-opacity: 1; white-space: pre; opacity: 1;\" transform=\"translate(0,346.49)\">0.02</text></g><g class=\"ytick\"><text text-anchor=\"end\" x=\"79\" y=\"4.199999999999999\" style=\"font-family: 'Open Sans', verdana, arial, sans-serif; font-size: 12px; fill: rgb(42, 63, 95); fill-opacity: 1; white-space: pre; opacity: 1;\" transform=\"translate(0,292.19)\">0.022</text></g><g class=\"ytick\"><text text-anchor=\"end\" x=\"79\" y=\"4.199999999999999\" style=\"font-family: 'Open Sans', verdana, arial, sans-serif; font-size: 12px; fill: rgb(42, 63, 95); fill-opacity: 1; white-space: pre; opacity: 1;\" transform=\"translate(0,237.89)\">0.024</text></g><g class=\"ytick\"><text text-anchor=\"end\" x=\"79\" y=\"4.199999999999999\" style=\"font-family: 'Open Sans', verdana, arial, sans-serif; font-size: 12px; fill: rgb(42, 63, 95); fill-opacity: 1; white-space: pre; opacity: 1;\" transform=\"translate(0,183.59)\">0.026</text></g><g class=\"ytick\"><text text-anchor=\"end\" x=\"79\" y=\"4.199999999999999\" style=\"font-family: 'Open Sans', verdana, arial, sans-serif; font-size: 12px; fill: rgb(42, 63, 95); fill-opacity: 1; white-space: pre; opacity: 1;\" transform=\"translate(0,129.29)\">0.028</text></g></g><g class=\"overaxes-above\"/></g></g><g class=\"polarlayer\"/><g class=\"smithlayer\"/><g class=\"ternarylayer\"/><g class=\"geolayer\"/><g class=\"funnelarealayer\"/><g class=\"pielayer\"/><g class=\"iciclelayer\"/><g class=\"treemaplayer\"/><g class=\"sunburstlayer\"/><g class=\"glimages\"/><defs id=\"topdefs-29c05c\"><g class=\"clips\"/></defs><g class=\"layer-above\"><g class=\"imagelayer\"/><g class=\"shapelayer\"/></g><g class=\"infolayer\"><g class=\"g-gtitle\"><text class=\"gtitle\" x=\"35\" y=\"50\" text-anchor=\"start\" dy=\"0em\" style=\"font-family: 'Open Sans', verdana, arial, sans-serif; font-size: 17px; fill: rgb(42, 63, 95); opacity: 1; font-weight: normal; white-space: pre;\">Convergence</text></g><g class=\"g-xtitle\"><text class=\"xtitle\" x=\"350\" y=\"459.8\" text-anchor=\"middle\" style=\"font-family: 'Open Sans', verdana, arial, sans-serif; font-size: 14px; fill: rgb(42, 63, 95); opacity: 1; font-weight: normal; white-space: pre;\">Iteration</text></g><g class=\"g-ytitle\"><text class=\"ytitle\" transform=\"rotate(-90,19.809375000000003,260)\" x=\"19.809375000000003\" y=\"260\" text-anchor=\"middle\" style=\"font-family: 'Open Sans', verdana, arial, sans-serif; font-size: 14px; fill: rgb(42, 63, 95); opacity: 1; font-weight: normal; white-space: pre;\">Cost</text></g></g></svg>"
      ]
     },
     "metadata": {},
     "output_type": "display_data"
    },
    {
     "data": {
      "image/svg+xml": [
       "<svg class=\"main-svg\" xmlns=\"http://www.w3.org/2000/svg\" xmlns:xlink=\"http://www.w3.org/1999/xlink\" width=\"1024\" height=\"576\" style=\"\" viewBox=\"0 0 1024 576\"><rect x=\"0\" y=\"0\" width=\"1024\" height=\"576\" style=\"fill: rgb(255, 255, 255); fill-opacity: 1;\"/><defs id=\"defs-441bba\"><g class=\"clips\"><clipPath id=\"clip441bbaxyplot\" class=\"plotclip\"><rect width=\"230.4\" height=\"168.29999999999998\"/></clipPath><clipPath id=\"clip441bbax2y2plot\" class=\"plotclip\"><rect width=\"230.39999999999995\" height=\"168.29999999999998\"/></clipPath><clipPath id=\"clip441bbax3y3plot\" class=\"plotclip\"><rect width=\"230.39999999999995\" height=\"168.29999999999998\"/></clipPath><clipPath id=\"clip441bbax4y4plot\" class=\"plotclip\"><rect width=\"230.4\" height=\"168.3\"/></clipPath><clipPath id=\"clip441bbax5y5plot\" class=\"plotclip\"><rect width=\"230.39999999999995\" height=\"168.3\"/></clipPath><clipPath class=\"axesclip\" id=\"clip441bbax\"><rect x=\"80\" y=\"0\" width=\"230.4\" height=\"576\"/></clipPath><clipPath class=\"axesclip\" id=\"clip441bbay\"><rect x=\"0\" y=\"327.7\" width=\"1024\" height=\"168.29999999999998\"/></clipPath><clipPath class=\"axesclip\" id=\"clip441bbaxy\"><rect x=\"80\" y=\"327.7\" width=\"230.4\" height=\"168.29999999999998\"/></clipPath><clipPath class=\"axesclip\" id=\"clip441bbay2\"><rect x=\"0\" y=\"327.7\" width=\"1024\" height=\"168.29999999999998\"/></clipPath><clipPath class=\"axesclip\" id=\"clip441bbaxy2\"><rect x=\"80\" y=\"327.7\" width=\"230.4\" height=\"168.29999999999998\"/></clipPath><clipPath class=\"axesclip\" id=\"clip441bbay3\"><rect x=\"0\" y=\"327.7\" width=\"1024\" height=\"168.29999999999998\"/></clipPath><clipPath class=\"axesclip\" id=\"clip441bbaxy3\"><rect x=\"80\" y=\"327.7\" width=\"230.4\" height=\"168.29999999999998\"/></clipPath><clipPath class=\"axesclip\" id=\"clip441bbay4\"><rect x=\"0\" y=\"100\" width=\"1024\" height=\"168.3\"/></clipPath><clipPath class=\"axesclip\" id=\"clip441bbaxy4\"><rect x=\"80\" y=\"100\" width=\"230.4\" height=\"168.3\"/></clipPath><clipPath class=\"axesclip\" id=\"clip441bbay5\"><rect x=\"0\" y=\"100\" width=\"1024\" height=\"168.3\"/></clipPath><clipPath class=\"axesclip\" id=\"clip441bbaxy5\"><rect x=\"80\" y=\"100\" width=\"230.4\" height=\"168.3\"/></clipPath><clipPath class=\"axesclip\" id=\"clip441bbax2\"><rect x=\"396.8\" y=\"0\" width=\"230.39999999999995\" height=\"576\"/></clipPath><clipPath class=\"axesclip\" id=\"clip441bbax2y\"><rect x=\"396.8\" y=\"327.7\" width=\"230.39999999999995\" height=\"168.29999999999998\"/></clipPath><clipPath class=\"axesclip\" id=\"clip441bbax2y2\"><rect x=\"396.8\" y=\"327.7\" width=\"230.39999999999995\" height=\"168.29999999999998\"/></clipPath><clipPath class=\"axesclip\" id=\"clip441bbax2y3\"><rect x=\"396.8\" y=\"327.7\" width=\"230.39999999999995\" height=\"168.29999999999998\"/></clipPath><clipPath class=\"axesclip\" id=\"clip441bbax2y4\"><rect x=\"396.8\" y=\"100\" width=\"230.39999999999995\" height=\"168.3\"/></clipPath><clipPath class=\"axesclip\" id=\"clip441bbax2y5\"><rect x=\"396.8\" y=\"100\" width=\"230.39999999999995\" height=\"168.3\"/></clipPath><clipPath class=\"axesclip\" id=\"clip441bbax3\"><rect x=\"713.6\" y=\"0\" width=\"230.39999999999995\" height=\"576\"/></clipPath><clipPath class=\"axesclip\" id=\"clip441bbax3y\"><rect x=\"713.6\" y=\"327.7\" width=\"230.39999999999995\" height=\"168.29999999999998\"/></clipPath><clipPath class=\"axesclip\" id=\"clip441bbax3y2\"><rect x=\"713.6\" y=\"327.7\" width=\"230.39999999999995\" height=\"168.29999999999998\"/></clipPath><clipPath class=\"axesclip\" id=\"clip441bbax3y3\"><rect x=\"713.6\" y=\"327.7\" width=\"230.39999999999995\" height=\"168.29999999999998\"/></clipPath><clipPath class=\"axesclip\" id=\"clip441bbax3y4\"><rect x=\"713.6\" y=\"100\" width=\"230.39999999999995\" height=\"168.3\"/></clipPath><clipPath class=\"axesclip\" id=\"clip441bbax3y5\"><rect x=\"713.6\" y=\"100\" width=\"230.39999999999995\" height=\"168.3\"/></clipPath><clipPath class=\"axesclip\" id=\"clip441bbax4\"><rect x=\"80\" y=\"0\" width=\"230.4\" height=\"576\"/></clipPath><clipPath class=\"axesclip\" id=\"clip441bbax4y\"><rect x=\"80\" y=\"327.7\" width=\"230.4\" height=\"168.29999999999998\"/></clipPath><clipPath class=\"axesclip\" id=\"clip441bbax4y2\"><rect x=\"80\" y=\"327.7\" width=\"230.4\" height=\"168.29999999999998\"/></clipPath><clipPath class=\"axesclip\" id=\"clip441bbax4y3\"><rect x=\"80\" y=\"327.7\" width=\"230.4\" height=\"168.29999999999998\"/></clipPath><clipPath class=\"axesclip\" id=\"clip441bbax4y4\"><rect x=\"80\" y=\"100\" width=\"230.4\" height=\"168.3\"/></clipPath><clipPath class=\"axesclip\" id=\"clip441bbax4y5\"><rect x=\"80\" y=\"100\" width=\"230.4\" height=\"168.3\"/></clipPath><clipPath class=\"axesclip\" id=\"clip441bbax5\"><rect x=\"396.8\" y=\"0\" width=\"230.39999999999995\" height=\"576\"/></clipPath><clipPath class=\"axesclip\" id=\"clip441bbax5y\"><rect x=\"396.8\" y=\"327.7\" width=\"230.39999999999995\" height=\"168.29999999999998\"/></clipPath><clipPath class=\"axesclip\" id=\"clip441bbax5y2\"><rect x=\"396.8\" y=\"327.7\" width=\"230.39999999999995\" height=\"168.29999999999998\"/></clipPath><clipPath class=\"axesclip\" id=\"clip441bbax5y3\"><rect x=\"396.8\" y=\"327.7\" width=\"230.39999999999995\" height=\"168.29999999999998\"/></clipPath><clipPath class=\"axesclip\" id=\"clip441bbax5y4\"><rect x=\"396.8\" y=\"100\" width=\"230.39999999999995\" height=\"168.3\"/></clipPath><clipPath class=\"axesclip\" id=\"clip441bbax5y5\"><rect x=\"396.8\" y=\"100\" width=\"230.39999999999995\" height=\"168.3\"/></clipPath></g><g class=\"gradients\"/><g class=\"patterns\"/></defs><g class=\"bglayer\"><rect class=\"bg\" x=\"80\" y=\"327.7\" width=\"230.4\" height=\"168.29999999999998\" style=\"fill: rgb(229, 236, 246); fill-opacity: 1; stroke-width: 0;\"/><rect class=\"bg\" x=\"396.8\" y=\"327.7\" width=\"230.39999999999995\" height=\"168.29999999999998\" style=\"fill: rgb(229, 236, 246); fill-opacity: 1; stroke-width: 0;\"/><rect class=\"bg\" x=\"713.6\" y=\"327.7\" width=\"230.39999999999995\" height=\"168.29999999999998\" style=\"fill: rgb(229, 236, 246); fill-opacity: 1; stroke-width: 0;\"/><rect class=\"bg\" x=\"80\" y=\"100\" width=\"230.4\" height=\"168.3\" style=\"fill: rgb(229, 236, 246); fill-opacity: 1; stroke-width: 0;\"/><rect class=\"bg\" x=\"396.8\" y=\"100\" width=\"230.39999999999995\" height=\"168.3\" style=\"fill: rgb(229, 236, 246); fill-opacity: 1; stroke-width: 0;\"/></g><g class=\"layer-below\"><g class=\"imagelayer\"/><g class=\"shapelayer\"/></g><g class=\"cartesianlayer\"><g class=\"subplot xy\"><g class=\"layer-subplot\"><g class=\"shapelayer\"/><g class=\"imagelayer\"/></g><g class=\"minor-gridlayer\"><g class=\"x\"/><g class=\"y\"/></g><g class=\"gridlayer\"><g class=\"x\"><path class=\"xgrid crisp\" transform=\"translate(170.65,0)\" d=\"M0,327.7v168.29999999999998\" style=\"stroke: rgb(255, 255, 255); stroke-opacity: 1; stroke-width: 1px;\"/><path class=\"xgrid crisp\" transform=\"translate(261.4,0)\" d=\"M0,327.7v168.29999999999998\" style=\"stroke: rgb(255, 255, 255); stroke-opacity: 1; stroke-width: 1px;\"/></g><g class=\"y\"><path class=\"ygrid crisp\" transform=\"translate(0,447.69)\" d=\"M80,0h230.4\" style=\"stroke: rgb(255, 255, 255); stroke-opacity: 1; stroke-width: 1px;\"/><path class=\"ygrid crisp\" transform=\"translate(0,407.64)\" d=\"M80,0h230.4\" style=\"stroke: rgb(255, 255, 255); stroke-opacity: 1; stroke-width: 1px;\"/><path class=\"ygrid crisp\" transform=\"translate(0,367.59999999999997)\" d=\"M80,0h230.4\" style=\"stroke: rgb(255, 255, 255); stroke-opacity: 1; stroke-width: 1px;\"/></g></g><g class=\"zerolinelayer\"><path class=\"yzl zl crisp\" transform=\"translate(0,487.73)\" d=\"M80,0h230.4\" style=\"stroke: rgb(255, 255, 255); stroke-opacity: 1; stroke-width: 2px;\"/></g><path class=\"xlines-below\"/><path class=\"ylines-below\"/><g class=\"overlines-below\"/><g class=\"xaxislayer-below\"/><g class=\"yaxislayer-below\"/><g class=\"overaxes-below\"/><g class=\"plot\" transform=\"translate(80,327.7)\" clip-path=\"url(#clip441bbaxyplot)\"><g class=\"scatterlayer mlayer\"><g class=\"trace scatter trace679668\" style=\"stroke-miterlimit: 2; opacity: 1;\"><g class=\"fills\"/><g class=\"errorbars\"/><g class=\"lines\"><path class=\"js-line\" d=\"M0,155.96L0.18,8.41L0.64,95.35L0.73,155.96L1.27,90.92L1.54,119.92L1.63,157.04L1.91,105.28L2.45,115.73L2.54,132.9L3.36,94.22L3.45,122.71L3.54,127.3L3.9,115.03L3.99,103.22L4.36,135.14L4.81,117.86L4.9,117.61L5.35,130.22L5.54,124.84L5.63,115.39L5.81,127.1L5.99,123.88L6.08,114.99L6.53,126.16L6.72,119.72L6.81,112.15L7.08,140.86L7.62,120.4L7.71,120.11L7.99,116.82L8.26,138.81L8.44,121.71L8.53,104.89L8.98,131.63L9.17,122.93L9.26,87.5L9.71,87.03L9.98,153.16L10.07,121.82L10.16,118.67L10.25,121.66L10.34,119.84L10.44,149.63L10.71,151.1L10.89,110.53L11.25,120.67L11.34,119.59L11.43,147.36L11.89,79.39L12.07,121.57L12.16,82.49L12.34,133.29L12.98,118.93L13.07,115.62L13.34,107.45L13.61,158.42L13.7,113.06L14.61,135.46L14.7,121.06L14.79,118.82L14.88,83.29L15.34,130.08L15.7,120.15L15.79,122.8L16.06,115.95L16.15,121.16L16.24,123.87L16.33,131.35L16.79,107.92L16.88,120.95L16.97,121.52L17.06,143.8L17.51,114.86L17.7,119.62L17.79,95.07L18.24,137.68L18.6,121.08L18.69,124.75L18.97,132.33L19.06,121.01L19.15,122.69L19.24,149.59L19.42,105.81L19.96,120.74L20.05,130.47L20.51,97.13L20.78,121.16L20.87,120.92L20.96,110.03L21.23,121.74L21.32,121.46L21.42,147.35L21.6,157.27L21.78,120.26L22.23,120.83L22.32,124.16L22.78,120.05L23.14,120.97L23.23,120.59L23.32,139L23.41,120.36L23.96,121.3L24.05,123.6L24.32,126.31L24.86,120.44L24.95,121.07L25.59,120.52L25.68,120.97L25.77,121.44L25.86,138.06L26.04,120.47L26.5,120.97L26.59,121.09L26.68,121.9L26.77,120.98L27.04,121.14L27.13,115.84L27.4,121.49L27.77,120.76L27.86,114.64L28.22,121.34L28.68,120.95L28.77,121.21L28.86,120.97L28.95,121.17L29.04,138.33L29.13,120.45L29.49,141.7L29.85,120.98L29.95,121.09L30.13,121.57L30.22,120.18L30.67,120.98L30.76,120.87L31.22,121L31.4,105.16L31.49,120.96L31.58,120.24L31.85,121.09L31.94,158.25L32.4,116.17L32.76,121.02L32.85,120.91L32.94,120.67L33.03,89.2L33.48,86.14L33.58,120.92L33.85,120.87L33.94,120.87L34.03,140.39L34.3,120.65L34.66,121.15L34.76,131.99L35.39,88.06L35.57,121.11L35.66,120.83L35.84,120.99L35.93,93.33L36.48,127.42L36.75,120.87L36.84,121.05L37.02,141.7L37.3,120.94L37.57,121.2L37.66,121.13L37.75,138.63L38.29,109.84L38.38,120.62L38.48,121.16L38.66,120.8L38.75,102.21L39.56,121.05L39.66,120.95L39.75,121.55L39.84,120.95L39.93,139.59L40.56,102.75L40.74,121.03L40.83,120.93L40.93,120.79L41.02,120.89L41.11,107.68L41.83,125.48L41.92,120.94L42.01,120.82L42.47,120.98L42.56,136.47L43.01,120.83L43.38,121.07L43.47,120.92L43.74,118.51L43.83,120.93L44.01,121.12L44.37,120.89L44.46,101L45.19,124.89L45.28,120.93L45.37,120.78L45.83,121.4L45.92,145.65L46.28,120.88L46.73,120.98L46.82,121.46L47.73,120.63L47.82,121.31L48,120.55L48.19,121.69L48.28,135.97L48.46,119.89L48.73,136.6L49.09,123.11L49.18,121.31L49.36,122.04L49.55,120.44L49.82,120.96L49.91,109.81L50.27,121.96L50.73,121.06L50.82,121.5L50.91,121.96L51,121.1L51.18,121.35L51.27,117.39L51.82,128.84L52.09,121.16L52.18,121.28L52.27,122.23L52.81,120.66L52.9,119.92L53.09,121.46L53.18,110.71L53.81,121.86L53.99,121.17L54.08,121.09L54.17,120.93L54.27,121.51L54.36,122.36L54.54,123.96L54.63,120.92L55.08,121.25L55.17,129.71L55.26,120.94L55.99,121.41L56.08,121.27L56.17,121.42L56.26,119.54L56.53,110.51L56.62,121.53L57.08,121.03L57.17,103.68L57.62,122.03L57.99,121.37L58.08,122.13L58.35,121.18L58.44,121.9L58.53,139.24L59.07,105.69L59.35,120.56L59.44,121.45L59.62,122.35L59.71,120.9L59.8,111.97L60.35,122.35L60.62,121.09L60.71,122.05L60.98,119.48L61.07,122.63L61.71,120.68L61.8,122.24L61.89,126.69L62.52,120.21L62.7,121.51L62.8,121.63L62.98,121L63.07,122.66L63.16,121.54L63.25,117.77L63.97,129.34L64.07,121.25L64.16,121.74L64.25,121.36L64.43,122.5L64.52,117.04L65.25,130.65L65.34,121.31L65.52,121.03L65.97,124.27L66.06,122.32L66.15,113.25L66.61,112.27L66.79,135.3L66.97,121.73L67.06,121.44L67.15,121.68L67.24,115.78L67.42,129.93L67.97,121.35L68.06,116.54L68.6,128.1L68.87,120.32L68.97,121.71L69.24,121.86L69.33,129.39L70.05,120.26L70.15,125.12L70.24,123.1L70.69,112.81L70.87,120.58L70.96,121.71L71.05,122.17L71.23,120.28L71.33,113.26L72.05,138.31L72.14,124.25L72.23,120.53L72.32,121.71L72.6,121.54L72.69,133.95L73.14,85.69L73.5,121.71L73.59,122.09L73.78,121.3L73.87,74.55L74.59,134.72L74.68,124.04L74.77,124.67L75.14,121.5L75.23,121.94L75.32,152.12L75.95,83.75L76.13,123.11L76.23,122.55L76.5,122.61L76.59,121.66L76.68,89.24L77.31,136.57L77.5,121.84L77.59,122.24L77.77,123.01L77.95,122.46L78.04,136.97L78.68,81.2L78.86,123.32L78.95,122.61L79.13,120.75L79.22,122.01L79.31,122.51L79.4,46.14L79.86,122.75L80.04,121.87L80.13,121.92L80.22,119.95L80.49,123.15L80.76,123.09L80.85,123.21L81.13,122.37L81.31,123.94L81.4,60.28L81.58,123.93L82.21,121.72L82.31,122.5L82.67,123.28L82.85,121.79L83.12,123.07L83.21,122.92L83.3,145.03L83.85,121.19L83.94,123.69L84.03,122.79L84.21,122.28L84.39,123.6L84.48,99.69L85.03,124.05L85.3,124.03L85.39,122.93L85.66,122.24L86.21,125.71L86.3,122.6L86.48,124.38L86.66,123.83L86.75,115.88L87.21,123.74L87.3,109.4L87.57,121.81L87.66,123.47L87.93,122.9L88.39,124.94L88.48,124.21L88.57,121.85L89.11,133.51L89.38,123.76L89.47,123.31L89.56,123.92L89.75,122.68L89.84,98.88L90.02,125.63L90.65,123.87L90.74,120.8L91.29,134.5L91.56,123.86L91.65,124.09L91.83,123.19L92.11,125.4L92.29,123.68L92.38,123.58L92.47,124.72L93.01,123.25L93.1,124.4L93.19,123.62L93.74,122.08L94.01,125.91L94.1,122.41L94.28,133.4L94.74,124.97L94.83,122.43L95.01,132.57L95.19,126.25L95.28,122.98L95.74,125.6L95.92,125.25L96.01,127.94L96.55,121.32L96.82,124.9L96.92,128.99L97.19,121.96L97.64,125.02L97.73,129.59L97.91,122.21L98.28,122.48L98.37,130.67L98.82,119.38L99.18,123.3L99.27,124.4L99.37,130.03L99.82,121.19L99.91,126.06L100,122.75L100.54,120.27L100.73,126.84L100.82,123.19L101.27,137.08L101.45,122.65L101.54,126.45L101.63,124.92L101.72,141.58L102.18,122.97L102.36,126.17L102.45,96.11L103.09,128.31L103.27,128.18L103.36,127.49L103.45,123.13L103.9,128.19L104.08,126.37L104.17,146.44L104.63,122.88L104.99,127.26L105.08,125.09L105.26,123.58L105.35,129L105.81,127.98L105.9,123.55L106.26,129.56L106.44,125.19L106.53,140.62L107.26,112.34L107.35,126.19L107.44,125.17L107.8,135.68L107.99,128.26L108.08,124.99L108.26,121.87L108.62,140.28L108.8,127.82L108.89,123.49L109.07,117.97L109.53,131.36L109.62,127.82L109.71,116.14L110.35,148.33L110.53,140.32L110.62,127.52L110.8,124.17L110.89,127.73L110.98,100.36L111.25,131.35L111.71,120.54L111.8,98.18L112.25,153.18L112.61,127.13L112.7,125.78L112.8,127.94L112.89,157.82L113.7,124.8L113.79,128.1L113.88,130.04L113.97,127.7L114.07,99.82L114.25,128.95L114.97,127.61L115.06,126.65L115.15,123.42L115.34,131.73L115.7,125.3L115.79,127.96L115.88,142.93L116.06,116.87L116.52,127.02L116.61,112.09L117.15,140.14L117.42,127.95L117.51,127.72L117.7,135.38L117.79,127.83L117.88,126.19L118.15,125.97L118.33,137.25L118.6,126.9L118.69,128.19L118.78,131.52L119.15,126.8L119.24,128.12L119.33,119.01L119.42,132.29L120.15,129.96L120.24,128.75L120.42,134.63L120.69,124.03L120.87,124.86L120.96,130.4L121.14,126.38L121.6,131.18L121.69,128.74L121.87,131.61L122.14,125.39L122.23,130.52L122.32,121.45L122.69,132.94L123.05,130.66L123.14,125.31L123.78,131.73L123.96,130.34L124.05,128.49L124.32,136.85L124.5,131.2L124.59,131.06L124.68,130.59L124.77,123.41L124.86,132.84L125.5,124.91L125.59,129.64L125.77,132.33L126.32,121.61L126.41,130.82L126.77,127.96L126.95,139.76L127.04,129.08L127.13,128.95L127.5,126.76L127.68,139.17L127.77,130.68L127.86,122.26L128.49,135.67L128.68,130.5L128.77,130.77L128.86,131.55L128.95,129.26L129.04,130.3L129.13,146.64L129.58,118.25L129.95,130.2L130.04,127.92L130.22,132.26L130.4,116.14L130.76,122.97L130.85,132.62L131.13,148.08L131.22,129.98L131.67,135.64L131.76,130.61L131.85,158.03L132.58,69.26L132.67,131.98L132.76,130.64L132.85,131.26L132.94,141.84L133.12,121.13L133.67,132.43L133.76,141.42L134.12,124.3L134.39,131.72L134.48,148.57L134.94,114.88L135.12,159.77L135.3,130.13L135.39,127.28L136.21,143.81L136.3,98L136.93,136.11L137.11,131.97L137.21,120.08L137.57,152.79L138.02,131.63L138.11,105.87L138.48,151.81L138.93,131.8L139.02,129.21L139.11,130.17L139.2,88.73L139.56,153.84L139.84,134.38L139.93,36.29L140.47,133.88L140.74,121.07L140.84,131.66L140.93,107.17L141.47,156.83L141.56,132.14L141.65,130.26L141.74,125.11L142.01,136.21L142.11,129.15L142.2,155.3L142.56,107.76L143.01,132.17L143.1,130.93L143.19,140.44L143.47,130.15L143.56,99.33L143.83,157.49L144.37,124.42L144.47,124.5L144.65,113.19L145.1,139.24L145.19,100.86L145.92,157.75L146.01,132.19L146.1,115.1L146.64,133.42L146.92,132.02L147.01,122.17L147.73,139.15L147.82,100.56L148.55,159.75L148.64,132.34L148.73,111.98L149.46,155.73L149.64,148.35L149.73,132.23L149.91,105.21L150.09,136.26L150.27,135.23L150.36,143.08L150.73,128.63L151,140.75L151.09,154.68L151.72,117.81L151.91,135.92L152,133.49L152.45,109.23L152.63,151.8L152.72,133.9L152.81,126.49L153.09,115.89L153.72,141.89L153.81,133.73L153.9,127.08L153.99,149.41L154.27,141.24L154.36,153.29L154.9,113.3L155.08,135.37L155.17,144.43L155.26,123.53L155.9,139.37L155.99,140.01L156.26,142.71L156.62,114.17L156.72,145.1L157.44,109.95L157.53,142.74L158.08,143.45L158.35,126.45L158.44,151.03L158.8,156.95L158.89,128.7L159.26,140.25L159.35,138.45L159.44,138.81L159.53,148.56L159.8,126.83L160.35,131.34L160.44,135.07L160.53,137.27L160.71,130.73L160.8,112.69L161.07,142.37L161.62,134.11L161.71,137.02L162.07,151.55L162.34,130.56L162.43,130.43L162.52,143.94L162.8,104.11L163.07,128.34L163.16,127.38L163.52,105.78L163.88,143.14L163.98,128.73L164.88,150.53L164.97,134.6L165.06,132.2L165.15,138.61L165.25,132.56L165.34,157.68L165.88,116.82L166.15,134.38L166.24,135.63L166.7,146.5L166.79,112.51L166.97,129.43L167.06,137.16L167.33,131.79L167.6,150.19L167.7,135.38L167.79,132.69L167.88,117.66L167.97,154.2L168.51,132.03L168.6,136.1L168.69,119.5L169.06,147.52L169.42,120.75L169.51,139.27L169.69,126.77L169.78,147.25L169.87,154.95L170.33,120.63L170.69,140.17L170.78,135.42L170.87,120.47L171.23,140.43L171.51,125.87L171.6,153.78L171.96,131.6L172.41,132.43L172.51,134.2L172.69,141.81L172.78,127.24L173.05,136.32L173.14,121.68L173.78,149.56L173.87,133.79L173.96,135.31L174.23,134.4L174.5,148.2L174.59,131.28L175.23,144.67L175.41,136.38L175.5,140.39L176.04,143.68L176.23,128.58L176.32,135.69L176.41,134.45L176.5,129.91L176.77,143.87L177.13,132.22L177.22,134.39L177.41,132.36L177.5,138.52L177.59,146.66L178.13,131.13L178.4,134.47L178.49,143.69L178.77,144.82L179.04,125.64L179.22,135.59L179.31,143.52L180.13,128.96L180.22,139.9L181.04,128.92L181.13,137.36L181.31,129.8L181.49,144.63L181.67,139.41L181.76,121L182.49,143.01L182.58,137.51L182.67,133.94L182.85,144.52L182.94,133.75L183.39,135.36L183.49,131.99L183.85,129.07L184.03,141.18L184.3,136.68L184.39,138.69L184.48,131.36L185.12,139.49L185.21,135.22L185.39,133.93L185.48,141.43L185.84,139.2L185.94,131.58L186.66,142.88L186.75,138.46L186.84,134.48L186.93,129.6L187.3,142.37L187.48,138.58L187.57,138.62L187.84,140.8L187.93,127.57L188.29,138.61L188.39,132.7L189.02,128.2L189.11,153.4L189.2,137.01L189.29,136.62L189.38,140.97L189.66,157.36L189.93,131.53L190.02,145.82L190.11,151.86L190.29,117.4L190.47,145.07L190.56,124.86L190.74,149.51L191.02,109.93L191.38,142.87L191.47,142.63L191.56,125.26L191.92,156.4L192.2,137.06L192.29,145.65L192.38,142.12L192.47,151.86L192.83,150.65L192.92,153.06L193.74,81.4L193.83,142.21L193.92,144.85L194.01,135.04L194.1,124.17L194.28,121.84L195.1,159.7L195.19,117.78L195.46,155.93L195.92,112.97L196.01,140.68L196.1,145.82L196.19,153.1L196.37,112.34L196.82,144.83L196.92,119.55L197.64,159.67L197.73,145.93L197.82,125.62L198,146.73L198.09,101.56L198.55,135.8L198.64,133.71L198.73,101.47L199,150.97L199.27,135.68L199.37,144.97L199.64,143.47L199.73,156.05L199.82,144.95L199.91,114.39L200.55,159.74L200.73,144.26L200.82,108.22L201.36,156.33L201.45,142.53L201.54,89.76L201.91,154.74L202.36,142.15L202.45,148.12L202.63,158.3L202.81,121.06L203.27,131.29L203.36,156.26L204.08,118.78L204.17,149.11L204.36,144.54L204.45,158.69L204.81,99.77L205.26,136.24L205.35,131.29L206.08,159.46L206.17,140.05L206.53,155.87L206.62,149.66L206.72,127.08L207.26,156.34L207.35,139.48L207.44,121.57L207.62,115.66L208.17,155.01L208.26,141.77L208.35,116.86L208.89,154.89L208.98,137.73L209.08,139.79L209.62,137.85L209.71,152.71L209.89,146.16L209.98,142.1L210.25,153.99L210.35,137.09L210.44,153.25L210.53,125.18L211.07,153.61L211.34,150.29L211.43,145.8L211.62,132.27L211.8,145.53L211.89,156.26L212.43,137.15L212.7,146.8L212.8,152.19L213.07,145.59L213.16,145.93L213.25,119.53L213.7,149.51L214.07,142.81L214.16,143.52L214.25,132.67L214.52,156.38L214.79,153.88L214.88,149.81L214.97,150.5L215.06,123.27L215.7,157.05L215.79,121.06L215.88,143.15L215.97,125.91L216.15,149.86L216.7,122.27L216.79,145.04L216.88,145.06L217.15,135.2L217.24,149.65L217.61,142.69L217.7,159.15L218.6,140.98L218.69,149.24L218.88,151.2L219.51,123.04L219.6,147.96L219.78,149.27L219.87,132.68L220.15,144.16L220.24,145.52L220.42,156.34L220.78,140.99L220.96,143.78L221.05,149.27L221.14,158.6L221.33,141.09L221.69,148.55L221.78,137.92L222.14,146.48L222.23,128.84L222.32,147.86L222.41,148.13L222.51,135.34L222.6,133.22L222.69,148.95L222.96,135.51L223.23,148.87L223.32,158.77L224.14,130.3L224.23,139.93L224.32,153.65L224.68,131.31L225.05,144.76L225.14,153.12L225.68,140.17L225.86,149.3L225.95,146.88L226.23,130.96L226.77,157.24L226.86,148.47L226.95,114.46L227.13,158.83L227.59,148.05L227.68,159.88L228.4,141.64L228.49,147.72L228.59,149.82L228.86,157.49L229.04,130.62L229.31,148.69L229.4,148.76L229.67,127.96L229.76,150.8L229.95,142.95L230.04,146.83L230.22,135.07L230.4,157.58\" style=\"vector-effect: none; fill: none; stroke: rgb(99, 110, 250); stroke-opacity: 1; stroke-width: 2px; opacity: 1;\"/></g><g class=\"points\"/><g class=\"text\"/></g></g></g><g class=\"overplot\"/><path class=\"xlines-above crisp\" d=\"M0,0\" style=\"fill: none;\"/><path class=\"ylines-above crisp\" d=\"M0,0\" style=\"fill: none;\"/><g class=\"overlines-above\"/><g class=\"xaxislayer-above\"><g class=\"xtick\"><text text-anchor=\"middle\" x=\"0\" y=\"509\" transform=\"translate(170.65,0)\" style=\"font-family: 'Open Sans', verdana, arial, sans-serif; font-size: 12px; fill: rgb(42, 63, 95); fill-opacity: 1; white-space: pre; opacity: 1;\">1000</text></g><g class=\"xtick\"><text text-anchor=\"middle\" x=\"0\" y=\"509\" style=\"font-family: 'Open Sans', verdana, arial, sans-serif; font-size: 12px; fill: rgb(42, 63, 95); fill-opacity: 1; white-space: pre; opacity: 1;\" transform=\"translate(261.4,0)\">2000</text></g></g><g class=\"yaxislayer-above\"><g class=\"ytick\"><text text-anchor=\"end\" x=\"79\" y=\"4.199999999999999\" transform=\"translate(0,487.73)\" style=\"font-family: 'Open Sans', verdana, arial, sans-serif; font-size: 12px; fill: rgb(42, 63, 95); fill-opacity: 1; white-space: pre; opacity: 1;\">0</text></g><g class=\"ytick\"><text text-anchor=\"end\" x=\"79\" y=\"4.199999999999999\" style=\"font-family: 'Open Sans', verdana, arial, sans-serif; font-size: 12px; fill: rgb(42, 63, 95); fill-opacity: 1; white-space: pre; opacity: 1;\" transform=\"translate(0,447.69)\">0.05</text></g><g class=\"ytick\"><text text-anchor=\"end\" x=\"79\" y=\"4.199999999999999\" style=\"font-family: 'Open Sans', verdana, arial, sans-serif; font-size: 12px; fill: rgb(42, 63, 95); fill-opacity: 1; white-space: pre; opacity: 1;\" transform=\"translate(0,407.64)\">0.1</text></g><g class=\"ytick\"><text text-anchor=\"end\" x=\"79\" y=\"4.199999999999999\" style=\"font-family: 'Open Sans', verdana, arial, sans-serif; font-size: 12px; fill: rgb(42, 63, 95); fill-opacity: 1; white-space: pre; opacity: 1;\" transform=\"translate(0,367.59999999999997)\">0.15</text></g></g><g class=\"overaxes-above\"/></g><g class=\"subplot x2y2\"><g class=\"layer-subplot\"><g class=\"shapelayer\"/><g class=\"imagelayer\"/></g><g class=\"minor-gridlayer\"><g class=\"x2\"/><g class=\"y2\"/></g><g class=\"gridlayer\"><g class=\"x2\"><path class=\"x2grid crisp\" transform=\"translate(487.45000000000005,0)\" d=\"M0,327.7v168.29999999999998\" style=\"stroke: rgb(255, 255, 255); stroke-opacity: 1; stroke-width: 1px;\"/><path class=\"x2grid crisp\" transform=\"translate(578.2,0)\" d=\"M0,327.7v168.29999999999998\" style=\"stroke: rgb(255, 255, 255); stroke-opacity: 1; stroke-width: 1px;\"/></g><g class=\"y2\"><path class=\"y2grid crisp\" transform=\"translate(0,411.81)\" d=\"M396.8,0h230.39999999999995\" style=\"stroke: rgb(255, 255, 255); stroke-opacity: 1; stroke-width: 1px;\"/><path class=\"y2grid crisp\" transform=\"translate(0,336.01)\" d=\"M396.8,0h230.39999999999995\" style=\"stroke: rgb(255, 255, 255); stroke-opacity: 1; stroke-width: 1px;\"/></g></g><g class=\"zerolinelayer\"><path class=\"y2zl zl crisp\" transform=\"translate(0,487.62)\" d=\"M396.8,0h230.39999999999995\" style=\"stroke: rgb(255, 255, 255); stroke-opacity: 1; stroke-width: 2px;\"/></g><path class=\"xlines-below\"/><path class=\"ylines-below\"/><g class=\"overlines-below\"/><g class=\"xaxislayer-below\"/><g class=\"yaxislayer-below\"/><g class=\"overaxes-below\"/><g class=\"plot\" transform=\"translate(396.8,327.7)\" clip-path=\"url(#clip441bbax2y2plot)\"><g class=\"scatterlayer mlayer\"><g class=\"trace scatter tracee3971c\" style=\"stroke-miterlimit: 2; opacity: 1;\"><g class=\"fills\"/><g class=\"errorbars\"/><g class=\"lines\"><path class=\"js-line\" d=\"M0,159.89L0.09,26.88L0.73,159.88L0.82,119.86L1,93.55L1.09,98.97L1.18,158.73L1.54,39.28L2,57.33L2.09,138.65L2.27,17.41L2.72,150.63L2.9,37.8L2.99,119.7L3.27,28.4L3.81,32.72L3.9,55.93L4.36,92.08L4.45,9.06L4.9,13.83L4.99,58.62L5.54,14.89L5.63,19.96L5.72,71.86L5.99,18.56L6.35,41.37L6.44,108.19L6.9,22.19L7.17,121.99L7.26,22.43L7.35,41.12L7.53,11.55L7.99,35.57L8.08,54.71L8.53,11.81L8.89,33.51L8.98,45.96L9.26,134.08L9.44,14.08L9.53,52.83L9.62,26.65L9.8,36.45L9.89,26.08L9.98,73.93L10.07,116.69L10.53,16.16L10.62,14.58L11.25,73.75L11.34,34.45L11.43,14.27L11.52,113.46L12.25,91.61L12.34,28.74L12.61,18.81L12.7,44.46L12.79,41.28L12.89,119.42L12.98,9.75L13.61,40.1L13.7,49.46L13.79,54.31L13.88,35.44L13.97,47.6L14.07,23.87L14.16,15.04L14.25,81.83L14.79,20.01L14.88,32.04L14.97,108.41L15.06,21.22L15.79,28.08L15.88,15.52L16.33,65.14L16.61,20.69L16.7,17.74L16.79,43.29L17.15,13.65L17.51,40.78L17.6,25.59L17.7,28.21L17.79,66.93L17.97,9.7L18.6,14.98L18.69,25.17L18.78,16.46L19.24,40.29L19.33,21.23L19.42,43.8L19.87,46.38L20.05,14.56L20.15,19.85L20.24,41.73L20.51,63.75L21.05,9.57L21.14,62.21L21.69,14.85L21.96,20.56L22.05,55.25L22.78,9.75L22.87,36.19L23.23,12.1L23.41,72.37L23.5,35.64L23.59,18.41L23.68,61.02L23.96,16.89L24.32,28.81L24.41,41.94L24.59,10.98L24.68,43.2L25.23,18.83L25.32,23.93L25.41,15.5L25.5,33.25L25.86,26.88L25.95,36.51L26.23,11.61L26.41,39.53L26.77,14.49L26.86,16.04L27.13,30.9L27.22,15.01L27.31,13.7L27.5,8.89L27.77,44.29L28.13,25.37L28.22,12.93L28.4,44.26L28.68,39.79L28.77,8.51L29.58,42.52L29.67,11.4L29.85,11.04L30.22,34.57L30.31,26.62L30.4,9.01L30.76,48.35L31.22,29.27L31.31,18.49L31.4,14.02L31.76,29.91L31.85,69.7L32.12,77.5L32.31,25.38L32.49,63.03L32.58,86.31L33.48,8.42L33.58,20.43L33.67,10.07L33.76,48.8L33.94,38.12L34.03,104.68L34.21,15.63L34.85,30.91L34.94,26.06L35.12,71.69L35.3,44.07L35.39,20.98L35.66,80.05L35.93,13.59L36.3,68.08L36.39,54.79L36.84,87.2L37.21,17.76L37.3,47.24L37.84,11L37.93,97.7L38.02,81.45L38.11,61.62L38.48,73.17L38.93,16.05L39.02,57.46L39.11,53.36L39.2,100.56L40.11,16.53L40.2,87.3L40.47,21.04L40.93,91.16L41.02,54.72L41.11,48.71L41.38,24.05L41.65,80.07L41.74,86.01L42.11,11.96L42.47,90.48L42.56,27.94L42.65,48.88L42.83,9.67L43.01,79.85L43.29,35.52L43.38,62.16L43.83,19.22L43.92,76.94L44.01,84.03L44.46,16.05L44.83,22.95L44.92,53.71L45.1,83.42L45.37,8.9L45.64,52.57L45.74,89.26L46.55,15.8L46.64,131.97L47.19,147.59L47.28,9.17L47.46,52.97L47.55,100.34L47.82,140.73L47.91,30.06L48.28,45.83L48.37,96.04L48.82,12.13L49.18,48.17L49.27,56.25L49.46,129.3L49.73,33.67L49.91,74.82L50,50.79L50.18,152.98L50.54,88.87L50.64,72.21L51.09,86.9L51.45,21.73L51.54,68L51.82,41.53L51.91,71.49L52,43.91L52.09,145.79L52.63,16.16L52.9,49.92L52.99,89.78L53.36,35.53L53.45,92.03L53.72,54.86L53.81,83.47L54.17,110.94L54.27,22.81L54.63,41.17L54.72,126.46L55.35,45.32L55.54,51.69L55.63,81.32L55.9,128.74L56.35,47.33L56.44,81.98L56.81,131.12L57.26,29.01L57.35,38.51L58.08,134.24L58.17,118.32L58.26,83.62L58.44,38.18L58.53,73.01L58.71,151.55L59.07,35.67L59.26,133.24L59.35,118.55L59.53,80.18L59.71,140.8L59.8,59.97L60.35,18.64L60.71,146.5L60.8,79.15L60.89,130.49L61.07,77.66L61.52,89.98L61.62,66.07L61.71,130.61L62.25,36.56L62.34,81.38L62.43,55.19L63.07,48.44L63.16,102.51L63.34,99.45L63.43,72.6L63.52,70.81L63.7,79.68L63.79,47.33L63.88,95.25L64.52,72.62L64.61,57.87L64.79,55.1L64.97,111.53L65.25,94.44L65.34,48.7L66.24,131.5L66.33,75.47L66.61,46.8L66.7,100.97L66.79,79.7L66.88,154.42L67.51,69.78L67.6,73.69L67.7,146.86L67.97,29.84L68.51,62.1L68.6,63.22L69.06,11.86L69.51,140.43L69.6,76.1L70.05,33.62L70.15,84.49L70.33,73.07L70.42,93.57L70.87,36.94L70.96,71.96L71.05,150.38L71.6,64.72L71.87,71.41L71.96,96.17L72.23,119.6L72.41,35.57L72.69,71.16L72.78,127.37L73.05,22.27L73.59,46.98L73.68,61.08L74.14,148.18L74.5,127.64L74.59,117.02L74.86,158.08L74.95,87.24L75.23,156.64L75.32,84.56L75.5,140.2L75.95,58.96L76.04,40.8L76.59,158.85L76.77,50.75L76.86,66.3L77.22,142.78L77.5,26.22L77.59,28.1L77.95,91.74L78.22,11.46L78.4,68.83L78.49,82.08L78.58,48.57L79.04,117.9L79.13,89.93L79.22,127.52L79.67,141.89L79.86,35.85L79.95,116.53L80.04,122.4L80.22,12.19L80.85,17.85L80.94,37.84L81.03,24.62L81.13,48.3L81.22,113.72L81.94,114.8L82.12,21.61L82.21,58.48L82.4,135.29L82.67,22.36L83.12,28.81L83.21,72.08L83.39,75.77L83.48,17.02L83.58,38.7L83.67,72.57L83.94,98.67L84.12,14.94L84.21,50.89L84.3,138.16L85.03,28.54L85.12,36.48L85.21,65.05L85.3,140.32L85.66,26.18L85.84,117.19L85.93,33.2L86.48,14.72L86.57,131.75L86.66,26.97L87.3,141.53L87.39,47.9L87.48,65.34L87.57,9.58L88.11,114.33L88.2,50.72L88.29,66.83L88.66,13.23L88.75,140.81L88.84,31.94L88.93,109.71L89.56,8.95L89.75,28.75L89.84,117.18L90.65,28.14L90.74,38.37L90.93,19.13L91.02,66.78L91.2,29.5L91.29,12.89L91.74,9.89L92.11,53.1L92.2,30.67L92.56,25.41L92.74,57.35L92.83,40.85L92.92,9.52L93.47,56.22L93.65,34.18L93.74,20.59L94.28,15.33L94.37,44.69L94.65,41.95L94.74,14.02L95.01,44.84L95.55,33.41L95.64,27.08L95.74,16.96L96.19,40.32L96.28,30.14L96.37,33.63L96.55,20.85L96.82,30.34L96.92,48.61L97.64,16.41L97.82,27.08L97.91,29.85L98.19,18.65L98.46,48.64L98.64,37.22L98.73,32.34L98.91,34.21L99,22.52L99.37,41.51L99.82,32.45L99.91,31.11L100.18,19.54L100.45,28.47L100.54,31.68L100.82,14.5L101.27,49.22L101.36,39.02L101.45,31.5L101.54,32.67L101.63,31.53L101.72,23.79L102,35.07L102.36,31.79L102.45,19.05L102.99,40.76L103.18,29.27L103.27,24.48L103.99,35.52L104.08,29.67L104.17,15.98L104.45,41.69L104.81,28.27L104.9,30.65L105.17,29.61L105.26,40.21L105.35,30.26L105.44,29.12L105.54,29.6L105.63,23.93L106.17,40.72L106.44,29.8L106.53,24.55L106.9,23.25L107.08,41.17L107.26,25.46L107.35,28.77L107.99,24.9L108.08,35.01L108.17,24.02L108.8,37.95L108.89,32.86L108.98,31.84L109.26,24.12L109.71,38.05L109.8,30.22L109.89,19.5L109.98,33.32L110.44,29.78L110.53,48.87L111.16,48.9L111.25,28.24L111.34,35.26L111.43,34.97L111.71,39.64L111.8,16.58L111.89,26.9L111.98,34.34L112.25,48.73L112.43,27.26L112.7,30.64L112.8,32.27L112.89,46.75L112.98,30.18L113.52,44.5L113.61,31.22L113.79,34.4L114.07,28.87L114.16,22.15L114.79,19.96L114.97,34.46L115.06,31.46L115.25,32.17L115.34,44.48L116.06,27.04L116.15,32.3L116.24,35.16L116.61,19.25L116.88,33.18L116.97,38.07L117.24,25.57L117.33,40.89L117.6,28.76L117.7,49.52L117.97,22.66L118.33,58.4L118.51,29.63L118.6,38.98L119.33,20.87L119.42,28.57L119.51,22.27L119.69,38.68L119.78,23.94L119.87,20.04L120.15,10.34L120.33,34.51L120.69,34.33L120.78,24.29L121.05,19.45L121.51,39.23L121.6,23.26L121.87,17.7L122.05,36.39L122.32,36.02L122.41,9.61L123.14,42.6L123.23,25.46L123.32,26.35L123.78,23.49L123.87,46.87L123.96,25.49L124.05,14.43L124.32,34.18L124.5,14.17L124.86,31.89L124.96,35.99L125.14,9.71L125.32,28.86L125.41,81.44L125.86,17.79L126.23,18.23L126.32,31.22L126.5,38.24L127.13,12.57L127.22,25.28L127.31,22.92L127.41,47.61L127.59,48.02L127.86,9.48L128.04,27.26L128.13,71.28L128.95,11.75L129.04,24.5L129.4,31.15L129.58,10.97L129.76,11.19L129.86,27.29L130.04,34.75L130.13,25.28L130.22,31.81L130.31,24.23L130.4,11.6L130.85,45.51L130.94,42.2L131.49,43.44L131.58,11.43L131.67,59.22L131.76,25.66L132.4,33.07L132.49,37.23L132.58,12.01L133.03,57.05L133.21,36.12L133.3,32.48L133.48,60.67L134.21,8.62L134.3,29.56L134.48,11.21L134.85,60.4L135.03,18.67L135.12,19.33L135.39,86.47L135.75,37.46L135.84,34.51L135.94,36.76L136.03,102.7L136.21,13.95L136.84,20.55L136.93,13.71L137.11,47.5L137.66,31.33L137.75,15.88L137.93,47.37L138.48,29.61L138.57,26.22L139.02,13.37L139.11,49.82L139.2,25.58L139.29,18.01L139.93,51.57L140.02,32.88L140.11,27.51L140.29,20.07L140.56,46.62L140.74,27.89L140.84,20.35L141.29,42.33L141.56,31.72L141.65,25.13L142.2,16.25L142.47,52.96L142.56,33.65L143.19,16.27L143.29,38.86L143.47,13.79L143.83,51.08L143.92,39.47L144.01,66.35L144.1,9.37L144.65,84.51L144.83,11.01L144.92,28.8L145.01,30.4L145.1,18.99L145.28,26.45L145.37,66.57L145.83,13.85L146.01,42.47L146.1,40.18L146.19,57.63L146.64,20.75L146.82,41.47L146.92,31.99L147.01,34.48L147.1,21.96L147.28,26.68L147.37,12.9L147.73,10.61L148.09,48.51L148.19,18.58L148.55,50.28L149,32.07L149.09,33.35L149.55,15.9L149.82,47.75L149.91,8.57L150.27,37.16L150.64,35.41L150.73,21.65L151,20.64L151.18,49.01L151.45,25.92L151.54,28.79L151.82,40.6L152,15.09L152.18,20.69L152.27,25.96L152.45,48.96L152.63,19.03L153,24.53L153.09,21.61L153.18,36.99L153.72,15.62L153.81,34.02L153.9,13.4L154.36,45.55L154.72,30.19L154.81,27.24L154.99,58.99L155.35,26.25L155.54,38.11L155.63,27.61L155.9,13.54L156.35,15.92L156.44,28.8L156.53,21.11L156.9,34.97L157.17,23.45L157.26,35.77L157.35,26.76L157.53,68.59L157.99,26.77L158.08,29.52L158.17,47.6L158.26,19.7L158.8,26.36L158.89,14.85L159.62,38.16L159.71,21.68L160.16,33.25L160.25,36.25L160.62,36.76L160.89,15.71L161.07,24.89L161.16,28.74L161.25,32.17L161.34,26.68L161.43,31.51L161.53,70.95L161.62,22.8L162.34,23.47L162.43,24.14L162.52,23.52L162.61,32.76L162.89,18.7L162.98,38.89L163.43,27.42L163.52,39.37L164.16,25.2L164.25,38.11L164.34,55.75L164.43,16.25L164.97,32.89L165.06,15.99L165.43,28.51L165.88,23.52L165.97,26.34L166.43,14.18L166.52,35.07L166.7,24.27L166.79,30.52L166.97,37.21L167.06,11.05L167.15,38.11L167.51,21.29L167.97,21.41L168.06,28.83L168.15,19.4L168.6,31.61L168.78,25.78L168.88,23.08L169.15,35.22L169.33,28.84L169.42,25.48L169.51,13.52L169.69,29.51L170.05,18.9L170.15,32.52L170.42,16.62L170.51,34.56L170.6,22.4L170.69,38.62L171.51,20.66L171.6,29.74L171.78,18.7L171.96,24.45L172.05,27.78L172.41,32.95L172.51,21.83L172.69,30L172.78,25.92L172.87,22.99L173.14,33.2L173.32,30.96L173.41,38.54L173.59,22.24L174.23,22.65L174.32,18.88L174.77,34.6L175.05,18.56L175.14,27.16L175.23,22.1L175.59,18.28L176.04,44.06L176.13,23.18L176.23,32.76L176.86,31.32L176.95,26.25L177.22,28.18L177.41,22.74L177.5,34.17L178.4,18.66L178.49,29.69L178.58,29.95L178.68,25.62L178.77,26.11L178.86,36.29L178.95,17.33L179.04,42.13L179.58,34.34L179.67,40.02L179.95,17.1L180.49,18.35L180.58,28.38L180.67,12.69L180.85,34.85L181.31,16.47L181.4,24.17L181.58,27.49L181.76,21.22L181.85,15.63L182.03,51.01L182.49,36.58L182.58,21.3L182.67,24.6L182.76,64.53L183.49,17.89L183.58,25.94L183.67,29.67L183.76,34.04L184.12,24.1L184.3,29.05L184.39,10.09L185.03,31.64L185.21,26.69L185.3,26.05L185.39,24.41L185.48,55.16L185.94,9.99L186.3,29.41L186.39,24.81L186.75,18.77L186.93,32.57L187.11,27.77L187.21,58.02L187.48,11.67L187.84,71.05L188.02,32.81L188.11,24.25L188.48,20.64L188.57,38.52L188.75,26.86L188.84,21.25L189.2,17.45L189.29,28.7L189.66,27.67L189.75,9.1L190.2,46.34L190.56,34.38L190.65,23.34L190.84,17.9L190.93,26.86L191.02,24.86L191.11,48.71L191.56,13.81L191.92,27.53L192.02,24.04L192.29,26.81L192.38,10.14L192.83,48.28L193.19,25.96L193.29,21.66L193.74,32.21L193.83,18.46L194.1,27.09L194.19,25.39L194.47,34.68L194.83,20.79L194.92,30.9L195.01,26.5L195.19,36.51L195.74,18.29L195.83,30.92L196.46,15.48L196.55,21.11L196.64,28.11L197.01,15.98L197.1,19.33L197.19,31.52L197.55,11.89L197.64,33.17L197.73,25.75L197.82,30.63L198.19,13.92L198.55,25.84L198.64,30.94L199.18,18.26L199.27,34.46L199.37,25.95L199.46,28.04L199.91,14.03L200.09,28.14L200.18,24.12L200.27,25.47L200.64,17.92L200.82,32.53L201,26.25L201.09,21.98L201.45,33.41L201.82,22.58L201.91,25.96L202,25.65L202.09,32.47L202.18,44.32L202.63,25.1L202.72,25.5L202.81,17.79L203,16.34L203.54,29.2L203.63,25.38L203.72,21.23L204.08,34.17L204.45,24.95L204.54,25.78L204.72,36.89L205.35,9.2L205.45,36L205.63,12.22L205.81,28.35L205.9,26.93L205.99,26.34L206.08,10.63L206.26,38.53L206.9,30.71L206.99,32.04L207.44,32.82L207.71,18.98L207.9,22.21L207.99,25.66L208.17,16.11L208.35,35.74L208.71,25.65L208.8,25.76L208.89,10.2L209.08,39.49L209.53,25.99L209.62,16.58L209.89,36.57L210.35,29.99L210.44,27L210.62,30.39L210.8,22.47L210.98,25.98L211.07,21.51L211.25,34.92L211.71,13.21L211.89,30.17L211.98,21.71L212.43,10.56L212.61,34.79L212.8,26.66L212.89,27.18L213.07,15.82L213.16,30.12L213.7,20.08L213.79,31.23L214.07,19.99L214.34,33.84L214.43,27.89L214.52,33.47L214.61,21.93L215.25,34.46L215.34,23.99L215.43,25.45L215.52,24.72L215.61,27.1L215.7,25.96L215.79,16.13L216.61,30.27L216.7,30.69L217.33,30.75L217.7,18.9L217.79,23.5L218.15,19.81L218.42,32.94L218.51,25.86L218.6,12.32L219.15,32.25L219.42,24.55L219.51,25.78L219.6,35L219.87,19.37L220.15,27.03L220.24,21.19L220.69,31.4L220.78,28.75L220.87,13.84L221.14,40.25L221.69,25.9L221.78,20.55L221.87,44.29L222.05,13.03L222.51,26.13L222.6,21.35L222.87,27.92L223.05,10.89L223.23,27.54L223.32,12.48L223.68,29.2L224.05,25.79L224.14,10.41L224.68,41.03L224.86,35.22L224.96,26.91L225.32,39.27L225.68,24.5L225.77,13.32L225.95,11.4L226.23,47.88L226.41,25.51L226.5,9.63L226.68,9.29L227.31,33.65L227.41,11.02L227.77,53.04L228.13,26.07L228.22,16.64L228.77,44.39L229.04,35.37L229.13,10.69L229.31,10.17L229.67,33.86L229.95,25.7L230.04,23.46L230.22,26.26L230.31,14.57L230.4,17.42\" style=\"vector-effect: none; fill: none; stroke: rgb(239, 85, 59); stroke-opacity: 1; stroke-width: 2px; opacity: 1;\"/></g><g class=\"points\"/><g class=\"text\"/></g></g></g><g class=\"overplot\"/><path class=\"xlines-above crisp\" d=\"M0,0\" style=\"fill: none;\"/><path class=\"ylines-above crisp\" d=\"M0,0\" style=\"fill: none;\"/><g class=\"overlines-above\"/><g class=\"xaxislayer-above\"><g class=\"x2tick\"><text text-anchor=\"middle\" x=\"0\" y=\"509\" transform=\"translate(487.45000000000005,0)\" style=\"font-family: 'Open Sans', verdana, arial, sans-serif; font-size: 12px; fill: rgb(42, 63, 95); fill-opacity: 1; white-space: pre; opacity: 1;\">1000</text></g><g class=\"x2tick\"><text text-anchor=\"middle\" x=\"0\" y=\"509\" style=\"font-family: 'Open Sans', verdana, arial, sans-serif; font-size: 12px; fill: rgb(42, 63, 95); fill-opacity: 1; white-space: pre; opacity: 1;\" transform=\"translate(578.2,0)\">2000</text></g></g><g class=\"yaxislayer-above\"><g class=\"y2tick\"><text text-anchor=\"end\" x=\"395.8\" y=\"4.199999999999999\" transform=\"translate(0,487.62)\" style=\"font-family: 'Open Sans', verdana, arial, sans-serif; font-size: 12px; fill: rgb(42, 63, 95); fill-opacity: 1; white-space: pre; opacity: 1;\">0</text></g><g class=\"y2tick\"><text text-anchor=\"end\" x=\"395.8\" y=\"4.199999999999999\" style=\"font-family: 'Open Sans', verdana, arial, sans-serif; font-size: 12px; fill: rgb(42, 63, 95); fill-opacity: 1; white-space: pre; opacity: 1;\" transform=\"translate(0,411.81)\">0.5</text></g><g class=\"y2tick\"><text text-anchor=\"end\" x=\"395.8\" y=\"4.199999999999999\" style=\"font-family: 'Open Sans', verdana, arial, sans-serif; font-size: 12px; fill: rgb(42, 63, 95); fill-opacity: 1; white-space: pre; opacity: 1;\" transform=\"translate(0,336.01)\">1</text></g></g><g class=\"overaxes-above\"/></g><g class=\"subplot x3y3\"><g class=\"layer-subplot\"><g class=\"shapelayer\"/><g class=\"imagelayer\"/></g><g class=\"minor-gridlayer\"><g class=\"x3\"/><g class=\"y3\"/></g><g class=\"gridlayer\"><g class=\"x3\"><path class=\"x3grid crisp\" transform=\"translate(804.25,0)\" d=\"M0,327.7v168.29999999999998\" style=\"stroke: rgb(255, 255, 255); stroke-opacity: 1; stroke-width: 1px;\"/><path class=\"x3grid crisp\" transform=\"translate(895,0)\" d=\"M0,327.7v168.29999999999998\" style=\"stroke: rgb(255, 255, 255); stroke-opacity: 1; stroke-width: 1px;\"/></g><g class=\"y3\"><path class=\"y3grid crisp\" transform=\"translate(0,410.04999999999995)\" d=\"M713.6,0h230.39999999999995\" style=\"stroke: rgb(255, 255, 255); stroke-opacity: 1; stroke-width: 1px;\"/><path class=\"y3grid crisp\" transform=\"translate(0,332.51)\" d=\"M713.6,0h230.39999999999995\" style=\"stroke: rgb(255, 255, 255); stroke-opacity: 1; stroke-width: 1px;\"/></g></g><g class=\"zerolinelayer\"><path class=\"y3zl zl crisp\" transform=\"translate(0,487.59)\" d=\"M713.6,0h230.39999999999995\" style=\"stroke: rgb(255, 255, 255); stroke-opacity: 1; stroke-width: 2px;\"/></g><path class=\"xlines-below\"/><path class=\"ylines-below\"/><g class=\"overlines-below\"/><g class=\"xaxislayer-below\"/><g class=\"yaxislayer-below\"/><g class=\"overaxes-below\"/><g class=\"plot\" transform=\"translate(713.6,327.7)\" clip-path=\"url(#clip441bbax3y3plot)\"><g class=\"scatterlayer mlayer\"><g class=\"trace scatter trace8695ca\" style=\"stroke-miterlimit: 2; opacity: 1;\"><g class=\"fills\"/><g class=\"errorbars\"/><g class=\"lines\"><path class=\"js-line\" d=\"M0,159.86L0.64,73.08L0.73,159.85L0.82,158.75L0.91,92.07L1.63,105.26L1.72,129.28L1.91,144.96L2.36,77.17L2.54,101.87L2.63,85.12L2.81,96.22L2.9,158.83L3.09,82.91L3.63,108.53L3.72,125.58L3.9,62.9L4.36,108.74L4.45,126.89L4.9,71.58L5.26,114.94L5.35,109.92L5.54,82.81L5.72,124.71L6.08,102.68L6.17,107.93L6.62,81.05L6.9,124.14L6.99,95.6L7.35,129.58L7.62,119.13L7.71,86.7L7.99,139.19L8.44,102.29L8.53,85.99L8.62,122.91L8.8,28.15L9.35,115.24L9.44,64.16L9.53,23.14L9.62,113.46L10.07,104.41L10.16,99.86L10.8,88.63L10.98,158.93L11.07,116.5L11.25,65.77L11.62,85.06L11.71,116.21L11.98,31.09L12.43,101.43L12.52,107.17L12.61,88.11L12.7,110.77L12.98,93.62L13.07,151.22L13.7,157.48L13.88,86.16L13.97,104.75L14.07,101.41L14.43,119.76L14.52,86.18L14.79,98.17L14.88,137.47L14.97,140.91L15.06,112.72L15.34,105.14L15.88,156.65L15.97,102.09L16.24,89.76L16.61,150.65L16.7,90.13L16.79,93.74L16.88,67.74L16.97,55.2L17.24,87.19L17.33,143.45L17.6,48.97L18.15,83.72L18.24,56.29L18.78,27.29L19.06,158.29L19.15,131.82L19.24,65.21L19.69,147.82L19.87,94.41L19.96,93.93L20.15,53.37L20.24,127.24L20.42,43.69L20.51,148.82L20.96,93.97L21.05,110.31L21.51,154.23L21.6,62.89L21.78,130.03L21.87,70.97L21.96,65.8L22.05,91.21L22.14,158.28L22.78,39.96L22.96,91.26L23.05,142.16L23.41,99.29L23.59,159.32L23.78,159.04L23.87,110.73L23.96,54.18L24.14,159.41L24.59,100.54L24.68,123.85L24.86,48.49L25.14,157.43L25.23,154.21L25.32,41.6L25.68,159.72L26.04,145.32L26.13,69.27L26.23,159.86L26.77,67.44L26.95,157.02L27.04,106.43L27.31,105.6L27.4,159.68L27.86,135.86L27.95,128.75L28.31,156.23L28.68,65.23L28.77,158.34L28.86,159L28.95,130.41L29.22,104.55L29.31,159.44L29.58,157.46L29.67,41.79L30.04,158.2L30.4,68.58L30.49,126.37L30.76,159.34L30.94,101.97L31.31,155.46L31.4,152.44L31.49,142.36L31.58,153.48L31.67,58.85L31.76,159.22L32.21,26.63L32.4,152.27L32.49,24.28L32.58,158.99L33.21,23.95L33.3,157.75L33.39,158.3L33.48,156L33.58,122.08L33.85,96.29L33.94,159.28L34.21,136.84L34.3,158.11L34.39,45.76L34.48,159.81L35.03,157.25L35.12,157.94L35.3,152.18L35.39,154.16L35.48,113.61L36.12,91.71L36.21,159.62L36.3,158.61L36.39,159.42L36.66,159.51L37.21,31.67L37.3,157.27L37.48,159.44L37.84,32.47L38.02,157.05L38.11,159.07L38.66,159.42L38.84,129.64L38.93,159.3L39.02,125.56L39.2,159.36L39.66,148.35L39.75,158.79L39.93,150.29L40.02,153L40.11,49.55L40.74,159.77L40.93,159.11L41.02,159.88L41.2,153.9L41.29,36.16L41.65,159.61L42.11,158.59L42.2,143.3L42.38,159.59L42.74,131.91L43.01,159.51L43.1,158.56L43.29,159.85L43.83,148.86L43.92,8.41L44.37,159.77L44.74,159.43L44.83,133.21L45.64,159.23L45.74,158.91L45.83,157.94L45.92,145.09L46.19,159.88L46.55,145.04L46.82,159.42L46.91,158.84L47.01,159.79L47.1,113.61L47.19,159L47.91,158.07L48,158.07L48.09,158.91L48.19,157.5L48.28,142.32L48.64,159.86L49.09,159.77L49.18,158.84L49.36,137.93L49.46,158.51L49.73,158.89L49.91,146.57L50.27,155.36L50.36,158.33L50.45,158.91L50.54,157.13L50.64,143.85L51.45,159.63L51.54,159.48L51.72,159.59L51.91,154.64L52,146.9L52.45,159L52.81,156.89L52.9,158.37L52.99,157.54L53.09,158.21L53.18,146.01L53.72,159.72L53.99,159.15L54.08,157.51L54.45,157.2L54.99,159.75L55.08,158.13L55.26,156.99L55.72,159.35L55.81,150.01L56.08,159.67L56.44,159.48L56.53,144.95L56.9,159.49L57.35,157.41L57.44,156.2L57.99,159.75L58.26,158.81L58.35,157.23L58.44,159.28L58.53,143.11L58.62,159.22L59.35,157.64L59.44,158.15L59.62,159.16L59.71,156.97L59.8,149.87L59.98,159.45L60.62,158.14L60.71,156.08L61.25,159.88L61.52,157.97L61.62,157.78L61.8,157.4L62.07,159.5L62.34,159.48L62.43,156.72L63.25,158.77L63.34,157.63L63.52,156.78L63.88,159.24L64.07,159.12L64.16,157.99L64.7,159.71L64.79,159.48L64.88,157.59L64.97,159.85L65.34,156.95L65.61,157.52L65.7,158.99L66.42,156.19L66.52,158.47L66.61,155.65L66.79,158.87L67.24,157.31L67.33,159.34L67.7,159.79L68.06,157.87L68.15,158.68L68.6,159.56L68.69,156.71L69.42,159.52L69.51,158.48L69.6,157.73L69.69,157.55L69.87,158.44L69.96,157.77L70.05,159.25L70.15,159.83L70.33,157.25L70.69,159.36L70.78,158.88L71.05,159.62L71.51,158.03L71.6,158.09L71.69,159.73L72.41,156.33L72.5,158.23L72.6,157.9L72.87,156.58L73.05,159.14L73.41,158.86L73.5,158.51L73.59,158.11L73.78,159.55L74.14,158.87L74.23,159.6L74.32,159.79L74.41,158.58L74.77,159.02L74.86,158.88L74.95,158.57L75.05,159.33L75.41,158.89L75.5,159.63L75.77,156.38L76.04,158.82L76.13,159.88L76.32,157.91L76.95,158.85L77.04,159.85L77.5,157.3L77.86,158.71L77.95,158.78L78.04,158.98L78.22,157.65L78.31,158.42L78.4,157.75L78.86,159.45L79.22,158.8L79.31,158.88L79.58,159.67L80.22,157.55L80.31,158.78L80.49,159.86L80.85,156.28L81.03,157.41L81.13,158.97L81.58,156.94L81.85,158.39L81.94,158.91L82.31,159.22L82.4,158.85L82.49,159.61L83.48,157.81L83.58,158.66L83.67,158.18L84.12,159.26L84.3,158.33L84.39,158.83L84.57,158.67L84.66,156.67L84.94,159.5L85.48,159.34L85.57,158.78L85.84,158.16L85.93,158.77L86.03,157.78L86.3,158.91L86.57,157.7L86.75,158.85L86.84,157.2L87.39,159.24L87.66,158.85L87.75,159.38L88.29,159.71L88.57,157.84L88.66,158.88L88.93,157.98L89.38,158.72L89.47,159.12L89.66,157.71L89.93,158.71L90.02,159.39L90.38,158L90.74,159.6L90.84,158.63L90.93,158.84L91.47,158.07L91.56,159.3L92.11,157.63L92.38,158.68L92.47,159.02L92.65,158.79L92.74,159.76L92.83,158.21L93.29,159.23L93.65,158.99L93.74,158.95L93.92,159.84L94.37,159.29L94.46,157.57L94.56,159.81L95.19,159.71L95.28,157.66L95.64,157.6L96.19,159.57L96.28,158.33L96.73,158.09L96.82,159.71L97.01,159.03L97.1,158.3L97.28,159.08L97.46,156.67L97.73,157.76L97.82,157.55L98.46,159.75L98.55,158.5L98.64,157.57L99.46,159.76L99.55,157.42L99.91,157.2L100.09,159.2L100.27,159.02L100.36,157.44L100.91,157.01L101.09,159.71L101.18,158.61L101.27,157.49L101.45,157.28L101.54,159.37L102.27,157.51L102.36,158.49L102.45,159.2L102.63,158.92L102.72,157.15L102.99,159.39L103.27,157L103.54,158.92L103.63,157.76L104.45,159.88L104.54,158.47L104.63,157.04L104.9,159.17L105.26,158.88L105.35,158.48L105.54,157.24L105.72,159.67L105.99,158.46L106.08,157.9L106.17,156.83L106.26,159.67L106.62,157.87L106.72,159.49L107.44,159.69L107.71,157.35L107.8,158.58L107.99,159.82L108.17,157.21L108.53,158.68L108.62,158.49L108.71,159.27L108.8,156.73L109.44,159.08L109.53,159.31L109.71,159.64L110.25,157.96L110.35,158.84L110.8,157.4L111.07,158.46L111.16,158.66L111.43,157.74L111.89,158.71L111.98,158.35L112.61,159.12L112.7,158.76L112.8,158.61L112.89,159.08L113.25,157.94L113.52,158.39L113.61,158.54L113.88,157.53L114.07,158.38L114.16,158.52L114.43,158.87L114.61,157.48L114.88,157.99L114.97,158.51L115.52,157.82L115.7,158.98L115.79,158.43L115.88,159.38L116.24,158.06L116.52,158.4L116.61,158.39L116.79,158.52L117.42,157.35L117.51,159L117.7,157.64L118.24,158.26L118.33,159.16L119.06,157.79L119.15,159.77L119.69,157.43L119.96,157.73L120.05,158.2L120.42,158.61L120.6,157.39L120.69,158.95L121.14,157.89L121.33,159.1L121.42,158.22L121.51,158.63L122.14,159.57L122.23,157.02L122.32,158.17L122.41,157.88L122.78,158.74L122.87,156.8L123.41,158.7L123.68,158.3L123.78,157.48L124.23,159.81L124.5,158.4L124.59,157.78L125.5,159.41L125.59,157.43L125.86,157.33L126.13,159.06L126.23,156.66L126.77,156.44L126.95,159.13L127.04,157.81L127.41,157.36L127.5,158.84L127.77,157.97L127.86,156.91L128.22,159.43L128.68,158.39L128.77,158.3L129.13,159.22L129.4,156.66L129.49,157.57L129.58,159.24L130.4,157.12L130.49,157.71L130.67,157.22L130.76,159.39L131.22,157.71L131.31,158.74L132.21,154.74L132.31,156.44L132.85,155.41L133.12,158.09L133.21,157.3L133.3,157.1L133.48,157.64L133.58,159.1L134.03,159.68L134.39,156.15L134.48,157.92L134.66,158.91L134.76,154.77L134.94,158.6L135.3,157.3L135.39,152.31L135.66,159.8L136.12,158.5L136.21,156.6L136.57,152.35L137.11,159.65L137.21,155.19L137.39,159.67L137.48,151.6L137.93,159.13L138.29,156.54L138.39,155.84L138.48,159.59L139.11,158.85L139.2,157.66L139.29,153.44L139.84,158.58L140.02,153.93L140.11,159.56L140.2,156.08L140.84,157.91L140.93,157.8L141.38,159.46L141.65,156.96L141.74,157.64L141.83,154.57L142.38,158.05L142.47,157.91L142.56,156.64L142.74,158.92L142.83,155.37L143.19,157.49L143.29,158.48L143.56,159.41L144.01,156.53L144.1,158.92L144.19,159.18L144.28,157.01L144.47,155.59L144.56,158.5L145.01,157.25L145.1,156.61L145.28,155.85L145.37,159.54L145.83,159.07L145.92,157.63L146.01,157.36L146.1,158.94L146.19,155.75L146.82,159.61L146.92,158.11L147.01,155.78L147.1,155.9L147.19,158.15L147.46,159.18L147.82,156.12L147.91,156.96L148,157.87L148.19,155.77L148.37,156.64L148.46,158.96L148.82,155.71L149,157.33L149.09,159.75L149.18,159.5L149.27,156.63L149.64,159.33L150,159.18L150.09,156.73L150.27,156.3L150.64,159.71L150.73,155.56L151,159.84L151.54,157.44L151.63,157.59L152.09,157.96L152.36,153.65L152.45,156.7L152.54,156.98L152.72,158.25L152.81,153.54L153.45,159.21L153.54,152.09L154.27,159.88L154.36,156.82L154.45,156.54L154.63,159.43L155.26,153.15L155.35,156.73L155.54,152.79L155.72,157.74L156.08,156.72L156.17,156.14L156.62,159.39L156.81,155.83L156.99,157.96L157.08,159.88L157.8,153.19L157.9,156.72L157.99,158.8L158.44,153.2L158.71,154.89L158.8,156.79L158.89,157L158.98,159.53L159.07,153.26L159.71,157.08L159.8,159.04L160.35,159.59L160.53,150.76L160.62,156.7L160.71,159.68L160.8,152.64L161.43,156.77L161.53,156.93L161.62,159.79L161.98,153.06L162.16,156.83L162.25,150.71L163.07,159.12L163.16,159.36L163.88,152.34L163.98,159.56L164.43,159.69L164.79,153.95L164.88,157.77L165.25,159.2L165.34,151.75L165.52,154.26L165.61,158.54L166.06,152.59L166.43,156.7L166.52,156.77L166.61,159.47L166.7,154.42L167.24,156.56L167.33,157.25L167.51,154.07L167.6,159.63L167.97,153.87L168.33,156.45L168.42,158.2L168.6,159.45L168.69,148.76L168.88,156.59L168.97,158.16L169.15,159.44L169.78,154.34L169.87,153.42L170.33,157.89L170.42,149.79L171.14,158.68L171.23,155.66L171.33,157.12L171.42,156.8L171.51,157.71L171.6,153.78L172.05,150.12L172.41,158.63L172.51,156.54L172.69,155.61L172.78,157.98L172.87,159.16L173.05,152.31L173.59,156.4L173.68,156.56L174.32,159.87L174.5,150.06L174.59,157.44L175.05,152.44L175.14,158.85L175.41,154.09L175.5,158.5L175.77,153.35L175.95,159.8L176.32,156.77L176.41,156.51L176.59,152.82L176.68,159.2L177.22,158.37L177.31,154.88L177.5,153.14L177.95,157.99L178.04,151.35L178.95,158.8L179.04,157.97L179.31,153.94L179.58,159.46L179.86,155.93L179.95,158.44L180.13,156.22L180.31,159.67L180.4,155.67L180.67,158.36L180.76,153.9L181.04,157.77L181.31,153.66L181.4,147.67L182.21,159.74L182.31,156.25L182.76,158.97L182.85,157.32L182.94,152.57L183.76,159.52L183.85,158.28L184.39,148.78L184.48,158.76L184.57,156.31L184.66,157.27L184.85,152.86L185.12,158.17L185.21,158.48L185.57,154.32L185.94,157.73L186.03,157.58L186.48,159.83L186.84,152.66L186.93,157.51L187.11,159.46L187.57,154.02L187.66,158.09L188.11,158.19L188.48,153.31L188.57,157.34L188.66,159.29L188.93,154.98L189.2,156.6L189.29,151.61L189.66,159.23L190.11,155.71L190.2,155.16L190.29,155.32L190.38,154.35L190.47,159.02L191.02,152.29L191.11,155.7L191.2,159.31L191.83,153.64L192.11,155.07L192.2,156.58L192.47,152.68L192.65,155.49L192.74,156.01L192.83,155.81L192.92,157.1L193.01,157.87L193.56,154.63L193.65,157.43L193.74,158.98L194.28,152.35L194.56,154.64L194.65,154.91L194.83,151.42L195.46,157.32L195.55,155.98L195.83,159.29L196.01,156.4L196.1,154.27L196.55,156.87L196.64,154.06L196.82,155.23L196.92,153.85L197.01,154.33L197.1,150.17L197.55,149.34L197.82,157.09L197.91,155.07L198,155.75L198.37,153.51L198.73,159.74L198.82,154.13L199.09,153.8L199.37,158.61L199.64,156.6L199.73,155.07L199.82,154.73L199.91,155.92L200,151.64L200.73,159.88L200.82,158.23L200.91,154.96L201.54,157.06L201.72,155.63L201.82,155.08L202.09,156.14L202.18,150.32L202.45,154.88L202.54,155.34L202.72,153.61L202.81,156.39L202.9,151.31L203.45,159.44L203.72,157.64L203.81,155.16L203.99,154.26L204.08,158.65L204.45,155.1L204.54,153.12L204.63,157.87L205.08,152.47L205.35,156.5L205.45,147.52L205.81,157.91L206.26,156.53L206.35,154.63L206.62,158.75L206.72,152.51L207.08,154.88L207.17,155.25L207.35,154.89L207.44,158.5L208.08,151.29L208.17,156.35L208.26,156.22L208.35,152.24L209.17,155.76L209.26,154.75L209.62,157.64L209.71,152.05L210.53,159.64L210.62,152.92L211.07,159.42L211.43,155.45L211.53,154.82L211.71,150.01L212.16,156.21L212.25,155.53L212.34,153.66L212.52,150.09L212.61,158.34L212.89,155.18L212.98,158.01L213.25,159.19L213.43,154.38L213.61,154.8L213.7,159.87L213.79,159.33L213.88,151.63L214.61,155.14L214.7,153.5L215.06,148.48L215.25,158.05L215.61,156.05L215.7,156.35L215.79,153.79L215.97,159.02L216.43,155.66L216.52,157.56L216.61,158.29L216.79,155.2L216.88,155.5L216.97,153.97L217.06,153.52L217.15,155.18L217.24,157.31L218.06,152.23L218.15,154.62L218.24,154.26L218.33,156.46L218.42,156.87L218.69,151.45L219.24,154.87L219.33,158.37L219.78,153.48L219.96,154.73L220.06,156.32L220.42,153.09L220.87,154.59L220.96,154.45L221.05,157.27L221.42,150.76L221.78,156.81L221.87,154.52L222.14,156.55L222.41,155.04L222.51,153.32L222.87,157.68L223.32,155.84L223.41,155.85L223.87,157.85L224.23,152.79L224.32,154.38L224.59,157.57L224.86,155.39L224.96,154.7L225.23,152.59L225.5,158.49L225.68,155.18L225.77,153.45L226.23,159.3L226.5,153.32L226.59,154.65L226.95,156.8L227.04,153.16L227.31,154.9L227.41,155.3L227.59,154.12L227.77,156.85L227.86,155.17L227.95,153.78L228.31,157.08L228.68,155.65L228.77,154.69L229.04,153.59L229.58,156.67L229.67,152.79L230.22,156.35L230.4,155.19\" style=\"vector-effect: none; fill: none; stroke: rgb(0, 204, 150); stroke-opacity: 1; stroke-width: 2px; opacity: 1;\"/></g><g class=\"points\"/><g class=\"text\"/></g></g></g><g class=\"overplot\"/><path class=\"xlines-above crisp\" d=\"M0,0\" style=\"fill: none;\"/><path class=\"ylines-above crisp\" d=\"M0,0\" style=\"fill: none;\"/><g class=\"overlines-above\"/><g class=\"xaxislayer-above\"><g class=\"x3tick\"><text text-anchor=\"middle\" x=\"0\" y=\"509\" transform=\"translate(804.25,0)\" style=\"font-family: 'Open Sans', verdana, arial, sans-serif; font-size: 12px; fill: rgb(42, 63, 95); fill-opacity: 1; white-space: pre; opacity: 1;\">1000</text></g><g class=\"x3tick\"><text text-anchor=\"middle\" x=\"0\" y=\"509\" style=\"font-family: 'Open Sans', verdana, arial, sans-serif; font-size: 12px; fill: rgb(42, 63, 95); fill-opacity: 1; white-space: pre; opacity: 1;\" transform=\"translate(895,0)\">2000</text></g></g><g class=\"yaxislayer-above\"><g class=\"y3tick\"><text text-anchor=\"end\" x=\"712.6\" y=\"4.199999999999999\" transform=\"translate(0,487.59)\" style=\"font-family: 'Open Sans', verdana, arial, sans-serif; font-size: 12px; fill: rgb(42, 63, 95); fill-opacity: 1; white-space: pre; opacity: 1;\">0</text></g><g class=\"y3tick\"><text text-anchor=\"end\" x=\"712.6\" y=\"4.199999999999999\" style=\"font-family: 'Open Sans', verdana, arial, sans-serif; font-size: 12px; fill: rgb(42, 63, 95); fill-opacity: 1; white-space: pre; opacity: 1;\" transform=\"translate(0,410.04999999999995)\">0.5</text></g><g class=\"y3tick\"><text text-anchor=\"end\" x=\"712.6\" y=\"4.199999999999999\" style=\"font-family: 'Open Sans', verdana, arial, sans-serif; font-size: 12px; fill: rgb(42, 63, 95); fill-opacity: 1; white-space: pre; opacity: 1;\" transform=\"translate(0,332.51)\">1</text></g></g><g class=\"overaxes-above\"/></g><g class=\"subplot x4y4\"><g class=\"layer-subplot\"><g class=\"shapelayer\"/><g class=\"imagelayer\"/></g><g class=\"minor-gridlayer\"><g class=\"x4\"/><g class=\"y4\"/></g><g class=\"gridlayer\"><g class=\"x4\"><path class=\"x4grid crisp\" transform=\"translate(170.65,0)\" d=\"M0,100v168.3\" style=\"stroke: rgb(255, 255, 255); stroke-opacity: 1; stroke-width: 1px;\"/><path class=\"x4grid crisp\" transform=\"translate(261.4,0)\" d=\"M0,100v168.3\" style=\"stroke: rgb(255, 255, 255); stroke-opacity: 1; stroke-width: 1px;\"/></g><g class=\"y4\"><path class=\"y4grid crisp\" transform=\"translate(0,183.45999999999998)\" d=\"M80,0h230.4\" style=\"stroke: rgb(255, 255, 255); stroke-opacity: 1; stroke-width: 1px;\"/><path class=\"y4grid crisp\" transform=\"translate(0,106.94)\" d=\"M80,0h230.4\" style=\"stroke: rgb(255, 255, 255); stroke-opacity: 1; stroke-width: 1px;\"/></g></g><g class=\"zerolinelayer\"><path class=\"y4zl zl crisp\" transform=\"translate(0,259.98)\" d=\"M80,0h230.4\" style=\"stroke: rgb(255, 255, 255); stroke-opacity: 1; stroke-width: 2px;\"/></g><path class=\"xlines-below\"/><path class=\"ylines-below\"/><g class=\"overlines-below\"/><g class=\"xaxislayer-below\"/><g class=\"yaxislayer-below\"/><g class=\"overaxes-below\"/><g class=\"plot\" transform=\"translate(80,100)\" clip-path=\"url(#clip441bbax4y4plot)\"><g class=\"scatterlayer mlayer\"><g class=\"trace scatter trace0f4cfb\" style=\"stroke-miterlimit: 2; opacity: 1;\"><g class=\"fills\"/><g class=\"errorbars\"/><g class=\"lines\"><path class=\"js-line\" d=\"M0,76.22L0.27,8.41L0.64,129.93L0.73,73.51L0.82,91.47L1,38.36L1.27,83.14L1.36,128.61L1.45,76.18L2,148.18L2.09,125.77L2.18,115.87L2.27,117.61L2.36,144.63L2.45,83.01L2.63,147.68L3.18,96.32L3.27,159.27L3.9,88.61L4.08,123.95L4.17,122.69L4.54,103.06L4.81,154.24L5.08,145.55L5.17,135.53L5.26,141.44L5.44,125.43L5.63,130.41L5.72,116.93L5.99,158.3L6.35,107.52L6.44,139.03L6.53,122.22L6.62,61.66L7.17,152.88L7.26,122.67L7.35,94L7.44,90.86L7.53,125.37L7.62,148.03L8.26,122.94L8.35,130.49L8.8,159.15L8.98,127.06L9.07,117.94L9.44,140.85L9.53,73.14L9.62,72.86L10.07,141.04L10.34,119.92L10.44,121.49L10.71,120.97L11.07,152.28L11.16,115.77L11.71,159.24L11.8,88.16L11.98,137.53L12.07,135L12.34,140.97L12.89,99.07L12.98,141.5L13.16,99.72L13.25,148.14L13.52,132.47L13.61,146.14L14.25,106.26L14.34,141.86L14.43,135.18L14.88,70.96L15.06,141.93L15.25,112.87L15.34,130.04L15.61,113.3L15.7,157.38L16.52,116.39L16.61,126.44L17.06,115.83L17.24,146.18L17.33,124.63L17.42,116.48L17.79,99.08L17.97,146.13L18.06,136.31L18.15,99.22L18.6,139.22L18.97,126.87L19.06,128.71L19.24,146.17L19.33,111.43L19.87,90.84L20.05,147.62L20.15,133.42L20.24,133.83L20.33,127.66L20.42,129.12L20.51,70.27L21.05,150.42L21.23,135.95L21.32,102.68L21.96,137.41L22.14,128.08L22.23,126.89L22.41,96.44L22.6,156.27L23.05,135.23L23.14,128.06L23.23,127.63L23.32,101.62L23.5,100.41L23.68,152.97L24.14,128.1L24.23,126.37L24.41,117.53L24.5,143.21L24.95,127.62L25.05,130.61L25.14,133.46L25.23,128.06L25.68,128.09L25.77,129.09L25.86,128.22L25.95,128.26L26.04,119.76L26.13,114.68L26.23,129.01L26.32,125.36L26.41,151.88L26.5,117.15L26.68,152.33L27.13,140.39L27.22,131.49L27.77,133.1L27.95,124.56L28.13,126.13L28.22,129.14L28.31,128.16L28.4,131.96L28.49,118.9L28.68,115.69L29.04,140.44L29.31,128.28L29.4,127.01L29.76,136.29L29.85,125.54L30.22,133.04L30.31,122.16L30.85,132.61L30.94,116.59L31.03,120.63L31.13,121.99L31.31,128.13L31.49,118.68L31.58,124.82L31.67,108.02L32.12,152.78L32.49,137.15L32.58,141.1L33.12,120.25L33.39,131.32L33.48,129.93L33.85,116.85L34.03,142.3L34.21,127.06L34.3,129.27L34.39,116.94L34.76,144.66L35.03,128.94L35.12,139.13L35.39,115.8L36.03,121.17L36.12,128.95L36.48,137.11L36.66,133.14L36.75,120.98L37.02,138.74L37.39,116.03L37.48,126.96L37.57,123.3L37.75,119.04L38.02,132.18L38.29,122.87L38.38,127.87L38.66,136.32L38.84,125.61L39.02,134.75L39.11,125.59L39.2,123.28L39.29,126.25L39.38,139.2L39.75,116.34L40.29,125.81L40.38,133.85L40.65,117.4L40.83,125.53L40.93,139.1L41.11,141.64L41.2,122.17L41.74,124.29L41.83,130.33L42.2,133.34L42.38,112.86L42.65,124.88L42.74,126.97L42.83,131.3L43.29,120.34L43.38,127.89L43.47,125.39L43.74,136.98L43.83,114.05L44.28,131.78L44.37,129.84L44.46,133.95L44.56,122.62L44.92,126.08L45.01,117.89L45.1,112.87L45.28,131.16L45.55,118.61L45.64,125.83L45.83,98.86L46.28,145.58L46.46,133.5L46.55,110.57L47.01,150.53L47.37,131.06L47.46,117.35L47.64,114.09L47.91,143.45L48.09,114.69L48.19,109.9L48.55,157.39L48.91,132.88L49,106.68L49.82,146.1L49.91,133.96L50.27,155.77L50.45,92.58L50.73,119.55L50.82,128.72L50.91,134.93L51.09,100.25L51.18,98.71L51.63,136.44L52,129.1L52.09,131.28L52.36,149.18L52.81,118.17L52.9,137.01L53.81,92.67L53.9,127.73L54.45,72.76L54.63,115.92L54.72,135.29L54.9,110.16L54.99,143.93L55.54,112.86L55.63,156.26L56.44,80.55L56.53,111.39L56.62,112.44L56.72,108.42L56.99,118.16L57.08,134.79L57.35,100.06L57.44,137.89L57.71,109L57.8,134.54L58.35,157.16L58.53,102.76L58.62,117.05L58.71,114.7L59.07,82.15L59.53,140.61L59.62,97.56L59.71,97.7L59.8,73.4L60.35,157.24L60.62,113.78L60.71,114.26L60.8,114.78L60.89,101.01L61.07,53.42L61.16,146.12L61.52,114.7L61.62,80.48L61.71,76.3L61.8,113.32L61.89,111.99L61.98,159.89L62.7,110.27L62.8,114.64L62.89,114.85L63.25,155.15L63.43,62.87L63.61,114.9L63.7,116.26L63.79,157.19L64.16,79.07L64.34,114.79L64.43,100.82L65.15,154.47L65.25,41.37L65.88,137.26L65.97,35.3L66.06,92.33L66.15,99.64L66.33,55.53L66.42,101.11L66.79,99.55L66.88,157.3L67.42,75.17L67.79,94.25L67.88,102.16L68.42,34.59L68.51,140.32L68.6,108.56L68.69,142.84L68.78,154.68L68.87,90.39L69.06,123.32L69.15,71.66L69.6,147.87L69.96,138.37L70.05,46.62L70.24,135.65L70.87,119.16L70.96,92.17L71.14,65.92L71.51,153.86L71.78,112.48L71.87,9.66L72.5,155.21L72.69,151.45L72.78,129.86L72.96,152.41L73.5,88.36L73.59,107.71L74.23,148.29L74.41,41.08L74.5,119.05L74.77,154.7L74.95,123.82L75.05,122.01L75.5,158.07L75.59,123.74L75.68,84.48L76.04,28.01L76.32,153.41L76.41,123.28L76.5,107.76L76.68,135.23L77.04,96.22L77.13,122.06L77.22,41.9L77.4,149.94L78.04,117.71L78.13,32.67L78.4,146.54L78.95,110.93L79.04,135.83L79.49,155.72L79.86,77.94L79.95,126.4L80.04,124.81L80.13,132.86L80.22,94.27L80.4,84.22L80.67,120.6L80.94,120.11L81.03,92.39L81.49,41.47L81.85,131.07L81.94,102.86L82.12,131.89L82.21,54.96L83.03,142.81L83.12,107.11L83.39,148.79L83.67,73.99L83.85,130.45L83.94,119.13L84.03,129.1L84.12,73.32L84.21,124.33L84.3,54.59L84.66,129.66L85.12,110.96L85.21,129.23L85.39,143.66L86.03,95.89L86.12,147.73L86.93,105.98L87.02,126.61L87.11,140.42L87.93,85.81L88.02,128.8L88.29,60.98L88.39,157.89L88.66,132.92L88.75,124.67L88.84,124.05L88.93,74.65L89.47,140.33L89.56,124.59L89.66,86.67L89.75,78.61L89.93,125.74L90.02,125.86L90.11,122.07L90.2,131.27L90.29,129.76L90.38,158.38L90.47,92.29L91.11,120.72L91.2,142.28L91.47,146.88L91.83,108.17L92.01,134.46L92.11,144.34L92.38,105.8L92.83,121.03L92.92,131.72L93.01,126.61L93.1,147.96L93.56,137.51L93.65,142.57L93.92,150.86L94.1,104.07L94.37,134.97L94.46,140.45L94.83,122.37L95.1,137.96L95.19,143.93L95.28,122.45L95.64,146.32L95.92,131.45L96.01,142.18L96.73,123.63L96.82,134.01L96.92,140.71L97.55,122.8L97.73,130.83L97.82,125.07L98,153.3L98.09,121.06L98.28,135.09L98.37,131.82L98.82,126.35L98.91,139.91L99.09,133.35L99.18,125.77L99.55,117L99.91,138.67L100,133.79L100.27,124.73L100.45,132.33L100.54,135.4L100.64,142.83L100.73,126.27L101.09,140.45L101.18,125.25L101.72,146.25L101.82,119.83L101.91,118.81L102,144.67L102.45,114.65L102.72,139.23L102.81,129.87L103.18,145.77L103.27,126.14L103.54,136.08L103.63,131.32L103.72,131.71L103.81,139.52L104.27,119.48L104.45,142.35L104.63,122.11L104.72,129.17L104.81,118.4L105.17,136.96L105.35,135.02L105.44,137.12L105.63,123.81L106.08,147.46L106.17,128.52L106.26,136.38L106.72,126.05L106.9,137.25L107.08,132.53L107.17,134.85L107.26,132.98L107.35,113.18L107.53,138.49L107.9,134.81L107.99,98.77L108.71,143.29L108.8,130.87L108.89,133.74L109.35,155.65L109.44,128.54L109.98,142.84L110.25,140.32L110.35,130.73L110.62,119.83L110.98,143.23L111.25,142.89L111.34,129.4L111.89,147.23L112.16,137.74L112.25,132.49L112.34,132.35L112.43,129.21L112.61,125.8L112.7,131.11L112.8,141.27L113.07,112.42L113.25,143.53L113.52,139.66L113.61,145.82L113.7,110.92L114.25,152.91L114.34,140.64L114.43,141.33L114.52,126.12L114.88,144.23L115.15,140.83L115.25,138.63L115.61,129.66L115.7,142.68L115.79,144.13L116.15,126.83L116.61,139.45L116.7,146.76L117.15,127.79L117.24,146.81L117.6,131.97L117.7,124.74L118.06,116.51L118.24,150.47L118.42,137.04L118.51,122.08L118.97,146.42L119.15,117.4L119.33,138.46L119.42,137.54L119.69,146.47L119.87,126.26L120.05,131.57L120.15,116.52L120.24,115.68L120.33,129.94L120.51,146.94L121.05,87.07L121.14,148.9L121.87,124.56L121.96,144.23L122.05,151.72L122.41,121.76L122.5,135.57L122.6,131.21L122.78,137.77L122.87,131.29L123.05,137.19L123.14,130.56L123.23,124.81L123.41,111.94L124.05,153.8L124.14,148.5L124.23,155.91L124.41,133.58L124.77,145.04L124.86,142.14L125.14,124.53L125.68,133.56L125.77,140.09L125.86,147.28L126.04,107.93L126.41,139.66L126.5,133.81L126.59,153.88L127.13,125.52L127.22,153.13L127.31,139.38L127.59,155.54L127.68,133.15L127.77,133.44L127.86,127.91L128.22,141.19L128.31,152.67L128.86,123.54L129.13,132.88L129.22,145.47L129.4,149.4L129.49,127.62L129.95,138.7L130.04,141.7L130.13,150.85L130.49,126.38L130.67,137.31L130.76,137.01L130.85,144.63L131.4,128.39L131.49,123.21L131.58,152.24L131.85,112.38L132.21,128.97L132.31,98.55L132.85,140.58L133.12,138.51L133.21,132.65L133.48,118.72L133.85,143.12L133.94,130.75L134.03,134.94L134.21,148.09L134.76,126.93L134.85,136.73L135.39,137.08L135.57,114.55L135.66,147.15L136.12,115.43L136.39,135.29L136.48,137.19L136.57,124.13L137.02,144.79L137.21,130.75L137.3,159.07L138.11,130.71L138.2,120.35L138.57,110.94L139.02,139.42L139.11,130.38L139.29,105.36L139.75,139.29L139.84,131.39L139.93,124.31L140.65,158.18L140.74,133.89L141.02,137.42L141.2,128.76L141.38,134.92L141.47,132.25L141.65,139.84L141.92,120.48L142.11,133.48L142.2,133.55L142.38,140.54L142.56,127.12L142.92,133.49L143.01,130.89L143.29,125.76L143.38,140.91L143.74,130.62L143.83,126.48L143.92,125.07L144.01,137.75L144.37,130.36L144.65,132.6L144.74,136.85L145.01,139.65L145.19,124.16L145.46,137.16L145.55,134.84L145.74,146.12L145.92,119.51L146.37,128.27L146.46,128.71L147.01,128.34L147.1,146.63L147.28,133.96L147.37,133.94L147.46,132.07L147.64,140.4L147.73,139.71L147.82,116.04L148.37,148.34L148.55,114.99L148.64,136.57L148.73,133.23L149.09,139.48L149.27,125.18L149.37,138.58L149.82,121.25L149.91,141.54L150.36,125.91L150.82,132.74L150.91,137.48L151,140.97L151.09,123.27L151.54,137.13L151.63,127.25L151.82,140.82L152.36,131.92L152.45,132.6L152.54,131.31L152.81,136.73L152.9,134.42L153,138.34L153.09,144.96L153.18,125.36L153.63,137.38L153.72,133.89L153.9,138.14L154.17,136.82L154.27,123.8L154.45,140L154.9,118.39L154.99,123.8L155.08,133.8L155.17,133.33L155.26,138.74L155.54,140.3L155.63,116.44L155.72,132.52L155.81,136.44L156.08,134.45L156.26,142.44L156.35,117.43L156.62,142.44L157.17,137.57L157.26,139.51L157.44,127.54L157.53,151.11L158.17,104.42L158.26,127.51L158.35,139.98L158.89,113.91L159.07,126.84L159.17,138.44L159.62,144.58L159.71,132.64L159.89,136.96L159.98,138.45L160.25,130.4L160.35,139.59L160.62,137.1L160.71,135.7L160.89,128.61L160.98,139.67L161.34,135.74L161.43,135.11L161.89,137.35L162.16,108.13L162.25,149.62L162.34,115.32L162.98,155.37L163.07,137.73L163.16,138.06L163.25,133.21L163.7,143.96L163.98,132.26L164.07,135.29L164.16,134.94L164.25,136.61L164.34,153.38L164.43,99.35L164.97,157.31L165.06,110.13L165.15,142.15L165.34,142.56L165.7,118.61L165.88,133.37L165.97,138.73L166.33,139.98L166.43,86.67L166.52,151.63L167.06,63.64L167.24,138.94L167.33,139.11L167.51,135.27L167.6,123.96L167.7,158.12L167.79,116.21L168.33,133.76L168.42,134.69L168.69,147.44L168.78,54.71L168.88,152.11L169.42,113.46L169.51,21.32L169.69,137.12L170.33,132.89L170.42,134.83L170.78,141.78L170.87,132.66L171.23,149.72L171.33,158.88L171.51,129.46L171.69,133.91L171.78,37.04L171.96,136.46L172.6,116.6L172.69,139.48L173.14,124.07L173.23,141.86L173.5,134.39L173.59,143.21L174.14,153.64L174.23,114.94L174.32,134.13L174.41,134.09L174.5,135.93L174.59,126.63L174.77,130.48L174.86,85.59L175.59,145.76L175.68,127.91L175.77,135.75L176.04,144.14L176.23,131.38L176.32,158.39L176.95,94.49L177.13,134.91L177.22,134.09L177.31,134.65L177.41,128.45L177.59,138.12L177.68,60.54L178.13,155.77L178.49,146.22L178.58,136.81L178.86,127.07L179.04,129.13L179.13,143.43L179.76,94.46L179.86,122.93L179.95,133.56L180.04,133.34L180.13,133.95L180.22,141L180.49,91.43L180.58,141.58L180.85,155.05L181.04,129.11L181.13,144.2L181.22,158.21L181.58,108.5L182.03,133.33L182.12,134.05L182.31,144.12L182.4,132.96L182.49,136.94L182.58,76.28L183.03,156.24L183.39,133.37L183.49,135.71L183.58,134.33L183.67,108.03L183.94,152.38L184.48,146.44L184.57,152.85L185.12,127.41L185.21,147.19L185.3,53.28L185.66,145.3L185.75,27.4L186.12,134.42L186.21,136.34L186.39,32.42L186.48,142.36L186.57,133.83L186.66,133.45L186.75,128.28L187.02,111.15L187.11,151.19L187.48,127.24L187.57,127.02L188.2,155.8L188.29,132.95L188.39,133.78L188.48,134.13L188.57,137.67L188.66,143.9L188.75,129.25L188.84,29.59L189.47,139.91L189.66,133.91L189.75,132.53L189.93,137.79L190.02,57.38L190.11,134.75L190.47,141.61L190.65,123.1L190.74,134.27L190.84,132.77L191.2,144.4L191.29,133.36L191.38,157.95L191.56,128.05L191.92,128.65L192.02,87.42L192.83,141.29L192.92,130.56L193.38,128.47L193.65,153.44L193.74,135.96L194.28,147.22L194.47,104.32L194.56,138.59L194.83,122.49L195.19,142.81L195.28,138.24L195.37,136.16L195.46,134.04L195.55,138.97L195.74,138.34L195.83,144.56L195.92,125.68L196.01,156.23L196.55,129.23L196.64,144.55L197.28,120.03L197.46,134.15L197.55,137.24L197.82,130.95L197.91,137.02L198.19,153.81L198.37,132.3L198.64,139.51L198.73,132.74L198.91,138.75L199.46,115.82L199.55,136.06L199.64,138.7L200,132.72L200.09,136.07L200.18,127.34L200.91,154.87L201,142.65L201.09,137.23L201.18,136.77L201.36,137.63L201.45,141.05L201.63,142.45L202.36,115.57L202.45,135.18L202.63,131.67L202.81,137.62L202.9,133.69L203,130.82L203.54,151.53L203.81,142L203.9,139.81L204.08,135.78L204.17,155.49L204.9,121.71L204.99,137.25L205.08,131.12L205.45,139.13L205.54,131.89L205.63,88.27L206.44,141.52L206.53,138.29L206.81,139.18L206.9,137.36L206.99,156.25L207.17,128.14L207.8,139.28L207.9,129.48L208.26,145.14L208.35,135.25L208.44,102.38L208.53,142.49L209.17,104.96L209.26,130.87L209.35,139.3L209.98,130.69L210.07,125.67L210.62,156.07L210.71,140L210.8,119.13L211.43,145.97L211.53,133.25L211.62,126.58L211.98,105.32L212.16,144.04L212.43,137.64L212.52,136.75L212.61,142.59L212.7,90.47L212.98,146.11L213.52,135.25L213.61,136.31L213.79,139.35L213.88,125.42L214.07,124.31L214.61,157.63L214.7,135.88L214.79,129.3L214.88,143.18L215.15,136.42L215.25,159.85L216.06,72.2L216.15,135.98L216.61,140.25L216.7,121.68L216.79,132.21L216.88,137.94L217.06,142.75L217.42,131.25L217.51,155.33L218.15,113.73L218.42,129.66L218.51,137.66L218.69,138.22L218.78,141.48L218.88,76.71L219.42,143.23L219.51,137.16L219.6,125.29L220.42,148.09L220.51,137.1L220.69,138.11L220.78,135.85L220.87,113.14L221.42,145.36L221.51,138.57L221.6,104.82L222.23,145.61L222.41,137.46L222.51,135.23L222.69,138.62L222.96,136.09L223.05,157.23L223.68,113.76L223.96,126.22L224.05,137.21L224.14,137.08L224.23,133.11L224.32,133.87L224.41,116.09L225.23,148.46L225.32,143.75L225.59,147.03L225.77,136.8L225.86,142.48L225.95,155.47L226.5,128.09L226.77,131.93L226.86,137.14L227.04,135.33L227.13,132.22L227.22,131.5L227.31,115.43L227.41,142.5L227.77,110.27L228.13,136.78L228.22,137.97L228.4,138.63L228.49,128.68L229.31,154.34L229.4,141.54L229.49,141.98L229.58,136.92L229.67,139.17L229.76,132.51L229.86,120.45L230.13,141.95L230.4,134.22\" style=\"vector-effect: none; fill: none; stroke: rgb(171, 99, 250); stroke-opacity: 1; stroke-width: 2px; opacity: 1;\"/></g><g class=\"points\"/><g class=\"text\"/></g></g></g><g class=\"overplot\"/><path class=\"xlines-above crisp\" d=\"M0,0\" style=\"fill: none;\"/><path class=\"ylines-above crisp\" d=\"M0,0\" style=\"fill: none;\"/><g class=\"overlines-above\"/><g class=\"xaxislayer-above\"><g class=\"x4tick\"><text text-anchor=\"middle\" x=\"0\" y=\"281.3\" transform=\"translate(170.65,0)\" style=\"font-family: 'Open Sans', verdana, arial, sans-serif; font-size: 12px; fill: rgb(42, 63, 95); fill-opacity: 1; white-space: pre; opacity: 1;\">1000</text></g><g class=\"x4tick\"><text text-anchor=\"middle\" x=\"0\" y=\"281.3\" style=\"font-family: 'Open Sans', verdana, arial, sans-serif; font-size: 12px; fill: rgb(42, 63, 95); fill-opacity: 1; white-space: pre; opacity: 1;\" transform=\"translate(261.4,0)\">2000</text></g></g><g class=\"yaxislayer-above\"><g class=\"y4tick\"><text text-anchor=\"end\" x=\"79\" y=\"4.199999999999999\" transform=\"translate(0,259.98)\" style=\"font-family: 'Open Sans', verdana, arial, sans-serif; font-size: 12px; fill: rgb(42, 63, 95); fill-opacity: 1; white-space: pre; opacity: 1;\">0</text></g><g class=\"y4tick\"><text text-anchor=\"end\" x=\"79\" y=\"4.199999999999999\" style=\"font-family: 'Open Sans', verdana, arial, sans-serif; font-size: 12px; fill: rgb(42, 63, 95); fill-opacity: 1; white-space: pre; opacity: 1;\" transform=\"translate(0,183.45999999999998)\">0.5</text></g><g class=\"y4tick\"><text text-anchor=\"end\" x=\"79\" y=\"4.199999999999999\" style=\"font-family: 'Open Sans', verdana, arial, sans-serif; font-size: 12px; fill: rgb(42, 63, 95); fill-opacity: 1; white-space: pre; opacity: 1;\" transform=\"translate(0,106.94)\">1e+4</text></g></g><g class=\"overaxes-above\"/></g><g class=\"subplot x5y5\"><g class=\"layer-subplot\"><g class=\"shapelayer\"/><g class=\"imagelayer\"/></g><g class=\"minor-gridlayer\"><g class=\"x5\"/><g class=\"y5\"/></g><g class=\"gridlayer\"><g class=\"x5\"><path class=\"x5grid crisp\" transform=\"translate(487.45000000000005,0)\" d=\"M0,100v168.3\" style=\"stroke: rgb(255, 255, 255); stroke-opacity: 1; stroke-width: 1px;\"/><path class=\"x5grid crisp\" transform=\"translate(578.2,0)\" d=\"M0,100v168.3\" style=\"stroke: rgb(255, 255, 255); stroke-opacity: 1; stroke-width: 1px;\"/></g><g class=\"y5\"><path class=\"y5grid crisp\" transform=\"translate(0,181.4)\" d=\"M396.8,0h230.39999999999995\" style=\"stroke: rgb(255, 255, 255); stroke-opacity: 1; stroke-width: 1px;\"/><path class=\"y5grid crisp\" transform=\"translate(0,102.91)\" d=\"M396.8,0h230.39999999999995\" style=\"stroke: rgb(255, 255, 255); stroke-opacity: 1; stroke-width: 1px;\"/></g></g><g class=\"zerolinelayer\"><path class=\"y5zl zl crisp\" transform=\"translate(0,259.89)\" d=\"M396.8,0h230.39999999999995\" style=\"stroke: rgb(255, 255, 255); stroke-opacity: 1; stroke-width: 2px;\"/></g><path class=\"xlines-below\"/><path class=\"ylines-below\"/><g class=\"overlines-below\"/><g class=\"xaxislayer-below\"/><g class=\"yaxislayer-below\"/><g class=\"overaxes-below\"/><g class=\"plot\" transform=\"translate(396.8,100)\" clip-path=\"url(#clip441bbax5y5plot)\"><g class=\"scatterlayer mlayer\"><g class=\"trace scatter tracefae4b9\" style=\"stroke-miterlimit: 2; opacity: 1;\"><g class=\"fills\"/><g class=\"errorbars\"/><g class=\"lines\"><path class=\"js-line\" d=\"M0,45.66L0.27,152.75L0.64,26.38L0.82,105.41L0.91,45.55L1,115.17L1.36,31.86L1.72,99.1L1.81,114.83L2.18,136.74L2.27,62.46L2.36,128.97L2.45,141.56L2.72,79.4L2.99,126.26L3.09,113.09L3.18,116.39L3.27,20.97L3.72,120.26L3.99,110.7L4.08,29.41L4.36,155.02L4.72,21.37L4.9,113.06L4.99,43.89L5.26,151.09L5.81,93.61L5.9,114.42L6.08,146.82L6.62,105.36L6.72,72.83L7.26,159.36L7.35,106.06L7.44,57.39L7.53,23.74L7.71,113.37L7.89,111.22L7.99,132.41L8.26,50.96L8.53,90.85L8.62,112.57L8.71,72.32L9.26,137.89L9.35,117.72L9.44,120.01L9.62,70.32L9.71,125.87L9.98,114.5L10.07,118.23L10.16,145.26L10.34,77.96L10.8,115.89L10.89,84.07L11.16,34.22L11.8,149.31L11.89,93.82L12.34,152.72L12.7,120.52L12.79,113.42L12.89,115.92L12.98,111.98L13.07,66.01L13.43,117.47L13.7,38.14L13.88,114.26L13.97,9.74L14.52,128.36L14.79,120.27L14.88,122.2L15.06,130.52L15.34,110.15L15.7,115.35L15.79,151.26L15.88,112.94L16.61,116.41L16.7,122.21L17.42,125.43L17.51,36.84L17.6,127.91L18.24,36.77L18.33,119.96L18.42,117.65L18.51,150.53L18.69,69.59L19.24,75.77L19.33,126.3L19.51,116.98L19.6,134.08L19.69,71.17L20.24,8.41L20.51,158.22L20.6,134.84L20.78,121.23L20.87,129.58L20.96,27.14L21.42,157.16L21.78,85.92L21.87,115.64L22.05,113.18L22.32,157.44L22.6,134.49L22.69,116.64L22.96,143.3L23.32,35.87L23.41,152.89L23.96,82.61L24.14,116.82L24.23,128.82L24.32,146.74L24.59,99.16L24.68,27.87L24.95,143.41L25.5,124.49L25.59,47.92L26.32,156.03L26.41,91.37L27.04,78.48L27.22,149.93L27.31,105.58L27.86,150.83L28.04,125.94L28.13,124.83L28.4,148.87L28.68,95.86L28.86,116.72L28.95,132.95L29.49,83.18L29.58,146.17L29.76,108.38L29.85,141.02L30.13,104.6L30.67,116.84L30.76,143.67L30.85,150.06L30.94,104.99L31.03,121.98L31.13,110.48L31.85,148.82L31.94,129.86L32.03,128.98L32.12,159.32L32.4,128.69L32.76,130.51L32.85,129.98L32.94,134.2L33.03,133.15L33.12,94.73L33.76,87.54L33.94,155.59L34.03,140.99L34.12,139.28L34.21,107.77L34.85,105.44L34.94,157.26L35.03,125.18L35.21,148.11L35.57,96.11L35.75,110.94L35.84,144.27L36.12,150.66L36.21,99.4L36.39,108.47L36.48,138.05L37.21,66.37L37.3,142.43L37.57,153.45L37.66,99.11L38.11,112.93L38.2,118.02L38.38,152.22L38.48,76.27L38.84,118.89L38.93,113.11L39.2,159.01L39.56,98.03L39.66,122.49L39.75,124.42L40.02,151.83L40.11,91.01L40.29,143.93L40.38,97.52L40.83,155.02L41.11,121.99L41.2,123.15L41.38,110.83L41.65,158.25L41.92,155.51L42.01,112.94L42.11,157.43L42.74,108.45L42.83,154.21L42.92,148.94L43.01,122.24L43.47,156.59L43.65,137.73L43.74,129.1L43.83,104.99L44.1,148.39L44.46,130.02L44.56,140.72L44.74,148.46L45.01,121.14L45.19,132.04L45.28,153.04L46.01,94.52L46.1,118.4L46.19,144.01L46.37,133.75L46.55,148.65L46.64,130.74L46.91,122.06L47.19,150.18L47.28,131.35L47.37,125.28L47.46,110.17L47.82,142.83L48,137.79L48.09,136.05L48.19,137.12L48.28,134.49L48.37,122.07L48.55,158.25L49.09,130.36L49.18,101.42L50,148.68L50.09,129.63L50.36,147.11L50.73,127.27L50.82,117.94L51.09,157.79L51.63,155.08L51.72,140.08L52.09,144.3L52.27,126.65L52.45,136.91L52.54,141.64L52.81,142.42L52.99,121.43L53.27,140.66L53.36,136.15L53.63,146.77L54.17,122.05L54.27,135.89L54.63,133.58L54.72,152.19L54.99,137.14L55.08,139.73L55.26,136.54L55.35,157.88L56.08,108.88L56.17,143.25L56.26,144.2L56.81,127.83L56.9,143.31L56.99,148.25L57.26,133.38L57.44,151.89L57.71,138.06L57.8,148.96L57.99,139.82L58.17,143.18L58.26,123.78L58.44,153.33L58.89,134.68L58.98,122.57L59.53,155.6L59.98,148.67L60.07,125.28L60.44,156.44L60.8,143.16L60.89,119.46L61.16,144.06L61.52,143.17L61.62,115.66L62.07,145.74L62.34,140.31L62.43,131.95L62.98,154.56L63.25,143.72L63.34,148.84L63.7,153.04L63.79,132.03L63.88,153.9L64.52,129.31L64.7,143.91L64.79,142.84L64.97,147.1L65.06,143.16L65.15,128.78L65.97,158.44L66.06,143.52L66.24,151.74L66.52,147.29L66.61,112.93L67.24,107.18L67.33,157.86L67.42,145.34L67.51,144.55L67.7,146.9L67.79,112.51L68.6,146.24L68.69,133.85L69.51,150.33L69.6,145.16L69.78,147L69.87,133.86L69.96,135.9L70.05,157.03L70.69,127.9L70.87,139.67L70.96,145.28L71.14,153.82L71.42,131.66L71.69,145.2L71.78,144.47L71.96,157.06L72.05,156.05L72.14,144.62L72.23,149.3L72.5,134.89L72.6,148.45L72.69,133.26L73.14,113.68L73.23,152.72L73.5,145.3L73.59,145.06L73.68,157.93L73.78,139.58L74.32,145.18L74.41,152.84L74.59,159.69L75.14,137.19L75.23,149.78L75.41,157.24L75.5,147.33L75.59,144.65L75.86,150.69L75.95,106.52L76.23,151.04L76.77,145.86L76.86,142.32L77.22,159.12L77.5,141.49L77.59,143.76L77.68,146.44L78.13,156.56L78.22,141.88L78.4,153.88L78.49,141.65L78.68,137.28L78.86,157.36L79.31,150.13L79.4,144.37L79.58,146.86L79.67,153.69L79.76,155.07L79.86,134.37L80.58,158.5L80.67,149.68L80.76,157.02L80.94,152.71L81.03,149.19L81.22,147.36L81.31,156.32L81.4,126L82.03,159.42L82.12,141.26L82.58,159.74L82.94,152.71L83.03,144.08L83.39,156.07L83.58,128.74L83.67,157.92L83.76,157.23L83.85,134.23L84.39,159.14L84.57,158.76L84.66,144.65L84.85,159.03L85.12,137.25L85.39,148.63L85.48,150.76L85.66,138.26L86.12,157.5L86.21,124.43L86.66,158.42L87.02,149.48L87.11,145.36L87.75,158.09L87.84,150.78L87.93,136.93L88.2,158.65L88.75,155.1L88.84,158.18L89.29,148.11L89.47,159.8L89.56,151.05L89.66,151.75L89.93,159.35L90.02,144.32L90.38,152.53L90.47,151L91.02,159.48L91.29,140.98L91.38,142.97L92.2,158.58L92.29,158.79L92.74,151.53L92.83,154.52L92.92,157.69L93.19,158.67L93.56,143.69L93.74,151.23L93.83,152.03L94.1,140.76L94.56,159.8L94.65,158.16L94.74,155.23L94.92,158.64L95.19,148.14L95.37,157.63L95.46,149.4L95.83,159.81L96.28,158.94L96.37,144.05L96.92,159.56L97.19,158.64L97.28,153.57L97.55,150.8L97.82,159.22L97.91,158.72L98,142.32L98.64,159.17L98.73,156.65L98.82,141.86L99.37,159.7L99.64,158.47L99.73,148.15L100.27,159.49L100.54,158.38L100.64,147.01L101.27,159.86L101.36,156.43L101.45,126.92L102.18,159.61L102.27,149.31L102.45,159.56L102.99,146.7L103.09,156.71L103.18,159.75L103.36,156.4L103.54,157.48L103.63,148.21L104.08,159.55L104.45,158.65L104.54,159.59L105.26,141.65L105.35,158.38L105.44,158.2L105.63,159.45L105.72,156.99L105.9,154.46L106.08,159.68L106.44,159.63L106.53,156.08L106.72,154.22L107.17,159.82L107.26,159.38L107.35,157.64L107.62,159.7L107.8,142.25L108.08,154.58L108.17,159.34L108.44,142.74L108.53,159.7L108.8,159.78L108.89,156.57L108.98,159.19L109.35,156.86L109.62,159.68L109.71,157.11L109.8,159.32L109.89,159.72L110.07,158.49L110.16,157.33L110.35,156.57L110.53,159.65L110.62,139.76L110.89,159.76L111.43,159.43L111.52,159.45L111.62,159.79L111.71,144.65L111.98,159.85L112.43,159.31L112.52,151.31L113.07,146.04L113.34,159.59L113.43,159.63L113.52,159.35L113.61,159.38L113.7,147.2L113.97,159.87L114.52,157.94L114.61,136.97L114.7,159.87L115.25,159.48L115.34,131.16L116.06,159.66L116.15,159.58L116.24,159.65L116.33,159.79L116.43,159.05L116.52,159.61L116.61,158.71L116.7,159.05L116.79,152.27L117.06,159.87L117.33,151.46L117.6,159.65L117.7,139.69L118.51,159.8L118.6,159.66L118.78,159.85L118.88,159.64L118.97,157.98L119.24,159.81L119.33,142.66L119.69,159.7L120.15,159.66L120.24,159.78L120.33,154.94L120.96,159.84L121.05,159.69L121.23,159.79L121.96,159.36L122.05,159.65L122.6,156.6L122.78,158.82L122.87,159.64L122.96,154.97L123.23,159.79L123.59,159.72L123.68,157.8L123.96,159.79L124.5,159.26L124.59,159.6L124.96,156.09L125.05,159.76L125.32,158.4L125.41,159.44L125.59,159.79L125.68,158.09L126.13,159.78L126.5,159.24L126.59,159.56L126.77,158.85L126.86,159.7L126.95,155.38L127.13,159.65L127.59,159.56L127.68,151.65L127.77,159.74L128.49,159.41L128.58,159.88L129.4,159.1L129.49,159.66L129.58,157.24L130.31,159.79L130.4,159.66L130.49,159.21L130.76,159.52L130.85,159.43L130.94,154.62L131.13,159.8L131.76,159.29L131.85,159.77L132.4,158.3L132.58,158.77L132.67,159.7L133.12,157.82L133.21,159.85L133.39,159.42L133.48,159.16L133.58,159.51L133.67,159.38L133.76,156.94L134.3,156.39L134.57,159.83L134.66,159.69L134.85,159.84L135.3,158.47L135.57,159.27L135.66,159.59L136.21,157.22L136.48,158.47L136.57,159.55L136.66,159.72L136.75,156.31L137.02,159.87L137.57,159.68L137.66,159.87L138.57,158.91L138.66,154.46L138.75,159.48L139.47,159.41L139.56,159.49L140.11,158.74L140.2,159.73L140.29,159.73L141.2,159.44L141.29,154.14L141.92,159.67L142.11,159.42L142.2,159.47L142.74,157.84L142.83,159.6L142.92,159.82L143.83,159.52L143.92,159.74L144.01,157.83L144.56,159.77L144.65,156.7L144.83,159.49L144.92,159.47L145.1,159.6L145.28,159.24L145.37,157.21L146.19,159.8L146.28,159.38L146.64,158.19L146.92,159.84L147.1,159.54L147.19,159.76L147.28,154.15L147.91,159.79L148,159.14L149.09,159.77L149.18,159.63L149.27,159.32L149.37,159.75L149.46,152.71L150.09,159.79L150.27,159.7L150.36,159.73L150.73,159.85L151.18,159.32L151.27,159.71L151.82,159.67L151.91,156.54L152.54,159.86L152.63,153.73L152.9,159.86L153.45,159.83L153.54,159.82L154.99,159.08L155.08,159.88L155.81,158.45L155.9,159.47L155.99,159.8L156.44,159.5L156.53,157.51L157.17,159.79L157.35,159.76L157.44,159.65L157.99,159.84L158.17,159.16L158.26,159.64L158.44,159.84L159.07,159.42L159.17,159.71L160.53,159.78L160.62,159.79L161.89,159.61L161.98,159.85L162.34,159.32L162.8,159.86L162.89,159.88L163.07,159.42L163.61,159.72L163.7,159.74L164.79,159.81L164.88,159.66L165.15,159.42L165.7,159.81L165.79,159.65L165.88,159.17L166.06,159.79L166.52,159.57L166.61,159.66L167.51,159.84L167.6,159.77L168.78,159.76L168.88,159.43L168.97,158.74L169.06,159.87L169.51,159.81L169.6,159.79L169.69,159.16L170.15,159.87L170.33,159.76L170.42,159.81L177.77,159.87L177.86,159.31L178.49,159.86L178.68,159.77L178.77,159.8L187.66,159.77L187.75,159.86L187.84,159.38L188.48,159.79L188.57,159.82L189.38,159.36L189.47,159.71L189.57,159.88L191.74,159.79L191.83,159.83L196.55,159.77L196.64,159.84L230.4,159.83\" style=\"vector-effect: none; fill: none; stroke: rgb(255, 161, 90); stroke-opacity: 1; stroke-width: 2px; opacity: 1;\"/></g><g class=\"points\"/><g class=\"text\"/></g></g></g><g class=\"overplot\"/><path class=\"xlines-above crisp\" d=\"M0,0\" style=\"fill: none;\"/><path class=\"ylines-above crisp\" d=\"M0,0\" style=\"fill: none;\"/><g class=\"overlines-above\"/><g class=\"xaxislayer-above\"><g class=\"x5tick\"><text text-anchor=\"middle\" x=\"0\" y=\"281.3\" transform=\"translate(487.45000000000005,0)\" style=\"font-family: 'Open Sans', verdana, arial, sans-serif; font-size: 12px; fill: rgb(42, 63, 95); fill-opacity: 1; white-space: pre; opacity: 1;\">1000</text></g><g class=\"x5tick\"><text text-anchor=\"middle\" x=\"0\" y=\"281.3\" style=\"font-family: 'Open Sans', verdana, arial, sans-serif; font-size: 12px; fill: rgb(42, 63, 95); fill-opacity: 1; white-space: pre; opacity: 1;\" transform=\"translate(578.2,0)\">2000</text></g></g><g class=\"yaxislayer-above\"><g class=\"y5tick\"><text text-anchor=\"end\" x=\"395.8\" y=\"4.199999999999999\" transform=\"translate(0,259.89)\" style=\"font-family: 'Open Sans', verdana, arial, sans-serif; font-size: 12px; fill: rgb(42, 63, 95); fill-opacity: 1; white-space: pre; opacity: 1;\">0</text></g><g class=\"y5tick\"><text text-anchor=\"end\" x=\"395.8\" y=\"4.199999999999999\" style=\"font-family: 'Open Sans', verdana, arial, sans-serif; font-size: 12px; fill: rgb(42, 63, 95); fill-opacity: 1; white-space: pre; opacity: 1;\" transform=\"translate(0,181.4)\">0.5</text></g><g class=\"y5tick\"><text text-anchor=\"end\" x=\"395.8\" y=\"4.199999999999999\" style=\"font-family: 'Open Sans', verdana, arial, sans-serif; font-size: 12px; fill: rgb(42, 63, 95); fill-opacity: 1; white-space: pre; opacity: 1;\" transform=\"translate(0,102.91)\">1e+4</text></g></g><g class=\"overaxes-above\"/></g></g><g class=\"polarlayer\"/><g class=\"smithlayer\"/><g class=\"ternarylayer\"/><g class=\"geolayer\"/><g class=\"funnelarealayer\"/><g class=\"pielayer\"/><g class=\"iciclelayer\"/><g class=\"treemaplayer\"/><g class=\"sunburstlayer\"/><g class=\"glimages\"/><defs id=\"topdefs-441bba\"><g class=\"clips\"/><clipPath id=\"legend441bba\"><rect width=\"481\" height=\"29\" x=\"0\" y=\"0\"/></clipPath></defs><g class=\"layer-above\"><g class=\"imagelayer\"/><g class=\"shapelayer\"/></g><g class=\"infolayer\"><g class=\"legend\" pointer-events=\"all\" transform=\"translate(463,63.08)\"><rect class=\"bg\" shape-rendering=\"crispEdges\" style=\"stroke: rgb(68, 68, 68); stroke-opacity: 1; fill: rgb(255, 255, 255); fill-opacity: 1; stroke-width: 0px;\" width=\"481\" height=\"29\" x=\"0\" y=\"0\"/><g class=\"scrollbox\" transform=\"\" clip-path=\"url(#legend441bba)\"><g class=\"groups\"><g class=\"traces\" transform=\"translate(0,14.5)\" style=\"opacity: 1;\"><text class=\"legendtext\" text-anchor=\"start\" x=\"40\" y=\"4.680000000000001\" style=\"font-family: 'Open Sans', verdana, arial, sans-serif; font-size: 12px; fill: rgb(42, 63, 95); fill-opacity: 1; white-space: pre;\">R0 [Ohm]</text><g class=\"layers\" style=\"opacity: 1;\"><g class=\"legendfill\"/><g class=\"legendlines\"><path class=\"js-line\" d=\"M5,0h30\" style=\"fill: none; stroke: rgb(99, 110, 250); stroke-opacity: 1; stroke-width: 2px;\"/></g><g class=\"legendsymbols\"><g class=\"legendpoints\"/></g></g><rect class=\"legendtoggle\" x=\"0\" y=\"-9.5\" width=\"102.3125\" height=\"19\" style=\"fill: rgb(0, 0, 0); fill-opacity: 0;\"/></g><g class=\"traces\" transform=\"translate(104.8125,14.5)\" style=\"opacity: 1;\"><text class=\"legendtext\" text-anchor=\"start\" x=\"40\" y=\"4.680000000000001\" style=\"font-family: 'Open Sans', verdana, arial, sans-serif; font-size: 12px; fill: rgb(42, 63, 95); fill-opacity: 1; white-space: pre;\">R1 [Ohm]</text><g class=\"layers\" style=\"opacity: 1;\"><g class=\"legendfill\"/><g class=\"legendlines\"><path class=\"js-line\" d=\"M5,0h30\" style=\"fill: none; stroke: rgb(239, 85, 59); stroke-opacity: 1; stroke-width: 2px;\"/></g><g class=\"legendsymbols\"><g class=\"legendpoints\"/></g></g><rect class=\"legendtoggle\" x=\"0\" y=\"-9.5\" width=\"102.3125\" height=\"19\" style=\"fill: rgb(0, 0, 0); fill-opacity: 0;\"/></g><g class=\"traces\" transform=\"translate(209.625,14.5)\" style=\"opacity: 1;\"><text class=\"legendtext\" text-anchor=\"start\" x=\"40\" y=\"4.680000000000001\" style=\"font-family: 'Open Sans', verdana, arial, sans-serif; font-size: 12px; fill: rgb(42, 63, 95); fill-opacity: 1; white-space: pre;\">R2 [Ohm]</text><g class=\"layers\" style=\"opacity: 1;\"><g class=\"legendfill\"/><g class=\"legendlines\"><path class=\"js-line\" d=\"M5,0h30\" style=\"fill: none; stroke: rgb(0, 204, 150); stroke-opacity: 1; stroke-width: 2px;\"/></g><g class=\"legendsymbols\"><g class=\"legendpoints\"/></g></g><rect class=\"legendtoggle\" x=\"0\" y=\"-9.5\" width=\"102.3125\" height=\"19\" style=\"fill: rgb(0, 0, 0); fill-opacity: 0;\"/></g><g class=\"traces\" transform=\"translate(314.4375,14.5)\" style=\"opacity: 1;\"><text class=\"legendtext\" text-anchor=\"start\" x=\"40\" y=\"4.680000000000001\" style=\"font-family: 'Open Sans', verdana, arial, sans-serif; font-size: 12px; fill: rgb(42, 63, 95); fill-opacity: 1; white-space: pre;\">C1 [F]</text><g class=\"layers\" style=\"opacity: 1;\"><g class=\"legendfill\"/><g class=\"legendlines\"><path class=\"js-line\" d=\"M5,0h30\" style=\"fill: none; stroke: rgb(171, 99, 250); stroke-opacity: 1; stroke-width: 2px;\"/></g><g class=\"legendsymbols\"><g class=\"legendpoints\"/></g></g><rect class=\"legendtoggle\" x=\"0\" y=\"-9.5\" width=\"80.53125\" height=\"19\" style=\"fill: rgb(0, 0, 0); fill-opacity: 0;\"/></g><g class=\"traces\" transform=\"translate(397.46875,14.5)\" style=\"opacity: 1;\"><text class=\"legendtext\" text-anchor=\"start\" x=\"40\" y=\"4.680000000000001\" style=\"font-family: 'Open Sans', verdana, arial, sans-serif; font-size: 12px; fill: rgb(42, 63, 95); fill-opacity: 1; white-space: pre;\">C2 [F]</text><g class=\"layers\" style=\"opacity: 1;\"><g class=\"legendfill\"/><g class=\"legendlines\"><path class=\"js-line\" d=\"M5,0h30\" style=\"fill: none; stroke: rgb(255, 161, 90); stroke-opacity: 1; stroke-width: 2px;\"/></g><g class=\"legendsymbols\"><g class=\"legendpoints\"/></g></g><rect class=\"legendtoggle\" x=\"0\" y=\"-9.5\" width=\"80.53125\" height=\"19\" style=\"fill: rgb(0, 0, 0); fill-opacity: 0;\"/></g></g></g><rect class=\"scrollbar\" rx=\"20\" ry=\"3\" width=\"0\" height=\"0\" style=\"fill: rgb(128, 139, 164); fill-opacity: 1;\" x=\"0\" y=\"0\"/></g><g class=\"g-gtitle\"><text class=\"gtitle\" x=\"51.2\" y=\"50\" text-anchor=\"start\" dy=\"0em\" style=\"font-family: 'Open Sans', verdana, arial, sans-serif; font-size: 17px; fill: rgb(42, 63, 95); opacity: 1; font-weight: normal; white-space: pre;\">Parameter Convergence</text></g><g class=\"g-xtitle\"><text class=\"xtitle\" x=\"195.2\" y=\"535.8\" text-anchor=\"middle\" style=\"font-family: 'Open Sans', verdana, arial, sans-serif; font-size: 14px; fill: rgb(42, 63, 95); opacity: 1; font-weight: normal; white-space: pre;\">Function Call</text></g><g class=\"g-x2title\"><text class=\"x2title\" x=\"512\" y=\"535.8\" text-anchor=\"middle\" style=\"font-family: 'Open Sans', verdana, arial, sans-serif; font-size: 14px; fill: rgb(42, 63, 95); opacity: 1; font-weight: normal; white-space: pre;\">Function Call</text></g><g class=\"g-x3title\"><text class=\"x3title\" x=\"828.8\" y=\"535.8\" text-anchor=\"middle\" style=\"font-family: 'Open Sans', verdana, arial, sans-serif; font-size: 14px; fill: rgb(42, 63, 95); opacity: 1; font-weight: normal; white-space: pre;\">Function Call</text></g><g class=\"g-x4title\"><text class=\"x4title\" x=\"195.2\" y=\"308.1125\" text-anchor=\"middle\" style=\"font-family: 'Open Sans', verdana, arial, sans-serif; font-size: 14px; fill: rgb(42, 63, 95); opacity: 1; font-weight: normal; white-space: pre;\">Function Call</text></g><g class=\"g-x5title\"><text class=\"x5title\" x=\"512\" y=\"308.1125\" text-anchor=\"middle\" style=\"font-family: 'Open Sans', verdana, arial, sans-serif; font-size: 14px; fill: rgb(42, 63, 95); opacity: 1; font-weight: normal; white-space: pre;\">Function Call</text></g><g class=\"g-ytitle\"><text class=\"ytitle\" transform=\"rotate(-90,27.434375000000003,411.84999999999997)\" x=\"27.434375000000003\" y=\"411.84999999999997\" text-anchor=\"middle\" style=\"font-family: 'Open Sans', verdana, arial, sans-serif; font-size: 14px; fill: rgb(42, 63, 95); opacity: 1; font-weight: normal; white-space: pre;\">R0 [Ohm]</text></g><g class=\"g-y2title\"><text class=\"y2title\" transform=\"rotate(-90,351.871875,411.84999999999997)\" x=\"351.871875\" y=\"411.84999999999997\" text-anchor=\"middle\" style=\"font-family: 'Open Sans', verdana, arial, sans-serif; font-size: 14px; fill: rgb(42, 63, 95); opacity: 1; font-weight: normal; white-space: pre;\">R1 [Ohm]</text></g><g class=\"g-y3title\"><text class=\"y3title\" transform=\"rotate(-90,668.66875,411.84999999999997)\" x=\"668.66875\" y=\"411.84999999999997\" text-anchor=\"middle\" style=\"font-family: 'Open Sans', verdana, arial, sans-serif; font-size: 14px; fill: rgb(42, 63, 95); opacity: 1; font-weight: normal; white-space: pre;\">R2 [Ohm]</text></g><g class=\"g-y4title\"><text class=\"y4title\" transform=\"rotate(-90,22.465625000000003,184.15)\" x=\"22.465625000000003\" y=\"184.15\" text-anchor=\"middle\" style=\"font-family: 'Open Sans', verdana, arial, sans-serif; font-size: 14px; fill: rgb(42, 63, 95); opacity: 1; font-weight: normal; white-space: pre;\">C1 [F]</text></g><g class=\"g-y5title\"><text class=\"y5title\" transform=\"rotate(-90,339.2625,184.15)\" x=\"339.2625\" y=\"184.15\" text-anchor=\"middle\" style=\"font-family: 'Open Sans', verdana, arial, sans-serif; font-size: 14px; fill: rgb(42, 63, 95); opacity: 1; font-weight: normal; white-space: pre;\">C2 [F]</text></g></g></svg>"
      ]
     },
     "metadata": {},
     "output_type": "display_data"
    }
   ],
   "source": [
    "pybop.plot_convergence(optim)\n",
    "pybop.plot_parameters(optim);"
   ]
  },
  {
   "cell_type": "markdown",
   "id": "d483bbe5",
   "metadata": {},
   "source": [
    "## Validating the Fit\n",
    "\n",
    "We've identified parameters from a single discharge pulse. Now, let's ask ourselves how well these parameters extrapolate to other operational conditions. To accomplish this, let's load a new pulse dataset at 80% SOC and compare it to our identified forward model."
   ]
  },
  {
   "cell_type": "code",
   "execution_count": 16,
   "id": "10b36ce3",
   "metadata": {
    "execution": {
     "iopub.execute_input": "2024-04-14T18:58:17.123003Z",
     "iopub.status.busy": "2024-04-14T18:58:17.122887Z",
     "iopub.status.idle": "2024-04-14T18:58:17.127095Z",
     "shell.execute_reply": "2024-04-14T18:58:17.126840Z"
    }
   },
   "outputs": [],
   "source": [
    "df_pulse_two = pd.DataFrame(\n",
    "    pulse_data[\"LGM50_5Ah_Pulse\"][\"T0\"][\"SoC8\"][\"Cell19\"][\"data\"]\n",
    ")\n",
    "df_pulse_two[\"ProgTime\"] = df_pulse_two[\"ProgTime\"] - df_pulse_two[\"ProgTime\"].min()\n",
    "df_pulse_two.drop_duplicates(subset=[\"ProgTime\"], inplace=True)"
   ]
  },
  {
   "cell_type": "markdown",
   "id": "0035483a",
   "metadata": {},
   "source": [
    "Next, we construct a new `pybop.Dataset` from the second pulse data,"
   ]
  },
  {
   "cell_type": "code",
   "execution_count": 17,
   "id": "f19eb048",
   "metadata": {
    "execution": {
     "iopub.execute_input": "2024-04-14T18:58:17.128509Z",
     "iopub.status.busy": "2024-04-14T18:58:17.128434Z",
     "iopub.status.idle": "2024-04-14T18:58:17.130194Z",
     "shell.execute_reply": "2024-04-14T18:58:17.129970Z"
    }
   },
   "outputs": [],
   "source": [
    "dataset_two_pulse = pybop.Dataset(\n",
    "    {\n",
    "        \"Time [s]\": df_pulse_two[\"ProgTime\"].values,\n",
    "        \"Current function [A]\": -df_pulse_two[\"Current\"].values,\n",
    "        \"Voltage [V]\": df_pulse_two[\"Voltage\"].values,\n",
    "    }\n",
    ")"
   ]
  },
  {
   "cell_type": "markdown",
   "id": "db5360da",
   "metadata": {},
   "source": [
    "Now that we have a new dataset, we update the target within the problem class as well as the `Initial SoC` value. Once that has been completed, we rebuild the model."
   ]
  },
  {
   "cell_type": "code",
   "execution_count": 18,
   "id": "0aa12385",
   "metadata": {
    "execution": {
     "iopub.execute_input": "2024-04-14T18:58:17.131389Z",
     "iopub.status.busy": "2024-04-14T18:58:17.131319Z",
     "iopub.status.idle": "2024-04-14T18:58:17.140453Z",
     "shell.execute_reply": "2024-04-14T18:58:17.140222Z"
    }
   },
   "outputs": [],
   "source": [
    "problem.set_target(dataset_two_pulse)\n",
    "model.parameter_set[\"Initial SoC\"] = 0.8 - 0.0075\n",
    "model.rebuild(dataset_two_pulse)"
   ]
  },
  {
   "cell_type": "markdown",
   "id": "22a1a39d",
   "metadata": {},
   "source": [
    "Let's plot the parameterised forward model against the new pulse data:"
   ]
  },
  {
   "cell_type": "code",
   "execution_count": 19,
   "id": "11fc77a6",
   "metadata": {
    "execution": {
     "iopub.execute_input": "2024-04-14T18:58:17.141599Z",
     "iopub.status.busy": "2024-04-14T18:58:17.141526Z",
     "iopub.status.idle": "2024-04-14T18:58:17.173731Z",
     "shell.execute_reply": "2024-04-14T18:58:17.173364Z"
    }
   },
   "outputs": [
    {
     "data": {
      "image/svg+xml": [
       "<svg class=\"main-svg\" xmlns=\"http://www.w3.org/2000/svg\" xmlns:xlink=\"http://www.w3.org/1999/xlink\" width=\"700\" height=\"500\" style=\"\" viewBox=\"0 0 700 500\"><rect x=\"0\" y=\"0\" width=\"700\" height=\"500\" style=\"fill: rgb(255, 255, 255); fill-opacity: 1;\"/><defs id=\"defs-84f726\"><g class=\"clips\"><clipPath id=\"clip84f726xyplot\" class=\"plotclip\"><rect width=\"492\" height=\"320\"/></clipPath><clipPath class=\"axesclip\" id=\"clip84f726x\"><rect x=\"80\" y=\"0\" width=\"492\" height=\"500\"/></clipPath><clipPath class=\"axesclip\" id=\"clip84f726y\"><rect x=\"0\" y=\"100\" width=\"700\" height=\"320\"/></clipPath><clipPath class=\"axesclip\" id=\"clip84f726xy\"><rect x=\"80\" y=\"100\" width=\"492\" height=\"320\"/></clipPath></g><g class=\"gradients\"/><g class=\"patterns\"/></defs><g class=\"bglayer\"><rect class=\"bg\" x=\"80\" y=\"100\" width=\"492\" height=\"320\" style=\"fill: rgb(229, 236, 246); fill-opacity: 1; stroke-width: 0;\"/></g><g class=\"layer-below\"><g class=\"imagelayer\"/><g class=\"shapelayer\"/></g><g class=\"cartesianlayer\"><g class=\"subplot xy\"><g class=\"layer-subplot\"><g class=\"shapelayer\"/><g class=\"imagelayer\"/></g><g class=\"minor-gridlayer\"><g class=\"x\"/><g class=\"y\"/></g><g class=\"gridlayer\"><g class=\"x\"><path class=\"xgrid crisp\" transform=\"translate(216.59,0)\" d=\"M0,100v320\" style=\"stroke: rgb(255, 255, 255); stroke-opacity: 1; stroke-width: 1px;\"/><path class=\"xgrid crisp\" transform=\"translate(324.83000000000004,0)\" d=\"M0,100v320\" style=\"stroke: rgb(255, 255, 255); stroke-opacity: 1; stroke-width: 1px;\"/><path class=\"xgrid crisp\" transform=\"translate(433.07,0)\" d=\"M0,100v320\" style=\"stroke: rgb(255, 255, 255); stroke-opacity: 1; stroke-width: 1px;\"/><path class=\"xgrid crisp\" transform=\"translate(541.31,0)\" d=\"M0,100v320\" style=\"stroke: rgb(255, 255, 255); stroke-opacity: 1; stroke-width: 1px;\"/></g><g class=\"y\"><path class=\"ygrid crisp\" transform=\"translate(0,385.57)\" d=\"M80,0h492\" style=\"stroke: rgb(255, 255, 255); stroke-opacity: 1; stroke-width: 1px;\"/><path class=\"ygrid crisp\" transform=\"translate(0,299.24)\" d=\"M80,0h492\" style=\"stroke: rgb(255, 255, 255); stroke-opacity: 1; stroke-width: 1px;\"/><path class=\"ygrid crisp\" transform=\"translate(0,212.9)\" d=\"M80,0h492\" style=\"stroke: rgb(255, 255, 255); stroke-opacity: 1; stroke-width: 1px;\"/><path class=\"ygrid crisp\" transform=\"translate(0,126.57)\" d=\"M80,0h492\" style=\"stroke: rgb(255, 255, 255); stroke-opacity: 1; stroke-width: 1px;\"/></g></g><g class=\"zerolinelayer\"><path class=\"xzl zl crisp\" transform=\"translate(108.35,0)\" d=\"M0,100v320\" style=\"stroke: rgb(255, 255, 255); stroke-opacity: 1; stroke-width: 2px;\"/></g><path class=\"xlines-below\"/><path class=\"ylines-below\"/><g class=\"overlines-below\"/><g class=\"xaxislayer-below\"/><g class=\"yaxislayer-below\"/><g class=\"overaxes-below\"/><g class=\"plot\" transform=\"translate(80,100)\" clip-path=\"url(#clip84f726xyplot)\"><g class=\"scatterlayer mlayer\"><g class=\"trace scatter trace4b37b0\" style=\"stroke-miterlimit: 2; opacity: 1;\"><g class=\"fills\"><g><path class=\"js-fill\" d=\"M28.35,16L28.74,16L30.97,120.02L33.78,209.68L35.78,222.53L37.42,226.21L40.47,228.38L48.37,229.87L50.71,230.22L245.18,258.9L246.24,241.46L246.67,163.49L268.73,47.86L463.65,47.65L463.65,92.76L268.73,92.96L246.67,208.59L246.24,286.56L245.18,304L41.71,273.83L40.47,273.48L37.42,271.32L35.78,267.63L33.78,254.78L30.97,165.12L28.35,61.1Z\" style=\"fill: rgb(255, 229, 204); fill-opacity: 0.8; stroke-width: 0;\"/></g></g><g class=\"errorbars\"/><g class=\"lines\"><path class=\"js-line\" d=\"M28.35,16L28.74,16L30.97,120.02L33.78,209.68L35.78,222.53L37.42,226.21L40.47,228.38L48.37,229.87L50.71,230.22L245.18,258.9L246.24,241.46L246.67,163.49L268.73,47.86L463.65,47.65L463.65,92.76L268.73,92.96L246.67,208.59L246.24,286.56L245.18,304L41.71,273.83L40.47,273.48L37.42,271.32L35.78,267.63L33.78,254.78L30.97,165.12L28.35,61.1\" style=\"vector-effect: none; fill: none; stroke: rgb(255, 255, 255); stroke-opacity: 0; stroke-width: 2px; opacity: 1;\"/></g><g class=\"points\"/><g class=\"text\"/></g><g class=\"trace scatter trace100212\" style=\"stroke-miterlimit: 2; opacity: 1;\"><g class=\"fills\"/><g class=\"errorbars\"/><g class=\"lines\"/><g class=\"points\"><path class=\"point\" transform=\"translate(28.35,39.14)\" d=\"M3,0A3,3 0 1,1 0,-3A3,3 0 0,1 3,0Z\" style=\"opacity: 1; stroke-width: 0px; fill: rgb(239, 85, 59); fill-opacity: 1;\"/><path class=\"point\" transform=\"translate(28.74,223.13)\" d=\"M3,0A3,3 0 1,1 0,-3A3,3 0 0,1 3,0Z\" style=\"opacity: 1; stroke-width: 0px; fill: rgb(239, 85, 59); fill-opacity: 1;\"/><path class=\"point\" transform=\"translate(30.97,227.93)\" d=\"M3,0A3,3 0 1,1 0,-3A3,3 0 0,1 3,0Z\" style=\"opacity: 1; stroke-width: 0px; fill: rgb(239, 85, 59); fill-opacity: 1;\"/><path class=\"point\" transform=\"translate(33.78,228.5)\" d=\"M3,0A3,3 0 1,1 0,-3A3,3 0 0,1 3,0Z\" style=\"opacity: 1; stroke-width: 0px; fill: rgb(239, 85, 59); fill-opacity: 1;\"/><path class=\"point\" transform=\"translate(35.78,230.42)\" d=\"M3,0A3,3 0 1,1 0,-3A3,3 0 0,1 3,0Z\" style=\"opacity: 1; stroke-width: 0px; fill: rgb(239, 85, 59); fill-opacity: 1;\"/><path class=\"point\" transform=\"translate(37.42,231.2)\" d=\"M3,0A3,3 0 1,1 0,-3A3,3 0 0,1 3,0Z\" style=\"opacity: 1; stroke-width: 0px; fill: rgb(239, 85, 59); fill-opacity: 1;\"/><path class=\"point\" transform=\"translate(40.47,231.2)\" d=\"M3,0A3,3 0 1,1 0,-3A3,3 0 0,1 3,0Z\" style=\"opacity: 1; stroke-width: 0px; fill: rgb(239, 85, 59); fill-opacity: 1;\"/><path class=\"point\" transform=\"translate(41.71,232.73)\" d=\"M3,0A3,3 0 1,1 0,-3A3,3 0 0,1 3,0Z\" style=\"opacity: 1; stroke-width: 0px; fill: rgb(239, 85, 59); fill-opacity: 1;\"/><path class=\"point\" transform=\"translate(44.04,233.49)\" d=\"M3,0A3,3 0 1,1 0,-3A3,3 0 0,1 3,0Z\" style=\"opacity: 1; stroke-width: 0px; fill: rgb(239, 85, 59); fill-opacity: 1;\"/><path class=\"point\" transform=\"translate(46.9,233.49)\" d=\"M3,0A3,3 0 1,1 0,-3A3,3 0 0,1 3,0Z\" style=\"opacity: 1; stroke-width: 0px; fill: rgb(239, 85, 59); fill-opacity: 1;\"/><path class=\"point\" transform=\"translate(48.37,234.84)\" d=\"M3,0A3,3 0 1,1 0,-3A3,3 0 0,1 3,0Z\" style=\"opacity: 1; stroke-width: 0px; fill: rgb(239, 85, 59); fill-opacity: 1;\"/><path class=\"point\" transform=\"translate(50.71,235.6)\" d=\"M3,0A3,3 0 1,1 0,-3A3,3 0 0,1 3,0Z\" style=\"opacity: 1; stroke-width: 0px; fill: rgb(239, 85, 59); fill-opacity: 1;\"/><path class=\"point\" transform=\"translate(53.76,236)\" d=\"M3,0A3,3 0 1,1 0,-3A3,3 0 0,1 3,0Z\" style=\"opacity: 1; stroke-width: 0px; fill: rgb(239, 85, 59); fill-opacity: 1;\"/><path class=\"point\" transform=\"translate(54.98,236.76)\" d=\"M3,0A3,3 0 1,1 0,-3A3,3 0 0,1 3,0Z\" style=\"opacity: 1; stroke-width: 0px; fill: rgb(239, 85, 59); fill-opacity: 1;\"/><path class=\"point\" transform=\"translate(57.42,237.33)\" d=\"M3,0A3,3 0 1,1 0,-3A3,3 0 0,1 3,0Z\" style=\"opacity: 1; stroke-width: 0px; fill: rgb(239, 85, 59); fill-opacity: 1;\"/><path class=\"point\" transform=\"translate(59.03,237.91)\" d=\"M3,0A3,3 0 1,1 0,-3A3,3 0 0,1 3,0Z\" style=\"opacity: 1; stroke-width: 0px; fill: rgb(239, 85, 59); fill-opacity: 1;\"/><path class=\"point\" transform=\"translate(61.62,238.29)\" d=\"M3,0A3,3 0 1,1 0,-3A3,3 0 0,1 3,0Z\" style=\"opacity: 1; stroke-width: 0px; fill: rgb(239, 85, 59); fill-opacity: 1;\"/><path class=\"point\" transform=\"translate(64.03,238.86)\" d=\"M3,0A3,3 0 1,1 0,-3A3,3 0 0,1 3,0Z\" style=\"opacity: 1; stroke-width: 0px; fill: rgb(239, 85, 59); fill-opacity: 1;\"/><path class=\"point\" transform=\"translate(65.5,239.26)\" d=\"M3,0A3,3 0 1,1 0,-3A3,3 0 0,1 3,0Z\" style=\"opacity: 1; stroke-width: 0px; fill: rgb(239, 85, 59); fill-opacity: 1;\"/><path class=\"point\" transform=\"translate(67.77,239.45)\" d=\"M3,0A3,3 0 1,1 0,-3A3,3 0 0,1 3,0Z\" style=\"opacity: 1; stroke-width: 0px; fill: rgb(239, 85, 59); fill-opacity: 1;\"/><path class=\"point\" transform=\"translate(69.96,240.59)\" d=\"M3,0A3,3 0 1,1 0,-3A3,3 0 0,1 3,0Z\" style=\"opacity: 1; stroke-width: 0px; fill: rgb(239, 85, 59); fill-opacity: 1;\"/><path class=\"point\" transform=\"translate(71.67,240.8)\" d=\"M3,0A3,3 0 1,1 0,-3A3,3 0 0,1 3,0Z\" style=\"opacity: 1; stroke-width: 0px; fill: rgb(239, 85, 59); fill-opacity: 1;\"/><path class=\"point\" transform=\"translate(74.92,241.18)\" d=\"M3,0A3,3 0 1,1 0,-3A3,3 0 0,1 3,0Z\" style=\"opacity: 1; stroke-width: 0px; fill: rgb(239, 85, 59); fill-opacity: 1;\"/><path class=\"point\" transform=\"translate(76.6,242.13)\" d=\"M3,0A3,3 0 1,1 0,-3A3,3 0 0,1 3,0Z\" style=\"opacity: 1; stroke-width: 0px; fill: rgb(239, 85, 59); fill-opacity: 1;\"/><path class=\"point\" transform=\"translate(80.95,242.13)\" d=\"M3,0A3,3 0 1,1 0,-3A3,3 0 0,1 3,0Z\" style=\"opacity: 1; stroke-width: 0px; fill: rgb(239, 85, 59); fill-opacity: 1;\"/><path class=\"point\" transform=\"translate(82.43,242.52)\" d=\"M3,0A3,3 0 1,1 0,-3A3,3 0 0,1 3,0Z\" style=\"opacity: 1; stroke-width: 0px; fill: rgb(239, 85, 59); fill-opacity: 1;\"/><path class=\"point\" transform=\"translate(83.21,243.28)\" d=\"M3,0A3,3 0 1,1 0,-3A3,3 0 0,1 3,0Z\" style=\"opacity: 1; stroke-width: 0px; fill: rgb(239, 85, 59); fill-opacity: 1;\"/><path class=\"point\" transform=\"translate(86.84,243.66)\" d=\"M3,0A3,3 0 1,1 0,-3A3,3 0 0,1 3,0Z\" style=\"opacity: 1; stroke-width: 0px; fill: rgb(239, 85, 59); fill-opacity: 1;\"/><path class=\"point\" transform=\"translate(88.94,244.06)\" d=\"M3,0A3,3 0 1,1 0,-3A3,3 0 0,1 3,0Z\" style=\"opacity: 1; stroke-width: 0px; fill: rgb(239, 85, 59); fill-opacity: 1;\"/><path class=\"point\" transform=\"translate(89.79,244.44)\" d=\"M3,0A3,3 0 1,1 0,-3A3,3 0 0,1 3,0Z\" style=\"opacity: 1; stroke-width: 0px; fill: rgb(239, 85, 59); fill-opacity: 1;\"/><path class=\"point\" transform=\"translate(93.34,245.01)\" d=\"M3,0A3,3 0 1,1 0,-3A3,3 0 0,1 3,0Z\" style=\"opacity: 1; stroke-width: 0px; fill: rgb(239, 85, 59); fill-opacity: 1;\"/><path class=\"point\" transform=\"translate(95.52,245.2)\" d=\"M3,0A3,3 0 1,1 0,-3A3,3 0 0,1 3,0Z\" style=\"opacity: 1; stroke-width: 0px; fill: rgb(239, 85, 59); fill-opacity: 1;\"/><path class=\"point\" transform=\"translate(96.41,245.79)\" d=\"M3,0A3,3 0 1,1 0,-3A3,3 0 0,1 3,0Z\" style=\"opacity: 1; stroke-width: 0px; fill: rgb(239, 85, 59); fill-opacity: 1;\"/><path class=\"point\" transform=\"translate(99.05,246.36)\" d=\"M3,0A3,3 0 1,1 0,-3A3,3 0 0,1 3,0Z\" style=\"opacity: 1; stroke-width: 0px; fill: rgb(239, 85, 59); fill-opacity: 1;\"/><path class=\"point\" transform=\"translate(101.02,246.36)\" d=\"M3,0A3,3 0 1,1 0,-3A3,3 0 0,1 3,0Z\" style=\"opacity: 1; stroke-width: 0px; fill: rgb(239, 85, 59); fill-opacity: 1;\"/><path class=\"point\" transform=\"translate(103.82,246.55)\" d=\"M3,0A3,3 0 1,1 0,-3A3,3 0 0,1 3,0Z\" style=\"opacity: 1; stroke-width: 0px; fill: rgb(239, 85, 59); fill-opacity: 1;\"/><path class=\"point\" transform=\"translate(104.66,247.51)\" d=\"M3,0A3,3 0 1,1 0,-3A3,3 0 0,1 3,0Z\" style=\"opacity: 1; stroke-width: 0px; fill: rgb(239, 85, 59); fill-opacity: 1;\"/><path class=\"point\" transform=\"translate(108.92,247.51)\" d=\"M3,0A3,3 0 1,1 0,-3A3,3 0 0,1 3,0Z\" style=\"opacity: 1; stroke-width: 0px; fill: rgb(239, 85, 59); fill-opacity: 1;\"/><path class=\"point\" transform=\"translate(109.79,247.7)\" d=\"M3,0A3,3 0 1,1 0,-3A3,3 0 0,1 3,0Z\" style=\"opacity: 1; stroke-width: 0px; fill: rgb(239, 85, 59); fill-opacity: 1;\"/><path class=\"point\" transform=\"translate(111.31,248.65)\" d=\"M3,0A3,3 0 1,1 0,-3A3,3 0 0,1 3,0Z\" style=\"opacity: 1; stroke-width: 0px; fill: rgb(239, 85, 59); fill-opacity: 1;\"/><path class=\"point\" transform=\"translate(115.44,248.86)\" d=\"M3,0A3,3 0 1,1 0,-3A3,3 0 0,1 3,0Z\" style=\"opacity: 1; stroke-width: 0px; fill: rgb(239, 85, 59); fill-opacity: 1;\"/><path class=\"point\" transform=\"translate(116.44,249.05)\" d=\"M3,0A3,3 0 1,1 0,-3A3,3 0 0,1 3,0Z\" style=\"opacity: 1; stroke-width: 0px; fill: rgb(239, 85, 59); fill-opacity: 1;\"/><path class=\"point\" transform=\"translate(117.97,249.62)\" d=\"M3,0A3,3 0 1,1 0,-3A3,3 0 0,1 3,0Z\" style=\"opacity: 1; stroke-width: 0px; fill: rgb(239, 85, 59); fill-opacity: 1;\"/><path class=\"point\" transform=\"translate(121.05,250)\" d=\"M3,0A3,3 0 1,1 0,-3A3,3 0 0,1 3,0Z\" style=\"opacity: 1; stroke-width: 0px; fill: rgb(239, 85, 59); fill-opacity: 1;\"/><path class=\"point\" transform=\"translate(122.74,250)\" d=\"M3,0A3,3 0 1,1 0,-3A3,3 0 0,1 3,0Z\" style=\"opacity: 1; stroke-width: 0px; fill: rgb(239, 85, 59); fill-opacity: 1;\"/><path class=\"point\" transform=\"translate(124.64,250.78)\" d=\"M3,0A3,3 0 1,1 0,-3A3,3 0 0,1 3,0Z\" style=\"opacity: 1; stroke-width: 0px; fill: rgb(239, 85, 59); fill-opacity: 1;\"/><path class=\"point\" transform=\"translate(125.92,250.78)\" d=\"M3,0A3,3 0 1,1 0,-3A3,3 0 0,1 3,0Z\" style=\"opacity: 1; stroke-width: 0px; fill: rgb(239, 85, 59); fill-opacity: 1;\"/><path class=\"point\" transform=\"translate(128.65,251.35)\" d=\"M3,0A3,3 0 1,1 0,-3A3,3 0 0,1 3,0Z\" style=\"opacity: 1; stroke-width: 0px; fill: rgb(239, 85, 59); fill-opacity: 1;\"/><path class=\"point\" transform=\"translate(130.66,251.35)\" d=\"M3,0A3,3 0 1,1 0,-3A3,3 0 0,1 3,0Z\" style=\"opacity: 1; stroke-width: 0px; fill: rgb(239, 85, 59); fill-opacity: 1;\"/><path class=\"point\" transform=\"translate(135.46,252.12)\" d=\"M3,0A3,3 0 1,1 0,-3A3,3 0 0,1 3,0Z\" style=\"opacity: 1; stroke-width: 0px; fill: rgb(239, 85, 59); fill-opacity: 1;\"/><path class=\"point\" transform=\"translate(136.37,252.12)\" d=\"M3,0A3,3 0 1,1 0,-3A3,3 0 0,1 3,0Z\" style=\"opacity: 1; stroke-width: 0px; fill: rgb(239, 85, 59); fill-opacity: 1;\"/><path class=\"point\" transform=\"translate(137.3,252.5)\" d=\"M3,0A3,3 0 1,1 0,-3A3,3 0 0,1 3,0Z\" style=\"opacity: 1; stroke-width: 0px; fill: rgb(239, 85, 59); fill-opacity: 1;\"/><path class=\"point\" transform=\"translate(139.49,253.07)\" d=\"M3,0A3,3 0 1,1 0,-3A3,3 0 0,1 3,0Z\" style=\"opacity: 1; stroke-width: 0px; fill: rgb(239, 85, 59); fill-opacity: 1;\"/><path class=\"point\" transform=\"translate(141.96,253.07)\" d=\"M3,0A3,3 0 1,1 0,-3A3,3 0 0,1 3,0Z\" style=\"opacity: 1; stroke-width: 0px; fill: rgb(239, 85, 59); fill-opacity: 1;\"/><path class=\"point\" transform=\"translate(143.93,253.45)\" d=\"M3,0A3,3 0 1,1 0,-3A3,3 0 0,1 3,0Z\" style=\"opacity: 1; stroke-width: 0px; fill: rgb(239, 85, 59); fill-opacity: 1;\"/><path class=\"point\" transform=\"translate(146.85,254.04)\" d=\"M3,0A3,3 0 1,1 0,-3A3,3 0 0,1 3,0Z\" style=\"opacity: 1; stroke-width: 0px; fill: rgb(239, 85, 59); fill-opacity: 1;\"/><path class=\"point\" transform=\"translate(148.99,254.04)\" d=\"M3,0A3,3 0 1,1 0,-3A3,3 0 0,1 3,0Z\" style=\"opacity: 1; stroke-width: 0px; fill: rgb(239, 85, 59); fill-opacity: 1;\"/><path class=\"point\" transform=\"translate(149.88,254.61)\" d=\"M3,0A3,3 0 1,1 0,-3A3,3 0 0,1 3,0Z\" style=\"opacity: 1; stroke-width: 0px; fill: rgb(239, 85, 59); fill-opacity: 1;\"/><path class=\"point\" transform=\"translate(152.98,254.8)\" d=\"M3,0A3,3 0 1,1 0,-3A3,3 0 0,1 3,0Z\" style=\"opacity: 1; stroke-width: 0px; fill: rgb(239, 85, 59); fill-opacity: 1;\"/><path class=\"point\" transform=\"translate(155.53,255.18)\" d=\"M3,0A3,3 0 1,1 0,-3A3,3 0 0,1 3,0Z\" style=\"opacity: 1; stroke-width: 0px; fill: rgb(239, 85, 59); fill-opacity: 1;\"/><path class=\"point\" transform=\"translate(156.64,255.39)\" d=\"M3,0A3,3 0 1,1 0,-3A3,3 0 0,1 3,0Z\" style=\"opacity: 1; stroke-width: 0px; fill: rgb(239, 85, 59); fill-opacity: 1;\"/><path class=\"point\" transform=\"translate(159.69,255.77)\" d=\"M3,0A3,3 0 1,1 0,-3A3,3 0 0,1 3,0Z\" style=\"opacity: 1; stroke-width: 0px; fill: rgb(239, 85, 59); fill-opacity: 1;\"/><path class=\"point\" transform=\"translate(162.18,256.15)\" d=\"M3,0A3,3 0 1,1 0,-3A3,3 0 0,1 3,0Z\" style=\"opacity: 1; stroke-width: 0px; fill: rgb(239, 85, 59); fill-opacity: 1;\"/><path class=\"point\" transform=\"translate(163.33,256.34)\" d=\"M3,0A3,3 0 1,1 0,-3A3,3 0 0,1 3,0Z\" style=\"opacity: 1; stroke-width: 0px; fill: rgb(239, 85, 59); fill-opacity: 1;\"/><path class=\"point\" transform=\"translate(165.62,256.72)\" d=\"M3,0A3,3 0 1,1 0,-3A3,3 0 0,1 3,0Z\" style=\"opacity: 1; stroke-width: 0px; fill: rgb(239, 85, 59); fill-opacity: 1;\"/><path class=\"point\" transform=\"translate(169.32,257.11)\" d=\"M3,0A3,3 0 1,1 0,-3A3,3 0 0,1 3,0Z\" style=\"opacity: 1; stroke-width: 0px; fill: rgb(239, 85, 59); fill-opacity: 1;\"/><path class=\"point\" transform=\"translate(170.77,257.3)\" d=\"M3,0A3,3 0 1,1 0,-3A3,3 0 0,1 3,0Z\" style=\"opacity: 1; stroke-width: 0px; fill: rgb(239, 85, 59); fill-opacity: 1;\"/><path class=\"point\" transform=\"translate(171.62,257.49)\" d=\"M3,0A3,3 0 1,1 0,-3A3,3 0 0,1 3,0Z\" style=\"opacity: 1; stroke-width: 0px; fill: rgb(239, 85, 59); fill-opacity: 1;\"/><path class=\"point\" transform=\"translate(174.97,257.87)\" d=\"M3,0A3,3 0 1,1 0,-3A3,3 0 0,1 3,0Z\" style=\"opacity: 1; stroke-width: 0px; fill: rgb(239, 85, 59); fill-opacity: 1;\"/><path class=\"point\" transform=\"translate(176.77,257.87)\" d=\"M3,0A3,3 0 1,1 0,-3A3,3 0 0,1 3,0Z\" style=\"opacity: 1; stroke-width: 0px; fill: rgb(239, 85, 59); fill-opacity: 1;\"/><path class=\"point\" transform=\"translate(178.31,258.46)\" d=\"M3,0A3,3 0 1,1 0,-3A3,3 0 0,1 3,0Z\" style=\"opacity: 1; stroke-width: 0px; fill: rgb(239, 85, 59); fill-opacity: 1;\"/><path class=\"point\" transform=\"translate(181.32,258.65)\" d=\"M3,0A3,3 0 1,1 0,-3A3,3 0 0,1 3,0Z\" style=\"opacity: 1; stroke-width: 0px; fill: rgb(239, 85, 59); fill-opacity: 1;\"/><path class=\"point\" transform=\"translate(183.16,258.84)\" d=\"M3,0A3,3 0 1,1 0,-3A3,3 0 0,1 3,0Z\" style=\"opacity: 1; stroke-width: 0px; fill: rgb(239, 85, 59); fill-opacity: 1;\"/><path class=\"point\" transform=\"translate(185.04,259.41)\" d=\"M3,0A3,3 0 1,1 0,-3A3,3 0 0,1 3,0Z\" style=\"opacity: 1; stroke-width: 0px; fill: rgb(239, 85, 59); fill-opacity: 1;\"/><path class=\"point\" transform=\"translate(186.55,259.6)\" d=\"M3,0A3,3 0 1,1 0,-3A3,3 0 0,1 3,0Z\" style=\"opacity: 1; stroke-width: 0px; fill: rgb(239, 85, 59); fill-opacity: 1;\"/><path class=\"point\" transform=\"translate(189.87,259.6)\" d=\"M3,0A3,3 0 1,1 0,-3A3,3 0 0,1 3,0Z\" style=\"opacity: 1; stroke-width: 0px; fill: rgb(239, 85, 59); fill-opacity: 1;\"/><path class=\"point\" transform=\"translate(191.71,260.19)\" d=\"M3,0A3,3 0 1,1 0,-3A3,3 0 0,1 3,0Z\" style=\"opacity: 1; stroke-width: 0px; fill: rgb(239, 85, 59); fill-opacity: 1;\"/><path class=\"point\" transform=\"translate(196.19,260.38)\" d=\"M3,0A3,3 0 1,1 0,-3A3,3 0 0,1 3,0Z\" style=\"opacity: 1; stroke-width: 0px; fill: rgb(239, 85, 59); fill-opacity: 1;\"/><path class=\"point\" transform=\"translate(197.53,260.57)\" d=\"M3,0A3,3 0 1,1 0,-3A3,3 0 0,1 3,0Z\" style=\"opacity: 1; stroke-width: 0px; fill: rgb(239, 85, 59); fill-opacity: 1;\"/><path class=\"point\" transform=\"translate(198.35,260.76)\" d=\"M3,0A3,3 0 1,1 0,-3A3,3 0 0,1 3,0Z\" style=\"opacity: 1; stroke-width: 0px; fill: rgb(239, 85, 59); fill-opacity: 1;\"/><path class=\"point\" transform=\"translate(199.89,261.14)\" d=\"M3,0A3,3 0 1,1 0,-3A3,3 0 0,1 3,0Z\" style=\"opacity: 1; stroke-width: 0px; fill: rgb(239, 85, 59); fill-opacity: 1;\"/><path class=\"point\" transform=\"translate(202.64,261.33)\" d=\"M3,0A3,3 0 1,1 0,-3A3,3 0 0,1 3,0Z\" style=\"opacity: 1; stroke-width: 0px; fill: rgb(239, 85, 59); fill-opacity: 1;\"/><path class=\"point\" transform=\"translate(205,261.52)\" d=\"M3,0A3,3 0 1,1 0,-3A3,3 0 0,1 3,0Z\" style=\"opacity: 1; stroke-width: 0px; fill: rgb(239, 85, 59); fill-opacity: 1;\"/><path class=\"point\" transform=\"translate(206.58,261.91)\" d=\"M3,0A3,3 0 1,1 0,-3A3,3 0 0,1 3,0Z\" style=\"opacity: 1; stroke-width: 0px; fill: rgb(239, 85, 59); fill-opacity: 1;\"/><path class=\"point\" transform=\"translate(208.42,261.91)\" d=\"M3,0A3,3 0 1,1 0,-3A3,3 0 0,1 3,0Z\" style=\"opacity: 1; stroke-width: 0px; fill: rgb(239, 85, 59); fill-opacity: 1;\"/><path class=\"point\" transform=\"translate(210.78,262.1)\" d=\"M3,0A3,3 0 1,1 0,-3A3,3 0 0,1 3,0Z\" style=\"opacity: 1; stroke-width: 0px; fill: rgb(239, 85, 59); fill-opacity: 1;\"/><path class=\"point\" transform=\"translate(213.2,262.29)\" d=\"M3,0A3,3 0 1,1 0,-3A3,3 0 0,1 3,0Z\" style=\"opacity: 1; stroke-width: 0px; fill: rgb(239, 85, 59); fill-opacity: 1;\"/><path class=\"point\" transform=\"translate(215.82,262.86)\" d=\"M3,0A3,3 0 1,1 0,-3A3,3 0 0,1 3,0Z\" style=\"opacity: 1; stroke-width: 0px; fill: rgb(239, 85, 59); fill-opacity: 1;\"/><path class=\"point\" transform=\"translate(217.71,262.86)\" d=\"M3,0A3,3 0 1,1 0,-3A3,3 0 0,1 3,0Z\" style=\"opacity: 1; stroke-width: 0px; fill: rgb(239, 85, 59); fill-opacity: 1;\"/><path class=\"point\" transform=\"translate(219.98,263.26)\" d=\"M3,0A3,3 0 1,1 0,-3A3,3 0 0,1 3,0Z\" style=\"opacity: 1; stroke-width: 0px; fill: rgb(239, 85, 59); fill-opacity: 1;\"/><path class=\"point\" transform=\"translate(222.94,263.45)\" d=\"M3,0A3,3 0 1,1 0,-3A3,3 0 0,1 3,0Z\" style=\"opacity: 1; stroke-width: 0px; fill: rgb(239, 85, 59); fill-opacity: 1;\"/><path class=\"point\" transform=\"translate(224.87,263.64)\" d=\"M3,0A3,3 0 1,1 0,-3A3,3 0 0,1 3,0Z\" style=\"opacity: 1; stroke-width: 0px; fill: rgb(239, 85, 59); fill-opacity: 1;\"/><path class=\"point\" transform=\"translate(225.93,264.02)\" d=\"M3,0A3,3 0 1,1 0,-3A3,3 0 0,1 3,0Z\" style=\"opacity: 1; stroke-width: 0px; fill: rgb(239, 85, 59); fill-opacity: 1;\"/><path class=\"point\" transform=\"translate(229.11,264.21)\" d=\"M3,0A3,3 0 1,1 0,-3A3,3 0 0,1 3,0Z\" style=\"opacity: 1; stroke-width: 0px; fill: rgb(239, 85, 59); fill-opacity: 1;\"/><path class=\"point\" transform=\"translate(231,264.4)\" d=\"M3,0A3,3 0 1,1 0,-3A3,3 0 0,1 3,0Z\" style=\"opacity: 1; stroke-width: 0px; fill: rgb(239, 85, 59); fill-opacity: 1;\"/><path class=\"point\" transform=\"translate(232.58,264.59)\" d=\"M3,0A3,3 0 1,1 0,-3A3,3 0 0,1 3,0Z\" style=\"opacity: 1; stroke-width: 0px; fill: rgb(239, 85, 59); fill-opacity: 1;\"/><path class=\"point\" transform=\"translate(234.53,264.99)\" d=\"M3,0A3,3 0 1,1 0,-3A3,3 0 0,1 3,0Z\" style=\"opacity: 1; stroke-width: 0px; fill: rgb(239, 85, 59); fill-opacity: 1;\"/><path class=\"point\" transform=\"translate(236.95,265.18)\" d=\"M3,0A3,3 0 1,1 0,-3A3,3 0 0,1 3,0Z\" style=\"opacity: 1; stroke-width: 0px; fill: rgb(239, 85, 59); fill-opacity: 1;\"/><path class=\"point\" transform=\"translate(239.51,265.56)\" d=\"M3,0A3,3 0 1,1 0,-3A3,3 0 0,1 3,0Z\" style=\"opacity: 1; stroke-width: 0px; fill: rgb(239, 85, 59); fill-opacity: 1;\"/><path class=\"point\" transform=\"translate(241.32,265.75)\" d=\"M3,0A3,3 0 1,1 0,-3A3,3 0 0,1 3,0Z\" style=\"opacity: 1; stroke-width: 0px; fill: rgb(239, 85, 59); fill-opacity: 1;\"/><path class=\"point\" transform=\"translate(243.73,265.75)\" d=\"M3,0A3,3 0 1,1 0,-3A3,3 0 0,1 3,0Z\" style=\"opacity: 1; stroke-width: 0px; fill: rgb(239, 85, 59); fill-opacity: 1;\"/><path class=\"point\" transform=\"translate(245.18,265.94)\" d=\"M3,0A3,3 0 1,1 0,-3A3,3 0 0,1 3,0Z\" style=\"opacity: 1; stroke-width: 0px; fill: rgb(239, 85, 59); fill-opacity: 1;\"/><path class=\"point\" transform=\"translate(246.24,266.32)\" d=\"M3,0A3,3 0 1,1 0,-3A3,3 0 0,1 3,0Z\" style=\"opacity: 1; stroke-width: 0px; fill: rgb(239, 85, 59); fill-opacity: 1;\"/><path class=\"point\" transform=\"translate(246.67,266.9)\" d=\"M3,0A3,3 0 1,1 0,-3A3,3 0 0,1 3,0Z\" style=\"opacity: 1; stroke-width: 0px; fill: rgb(239, 85, 59); fill-opacity: 1;\"/><path class=\"point\" transform=\"translate(268.73,73.5)\" d=\"M3,0A3,3 0 1,1 0,-3A3,3 0 0,1 3,0Z\" style=\"opacity: 1; stroke-width: 0px; fill: rgb(239, 85, 59); fill-opacity: 1;\"/><path class=\"point\" transform=\"translate(290.12,70.24)\" d=\"M3,0A3,3 0 1,1 0,-3A3,3 0 0,1 3,0Z\" style=\"opacity: 1; stroke-width: 0px; fill: rgb(239, 85, 59); fill-opacity: 1;\"/><path class=\"point\" transform=\"translate(312.39,67.94)\" d=\"M3,0A3,3 0 1,1 0,-3A3,3 0 0,1 3,0Z\" style=\"opacity: 1; stroke-width: 0px; fill: rgb(239, 85, 59); fill-opacity: 1;\"/><path class=\"point\" transform=\"translate(333.39,66.03)\" d=\"M3,0A3,3 0 1,1 0,-3A3,3 0 0,1 3,0Z\" style=\"opacity: 1; stroke-width: 0px; fill: rgb(239, 85, 59); fill-opacity: 1;\"/><path class=\"point\" transform=\"translate(354.98,64.68)\" d=\"M3,0A3,3 0 1,1 0,-3A3,3 0 0,1 3,0Z\" style=\"opacity: 1; stroke-width: 0px; fill: rgb(239, 85, 59); fill-opacity: 1;\"/><path class=\"point\" transform=\"translate(377.17,63.52)\" d=\"M3,0A3,3 0 1,1 0,-3A3,3 0 0,1 3,0Z\" style=\"opacity: 1; stroke-width: 0px; fill: rgb(239, 85, 59); fill-opacity: 1;\"/><path class=\"point\" transform=\"translate(399.4,62.17)\" d=\"M3,0A3,3 0 1,1 0,-3A3,3 0 0,1 3,0Z\" style=\"opacity: 1; stroke-width: 0px; fill: rgb(239, 85, 59); fill-opacity: 1;\"/><path class=\"point\" transform=\"translate(419.9,61.41)\" d=\"M3,0A3,3 0 1,1 0,-3A3,3 0 0,1 3,0Z\" style=\"opacity: 1; stroke-width: 0px; fill: rgb(239, 85, 59); fill-opacity: 1;\"/><path class=\"point\" transform=\"translate(441.85,60.83)\" d=\"M3,0A3,3 0 1,1 0,-3A3,3 0 0,1 3,0Z\" style=\"opacity: 1; stroke-width: 0px; fill: rgb(239, 85, 59); fill-opacity: 1;\"/><path class=\"point\" transform=\"translate(463.65,59.88)\" d=\"M3,0A3,3 0 1,1 0,-3A3,3 0 0,1 3,0Z\" style=\"opacity: 1; stroke-width: 0px; fill: rgb(239, 85, 59); fill-opacity: 1;\"/></g><g class=\"text\"/></g><g class=\"trace scatter trace6fe9e4\" style=\"stroke-miterlimit: 2; opacity: 1;\"><g class=\"fills\"/><g class=\"errorbars\"/><g class=\"lines\"><path class=\"js-line\" d=\"M28.35,38.55L28.74,38.55L30.97,142.57L33.78,232.23L35.78,245.08L37.42,248.77L40.47,250.93L48.37,252.42L50.71,252.77L245.18,281.45L246.24,264.01L246.67,186.04L268.73,70.41L463.65,70.21\" style=\"vector-effect: none; fill: none; stroke: rgb(0, 204, 150); stroke-opacity: 1; stroke-width: 4px; opacity: 1;\"/></g><g class=\"points\"/><g class=\"text\"/></g></g></g><g class=\"overplot\"/><path class=\"xlines-above crisp\" d=\"M0,0\" style=\"fill: none;\"/><path class=\"ylines-above crisp\" d=\"M0,0\" style=\"fill: none;\"/><g class=\"overlines-above\"/><g class=\"xaxislayer-above\"><g class=\"xtick\"><text text-anchor=\"middle\" x=\"0\" y=\"433\" transform=\"translate(108.35,0)\" style=\"font-family: 'Open Sans', verdana, arial, sans-serif; font-size: 12px; fill: rgb(42, 63, 95); fill-opacity: 1; white-space: pre; opacity: 1;\">0</text></g><g class=\"xtick\"><text text-anchor=\"middle\" x=\"0\" y=\"433\" style=\"font-family: 'Open Sans', verdana, arial, sans-serif; font-size: 12px; fill: rgb(42, 63, 95); fill-opacity: 1; white-space: pre; opacity: 1;\" transform=\"translate(216.59,0)\">5</text></g><g class=\"xtick\"><text text-anchor=\"middle\" x=\"0\" y=\"433\" style=\"font-family: 'Open Sans', verdana, arial, sans-serif; font-size: 12px; fill: rgb(42, 63, 95); fill-opacity: 1; white-space: pre; opacity: 1;\" transform=\"translate(324.83000000000004,0)\">10</text></g><g class=\"xtick\"><text text-anchor=\"middle\" x=\"0\" y=\"433\" style=\"font-family: 'Open Sans', verdana, arial, sans-serif; font-size: 12px; fill: rgb(42, 63, 95); fill-opacity: 1; white-space: pre; opacity: 1;\" transform=\"translate(433.07,0)\">15</text></g><g class=\"xtick\"><text text-anchor=\"middle\" x=\"0\" y=\"433\" style=\"font-family: 'Open Sans', verdana, arial, sans-serif; font-size: 12px; fill: rgb(42, 63, 95); fill-opacity: 1; white-space: pre; opacity: 1;\" transform=\"translate(541.31,0)\">20</text></g></g><g class=\"yaxislayer-above\"><g class=\"ytick\"><text text-anchor=\"end\" x=\"79\" y=\"4.199999999999999\" transform=\"translate(0,385.57)\" style=\"font-family: 'Open Sans', verdana, arial, sans-serif; font-size: 12px; fill: rgb(42, 63, 95); fill-opacity: 1; white-space: pre; opacity: 1;\">3.85</text></g><g class=\"ytick\"><text text-anchor=\"end\" x=\"79\" y=\"4.199999999999999\" style=\"font-family: 'Open Sans', verdana, arial, sans-serif; font-size: 12px; fill: rgb(42, 63, 95); fill-opacity: 1; white-space: pre; opacity: 1;\" transform=\"translate(0,299.24)\">3.9</text></g><g class=\"ytick\"><text text-anchor=\"end\" x=\"79\" y=\"4.199999999999999\" style=\"font-family: 'Open Sans', verdana, arial, sans-serif; font-size: 12px; fill: rgb(42, 63, 95); fill-opacity: 1; white-space: pre; opacity: 1;\" transform=\"translate(0,212.9)\">3.95</text></g><g class=\"ytick\"><text text-anchor=\"end\" x=\"79\" y=\"4.199999999999999\" style=\"font-family: 'Open Sans', verdana, arial, sans-serif; font-size: 12px; fill: rgb(42, 63, 95); fill-opacity: 1; white-space: pre; opacity: 1;\" transform=\"translate(0,126.57)\">4</text></g></g><g class=\"overaxes-above\"/></g></g><g class=\"polarlayer\"/><g class=\"smithlayer\"/><g class=\"ternarylayer\"/><g class=\"geolayer\"/><g class=\"funnelarealayer\"/><g class=\"pielayer\"/><g class=\"iciclelayer\"/><g class=\"treemaplayer\"/><g class=\"sunburstlayer\"/><g class=\"glimages\"/><defs id=\"topdefs-84f726\"><g class=\"clips\"/><clipPath id=\"legend84f726\"><rect width=\"106\" height=\"48\" x=\"0\" y=\"0\"/></clipPath></defs><g class=\"layer-above\"><g class=\"imagelayer\"/><g class=\"shapelayer\"/></g><g class=\"infolayer\"><g class=\"legend\" pointer-events=\"all\" transform=\"translate(581.84,100)\"><rect class=\"bg\" shape-rendering=\"crispEdges\" width=\"106\" height=\"48\" x=\"0\" y=\"0\" style=\"stroke: rgb(68, 68, 68); stroke-opacity: 1; fill: rgb(255, 255, 255); fill-opacity: 1; stroke-width: 0px;\"/><g class=\"scrollbox\" transform=\"\" clip-path=\"url(#legend84f726)\"><g class=\"groups\"><g class=\"traces\" transform=\"translate(0,14.5)\" style=\"opacity: 1;\"><text class=\"legendtext\" text-anchor=\"start\" x=\"40\" y=\"4.680000000000001\" style=\"font-family: 'Open Sans', verdana, arial, sans-serif; font-size: 12px; fill: rgb(42, 63, 95); fill-opacity: 1; white-space: pre;\">Reference</text><g class=\"layers\" style=\"opacity: 1;\"><g class=\"legendfill\"/><g class=\"legendlines\"/><g class=\"legendsymbols\"><g class=\"legendpoints\"><path class=\"scatterpts\" transform=\"translate(20,0)\" d=\"M3,0A3,3 0 1,1 0,-3A3,3 0 0,1 3,0Z\" style=\"opacity: 1; stroke-width: 0px; fill: rgb(239, 85, 59); fill-opacity: 1;\"/></g></g></g><rect class=\"legendtoggle\" x=\"0\" y=\"-9.5\" width=\"100.125\" height=\"19\" style=\"fill: rgb(0, 0, 0); fill-opacity: 0;\"/></g><g class=\"traces\" transform=\"translate(0,33.5)\" style=\"opacity: 1;\"><text class=\"legendtext\" text-anchor=\"start\" x=\"40\" y=\"4.680000000000001\" style=\"font-family: 'Open Sans', verdana, arial, sans-serif; font-size: 12px; fill: rgb(42, 63, 95); fill-opacity: 1; white-space: pre;\">Model</text><g class=\"layers\" style=\"opacity: 1;\"><g class=\"legendfill\"/><g class=\"legendlines\"><path class=\"js-line\" d=\"M5,0h30\" style=\"fill: none; stroke: rgb(0, 204, 150); stroke-opacity: 1; stroke-width: 4px;\"/></g><g class=\"legendsymbols\"><g class=\"legendpoints\"/></g></g><rect class=\"legendtoggle\" x=\"0\" y=\"-9.5\" width=\"100.125\" height=\"19\" style=\"fill: rgb(0, 0, 0); fill-opacity: 0;\"/></g></g></g><rect class=\"scrollbar\" rx=\"20\" ry=\"3\" width=\"0\" height=\"0\" x=\"0\" y=\"0\" style=\"fill: rgb(128, 139, 164); fill-opacity: 1;\"/></g><g class=\"g-gtitle\"><text class=\"gtitle\" x=\"35\" y=\"50\" text-anchor=\"start\" dy=\"0em\" style=\"font-family: 'Open Sans', verdana, arial, sans-serif; font-size: 17px; fill: rgb(42, 63, 95); opacity: 1; font-weight: normal; white-space: pre;\">Parameter Extrapolation</text></g><g class=\"g-xtitle\"><text class=\"xtitle\" x=\"326\" y=\"459.8\" text-anchor=\"middle\" style=\"font-family: 'Open Sans', verdana, arial, sans-serif; font-size: 14px; fill: rgb(42, 63, 95); opacity: 1; font-weight: normal; white-space: pre;\">Time / s</text></g><g class=\"g-ytitle\"><text class=\"ytitle\" transform=\"rotate(-90,27.434375000000003,260)\" x=\"27.434375000000003\" y=\"260\" text-anchor=\"middle\" style=\"font-family: 'Open Sans', verdana, arial, sans-serif; font-size: 14px; fill: rgb(42, 63, 95); opacity: 1; font-weight: normal; white-space: pre;\">Voltage  / V</text></g></g></svg>"
      ]
     },
     "metadata": {},
     "output_type": "display_data"
    }
   ],
   "source": [
    "pybop.quick_plot(problem, problem_inputs=x, title=\"Parameter Extrapolation\");"
   ]
  },
  {
   "cell_type": "markdown",
   "id": "f7056d7d",
   "metadata": {},
   "source": [
    "As expected, when identifying parameters from a single pulse, extrapolation to different operating conditions is challenging. To solve this issue, parameter identification with various pulse datasets is recommended."
   ]
  },
  {
   "cell_type": "markdown",
   "id": "c544a81c-1215-4794-b7db-c57c46125c77",
   "metadata": {},
   "source": [
    "### Conclusion\n",
    "\n",
    "This notebook illustrates how to perform circuit model parameter identification using PSO in PyBOP, providing insights into the optimisation process through various visualisations."
   ]
  }
 ],
 "metadata": {
  "kernelspec": {
   "display_name": "Python 3 (ipykernel)",
   "language": "python",
   "name": "python3"
  },
  "language_info": {
   "codemirror_mode": {
    "name": "ipython",
    "version": 3
   },
   "file_extension": ".py",
   "mimetype": "text/x-python",
   "name": "python",
   "nbconvert_exporter": "python",
   "pygments_lexer": "ipython3",
   "version": "3.12.2"
  }
 },
 "nbformat": 4,
 "nbformat_minor": 5
}
