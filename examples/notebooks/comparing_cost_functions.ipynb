{
 "cells": [
  {
   "cell_type": "markdown",
   "metadata": {},
   "source": [
    "## Investigating different cost functions\n",
    "\n",
    "In this notebook, we take a look at the different cost function offered in PyBOP. Cost functions conventionally construct a distance metric between two mathematics sets (vectors), which is then used within PyBOP's optimisation algorthims. \n",
    "\n",
    "First, we install and import the required packages below."
   ]
  },
  {
   "cell_type": "code",
   "execution_count": 80,
   "metadata": {},
   "outputs": [
    {
     "name": "stdout",
     "output_type": "stream",
     "text": [
      "Requirement already satisfied: pip in /Users/engs2510/.pyenv/versions/3.12.2/envs/pybop-3.12/lib/python3.12/site-packages (24.1.1)\n",
      "Requirement already satisfied: ipywidgets in /Users/engs2510/.pyenv/versions/3.12.2/envs/pybop-3.12/lib/python3.12/site-packages (8.1.3)\n",
      "Requirement already satisfied: comm>=0.1.3 in /Users/engs2510/.pyenv/versions/3.12.2/envs/pybop-3.12/lib/python3.12/site-packages (from ipywidgets) (0.2.2)\n",
      "Requirement already satisfied: ipython>=6.1.0 in /Users/engs2510/.pyenv/versions/3.12.2/envs/pybop-3.12/lib/python3.12/site-packages (from ipywidgets) (8.23.0)\n",
      "Requirement already satisfied: traitlets>=4.3.1 in /Users/engs2510/.pyenv/versions/3.12.2/envs/pybop-3.12/lib/python3.12/site-packages (from ipywidgets) (5.14.2)\n",
      "Requirement already satisfied: widgetsnbextension~=4.0.11 in /Users/engs2510/.pyenv/versions/3.12.2/envs/pybop-3.12/lib/python3.12/site-packages (from ipywidgets) (4.0.11)\n",
      "Requirement already satisfied: jupyterlab-widgets~=3.0.11 in /Users/engs2510/.pyenv/versions/3.12.2/envs/pybop-3.12/lib/python3.12/site-packages (from ipywidgets) (3.0.11)\n",
      "Requirement already satisfied: decorator in /Users/engs2510/.pyenv/versions/3.12.2/envs/pybop-3.12/lib/python3.12/site-packages (from ipython>=6.1.0->ipywidgets) (5.1.1)\n",
      "Requirement already satisfied: jedi>=0.16 in /Users/engs2510/.pyenv/versions/3.12.2/envs/pybop-3.12/lib/python3.12/site-packages (from ipython>=6.1.0->ipywidgets) (0.19.1)\n",
      "Requirement already satisfied: matplotlib-inline in /Users/engs2510/.pyenv/versions/3.12.2/envs/pybop-3.12/lib/python3.12/site-packages (from ipython>=6.1.0->ipywidgets) (0.1.6)\n",
      "Requirement already satisfied: prompt-toolkit<3.1.0,>=3.0.41 in /Users/engs2510/.pyenv/versions/3.12.2/envs/pybop-3.12/lib/python3.12/site-packages (from ipython>=6.1.0->ipywidgets) (3.0.43)\n",
      "Requirement already satisfied: pygments>=2.4.0 in /Users/engs2510/.pyenv/versions/3.12.2/envs/pybop-3.12/lib/python3.12/site-packages (from ipython>=6.1.0->ipywidgets) (2.17.2)\n",
      "Requirement already satisfied: stack-data in /Users/engs2510/.pyenv/versions/3.12.2/envs/pybop-3.12/lib/python3.12/site-packages (from ipython>=6.1.0->ipywidgets) (0.6.3)\n",
      "Requirement already satisfied: pexpect>4.3 in /Users/engs2510/.pyenv/versions/3.12.2/envs/pybop-3.12/lib/python3.12/site-packages (from ipython>=6.1.0->ipywidgets) (4.9.0)\n",
      "Requirement already satisfied: parso<0.9.0,>=0.8.3 in /Users/engs2510/.pyenv/versions/3.12.2/envs/pybop-3.12/lib/python3.12/site-packages (from jedi>=0.16->ipython>=6.1.0->ipywidgets) (0.8.4)\n",
      "Requirement already satisfied: ptyprocess>=0.5 in /Users/engs2510/.pyenv/versions/3.12.2/envs/pybop-3.12/lib/python3.12/site-packages (from pexpect>4.3->ipython>=6.1.0->ipywidgets) (0.7.0)\n",
      "Requirement already satisfied: wcwidth in /Users/engs2510/.pyenv/versions/3.12.2/envs/pybop-3.12/lib/python3.12/site-packages (from prompt-toolkit<3.1.0,>=3.0.41->ipython>=6.1.0->ipywidgets) (0.2.13)\n",
      "Requirement already satisfied: executing>=1.2.0 in /Users/engs2510/.pyenv/versions/3.12.2/envs/pybop-3.12/lib/python3.12/site-packages (from stack-data->ipython>=6.1.0->ipywidgets) (2.0.1)\n",
      "Requirement already satisfied: asttokens>=2.1.0 in /Users/engs2510/.pyenv/versions/3.12.2/envs/pybop-3.12/lib/python3.12/site-packages (from stack-data->ipython>=6.1.0->ipywidgets) (2.4.1)\n",
      "Requirement already satisfied: pure-eval in /Users/engs2510/.pyenv/versions/3.12.2/envs/pybop-3.12/lib/python3.12/site-packages (from stack-data->ipython>=6.1.0->ipywidgets) (0.2.2)\n",
      "Requirement already satisfied: six>=1.12.0 in /Users/engs2510/.pyenv/versions/3.12.2/envs/pybop-3.12/lib/python3.12/site-packages (from asttokens>=2.1.0->stack-data->ipython>=6.1.0->ipywidgets) (1.16.0)\n",
      "Note: you may need to restart the kernel to use updated packages.\n",
      "Note: you may need to restart the kernel to use updated packages.\n"
     ]
    }
   ],
   "source": [
    "%pip install --upgrade pip ipywidgets\n",
    "%pip install pybop -q\n",
    "\n",
    "import numpy as np\n",
    "import plotly.graph_objects as go\n",
    "\n",
    "import pybop"
   ]
  },
  {
   "cell_type": "markdown",
   "metadata": {},
   "source": [
    "For this notebook, we need to construct parameters, a model and a problem class before we can compare differing cost functions. We start with two parameters, but this is an arbituary selection and can be expanded given the model and data in question."
   ]
  },
  {
   "cell_type": "code",
   "execution_count": 81,
   "metadata": {},
   "outputs": [],
   "source": [
    "parameters = pybop.Parameters(\n",
    "    pybop.Parameter(\n",
    "        \"Positive electrode thickness [m]\",\n",
    "        prior=pybop.Gaussian(7.56e-05, 0.5e-05),\n",
    "        bounds=[65e-06, 10e-05],\n",
    "    ),\n",
    "    pybop.Parameter(\n",
    "        \"Positive particle radius [m]\",\n",
    "        prior=pybop.Gaussian(5.22e-06, 0.5e-06),\n",
    "        bounds=[2e-06, 9e-06],\n",
    "    ),\n",
    ")"
   ]
  },
  {
   "cell_type": "markdown",
   "metadata": {},
   "source": [
    "Next, we will construct the Single Particle Model (SPM) with the Chen2020 parameter set, but like the above, this is an arbitruary selection and can be replaced with any PyBOP model."
   ]
  },
  {
   "cell_type": "code",
   "execution_count": 82,
   "metadata": {},
   "outputs": [],
   "source": [
    "parameter_set = pybop.ParameterSet.pybamm(\"Chen2020\")\n",
    "model = pybop.lithium_ion.SPM(parameter_set=parameter_set)"
   ]
  },
  {
   "cell_type": "markdown",
   "metadata": {},
   "source": [
    "Next, as we will need reference data to compare our model predictions to (via the cost function), we will create synthetic data from the model constructed above. "
   ]
  },
  {
   "cell_type": "code",
   "execution_count": 83,
   "metadata": {},
   "outputs": [],
   "source": [
    "t_eval = np.arange(0, 900, 2)\n",
    "values = model.predict(t_eval=t_eval)"
   ]
  },
  {
   "cell_type": "markdown",
   "metadata": {},
   "source": [
    "We can then construct the PyBOP dataset class with the synthetic data as,"
   ]
  },
  {
   "cell_type": "code",
   "execution_count": 84,
   "metadata": {},
   "outputs": [],
   "source": [
    "dataset = pybop.Dataset(\n",
    "    {\n",
    "        \"Time [s]\": t_eval,\n",
    "        \"Current function [A]\": values[\"Current [A]\"].data,\n",
    "        \"Voltage [V]\": values[\"Voltage [V]\"].data,\n",
    "    }\n",
    ")"
   ]
  },
  {
   "cell_type": "markdown",
   "metadata": {},
   "source": [
    "Now, we can put this all together and construct the problem class. In this situation, we are going to compare differing fitting cost functions, so we construct the `FittingProblem`."
   ]
  },
  {
   "cell_type": "code",
   "execution_count": 85,
   "metadata": {},
   "outputs": [],
   "source": [
    "problem = pybop.FittingProblem(model, parameters, dataset)"
   ]
  },
  {
   "cell_type": "markdown",
   "metadata": {},
   "source": [
    "### Sum of Square Errors and Root Mean Squared Error\n",
    "\n",
    "First, let's start with the easiest cost functions, the sum of squared errors (SSE) and the root mean squared error (RMSE). Constructing these classes is very concise in PyBOP, and only requires the problem class."
   ]
  },
  {
   "cell_type": "code",
   "execution_count": 86,
   "metadata": {},
   "outputs": [],
   "source": [
    "cost_SSE = pybop.SumSquaredError(problem)\n",
    "cost_RMSE = pybop.RootMeanSquaredError(problem)"
   ]
  },
  {
   "cell_type": "markdown",
   "metadata": {},
   "source": [
    "Now, we can investigate how these functions differ when fitting the parameters. To acquire the distance metric for each of these, we can simply use the constructed class in a call method, such as:"
   ]
  },
  {
   "cell_type": "code",
   "execution_count": 87,
   "metadata": {},
   "outputs": [
    {
     "data": {
      "text/plain": [
       "1.2690291451182834e-09"
      ]
     },
     "execution_count": 87,
     "metadata": {},
     "output_type": "execute_result"
    }
   ],
   "source": [
    "cost_SSE([7.56e-05, 5.22e-06])"
   ]
  },
  {
   "cell_type": "markdown",
   "metadata": {},
   "source": [
    "Alternatively, we can use the `Parameters` class for this,"
   ]
  },
  {
   "cell_type": "code",
   "execution_count": 88,
   "metadata": {},
   "outputs": [
    {
     "name": "stdout",
     "output_type": "stream",
     "text": [
      "[7.56e-05, 5.22e-06]\n"
     ]
    },
    {
     "data": {
      "text/plain": [
       "1.2690291451182834e-09"
      ]
     },
     "execution_count": 88,
     "metadata": {},
     "output_type": "execute_result"
    }
   ],
   "source": [
    "print(parameters.current_value())\n",
    "cost_SSE(parameters.current_value())"
   ]
  },
  {
   "cell_type": "markdown",
   "metadata": {},
   "source": [
    "If we want to generate a random sample of candidate solutions from the parameter class prior, we can also do that as:"
   ]
  },
  {
   "cell_type": "code",
   "execution_count": 89,
   "metadata": {},
   "outputs": [
    {
     "name": "stdout",
     "output_type": "stream",
     "text": [
      "[7.60957550e-05 5.48691392e-06]\n"
     ]
    },
    {
     "data": {
      "text/plain": [
       "0.014466013735507651"
      ]
     },
     "execution_count": 89,
     "metadata": {},
     "output_type": "execute_result"
    }
   ],
   "source": [
    "sample = parameters.rvs()\n",
    "print(sample)\n",
    "cost_SSE(sample)"
   ]
  },
  {
   "cell_type": "markdown",
   "metadata": {},
   "source": [
    "#### Comparing RMSE and SSE\n",
    "\n",
    "Now, let's vary one of the parameters with a fixed point for the other and create a scatter plot comparing the cost values for the RMSE and SSE functions."
   ]
  },
  {
   "cell_type": "code",
   "execution_count": 90,
   "metadata": {},
   "outputs": [
    {
     "data": {
      "application/vnd.plotly.v1+json": {
       "config": {
        "plotlyServerURL": "https://plot.ly"
       },
       "data": [
        {
         "mode": "lines",
         "name": "SSE",
         "type": "scatter",
         "x": [
          0.0000048,
          0.00000481081081081081,
          0.0000048216216216216215,
          0.000004832432432432432,
          0.000004843243243243243,
          0.000004854054054054054,
          0.000004864864864864865,
          0.000004875675675675675,
          0.000004886486486486487,
          0.000004897297297297297,
          0.0000049081081081081075,
          0.000004918918918918919,
          0.000004929729729729729,
          0.0000049405405405405405,
          0.000004951351351351351,
          0.000004962162162162162,
          0.000004972972972972973,
          0.000004983783783783784,
          0.000004994594594594594,
          0.000005005405405405405,
          0.000005016216216216216,
          0.0000050270270270270265,
          0.000005037837837837838,
          0.000005048648648648648,
          0.0000050594594594594595,
          0.00000507027027027027,
          0.000005081081081081081,
          0.000005091891891891892,
          0.000005102702702702702,
          0.000005113513513513513,
          0.000005124324324324324,
          0.000005135135135135135,
          0.0000051459459459459455,
          0.000005156756756756757,
          0.000005167567567567567,
          0.0000051783783783783785,
          0.000005189189189189189,
          0.000005199999999999999,
          0.000005210810810810811,
          0.000005221621621621621,
          0.000005232432432432432,
          0.000005243243243243243,
          0.000005254054054054054,
          0.0000052648648648648645,
          0.000005275675675675676,
          0.000005286486486486486,
          0.000005297297297297297,
          0.000005308108108108108,
          0.000005318918918918918,
          0.00000532972972972973,
          0.00000534054054054054,
          0.000005351351351351351,
          0.000005362162162162162,
          0.000005372972972972973,
          0.0000053837837837837835,
          0.000005394594594594594,
          0.000005405405405405405,
          0.000005416216216216216,
          0.000005427027027027027,
          0.000005437837837837837,
          0.000005448648648648649,
          0.000005459459459459459,
          0.00000547027027027027,
          0.000005481081081081081,
          0.000005491891891891891,
          0.0000055027027027027025,
          0.000005513513513513513,
          0.000005524324324324324,
          0.000005535135135135135,
          0.000005545945945945946,
          0.000005556756756756756,
          0.000005567567567567568,
          0.000005578378378378378,
          0.0000055891891891891885,
          0.0000056
         ],
         "y": [
          0.053835830058639615,
          0.05111067206222717,
          0.04845554165878352,
          0.04587051804433099,
          0.043355678096208675,
          0.04091109644413583,
          0.038536845477359936,
          0.03623299543973158,
          0.03399961440367254,
          0.031836768282340513,
          0.02974452094548145,
          0.02772293424615578,
          0.02577274436881736,
          0.02389263231281454,
          0.022083354370052568,
          0.020344964563815224,
          0.018677515064371243,
          0.01708105629952934,
          0.015555636789546832,
          0.014101303317362665,
          0.012718100980349315,
          0.011406073186761897,
          0.010165261722848786,
          0.00899570675469101,
          0.007897446886200334,
          0.00687051919031046,
          0.005914959195754908,
          0.005030800981722024,
          0.004218077198061601,
          0.003476819103455494,
          0.002807056595014089,
          0.002210166875264619,
          0.001683316235636507,
          0.0012280406319022843,
          0.0008443648780650153,
          0.0005323126127996372,
          0.00029190631272314684,
          0.00012316735767345152,
          0.00002611605104018711,
          7.716524040349468e-7,
          0.000047152387593465094,
          0.00016527552304902867,
          0.00035515740004700826,
          0.000616813450391432,
          0.0009502582309038722,
          0.0013555054549569752,
          0.0018325680271045303,
          0.0023814580649710623,
          0.0030021869333247487,
          0.003694765325842557,
          0.004459203215392723,
          0.005295511891398787,
          0.006203696238833047,
          0.007183766159368478,
          0.008235729239251834,
          0.009359592477131223,
          0.01055536229286567,
          0.011823044842784848,
          0.01316264573471436,
          0.014574170163856032,
          0.016057622954143685,
          0.017613008498385842,
          0.01924033104259407,
          0.020939594432015526,
          0.022710802251721743,
          0.024553957861849968,
          0.026469064398176645,
          0.028456124854723906,
          0.030515142072100664,
          0.03264611873917076,
          0.03484905751204218,
          0.03712396095868825,
          0.039470831615045304,
          0.041889672012050114,
          0.04438742821038762
         ]
        },
        {
         "mode": "lines",
         "name": "RMSE",
         "type": "scatter",
         "x": [
          0.0000048,
          0.00000481081081081081,
          0.0000048216216216216215,
          0.000004832432432432432,
          0.000004843243243243243,
          0.000004854054054054054,
          0.000004864864864864865,
          0.000004875675675675675,
          0.000004886486486486487,
          0.000004897297297297297,
          0.0000049081081081081075,
          0.000004918918918918919,
          0.000004929729729729729,
          0.0000049405405405405405,
          0.000004951351351351351,
          0.000004962162162162162,
          0.000004972972972972973,
          0.000004983783783783784,
          0.000004994594594594594,
          0.000005005405405405405,
          0.000005016216216216216,
          0.0000050270270270270265,
          0.000005037837837837838,
          0.000005048648648648648,
          0.0000050594594594594595,
          0.00000507027027027027,
          0.000005081081081081081,
          0.000005091891891891892,
          0.000005102702702702702,
          0.000005113513513513513,
          0.000005124324324324324,
          0.000005135135135135135,
          0.0000051459459459459455,
          0.000005156756756756757,
          0.000005167567567567567,
          0.0000051783783783783785,
          0.000005189189189189189,
          0.000005199999999999999,
          0.000005210810810810811,
          0.000005221621621621621,
          0.000005232432432432432,
          0.000005243243243243243,
          0.000005254054054054054,
          0.0000052648648648648645,
          0.000005275675675675676,
          0.000005286486486486486,
          0.000005297297297297297,
          0.000005308108108108108,
          0.000005318918918918918,
          0.00000532972972972973,
          0.00000534054054054054,
          0.000005351351351351351,
          0.000005362162162162162,
          0.000005372972972972973,
          0.0000053837837837837835,
          0.000005394594594594594,
          0.000005405405405405405,
          0.000005416216216216216,
          0.000005427027027027027,
          0.000005437837837837837,
          0.000005448648648648649,
          0.000005459459459459459,
          0.00000547027027027027,
          0.000005481081081081081,
          0.000005491891891891891,
          0.0000055027027027027025,
          0.000005513513513513513,
          0.000005524324324324324,
          0.000005535135135135135,
          0.000005545945945945946,
          0.000005556756756756756,
          0.000005567567567567568,
          0.000005578378378378378,
          0.0000055891891891891885,
          0.0000056
         ],
         "y": [
          0.01093778670061215,
          0.010657357611030684,
          0.010376848339643564,
          0.0100962609189223,
          0.009815597349367391,
          0.009534859603247191,
          0.009254049621335149,
          0.008973169319914116,
          0.008692220583649948,
          0.008411205262074912,
          0.008130125179503895,
          0.007848982134456216,
          0.007567877196680624,
          0.007286613649214647,
          0.007005292343816855,
          0.006723914958120293,
          0.006442483141765766,
          0.00616099853009583,
          0.005879462709682622,
          0.005597877240002611,
          0.005316243657226264,
          0.005034563467065971,
          0.0047528381515910606,
          0.00447106916238934,
          0.00418925792585442,
          0.003907405843128166,
          0.003625514276395038,
          0.003343584564080899,
          0.003061618017418459,
          0.002779615922091673,
          0.0024975795371670853,
          0.0022161863516032415,
          0.0019340896426636757,
          0.0016519622217245394,
          0.001369805240061533,
          0.0010876198404463425,
          0.0008054071609691128,
          0.0005231684616587058,
          0.000240905933879167,
          0.00004140993987049075,
          0.000323702152512203,
          0.0006060354280971968,
          0.0008883910550940557,
          0.0011707675074178496,
          0.0014531637752036625,
          0.0017355789651723812,
          0.002018012238210072,
          0.0023004627867603132,
          0.0025829298322833784,
          0.0028654126427067115,
          0.003147910494065944,
          0.0034304233270995017,
          0.003712949183849843,
          0.003995488055118751,
          0.004278039332646527,
          0.004560602415649159,
          0.004843176710673749,
          0.005125761697930008,
          0.0054083568535111285,
          0.005690961676954868,
          0.005973575693398699,
          0.006256198437174278,
          0.006538829498141437,
          0.006821468468822942,
          0.00710411496586806,
          0.007386768630741797,
          0.007669429125238671,
          0.007952096139414912,
          0.008234769385167406,
          0.008517448592829345,
          0.00880013352323477,
          0.009082823956199262,
          0.009365519694311956,
          0.00964822056271404,
          0.009931703245486995
         ]
        }
       ],
       "layout": {
        "template": {
         "data": {
          "bar": [
           {
            "error_x": {
             "color": "#2a3f5f"
            },
            "error_y": {
             "color": "#2a3f5f"
            },
            "marker": {
             "line": {
              "color": "#E5ECF6",
              "width": 0.5
             },
             "pattern": {
              "fillmode": "overlay",
              "size": 10,
              "solidity": 0.2
             }
            },
            "type": "bar"
           }
          ],
          "barpolar": [
           {
            "marker": {
             "line": {
              "color": "#E5ECF6",
              "width": 0.5
             },
             "pattern": {
              "fillmode": "overlay",
              "size": 10,
              "solidity": 0.2
             }
            },
            "type": "barpolar"
           }
          ],
          "carpet": [
           {
            "aaxis": {
             "endlinecolor": "#2a3f5f",
             "gridcolor": "white",
             "linecolor": "white",
             "minorgridcolor": "white",
             "startlinecolor": "#2a3f5f"
            },
            "baxis": {
             "endlinecolor": "#2a3f5f",
             "gridcolor": "white",
             "linecolor": "white",
             "minorgridcolor": "white",
             "startlinecolor": "#2a3f5f"
            },
            "type": "carpet"
           }
          ],
          "choropleth": [
           {
            "colorbar": {
             "outlinewidth": 0,
             "ticks": ""
            },
            "type": "choropleth"
           }
          ],
          "contour": [
           {
            "colorbar": {
             "outlinewidth": 0,
             "ticks": ""
            },
            "colorscale": [
             [
              0,
              "#0d0887"
             ],
             [
              0.1111111111111111,
              "#46039f"
             ],
             [
              0.2222222222222222,
              "#7201a8"
             ],
             [
              0.3333333333333333,
              "#9c179e"
             ],
             [
              0.4444444444444444,
              "#bd3786"
             ],
             [
              0.5555555555555556,
              "#d8576b"
             ],
             [
              0.6666666666666666,
              "#ed7953"
             ],
             [
              0.7777777777777778,
              "#fb9f3a"
             ],
             [
              0.8888888888888888,
              "#fdca26"
             ],
             [
              1,
              "#f0f921"
             ]
            ],
            "type": "contour"
           }
          ],
          "contourcarpet": [
           {
            "colorbar": {
             "outlinewidth": 0,
             "ticks": ""
            },
            "type": "contourcarpet"
           }
          ],
          "heatmap": [
           {
            "colorbar": {
             "outlinewidth": 0,
             "ticks": ""
            },
            "colorscale": [
             [
              0,
              "#0d0887"
             ],
             [
              0.1111111111111111,
              "#46039f"
             ],
             [
              0.2222222222222222,
              "#7201a8"
             ],
             [
              0.3333333333333333,
              "#9c179e"
             ],
             [
              0.4444444444444444,
              "#bd3786"
             ],
             [
              0.5555555555555556,
              "#d8576b"
             ],
             [
              0.6666666666666666,
              "#ed7953"
             ],
             [
              0.7777777777777778,
              "#fb9f3a"
             ],
             [
              0.8888888888888888,
              "#fdca26"
             ],
             [
              1,
              "#f0f921"
             ]
            ],
            "type": "heatmap"
           }
          ],
          "heatmapgl": [
           {
            "colorbar": {
             "outlinewidth": 0,
             "ticks": ""
            },
            "colorscale": [
             [
              0,
              "#0d0887"
             ],
             [
              0.1111111111111111,
              "#46039f"
             ],
             [
              0.2222222222222222,
              "#7201a8"
             ],
             [
              0.3333333333333333,
              "#9c179e"
             ],
             [
              0.4444444444444444,
              "#bd3786"
             ],
             [
              0.5555555555555556,
              "#d8576b"
             ],
             [
              0.6666666666666666,
              "#ed7953"
             ],
             [
              0.7777777777777778,
              "#fb9f3a"
             ],
             [
              0.8888888888888888,
              "#fdca26"
             ],
             [
              1,
              "#f0f921"
             ]
            ],
            "type": "heatmapgl"
           }
          ],
          "histogram": [
           {
            "marker": {
             "pattern": {
              "fillmode": "overlay",
              "size": 10,
              "solidity": 0.2
             }
            },
            "type": "histogram"
           }
          ],
          "histogram2d": [
           {
            "colorbar": {
             "outlinewidth": 0,
             "ticks": ""
            },
            "colorscale": [
             [
              0,
              "#0d0887"
             ],
             [
              0.1111111111111111,
              "#46039f"
             ],
             [
              0.2222222222222222,
              "#7201a8"
             ],
             [
              0.3333333333333333,
              "#9c179e"
             ],
             [
              0.4444444444444444,
              "#bd3786"
             ],
             [
              0.5555555555555556,
              "#d8576b"
             ],
             [
              0.6666666666666666,
              "#ed7953"
             ],
             [
              0.7777777777777778,
              "#fb9f3a"
             ],
             [
              0.8888888888888888,
              "#fdca26"
             ],
             [
              1,
              "#f0f921"
             ]
            ],
            "type": "histogram2d"
           }
          ],
          "histogram2dcontour": [
           {
            "colorbar": {
             "outlinewidth": 0,
             "ticks": ""
            },
            "colorscale": [
             [
              0,
              "#0d0887"
             ],
             [
              0.1111111111111111,
              "#46039f"
             ],
             [
              0.2222222222222222,
              "#7201a8"
             ],
             [
              0.3333333333333333,
              "#9c179e"
             ],
             [
              0.4444444444444444,
              "#bd3786"
             ],
             [
              0.5555555555555556,
              "#d8576b"
             ],
             [
              0.6666666666666666,
              "#ed7953"
             ],
             [
              0.7777777777777778,
              "#fb9f3a"
             ],
             [
              0.8888888888888888,
              "#fdca26"
             ],
             [
              1,
              "#f0f921"
             ]
            ],
            "type": "histogram2dcontour"
           }
          ],
          "mesh3d": [
           {
            "colorbar": {
             "outlinewidth": 0,
             "ticks": ""
            },
            "type": "mesh3d"
           }
          ],
          "parcoords": [
           {
            "line": {
             "colorbar": {
              "outlinewidth": 0,
              "ticks": ""
             }
            },
            "type": "parcoords"
           }
          ],
          "pie": [
           {
            "automargin": true,
            "type": "pie"
           }
          ],
          "scatter": [
           {
            "fillpattern": {
             "fillmode": "overlay",
             "size": 10,
             "solidity": 0.2
            },
            "type": "scatter"
           }
          ],
          "scatter3d": [
           {
            "line": {
             "colorbar": {
              "outlinewidth": 0,
              "ticks": ""
             }
            },
            "marker": {
             "colorbar": {
              "outlinewidth": 0,
              "ticks": ""
             }
            },
            "type": "scatter3d"
           }
          ],
          "scattercarpet": [
           {
            "marker": {
             "colorbar": {
              "outlinewidth": 0,
              "ticks": ""
             }
            },
            "type": "scattercarpet"
           }
          ],
          "scattergeo": [
           {
            "marker": {
             "colorbar": {
              "outlinewidth": 0,
              "ticks": ""
             }
            },
            "type": "scattergeo"
           }
          ],
          "scattergl": [
           {
            "marker": {
             "colorbar": {
              "outlinewidth": 0,
              "ticks": ""
             }
            },
            "type": "scattergl"
           }
          ],
          "scattermapbox": [
           {
            "marker": {
             "colorbar": {
              "outlinewidth": 0,
              "ticks": ""
             }
            },
            "type": "scattermapbox"
           }
          ],
          "scatterpolar": [
           {
            "marker": {
             "colorbar": {
              "outlinewidth": 0,
              "ticks": ""
             }
            },
            "type": "scatterpolar"
           }
          ],
          "scatterpolargl": [
           {
            "marker": {
             "colorbar": {
              "outlinewidth": 0,
              "ticks": ""
             }
            },
            "type": "scatterpolargl"
           }
          ],
          "scatterternary": [
           {
            "marker": {
             "colorbar": {
              "outlinewidth": 0,
              "ticks": ""
             }
            },
            "type": "scatterternary"
           }
          ],
          "surface": [
           {
            "colorbar": {
             "outlinewidth": 0,
             "ticks": ""
            },
            "colorscale": [
             [
              0,
              "#0d0887"
             ],
             [
              0.1111111111111111,
              "#46039f"
             ],
             [
              0.2222222222222222,
              "#7201a8"
             ],
             [
              0.3333333333333333,
              "#9c179e"
             ],
             [
              0.4444444444444444,
              "#bd3786"
             ],
             [
              0.5555555555555556,
              "#d8576b"
             ],
             [
              0.6666666666666666,
              "#ed7953"
             ],
             [
              0.7777777777777778,
              "#fb9f3a"
             ],
             [
              0.8888888888888888,
              "#fdca26"
             ],
             [
              1,
              "#f0f921"
             ]
            ],
            "type": "surface"
           }
          ],
          "table": [
           {
            "cells": {
             "fill": {
              "color": "#EBF0F8"
             },
             "line": {
              "color": "white"
             }
            },
            "header": {
             "fill": {
              "color": "#C8D4E3"
             },
             "line": {
              "color": "white"
             }
            },
            "type": "table"
           }
          ]
         },
         "layout": {
          "annotationdefaults": {
           "arrowcolor": "#2a3f5f",
           "arrowhead": 0,
           "arrowwidth": 1
          },
          "autotypenumbers": "strict",
          "coloraxis": {
           "colorbar": {
            "outlinewidth": 0,
            "ticks": ""
           }
          },
          "colorscale": {
           "diverging": [
            [
             0,
             "#8e0152"
            ],
            [
             0.1,
             "#c51b7d"
            ],
            [
             0.2,
             "#de77ae"
            ],
            [
             0.3,
             "#f1b6da"
            ],
            [
             0.4,
             "#fde0ef"
            ],
            [
             0.5,
             "#f7f7f7"
            ],
            [
             0.6,
             "#e6f5d0"
            ],
            [
             0.7,
             "#b8e186"
            ],
            [
             0.8,
             "#7fbc41"
            ],
            [
             0.9,
             "#4d9221"
            ],
            [
             1,
             "#276419"
            ]
           ],
           "sequential": [
            [
             0,
             "#0d0887"
            ],
            [
             0.1111111111111111,
             "#46039f"
            ],
            [
             0.2222222222222222,
             "#7201a8"
            ],
            [
             0.3333333333333333,
             "#9c179e"
            ],
            [
             0.4444444444444444,
             "#bd3786"
            ],
            [
             0.5555555555555556,
             "#d8576b"
            ],
            [
             0.6666666666666666,
             "#ed7953"
            ],
            [
             0.7777777777777778,
             "#fb9f3a"
            ],
            [
             0.8888888888888888,
             "#fdca26"
            ],
            [
             1,
             "#f0f921"
            ]
           ],
           "sequentialminus": [
            [
             0,
             "#0d0887"
            ],
            [
             0.1111111111111111,
             "#46039f"
            ],
            [
             0.2222222222222222,
             "#7201a8"
            ],
            [
             0.3333333333333333,
             "#9c179e"
            ],
            [
             0.4444444444444444,
             "#bd3786"
            ],
            [
             0.5555555555555556,
             "#d8576b"
            ],
            [
             0.6666666666666666,
             "#ed7953"
            ],
            [
             0.7777777777777778,
             "#fb9f3a"
            ],
            [
             0.8888888888888888,
             "#fdca26"
            ],
            [
             1,
             "#f0f921"
            ]
           ]
          },
          "colorway": [
           "#636efa",
           "#EF553B",
           "#00cc96",
           "#ab63fa",
           "#FFA15A",
           "#19d3f3",
           "#FF6692",
           "#B6E880",
           "#FF97FF",
           "#FECB52"
          ],
          "font": {
           "color": "#2a3f5f"
          },
          "geo": {
           "bgcolor": "white",
           "lakecolor": "white",
           "landcolor": "#E5ECF6",
           "showlakes": true,
           "showland": true,
           "subunitcolor": "white"
          },
          "hoverlabel": {
           "align": "left"
          },
          "hovermode": "closest",
          "mapbox": {
           "style": "light"
          },
          "paper_bgcolor": "white",
          "plot_bgcolor": "#E5ECF6",
          "polar": {
           "angularaxis": {
            "gridcolor": "white",
            "linecolor": "white",
            "ticks": ""
           },
           "bgcolor": "#E5ECF6",
           "radialaxis": {
            "gridcolor": "white",
            "linecolor": "white",
            "ticks": ""
           }
          },
          "scene": {
           "xaxis": {
            "backgroundcolor": "#E5ECF6",
            "gridcolor": "white",
            "gridwidth": 2,
            "linecolor": "white",
            "showbackground": true,
            "ticks": "",
            "zerolinecolor": "white"
           },
           "yaxis": {
            "backgroundcolor": "#E5ECF6",
            "gridcolor": "white",
            "gridwidth": 2,
            "linecolor": "white",
            "showbackground": true,
            "ticks": "",
            "zerolinecolor": "white"
           },
           "zaxis": {
            "backgroundcolor": "#E5ECF6",
            "gridcolor": "white",
            "gridwidth": 2,
            "linecolor": "white",
            "showbackground": true,
            "ticks": "",
            "zerolinecolor": "white"
           }
          },
          "shapedefaults": {
           "line": {
            "color": "#2a3f5f"
           }
          },
          "ternary": {
           "aaxis": {
            "gridcolor": "white",
            "linecolor": "white",
            "ticks": ""
           },
           "baxis": {
            "gridcolor": "white",
            "linecolor": "white",
            "ticks": ""
           },
           "bgcolor": "#E5ECF6",
           "caxis": {
            "gridcolor": "white",
            "linecolor": "white",
            "ticks": ""
           }
          },
          "title": {
           "x": 0.05
          },
          "xaxis": {
           "automargin": true,
           "gridcolor": "white",
           "linecolor": "white",
           "ticks": "",
           "title": {
            "standoff": 15
           },
           "zerolinecolor": "white",
           "zerolinewidth": 2
          },
          "yaxis": {
           "automargin": true,
           "gridcolor": "white",
           "linecolor": "white",
           "ticks": "",
           "title": {
            "standoff": 15
           },
           "zerolinecolor": "white",
           "zerolinewidth": 2
          }
         }
        }
       }
      }
     },
     "metadata": {},
     "output_type": "display_data"
    }
   ],
   "source": [
    "x_range = np.linspace(4.8e-06, 5.6e-06, 75)\n",
    "y_SSE = []\n",
    "y_RMSE = []\n",
    "for i in x_range:\n",
    "    y_SSE.append(cost_SSE([7.56e-05, i]))\n",
    "    y_RMSE.append(cost_RMSE([7.56e-05, i]))\n",
    "\n",
    "fig = go.Figure()\n",
    "fig.add_trace(go.Scatter(x=x_range, y=y_SSE, mode=\"lines\", name=\"SSE\"))\n",
    "fig.add_trace(go.Scatter(x=x_range, y=y_RMSE, mode=\"lines\", name=\"RMSE\"))\n",
    "fig.show()"
   ]
  },
  {
   "cell_type": "markdown",
   "metadata": {},
   "source": [
    "In this situation, it's clear that gradient of the SSE cost is much higher than the RMSE. This can be helpful for certain optimisation algorithms, specifically towards improving convergence performance within a predefine number of iterations. However, with incorrect hyperparameter values this can also result in the algorithm not converging due to sampling locations outside of the \"cost valley\"."
   ]
  },
  {
   "cell_type": "markdown",
   "metadata": {},
   "source": [
    "### Minkowski Cost\n",
    "\n",
    "Next, we will investigate using the Minkowski cost function. This cost function provides a general formation of the above two cost functions, allowing for hyper parameter calibration on the cost function itself. The Minkowski cost takes the form,\n",
    "\n",
    "$\\mathcal{L} = \\displaystyle\\sum_{1}^N  (\\hat{y}-y)^p$\n",
    "\n",
    "For p = 1, this becomes L1Norm  \n",
    "For p = 2, this becomes L2Norm (SSE)\n",
    "\n",
    "PyBOP offers a Minkowski class, which we will construct below. This class has an optional argument of `p` which designates the order in the above equation. This value can be a float, with the only requirement that it is not negative. First, let's reconstruct the SSE function with a `p` value of 2."
   ]
  },
  {
   "cell_type": "code",
   "execution_count": 91,
   "metadata": {},
   "outputs": [],
   "source": [
    "cost_minkowski = pybop.Minkowski(problem, p=2)"
   ]
  },
  {
   "cell_type": "code",
   "execution_count": 92,
   "metadata": {},
   "outputs": [
    {
     "data": {
      "application/vnd.plotly.v1+json": {
       "config": {
        "plotlyServerURL": "https://plot.ly"
       },
       "data": [
        {
         "mode": "lines",
         "name": "SSE",
         "type": "scatter",
         "x": [
          0.0000048,
          0.00000481081081081081,
          0.0000048216216216216215,
          0.000004832432432432432,
          0.000004843243243243243,
          0.000004854054054054054,
          0.000004864864864864865,
          0.000004875675675675675,
          0.000004886486486486487,
          0.000004897297297297297,
          0.0000049081081081081075,
          0.000004918918918918919,
          0.000004929729729729729,
          0.0000049405405405405405,
          0.000004951351351351351,
          0.000004962162162162162,
          0.000004972972972972973,
          0.000004983783783783784,
          0.000004994594594594594,
          0.000005005405405405405,
          0.000005016216216216216,
          0.0000050270270270270265,
          0.000005037837837837838,
          0.000005048648648648648,
          0.0000050594594594594595,
          0.00000507027027027027,
          0.000005081081081081081,
          0.000005091891891891892,
          0.000005102702702702702,
          0.000005113513513513513,
          0.000005124324324324324,
          0.000005135135135135135,
          0.0000051459459459459455,
          0.000005156756756756757,
          0.000005167567567567567,
          0.0000051783783783783785,
          0.000005189189189189189,
          0.000005199999999999999,
          0.000005210810810810811,
          0.000005221621621621621,
          0.000005232432432432432,
          0.000005243243243243243,
          0.000005254054054054054,
          0.0000052648648648648645,
          0.000005275675675675676,
          0.000005286486486486486,
          0.000005297297297297297,
          0.000005308108108108108,
          0.000005318918918918918,
          0.00000532972972972973,
          0.00000534054054054054,
          0.000005351351351351351,
          0.000005362162162162162,
          0.000005372972972972973,
          0.0000053837837837837835,
          0.000005394594594594594,
          0.000005405405405405405,
          0.000005416216216216216,
          0.000005427027027027027,
          0.000005437837837837837,
          0.000005448648648648649,
          0.000005459459459459459,
          0.00000547027027027027,
          0.000005481081081081081,
          0.000005491891891891891,
          0.0000055027027027027025,
          0.000005513513513513513,
          0.000005524324324324324,
          0.000005535135135135135,
          0.000005545945945945946,
          0.000005556756756756756,
          0.000005567567567567568,
          0.000005578378378378378,
          0.0000055891891891891885,
          0.0000056
         ],
         "y": [
          0.053835830058639615,
          0.05111067206222717,
          0.04845554165878352,
          0.04587051804433099,
          0.043355678096208675,
          0.04091109644413583,
          0.038536845477359936,
          0.03623299543973158,
          0.03399961440367254,
          0.031836768282340513,
          0.02974452094548145,
          0.02772293424615578,
          0.02577274436881736,
          0.02389263231281454,
          0.022083354370052568,
          0.020344964563815224,
          0.018677515064371243,
          0.01708105629952934,
          0.015555636789546832,
          0.014101303317362665,
          0.012718100980349315,
          0.011406073186761897,
          0.010165261722848786,
          0.00899570675469101,
          0.007897446886200334,
          0.00687051919031046,
          0.005914959195754908,
          0.005030800981722024,
          0.004218077198061601,
          0.003476819103455494,
          0.002807056595014089,
          0.002210166875264619,
          0.001683316235636507,
          0.0012280406319022843,
          0.0008443648780650153,
          0.0005323126127996372,
          0.00029190631272314684,
          0.00012316735767345152,
          0.00002611605104018711,
          7.716524040349468e-7,
          0.000047152387593465094,
          0.00016527552304902867,
          0.00035515740004700826,
          0.000616813450391432,
          0.0009502582309038722,
          0.0013555054549569752,
          0.0018325680271045303,
          0.0023814580649710623,
          0.0030021869333247487,
          0.003694765325842557,
          0.004459203215392723,
          0.005295511891398787,
          0.006203696238833047,
          0.007183766159368478,
          0.008235729239251834,
          0.009359592477131223,
          0.01055536229286567,
          0.011823044842784848,
          0.01316264573471436,
          0.014574170163856032,
          0.016057622954143685,
          0.017613008498385842,
          0.01924033104259407,
          0.020939594432015526,
          0.022710802251721743,
          0.024553957861849968,
          0.026469064398176645,
          0.028456124854723906,
          0.030515142072100664,
          0.03264611873917076,
          0.03484905751204218,
          0.03712396095868825,
          0.039470831615045304,
          0.041889672012050114,
          0.04438742821038762
         ]
        },
        {
         "mode": "lines",
         "name": "Minkowski",
         "type": "scatter",
         "x": [
          0.0000048,
          0.00000481081081081081,
          0.0000048216216216216215,
          0.000004832432432432432,
          0.000004843243243243243,
          0.000004854054054054054,
          0.000004864864864864865,
          0.000004875675675675675,
          0.000004886486486486487,
          0.000004897297297297297,
          0.0000049081081081081075,
          0.000004918918918918919,
          0.000004929729729729729,
          0.0000049405405405405405,
          0.000004951351351351351,
          0.000004962162162162162,
          0.000004972972972972973,
          0.000004983783783783784,
          0.000004994594594594594,
          0.000005005405405405405,
          0.000005016216216216216,
          0.0000050270270270270265,
          0.000005037837837837838,
          0.000005048648648648648,
          0.0000050594594594594595,
          0.00000507027027027027,
          0.000005081081081081081,
          0.000005091891891891892,
          0.000005102702702702702,
          0.000005113513513513513,
          0.000005124324324324324,
          0.000005135135135135135,
          0.0000051459459459459455,
          0.000005156756756756757,
          0.000005167567567567567,
          0.0000051783783783783785,
          0.000005189189189189189,
          0.000005199999999999999,
          0.000005210810810810811,
          0.000005221621621621621,
          0.000005232432432432432,
          0.000005243243243243243,
          0.000005254054054054054,
          0.0000052648648648648645,
          0.000005275675675675676,
          0.000005286486486486486,
          0.000005297297297297297,
          0.000005308108108108108,
          0.000005318918918918918,
          0.00000532972972972973,
          0.00000534054054054054,
          0.000005351351351351351,
          0.000005362162162162162,
          0.000005372972972972973,
          0.0000053837837837837835,
          0.000005394594594594594,
          0.000005405405405405405,
          0.000005416216216216216,
          0.000005427027027027027,
          0.000005437837837837837,
          0.000005448648648648649,
          0.000005459459459459459,
          0.00000547027027027027,
          0.000005481081081081081,
          0.000005491891891891891,
          0.0000055027027027027025,
          0.000005513513513513513,
          0.000005524324324324324,
          0.000005535135135135135,
          0.000005545945945945946,
          0.000005556756756756756,
          0.000005567567567567568,
          0.000005578378378378378,
          0.0000055891891891891885,
          0.0000056
         ],
         "y": [
          0.053835830058639615,
          0.05111067206222717,
          0.04845554165878352,
          0.04587051804433099,
          0.043355678096208675,
          0.04091109644413583,
          0.038536845477359936,
          0.03623299543973158,
          0.03399961440367254,
          0.031836768282340513,
          0.02974452094548145,
          0.02772293424615578,
          0.02577274436881736,
          0.02389263231281454,
          0.022083354370052568,
          0.020344964563815224,
          0.018677515064371243,
          0.01708105629952934,
          0.015555636789546832,
          0.014101303317362665,
          0.012718100980349315,
          0.011406073186761897,
          0.010165261722848786,
          0.00899570675469101,
          0.007897446886200334,
          0.00687051919031046,
          0.005914959195754908,
          0.005030800981722024,
          0.004218077198061601,
          0.003476819103455494,
          0.002807056595014089,
          0.002210166875264619,
          0.001683316235636507,
          0.0012280406319022843,
          0.0008443648780650153,
          0.0005323126127996372,
          0.00029190631272314684,
          0.00012316735767345152,
          0.00002611605104018711,
          7.716524040349468e-7,
          0.000047152387593465094,
          0.00016527552304902867,
          0.00035515740004700826,
          0.000616813450391432,
          0.0009502582309038722,
          0.0013555054549569752,
          0.0018325680271045303,
          0.0023814580649710623,
          0.0030021869333247487,
          0.003694765325842557,
          0.004459203215392723,
          0.005295511891398787,
          0.006203696238833047,
          0.007183766159368478,
          0.008235729239251834,
          0.009359592477131223,
          0.01055536229286567,
          0.011823044842784848,
          0.01316264573471436,
          0.014574170163856032,
          0.016057622954143685,
          0.017613008498385842,
          0.01924033104259407,
          0.020939594432015526,
          0.022710802251721743,
          0.024553957861849968,
          0.026469064398176645,
          0.028456124854723906,
          0.030515142072100664,
          0.03264611873917076,
          0.03484905751204218,
          0.03712396095868825,
          0.039470831615045304,
          0.041889672012050114,
          0.04438742821038762
         ]
        }
       ],
       "layout": {
        "template": {
         "data": {
          "bar": [
           {
            "error_x": {
             "color": "#2a3f5f"
            },
            "error_y": {
             "color": "#2a3f5f"
            },
            "marker": {
             "line": {
              "color": "#E5ECF6",
              "width": 0.5
             },
             "pattern": {
              "fillmode": "overlay",
              "size": 10,
              "solidity": 0.2
             }
            },
            "type": "bar"
           }
          ],
          "barpolar": [
           {
            "marker": {
             "line": {
              "color": "#E5ECF6",
              "width": 0.5
             },
             "pattern": {
              "fillmode": "overlay",
              "size": 10,
              "solidity": 0.2
             }
            },
            "type": "barpolar"
           }
          ],
          "carpet": [
           {
            "aaxis": {
             "endlinecolor": "#2a3f5f",
             "gridcolor": "white",
             "linecolor": "white",
             "minorgridcolor": "white",
             "startlinecolor": "#2a3f5f"
            },
            "baxis": {
             "endlinecolor": "#2a3f5f",
             "gridcolor": "white",
             "linecolor": "white",
             "minorgridcolor": "white",
             "startlinecolor": "#2a3f5f"
            },
            "type": "carpet"
           }
          ],
          "choropleth": [
           {
            "colorbar": {
             "outlinewidth": 0,
             "ticks": ""
            },
            "type": "choropleth"
           }
          ],
          "contour": [
           {
            "colorbar": {
             "outlinewidth": 0,
             "ticks": ""
            },
            "colorscale": [
             [
              0,
              "#0d0887"
             ],
             [
              0.1111111111111111,
              "#46039f"
             ],
             [
              0.2222222222222222,
              "#7201a8"
             ],
             [
              0.3333333333333333,
              "#9c179e"
             ],
             [
              0.4444444444444444,
              "#bd3786"
             ],
             [
              0.5555555555555556,
              "#d8576b"
             ],
             [
              0.6666666666666666,
              "#ed7953"
             ],
             [
              0.7777777777777778,
              "#fb9f3a"
             ],
             [
              0.8888888888888888,
              "#fdca26"
             ],
             [
              1,
              "#f0f921"
             ]
            ],
            "type": "contour"
           }
          ],
          "contourcarpet": [
           {
            "colorbar": {
             "outlinewidth": 0,
             "ticks": ""
            },
            "type": "contourcarpet"
           }
          ],
          "heatmap": [
           {
            "colorbar": {
             "outlinewidth": 0,
             "ticks": ""
            },
            "colorscale": [
             [
              0,
              "#0d0887"
             ],
             [
              0.1111111111111111,
              "#46039f"
             ],
             [
              0.2222222222222222,
              "#7201a8"
             ],
             [
              0.3333333333333333,
              "#9c179e"
             ],
             [
              0.4444444444444444,
              "#bd3786"
             ],
             [
              0.5555555555555556,
              "#d8576b"
             ],
             [
              0.6666666666666666,
              "#ed7953"
             ],
             [
              0.7777777777777778,
              "#fb9f3a"
             ],
             [
              0.8888888888888888,
              "#fdca26"
             ],
             [
              1,
              "#f0f921"
             ]
            ],
            "type": "heatmap"
           }
          ],
          "heatmapgl": [
           {
            "colorbar": {
             "outlinewidth": 0,
             "ticks": ""
            },
            "colorscale": [
             [
              0,
              "#0d0887"
             ],
             [
              0.1111111111111111,
              "#46039f"
             ],
             [
              0.2222222222222222,
              "#7201a8"
             ],
             [
              0.3333333333333333,
              "#9c179e"
             ],
             [
              0.4444444444444444,
              "#bd3786"
             ],
             [
              0.5555555555555556,
              "#d8576b"
             ],
             [
              0.6666666666666666,
              "#ed7953"
             ],
             [
              0.7777777777777778,
              "#fb9f3a"
             ],
             [
              0.8888888888888888,
              "#fdca26"
             ],
             [
              1,
              "#f0f921"
             ]
            ],
            "type": "heatmapgl"
           }
          ],
          "histogram": [
           {
            "marker": {
             "pattern": {
              "fillmode": "overlay",
              "size": 10,
              "solidity": 0.2
             }
            },
            "type": "histogram"
           }
          ],
          "histogram2d": [
           {
            "colorbar": {
             "outlinewidth": 0,
             "ticks": ""
            },
            "colorscale": [
             [
              0,
              "#0d0887"
             ],
             [
              0.1111111111111111,
              "#46039f"
             ],
             [
              0.2222222222222222,
              "#7201a8"
             ],
             [
              0.3333333333333333,
              "#9c179e"
             ],
             [
              0.4444444444444444,
              "#bd3786"
             ],
             [
              0.5555555555555556,
              "#d8576b"
             ],
             [
              0.6666666666666666,
              "#ed7953"
             ],
             [
              0.7777777777777778,
              "#fb9f3a"
             ],
             [
              0.8888888888888888,
              "#fdca26"
             ],
             [
              1,
              "#f0f921"
             ]
            ],
            "type": "histogram2d"
           }
          ],
          "histogram2dcontour": [
           {
            "colorbar": {
             "outlinewidth": 0,
             "ticks": ""
            },
            "colorscale": [
             [
              0,
              "#0d0887"
             ],
             [
              0.1111111111111111,
              "#46039f"
             ],
             [
              0.2222222222222222,
              "#7201a8"
             ],
             [
              0.3333333333333333,
              "#9c179e"
             ],
             [
              0.4444444444444444,
              "#bd3786"
             ],
             [
              0.5555555555555556,
              "#d8576b"
             ],
             [
              0.6666666666666666,
              "#ed7953"
             ],
             [
              0.7777777777777778,
              "#fb9f3a"
             ],
             [
              0.8888888888888888,
              "#fdca26"
             ],
             [
              1,
              "#f0f921"
             ]
            ],
            "type": "histogram2dcontour"
           }
          ],
          "mesh3d": [
           {
            "colorbar": {
             "outlinewidth": 0,
             "ticks": ""
            },
            "type": "mesh3d"
           }
          ],
          "parcoords": [
           {
            "line": {
             "colorbar": {
              "outlinewidth": 0,
              "ticks": ""
             }
            },
            "type": "parcoords"
           }
          ],
          "pie": [
           {
            "automargin": true,
            "type": "pie"
           }
          ],
          "scatter": [
           {
            "fillpattern": {
             "fillmode": "overlay",
             "size": 10,
             "solidity": 0.2
            },
            "type": "scatter"
           }
          ],
          "scatter3d": [
           {
            "line": {
             "colorbar": {
              "outlinewidth": 0,
              "ticks": ""
             }
            },
            "marker": {
             "colorbar": {
              "outlinewidth": 0,
              "ticks": ""
             }
            },
            "type": "scatter3d"
           }
          ],
          "scattercarpet": [
           {
            "marker": {
             "colorbar": {
              "outlinewidth": 0,
              "ticks": ""
             }
            },
            "type": "scattercarpet"
           }
          ],
          "scattergeo": [
           {
            "marker": {
             "colorbar": {
              "outlinewidth": 0,
              "ticks": ""
             }
            },
            "type": "scattergeo"
           }
          ],
          "scattergl": [
           {
            "marker": {
             "colorbar": {
              "outlinewidth": 0,
              "ticks": ""
             }
            },
            "type": "scattergl"
           }
          ],
          "scattermapbox": [
           {
            "marker": {
             "colorbar": {
              "outlinewidth": 0,
              "ticks": ""
             }
            },
            "type": "scattermapbox"
           }
          ],
          "scatterpolar": [
           {
            "marker": {
             "colorbar": {
              "outlinewidth": 0,
              "ticks": ""
             }
            },
            "type": "scatterpolar"
           }
          ],
          "scatterpolargl": [
           {
            "marker": {
             "colorbar": {
              "outlinewidth": 0,
              "ticks": ""
             }
            },
            "type": "scatterpolargl"
           }
          ],
          "scatterternary": [
           {
            "marker": {
             "colorbar": {
              "outlinewidth": 0,
              "ticks": ""
             }
            },
            "type": "scatterternary"
           }
          ],
          "surface": [
           {
            "colorbar": {
             "outlinewidth": 0,
             "ticks": ""
            },
            "colorscale": [
             [
              0,
              "#0d0887"
             ],
             [
              0.1111111111111111,
              "#46039f"
             ],
             [
              0.2222222222222222,
              "#7201a8"
             ],
             [
              0.3333333333333333,
              "#9c179e"
             ],
             [
              0.4444444444444444,
              "#bd3786"
             ],
             [
              0.5555555555555556,
              "#d8576b"
             ],
             [
              0.6666666666666666,
              "#ed7953"
             ],
             [
              0.7777777777777778,
              "#fb9f3a"
             ],
             [
              0.8888888888888888,
              "#fdca26"
             ],
             [
              1,
              "#f0f921"
             ]
            ],
            "type": "surface"
           }
          ],
          "table": [
           {
            "cells": {
             "fill": {
              "color": "#EBF0F8"
             },
             "line": {
              "color": "white"
             }
            },
            "header": {
             "fill": {
              "color": "#C8D4E3"
             },
             "line": {
              "color": "white"
             }
            },
            "type": "table"
           }
          ]
         },
         "layout": {
          "annotationdefaults": {
           "arrowcolor": "#2a3f5f",
           "arrowhead": 0,
           "arrowwidth": 1
          },
          "autotypenumbers": "strict",
          "coloraxis": {
           "colorbar": {
            "outlinewidth": 0,
            "ticks": ""
           }
          },
          "colorscale": {
           "diverging": [
            [
             0,
             "#8e0152"
            ],
            [
             0.1,
             "#c51b7d"
            ],
            [
             0.2,
             "#de77ae"
            ],
            [
             0.3,
             "#f1b6da"
            ],
            [
             0.4,
             "#fde0ef"
            ],
            [
             0.5,
             "#f7f7f7"
            ],
            [
             0.6,
             "#e6f5d0"
            ],
            [
             0.7,
             "#b8e186"
            ],
            [
             0.8,
             "#7fbc41"
            ],
            [
             0.9,
             "#4d9221"
            ],
            [
             1,
             "#276419"
            ]
           ],
           "sequential": [
            [
             0,
             "#0d0887"
            ],
            [
             0.1111111111111111,
             "#46039f"
            ],
            [
             0.2222222222222222,
             "#7201a8"
            ],
            [
             0.3333333333333333,
             "#9c179e"
            ],
            [
             0.4444444444444444,
             "#bd3786"
            ],
            [
             0.5555555555555556,
             "#d8576b"
            ],
            [
             0.6666666666666666,
             "#ed7953"
            ],
            [
             0.7777777777777778,
             "#fb9f3a"
            ],
            [
             0.8888888888888888,
             "#fdca26"
            ],
            [
             1,
             "#f0f921"
            ]
           ],
           "sequentialminus": [
            [
             0,
             "#0d0887"
            ],
            [
             0.1111111111111111,
             "#46039f"
            ],
            [
             0.2222222222222222,
             "#7201a8"
            ],
            [
             0.3333333333333333,
             "#9c179e"
            ],
            [
             0.4444444444444444,
             "#bd3786"
            ],
            [
             0.5555555555555556,
             "#d8576b"
            ],
            [
             0.6666666666666666,
             "#ed7953"
            ],
            [
             0.7777777777777778,
             "#fb9f3a"
            ],
            [
             0.8888888888888888,
             "#fdca26"
            ],
            [
             1,
             "#f0f921"
            ]
           ]
          },
          "colorway": [
           "#636efa",
           "#EF553B",
           "#00cc96",
           "#ab63fa",
           "#FFA15A",
           "#19d3f3",
           "#FF6692",
           "#B6E880",
           "#FF97FF",
           "#FECB52"
          ],
          "font": {
           "color": "#2a3f5f"
          },
          "geo": {
           "bgcolor": "white",
           "lakecolor": "white",
           "landcolor": "#E5ECF6",
           "showlakes": true,
           "showland": true,
           "subunitcolor": "white"
          },
          "hoverlabel": {
           "align": "left"
          },
          "hovermode": "closest",
          "mapbox": {
           "style": "light"
          },
          "paper_bgcolor": "white",
          "plot_bgcolor": "#E5ECF6",
          "polar": {
           "angularaxis": {
            "gridcolor": "white",
            "linecolor": "white",
            "ticks": ""
           },
           "bgcolor": "#E5ECF6",
           "radialaxis": {
            "gridcolor": "white",
            "linecolor": "white",
            "ticks": ""
           }
          },
          "scene": {
           "xaxis": {
            "backgroundcolor": "#E5ECF6",
            "gridcolor": "white",
            "gridwidth": 2,
            "linecolor": "white",
            "showbackground": true,
            "ticks": "",
            "zerolinecolor": "white"
           },
           "yaxis": {
            "backgroundcolor": "#E5ECF6",
            "gridcolor": "white",
            "gridwidth": 2,
            "linecolor": "white",
            "showbackground": true,
            "ticks": "",
            "zerolinecolor": "white"
           },
           "zaxis": {
            "backgroundcolor": "#E5ECF6",
            "gridcolor": "white",
            "gridwidth": 2,
            "linecolor": "white",
            "showbackground": true,
            "ticks": "",
            "zerolinecolor": "white"
           }
          },
          "shapedefaults": {
           "line": {
            "color": "#2a3f5f"
           }
          },
          "ternary": {
           "aaxis": {
            "gridcolor": "white",
            "linecolor": "white",
            "ticks": ""
           },
           "baxis": {
            "gridcolor": "white",
            "linecolor": "white",
            "ticks": ""
           },
           "bgcolor": "#E5ECF6",
           "caxis": {
            "gridcolor": "white",
            "linecolor": "white",
            "ticks": ""
           }
          },
          "title": {
           "x": 0.05
          },
          "xaxis": {
           "automargin": true,
           "gridcolor": "white",
           "linecolor": "white",
           "ticks": "",
           "title": {
            "standoff": 15
           },
           "zerolinecolor": "white",
           "zerolinewidth": 2
          },
          "yaxis": {
           "automargin": true,
           "gridcolor": "white",
           "linecolor": "white",
           "ticks": "",
           "title": {
            "standoff": 15
           },
           "zerolinecolor": "white",
           "zerolinewidth": 2
          }
         }
        }
       }
      }
     },
     "metadata": {},
     "output_type": "display_data"
    }
   ],
   "source": [
    "y_minkowski = []\n",
    "for i in x_range:\n",
    "    y_minkowski.append(cost_minkowski([7.56e-05, i]))\n",
    "\n",
    "fig = go.Figure()\n",
    "fig.add_trace(go.Scatter(x=x_range, y=y_SSE, mode=\"lines\", name=\"SSE\"))\n",
    "fig.add_trace(go.Scatter(x=x_range, y=y_minkowski, mode=\"lines\", name=\"Minkowski\"))\n",
    "fig.show()"
   ]
  },
  {
   "cell_type": "markdown",
   "metadata": {},
   "source": [
    "As expected, these cost functions are equivalent. Now, let take a look at how the Minkowski cost changes for different orders of `p`."
   ]
  },
  {
   "cell_type": "code",
   "execution_count": 93,
   "metadata": {},
   "outputs": [],
   "source": [
    "y_minkowski = ()\n",
    "p_orders = np.append(np.linspace(1, 3, 5), 0.75)\n",
    "for j in p_orders:\n",
    "    minkowski_order = []\n",
    "    cost = pybop.Minkowski(problem, p=j)\n",
    "    for i in x_range:\n",
    "        minkowski_order.append(cost([7.56e-05, i]))\n",
    "    y_minkowski += (minkowski_order,)"
   ]
  },
  {
   "cell_type": "code",
   "execution_count": 94,
   "metadata": {},
   "outputs": [
    {
     "data": {
      "application/vnd.plotly.v1+json": {
       "config": {
        "plotlyServerURL": "https://plot.ly"
       },
       "data": [
        {
         "mode": "lines",
         "name": "Minkowski 1.0",
         "type": "scatter",
         "x": [
          0.0000048,
          0.00000481081081081081,
          0.0000048216216216216215,
          0.000004832432432432432,
          0.000004843243243243243,
          0.000004854054054054054,
          0.000004864864864864865,
          0.000004875675675675675,
          0.000004886486486486487,
          0.000004897297297297297,
          0.0000049081081081081075,
          0.000004918918918918919,
          0.000004929729729729729,
          0.0000049405405405405405,
          0.000004951351351351351,
          0.000004962162162162162,
          0.000004972972972972973,
          0.000004983783783783784,
          0.000004994594594594594,
          0.000005005405405405405,
          0.000005016216216216216,
          0.0000050270270270270265,
          0.000005037837837837838,
          0.000005048648648648648,
          0.0000050594594594594595,
          0.00000507027027027027,
          0.000005081081081081081,
          0.000005091891891891892,
          0.000005102702702702702,
          0.000005113513513513513,
          0.000005124324324324324,
          0.000005135135135135135,
          0.0000051459459459459455,
          0.000005156756756756757,
          0.000005167567567567567,
          0.0000051783783783783785,
          0.000005189189189189189,
          0.000005199999999999999,
          0.000005210810810810811,
          0.000005221621621621621,
          0.000005232432432432432,
          0.000005243243243243243,
          0.000005254054054054054,
          0.0000052648648648648645,
          0.000005275675675675676,
          0.000005286486486486486,
          0.000005297297297297297,
          0.000005308108108108108,
          0.000005318918918918918,
          0.00000532972972972973,
          0.00000534054054054054,
          0.000005351351351351351,
          0.000005362162162162162,
          0.000005372972972972973,
          0.0000053837837837837835,
          0.000005394594594594594,
          0.000005405405405405405,
          0.000005416216216216216,
          0.000005427027027027027,
          0.000005437837837837837,
          0.000005448648648648649,
          0.000005459459459459459,
          0.00000547027027027027,
          0.000005481081081081081,
          0.000005491891891891891,
          0.0000055027027027027025,
          0.000005513513513513513,
          0.000005524324324324324,
          0.000005535135135135135,
          0.000005545945945945946,
          0.000005556756756756756,
          0.000005567567567567568,
          0.000005578378378378378,
          0.0000055891891891891885,
          0.0000056
         ],
         "y": [
          4.552656766704644,
          4.436202925117051,
          4.3197021313635515,
          4.203155156607345,
          4.086562761333203,
          3.969925696234225,
          3.8532447005548,
          3.736520507607969,
          3.619753838775067,
          3.502945403357782,
          3.3860959024243926,
          3.2692060285657063,
          3.152315105913478,
          3.03534657334722,
          2.9183396802589217,
          2.801295078350584,
          2.684213409805027,
          2.567095312655548,
          2.4499414075372727,
          2.3327523058899207,
          2.215528611512171,
          2.098270915375601,
          1.9809798054224617,
          1.8636558566894776,
          1.746299635055733,
          1.628911698808471,
          1.511492592197115,
          1.3940428516001764,
          1.276563003640566,
          1.1590535660401926,
          1.0415150470108951,
          0.9241984469792855,
          0.8066051058958523,
          0.6889841418336626,
          0.5713360225482647,
          0.4536612084843443,
          0.3359601445828524,
          0.21823327001441095,
          0.10048101551366571,
          0.017296186570773475,
          0.135097921585269,
          0.2529237996046896,
          0.3707734312884394,
          0.4886464319121595,
          0.6065424260637728,
          0.7244610470396249,
          0.8424019374031357,
          0.9603647467458134,
          1.0783491329691324,
          1.19635477070232,
          1.3143813351847973,
          1.4324287524120316,
          1.550496227549572,
          1.6685837041158282,
          1.7866908973881013,
          1.9048175251070956,
          2.0229633061020045,
          2.1411279864650505,
          2.2593113100697884,
          2.3775130288520545,
          2.4957329036803886,
          2.613970698878771,
          2.7322261979812748,
          2.8504991844034917,
          2.9687894504882872,
          3.087096797214695,
          3.2054210324010484,
          3.3237619739633995,
          3.442119447297814,
          3.56049328402628,
          3.678883326505933,
          3.7972894235888703,
          3.9157114320354554,
          4.0341492162964325,
          4.152895980262809
         ]
        },
        {
         "mode": "lines",
         "name": "Minkowski 1.5",
         "type": "scatter",
         "x": [
          0.0000048,
          0.00000481081081081081,
          0.0000048216216216216215,
          0.000004832432432432432,
          0.000004843243243243243,
          0.000004854054054054054,
          0.000004864864864864865,
          0.000004875675675675675,
          0.000004886486486486487,
          0.000004897297297297297,
          0.0000049081081081081075,
          0.000004918918918918919,
          0.000004929729729729729,
          0.0000049405405405405405,
          0.000004951351351351351,
          0.000004962162162162162,
          0.000004972972972972973,
          0.000004983783783783784,
          0.000004994594594594594,
          0.000005005405405405405,
          0.000005016216216216216,
          0.0000050270270270270265,
          0.000005037837837837838,
          0.000005048648648648648,
          0.0000050594594594594595,
          0.00000507027027027027,
          0.000005081081081081081,
          0.000005091891891891892,
          0.000005102702702702702,
          0.000005113513513513513,
          0.000005124324324324324,
          0.000005135135135135135,
          0.0000051459459459459455,
          0.000005156756756756757,
          0.000005167567567567567,
          0.0000051783783783783785,
          0.000005189189189189189,
          0.000005199999999999999,
          0.000005210810810810811,
          0.000005221621621621621,
          0.000005232432432432432,
          0.000005243243243243243,
          0.000005254054054054054,
          0.0000052648648648648645,
          0.000005275675675675676,
          0.000005286486486486486,
          0.000005297297297297297,
          0.000005308108108108108,
          0.000005318918918918918,
          0.00000532972972972973,
          0.00000534054054054054,
          0.000005351351351351351,
          0.000005362162162162162,
          0.000005372972972972973,
          0.0000053837837837837835,
          0.000005394594594594594,
          0.000005405405405405405,
          0.000005416216216216216,
          0.000005427027027027027,
          0.000005437837837837837,
          0.000005448648648648649,
          0.000005459459459459459,
          0.00000547027027027027,
          0.000005481081081081081,
          0.000005491891891891891,
          0.0000055027027027027025,
          0.000005513513513513513,
          0.000005524324324324324,
          0.000005535135135135135,
          0.000005545945945945946,
          0.000005556756756756756,
          0.000005567567567567568,
          0.000005578378378378378,
          0.0000055891891891891885,
          0.0000056
         ],
         "y": [
          0.4898109531501431,
          0.4711163397275865,
          0.45265948491854513,
          0.43444404722086893,
          0.4164738187122092,
          0.3987527352296719,
          0.3812848871293262,
          0.36407453205727613,
          0.34712610776420716,
          0.33044424698020214,
          0.3140337947271509,
          0.29789982699749845,
          0.28205309391276184,
          0.2664882597848408,
          0.25121674427648943,
          0.2362447863684241,
          0.22157899356130947,
          0.20722638305226135,
          0.19319442692445904,
          0.17949110797000248,
          0.1661249841016531,
          0.15310526393728813,
          0.1404418981327189,
          0.1281456881391741,
          0.1162284196891101,
          0.1047030269938625,
          0.09358379719055644,
          0.08288663103488439,
          0.07262937839742101,
          0.06283228046628397,
          0.05351856620452157,
          0.04473477504117415,
          0.03647281441377362,
          0.028792057135636567,
          0.021740939035673496,
          0.015382332300756214,
          0.009802659840611192,
          0.005132054317706342,
          0.0016035400319770717,
          0.0001143556885559469,
          0.0024985227036004886,
          0.006400451926923809,
          0.01136008053208959,
          0.017186853071309068,
          0.023767253976017148,
          0.03102353718811392,
          0.03889810774601821,
          0.04734606726107551,
          0.05633113355395888,
          0.06582319171032898,
          0.0757967203622376,
          0.08622975311116587,
          0.09710303931895804,
          0.10839963798281269,
          0.12010442290147164,
          0.13220379410484237,
          0.14468543663157718,
          0.15753813249704368,
          0.17075160406530038,
          0.18431639028061755,
          0.19822374395088735,
          0.21246554546396193,
          0.22703423311474744,
          0.2419227398218076,
          0.2571244423309797,
          0.2726331166884073,
          0.28844289950343405,
          0.3045482549241785,
          0.3209439450398661,
          0.337625003990658,
          0.3545867159714857,
          0.37182459450599725,
          0.38933436477854594,
          0.4071119476497462,
          0.42520131159528496
         ]
        },
        {
         "mode": "lines",
         "name": "Minkowski 2.0",
         "type": "scatter",
         "x": [
          0.0000048,
          0.00000481081081081081,
          0.0000048216216216216215,
          0.000004832432432432432,
          0.000004843243243243243,
          0.000004854054054054054,
          0.000004864864864864865,
          0.000004875675675675675,
          0.000004886486486486487,
          0.000004897297297297297,
          0.0000049081081081081075,
          0.000004918918918918919,
          0.000004929729729729729,
          0.0000049405405405405405,
          0.000004951351351351351,
          0.000004962162162162162,
          0.000004972972972972973,
          0.000004983783783783784,
          0.000004994594594594594,
          0.000005005405405405405,
          0.000005016216216216216,
          0.0000050270270270270265,
          0.000005037837837837838,
          0.000005048648648648648,
          0.0000050594594594594595,
          0.00000507027027027027,
          0.000005081081081081081,
          0.000005091891891891892,
          0.000005102702702702702,
          0.000005113513513513513,
          0.000005124324324324324,
          0.000005135135135135135,
          0.0000051459459459459455,
          0.000005156756756756757,
          0.000005167567567567567,
          0.0000051783783783783785,
          0.000005189189189189189,
          0.000005199999999999999,
          0.000005210810810810811,
          0.000005221621621621621,
          0.000005232432432432432,
          0.000005243243243243243,
          0.000005254054054054054,
          0.0000052648648648648645,
          0.000005275675675675676,
          0.000005286486486486486,
          0.000005297297297297297,
          0.000005308108108108108,
          0.000005318918918918918,
          0.00000532972972972973,
          0.00000534054054054054,
          0.000005351351351351351,
          0.000005362162162162162,
          0.000005372972972972973,
          0.0000053837837837837835,
          0.000005394594594594594,
          0.000005405405405405405,
          0.000005416216216216216,
          0.000005427027027027027,
          0.000005437837837837837,
          0.000005448648648648649,
          0.000005459459459459459,
          0.00000547027027027027,
          0.000005481081081081081,
          0.000005491891891891891,
          0.0000055027027027027025,
          0.000005513513513513513,
          0.000005524324324324324,
          0.000005535135135135135,
          0.000005545945945945946,
          0.000005556756756756756,
          0.000005567567567567568,
          0.000005578378378378378,
          0.0000055891891891891885,
          0.0000056
         ],
         "y": [
          0.053835830058639615,
          0.05111067206222717,
          0.04845554165878352,
          0.04587051804433099,
          0.043355678096208675,
          0.04091109644413583,
          0.038536845477359936,
          0.03623299543973158,
          0.03399961440367254,
          0.031836768282340513,
          0.02974452094548145,
          0.02772293424615578,
          0.02577274436881736,
          0.02389263231281454,
          0.022083354370052568,
          0.020344964563815224,
          0.018677515064371243,
          0.01708105629952934,
          0.015555636789546832,
          0.014101303317362665,
          0.012718100980349315,
          0.011406073186761897,
          0.010165261722848786,
          0.00899570675469101,
          0.007897446886200334,
          0.00687051919031046,
          0.005914959195754908,
          0.005030800981722024,
          0.004218077198061601,
          0.003476819103455494,
          0.002807056595014089,
          0.002210166875264619,
          0.001683316235636507,
          0.0012280406319022843,
          0.0008443648780650153,
          0.0005323126127996372,
          0.00029190631272314684,
          0.00012316735767345152,
          0.00002611605104018711,
          7.716524040349468e-7,
          0.000047152387593465094,
          0.00016527552304902867,
          0.00035515740004700826,
          0.000616813450391432,
          0.0009502582309038722,
          0.0013555054549569752,
          0.0018325680271045303,
          0.0023814580649710623,
          0.0030021869333247487,
          0.003694765325842557,
          0.004459203215392723,
          0.005295511891398787,
          0.006203696238833047,
          0.007183766159368478,
          0.008235729239251834,
          0.009359592477131223,
          0.01055536229286567,
          0.011823044842784848,
          0.01316264573471436,
          0.014574170163856032,
          0.016057622954143685,
          0.017613008498385842,
          0.01924033104259407,
          0.020939594432015526,
          0.022710802251721743,
          0.024553957861849968,
          0.026469064398176645,
          0.028456124854723906,
          0.030515142072100664,
          0.03264611873917076,
          0.03484905751204218,
          0.03712396095868825,
          0.039470831615045304,
          0.041889672012050114,
          0.04438742821038762
         ]
        },
        {
         "mode": "lines",
         "name": "Minkowski 2.5",
         "type": "scatter",
         "x": [
          0.0000048,
          0.00000481081081081081,
          0.0000048216216216216215,
          0.000004832432432432432,
          0.000004843243243243243,
          0.000004854054054054054,
          0.000004864864864864865,
          0.000004875675675675675,
          0.000004886486486486487,
          0.000004897297297297297,
          0.0000049081081081081075,
          0.000004918918918918919,
          0.000004929729729729729,
          0.0000049405405405405405,
          0.000004951351351351351,
          0.000004962162162162162,
          0.000004972972972972973,
          0.000004983783783783784,
          0.000004994594594594594,
          0.000005005405405405405,
          0.000005016216216216216,
          0.0000050270270270270265,
          0.000005037837837837838,
          0.000005048648648648648,
          0.0000050594594594594595,
          0.00000507027027027027,
          0.000005081081081081081,
          0.000005091891891891892,
          0.000005102702702702702,
          0.000005113513513513513,
          0.000005124324324324324,
          0.000005135135135135135,
          0.0000051459459459459455,
          0.000005156756756756757,
          0.000005167567567567567,
          0.0000051783783783783785,
          0.000005189189189189189,
          0.000005199999999999999,
          0.000005210810810810811,
          0.000005221621621621621,
          0.000005232432432432432,
          0.000005243243243243243,
          0.000005254054054054054,
          0.0000052648648648648645,
          0.000005275675675675676,
          0.000005286486486486486,
          0.000005297297297297297,
          0.000005308108108108108,
          0.000005318918918918918,
          0.00000532972972972973,
          0.00000534054054054054,
          0.000005351351351351351,
          0.000005362162162162162,
          0.000005372972972972973,
          0.0000053837837837837835,
          0.000005394594594594594,
          0.000005405405405405405,
          0.000005416216216216216,
          0.000005427027027027027,
          0.000005437837837837837,
          0.000005448648648648649,
          0.000005459459459459459,
          0.00000547027027027027,
          0.000005481081081081081,
          0.000005491891891891891,
          0.0000055027027027027025,
          0.000005513513513513513,
          0.000005524324324324324,
          0.000005535135135135135,
          0.000005545945945945946,
          0.000005556756756756756,
          0.000005567567567567568,
          0.000005578378378378378,
          0.0000055891891891891885,
          0.0000056
         ],
         "y": [
          0.00599191711322915,
          0.005614837670928145,
          0.005252284249011823,
          0.004904075622407746,
          0.004570027202705069,
          0.004249950947933269,
          0.00394365525549855,
          0.003650944854239165,
          0.0033716206762091096,
          0.0031054797184844386,
          0.0028523149064425403,
          0.0026119149314448435,
          0.0023841431604546513,
          0.00216861683016084,
          0.0019651941880159075,
          0.0017736450223797967,
          0.0015937338008630531,
          0.001425219385464411,
          0.0012678546837323456,
          0.00112138629701775,
          0.000985554108220534,
          0.0008600908095216627,
          0.000744721370082053,
          0.000639162421840049,
          0.0005431215539675338,
          0.000456296488362328,
          0.0003783741080510552,
          0.0003090293129011716,
          0.0002479236363165249,
          0.0001947035604222295,
          0.00014899842654114015,
          0.00011050526532029358,
          0.00007861978330882363,
          0.00005300466356442118,
          0.00003318447420002948,
          0.000018640426418369816,
          0.000008795876385119417,
          0.000002991076752446444,
          4.3038274298390353e-7,
          5.270445915798675e-9,
          9.003979808586074e-7,
          0.00000431822910461567,
          0.00001123441928794573,
          0.00002239717290011221,
          0.00003843952236986854,
          0.000059920699355292375,
          0.00008734728377438764,
          0.00012118579674321327,
          0.00016187093273051624,
          0.00020981129900874071,
          0.00026539359878060637,
          0.0003289859601570397,
          0.0004009397926044921,
          0.00048159264211112494,
          0.0005712692214568628,
          0.0006702828578571387,
          0.0007789365945448055,
          0.0008975241532613164,
          0.0010263307066110709,
          0.0011656335801405735,
          0.0013157028571397229,
          0.0014768018987335674,
          0.0016491878406227278,
          0.0018331119797307927,
          0.002028820158004973,
          0.0022365530986257283,
          0.002456546705593221,
          0.002689032344498569,
          0.002934237088317751,
          0.0031923839427503028,
          0.003463692067521774,
          0.003748376959314471,
          0.004046650633773163,
          0.004358721790863581,
          0.004685740314348392
         ]
        },
        {
         "mode": "lines",
         "name": "Minkowski 3.0",
         "type": "scatter",
         "x": [
          0.0000048,
          0.00000481081081081081,
          0.0000048216216216216215,
          0.000004832432432432432,
          0.000004843243243243243,
          0.000004854054054054054,
          0.000004864864864864865,
          0.000004875675675675675,
          0.000004886486486486487,
          0.000004897297297297297,
          0.0000049081081081081075,
          0.000004918918918918919,
          0.000004929729729729729,
          0.0000049405405405405405,
          0.000004951351351351351,
          0.000004962162162162162,
          0.000004972972972972973,
          0.000004983783783783784,
          0.000004994594594594594,
          0.000005005405405405405,
          0.000005016216216216216,
          0.0000050270270270270265,
          0.000005037837837837838,
          0.000005048648648648648,
          0.0000050594594594594595,
          0.00000507027027027027,
          0.000005081081081081081,
          0.000005091891891891892,
          0.000005102702702702702,
          0.000005113513513513513,
          0.000005124324324324324,
          0.000005135135135135135,
          0.0000051459459459459455,
          0.000005156756756756757,
          0.000005167567567567567,
          0.0000051783783783783785,
          0.000005189189189189189,
          0.000005199999999999999,
          0.000005210810810810811,
          0.000005221621621621621,
          0.000005232432432432432,
          0.000005243243243243243,
          0.000005254054054054054,
          0.0000052648648648648645,
          0.000005275675675675676,
          0.000005286486486486486,
          0.000005297297297297297,
          0.000005308108108108108,
          0.000005318918918918918,
          0.00000532972972972973,
          0.00000534054054054054,
          0.000005351351351351351,
          0.000005362162162162162,
          0.000005372972972972973,
          0.0000053837837837837835,
          0.000005394594594594594,
          0.000005405405405405405,
          0.000005416216216216216,
          0.000005427027027027027,
          0.000005437837837837837,
          0.000005448648648648649,
          0.000005459459459459459,
          0.00000547027027027027,
          0.000005481081081081081,
          0.000005491891891891891,
          0.0000055027027027027025,
          0.000005513513513513513,
          0.000005524324324324324,
          0.000005535135135135135,
          0.000005545945945945946,
          0.000005556756756756756,
          0.000005567567567567568,
          0.000005578378378378378,
          0.0000055891891891891885,
          0.0000056
         ],
         "y": [
          0.000672010540180176,
          0.0006215445818068404,
          0.0005736619460083426,
          0.0005282960093288246,
          0.0004853799966339682,
          0.0004448469880838419,
          0.0004066299249077272,
          0.00037066161579741045,
          0.0003368747424623972,
          0.00030520186488625393,
          0.00027557542825203585,
          0.00024792776830816926,
          0.00022219999509044707,
          0.0001983058492398132,
          0.00017618690342889782,
          0.00015577510759168608,
          0.0001370023281469653,
          0.0001198003536566866,
          0.00010410089731507588,
          0.00008983560323679237,
          0.00007693605108916783,
          0.00006533376015998112,
          0.00005496019375471181,
          0.00004574676328347495,
          0.00003762483247739311,
          0.00003052572124348461,
          0.000024380709246332556,
          0.000019121040091082827,
          0.00001467792482333856,
          0.00001098254545219628,
          0.000007966058318153334,
          0.000005565044250157669,
          0.0000036984511879415113,
          0.000002304260043483638,
          0.0000013135598309854595,
          6.57429233952412e-7,
          2.6693928478466636e-7,
          7.3156042185628e-8,
          7.143050228922932e-9,
          3.626976645007786e-11,
          1.7316319699762432e-8,
          1.1362712966036485e-7,
          3.57892330925595e-7,
          8.190271976765434e-7,
          0.0000015659367898134636,
          0.000002667514195906144,
          0.000004192638887524692,
          0.000006210175132169095,
          0.000008788970532540042,
          0.000011997854894291971,
          0.000015905638669212935,
          0.000020581123957144487,
          0.000026093057148931477,
          0.00003251019443402278,
          0.00003990125899286269,
          0.000048334949573913744,
          0.00005787993951271706,
          0.00006860487857774382,
          0.00008057838994092174,
          0.00009386907060682614,
          0.00010854549123096708,
          0.00012467619486164957,
          0.0001423296997960524,
          0.00016157449649387292,
          0.00018247904870118223,
          0.00020511179375659537,
          0.0002295411425083705,
          0.0002558354803237996,
          0.0002840631670606586,
          0.0003142925371663506,
          0.00034659190165649327,
          0.0003810295475825476,
          0.00041767373923645864,
          0.0004565927190358625,
          0.0004979780149430431
         ]
        },
        {
         "mode": "lines",
         "name": "Minkowski 0.75",
         "type": "scatter",
         "x": [
          0.0000048,
          0.00000481081081081081,
          0.0000048216216216216215,
          0.000004832432432432432,
          0.000004843243243243243,
          0.000004854054054054054,
          0.000004864864864864865,
          0.000004875675675675675,
          0.000004886486486486487,
          0.000004897297297297297,
          0.0000049081081081081075,
          0.000004918918918918919,
          0.000004929729729729729,
          0.0000049405405405405405,
          0.000004951351351351351,
          0.000004962162162162162,
          0.000004972972972972973,
          0.000004983783783783784,
          0.000004994594594594594,
          0.000005005405405405405,
          0.000005016216216216216,
          0.0000050270270270270265,
          0.000005037837837837838,
          0.000005048648648648648,
          0.0000050594594594594595,
          0.00000507027027027027,
          0.000005081081081081081,
          0.000005091891891891892,
          0.000005102702702702702,
          0.000005113513513513513,
          0.000005124324324324324,
          0.000005135135135135135,
          0.0000051459459459459455,
          0.000005156756756756757,
          0.000005167567567567567,
          0.0000051783783783783785,
          0.000005189189189189189,
          0.000005199999999999999,
          0.000005210810810810811,
          0.000005221621621621621,
          0.000005232432432432432,
          0.000005243243243243243,
          0.000005254054054054054,
          0.0000052648648648648645,
          0.000005275675675675676,
          0.000005286486486486486,
          0.000005297297297297297,
          0.000005308108108108108,
          0.000005318918918918918,
          0.00000532972972972973,
          0.00000534054054054054,
          0.000005351351351351351,
          0.000005362162162162162,
          0.000005372972972972973,
          0.0000053837837837837835,
          0.000005394594594594594,
          0.000005405405405405405,
          0.000005416216216216216,
          0.000005427027027027027,
          0.000005437837837837837,
          0.000005448648648648649,
          0.000005459459459459459,
          0.00000547027027027027,
          0.000005481081081081081,
          0.000005491891891891891,
          0.0000055027027027027025,
          0.000005513513513513513,
          0.000005524324324324324,
          0.000005535135135135135,
          0.000005545945945945946,
          0.000005556756756756756,
          0.000005567567567567568,
          0.000005578378378378378,
          0.0000055891891891891885,
          0.0000056
         ],
         "y": [
          14.053907139889564,
          13.783560230681127,
          13.511317404822716,
          13.23711783683918,
          12.960896795149775,
          12.6825852790147,
          12.402109604164844,
          12.119390954019869,
          11.834344837355497,
          11.546880490199324,
          11.256900200611677,
          10.964298522695218,
          10.669056120745427,
          10.370860722857191,
          10.069671396423686,
          9.765341090227512,
          9.457708710972156,
          9.146597129110498,
          8.831810743741293,
          8.513132608461637,
          8.190320916472238,
          7.863104663987423,
          7.531178330432244,
          7.194195120393091,
          6.851758434188353,
          6.503410859604571,
          6.148619715895783,
          5.7867577946097875,
          5.417077056994704,
          5.038671864026152,
          4.650426025432307,
          4.251758702202616,
          3.83923718720681,
          3.4112257453288364,
          2.9643277220935245,
          2.493501134595607,
          1.9905754396139557,
          1.440296696668529,
          0.805019078553833,
          0.2152541425047069,
          1.0053403361036288,
          1.6090158746426986,
          2.1436294001093845,
          2.636737894339122,
          3.1007767806321063,
          3.5427469893844843,
          3.96709806415327,
          4.376887045484544,
          4.774332146317502,
          5.161109525341621,
          5.53852601379768,
          5.907626989303442,
          6.269263264771393,
          6.62414278374316,
          6.972860865942185,
          7.315924806338328,
          7.653771503402037,
          7.986780813406781,
          8.315285650897213,
          8.639579948895134,
          8.959924925914986,
          9.276554082835698,
          9.58967729429178,
          9.89948407028009,
          10.20614631068782,
          10.5098205742672,
          10.81064997659674,
          11.108765803754077,
          11.40428886956552,
          11.69733067827326,
          11.987994436946138,
          12.27637591081336,
          12.562564177930856,
          12.846642283706704,
          13.129354840765275
         ]
        }
       ],
       "layout": {
        "template": {
         "data": {
          "bar": [
           {
            "error_x": {
             "color": "#2a3f5f"
            },
            "error_y": {
             "color": "#2a3f5f"
            },
            "marker": {
             "line": {
              "color": "#E5ECF6",
              "width": 0.5
             },
             "pattern": {
              "fillmode": "overlay",
              "size": 10,
              "solidity": 0.2
             }
            },
            "type": "bar"
           }
          ],
          "barpolar": [
           {
            "marker": {
             "line": {
              "color": "#E5ECF6",
              "width": 0.5
             },
             "pattern": {
              "fillmode": "overlay",
              "size": 10,
              "solidity": 0.2
             }
            },
            "type": "barpolar"
           }
          ],
          "carpet": [
           {
            "aaxis": {
             "endlinecolor": "#2a3f5f",
             "gridcolor": "white",
             "linecolor": "white",
             "minorgridcolor": "white",
             "startlinecolor": "#2a3f5f"
            },
            "baxis": {
             "endlinecolor": "#2a3f5f",
             "gridcolor": "white",
             "linecolor": "white",
             "minorgridcolor": "white",
             "startlinecolor": "#2a3f5f"
            },
            "type": "carpet"
           }
          ],
          "choropleth": [
           {
            "colorbar": {
             "outlinewidth": 0,
             "ticks": ""
            },
            "type": "choropleth"
           }
          ],
          "contour": [
           {
            "colorbar": {
             "outlinewidth": 0,
             "ticks": ""
            },
            "colorscale": [
             [
              0,
              "#0d0887"
             ],
             [
              0.1111111111111111,
              "#46039f"
             ],
             [
              0.2222222222222222,
              "#7201a8"
             ],
             [
              0.3333333333333333,
              "#9c179e"
             ],
             [
              0.4444444444444444,
              "#bd3786"
             ],
             [
              0.5555555555555556,
              "#d8576b"
             ],
             [
              0.6666666666666666,
              "#ed7953"
             ],
             [
              0.7777777777777778,
              "#fb9f3a"
             ],
             [
              0.8888888888888888,
              "#fdca26"
             ],
             [
              1,
              "#f0f921"
             ]
            ],
            "type": "contour"
           }
          ],
          "contourcarpet": [
           {
            "colorbar": {
             "outlinewidth": 0,
             "ticks": ""
            },
            "type": "contourcarpet"
           }
          ],
          "heatmap": [
           {
            "colorbar": {
             "outlinewidth": 0,
             "ticks": ""
            },
            "colorscale": [
             [
              0,
              "#0d0887"
             ],
             [
              0.1111111111111111,
              "#46039f"
             ],
             [
              0.2222222222222222,
              "#7201a8"
             ],
             [
              0.3333333333333333,
              "#9c179e"
             ],
             [
              0.4444444444444444,
              "#bd3786"
             ],
             [
              0.5555555555555556,
              "#d8576b"
             ],
             [
              0.6666666666666666,
              "#ed7953"
             ],
             [
              0.7777777777777778,
              "#fb9f3a"
             ],
             [
              0.8888888888888888,
              "#fdca26"
             ],
             [
              1,
              "#f0f921"
             ]
            ],
            "type": "heatmap"
           }
          ],
          "heatmapgl": [
           {
            "colorbar": {
             "outlinewidth": 0,
             "ticks": ""
            },
            "colorscale": [
             [
              0,
              "#0d0887"
             ],
             [
              0.1111111111111111,
              "#46039f"
             ],
             [
              0.2222222222222222,
              "#7201a8"
             ],
             [
              0.3333333333333333,
              "#9c179e"
             ],
             [
              0.4444444444444444,
              "#bd3786"
             ],
             [
              0.5555555555555556,
              "#d8576b"
             ],
             [
              0.6666666666666666,
              "#ed7953"
             ],
             [
              0.7777777777777778,
              "#fb9f3a"
             ],
             [
              0.8888888888888888,
              "#fdca26"
             ],
             [
              1,
              "#f0f921"
             ]
            ],
            "type": "heatmapgl"
           }
          ],
          "histogram": [
           {
            "marker": {
             "pattern": {
              "fillmode": "overlay",
              "size": 10,
              "solidity": 0.2
             }
            },
            "type": "histogram"
           }
          ],
          "histogram2d": [
           {
            "colorbar": {
             "outlinewidth": 0,
             "ticks": ""
            },
            "colorscale": [
             [
              0,
              "#0d0887"
             ],
             [
              0.1111111111111111,
              "#46039f"
             ],
             [
              0.2222222222222222,
              "#7201a8"
             ],
             [
              0.3333333333333333,
              "#9c179e"
             ],
             [
              0.4444444444444444,
              "#bd3786"
             ],
             [
              0.5555555555555556,
              "#d8576b"
             ],
             [
              0.6666666666666666,
              "#ed7953"
             ],
             [
              0.7777777777777778,
              "#fb9f3a"
             ],
             [
              0.8888888888888888,
              "#fdca26"
             ],
             [
              1,
              "#f0f921"
             ]
            ],
            "type": "histogram2d"
           }
          ],
          "histogram2dcontour": [
           {
            "colorbar": {
             "outlinewidth": 0,
             "ticks": ""
            },
            "colorscale": [
             [
              0,
              "#0d0887"
             ],
             [
              0.1111111111111111,
              "#46039f"
             ],
             [
              0.2222222222222222,
              "#7201a8"
             ],
             [
              0.3333333333333333,
              "#9c179e"
             ],
             [
              0.4444444444444444,
              "#bd3786"
             ],
             [
              0.5555555555555556,
              "#d8576b"
             ],
             [
              0.6666666666666666,
              "#ed7953"
             ],
             [
              0.7777777777777778,
              "#fb9f3a"
             ],
             [
              0.8888888888888888,
              "#fdca26"
             ],
             [
              1,
              "#f0f921"
             ]
            ],
            "type": "histogram2dcontour"
           }
          ],
          "mesh3d": [
           {
            "colorbar": {
             "outlinewidth": 0,
             "ticks": ""
            },
            "type": "mesh3d"
           }
          ],
          "parcoords": [
           {
            "line": {
             "colorbar": {
              "outlinewidth": 0,
              "ticks": ""
             }
            },
            "type": "parcoords"
           }
          ],
          "pie": [
           {
            "automargin": true,
            "type": "pie"
           }
          ],
          "scatter": [
           {
            "fillpattern": {
             "fillmode": "overlay",
             "size": 10,
             "solidity": 0.2
            },
            "type": "scatter"
           }
          ],
          "scatter3d": [
           {
            "line": {
             "colorbar": {
              "outlinewidth": 0,
              "ticks": ""
             }
            },
            "marker": {
             "colorbar": {
              "outlinewidth": 0,
              "ticks": ""
             }
            },
            "type": "scatter3d"
           }
          ],
          "scattercarpet": [
           {
            "marker": {
             "colorbar": {
              "outlinewidth": 0,
              "ticks": ""
             }
            },
            "type": "scattercarpet"
           }
          ],
          "scattergeo": [
           {
            "marker": {
             "colorbar": {
              "outlinewidth": 0,
              "ticks": ""
             }
            },
            "type": "scattergeo"
           }
          ],
          "scattergl": [
           {
            "marker": {
             "colorbar": {
              "outlinewidth": 0,
              "ticks": ""
             }
            },
            "type": "scattergl"
           }
          ],
          "scattermapbox": [
           {
            "marker": {
             "colorbar": {
              "outlinewidth": 0,
              "ticks": ""
             }
            },
            "type": "scattermapbox"
           }
          ],
          "scatterpolar": [
           {
            "marker": {
             "colorbar": {
              "outlinewidth": 0,
              "ticks": ""
             }
            },
            "type": "scatterpolar"
           }
          ],
          "scatterpolargl": [
           {
            "marker": {
             "colorbar": {
              "outlinewidth": 0,
              "ticks": ""
             }
            },
            "type": "scatterpolargl"
           }
          ],
          "scatterternary": [
           {
            "marker": {
             "colorbar": {
              "outlinewidth": 0,
              "ticks": ""
             }
            },
            "type": "scatterternary"
           }
          ],
          "surface": [
           {
            "colorbar": {
             "outlinewidth": 0,
             "ticks": ""
            },
            "colorscale": [
             [
              0,
              "#0d0887"
             ],
             [
              0.1111111111111111,
              "#46039f"
             ],
             [
              0.2222222222222222,
              "#7201a8"
             ],
             [
              0.3333333333333333,
              "#9c179e"
             ],
             [
              0.4444444444444444,
              "#bd3786"
             ],
             [
              0.5555555555555556,
              "#d8576b"
             ],
             [
              0.6666666666666666,
              "#ed7953"
             ],
             [
              0.7777777777777778,
              "#fb9f3a"
             ],
             [
              0.8888888888888888,
              "#fdca26"
             ],
             [
              1,
              "#f0f921"
             ]
            ],
            "type": "surface"
           }
          ],
          "table": [
           {
            "cells": {
             "fill": {
              "color": "#EBF0F8"
             },
             "line": {
              "color": "white"
             }
            },
            "header": {
             "fill": {
              "color": "#C8D4E3"
             },
             "line": {
              "color": "white"
             }
            },
            "type": "table"
           }
          ]
         },
         "layout": {
          "annotationdefaults": {
           "arrowcolor": "#2a3f5f",
           "arrowhead": 0,
           "arrowwidth": 1
          },
          "autotypenumbers": "strict",
          "coloraxis": {
           "colorbar": {
            "outlinewidth": 0,
            "ticks": ""
           }
          },
          "colorscale": {
           "diverging": [
            [
             0,
             "#8e0152"
            ],
            [
             0.1,
             "#c51b7d"
            ],
            [
             0.2,
             "#de77ae"
            ],
            [
             0.3,
             "#f1b6da"
            ],
            [
             0.4,
             "#fde0ef"
            ],
            [
             0.5,
             "#f7f7f7"
            ],
            [
             0.6,
             "#e6f5d0"
            ],
            [
             0.7,
             "#b8e186"
            ],
            [
             0.8,
             "#7fbc41"
            ],
            [
             0.9,
             "#4d9221"
            ],
            [
             1,
             "#276419"
            ]
           ],
           "sequential": [
            [
             0,
             "#0d0887"
            ],
            [
             0.1111111111111111,
             "#46039f"
            ],
            [
             0.2222222222222222,
             "#7201a8"
            ],
            [
             0.3333333333333333,
             "#9c179e"
            ],
            [
             0.4444444444444444,
             "#bd3786"
            ],
            [
             0.5555555555555556,
             "#d8576b"
            ],
            [
             0.6666666666666666,
             "#ed7953"
            ],
            [
             0.7777777777777778,
             "#fb9f3a"
            ],
            [
             0.8888888888888888,
             "#fdca26"
            ],
            [
             1,
             "#f0f921"
            ]
           ],
           "sequentialminus": [
            [
             0,
             "#0d0887"
            ],
            [
             0.1111111111111111,
             "#46039f"
            ],
            [
             0.2222222222222222,
             "#7201a8"
            ],
            [
             0.3333333333333333,
             "#9c179e"
            ],
            [
             0.4444444444444444,
             "#bd3786"
            ],
            [
             0.5555555555555556,
             "#d8576b"
            ],
            [
             0.6666666666666666,
             "#ed7953"
            ],
            [
             0.7777777777777778,
             "#fb9f3a"
            ],
            [
             0.8888888888888888,
             "#fdca26"
            ],
            [
             1,
             "#f0f921"
            ]
           ]
          },
          "colorway": [
           "#636efa",
           "#EF553B",
           "#00cc96",
           "#ab63fa",
           "#FFA15A",
           "#19d3f3",
           "#FF6692",
           "#B6E880",
           "#FF97FF",
           "#FECB52"
          ],
          "font": {
           "color": "#2a3f5f"
          },
          "geo": {
           "bgcolor": "white",
           "lakecolor": "white",
           "landcolor": "#E5ECF6",
           "showlakes": true,
           "showland": true,
           "subunitcolor": "white"
          },
          "hoverlabel": {
           "align": "left"
          },
          "hovermode": "closest",
          "mapbox": {
           "style": "light"
          },
          "paper_bgcolor": "white",
          "plot_bgcolor": "#E5ECF6",
          "polar": {
           "angularaxis": {
            "gridcolor": "white",
            "linecolor": "white",
            "ticks": ""
           },
           "bgcolor": "#E5ECF6",
           "radialaxis": {
            "gridcolor": "white",
            "linecolor": "white",
            "ticks": ""
           }
          },
          "scene": {
           "xaxis": {
            "backgroundcolor": "#E5ECF6",
            "gridcolor": "white",
            "gridwidth": 2,
            "linecolor": "white",
            "showbackground": true,
            "ticks": "",
            "zerolinecolor": "white"
           },
           "yaxis": {
            "backgroundcolor": "#E5ECF6",
            "gridcolor": "white",
            "gridwidth": 2,
            "linecolor": "white",
            "showbackground": true,
            "ticks": "",
            "zerolinecolor": "white"
           },
           "zaxis": {
            "backgroundcolor": "#E5ECF6",
            "gridcolor": "white",
            "gridwidth": 2,
            "linecolor": "white",
            "showbackground": true,
            "ticks": "",
            "zerolinecolor": "white"
           }
          },
          "shapedefaults": {
           "line": {
            "color": "#2a3f5f"
           }
          },
          "ternary": {
           "aaxis": {
            "gridcolor": "white",
            "linecolor": "white",
            "ticks": ""
           },
           "baxis": {
            "gridcolor": "white",
            "linecolor": "white",
            "ticks": ""
           },
           "bgcolor": "#E5ECF6",
           "caxis": {
            "gridcolor": "white",
            "linecolor": "white",
            "ticks": ""
           }
          },
          "title": {
           "x": 0.05
          },
          "xaxis": {
           "automargin": true,
           "gridcolor": "white",
           "linecolor": "white",
           "ticks": "",
           "title": {
            "standoff": 15
           },
           "zerolinecolor": "white",
           "zerolinewidth": 2
          },
          "yaxis": {
           "automargin": true,
           "gridcolor": "white",
           "linecolor": "white",
           "ticks": "",
           "title": {
            "standoff": 15
           },
           "zerolinecolor": "white",
           "zerolinewidth": 2
          }
         }
        }
       }
      }
     },
     "metadata": {},
     "output_type": "display_data"
    }
   ],
   "source": [
    "fig = go.Figure()\n",
    "for k, _ in enumerate(p_orders):\n",
    "    fig.add_trace(\n",
    "        go.Scatter(x=x_range, y=y_minkowski[k], mode=\"lines\", name=f\"Minkowski {_}\")\n",
    "    )\n",
    "fig.show()"
   ]
  },
  {
   "cell_type": "markdown",
   "metadata": {},
   "source": [
    "As seen above, the Minkowski cost function allows for a variety of different distance metrics to be created. This provides users with another hyper parameter for to calibrate for optimisation algorithm convergence. This addition does expand the global search space, and should be carefully considered before deciding upon.\n",
    "\n",
    "In this notebook, we've shown the different distance metrics (cost functions) offered in PyBOP. Selection between these functions can effect the identified parameters in the case that the optimiser hyperparameter values are not properly calibrated. "
   ]
  }
 ],
 "metadata": {
  "kernelspec": {
   "display_name": "pybop-3.12",
   "language": "python",
   "name": "python3"
  },
  "language_info": {
   "codemirror_mode": {
    "name": "ipython",
    "version": 3
   },
   "file_extension": ".py",
   "mimetype": "text/x-python",
   "name": "python",
   "nbconvert_exporter": "python",
   "pygments_lexer": "ipython3",
   "version": "3.12.2"
  }
 },
 "nbformat": 4,
 "nbformat_minor": 2
}
