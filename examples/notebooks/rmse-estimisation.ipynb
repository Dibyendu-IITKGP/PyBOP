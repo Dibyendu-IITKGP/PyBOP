{
 "cells": [
  {
   "cell_type": "markdown",
   "metadata": {},
   "source": [
    "## A NMC/Gr parameterisation example using PyBOP\n",
    "\n",
    "This notebook introduces a synthetic re-parameterisation of the single-particle model with corrupted observations. To start, we import the PyBOP package for parameterisation and the PyBaMM package to generate the initial synethic data,"
   ]
  },
  {
   "cell_type": "code",
   "execution_count": 1,
   "metadata": {},
   "outputs": [
    {
     "name": "stdout",
     "output_type": "stream",
     "text": [
      "Note: you may need to restart the kernel to use updated packages.\n",
      "Note: you may need to restart the kernel to use updated packages.\n"
     ]
    }
   ],
   "source": [
    "%pip install --upgrade pip ipywidgets pybamm -q\n",
    "%pip install git+https://github.com/pybop-team/PyBOP.git@develop -q"
   ]
  },
  {
   "cell_type": "markdown",
   "metadata": {},
   "source": [
    "Next, we import the added packages plus any additional dependencies,"
   ]
  },
  {
   "cell_type": "code",
   "execution_count": 2,
   "metadata": {},
   "outputs": [],
   "source": [
    "import pybop\n",
    "import pybamm\n",
    "import matplotlib.pyplot as plt\n",
    "import numpy as np"
   ]
  },
  {
   "cell_type": "markdown",
   "metadata": {},
   "source": [
    "## Generate Synthetic Data"
   ]
  },
  {
   "cell_type": "markdown",
   "metadata": {},
   "source": [
    "We need to generate the synthetic data required for later reparameterisation. To do this we will run the PyBaMM forward model and store the generated data. This will be integrated into PyBOP in a future release for fast synthetic generation. For now, we define the PyBaMM model with a default parameter set,"
   ]
  },
  {
   "cell_type": "code",
   "execution_count": 3,
   "metadata": {},
   "outputs": [],
   "source": [
    "synthetic_model = pybamm.lithium_ion.SPM()\n",
    "params = synthetic_model.default_parameter_values"
   ]
  },
  {
   "cell_type": "markdown",
   "metadata": {},
   "source": [
    "We can now modify individual parameters with the bespoke values and run the simulation."
   ]
  },
  {
   "cell_type": "code",
   "execution_count": 4,
   "metadata": {},
   "outputs": [],
   "source": [
    "params.update(\n",
    "    {\n",
    "        \"Negative electrode active material volume fraction\": 0.52,\n",
    "        \"Positive electrode active material volume fraction\": 0.63,\n",
    "    }\n",
    ")"
   ]
  },
  {
   "cell_type": "markdown",
   "metadata": {},
   "source": [
    "Define the experiment and run the forward model to capture the synthetic data."
   ]
  },
  {
   "cell_type": "code",
   "execution_count": 5,
   "metadata": {},
   "outputs": [],
   "source": [
    "experiment = pybamm.Experiment(\n",
    "    [\n",
    "        (\n",
    "            \"Discharge at 1C for 15 minutes (1 second period)\",\n",
    "            \"Rest for 2 minutes (1 second period)\",\n",
    "            \"Charge at 1C for 15 minutes (1 second period)\",\n",
    "            \"Rest for 2 minutes (1 second period)\",\n",
    "        ),\n",
    "    ]\n",
    "    * 2\n",
    ")\n",
    "sim = pybamm.Simulation(synthetic_model, experiment=experiment, parameter_values=params)\n",
    "synthetic_sol = sim.solve()"
   ]
  },
  {
   "cell_type": "markdown",
   "metadata": {},
   "source": [
    "Plot the synthetic data,"
   ]
  },
  {
   "cell_type": "code",
   "execution_count": 6,
   "metadata": {},
   "outputs": [
    {
     "data": {
      "application/vnd.jupyter.widget-view+json": {
       "model_id": "b81d2479a67e475cafce6cab6d366680",
       "version_major": 2,
       "version_minor": 0
      },
      "text/plain": [
       "interactive(children=(FloatSlider(value=0.0, description='t', max=1.1333333333333333, step=0.01133333333333333…"
      ]
     },
     "metadata": {},
     "output_type": "display_data"
    },
    {
     "data": {
      "text/plain": [
       "<pybamm.plotting.quick_plot.QuickPlot at 0x126561bd0>"
      ]
     },
     "execution_count": 6,
     "metadata": {},
     "output_type": "execute_result"
    }
   ],
   "source": [
    "sim.plot()"
   ]
  },
  {
   "cell_type": "markdown",
   "metadata": {},
   "source": [
    "Now, let's corrupt the synthetic data with 5mV of gaussian noise centered around zero,"
   ]
  },
  {
   "cell_type": "code",
   "execution_count": 7,
   "metadata": {},
   "outputs": [],
   "source": [
    "corrupt_V = synthetic_sol[\"Terminal voltage [V]\"].data\n",
    "corrupt_V += np.random.normal(0, 0.001, len(corrupt_V))"
   ]
  },
  {
   "cell_type": "markdown",
   "metadata": {},
   "source": [
    "## Identify the Parameters"
   ]
  },
  {
   "cell_type": "markdown",
   "metadata": {},
   "source": [
    "Now, to blind fit the synthetic parameters we need to define the observation variables as well as update the forward model to be of PyBOP type (This composes PyBaMM's model class). For the observed voltage variable, we used the newly corrupted voltage array, "
   ]
  },
  {
   "cell_type": "code",
   "execution_count": 8,
   "metadata": {},
   "outputs": [],
   "source": [
    "model = pybop.lithium_ion.SPM()\n",
    "dataset = [\n",
    "    pybop.Dataset(\"Time [s]\", synthetic_sol[\"Time [s]\"].data),\n",
    "    pybop.Dataset(\"Current function [A]\", synthetic_sol[\"Current [A]\"].data),\n",
    "    pybop.Dataset(\"Voltage [V]\", corrupt_V),\n",
    "]"
   ]
  },
  {
   "cell_type": "markdown",
   "metadata": {},
   "source": [
    "Next, we define the targeted forward model parameters for estimation. Furthermore, PyBOP provides functionality to define a prior for the parameters. The initial parameters values used in the estimiation will be randomly drawn from the prior distribution."
   ]
  },
  {
   "cell_type": "code",
   "execution_count": 9,
   "metadata": {},
   "outputs": [],
   "source": [
    "parameters = [\n",
    "    pybop.Parameter(\n",
    "        \"Negative electrode active material volume fraction\",\n",
    "        prior=pybop.Gaussian(0.5, 0.02),\n",
    "        bounds=[0.375, 0.625],\n",
    "    ),\n",
    "    pybop.Parameter(\n",
    "        \"Positive electrode active material volume fraction\",\n",
    "        prior=pybop.Gaussian(0.65, 0.02),\n",
    "        bounds=[0.525, 0.75],\n",
    "    ),\n",
    "]"
   ]
  },
  {
   "cell_type": "markdown",
   "metadata": {},
   "source": [
    "We can now construct a cost function and define the fitting signal."
   ]
  },
  {
   "cell_type": "code",
   "execution_count": 10,
   "metadata": {},
   "outputs": [],
   "source": [
    "# Define the cost to optimise\n",
    "cost = pybop.RMSE()\n",
    "signal = \"Voltage [V]\""
   ]
  },
  {
   "cell_type": "markdown",
   "metadata": {},
   "source": [
    "Let's construct PyBOP's optimisation class. This class provides the methods needed to fit the forward model."
   ]
  },
  {
   "cell_type": "code",
   "execution_count": 11,
   "metadata": {},
   "outputs": [],
   "source": [
    "parameterisation = pybop.Optimisation(\n",
    "    cost=cost,\n",
    "    model=model,\n",
    "    optimiser=pybop.NLoptOptimize(n_param=len(parameters)),\n",
    "    parameters=parameters,\n",
    "    dataset=dataset,\n",
    "    signal=signal,\n",
    ")"
   ]
  },
  {
   "cell_type": "markdown",
   "metadata": {},
   "source": [
    "Finally, we run the estimation algorithm. For this example, we use a root-mean square cost function with the BOBYQA algorithm implemented in NLOpt"
   ]
  },
  {
   "cell_type": "code",
   "execution_count": 12,
   "metadata": {},
   "outputs": [
    {
     "name": "stdout",
     "output_type": "stream",
     "text": [
      "Cost: 0.0014306419900053451\n",
      "Cost: 0.001878140952546479\n",
      "Cost: 0.0056853760898525705\n",
      "Cost: 0.0011144296137402825\n",
      "Cost: 0.004234408585704868\n",
      "Cost: 0.002260880733148505\n",
      "Cost: 0.0010374243859739255\n",
      "Cost: 0.0011340799888696297\n",
      "Cost: 0.001093836134793644\n",
      "Cost: 0.001042723321241934\n",
      "Cost: 0.0010266172137603305\n",
      "Cost: 0.00103588203364289\n",
      "Cost: 0.001007039288536067\n",
      "Cost: 0.000990040153496016\n",
      "Cost: 0.0009820913602296417\n",
      "Cost: 0.0009795434928262323\n",
      "Cost: 0.0009945581830178092\n",
      "Cost: 0.0009921144772808324\n",
      "Cost: 0.0009825846380214938\n",
      "Cost: 0.0009915338481534652\n",
      "Cost: 0.0009789337894256292\n",
      "Cost: 0.0009823901578605396\n",
      "Cost: 0.0009786983892344486\n",
      "Cost: 0.0009785339841692688\n",
      "Cost: 0.000978719434079295\n",
      "Cost: 0.000978406378769787\n",
      "Cost: 0.0009784181875287846\n",
      "Cost: 0.0009792572769492622\n",
      "Cost: 0.0009789609220288331\n",
      "Cost: 0.000979061722139482\n",
      "Cost: 0.0009784215735618952\n",
      "Cost: 0.0009790240608910446\n",
      "Cost: 0.0009784386249667666\n",
      "Cost: 0.0009784283248914902\n",
      "Cost: 0.0009784142223954373\n",
      "Cost: 0.0009791106518699038\n",
      "Cost: 0.0009784113851583095\n",
      "Cost: 0.0009791097832152831\n",
      "Cost: 0.0009784096923936012\n"
     ]
    }
   ],
   "source": [
    "x, output, final_cost, num_evals = parameterisation.run()"
   ]
  },
  {
   "cell_type": "markdown",
   "metadata": {},
   "source": [
    "Let's view the identified parameters:"
   ]
  },
  {
   "cell_type": "code",
   "execution_count": 13,
   "metadata": {},
   "outputs": [
    {
     "data": {
      "text/plain": [
       "array([0.50138974, 0.63221165])"
      ]
     },
     "execution_count": 13,
     "metadata": {},
     "output_type": "execute_result"
    }
   ],
   "source": [
    "x"
   ]
  },
  {
   "cell_type": "markdown",
   "metadata": {},
   "source": [
    "## Plotting"
   ]
  },
  {
   "cell_type": "markdown",
   "metadata": {},
   "source": [
    "First, run SPM forward model with the estimated parameters,"
   ]
  },
  {
   "cell_type": "code",
   "execution_count": 14,
   "metadata": {},
   "outputs": [],
   "source": [
    "params.update(\n",
    "    {\n",
    "        \"Negative electrode active material volume fraction\": x[0],\n",
    "        \"Positive electrode active material volume fraction\": x[1],\n",
    "    }\n",
    ")\n",
    "optsol = sim.solve()[\"Terminal voltage [V]\"].data"
   ]
  },
  {
   "cell_type": "markdown",
   "metadata": {},
   "source": [
    "Now, we plot the estimated forward model against the corrupted synthetic observation,"
   ]
  },
  {
   "cell_type": "code",
   "execution_count": 15,
   "metadata": {},
   "outputs": [
    {
     "data": {
      "text/plain": [
       "<matplotlib.legend.Legend at 0x12721faf0>"
      ]
     },
     "execution_count": 15,
     "metadata": {},
     "output_type": "execute_result"
    },
    {
     "data": {
      "image/png": "[encoded data removed]",
      "text/plain": [
       "<Figure size 640x480 with 1 Axes>"
      ]
     },
     "metadata": {},
     "output_type": "display_data"
    }
   ],
   "source": [
    "plt.plot(corrupt_V, label=\"Groundtruth\")\n",
    "plt.plot(optsol, label=\"Estimated\")\n",
    "plt.xlabel(\"Time (s)\")\n",
    "plt.ylabel(\"Voltage (V)\")\n",
    "plt.legend()"
   ]
  },
  {
   "cell_type": "code",
   "execution_count": null,
   "metadata": {},
   "outputs": [],
   "source": []
  }
 ],
 "metadata": {
  "kernelspec": {
   "display_name": "Python 3 (ipykernel)",
   "language": "python",
   "name": "python3"
  },
  "language_info": {
   "codemirror_mode": {
    "name": "ipython",
    "version": 3
   },
   "file_extension": ".py",
   "mimetype": "text/x-python",
   "name": "python",
   "nbconvert_exporter": "python",
   "pygments_lexer": "ipython3",
   "version": "3.10.12"
  }
 },
 "nbformat": 4,
 "nbformat_minor": 4
}
