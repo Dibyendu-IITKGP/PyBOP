{
 "cells": [
  {
   "cell_type": "markdown",
   "metadata": {
    "id": "expmkveO04pw"
   },
   "source": [
    "## Parameter Estimation with Adam in PyBOP\n",
    "\n",
    "In this notebook, we demonstrate an example of parameter estimation for a single-particle model using the Adam optimiser [1]. The ADAM optimiser is an algorithm for gradient-based optimization, combining the advantages of the Adaptive Gradient Algorithm (AdaGrad) and Root Mean Square Propagation (RMSProp).\n",
    "\n",
    "[[1]: Adam: A Method for Stochastic Optimization](https://arxiv.org/abs/1412.6980)\n",
    "\n",
    "### Setting up the Environment\n",
    "\n",
    "Before we begin, we need to ensure that we have all the necessary tools. We will install PyBOP from its development branch and upgrade some dependencies:"
   ]
  },
  {
   "cell_type": "code",
   "execution_count": 14,
   "metadata": {
    "colab": {
     "base_uri": "https://localhost:8080/"
    },
    "id": "X87NUGPW04py",
    "outputId": "0d785b07-7cff-4aeb-e60a-4ff5a669afbf"
   },
   "outputs": [
    {
     "name": "stdout",
     "output_type": "stream",
     "text": [
      "Requirement already satisfied: pip in /home/engs2510/.pyenv/versions/3.10.12/envs/pybop/lib/python3.10/site-packages (23.3.2)\n",
      "Requirement already satisfied: ipywidgets in /home/engs2510/.pyenv/versions/3.10.12/envs/pybop/lib/python3.10/site-packages (8.1.1)\n",
      "Requirement already satisfied: comm>=0.1.3 in /home/engs2510/.pyenv/versions/3.10.12/envs/pybop/lib/python3.10/site-packages (from ipywidgets) (0.1.4)\n",
      "Requirement already satisfied: ipython>=6.1.0 in /home/engs2510/.pyenv/versions/3.10.12/envs/pybop/lib/python3.10/site-packages (from ipywidgets) (8.14.0)\n",
      "Requirement already satisfied: traitlets>=4.3.1 in /home/engs2510/.pyenv/versions/3.10.12/envs/pybop/lib/python3.10/site-packages (from ipywidgets) (5.9.0)\n",
      "Requirement already satisfied: widgetsnbextension~=4.0.9 in /home/engs2510/.pyenv/versions/3.10.12/envs/pybop/lib/python3.10/site-packages (from ipywidgets) (4.0.9)\n",
      "Requirement already satisfied: jupyterlab-widgets~=3.0.9 in /home/engs2510/.pyenv/versions/3.10.12/envs/pybop/lib/python3.10/site-packages (from ipywidgets) (3.0.9)\n",
      "Requirement already satisfied: backcall in /home/engs2510/.pyenv/versions/3.10.12/envs/pybop/lib/python3.10/site-packages (from ipython>=6.1.0->ipywidgets) (0.2.0)\n",
      "Requirement already satisfied: decorator in /home/engs2510/.pyenv/versions/3.10.12/envs/pybop/lib/python3.10/site-packages (from ipython>=6.1.0->ipywidgets) (5.1.1)\n",
      "Requirement already satisfied: jedi>=0.16 in /home/engs2510/.pyenv/versions/3.10.12/envs/pybop/lib/python3.10/site-packages (from ipython>=6.1.0->ipywidgets) (0.19.0)\n",
      "Requirement already satisfied: matplotlib-inline in /home/engs2510/.pyenv/versions/3.10.12/envs/pybop/lib/python3.10/site-packages (from ipython>=6.1.0->ipywidgets) (0.1.6)\n",
      "Requirement already satisfied: pickleshare in /home/engs2510/.pyenv/versions/3.10.12/envs/pybop/lib/python3.10/site-packages (from ipython>=6.1.0->ipywidgets) (0.7.5)\n",
      "Requirement already satisfied: prompt-toolkit!=3.0.37,<3.1.0,>=3.0.30 in /home/engs2510/.pyenv/versions/3.10.12/envs/pybop/lib/python3.10/site-packages (from ipython>=6.1.0->ipywidgets) (3.0.39)\n",
      "Requirement already satisfied: pygments>=2.4.0 in /home/engs2510/.pyenv/versions/3.10.12/envs/pybop/lib/python3.10/site-packages (from ipython>=6.1.0->ipywidgets) (2.15.1)\n",
      "Requirement already satisfied: stack-data in /home/engs2510/.pyenv/versions/3.10.12/envs/pybop/lib/python3.10/site-packages (from ipython>=6.1.0->ipywidgets) (0.6.2)\n",
      "Requirement already satisfied: pexpect>4.3 in /home/engs2510/.pyenv/versions/3.10.12/envs/pybop/lib/python3.10/site-packages (from ipython>=6.1.0->ipywidgets) (4.8.0)\n",
      "Requirement already satisfied: parso<0.9.0,>=0.8.3 in /home/engs2510/.pyenv/versions/3.10.12/envs/pybop/lib/python3.10/site-packages (from jedi>=0.16->ipython>=6.1.0->ipywidgets) (0.8.3)\n",
      "Requirement already satisfied: ptyprocess>=0.5 in /home/engs2510/.pyenv/versions/3.10.12/envs/pybop/lib/python3.10/site-packages (from pexpect>4.3->ipython>=6.1.0->ipywidgets) (0.7.0)\n",
      "Requirement already satisfied: wcwidth in /home/engs2510/.pyenv/versions/3.10.12/envs/pybop/lib/python3.10/site-packages (from prompt-toolkit!=3.0.37,<3.1.0,>=3.0.30->ipython>=6.1.0->ipywidgets) (0.2.6)\n",
      "Requirement already satisfied: executing>=1.2.0 in /home/engs2510/.pyenv/versions/3.10.12/envs/pybop/lib/python3.10/site-packages (from stack-data->ipython>=6.1.0->ipywidgets) (1.2.0)\n",
      "Requirement already satisfied: asttokens>=2.1.0 in /home/engs2510/.pyenv/versions/3.10.12/envs/pybop/lib/python3.10/site-packages (from stack-data->ipython>=6.1.0->ipywidgets) (2.2.1)\n",
      "Requirement already satisfied: pure-eval in /home/engs2510/.pyenv/versions/3.10.12/envs/pybop/lib/python3.10/site-packages (from stack-data->ipython>=6.1.0->ipywidgets) (0.2.2)\n",
      "Requirement already satisfied: six in /home/engs2510/.pyenv/versions/3.10.12/envs/pybop/lib/python3.10/site-packages (from asttokens>=2.1.0->stack-data->ipython>=6.1.0->ipywidgets) (1.16.0)\n",
      "Note: you may need to restart the kernel to use updated packages.\n",
      "Note: you may need to restart the kernel to use updated packages.\n"
     ]
    }
   ],
   "source": [
    "%pip install --upgrade pip ipywidgets\n",
    "%pip install pybop -q"
   ]
  },
  {
   "cell_type": "markdown",
   "metadata": {
    "id": "jAvD5fk104p0"
   },
   "source": [
    "### Importing Libraries\n",
    "\n",
    "With the environment set up, we can now import PyBOP alongside other libraries we will need:"
   ]
  },
  {
   "cell_type": "code",
   "execution_count": 15,
   "metadata": {
    "id": "SQdt4brD04p1"
   },
   "outputs": [],
   "source": [
    "import pybop\n",
    "import numpy as np"
   ]
  },
  {
   "cell_type": "markdown",
   "metadata": {
    "id": "5XU-dMtU04p2"
   },
   "source": [
    "### Generate Synthetic Data\n",
    "\n",
    "To demonstrate parameter estimation, we first need synthetic data. This data will be generated using the PyBOP forward model, which requires defining a parameter set and the model itself.\n",
    "\n",
    "#### Defining Parameters and Model\n",
    "\n",
    "We start by creating an example parameter set and then instantiate the single-particle model (SPM):"
   ]
  },
  {
   "cell_type": "code",
   "execution_count": 16,
   "metadata": {},
   "outputs": [],
   "source": [
    "parameter_set = pybop.ParameterSet.pybamm(\"Chen2020\")\n",
    "model = pybop.lithium_ion.SPM(parameter_set=parameter_set)"
   ]
  },
  {
   "cell_type": "markdown",
   "metadata": {},
   "source": [
    "### Simulating Forward Model\n",
    "\n",
    "We can then simulate the model using the `predict` method, with a default constant current to generate voltage data."
   ]
  },
  {
   "cell_type": "code",
   "execution_count": 17,
   "metadata": {
    "id": "sBasxv8U04p3"
   },
   "outputs": [],
   "source": [
    "t_eval = np.arange(0, 900, 2)\n",
    "values = model.predict(t_eval=t_eval)"
   ]
  },
  {
   "cell_type": "markdown",
   "metadata": {},
   "source": [
    "### Adding Noise to Voltage Data\n",
    "\n",
    "To make the parameter estimation more realistic, we add Gaussian noise to the data."
   ]
  },
  {
   "cell_type": "code",
   "execution_count": 18,
   "metadata": {},
   "outputs": [],
   "source": [
    "sigma = 0.001\n",
    "corrupt_values = values[\"Voltage [V]\"].data + np.random.normal(0, sigma, len(t_eval))"
   ]
  },
  {
   "cell_type": "markdown",
   "metadata": {
    "id": "X8-tubYY04p_"
   },
   "source": [
    "## Identify the Parameters"
   ]
  },
  {
   "cell_type": "markdown",
   "metadata": {
    "id": "PQqhvSZN04p_"
   },
   "source": [
    "We will now set up the parameter estimation process by defining the datasets for optimisation and selecting the model parameters we wish to estimate."
   ]
  },
  {
   "cell_type": "markdown",
   "metadata": {},
   "source": [
    "### Creating Optimization Dataset\n",
    "\n",
    "The dataset for optimization is composed of time, current, and the noisy voltage data:"
   ]
  },
  {
   "cell_type": "code",
   "execution_count": 19,
   "metadata": {
    "id": "zuvGHWID04p_"
   },
   "outputs": [],
   "source": [
    "dataset = pybop.Dataset(\n",
    "    {\n",
    "        \"Time [s]\": t_eval,\n",
    "        \"Current function [A]\": values[\"Current [A]\"].data,\n",
    "        \"Voltage [V]\": corrupt_values,\n",
    "    }\n",
    ")"
   ]
  },
  {
   "cell_type": "markdown",
   "metadata": {
    "id": "ffS3CF_704qA"
   },
   "source": [
    "### Defining Parameters to Estimate\n",
    "\n",
    "We select the parameters for estimation and set up their prior distributions and bounds:"
   ]
  },
  {
   "cell_type": "code",
   "execution_count": 20,
   "metadata": {
    "id": "WPCybXIJ04qA"
   },
   "outputs": [],
   "source": [
    "parameters = [\n",
    "    pybop.Parameter(\n",
    "        \"Negative electrode active material volume fraction\",\n",
    "        prior=pybop.Gaussian(0.6, 0.02),\n",
    "        bounds=[0.5, 0.8],\n",
    "    ),\n",
    "    pybop.Parameter(\n",
    "        \"Positive electrode active material volume fraction\",\n",
    "        prior=pybop.Gaussian(0.48, 0.02),\n",
    "        bounds=[0.4, 0.7],\n",
    "    ),\n",
    "]"
   ]
  },
  {
   "cell_type": "markdown",
   "metadata": {
    "id": "n4OHa-aF04qA"
   },
   "source": [
    "### Setting up the Optimization Problem\n",
    "\n",
    "With the datasets and parameters defined, we can set up the optimization problem, its cost function, and the optimizer."
   ]
  },
  {
   "cell_type": "code",
   "execution_count": 21,
   "metadata": {
    "id": "etMzRtx404qA"
   },
   "outputs": [
    {
     "name": "stdout",
     "output_type": "stream",
     "text": [
      "NOTE: Boundaries ignored by Adam\n"
     ]
    }
   ],
   "source": [
    "problem = pybop.FittingProblem(model, parameters, dataset)\n",
    "cost = pybop.SumSquaredError(problem)\n",
    "optim = pybop.Optimisation(cost, optimiser=pybop.Adam)\n",
    "optim.set_max_iterations(400)"
   ]
  },
  {
   "cell_type": "markdown",
   "metadata": {
    "id": "caprp-bV04qB"
   },
   "source": [
    "### Running the Optimization\n",
    "\n",
    "We proceed to run the CMA-ES optimization algorithm to estimate the parameters:"
   ]
  },
  {
   "cell_type": "code",
   "execution_count": 22,
   "metadata": {
    "id": "-9OVt0EQ04qB"
   },
   "outputs": [],
   "source": [
    "x, final_cost = optim.run()"
   ]
  },
  {
   "cell_type": "markdown",
   "metadata": {
    "id": "-4pZsDmS04qC"
   },
   "source": [
    "### Viewing the Estimated Parameters\n",
    "\n",
    "After the optimization, we can examine the estimated parameter values:"
   ]
  },
  {
   "cell_type": "code",
   "execution_count": 23,
   "metadata": {
    "colab": {
     "base_uri": "https://localhost:8080/"
    },
    "id": "Hgz8SV4i04qC",
    "outputId": "e1e42ae7-5075-4c47-dd68-1b22ecc170f6"
   },
   "outputs": [
    {
     "data": {
      "text/plain": [
       "array([0.74097353, 0.61353238])"
      ]
     },
     "execution_count": 23,
     "metadata": {},
     "output_type": "execute_result"
    }
   ],
   "source": [
    "x  # This will output the estimated parameters"
   ]
  },
  {
   "cell_type": "markdown",
   "metadata": {
    "id": "KxKURtH704qC"
   },
   "source": [
    "## Plotting and Visualization\n",
    "\n",
    "PyBOP provides various plotting utilities to visualize the results of the optimization."
   ]
  },
  {
   "cell_type": "markdown",
   "metadata": {
    "id": "-cWCOiqR04qC"
   },
   "source": [
    "### Comparing System Response\n",
    "\n",
    "We can quickly plot the system's response using the estimated parameters compared to the target:"
   ]
  },
  {
   "cell_type": "code",
   "execution_count": 24,
   "metadata": {
    "colab": {
     "base_uri": "https://localhost:8080/",
     "height": 467
    },
    "id": "tJUJ80Ve04qD",
    "outputId": "855fbaa2-1e09-4935-eb1a-8caf7f99eb75"
   },
   "outputs": [
    {
     "data": {
      "application/vnd.plotly.v1+json": {
       "config": {
        "plotlyServerURL": "https://plot.ly"
       },
       "data": [
        {
         "fill": "toself",
         "fillcolor": "rgba(255,229,204,0.8)",
         "hoverinfo": "skip",
         "line": {
          "color": "rgba(255,255,255,0)"
         },
         "showlegend": false,
         "type": "scatter",
         "x": [
          0,
          2,
          4,
          6,
          8,
          10,
          12,
          14,
          16,
          18,
          20,
          22,
          24,
          26,
          28,
          30,
          32,
          34,
          36,
          38,
          40,
          42,
          44,
          46,
          48,
          50,
          52,
          54,
          56,
          58,
          60,
          62,
          64,
          66,
          68,
          70,
          72,
          74,
          76,
          78,
          80,
          82,
          84,
          86,
          88,
          90,
          92,
          94,
          96,
          98,
          100,
          102,
          104,
          106,
          108,
          110,
          112,
          114,
          116,
          118,
          120,
          122,
          124,
          126,
          128,
          130,
          132,
          134,
          136,
          138,
          140,
          142,
          144,
          146,
          148,
          150,
          152,
          154,
          156,
          158,
          160,
          162,
          164,
          166,
          168,
          170,
          172,
          174,
          176,
          178,
          180,
          182,
          184,
          186,
          188,
          190,
          192,
          194,
          196,
          198,
          200,
          202,
          204,
          206,
          208,
          210,
          212,
          214,
          216,
          218,
          220,
          222,
          224,
          226,
          228,
          230,
          232,
          234,
          236,
          238,
          240,
          242,
          244,
          246,
          248,
          250,
          252,
          254,
          256,
          258,
          260,
          262,
          264,
          266,
          268,
          270,
          272,
          274,
          276,
          278,
          280,
          282,
          284,
          286,
          288,
          290,
          292,
          294,
          296,
          298,
          300,
          302,
          304,
          306,
          308,
          310,
          312,
          314,
          316,
          318,
          320,
          322,
          324,
          326,
          328,
          330,
          332,
          334,
          336,
          338,
          340,
          342,
          344,
          346,
          348,
          350,
          352,
          354,
          356,
          358,
          360,
          362,
          364,
          366,
          368,
          370,
          372,
          374,
          376,
          378,
          380,
          382,
          384,
          386,
          388,
          390,
          392,
          394,
          396,
          398,
          400,
          402,
          404,
          406,
          408,
          410,
          412,
          414,
          416,
          418,
          420,
          422,
          424,
          426,
          428,
          430,
          432,
          434,
          436,
          438,
          440,
          442,
          444,
          446,
          448,
          450,
          452,
          454,
          456,
          458,
          460,
          462,
          464,
          466,
          468,
          470,
          472,
          474,
          476,
          478,
          480,
          482,
          484,
          486,
          488,
          490,
          492,
          494,
          496,
          498,
          500,
          502,
          504,
          506,
          508,
          510,
          512,
          514,
          516,
          518,
          520,
          522,
          524,
          526,
          528,
          530,
          532,
          534,
          536,
          538,
          540,
          542,
          544,
          546,
          548,
          550,
          552,
          554,
          556,
          558,
          560,
          562,
          564,
          566,
          568,
          570,
          572,
          574,
          576,
          578,
          580,
          582,
          584,
          586,
          588,
          590,
          592,
          594,
          596,
          598,
          600,
          602,
          604,
          606,
          608,
          610,
          612,
          614,
          616,
          618,
          620,
          622,
          624,
          626,
          628,
          630,
          632,
          634,
          636,
          638,
          640,
          642,
          644,
          646,
          648,
          650,
          652,
          654,
          656,
          658,
          660,
          662,
          664,
          666,
          668,
          670,
          672,
          674,
          676,
          678,
          680,
          682,
          684,
          686,
          688,
          690,
          692,
          694,
          696,
          698,
          700,
          702,
          704,
          706,
          708,
          710,
          712,
          714,
          716,
          718,
          720,
          722,
          724,
          726,
          728,
          730,
          732,
          734,
          736,
          738,
          740,
          742,
          744,
          746,
          748,
          750,
          752,
          754,
          756,
          758,
          760,
          762,
          764,
          766,
          768,
          770,
          772,
          774,
          776,
          778,
          780,
          782,
          784,
          786,
          788,
          790,
          792,
          794,
          796,
          798,
          800,
          802,
          804,
          806,
          808,
          810,
          812,
          814,
          816,
          818,
          820,
          822,
          824,
          826,
          828,
          830,
          832,
          834,
          836,
          838,
          840,
          842,
          844,
          846,
          848,
          850,
          852,
          854,
          856,
          858,
          860,
          862,
          864,
          866,
          868,
          870,
          872,
          874,
          876,
          878,
          880,
          882,
          884,
          886,
          888,
          890,
          892,
          894,
          896,
          898,
          898,
          896,
          894,
          892,
          890,
          888,
          886,
          884,
          882,
          880,
          878,
          876,
          874,
          872,
          870,
          868,
          866,
          864,
          862,
          860,
          858,
          856,
          854,
          852,
          850,
          848,
          846,
          844,
          842,
          840,
          838,
          836,
          834,
          832,
          830,
          828,
          826,
          824,
          822,
          820,
          818,
          816,
          814,
          812,
          810,
          808,
          806,
          804,
          802,
          800,
          798,
          796,
          794,
          792,
          790,
          788,
          786,
          784,
          782,
          780,
          778,
          776,
          774,
          772,
          770,
          768,
          766,
          764,
          762,
          760,
          758,
          756,
          754,
          752,
          750,
          748,
          746,
          744,
          742,
          740,
          738,
          736,
          734,
          732,
          730,
          728,
          726,
          724,
          722,
          720,
          718,
          716,
          714,
          712,
          710,
          708,
          706,
          704,
          702,
          700,
          698,
          696,
          694,
          692,
          690,
          688,
          686,
          684,
          682,
          680,
          678,
          676,
          674,
          672,
          670,
          668,
          666,
          664,
          662,
          660,
          658,
          656,
          654,
          652,
          650,
          648,
          646,
          644,
          642,
          640,
          638,
          636,
          634,
          632,
          630,
          628,
          626,
          624,
          622,
          620,
          618,
          616,
          614,
          612,
          610,
          608,
          606,
          604,
          602,
          600,
          598,
          596,
          594,
          592,
          590,
          588,
          586,
          584,
          582,
          580,
          578,
          576,
          574,
          572,
          570,
          568,
          566,
          564,
          562,
          560,
          558,
          556,
          554,
          552,
          550,
          548,
          546,
          544,
          542,
          540,
          538,
          536,
          534,
          532,
          530,
          528,
          526,
          524,
          522,
          520,
          518,
          516,
          514,
          512,
          510,
          508,
          506,
          504,
          502,
          500,
          498,
          496,
          494,
          492,
          490,
          488,
          486,
          484,
          482,
          480,
          478,
          476,
          474,
          472,
          470,
          468,
          466,
          464,
          462,
          460,
          458,
          456,
          454,
          452,
          450,
          448,
          446,
          444,
          442,
          440,
          438,
          436,
          434,
          432,
          430,
          428,
          426,
          424,
          422,
          420,
          418,
          416,
          414,
          412,
          410,
          408,
          406,
          404,
          402,
          400,
          398,
          396,
          394,
          392,
          390,
          388,
          386,
          384,
          382,
          380,
          378,
          376,
          374,
          372,
          370,
          368,
          366,
          364,
          362,
          360,
          358,
          356,
          354,
          352,
          350,
          348,
          346,
          344,
          342,
          340,
          338,
          336,
          334,
          332,
          330,
          328,
          326,
          324,
          322,
          320,
          318,
          316,
          314,
          312,
          310,
          308,
          306,
          304,
          302,
          300,
          298,
          296,
          294,
          292,
          290,
          288,
          286,
          284,
          282,
          280,
          278,
          276,
          274,
          272,
          270,
          268,
          266,
          264,
          262,
          260,
          258,
          256,
          254,
          252,
          250,
          248,
          246,
          244,
          242,
          240,
          238,
          236,
          234,
          232,
          230,
          228,
          226,
          224,
          222,
          220,
          218,
          216,
          214,
          212,
          210,
          208,
          206,
          204,
          202,
          200,
          198,
          196,
          194,
          192,
          190,
          188,
          186,
          184,
          182,
          180,
          178,
          176,
          174,
          172,
          170,
          168,
          166,
          164,
          162,
          160,
          158,
          156,
          154,
          152,
          150,
          148,
          146,
          144,
          142,
          140,
          138,
          136,
          134,
          132,
          130,
          128,
          126,
          124,
          122,
          120,
          118,
          116,
          114,
          112,
          110,
          108,
          106,
          104,
          102,
          100,
          98,
          96,
          94,
          92,
          90,
          88,
          86,
          84,
          82,
          80,
          78,
          76,
          74,
          72,
          70,
          68,
          66,
          64,
          62,
          60,
          58,
          56,
          54,
          52,
          50,
          48,
          46,
          44,
          42,
          40,
          38,
          36,
          34,
          32,
          30,
          28,
          26,
          24,
          22,
          20,
          18,
          16,
          14,
          12,
          10,
          8,
          6,
          4,
          2,
          0
         ],
         "y": [
          4.06822827023833,
          4.0590864928205415,
          4.0512424033555545,
          4.044565629791742,
          4.038843781930129,
          4.033897812096342,
          4.0295856498241776,
          4.025796330257908,
          4.022444191345542,
          4.01946176579006,
          4.016795144853343,
          4.014401377389896,
          4.0122446504719145,
          4.0102954135852835,
          4.008529165914359,
          4.006924970722505,
          4.005465989127235,
          4.004136578796254,
          4.002924784623575,
          4.0018185091160445,
          4.000808445654757,
          3.9998851952284276,
          3.999041100696373,
          3.9982688235031145,
          3.9975620253927935,
          3.996914841130766,
          3.9963220360948553,
          3.9957787038925754,
          3.995280545454518,
          3.9948236225315106,
          3.994404019009544,
          3.9940184187454175,
          3.993663764084268,
          3.99333702352669,
          3.993035406687284,
          3.9927564869056487,
          3.992497896663669,
          3.992257343415083,
          3.9920328388950646,
          3.991822478958973,
          3.9916244405605563,
          3.991437079516846,
          3.991258845479547,
          3.9910882826732412,
          3.9909240411294333,
          3.99076486321806,
          3.9906095686402767,
          3.990457056339538,
          3.9903063092761455,
          3.9901563696630027,
          3.990006327176058,
          3.9898553701913193,
          3.9897027359003965,
          3.989547720164499,
          3.989389664662961,
          3.9892278945209467,
          3.98906188617083,
          3.988891124097056,
          3.9887151378643235,
          3.9885335006393574,
          3.9883457255154164,
          3.988151490958926,
          3.9879504645874917,
          3.987742347036409,
          3.9875268710569682,
          3.987303748612519,
          3.987072769463748,
          3.98683374488546,
          3.9865865035649843,
          3.9863308975161815,
          3.98606678511882,
          3.985794054330721,
          3.9855126195327513,
          3.9852224081828056,
          3.984923365185553,
          3.9846154456769622,
          3.9842986198111054,
          3.9839728806994557,
          3.9836382312506706,
          3.983294687623019,
          3.9829422672773496,
          3.9825809875291824,
          3.982210910437839,
          3.981832093949272,
          3.9814446062153057,
          3.981048525176635,
          3.9806439381764043,
          3.980230941601894,
          3.979809616806754,
          3.979379992876955,
          3.978942236984328,
          3.9784964645448935,
          3.9780427970668173,
          3.977581361873118,
          3.9771122918432265,
          3.9766357251720583,
          3.976151790629852,
          3.9756605136996974,
          3.9751621131537997,
          3.9746567307485408,
          3.9741445109455538,
          3.9736256007094095,
          3.973100149318903,
          3.9725683081910295,
          3.972030229915731,
          3.9714859401103673,
          3.9709356681307146,
          3.970379561834811,
          3.969817769926527,
          3.9692504418999586,
          3.9686777279961785,
          3.96809977917159,
          3.967516747077017,
          3.9669287840467042,
          3.966336043096513,
          3.9657386779304074,
          3.9651368429547,
          3.96453068146569,
          3.9639201211420727,
          3.9633054701636947,
          3.96268687055544,
          3.9620644638168456,
          3.9614383909266837,
          3.960808792352459,
          3.9601758080647094,
          3.9595395775553537,
          3.9589002398598376,
          3.9582579335829378,
          3.9576127969272807,
          3.9569649677248497,
          3.956314556779792,
          3.9556614506520673,
          3.95500596280909,
          3.9543482131800376,
          3.953688320010911,
          3.9530263998537474,
          3.952362567557928,
          3.951696936263524,
          3.9510296173964417,
          3.950360720665415,
          3.9496903540604538,
          3.9490186238528313,
          3.94834563459654,
          3.9476714740699963,
          3.9469961559392406,
          3.9463198442106204,
          3.945642630487562,
          3.9449646041544364,
          3.9442858523668884,
          3.943606460043494,
          3.9429265098584807,
          3.942246082235646,
          3.9415652553432654,
          3.940884105090078,
          3.940202705122194,
          3.9395211268209804,
          3.938839454005557,
          3.938157811685988,
          3.9374762193042847,
          3.9367947435470665,
          3.936113449200447,
          3.9354323991637847,
          3.934751654463786,
          3.93407127426906,
          3.933391315904892,
          3.932711834868382,
          3.9320328848438164,
          3.9313545177182743,
          3.9306767835974408,
          3.9299997500158246,
          3.929323517760646,
          3.9286480871441523,
          3.927973505768283,
          3.927299819894531,
          3.926627074470894,
          3.925955313158636,
          3.9252845783588213,
          3.924614911238574,
          3.9239463517570883,
          3.923278938691374,
          3.922612709661707,
          3.9219477011567583,
          3.9212839464074536,
          3.920621475281814,
          3.919960324920899,
          3.919300527123606,
          3.918642112645947,
          3.9179851112234028,
          3.9173295515928146,
          3.9166754615140844,
          3.916022867791443,
          3.9153717962944206,
          3.914722271978503,
          3.9140743189054437,
          3.9134279602631876,
          3.9127832074882587,
          3.9121400656085683,
          3.911498571051855,
          3.9108587419534686,
          3.910220595533895,
          3.9095841481130464,
          3.908949415124307,
          3.9083164111283515,
          3.907685149826724,
          3.907055644075153,
          3.906427905896685,
          3.905801946494524,
          3.905177776264672,
          3.904555407371511,
          3.9039348514469814,
          3.903316113549769,
          3.902699201325101,
          3.9020841216980804,
          3.901470880885718,
          3.900859484408706,
          3.9002499371029673,
          3.8996422431309354,
          3.899036405992659,
          3.898432428536658,
          3.8978303129705107,
          3.897230060871294,
          3.896631697711687,
          3.89603524048521,
          3.895440663744344,
          3.894847968177425,
          3.8942571539145274,
          3.893668220532919,
          3.8930811670624514,
          3.89249599199064,
          3.8919126932678134,
          3.891331268311881,
          3.8907517140131342,
          3.8901740267388187,
          3.8895982023376066,
          3.889024236143881,
          3.888452122981955,
          3.887881857170075,
          3.8873134325243757,
          3.886746842362612,
          3.8861820795078406,
          3.8856191362919157,
          3.8850580045588883,
          3.8844986756682554,
          3.8839411825884,
          3.8833856196640655,
          3.882831865924576,
          3.882279913937047,
          3.881729755919646,
          3.8811813837446647,
          3.880634788941396,
          3.8800899626989387,
          3.879546895868862,
          3.8790055789677322,
          3.878466002179581,
          3.8779281553581897,
          3.877392028029312,
          3.8768576093927436,
          3.876324888324309,
          3.8757938533777265,
          3.8752644927863282,
          3.874736794464748,
          3.8742107460103923,
          3.8736863347048893,
          3.8731635475153965,
          3.8726423710957696,
          3.872122802403609,
          3.8716050115943874,
          3.871088827189534,
          3.8705742379138446,
          3.87006123232938,
          3.869549798838181,
          3.8690399256848615,
          3.8685316009590873,
          3.868024812597959,
          3.8675195483882487,
          3.867015795968606,
          3.866513542831578,
          3.866012776325613,
          3.8655134836568728,
          3.8650156518910332,
          3.8645192679549165,
          3.8640243186380676,
          3.863530790594231,
          3.8630386703427293,
          3.86254794426972,
          3.862058598629414,
          3.861570619545161,
          3.861083993010458,
          3.8605987392835646,
          3.8601148293951177,
          3.8596322469000657,
          3.8591509799586836,
          3.8586710168018317,
          3.858192345736742,
          3.8577149551526855,
          3.857238833526559,
          3.856763969428388,
          3.856290351526736,
          3.8558179685940495,
          3.8553468095118846,
          3.854877100816058,
          3.854408583169326,
          3.8539411290596295,
          3.8534747558760047,
          3.853009563123705,
          3.8525454691410377,
          3.852082462661542,
          3.851620561929304,
          3.8511597493936174,
          3.8507000075363766,
          3.850241324461887,
          3.8497836880990106,
          3.8493270870136014,
          3.848871509352123,
          3.8484169431967716,
          3.847963369352172,
          3.847510715438544,
          3.847059025895534,
          3.8466082886093798,
          3.846158491406071,
          3.8457096220522335,
          3.845261668256056,
          3.844814617668088,
          3.8443684578820325,
          3.8439231764354345,
          3.8434787608103944,
          3.8430351984341424,
          3.8425924716103497,
          3.8421504591080486,
          3.8417092441142504,
          3.841268813906597,
          3.8408291557075036,
          3.840390256684411,
          3.8399521039500693,
          3.839514684562718,
          3.839077985526223,
          3.838641993790216,
          3.8382066962500923,
          3.8377720797470674,
          3.837338131068094,
          3.8369047157775893,
          3.8364719217970276,
          3.836039737207253,
          3.8356081486248397,
          3.835177142608201,
          3.834746705657241,
          3.83431682421296,
          3.833887484657018,
          3.8334586733112523,
          3.8330303764371525,
          3.8326025802352612,
          3.832175270844551,
          3.8317483270384143,
          3.831321816949644,
          3.83089573415098,
          3.8304700645564624,
          3.8300447940117657,
          3.829619908293252,
          3.829195393106997,
          3.828771234087761,
          3.828347416797902,
          3.827923926726246,
          3.827500749286909,
          3.8270778698180585,
          3.8266551814608296,
          3.8262327325539505,
          3.8258105209048217,
          3.8253885315444167,
          3.8249667494179813,
          3.8245451593835025,
          3.8241237462100792,
          3.8237024945762137,
          3.8232813890681396,
          3.8228604141779634,
          3.822439554301874,
          3.8220187937381818,
          3.8215980352398695,
          3.821177309121021,
          3.8207566161154443,
          3.820335939579786,
          3.8199152627592263,
          3.8194945687850796,
          3.81907384067225,
          3.8186530613166783,
          3.8182322134927063,
          3.8178112798503614,
          3.8173902429125968,
          3.8169690850724143,
          3.8165477885899897,
          3.816126335589648,
          3.8157047080568236,
          3.8152828878349223,
          3.8148608566221034,
          3.8144385959680136,
          3.8140160872704048,
          3.81359331177172,
          3.813170250555556,
          3.812746855995389,
          3.8123230983878362,
          3.8118989883446623,
          3.811474505866247,
          3.811049630772896,
          3.8106243427007356,
          3.81019862109752,
          3.809772445218345,
          3.809345794121283,
          3.8089186466629563,
          3.8084909814939842,
          3.808062777054393,
          3.807634011568893,
          3.807204663042137,
          3.806774709253825,
          3.806344127753773,
          3.8059128958569035,
          3.8054809906381153,
          3.8050483889270996,
          3.8046150673031027,
          3.8041810020895586,
          3.803746168254044,
          3.8033105340253375,
          3.8028740822399185,
          3.802436788078746,
          3.8019986264386563,
          3.8015595719266697,
          3.801119598854108,
          3.800678681230758,
          3.8002367927588883,
          3.7997939068273143,
          3.7993499965053674,
          3.7989050345368467,
          3.798458993333937,
          3.79801184497111,
          3.797563561179029,
          3.797114113338405,
          3.7966634724739245,
          3.7962116092481146,
          3.795758493955279,
          3.795304096515471,
          3.79484838646849,
          3.7943913329679306,
          3.7939329089002274,
          3.793473081141684,
          3.7930118167898654,
          3.7925490835527453,
          3.792084848725077,
          3.7916190791831896,
          3.7911517413799145,
          3.7906828013397234,
          3.790212224654075,
          3.789739976477014,
          3.7765824623472586,
          3.7770547105243195,
          3.777525287209968,
          3.777994227250159,
          3.7784615650534343,
          3.7789273345953216,
          3.77939156942299,
          3.77985430266011,
          3.780315567011929,
          3.780775394770472,
          3.7812338188381753,
          3.781690872338735,
          3.7821465823857157,
          3.782600979825524,
          3.7830540951183593,
          3.7835059583441693,
          3.7839565992086497,
          3.7844060470492735,
          3.784854330841355,
          3.7853014792041817,
          3.7857475204070914,
          3.786192482375612,
          3.786636392697559,
          3.787079278629133,
          3.7875211671010027,
          3.7879620847243527,
          3.7884020577969144,
          3.788841112308901,
          3.7892792739489907,
          3.789716568110163,
          3.790153019895582,
          3.7905886541242886,
          3.7910234879598033,
          3.7914575531733474,
          3.7918908747973443,
          3.79232347650836,
          3.792755381727148,
          3.7931866136240178,
          3.7936171951240696,
          3.7940471489123815,
          3.794476497439138,
          3.7949052629246376,
          3.795333467364229,
          3.795761132533201,
          3.7961882799915276,
          3.7966149310885897,
          3.7970411069677645,
          3.7974668285709803,
          3.7978921166431405,
          3.798316991736492,
          3.798741474214907,
          3.799165584258081,
          3.7995893418656337,
          3.8000127364258005,
          3.8004357976419647,
          3.8008585731406495,
          3.8012810818382583,
          3.801703342492348,
          3.802125373705167,
          3.8025471939270683,
          3.802968821459893,
          3.8033902744602344,
          3.803811570942659,
          3.8042327287828415,
          3.804653765720606,
          3.805074699362951,
          3.805495547186923,
          3.8059163265424947,
          3.8063370546553243,
          3.806757748629471,
          3.8071784254500307,
          3.807599101985689,
          3.8080197949912655,
          3.808440521110114,
          3.8088612796084265,
          3.8092820401721186,
          3.809702900048208,
          3.8101238749383843,
          3.8105449804464584,
          3.810966232080324,
          3.811387645253747,
          3.811809235288226,
          3.8122310174146614,
          3.8126530067750664,
          3.813075218424195,
          3.8134976673310743,
          3.8139203556883032,
          3.814343235157154,
          3.814766412596491,
          3.8151899026681466,
          3.8156137199580056,
          3.816037878977242,
          3.8164623941634965,
          3.8168872798820104,
          3.817312550426707,
          3.8177382200212246,
          3.8181643028198886,
          3.818590812908659,
          3.819017756714796,
          3.819445066105506,
          3.819872862307397,
          3.820301159181497,
          3.8207299705272626,
          3.8211593100832046,
          3.8215891915274858,
          3.822019628478446,
          3.8224506344950844,
          3.8228822230774977,
          3.8233144076672723,
          3.823747201647834,
          3.8241806169383388,
          3.824614565617312,
          3.825049182120337,
          3.8254844796604606,
          3.8259204713964676,
          3.8263571704329626,
          3.826794589820314,
          3.8272327425546555,
          3.8276716415777483,
          3.828111299776842,
          3.828551729984495,
          3.8289929449782933,
          3.8294349574805944,
          3.829877684304387,
          3.830321246680639,
          3.830765662305679,
          3.831210943752277,
          3.831657103538333,
          3.832104154126301,
          3.8325521079224782,
          3.8330009772763156,
          3.8334507744796245,
          3.8339015117657786,
          3.834353201308789,
          3.8348058552224167,
          3.8352594290670163,
          3.835713995222368,
          3.836169572883846,
          3.8366261739692553,
          3.837083810332132,
          3.8375424934066213,
          3.838002235263862,
          3.8384630477995487,
          3.838924948531787,
          3.8393879550112824,
          3.83985204899395,
          3.8403172417462494,
          3.840783614929874,
          3.8412510690395707,
          3.8417195866863025,
          3.8421892953821293,
          3.842660454464294,
          3.843132837396981,
          3.843606455298633,
          3.8440813193968038,
          3.84455744102293,
          3.845034831606987,
          3.8455135026720764,
          3.8459934658289283,
          3.8464747327703104,
          3.8469573152653624,
          3.8474412251538093,
          3.847926478880703,
          3.8484131054154056,
          3.8489010844996585,
          3.8493904301399646,
          3.849881156212974,
          3.8503732764644756,
          3.8508668045083123,
          3.851361753825161,
          3.851858137761278,
          3.8523559695271175,
          3.852855262195858,
          3.853356028701823,
          3.8538582818388507,
          3.8543620342584934,
          3.8548672984682035,
          3.855374086829332,
          3.8558824115551062,
          3.8563922847084258,
          3.8569037181996246,
          3.8574167237840893,
          3.8579313130597788,
          3.858447497464632,
          3.8589652882738537,
          3.8594848569660143,
          3.860006033385641,
          3.860528820575134,
          3.861053231880637,
          3.861579280334993,
          3.862106978656573,
          3.8626363392479712,
          3.863167374194554,
          3.8637000952629883,
          3.864234513899557,
          3.8647706412284344,
          3.8653084880498256,
          3.865848064837977,
          3.866389381739107,
          3.8669324485691834,
          3.8674772748116406,
          3.8680238696149094,
          3.8685722417898907,
          3.8691223998072917,
          3.8696743517948207,
          3.87022810553431,
          3.8707836684586447,
          3.8713411615385,
          3.871900490429133,
          3.8724616221621604,
          3.8730245653780853,
          3.873589328232857,
          3.8741559183946204,
          3.8747243430403198,
          3.8752946088521996,
          3.8758667220141256,
          3.8764406882078513,
          3.8770165126090634,
          3.877594199883379,
          3.8781737541821255,
          3.878755179138058,
          3.879338477860885,
          3.879923652932696,
          3.8805107064031636,
          3.881099639784772,
          3.8816904540476695,
          3.882283149614589,
          3.8828777263554546,
          3.8834741835819315,
          3.884072546741539,
          3.8846727988407554,
          3.8852749144069025,
          3.885878891862904,
          3.88648472900118,
          3.887092422973212,
          3.887701970278951,
          3.8883133667559626,
          3.888926607568325,
          3.889541687195346,
          3.8901585994200136,
          3.890777337317226,
          3.8913978932417557,
          3.892020262134917,
          3.8926444323647686,
          3.89327039176693,
          3.8938981299453976,
          3.894527635696969,
          3.895158896998596,
          3.895791900994552,
          3.896426633983291,
          3.8970630814041396,
          3.8977012278237133,
          3.8983410569220998,
          3.898982551478813,
          3.8996256933585034,
          3.9002704461334323,
          3.9009168047756884,
          3.901564757848748,
          3.9022142821646653,
          3.9028653536616877,
          3.903517947384329,
          3.9041720374630593,
          3.9048275970936475,
          3.9054845985161917,
          3.9061430129938506,
          3.906802810791144,
          3.9074639611520587,
          3.9081264322776983,
          3.908790187027003,
          3.909455195531952,
          3.9101214245616185,
          3.910788837627333,
          3.9114573971088187,
          3.912127064229066,
          3.9127977990288807,
          3.913469560341139,
          3.9141423057647757,
          3.9148159916385277,
          3.915490573014397,
          3.9161660036308907,
          3.9168422358860693,
          3.9175192694676855,
          3.918197003588519,
          3.918875370714061,
          3.9195543207386265,
          3.9202338017751366,
          3.9209137601393045,
          3.921594140334031,
          3.9222748850340294,
          3.9229559350706915,
          3.923637229417311,
          3.9243187051745294,
          3.925000297556233,
          3.9256819398758016,
          3.926363612691225,
          3.927045190992439,
          3.9277265909603227,
          3.92840774121351,
          3.929088568105891,
          3.9297689957287254,
          3.9304489459137386,
          3.931128338237133,
          3.931807090024681,
          3.9324851163578067,
          3.933162330080865,
          3.9338386418094853,
          3.934513959940241,
          3.9351881204667847,
          3.935861109723076,
          3.9365328399306985,
          3.93720320653566,
          3.9378721032666864,
          3.938539422133769,
          3.939205053428173,
          3.939868885723992,
          3.940530805881156,
          3.9411906990502823,
          3.941848448679335,
          3.942503936522312,
          3.9431570426500366,
          3.9438074535950944,
          3.9444552827975254,
          3.9451004194531825,
          3.9457427257300823,
          3.9463820634255984,
          3.947018293934954,
          3.9476512782227036,
          3.9482808767969284,
          3.9489069496870903,
          3.9495293564256846,
          3.9501479560339394,
          3.9507626070123174,
          3.9513731673359347,
          3.9519793288249447,
          3.952581163800652,
          3.953178528966758,
          3.953771269916949,
          3.9543592329472617,
          3.9549422650418347,
          3.955520213866423,
          3.9560929277702033,
          3.9566602557967716,
          3.9572220477050557,
          3.9577781540009593,
          3.958328425980612,
          3.9588727157859758,
          3.959410794061274,
          3.959942635189148,
          3.960468086579654,
          3.9609869968157985,
          3.9614992166187855,
          3.9620045990240444,
          3.962502999569942,
          3.9629942765000967,
          3.963478211042303,
          3.963954777713471,
          3.9644238477433626,
          3.964885282937062,
          3.965338950415138,
          3.965784722854573,
          3.9662224787472,
          3.9666521026769987,
          3.9670734274721386,
          3.967486424046649,
          3.9678910110468797,
          3.9682870920855504,
          3.968674579819517,
          3.969053396308084,
          3.969423473399427,
          3.9697847531475943,
          3.9701371734932636,
          3.9704807171209153,
          3.9708153665697004,
          3.97114110568135,
          3.971457931547207,
          3.971765851055798,
          3.9720648940530503,
          3.972355105402996,
          3.972636540200966,
          3.9729092709890645,
          3.9731733833864262,
          3.973428989435229,
          3.9736762307557045,
          3.9739152553339925,
          3.9741462344827636,
          3.974369356927213,
          3.9745848329066535,
          3.9747929504577364,
          3.974993976829171,
          3.975188211385661,
          3.975375986509602,
          3.9755576237345682,
          3.9757336099673006,
          3.9759043720410747,
          3.9760703803911914,
          3.976232150533206,
          3.976390206034744,
          3.976545221770641,
          3.976697856061564,
          3.9768488130463027,
          3.9769988555332474,
          3.97714879514639,
          3.9772995422097828,
          3.9774520545105214,
          3.977607349088305,
          3.977766526999678,
          3.977930768543486,
          3.9781013313497917,
          3.9782795653870906,
          3.978466926430801,
          3.9786649648292176,
          3.9788753247653093,
          3.9790998292853277,
          3.9793403825339135,
          3.9795989727758934,
          3.979877892557529,
          3.9801795093969345,
          3.9805062499545127,
          3.980860904615662,
          3.9812465048797887,
          3.9816661084017553,
          3.982123031324763,
          3.98262118976282,
          3.9831645219651,
          3.9837573270010105,
          3.984404511263038,
          3.9851113093733592,
          3.985883586566618,
          3.9867276810986723,
          3.9876509315250015,
          3.9886609949862897,
          3.9897672704938203,
          3.990979064666499,
          3.99230847499748,
          3.9937674565927495,
          3.9953716517846036,
          3.997137899455528,
          3.999087136342159,
          4.00124386326014,
          4.0036376307235875,
          4.006304251660305,
          4.009286677215787,
          4.0126388161281525,
          4.016428135694422,
          4.0207402979665865,
          4.025686267800373,
          4.0314081156619865,
          4.038084889225799,
          4.045928978690786,
          4.055070756108575
         ]
        },
        {
         "mode": "markers",
         "name": "Target",
         "type": "scatter",
         "x": [
          0,
          2,
          4,
          6,
          8,
          10,
          12,
          14,
          16,
          18,
          20,
          22,
          24,
          26,
          28,
          30,
          32,
          34,
          36,
          38,
          40,
          42,
          44,
          46,
          48,
          50,
          52,
          54,
          56,
          58,
          60,
          62,
          64,
          66,
          68,
          70,
          72,
          74,
          76,
          78,
          80,
          82,
          84,
          86,
          88,
          90,
          92,
          94,
          96,
          98,
          100,
          102,
          104,
          106,
          108,
          110,
          112,
          114,
          116,
          118,
          120,
          122,
          124,
          126,
          128,
          130,
          132,
          134,
          136,
          138,
          140,
          142,
          144,
          146,
          148,
          150,
          152,
          154,
          156,
          158,
          160,
          162,
          164,
          166,
          168,
          170,
          172,
          174,
          176,
          178,
          180,
          182,
          184,
          186,
          188,
          190,
          192,
          194,
          196,
          198,
          200,
          202,
          204,
          206,
          208,
          210,
          212,
          214,
          216,
          218,
          220,
          222,
          224,
          226,
          228,
          230,
          232,
          234,
          236,
          238,
          240,
          242,
          244,
          246,
          248,
          250,
          252,
          254,
          256,
          258,
          260,
          262,
          264,
          266,
          268,
          270,
          272,
          274,
          276,
          278,
          280,
          282,
          284,
          286,
          288,
          290,
          292,
          294,
          296,
          298,
          300,
          302,
          304,
          306,
          308,
          310,
          312,
          314,
          316,
          318,
          320,
          322,
          324,
          326,
          328,
          330,
          332,
          334,
          336,
          338,
          340,
          342,
          344,
          346,
          348,
          350,
          352,
          354,
          356,
          358,
          360,
          362,
          364,
          366,
          368,
          370,
          372,
          374,
          376,
          378,
          380,
          382,
          384,
          386,
          388,
          390,
          392,
          394,
          396,
          398,
          400,
          402,
          404,
          406,
          408,
          410,
          412,
          414,
          416,
          418,
          420,
          422,
          424,
          426,
          428,
          430,
          432,
          434,
          436,
          438,
          440,
          442,
          444,
          446,
          448,
          450,
          452,
          454,
          456,
          458,
          460,
          462,
          464,
          466,
          468,
          470,
          472,
          474,
          476,
          478,
          480,
          482,
          484,
          486,
          488,
          490,
          492,
          494,
          496,
          498,
          500,
          502,
          504,
          506,
          508,
          510,
          512,
          514,
          516,
          518,
          520,
          522,
          524,
          526,
          528,
          530,
          532,
          534,
          536,
          538,
          540,
          542,
          544,
          546,
          548,
          550,
          552,
          554,
          556,
          558,
          560,
          562,
          564,
          566,
          568,
          570,
          572,
          574,
          576,
          578,
          580,
          582,
          584,
          586,
          588,
          590,
          592,
          594,
          596,
          598,
          600,
          602,
          604,
          606,
          608,
          610,
          612,
          614,
          616,
          618,
          620,
          622,
          624,
          626,
          628,
          630,
          632,
          634,
          636,
          638,
          640,
          642,
          644,
          646,
          648,
          650,
          652,
          654,
          656,
          658,
          660,
          662,
          664,
          666,
          668,
          670,
          672,
          674,
          676,
          678,
          680,
          682,
          684,
          686,
          688,
          690,
          692,
          694,
          696,
          698,
          700,
          702,
          704,
          706,
          708,
          710,
          712,
          714,
          716,
          718,
          720,
          722,
          724,
          726,
          728,
          730,
          732,
          734,
          736,
          738,
          740,
          742,
          744,
          746,
          748,
          750,
          752,
          754,
          756,
          758,
          760,
          762,
          764,
          766,
          768,
          770,
          772,
          774,
          776,
          778,
          780,
          782,
          784,
          786,
          788,
          790,
          792,
          794,
          796,
          798,
          800,
          802,
          804,
          806,
          808,
          810,
          812,
          814,
          816,
          818,
          820,
          822,
          824,
          826,
          828,
          830,
          832,
          834,
          836,
          838,
          840,
          842,
          844,
          846,
          848,
          850,
          852,
          854,
          856,
          858,
          860,
          862,
          864,
          866,
          868,
          870,
          872,
          874,
          876,
          878,
          880,
          882,
          884,
          886,
          888,
          890,
          892,
          894,
          896,
          898
         ],
         "y": [
          4.062501671813803,
          4.054539410319349,
          4.0469509702188,
          4.040716852654312,
          4.035616663036129,
          4.031816277939621,
          4.028556637369941,
          4.023252520953265,
          4.021093797625918,
          4.017906637274243,
          4.015956307810984,
          4.011942918912381,
          4.009901998501023,
          4.00942676898662,
          4.007395168669967,
          4.005503665491484,
          4.004688624102559,
          4.001593970420458,
          4.000367910806318,
          3.9989135916674123,
          4.000626777961015,
          3.995965815383811,
          3.996891593608451,
          3.995023512843323,
          3.9958231940964506,
          3.9950682752550044,
          3.9936821698863887,
          3.9952417946933085,
          3.9919630877002925,
          3.992077292691133,
          3.9897224345701936,
          3.989666834185405,
          3.9908822282542404,
          3.989767104369317,
          3.9898984799481014,
          3.9898787744358293,
          3.989355487815732,
          3.988551549011309,
          3.9883484969552603,
          3.987723423067811,
          3.988084230842916,
          3.9872081711897973,
          3.9879686261186174,
          3.987058802583941,
          3.986610378462953,
          3.988435618237697,
          3.987718174992917,
          3.986204729653381,
          3.9850968938402107,
          3.9857566445711314,
          3.9874113470346133,
          3.9872647259658605,
          3.985216050141967,
          3.9854024740230174,
          3.9862872065977277,
          3.9856818682272226,
          3.988387920205815,
          3.985417319596131,
          3.986683962297172,
          3.9856248268450605,
          3.9848568979053165,
          3.9855300403689564,
          3.987104644119444,
          3.9856858121438266,
          3.9848670970292686,
          3.9848320480962407,
          3.9829347524222736,
          3.9857144533450506,
          3.9832486791021635,
          3.9832536326781876,
          3.982870361988309,
          3.981982747317217,
          3.985057234419883,
          3.982283728368807,
          3.983301420771424,
          3.985670506180837,
          3.982466392781381,
          3.983599778036149,
          3.983574248464356,
          3.981912813478331,
          3.9839193723853397,
          3.9814903185965425,
          3.980180795879694,
          3.9804576825032303,
          3.981027269402354,
          3.9797329283407756,
          3.981033723269499,
          3.9790729993574376,
          3.98023865206089,
          3.980200961880302,
          3.979551752835176,
          3.97721917083803,
          3.979198899644011,
          3.9794335944524524,
          3.9780564849230315,
          3.9771085638481876,
          3.976075766617017,
          3.976094853469954,
          3.976236362196337,
          3.975938299508966,
          3.9758454634956166,
          3.974332938474776,
          3.9752616427812377,
          3.9757055027217416,
          3.9747072819874982,
          3.9736779143542504,
          3.9744870983756235,
          3.9721524233153547,
          3.9728867883431573,
          3.9721892985196074,
          3.9722008169547847,
          3.9721070822517937,
          3.9715638490833167,
          3.9720984899697154,
          3.9698207398345655,
          3.969430032177367,
          3.97025833177724,
          3.9684822983876344,
          3.9681444816769926,
          3.9681176644701375,
          3.9666037644146215,
          3.9669594708686726,
          3.965316553079966,
          3.9651913519835693,
          3.9649359450502,
          3.963885912457163,
          3.96488785233714,
          3.964213045497612,
          3.963676073855329,
          3.963782925070786,
          3.962577381306124,
          3.9628903865188514,
          3.960285937224544,
          3.961786134650344,
          3.9597508717180543,
          3.960543407182969,
          3.9600243602475125,
          3.9585114337395075,
          3.956976907113594,
          3.9573623260673356,
          3.957326104002803,
          3.9570164686518643,
          3.9557182184517927,
          3.954351371344057,
          3.956092940679076,
          3.954334811579396,
          3.954491758519353,
          3.953379002638629,
          3.953078918457269,
          3.951729754891708,
          3.9517985480483144,
          3.9501479031775055,
          3.9499488671384073,
          3.948357359080631,
          3.950149558834794,
          3.9472828710509256,
          3.947643820236041,
          3.947633111595751,
          3.94675871598154,
          3.946458319961718,
          3.9446368645882868,
          3.9442846528894524,
          3.9441980070982203,
          3.942328896199319,
          3.943425545937776,
          3.943162670940921,
          3.9421641703421897,
          3.940062010642596,
          3.9404009264454083,
          3.9389985664486336,
          3.9399203905196107,
          3.938110315367697,
          3.938448215344094,
          3.936869839725974,
          3.9359643532655837,
          3.935998163609428,
          3.9356030386642393,
          3.935036508593984,
          3.933706375392261,
          3.932106483740072,
          3.9320758492046735,
          3.935154502456538,
          3.93118092283528,
          3.930687702550584,
          3.9340615454856094,
          3.930472057875644,
          3.930909146625284,
          3.930300001225808,
          3.9275759029719888,
          3.9287021353931353,
          3.9286051122854797,
          3.9258155866077207,
          3.926647121153196,
          3.925370445047287,
          3.9245324778301227,
          3.9239936603334615,
          3.9240261250495077,
          3.9245236315787944,
          3.9232213199337087,
          3.921323816717184,
          3.922232915073141,
          3.9207954971281813,
          3.9205759424690436,
          3.9173784954323314,
          3.918601153526386,
          3.917995194940666,
          3.9184319046460234,
          3.916107341619712,
          3.9166831163508546,
          3.9161707474000056,
          3.915018949989609,
          3.915427537320271,
          3.9131973085644494,
          3.91260943824193,
          3.9121233974273135,
          3.9118019189434925,
          3.9109969451665725,
          3.910175216779547,
          3.909985617728344,
          3.911188600615899,
          3.9107394899043646,
          3.9076053242204347,
          3.909526650382994,
          3.907539008644376,
          3.908849547377377,
          3.9066628454458043,
          3.9044530969441156,
          3.905842634419188,
          3.904911289239463,
          3.905878386409862,
          3.9036236387555703,
          3.9025061979438047,
          3.9014251384955605,
          3.9027435772576253,
          3.9009418861163145,
          3.9005529650266855,
          3.9003644801040633,
          3.899931809512381,
          3.900174450529168,
          3.9002010561322313,
          3.8981321984276867,
          3.897962889742543,
          3.8949938004897833,
          3.896709050415448,
          3.8970309220447663,
          3.894392535482841,
          3.8946804423472607,
          3.8942476628329854,
          3.894878133055512,
          3.8928603672008917,
          3.892975370407696,
          3.891207401954511,
          3.891820346149776,
          3.8902160304332454,
          3.8912876254804876,
          3.8893233097102624,
          3.889635085271182,
          3.887744075231292,
          3.8884392636955787,
          3.887812625204988,
          3.885395175077702,
          3.887135238260075,
          3.8880850991621805,
          3.886823717363579,
          3.886407983877248,
          3.882893591880993,
          3.8834304453741373,
          3.882247417549657,
          3.8825289396277864,
          3.883281741516097,
          3.881408422208535,
          3.8807174848241908,
          3.8813783866097538,
          3.8821663804637754,
          3.8813528788856937,
          3.8803470928268506,
          3.87931893771234,
          3.878191734684007,
          3.8787394324057587,
          3.8775075656113684,
          3.876832601426897,
          3.876583934114612,
          3.875863232368262,
          3.8748672590321513,
          3.875110256616806,
          3.8733931449780794,
          3.875361477478014,
          3.8724251991982794,
          3.8738053175596288,
          3.8712915769625798,
          3.8738384459152826,
          3.8720631101651675,
          3.872137419175949,
          3.870216595458358,
          3.8725314869551815,
          3.869031631913603,
          3.871472926697173,
          3.8692691096800407,
          3.8689101605859824,
          3.8673507737629897,
          3.867994479242333,
          3.866691420250556,
          3.8666322172558325,
          3.8663408682518354,
          3.865878341490152,
          3.8670593192000844,
          3.8657550916066064,
          3.8658711621416444,
          3.8642462473798886,
          3.8653689927585444,
          3.8644777829457033,
          3.8644054961436396,
          3.862705287753087,
          3.85972275119356,
          3.861628776243571,
          3.8608561084374178,
          3.8619786202548965,
          3.8599498886351578,
          3.8613428763006823,
          3.8590180141185577,
          3.8571562866893507,
          3.8577825263357717,
          3.8588369088519276,
          3.8563594756539907,
          3.858301369972617,
          3.8588545437028805,
          3.8569419601458725,
          3.8542078052437714,
          3.8574287121720454,
          3.8543950127571307,
          3.856315673447768,
          3.8541098235936024,
          3.852858089015206,
          3.854022434999794,
          3.8527762035250372,
          3.853664271241685,
          3.8525644690398955,
          3.8523983980024554,
          3.850735734308894,
          3.850690809281896,
          3.8483448300847822,
          3.8504135732664886,
          3.8486537220998787,
          3.8509287339639307,
          3.8484626674270097,
          3.8470404802227383,
          3.847590020973169,
          3.84669989698488,
          3.8473330739882945,
          3.8460434391927523,
          3.845681021067325,
          3.848271649473883,
          3.84594541891417,
          3.843464447070767,
          3.8440661755762906,
          3.8447799208142754,
          3.844495575017909,
          3.8445824622677534,
          3.844791097373005,
          3.8418051407802767,
          3.841294277884329,
          3.8393432615739753,
          3.842338981754351,
          3.840471419131202,
          3.841684326991074,
          3.8401958498503643,
          3.8402874355407017,
          3.8386988867429235,
          3.8391471032019484,
          3.8386520882729744,
          3.8381932625672635,
          3.837141849703172,
          3.8381378947580265,
          3.8361042752062366,
          3.8364498385963266,
          3.8346143317615655,
          3.8349970677449274,
          3.833961237064902,
          3.835678743805275,
          3.8317461404633644,
          3.8339084562934413,
          3.8332021131214087,
          3.8325457494655373,
          3.8333610707353833,
          3.832346712490849,
          3.832237111249023,
          3.83147954419802,
          3.8318216064432744,
          3.829800229473609,
          3.830791215893802,
          3.8301054228701488,
          3.8298397654027405,
          3.828999996783836,
          3.829383120171218,
          3.829418168705414,
          3.8280956387905665,
          3.826648709971538,
          3.827085269579016,
          3.8260899523235143,
          3.8261393634312113,
          3.8244567403921543,
          3.823599503444227,
          3.8260310733760083,
          3.824920522734092,
          3.824443515557668,
          3.8224705592277015,
          3.823235307380567,
          3.824600438476878,
          3.822583781067531,
          3.821659241114903,
          3.821507390451895,
          3.82198193935012,
          3.8227242855260624,
          3.8205995698734263,
          3.8216606141084113,
          3.820287846483065,
          3.818638117738993,
          3.8196440250303594,
          3.818839070370807,
          3.8189082827759515,
          3.818565249577372,
          3.817066672648503,
          3.816926594388768,
          3.816036385958319,
          3.8172595878251774,
          3.817363282217448,
          3.8149581780001838,
          3.8145960498264997,
          3.8153007745612757,
          3.8147202301677177,
          3.8151776930582817,
          3.8127126120467874,
          3.8132203421955766,
          3.8123687655235368,
          3.813723551211185,
          3.811041118109626,
          3.8117156891120265,
          3.811596452097361,
          3.813020106225286,
          3.810168092442087,
          3.8100407155974656,
          3.8084387573682363,
          3.809920794986437,
          3.8080968415022634,
          3.808138531372319,
          3.8081114825729343,
          3.809065616876234,
          3.8071211036915815,
          3.807130022103734,
          3.8066242461590045
         ]
        },
        {
         "line": {
          "width": 4
         },
         "mode": "lines",
         "name": "Model",
         "type": "scatter",
         "x": [
          0,
          2,
          4,
          6,
          8,
          10,
          12,
          14,
          16,
          18,
          20,
          22,
          24,
          26,
          28,
          30,
          32,
          34,
          36,
          38,
          40,
          42,
          44,
          46,
          48,
          50,
          52,
          54,
          56,
          58,
          60,
          62,
          64,
          66,
          68,
          70,
          72,
          74,
          76,
          78,
          80,
          82,
          84,
          86,
          88,
          90,
          92,
          94,
          96,
          98,
          100,
          102,
          104,
          106,
          108,
          110,
          112,
          114,
          116,
          118,
          120,
          122,
          124,
          126,
          128,
          130,
          132,
          134,
          136,
          138,
          140,
          142,
          144,
          146,
          148,
          150,
          152,
          154,
          156,
          158,
          160,
          162,
          164,
          166,
          168,
          170,
          172,
          174,
          176,
          178,
          180,
          182,
          184,
          186,
          188,
          190,
          192,
          194,
          196,
          198,
          200,
          202,
          204,
          206,
          208,
          210,
          212,
          214,
          216,
          218,
          220,
          222,
          224,
          226,
          228,
          230,
          232,
          234,
          236,
          238,
          240,
          242,
          244,
          246,
          248,
          250,
          252,
          254,
          256,
          258,
          260,
          262,
          264,
          266,
          268,
          270,
          272,
          274,
          276,
          278,
          280,
          282,
          284,
          286,
          288,
          290,
          292,
          294,
          296,
          298,
          300,
          302,
          304,
          306,
          308,
          310,
          312,
          314,
          316,
          318,
          320,
          322,
          324,
          326,
          328,
          330,
          332,
          334,
          336,
          338,
          340,
          342,
          344,
          346,
          348,
          350,
          352,
          354,
          356,
          358,
          360,
          362,
          364,
          366,
          368,
          370,
          372,
          374,
          376,
          378,
          380,
          382,
          384,
          386,
          388,
          390,
          392,
          394,
          396,
          398,
          400,
          402,
          404,
          406,
          408,
          410,
          412,
          414,
          416,
          418,
          420,
          422,
          424,
          426,
          428,
          430,
          432,
          434,
          436,
          438,
          440,
          442,
          444,
          446,
          448,
          450,
          452,
          454,
          456,
          458,
          460,
          462,
          464,
          466,
          468,
          470,
          472,
          474,
          476,
          478,
          480,
          482,
          484,
          486,
          488,
          490,
          492,
          494,
          496,
          498,
          500,
          502,
          504,
          506,
          508,
          510,
          512,
          514,
          516,
          518,
          520,
          522,
          524,
          526,
          528,
          530,
          532,
          534,
          536,
          538,
          540,
          542,
          544,
          546,
          548,
          550,
          552,
          554,
          556,
          558,
          560,
          562,
          564,
          566,
          568,
          570,
          572,
          574,
          576,
          578,
          580,
          582,
          584,
          586,
          588,
          590,
          592,
          594,
          596,
          598,
          600,
          602,
          604,
          606,
          608,
          610,
          612,
          614,
          616,
          618,
          620,
          622,
          624,
          626,
          628,
          630,
          632,
          634,
          636,
          638,
          640,
          642,
          644,
          646,
          648,
          650,
          652,
          654,
          656,
          658,
          660,
          662,
          664,
          666,
          668,
          670,
          672,
          674,
          676,
          678,
          680,
          682,
          684,
          686,
          688,
          690,
          692,
          694,
          696,
          698,
          700,
          702,
          704,
          706,
          708,
          710,
          712,
          714,
          716,
          718,
          720,
          722,
          724,
          726,
          728,
          730,
          732,
          734,
          736,
          738,
          740,
          742,
          744,
          746,
          748,
          750,
          752,
          754,
          756,
          758,
          760,
          762,
          764,
          766,
          768,
          770,
          772,
          774,
          776,
          778,
          780,
          782,
          784,
          786,
          788,
          790,
          792,
          794,
          796,
          798,
          800,
          802,
          804,
          806,
          808,
          810,
          812,
          814,
          816,
          818,
          820,
          822,
          824,
          826,
          828,
          830,
          832,
          834,
          836,
          838,
          840,
          842,
          844,
          846,
          848,
          850,
          852,
          854,
          856,
          858,
          860,
          862,
          864,
          866,
          868,
          870,
          872,
          874,
          876,
          878,
          880,
          882,
          884,
          886,
          888,
          890,
          892,
          894,
          896,
          898
         ],
         "y": [
          4.061649513173452,
          4.052507735755664,
          4.044663646290677,
          4.037986872726864,
          4.032265024865251,
          4.027319055031464,
          4.0230068927593,
          4.01921757319303,
          4.015865434280665,
          4.012883008725183,
          4.010216387788465,
          4.007822620325018,
          4.005665893407037,
          4.003716656520406,
          4.001950408849481,
          4.000346213657627,
          3.9988872320623576,
          3.9975578217313767,
          3.996346027558698,
          3.9952397520511673,
          3.994229688589879,
          3.99330643816355,
          3.9924623436314954,
          3.991690066438237,
          3.990983268327916,
          3.990336084065888,
          3.9897432790299776,
          3.9891999468276977,
          3.9887017883896405,
          3.988244865466633,
          3.9878252619446664,
          3.98743966168054,
          3.9870850070193904,
          3.986758266461812,
          3.9864566496224065,
          3.986177729840771,
          3.985919139598791,
          3.9856785863502053,
          3.985454081830187,
          3.9852437218940953,
          3.9850456834956787,
          3.9848583224519682,
          3.9846800884146694,
          3.9845095256083636,
          3.9843452840645557,
          3.9841861061531825,
          3.984030811575399,
          3.9838782992746604,
          3.983727552211268,
          3.983577612598125,
          3.9834275701111803,
          3.9832766131264417,
          3.983123978835519,
          3.9829689630996215,
          3.9828109075980835,
          3.982649137456069,
          3.9824831291059524,
          3.9823123670321783,
          3.982136380799446,
          3.9819547435744798,
          3.981766968450539,
          3.9815727338940485,
          3.981371707522614,
          3.981163589971531,
          3.9809481139920906,
          3.9807249915476413,
          3.98049401239887,
          3.980254987820582,
          3.9800077465001067,
          3.979752140451304,
          3.979488028053942,
          3.9792152972658434,
          3.9789338624678736,
          3.978643651117928,
          3.9783446081206755,
          3.9780366886120846,
          3.977719862746228,
          3.977394123634578,
          3.977059474185793,
          3.976715930558141,
          3.976363510212472,
          3.976002230464305,
          3.9756321533729615,
          3.9752533368843945,
          3.974865849150428,
          3.9744697681117573,
          3.9740651811115266,
          3.9736521845370163,
          3.9732308597418764,
          3.9728012358120774,
          3.9723634799194505,
          3.971917707480016,
          3.9714640400019396,
          3.9710026048082403,
          3.970533534778349,
          3.9700569681071807,
          3.9695730335649744,
          3.9690817566348198,
          3.968583356088922,
          3.968077973683663,
          3.967565753880676,
          3.967046843644532,
          3.9665213922540254,
          3.965989551126152,
          3.9654514728508534,
          3.9649071830454896,
          3.964356911065837,
          3.9638008047699334,
          3.9632390128616493,
          3.962671684835081,
          3.962098970931301,
          3.9615210221067123,
          3.9609379900121393,
          3.9603500269818266,
          3.9597572860316355,
          3.9591599208655297,
          3.9585580858898224,
          3.9579519244008123,
          3.957341364077195,
          3.956726713098817,
          3.9561081134905622,
          3.955485706751968,
          3.954859633861806,
          3.954230035287581,
          3.9535970509998317,
          3.952960820490476,
          3.95232148279496,
          3.95167917651806,
          3.951034039862403,
          3.950386210659972,
          3.9497357997149143,
          3.9490826935871897,
          3.9484272057442125,
          3.94776945611516,
          3.9471095629460335,
          3.9464476427888697,
          3.9457838104930505,
          3.9451181791986465,
          3.944450860331564,
          3.9437819636005376,
          3.943111596995576,
          3.9424398667879537,
          3.9417668775316623,
          3.9410927170051187,
          3.940417398874363,
          3.939741087145743,
          3.9390638734226844,
          3.9383858470895587,
          3.937707095302011,
          3.9370277029786163,
          3.936347752793603,
          3.9356673251707686,
          3.9349864982783878,
          3.9343053480252004,
          3.9336239480573165,
          3.932942369756103,
          3.9322606969406793,
          3.9315790546211105,
          3.930897462239407,
          3.930215986482189,
          3.929534692135569,
          3.928853642098907,
          3.9281728973989085,
          3.927492517204182,
          3.9268125588400142,
          3.926133077803504,
          3.9254541277789388,
          3.9247757606533966,
          3.924098026532563,
          3.923420992950947,
          3.9227447606957684,
          3.9220693300792746,
          3.9213947487034053,
          3.9207210628296534,
          3.9200483174060166,
          3.9193765560937583,
          3.9187058212939436,
          3.9180361541736963,
          3.9173675946922106,
          3.916700181626496,
          3.9160339525968295,
          3.9153689440918806,
          3.914705189342576,
          3.9140427182169364,
          3.9133815678560215,
          3.9127217700587282,
          3.9120633555810693,
          3.911406354158525,
          3.910750794527937,
          3.9100967044492068,
          3.9094441107265654,
          3.908793039229543,
          3.9081435149136254,
          3.907495561840566,
          3.90684920319831,
          3.906204450423381,
          3.9055613085436907,
          3.9049198139869774,
          3.904279984888591,
          3.9036418384690172,
          3.903005391048169,
          3.9023706580594295,
          3.901737654063474,
          3.9011063927618466,
          3.9004768870102753,
          3.8998491488318074,
          3.8992231894296463,
          3.8985990191997946,
          3.8979766503066333,
          3.8973560943821037,
          3.8967373564848913,
          3.8961204442602235,
          3.8955053646332027,
          3.8948921238208403,
          3.8942807273438285,
          3.8936711800380897,
          3.893063486066058,
          3.8924576489277816,
          3.89185367147178,
          3.891251555905633,
          3.8906513038064165,
          3.890052940646809,
          3.8894564834203322,
          3.8888619066794665,
          3.888269211112547,
          3.8876783968496498,
          3.8870894634680413,
          3.886502409997574,
          3.8859172349257625,
          3.8853339362029358,
          3.884752511247003,
          3.8841729569482566,
          3.883595269673941,
          3.883019445272729,
          3.8824454790790033,
          3.881873365917077,
          3.8813031001051974,
          3.880734675459498,
          3.8801680852977345,
          3.879603322442963,
          3.879040379227038,
          3.8784792474940106,
          3.8779199186033777,
          3.8773624255235224,
          3.876806862599188,
          3.8762531088596983,
          3.8757011568721693,
          3.8751509988547683,
          3.874602626679787,
          3.8740560318765183,
          3.873511205634061,
          3.8729681388039845,
          3.8724268219028546,
          3.8718872451147033,
          3.871349398293312,
          3.8708132709644345,
          3.870278852327866,
          3.8697461312594315,
          3.869215096312849,
          3.8686857357214506,
          3.8681580373998705,
          3.8676319889455146,
          3.8671075776400117,
          3.866584790450519,
          3.866063614030892,
          3.8655440453387313,
          3.8650262545295098,
          3.8645100701246564,
          3.863995480848967,
          3.8634824752645023,
          3.8629710417733034,
          3.862461168619984,
          3.8619528438942097,
          3.861446055533081,
          3.860940791323371,
          3.8604370389037284,
          3.8599347857667006,
          3.8594340192607355,
          3.858934726591995,
          3.8584368948261556,
          3.857940510890039,
          3.85744556157319,
          3.8569520335293532,
          3.8564599132778516,
          3.8559691872048423,
          3.855479841564536,
          3.8549918624802832,
          3.8545052359455805,
          3.854019982218687,
          3.85353607233024,
          3.853053489835188,
          3.852572222893806,
          3.852092259736954,
          3.8516135886718645,
          3.851136198087808,
          3.8506600764616814,
          3.8501852123635105,
          3.8497115944618585,
          3.849239211529172,
          3.848768052447007,
          3.84829834375118,
          3.8478298261044483,
          3.847362371994752,
          3.846895998811127,
          3.8464308060588275,
          3.84596671207616,
          3.8455037055966645,
          3.8450418048644264,
          3.8445809923287397,
          3.844121250471499,
          3.8436625673970095,
          3.843204931034133,
          3.8427483299487237,
          3.8422927522872454,
          3.841838186131894,
          3.8413846122872943,
          3.8409319583736665,
          3.8404802688306563,
          3.840029531544502,
          3.8395797343411933,
          3.839130864987356,
          3.8386829111911784,
          3.8382358606032105,
          3.837789700817155,
          3.837344419370557,
          3.8369000037455168,
          3.836456441369265,
          3.836013714545472,
          3.835571702043171,
          3.8351304870493728,
          3.8346900568417195,
          3.834250398642626,
          3.833811499619533,
          3.8333733468851916,
          3.8329359274978403,
          3.8324992284613453,
          3.832063236725338,
          3.8316279391852146,
          3.8311933226821897,
          3.8307593740032164,
          3.8303259587127116,
          3.82989316473215,
          3.8294609801423753,
          3.829029391559962,
          3.8285983855433234,
          3.8281679485923634,
          3.8277380671480823,
          3.8273087275921402,
          3.8268799162463747,
          3.826451619372275,
          3.8260238231703836,
          3.8255965137796735,
          3.8251695699735366,
          3.8247430598847663,
          3.8243169770861023,
          3.823891307491585,
          3.823466036946888,
          3.823041151228374,
          3.8226166360421194,
          3.8221924770228832,
          3.8217686597330243,
          3.8213451696613685,
          3.8209219922220314,
          3.820499112753181,
          3.820076424395952,
          3.819653975489073,
          3.819231763839944,
          3.818809774479539,
          3.8183879923531037,
          3.817966402318625,
          3.8175449891452016,
          3.817123737511336,
          3.816702632003262,
          3.8162816571130858,
          3.8158607972369962,
          3.815440036673304,
          3.815019278174992,
          3.814598552056143,
          3.8141778590505666,
          3.8137571825149084,
          3.8133365056943487,
          3.812915811720202,
          3.8124950836073723,
          3.8120743042518006,
          3.8116534564278286,
          3.8112325227854837,
          3.810811485847719,
          3.8103903280075366,
          3.809969031525112,
          3.8095475785247706,
          3.809125950991946,
          3.8087041307700447,
          3.8082820995572257,
          3.807859838903136,
          3.807437330205527,
          3.8070145547068424,
          3.806591493490678,
          3.8061680989305113,
          3.8057443413229586,
          3.8053202312797847,
          3.8048957488013695,
          3.804470873708018,
          3.804045585635858,
          3.803619864032642,
          3.8031936881534674,
          3.8027670370564053,
          3.8023398895980787,
          3.8019122244291066,
          3.8014840199895152,
          3.8010552545040155,
          3.800625905977259,
          3.8001959521889472,
          3.7997653706888954,
          3.799334138792026,
          3.7989022335732376,
          3.798469631862222,
          3.798036310238225,
          3.797602245024681,
          3.7971674111891662,
          3.79673177696046,
          3.796295325175041,
          3.7958580310138683,
          3.7954198693737786,
          3.794980814861792,
          3.7945408417892303,
          3.7940999241658804,
          3.7936580356940106,
          3.7932151497624367,
          3.7927712394404898,
          3.792326277471969,
          3.7918802362690593,
          3.7914330879062326,
          3.790984804114151,
          3.7905353562735273,
          3.790084715409047,
          3.789632852183237,
          3.7891797368904014,
          3.7887253394505933,
          3.7882696294036124,
          3.787812575903053,
          3.7873541518353497,
          3.7868943240768065,
          3.786433059724988,
          3.7859703264878677,
          3.7855060916601992,
          3.785040322118312,
          3.784572984315037,
          3.7841040442748457,
          3.783633467589197,
          3.7831612194121362
         ]
        }
       ],
       "layout": {
        "autosize": false,
        "height": 576,
        "legend": {
         "font": {
          "size": 12
         },
         "x": 1,
         "xanchor": "right",
         "y": 1,
         "yanchor": "top"
        },
        "margin": {
         "b": 10,
         "l": 10,
         "pad": 4,
         "r": 10,
         "t": 75
        },
        "showlegend": true,
        "template": {
         "data": {
          "bar": [
           {
            "error_x": {
             "color": "#2a3f5f"
            },
            "error_y": {
             "color": "#2a3f5f"
            },
            "marker": {
             "line": {
              "color": "#E5ECF6",
              "width": 0.5
             },
             "pattern": {
              "fillmode": "overlay",
              "size": 10,
              "solidity": 0.2
             }
            },
            "type": "bar"
           }
          ],
          "barpolar": [
           {
            "marker": {
             "line": {
              "color": "#E5ECF6",
              "width": 0.5
             },
             "pattern": {
              "fillmode": "overlay",
              "size": 10,
              "solidity": 0.2
             }
            },
            "type": "barpolar"
           }
          ],
          "carpet": [
           {
            "aaxis": {
             "endlinecolor": "#2a3f5f",
             "gridcolor": "white",
             "linecolor": "white",
             "minorgridcolor": "white",
             "startlinecolor": "#2a3f5f"
            },
            "baxis": {
             "endlinecolor": "#2a3f5f",
             "gridcolor": "white",
             "linecolor": "white",
             "minorgridcolor": "white",
             "startlinecolor": "#2a3f5f"
            },
            "type": "carpet"
           }
          ],
          "choropleth": [
           {
            "colorbar": {
             "outlinewidth": 0,
             "ticks": ""
            },
            "type": "choropleth"
           }
          ],
          "contour": [
           {
            "colorbar": {
             "outlinewidth": 0,
             "ticks": ""
            },
            "colorscale": [
             [
              0,
              "#0d0887"
             ],
             [
              0.1111111111111111,
              "#46039f"
             ],
             [
              0.2222222222222222,
              "#7201a8"
             ],
             [
              0.3333333333333333,
              "#9c179e"
             ],
             [
              0.4444444444444444,
              "#bd3786"
             ],
             [
              0.5555555555555556,
              "#d8576b"
             ],
             [
              0.6666666666666666,
              "#ed7953"
             ],
             [
              0.7777777777777778,
              "#fb9f3a"
             ],
             [
              0.8888888888888888,
              "#fdca26"
             ],
             [
              1,
              "#f0f921"
             ]
            ],
            "type": "contour"
           }
          ],
          "contourcarpet": [
           {
            "colorbar": {
             "outlinewidth": 0,
             "ticks": ""
            },
            "type": "contourcarpet"
           }
          ],
          "heatmap": [
           {
            "colorbar": {
             "outlinewidth": 0,
             "ticks": ""
            },
            "colorscale": [
             [
              0,
              "#0d0887"
             ],
             [
              0.1111111111111111,
              "#46039f"
             ],
             [
              0.2222222222222222,
              "#7201a8"
             ],
             [
              0.3333333333333333,
              "#9c179e"
             ],
             [
              0.4444444444444444,
              "#bd3786"
             ],
             [
              0.5555555555555556,
              "#d8576b"
             ],
             [
              0.6666666666666666,
              "#ed7953"
             ],
             [
              0.7777777777777778,
              "#fb9f3a"
             ],
             [
              0.8888888888888888,
              "#fdca26"
             ],
             [
              1,
              "#f0f921"
             ]
            ],
            "type": "heatmap"
           }
          ],
          "heatmapgl": [
           {
            "colorbar": {
             "outlinewidth": 0,
             "ticks": ""
            },
            "colorscale": [
             [
              0,
              "#0d0887"
             ],
             [
              0.1111111111111111,
              "#46039f"
             ],
             [
              0.2222222222222222,
              "#7201a8"
             ],
             [
              0.3333333333333333,
              "#9c179e"
             ],
             [
              0.4444444444444444,
              "#bd3786"
             ],
             [
              0.5555555555555556,
              "#d8576b"
             ],
             [
              0.6666666666666666,
              "#ed7953"
             ],
             [
              0.7777777777777778,
              "#fb9f3a"
             ],
             [
              0.8888888888888888,
              "#fdca26"
             ],
             [
              1,
              "#f0f921"
             ]
            ],
            "type": "heatmapgl"
           }
          ],
          "histogram": [
           {
            "marker": {
             "pattern": {
              "fillmode": "overlay",
              "size": 10,
              "solidity": 0.2
             }
            },
            "type": "histogram"
           }
          ],
          "histogram2d": [
           {
            "colorbar": {
             "outlinewidth": 0,
             "ticks": ""
            },
            "colorscale": [
             [
              0,
              "#0d0887"
             ],
             [
              0.1111111111111111,
              "#46039f"
             ],
             [
              0.2222222222222222,
              "#7201a8"
             ],
             [
              0.3333333333333333,
              "#9c179e"
             ],
             [
              0.4444444444444444,
              "#bd3786"
             ],
             [
              0.5555555555555556,
              "#d8576b"
             ],
             [
              0.6666666666666666,
              "#ed7953"
             ],
             [
              0.7777777777777778,
              "#fb9f3a"
             ],
             [
              0.8888888888888888,
              "#fdca26"
             ],
             [
              1,
              "#f0f921"
             ]
            ],
            "type": "histogram2d"
           }
          ],
          "histogram2dcontour": [
           {
            "colorbar": {
             "outlinewidth": 0,
             "ticks": ""
            },
            "colorscale": [
             [
              0,
              "#0d0887"
             ],
             [
              0.1111111111111111,
              "#46039f"
             ],
             [
              0.2222222222222222,
              "#7201a8"
             ],
             [
              0.3333333333333333,
              "#9c179e"
             ],
             [
              0.4444444444444444,
              "#bd3786"
             ],
             [
              0.5555555555555556,
              "#d8576b"
             ],
             [
              0.6666666666666666,
              "#ed7953"
             ],
             [
              0.7777777777777778,
              "#fb9f3a"
             ],
             [
              0.8888888888888888,
              "#fdca26"
             ],
             [
              1,
              "#f0f921"
             ]
            ],
            "type": "histogram2dcontour"
           }
          ],
          "mesh3d": [
           {
            "colorbar": {
             "outlinewidth": 0,
             "ticks": ""
            },
            "type": "mesh3d"
           }
          ],
          "parcoords": [
           {
            "line": {
             "colorbar": {
              "outlinewidth": 0,
              "ticks": ""
             }
            },
            "type": "parcoords"
           }
          ],
          "pie": [
           {
            "automargin": true,
            "type": "pie"
           }
          ],
          "scatter": [
           {
            "fillpattern": {
             "fillmode": "overlay",
             "size": 10,
             "solidity": 0.2
            },
            "type": "scatter"
           }
          ],
          "scatter3d": [
           {
            "line": {
             "colorbar": {
              "outlinewidth": 0,
              "ticks": ""
             }
            },
            "marker": {
             "colorbar": {
              "outlinewidth": 0,
              "ticks": ""
             }
            },
            "type": "scatter3d"
           }
          ],
          "scattercarpet": [
           {
            "marker": {
             "colorbar": {
              "outlinewidth": 0,
              "ticks": ""
             }
            },
            "type": "scattercarpet"
           }
          ],
          "scattergeo": [
           {
            "marker": {
             "colorbar": {
              "outlinewidth": 0,
              "ticks": ""
             }
            },
            "type": "scattergeo"
           }
          ],
          "scattergl": [
           {
            "marker": {
             "colorbar": {
              "outlinewidth": 0,
              "ticks": ""
             }
            },
            "type": "scattergl"
           }
          ],
          "scattermapbox": [
           {
            "marker": {
             "colorbar": {
              "outlinewidth": 0,
              "ticks": ""
             }
            },
            "type": "scattermapbox"
           }
          ],
          "scatterpolar": [
           {
            "marker": {
             "colorbar": {
              "outlinewidth": 0,
              "ticks": ""
             }
            },
            "type": "scatterpolar"
           }
          ],
          "scatterpolargl": [
           {
            "marker": {
             "colorbar": {
              "outlinewidth": 0,
              "ticks": ""
             }
            },
            "type": "scatterpolargl"
           }
          ],
          "scatterternary": [
           {
            "marker": {
             "colorbar": {
              "outlinewidth": 0,
              "ticks": ""
             }
            },
            "type": "scatterternary"
           }
          ],
          "surface": [
           {
            "colorbar": {
             "outlinewidth": 0,
             "ticks": ""
            },
            "colorscale": [
             [
              0,
              "#0d0887"
             ],
             [
              0.1111111111111111,
              "#46039f"
             ],
             [
              0.2222222222222222,
              "#7201a8"
             ],
             [
              0.3333333333333333,
              "#9c179e"
             ],
             [
              0.4444444444444444,
              "#bd3786"
             ],
             [
              0.5555555555555556,
              "#d8576b"
             ],
             [
              0.6666666666666666,
              "#ed7953"
             ],
             [
              0.7777777777777778,
              "#fb9f3a"
             ],
             [
              0.8888888888888888,
              "#fdca26"
             ],
             [
              1,
              "#f0f921"
             ]
            ],
            "type": "surface"
           }
          ],
          "table": [
           {
            "cells": {
             "fill": {
              "color": "#EBF0F8"
             },
             "line": {
              "color": "white"
             }
            },
            "header": {
             "fill": {
              "color": "#C8D4E3"
             },
             "line": {
              "color": "white"
             }
            },
            "type": "table"
           }
          ]
         },
         "layout": {
          "annotationdefaults": {
           "arrowcolor": "#2a3f5f",
           "arrowhead": 0,
           "arrowwidth": 1
          },
          "autotypenumbers": "strict",
          "coloraxis": {
           "colorbar": {
            "outlinewidth": 0,
            "ticks": ""
           }
          },
          "colorscale": {
           "diverging": [
            [
             0,
             "#8e0152"
            ],
            [
             0.1,
             "#c51b7d"
            ],
            [
             0.2,
             "#de77ae"
            ],
            [
             0.3,
             "#f1b6da"
            ],
            [
             0.4,
             "#fde0ef"
            ],
            [
             0.5,
             "#f7f7f7"
            ],
            [
             0.6,
             "#e6f5d0"
            ],
            [
             0.7,
             "#b8e186"
            ],
            [
             0.8,
             "#7fbc41"
            ],
            [
             0.9,
             "#4d9221"
            ],
            [
             1,
             "#276419"
            ]
           ],
           "sequential": [
            [
             0,
             "#0d0887"
            ],
            [
             0.1111111111111111,
             "#46039f"
            ],
            [
             0.2222222222222222,
             "#7201a8"
            ],
            [
             0.3333333333333333,
             "#9c179e"
            ],
            [
             0.4444444444444444,
             "#bd3786"
            ],
            [
             0.5555555555555556,
             "#d8576b"
            ],
            [
             0.6666666666666666,
             "#ed7953"
            ],
            [
             0.7777777777777778,
             "#fb9f3a"
            ],
            [
             0.8888888888888888,
             "#fdca26"
            ],
            [
             1,
             "#f0f921"
            ]
           ],
           "sequentialminus": [
            [
             0,
             "#0d0887"
            ],
            [
             0.1111111111111111,
             "#46039f"
            ],
            [
             0.2222222222222222,
             "#7201a8"
            ],
            [
             0.3333333333333333,
             "#9c179e"
            ],
            [
             0.4444444444444444,
             "#bd3786"
            ],
            [
             0.5555555555555556,
             "#d8576b"
            ],
            [
             0.6666666666666666,
             "#ed7953"
            ],
            [
             0.7777777777777778,
             "#fb9f3a"
            ],
            [
             0.8888888888888888,
             "#fdca26"
            ],
            [
             1,
             "#f0f921"
            ]
           ]
          },
          "colorway": [
           "#636efa",
           "#EF553B",
           "#00cc96",
           "#ab63fa",
           "#FFA15A",
           "#19d3f3",
           "#FF6692",
           "#B6E880",
           "#FF97FF",
           "#FECB52"
          ],
          "font": {
           "color": "#2a3f5f"
          },
          "geo": {
           "bgcolor": "white",
           "lakecolor": "white",
           "landcolor": "#E5ECF6",
           "showlakes": true,
           "showland": true,
           "subunitcolor": "white"
          },
          "hoverlabel": {
           "align": "left"
          },
          "hovermode": "closest",
          "mapbox": {
           "style": "light"
          },
          "paper_bgcolor": "white",
          "plot_bgcolor": "#E5ECF6",
          "polar": {
           "angularaxis": {
            "gridcolor": "white",
            "linecolor": "white",
            "ticks": ""
           },
           "bgcolor": "#E5ECF6",
           "radialaxis": {
            "gridcolor": "white",
            "linecolor": "white",
            "ticks": ""
           }
          },
          "scene": {
           "xaxis": {
            "backgroundcolor": "#E5ECF6",
            "gridcolor": "white",
            "gridwidth": 2,
            "linecolor": "white",
            "showbackground": true,
            "ticks": "",
            "zerolinecolor": "white"
           },
           "yaxis": {
            "backgroundcolor": "#E5ECF6",
            "gridcolor": "white",
            "gridwidth": 2,
            "linecolor": "white",
            "showbackground": true,
            "ticks": "",
            "zerolinecolor": "white"
           },
           "zaxis": {
            "backgroundcolor": "#E5ECF6",
            "gridcolor": "white",
            "gridwidth": 2,
            "linecolor": "white",
            "showbackground": true,
            "ticks": "",
            "zerolinecolor": "white"
           }
          },
          "shapedefaults": {
           "line": {
            "color": "#2a3f5f"
           }
          },
          "ternary": {
           "aaxis": {
            "gridcolor": "white",
            "linecolor": "white",
            "ticks": ""
           },
           "baxis": {
            "gridcolor": "white",
            "linecolor": "white",
            "ticks": ""
           },
           "bgcolor": "#E5ECF6",
           "caxis": {
            "gridcolor": "white",
            "linecolor": "white",
            "ticks": ""
           }
          },
          "title": {
           "x": 0.05
          },
          "xaxis": {
           "automargin": true,
           "gridcolor": "white",
           "linecolor": "white",
           "ticks": "",
           "title": {
            "standoff": 15
           },
           "zerolinecolor": "white",
           "zerolinewidth": 2
          },
          "yaxis": {
           "automargin": true,
           "gridcolor": "white",
           "linecolor": "white",
           "ticks": "",
           "title": {
            "standoff": 15
           },
           "zerolinecolor": "white",
           "zerolinewidth": 2
          }
         }
        },
        "title": {
         "text": "Optimised Comparison",
         "x": 0.5
        },
        "width": 1024,
        "xaxis": {
         "tickfont": {
          "size": 12
         },
         "title": {
          "font": {
           "size": 12
          },
          "text": "Time [s]"
         }
        },
        "yaxis": {
         "tickfont": {
          "size": 12
         },
         "title": {
          "font": {
           "size": 12
          },
          "text": "Voltage [V]"
         }
        }
       }
      }
     },
     "metadata": {},
     "output_type": "display_data"
    }
   ],
   "source": [
    "pybop.quick_plot(x, cost, title=\"Optimised Comparison\");"
   ]
  },
  {
   "cell_type": "markdown",
   "metadata": {},
   "source": [
    "### Convergence and Parameter Trajectories\n",
    "\n",
    "To assess the optimization process, we can plot the convergence of the cost function and the trajectories of the parameters:"
   ]
  },
  {
   "cell_type": "code",
   "execution_count": 25,
   "metadata": {
    "id": "N5XYkevi04qD"
   },
   "outputs": [
    {
     "data": {
      "application/vnd.plotly.v1+json": {
       "config": {
        "plotlyServerURL": "https://plot.ly"
       },
       "data": [
        {
         "line": {
          "width": 4
         },
         "mode": "lines",
         "name": "Adam",
         "type": "scatter",
         "x": [
          1,
          2,
          3,
          4,
          5,
          6,
          7,
          8,
          9,
          10,
          11,
          12,
          13,
          14,
          15,
          16,
          17,
          18,
          19,
          20,
          21,
          22,
          23,
          24,
          25,
          26,
          27
         ],
         "y": [
          4.521209583392419,
          0.1254932581706022,
          null,
          null,
          null,
          null,
          null,
          null,
          null,
          null,
          null,
          null,
          null,
          null,
          null,
          null,
          null,
          null,
          null,
          null,
          null,
          null,
          null,
          null,
          null,
          null,
          null
         ]
        }
       ],
       "layout": {
        "autosize": false,
        "height": 576,
        "legend": {
         "font": {
          "size": 12
         },
         "x": 1,
         "xanchor": "right",
         "y": 1,
         "yanchor": "top"
        },
        "margin": {
         "b": 10,
         "l": 10,
         "pad": 4,
         "r": 10,
         "t": 75
        },
        "showlegend": true,
        "template": {
         "data": {
          "bar": [
           {
            "error_x": {
             "color": "#2a3f5f"
            },
            "error_y": {
             "color": "#2a3f5f"
            },
            "marker": {
             "line": {
              "color": "#E5ECF6",
              "width": 0.5
             },
             "pattern": {
              "fillmode": "overlay",
              "size": 10,
              "solidity": 0.2
             }
            },
            "type": "bar"
           }
          ],
          "barpolar": [
           {
            "marker": {
             "line": {
              "color": "#E5ECF6",
              "width": 0.5
             },
             "pattern": {
              "fillmode": "overlay",
              "size": 10,
              "solidity": 0.2
             }
            },
            "type": "barpolar"
           }
          ],
          "carpet": [
           {
            "aaxis": {
             "endlinecolor": "#2a3f5f",
             "gridcolor": "white",
             "linecolor": "white",
             "minorgridcolor": "white",
             "startlinecolor": "#2a3f5f"
            },
            "baxis": {
             "endlinecolor": "#2a3f5f",
             "gridcolor": "white",
             "linecolor": "white",
             "minorgridcolor": "white",
             "startlinecolor": "#2a3f5f"
            },
            "type": "carpet"
           }
          ],
          "choropleth": [
           {
            "colorbar": {
             "outlinewidth": 0,
             "ticks": ""
            },
            "type": "choropleth"
           }
          ],
          "contour": [
           {
            "colorbar": {
             "outlinewidth": 0,
             "ticks": ""
            },
            "colorscale": [
             [
              0,
              "#0d0887"
             ],
             [
              0.1111111111111111,
              "#46039f"
             ],
             [
              0.2222222222222222,
              "#7201a8"
             ],
             [
              0.3333333333333333,
              "#9c179e"
             ],
             [
              0.4444444444444444,
              "#bd3786"
             ],
             [
              0.5555555555555556,
              "#d8576b"
             ],
             [
              0.6666666666666666,
              "#ed7953"
             ],
             [
              0.7777777777777778,
              "#fb9f3a"
             ],
             [
              0.8888888888888888,
              "#fdca26"
             ],
             [
              1,
              "#f0f921"
             ]
            ],
            "type": "contour"
           }
          ],
          "contourcarpet": [
           {
            "colorbar": {
             "outlinewidth": 0,
             "ticks": ""
            },
            "type": "contourcarpet"
           }
          ],
          "heatmap": [
           {
            "colorbar": {
             "outlinewidth": 0,
             "ticks": ""
            },
            "colorscale": [
             [
              0,
              "#0d0887"
             ],
             [
              0.1111111111111111,
              "#46039f"
             ],
             [
              0.2222222222222222,
              "#7201a8"
             ],
             [
              0.3333333333333333,
              "#9c179e"
             ],
             [
              0.4444444444444444,
              "#bd3786"
             ],
             [
              0.5555555555555556,
              "#d8576b"
             ],
             [
              0.6666666666666666,
              "#ed7953"
             ],
             [
              0.7777777777777778,
              "#fb9f3a"
             ],
             [
              0.8888888888888888,
              "#fdca26"
             ],
             [
              1,
              "#f0f921"
             ]
            ],
            "type": "heatmap"
           }
          ],
          "heatmapgl": [
           {
            "colorbar": {
             "outlinewidth": 0,
             "ticks": ""
            },
            "colorscale": [
             [
              0,
              "#0d0887"
             ],
             [
              0.1111111111111111,
              "#46039f"
             ],
             [
              0.2222222222222222,
              "#7201a8"
             ],
             [
              0.3333333333333333,
              "#9c179e"
             ],
             [
              0.4444444444444444,
              "#bd3786"
             ],
             [
              0.5555555555555556,
              "#d8576b"
             ],
             [
              0.6666666666666666,
              "#ed7953"
             ],
             [
              0.7777777777777778,
              "#fb9f3a"
             ],
             [
              0.8888888888888888,
              "#fdca26"
             ],
             [
              1,
              "#f0f921"
             ]
            ],
            "type": "heatmapgl"
           }
          ],
          "histogram": [
           {
            "marker": {
             "pattern": {
              "fillmode": "overlay",
              "size": 10,
              "solidity": 0.2
             }
            },
            "type": "histogram"
           }
          ],
          "histogram2d": [
           {
            "colorbar": {
             "outlinewidth": 0,
             "ticks": ""
            },
            "colorscale": [
             [
              0,
              "#0d0887"
             ],
             [
              0.1111111111111111,
              "#46039f"
             ],
             [
              0.2222222222222222,
              "#7201a8"
             ],
             [
              0.3333333333333333,
              "#9c179e"
             ],
             [
              0.4444444444444444,
              "#bd3786"
             ],
             [
              0.5555555555555556,
              "#d8576b"
             ],
             [
              0.6666666666666666,
              "#ed7953"
             ],
             [
              0.7777777777777778,
              "#fb9f3a"
             ],
             [
              0.8888888888888888,
              "#fdca26"
             ],
             [
              1,
              "#f0f921"
             ]
            ],
            "type": "histogram2d"
           }
          ],
          "histogram2dcontour": [
           {
            "colorbar": {
             "outlinewidth": 0,
             "ticks": ""
            },
            "colorscale": [
             [
              0,
              "#0d0887"
             ],
             [
              0.1111111111111111,
              "#46039f"
             ],
             [
              0.2222222222222222,
              "#7201a8"
             ],
             [
              0.3333333333333333,
              "#9c179e"
             ],
             [
              0.4444444444444444,
              "#bd3786"
             ],
             [
              0.5555555555555556,
              "#d8576b"
             ],
             [
              0.6666666666666666,
              "#ed7953"
             ],
             [
              0.7777777777777778,
              "#fb9f3a"
             ],
             [
              0.8888888888888888,
              "#fdca26"
             ],
             [
              1,
              "#f0f921"
             ]
            ],
            "type": "histogram2dcontour"
           }
          ],
          "mesh3d": [
           {
            "colorbar": {
             "outlinewidth": 0,
             "ticks": ""
            },
            "type": "mesh3d"
           }
          ],
          "parcoords": [
           {
            "line": {
             "colorbar": {
              "outlinewidth": 0,
              "ticks": ""
             }
            },
            "type": "parcoords"
           }
          ],
          "pie": [
           {
            "automargin": true,
            "type": "pie"
           }
          ],
          "scatter": [
           {
            "fillpattern": {
             "fillmode": "overlay",
             "size": 10,
             "solidity": 0.2
            },
            "type": "scatter"
           }
          ],
          "scatter3d": [
           {
            "line": {
             "colorbar": {
              "outlinewidth": 0,
              "ticks": ""
             }
            },
            "marker": {
             "colorbar": {
              "outlinewidth": 0,
              "ticks": ""
             }
            },
            "type": "scatter3d"
           }
          ],
          "scattercarpet": [
           {
            "marker": {
             "colorbar": {
              "outlinewidth": 0,
              "ticks": ""
             }
            },
            "type": "scattercarpet"
           }
          ],
          "scattergeo": [
           {
            "marker": {
             "colorbar": {
              "outlinewidth": 0,
              "ticks": ""
             }
            },
            "type": "scattergeo"
           }
          ],
          "scattergl": [
           {
            "marker": {
             "colorbar": {
              "outlinewidth": 0,
              "ticks": ""
             }
            },
            "type": "scattergl"
           }
          ],
          "scattermapbox": [
           {
            "marker": {
             "colorbar": {
              "outlinewidth": 0,
              "ticks": ""
             }
            },
            "type": "scattermapbox"
           }
          ],
          "scatterpolar": [
           {
            "marker": {
             "colorbar": {
              "outlinewidth": 0,
              "ticks": ""
             }
            },
            "type": "scatterpolar"
           }
          ],
          "scatterpolargl": [
           {
            "marker": {
             "colorbar": {
              "outlinewidth": 0,
              "ticks": ""
             }
            },
            "type": "scatterpolargl"
           }
          ],
          "scatterternary": [
           {
            "marker": {
             "colorbar": {
              "outlinewidth": 0,
              "ticks": ""
             }
            },
            "type": "scatterternary"
           }
          ],
          "surface": [
           {
            "colorbar": {
             "outlinewidth": 0,
             "ticks": ""
            },
            "colorscale": [
             [
              0,
              "#0d0887"
             ],
             [
              0.1111111111111111,
              "#46039f"
             ],
             [
              0.2222222222222222,
              "#7201a8"
             ],
             [
              0.3333333333333333,
              "#9c179e"
             ],
             [
              0.4444444444444444,
              "#bd3786"
             ],
             [
              0.5555555555555556,
              "#d8576b"
             ],
             [
              0.6666666666666666,
              "#ed7953"
             ],
             [
              0.7777777777777778,
              "#fb9f3a"
             ],
             [
              0.8888888888888888,
              "#fdca26"
             ],
             [
              1,
              "#f0f921"
             ]
            ],
            "type": "surface"
           }
          ],
          "table": [
           {
            "cells": {
             "fill": {
              "color": "#EBF0F8"
             },
             "line": {
              "color": "white"
             }
            },
            "header": {
             "fill": {
              "color": "#C8D4E3"
             },
             "line": {
              "color": "white"
             }
            },
            "type": "table"
           }
          ]
         },
         "layout": {
          "annotationdefaults": {
           "arrowcolor": "#2a3f5f",
           "arrowhead": 0,
           "arrowwidth": 1
          },
          "autotypenumbers": "strict",
          "coloraxis": {
           "colorbar": {
            "outlinewidth": 0,
            "ticks": ""
           }
          },
          "colorscale": {
           "diverging": [
            [
             0,
             "#8e0152"
            ],
            [
             0.1,
             "#c51b7d"
            ],
            [
             0.2,
             "#de77ae"
            ],
            [
             0.3,
             "#f1b6da"
            ],
            [
             0.4,
             "#fde0ef"
            ],
            [
             0.5,
             "#f7f7f7"
            ],
            [
             0.6,
             "#e6f5d0"
            ],
            [
             0.7,
             "#b8e186"
            ],
            [
             0.8,
             "#7fbc41"
            ],
            [
             0.9,
             "#4d9221"
            ],
            [
             1,
             "#276419"
            ]
           ],
           "sequential": [
            [
             0,
             "#0d0887"
            ],
            [
             0.1111111111111111,
             "#46039f"
            ],
            [
             0.2222222222222222,
             "#7201a8"
            ],
            [
             0.3333333333333333,
             "#9c179e"
            ],
            [
             0.4444444444444444,
             "#bd3786"
            ],
            [
             0.5555555555555556,
             "#d8576b"
            ],
            [
             0.6666666666666666,
             "#ed7953"
            ],
            [
             0.7777777777777778,
             "#fb9f3a"
            ],
            [
             0.8888888888888888,
             "#fdca26"
            ],
            [
             1,
             "#f0f921"
            ]
           ],
           "sequentialminus": [
            [
             0,
             "#0d0887"
            ],
            [
             0.1111111111111111,
             "#46039f"
            ],
            [
             0.2222222222222222,
             "#7201a8"
            ],
            [
             0.3333333333333333,
             "#9c179e"
            ],
            [
             0.4444444444444444,
             "#bd3786"
            ],
            [
             0.5555555555555556,
             "#d8576b"
            ],
            [
             0.6666666666666666,
             "#ed7953"
            ],
            [
             0.7777777777777778,
             "#fb9f3a"
            ],
            [
             0.8888888888888888,
             "#fdca26"
            ],
            [
             1,
             "#f0f921"
            ]
           ]
          },
          "colorway": [
           "#636efa",
           "#EF553B",
           "#00cc96",
           "#ab63fa",
           "#FFA15A",
           "#19d3f3",
           "#FF6692",
           "#B6E880",
           "#FF97FF",
           "#FECB52"
          ],
          "font": {
           "color": "#2a3f5f"
          },
          "geo": {
           "bgcolor": "white",
           "lakecolor": "white",
           "landcolor": "#E5ECF6",
           "showlakes": true,
           "showland": true,
           "subunitcolor": "white"
          },
          "hoverlabel": {
           "align": "left"
          },
          "hovermode": "closest",
          "mapbox": {
           "style": "light"
          },
          "paper_bgcolor": "white",
          "plot_bgcolor": "#E5ECF6",
          "polar": {
           "angularaxis": {
            "gridcolor": "white",
            "linecolor": "white",
            "ticks": ""
           },
           "bgcolor": "#E5ECF6",
           "radialaxis": {
            "gridcolor": "white",
            "linecolor": "white",
            "ticks": ""
           }
          },
          "scene": {
           "xaxis": {
            "backgroundcolor": "#E5ECF6",
            "gridcolor": "white",
            "gridwidth": 2,
            "linecolor": "white",
            "showbackground": true,
            "ticks": "",
            "zerolinecolor": "white"
           },
           "yaxis": {
            "backgroundcolor": "#E5ECF6",
            "gridcolor": "white",
            "gridwidth": 2,
            "linecolor": "white",
            "showbackground": true,
            "ticks": "",
            "zerolinecolor": "white"
           },
           "zaxis": {
            "backgroundcolor": "#E5ECF6",
            "gridcolor": "white",
            "gridwidth": 2,
            "linecolor": "white",
            "showbackground": true,
            "ticks": "",
            "zerolinecolor": "white"
           }
          },
          "shapedefaults": {
           "line": {
            "color": "#2a3f5f"
           }
          },
          "ternary": {
           "aaxis": {
            "gridcolor": "white",
            "linecolor": "white",
            "ticks": ""
           },
           "baxis": {
            "gridcolor": "white",
            "linecolor": "white",
            "ticks": ""
           },
           "bgcolor": "#E5ECF6",
           "caxis": {
            "gridcolor": "white",
            "linecolor": "white",
            "ticks": ""
           }
          },
          "title": {
           "x": 0.05
          },
          "xaxis": {
           "automargin": true,
           "gridcolor": "white",
           "linecolor": "white",
           "ticks": "",
           "title": {
            "standoff": 15
           },
           "zerolinecolor": "white",
           "zerolinewidth": 2
          },
          "yaxis": {
           "automargin": true,
           "gridcolor": "white",
           "linecolor": "white",
           "ticks": "",
           "title": {
            "standoff": 15
           },
           "zerolinecolor": "white",
           "zerolinewidth": 2
          }
         }
        },
        "title": {
         "text": "Convergence",
         "x": 0.5
        },
        "width": 1024,
        "xaxis": {
         "tickfont": {
          "size": 12
         },
         "title": {
          "font": {
           "size": 12
          },
          "text": "Iteration"
         }
        },
        "yaxis": {
         "tickfont": {
          "size": 12
         },
         "title": {
          "font": {
           "size": 12
          },
          "text": "Cost"
         }
        }
       }
      }
     },
     "metadata": {},
     "output_type": "display_data"
    },
    {
     "data": {
      "application/vnd.plotly.v1+json": {
       "config": {
        "plotlyServerURL": "https://plot.ly"
       },
       "data": [
        {
         "name": "Negative electrode active material volume fraction",
         "type": "scatter",
         "x": [
          0,
          1,
          2,
          3,
          4,
          5,
          6,
          7,
          8,
          9,
          10,
          11,
          12,
          13,
          14,
          15,
          16,
          17,
          18,
          19,
          20,
          21,
          22,
          23,
          24,
          25,
          26
         ],
         "xaxis": "x",
         "y": [
          0.587590436039565,
          0.7409735297905561,
          0.851423384757883,
          0.9275122558955721,
          0.9814845994787721,
          1.0193429546826795,
          1.0446160675724137,
          1.0596175655324414,
          1.065979337665069,
          1.0649141628147876,
          1.0573592811225372,
          1.0440612083046286,
          1.0256289374408822,
          1.0025689496799473,
          0.9753091765017097,
          0.9442159473404113,
          0.9096063151568371,
          0.8717572387941768,
          0.8309125688610659,
          0.7872884619044641,
          0.7410776462030987,
          0.6924528327730778,
          0.6415694794403374,
          0.5885680578682666,
          0.5335759334303626,
          0.47670893970683187,
          0.4180727092978322
         ],
         "yaxis": "y"
        },
        {
         "name": "Positive electrode active material volume fraction",
         "type": "scatter",
         "x": [
          0,
          1,
          2,
          3,
          4,
          5,
          6,
          7,
          8,
          9,
          10,
          11,
          12,
          13,
          14,
          15,
          16,
          17,
          18,
          19,
          20,
          21,
          22,
          23,
          24,
          25,
          26
         ],
         "xaxis": "x2",
         "y": [
          0.4601492816748636,
          0.6135323755408058,
          0.7256395586506177,
          0.8106507751827227,
          0.8787883799050942,
          0.9349742501711878,
          0.9820539444269037,
          1.02186447930756,
          1.0556831247872493,
          1.0844466318847772,
          1.1088701467713866,
          1.129516920593728,
          1.1468417055141433,
          1.161219098432236,
          1.1729627961777438,
          1.1823391139756723,
          1.1895767457913808,
          1.1948739837600517,
          1.1984041723184553,
          1.200319906506285,
          1.2007563180542347,
          1.1998336864691808,
          1.1976595422786243,
          1.194330382417112,
          1.1899330853046932,
          1.1845460904590945,
          1.1782403913179682
         ],
         "yaxis": "y2"
        }
       ],
       "layout": {
        "height": 576,
        "legend": {
         "orientation": "h",
         "x": 1,
         "xanchor": "right",
         "y": 1.02,
         "yanchor": "bottom"
        },
        "template": {
         "data": {
          "bar": [
           {
            "error_x": {
             "color": "#2a3f5f"
            },
            "error_y": {
             "color": "#2a3f5f"
            },
            "marker": {
             "line": {
              "color": "#E5ECF6",
              "width": 0.5
             },
             "pattern": {
              "fillmode": "overlay",
              "size": 10,
              "solidity": 0.2
             }
            },
            "type": "bar"
           }
          ],
          "barpolar": [
           {
            "marker": {
             "line": {
              "color": "#E5ECF6",
              "width": 0.5
             },
             "pattern": {
              "fillmode": "overlay",
              "size": 10,
              "solidity": 0.2
             }
            },
            "type": "barpolar"
           }
          ],
          "carpet": [
           {
            "aaxis": {
             "endlinecolor": "#2a3f5f",
             "gridcolor": "white",
             "linecolor": "white",
             "minorgridcolor": "white",
             "startlinecolor": "#2a3f5f"
            },
            "baxis": {
             "endlinecolor": "#2a3f5f",
             "gridcolor": "white",
             "linecolor": "white",
             "minorgridcolor": "white",
             "startlinecolor": "#2a3f5f"
            },
            "type": "carpet"
           }
          ],
          "choropleth": [
           {
            "colorbar": {
             "outlinewidth": 0,
             "ticks": ""
            },
            "type": "choropleth"
           }
          ],
          "contour": [
           {
            "colorbar": {
             "outlinewidth": 0,
             "ticks": ""
            },
            "colorscale": [
             [
              0,
              "#0d0887"
             ],
             [
              0.1111111111111111,
              "#46039f"
             ],
             [
              0.2222222222222222,
              "#7201a8"
             ],
             [
              0.3333333333333333,
              "#9c179e"
             ],
             [
              0.4444444444444444,
              "#bd3786"
             ],
             [
              0.5555555555555556,
              "#d8576b"
             ],
             [
              0.6666666666666666,
              "#ed7953"
             ],
             [
              0.7777777777777778,
              "#fb9f3a"
             ],
             [
              0.8888888888888888,
              "#fdca26"
             ],
             [
              1,
              "#f0f921"
             ]
            ],
            "type": "contour"
           }
          ],
          "contourcarpet": [
           {
            "colorbar": {
             "outlinewidth": 0,
             "ticks": ""
            },
            "type": "contourcarpet"
           }
          ],
          "heatmap": [
           {
            "colorbar": {
             "outlinewidth": 0,
             "ticks": ""
            },
            "colorscale": [
             [
              0,
              "#0d0887"
             ],
             [
              0.1111111111111111,
              "#46039f"
             ],
             [
              0.2222222222222222,
              "#7201a8"
             ],
             [
              0.3333333333333333,
              "#9c179e"
             ],
             [
              0.4444444444444444,
              "#bd3786"
             ],
             [
              0.5555555555555556,
              "#d8576b"
             ],
             [
              0.6666666666666666,
              "#ed7953"
             ],
             [
              0.7777777777777778,
              "#fb9f3a"
             ],
             [
              0.8888888888888888,
              "#fdca26"
             ],
             [
              1,
              "#f0f921"
             ]
            ],
            "type": "heatmap"
           }
          ],
          "heatmapgl": [
           {
            "colorbar": {
             "outlinewidth": 0,
             "ticks": ""
            },
            "colorscale": [
             [
              0,
              "#0d0887"
             ],
             [
              0.1111111111111111,
              "#46039f"
             ],
             [
              0.2222222222222222,
              "#7201a8"
             ],
             [
              0.3333333333333333,
              "#9c179e"
             ],
             [
              0.4444444444444444,
              "#bd3786"
             ],
             [
              0.5555555555555556,
              "#d8576b"
             ],
             [
              0.6666666666666666,
              "#ed7953"
             ],
             [
              0.7777777777777778,
              "#fb9f3a"
             ],
             [
              0.8888888888888888,
              "#fdca26"
             ],
             [
              1,
              "#f0f921"
             ]
            ],
            "type": "heatmapgl"
           }
          ],
          "histogram": [
           {
            "marker": {
             "pattern": {
              "fillmode": "overlay",
              "size": 10,
              "solidity": 0.2
             }
            },
            "type": "histogram"
           }
          ],
          "histogram2d": [
           {
            "colorbar": {
             "outlinewidth": 0,
             "ticks": ""
            },
            "colorscale": [
             [
              0,
              "#0d0887"
             ],
             [
              0.1111111111111111,
              "#46039f"
             ],
             [
              0.2222222222222222,
              "#7201a8"
             ],
             [
              0.3333333333333333,
              "#9c179e"
             ],
             [
              0.4444444444444444,
              "#bd3786"
             ],
             [
              0.5555555555555556,
              "#d8576b"
             ],
             [
              0.6666666666666666,
              "#ed7953"
             ],
             [
              0.7777777777777778,
              "#fb9f3a"
             ],
             [
              0.8888888888888888,
              "#fdca26"
             ],
             [
              1,
              "#f0f921"
             ]
            ],
            "type": "histogram2d"
           }
          ],
          "histogram2dcontour": [
           {
            "colorbar": {
             "outlinewidth": 0,
             "ticks": ""
            },
            "colorscale": [
             [
              0,
              "#0d0887"
             ],
             [
              0.1111111111111111,
              "#46039f"
             ],
             [
              0.2222222222222222,
              "#7201a8"
             ],
             [
              0.3333333333333333,
              "#9c179e"
             ],
             [
              0.4444444444444444,
              "#bd3786"
             ],
             [
              0.5555555555555556,
              "#d8576b"
             ],
             [
              0.6666666666666666,
              "#ed7953"
             ],
             [
              0.7777777777777778,
              "#fb9f3a"
             ],
             [
              0.8888888888888888,
              "#fdca26"
             ],
             [
              1,
              "#f0f921"
             ]
            ],
            "type": "histogram2dcontour"
           }
          ],
          "mesh3d": [
           {
            "colorbar": {
             "outlinewidth": 0,
             "ticks": ""
            },
            "type": "mesh3d"
           }
          ],
          "parcoords": [
           {
            "line": {
             "colorbar": {
              "outlinewidth": 0,
              "ticks": ""
             }
            },
            "type": "parcoords"
           }
          ],
          "pie": [
           {
            "automargin": true,
            "type": "pie"
           }
          ],
          "scatter": [
           {
            "fillpattern": {
             "fillmode": "overlay",
             "size": 10,
             "solidity": 0.2
            },
            "type": "scatter"
           }
          ],
          "scatter3d": [
           {
            "line": {
             "colorbar": {
              "outlinewidth": 0,
              "ticks": ""
             }
            },
            "marker": {
             "colorbar": {
              "outlinewidth": 0,
              "ticks": ""
             }
            },
            "type": "scatter3d"
           }
          ],
          "scattercarpet": [
           {
            "marker": {
             "colorbar": {
              "outlinewidth": 0,
              "ticks": ""
             }
            },
            "type": "scattercarpet"
           }
          ],
          "scattergeo": [
           {
            "marker": {
             "colorbar": {
              "outlinewidth": 0,
              "ticks": ""
             }
            },
            "type": "scattergeo"
           }
          ],
          "scattergl": [
           {
            "marker": {
             "colorbar": {
              "outlinewidth": 0,
              "ticks": ""
             }
            },
            "type": "scattergl"
           }
          ],
          "scattermapbox": [
           {
            "marker": {
             "colorbar": {
              "outlinewidth": 0,
              "ticks": ""
             }
            },
            "type": "scattermapbox"
           }
          ],
          "scatterpolar": [
           {
            "marker": {
             "colorbar": {
              "outlinewidth": 0,
              "ticks": ""
             }
            },
            "type": "scatterpolar"
           }
          ],
          "scatterpolargl": [
           {
            "marker": {
             "colorbar": {
              "outlinewidth": 0,
              "ticks": ""
             }
            },
            "type": "scatterpolargl"
           }
          ],
          "scatterternary": [
           {
            "marker": {
             "colorbar": {
              "outlinewidth": 0,
              "ticks": ""
             }
            },
            "type": "scatterternary"
           }
          ],
          "surface": [
           {
            "colorbar": {
             "outlinewidth": 0,
             "ticks": ""
            },
            "colorscale": [
             [
              0,
              "#0d0887"
             ],
             [
              0.1111111111111111,
              "#46039f"
             ],
             [
              0.2222222222222222,
              "#7201a8"
             ],
             [
              0.3333333333333333,
              "#9c179e"
             ],
             [
              0.4444444444444444,
              "#bd3786"
             ],
             [
              0.5555555555555556,
              "#d8576b"
             ],
             [
              0.6666666666666666,
              "#ed7953"
             ],
             [
              0.7777777777777778,
              "#fb9f3a"
             ],
             [
              0.8888888888888888,
              "#fdca26"
             ],
             [
              1,
              "#f0f921"
             ]
            ],
            "type": "surface"
           }
          ],
          "table": [
           {
            "cells": {
             "fill": {
              "color": "#EBF0F8"
             },
             "line": {
              "color": "white"
             }
            },
            "header": {
             "fill": {
              "color": "#C8D4E3"
             },
             "line": {
              "color": "white"
             }
            },
            "type": "table"
           }
          ]
         },
         "layout": {
          "annotationdefaults": {
           "arrowcolor": "#2a3f5f",
           "arrowhead": 0,
           "arrowwidth": 1
          },
          "autotypenumbers": "strict",
          "coloraxis": {
           "colorbar": {
            "outlinewidth": 0,
            "ticks": ""
           }
          },
          "colorscale": {
           "diverging": [
            [
             0,
             "#8e0152"
            ],
            [
             0.1,
             "#c51b7d"
            ],
            [
             0.2,
             "#de77ae"
            ],
            [
             0.3,
             "#f1b6da"
            ],
            [
             0.4,
             "#fde0ef"
            ],
            [
             0.5,
             "#f7f7f7"
            ],
            [
             0.6,
             "#e6f5d0"
            ],
            [
             0.7,
             "#b8e186"
            ],
            [
             0.8,
             "#7fbc41"
            ],
            [
             0.9,
             "#4d9221"
            ],
            [
             1,
             "#276419"
            ]
           ],
           "sequential": [
            [
             0,
             "#0d0887"
            ],
            [
             0.1111111111111111,
             "#46039f"
            ],
            [
             0.2222222222222222,
             "#7201a8"
            ],
            [
             0.3333333333333333,
             "#9c179e"
            ],
            [
             0.4444444444444444,
             "#bd3786"
            ],
            [
             0.5555555555555556,
             "#d8576b"
            ],
            [
             0.6666666666666666,
             "#ed7953"
            ],
            [
             0.7777777777777778,
             "#fb9f3a"
            ],
            [
             0.8888888888888888,
             "#fdca26"
            ],
            [
             1,
             "#f0f921"
            ]
           ],
           "sequentialminus": [
            [
             0,
             "#0d0887"
            ],
            [
             0.1111111111111111,
             "#46039f"
            ],
            [
             0.2222222222222222,
             "#7201a8"
            ],
            [
             0.3333333333333333,
             "#9c179e"
            ],
            [
             0.4444444444444444,
             "#bd3786"
            ],
            [
             0.5555555555555556,
             "#d8576b"
            ],
            [
             0.6666666666666666,
             "#ed7953"
            ],
            [
             0.7777777777777778,
             "#fb9f3a"
            ],
            [
             0.8888888888888888,
             "#fdca26"
            ],
            [
             1,
             "#f0f921"
            ]
           ]
          },
          "colorway": [
           "#636efa",
           "#EF553B",
           "#00cc96",
           "#ab63fa",
           "#FFA15A",
           "#19d3f3",
           "#FF6692",
           "#B6E880",
           "#FF97FF",
           "#FECB52"
          ],
          "font": {
           "color": "#2a3f5f"
          },
          "geo": {
           "bgcolor": "white",
           "lakecolor": "white",
           "landcolor": "#E5ECF6",
           "showlakes": true,
           "showland": true,
           "subunitcolor": "white"
          },
          "hoverlabel": {
           "align": "left"
          },
          "hovermode": "closest",
          "mapbox": {
           "style": "light"
          },
          "paper_bgcolor": "white",
          "plot_bgcolor": "#E5ECF6",
          "polar": {
           "angularaxis": {
            "gridcolor": "white",
            "linecolor": "white",
            "ticks": ""
           },
           "bgcolor": "#E5ECF6",
           "radialaxis": {
            "gridcolor": "white",
            "linecolor": "white",
            "ticks": ""
           }
          },
          "scene": {
           "xaxis": {
            "backgroundcolor": "#E5ECF6",
            "gridcolor": "white",
            "gridwidth": 2,
            "linecolor": "white",
            "showbackground": true,
            "ticks": "",
            "zerolinecolor": "white"
           },
           "yaxis": {
            "backgroundcolor": "#E5ECF6",
            "gridcolor": "white",
            "gridwidth": 2,
            "linecolor": "white",
            "showbackground": true,
            "ticks": "",
            "zerolinecolor": "white"
           },
           "zaxis": {
            "backgroundcolor": "#E5ECF6",
            "gridcolor": "white",
            "gridwidth": 2,
            "linecolor": "white",
            "showbackground": true,
            "ticks": "",
            "zerolinecolor": "white"
           }
          },
          "shapedefaults": {
           "line": {
            "color": "#2a3f5f"
           }
          },
          "ternary": {
           "aaxis": {
            "gridcolor": "white",
            "linecolor": "white",
            "ticks": ""
           },
           "baxis": {
            "gridcolor": "white",
            "linecolor": "white",
            "ticks": ""
           },
           "bgcolor": "#E5ECF6",
           "caxis": {
            "gridcolor": "white",
            "linecolor": "white",
            "ticks": ""
           }
          },
          "title": {
           "x": 0.05
          },
          "xaxis": {
           "automargin": true,
           "gridcolor": "white",
           "linecolor": "white",
           "ticks": "",
           "title": {
            "standoff": 15
           },
           "zerolinecolor": "white",
           "zerolinewidth": 2
          },
          "yaxis": {
           "automargin": true,
           "gridcolor": "white",
           "linecolor": "white",
           "ticks": "",
           "title": {
            "standoff": 15
           },
           "zerolinecolor": "white",
           "zerolinewidth": 2
          }
         }
        },
        "title": {
         "text": "Parameter Convergence"
        },
        "width": 1024,
        "xaxis": {
         "anchor": "y",
         "domain": [
          0,
          0.45
         ],
         "title": {
          "text": "Function Call"
         }
        },
        "xaxis2": {
         "anchor": "y2",
         "domain": [
          0.55,
          1
         ],
         "title": {
          "text": "Function Call"
         }
        },
        "yaxis": {
         "anchor": "x",
         "domain": [
          0,
          1
         ],
         "title": {
          "text": "Negative electrode active material volume fraction"
         }
        },
        "yaxis2": {
         "anchor": "x2",
         "domain": [
          0,
          1
         ],
         "title": {
          "text": "Positive electrode active material volume fraction"
         }
        }
       }
      }
     },
     "metadata": {},
     "output_type": "display_data"
    }
   ],
   "source": [
    "pybop.plot_convergence(optim)\n",
    "pybop.plot_parameters(optim);"
   ]
  },
  {
   "cell_type": "markdown",
   "metadata": {},
   "source": [
    "### Cost Landscape\n",
    "\n",
    "Finally, we can visualize the cost landscape and the path taken by the optimizer:"
   ]
  },
  {
   "cell_type": "code",
   "execution_count": 26,
   "metadata": {},
   "outputs": [
    {
     "data": {
      "application/vnd.plotly.v1+json": {
       "config": {
        "plotlyServerURL": "https://plot.ly"
       },
       "data": [
        {
         "type": "contour",
         "x": [
          0.5,
          0.5214285714285715,
          0.5428571428571428,
          0.5642857142857143,
          0.5857142857142857,
          0.6071428571428572,
          0.6285714285714286,
          0.65,
          0.6714285714285715,
          0.6928571428571428,
          0.7142857142857143,
          0.7357142857142858,
          0.7571428571428571,
          0.7785714285714287,
          0.8
         ],
         "y": [
          0.4,
          0.42142857142857143,
          0.4428571428571429,
          0.4642857142857143,
          0.4857142857142857,
          0.5071428571428571,
          0.5285714285714286,
          0.55,
          0.5714285714285714,
          0.5928571428571429,
          0.6142857142857143,
          0.6357142857142857,
          0.6571428571428571,
          0.6785714285714286,
          0.7
         ],
         "z": [
          [
           11.330269947733937,
           10.811928740710844,
           10.328882265727202,
           9.89499682604525,
           9.521822346104845,
           9.211717713340473,
           8.956603577849947,
           8.743430128712893,
           8.559949777408967,
           8.39710243664611,
           8.24889961414955,
           8.11155054464076,
           null,
           null,
           null
          ],
          [
           9.014925831610197,
           8.553723446906329,
           8.123800630754676,
           7.737790213876439,
           7.406253834509807,
           7.131401297143623,
           6.905986851753443,
           6.718220191598258,
           6.557076725806079,
           6.414419512376294,
           6.284881403797242,
           6.165067613111573,
           null,
           null,
           null
          ],
          [
           7.099376044051603,
           6.692021619890155,
           6.31269730246763,
           5.972546780060217,
           5.680950975944914,
           5.439807736077199,
           5.242589379356271,
           5.07875457021344,
           4.938499185366888,
           4.814615626705183,
           4.702360589292002,
           4.598738319045039,
           null,
           null,
           null
          ],
          [
           5.541384396605047,
           5.183453499286376,
           4.85110815273978,
           4.553897678797431,
           4.299846115606059,
           4.090373911074973,
           3.9195358797742212,
           3.77796140189141,
           3.657024122317591,
           3.550421117418589,
           3.4540197863356363,
           3.365213978459071,
           null,
           null,
           null
          ],
          [
           4.295526553295418,
           3.9819515161944246,
           3.6921576397428235,
           3.4341213991831214,
           3.2145001419495918,
           3.0341214624414876,
           2.887487481622607,
           2.7662796055638013,
           2.6629618586658466,
           2.572077593608494,
           2.490068146412312,
           2.414693664033629,
           null,
           null,
           null
          ],
          [
           3.3112086840725365,
           3.036933190001017,
           2.785006193266575,
           2.5620319784891588,
           2.3733495051383064,
           2.219185484564524,
           2.094385704401664,
           1.9915531130529194,
           1.9041267324238795,
           1.827413877063981,
           1.7583749110616465,
           1.6951023809335148,
           null,
           null,
           null
          ],
          [
           2.537499209447039,
           2.297970701921439,
           2.079547142114841,
           1.8876586997170817,
           1.726482738658519,
           1.595691729853479,
           1.4904106256446368,
           1.4040420976734729,
           1.3308804418702267,
           1.2669060483229369,
           1.2095377820469606,
           1.1571620813786134,
           null,
           null,
           null
          ],
          [
           1.9291856899117428,
           1.7205760420554097,
           1.5319016629333353,
           1.3676048679400892,
           1.2308735525381334,
           1.1209158398126853,
           1.033068241304827,
           0.9614637482078938,
           0.9011327647381925,
           0.8486436228674586,
           0.8018163776859416,
           0.7592963666498921,
           null,
           null,
           null
          ],
          [
           1.449919483016957,
           1.2691188153000306,
           1.1071292350447213,
           0.9675246331856576,
           0.8526701969348967,
           0.7613800022467664,
           0.6892228373944369,
           0.6309439217400394,
           0.5822318951221453,
           0.5401710036122102,
           0.5029335660713108,
           0.46939056678139157,
           null,
           null,
           null
          ],
          [
           1.0722315228282115,
           0.9167982414521217,
           0.7789936055339796,
           0.6617381503913187,
           0.5666709428389584,
           0.4922850627903033,
           0.4343732082198215,
           0.3882308034791506,
           0.3501326696959011,
           0.3176210131855748,
           0.2891811030442856,
           0.26388131267672993,
           null,
           null,
           null
          ],
          [
           0.7757229060597397,
           0.6436709958933234,
           0.5281066232912515,
           0.43133185153746,
           0.3543774570156617,
           0.2954741455130202,
           0.2506336534877685,
           0.2156545135851295,
           0.1873418508466862,
           0.1636506957775685,
           0.14334744622511125,
           0.12568049384311014,
           null,
           null,
           null
          ],
          [
           0.5454534256640861,
           0.4351895512960567,
           0.3402795365289646,
           0.2624763065466594,
           0.20227847904998109,
           0.1576991330698127,
           0.12496568094161395,
           0.10034310868321532,
           0.0811234903585089,
           0.06563988225730882,
           0.05291372299984055,
           0.04236073337662288,
           null,
           null,
           null
          ],
          [
           0.37016324815777685,
           0.28037438014665095,
           0.20481914671578744,
           0.14475335433583644,
           0.10020058310321385,
           0.06899015585863881,
           0.0475619300711303,
           0.032618434504420174,
           0.021904898602354516,
           0.014104433338070346,
           0.008476199089539858,
           0.004588948164989829,
           null,
           null,
           null
          ],
          [
           null,
           null,
           null,
           null,
           null,
           null,
           null,
           null,
           null,
           null,
           null,
           null,
           null,
           null,
           null
          ],
          [
           null,
           null,
           null,
           null,
           null,
           null,
           null,
           null,
           null,
           null,
           null,
           null,
           null,
           null,
           null
          ]
         ]
        }
       ],
       "layout": {
        "height": 600,
        "template": {
         "data": {
          "bar": [
           {
            "error_x": {
             "color": "#2a3f5f"
            },
            "error_y": {
             "color": "#2a3f5f"
            },
            "marker": {
             "line": {
              "color": "#E5ECF6",
              "width": 0.5
             },
             "pattern": {
              "fillmode": "overlay",
              "size": 10,
              "solidity": 0.2
             }
            },
            "type": "bar"
           }
          ],
          "barpolar": [
           {
            "marker": {
             "line": {
              "color": "#E5ECF6",
              "width": 0.5
             },
             "pattern": {
              "fillmode": "overlay",
              "size": 10,
              "solidity": 0.2
             }
            },
            "type": "barpolar"
           }
          ],
          "carpet": [
           {
            "aaxis": {
             "endlinecolor": "#2a3f5f",
             "gridcolor": "white",
             "linecolor": "white",
             "minorgridcolor": "white",
             "startlinecolor": "#2a3f5f"
            },
            "baxis": {
             "endlinecolor": "#2a3f5f",
             "gridcolor": "white",
             "linecolor": "white",
             "minorgridcolor": "white",
             "startlinecolor": "#2a3f5f"
            },
            "type": "carpet"
           }
          ],
          "choropleth": [
           {
            "colorbar": {
             "outlinewidth": 0,
             "ticks": ""
            },
            "type": "choropleth"
           }
          ],
          "contour": [
           {
            "colorbar": {
             "outlinewidth": 0,
             "ticks": ""
            },
            "colorscale": [
             [
              0,
              "#0d0887"
             ],
             [
              0.1111111111111111,
              "#46039f"
             ],
             [
              0.2222222222222222,
              "#7201a8"
             ],
             [
              0.3333333333333333,
              "#9c179e"
             ],
             [
              0.4444444444444444,
              "#bd3786"
             ],
             [
              0.5555555555555556,
              "#d8576b"
             ],
             [
              0.6666666666666666,
              "#ed7953"
             ],
             [
              0.7777777777777778,
              "#fb9f3a"
             ],
             [
              0.8888888888888888,
              "#fdca26"
             ],
             [
              1,
              "#f0f921"
             ]
            ],
            "type": "contour"
           }
          ],
          "contourcarpet": [
           {
            "colorbar": {
             "outlinewidth": 0,
             "ticks": ""
            },
            "type": "contourcarpet"
           }
          ],
          "heatmap": [
           {
            "colorbar": {
             "outlinewidth": 0,
             "ticks": ""
            },
            "colorscale": [
             [
              0,
              "#0d0887"
             ],
             [
              0.1111111111111111,
              "#46039f"
             ],
             [
              0.2222222222222222,
              "#7201a8"
             ],
             [
              0.3333333333333333,
              "#9c179e"
             ],
             [
              0.4444444444444444,
              "#bd3786"
             ],
             [
              0.5555555555555556,
              "#d8576b"
             ],
             [
              0.6666666666666666,
              "#ed7953"
             ],
             [
              0.7777777777777778,
              "#fb9f3a"
             ],
             [
              0.8888888888888888,
              "#fdca26"
             ],
             [
              1,
              "#f0f921"
             ]
            ],
            "type": "heatmap"
           }
          ],
          "heatmapgl": [
           {
            "colorbar": {
             "outlinewidth": 0,
             "ticks": ""
            },
            "colorscale": [
             [
              0,
              "#0d0887"
             ],
             [
              0.1111111111111111,
              "#46039f"
             ],
             [
              0.2222222222222222,
              "#7201a8"
             ],
             [
              0.3333333333333333,
              "#9c179e"
             ],
             [
              0.4444444444444444,
              "#bd3786"
             ],
             [
              0.5555555555555556,
              "#d8576b"
             ],
             [
              0.6666666666666666,
              "#ed7953"
             ],
             [
              0.7777777777777778,
              "#fb9f3a"
             ],
             [
              0.8888888888888888,
              "#fdca26"
             ],
             [
              1,
              "#f0f921"
             ]
            ],
            "type": "heatmapgl"
           }
          ],
          "histogram": [
           {
            "marker": {
             "pattern": {
              "fillmode": "overlay",
              "size": 10,
              "solidity": 0.2
             }
            },
            "type": "histogram"
           }
          ],
          "histogram2d": [
           {
            "colorbar": {
             "outlinewidth": 0,
             "ticks": ""
            },
            "colorscale": [
             [
              0,
              "#0d0887"
             ],
             [
              0.1111111111111111,
              "#46039f"
             ],
             [
              0.2222222222222222,
              "#7201a8"
             ],
             [
              0.3333333333333333,
              "#9c179e"
             ],
             [
              0.4444444444444444,
              "#bd3786"
             ],
             [
              0.5555555555555556,
              "#d8576b"
             ],
             [
              0.6666666666666666,
              "#ed7953"
             ],
             [
              0.7777777777777778,
              "#fb9f3a"
             ],
             [
              0.8888888888888888,
              "#fdca26"
             ],
             [
              1,
              "#f0f921"
             ]
            ],
            "type": "histogram2d"
           }
          ],
          "histogram2dcontour": [
           {
            "colorbar": {
             "outlinewidth": 0,
             "ticks": ""
            },
            "colorscale": [
             [
              0,
              "#0d0887"
             ],
             [
              0.1111111111111111,
              "#46039f"
             ],
             [
              0.2222222222222222,
              "#7201a8"
             ],
             [
              0.3333333333333333,
              "#9c179e"
             ],
             [
              0.4444444444444444,
              "#bd3786"
             ],
             [
              0.5555555555555556,
              "#d8576b"
             ],
             [
              0.6666666666666666,
              "#ed7953"
             ],
             [
              0.7777777777777778,
              "#fb9f3a"
             ],
             [
              0.8888888888888888,
              "#fdca26"
             ],
             [
              1,
              "#f0f921"
             ]
            ],
            "type": "histogram2dcontour"
           }
          ],
          "mesh3d": [
           {
            "colorbar": {
             "outlinewidth": 0,
             "ticks": ""
            },
            "type": "mesh3d"
           }
          ],
          "parcoords": [
           {
            "line": {
             "colorbar": {
              "outlinewidth": 0,
              "ticks": ""
             }
            },
            "type": "parcoords"
           }
          ],
          "pie": [
           {
            "automargin": true,
            "type": "pie"
           }
          ],
          "scatter": [
           {
            "fillpattern": {
             "fillmode": "overlay",
             "size": 10,
             "solidity": 0.2
            },
            "type": "scatter"
           }
          ],
          "scatter3d": [
           {
            "line": {
             "colorbar": {
              "outlinewidth": 0,
              "ticks": ""
             }
            },
            "marker": {
             "colorbar": {
              "outlinewidth": 0,
              "ticks": ""
             }
            },
            "type": "scatter3d"
           }
          ],
          "scattercarpet": [
           {
            "marker": {
             "colorbar": {
              "outlinewidth": 0,
              "ticks": ""
             }
            },
            "type": "scattercarpet"
           }
          ],
          "scattergeo": [
           {
            "marker": {
             "colorbar": {
              "outlinewidth": 0,
              "ticks": ""
             }
            },
            "type": "scattergeo"
           }
          ],
          "scattergl": [
           {
            "marker": {
             "colorbar": {
              "outlinewidth": 0,
              "ticks": ""
             }
            },
            "type": "scattergl"
           }
          ],
          "scattermapbox": [
           {
            "marker": {
             "colorbar": {
              "outlinewidth": 0,
              "ticks": ""
             }
            },
            "type": "scattermapbox"
           }
          ],
          "scatterpolar": [
           {
            "marker": {
             "colorbar": {
              "outlinewidth": 0,
              "ticks": ""
             }
            },
            "type": "scatterpolar"
           }
          ],
          "scatterpolargl": [
           {
            "marker": {
             "colorbar": {
              "outlinewidth": 0,
              "ticks": ""
             }
            },
            "type": "scatterpolargl"
           }
          ],
          "scatterternary": [
           {
            "marker": {
             "colorbar": {
              "outlinewidth": 0,
              "ticks": ""
             }
            },
            "type": "scatterternary"
           }
          ],
          "surface": [
           {
            "colorbar": {
             "outlinewidth": 0,
             "ticks": ""
            },
            "colorscale": [
             [
              0,
              "#0d0887"
             ],
             [
              0.1111111111111111,
              "#46039f"
             ],
             [
              0.2222222222222222,
              "#7201a8"
             ],
             [
              0.3333333333333333,
              "#9c179e"
             ],
             [
              0.4444444444444444,
              "#bd3786"
             ],
             [
              0.5555555555555556,
              "#d8576b"
             ],
             [
              0.6666666666666666,
              "#ed7953"
             ],
             [
              0.7777777777777778,
              "#fb9f3a"
             ],
             [
              0.8888888888888888,
              "#fdca26"
             ],
             [
              1,
              "#f0f921"
             ]
            ],
            "type": "surface"
           }
          ],
          "table": [
           {
            "cells": {
             "fill": {
              "color": "#EBF0F8"
             },
             "line": {
              "color": "white"
             }
            },
            "header": {
             "fill": {
              "color": "#C8D4E3"
             },
             "line": {
              "color": "white"
             }
            },
            "type": "table"
           }
          ]
         },
         "layout": {
          "annotationdefaults": {
           "arrowcolor": "#2a3f5f",
           "arrowhead": 0,
           "arrowwidth": 1
          },
          "autotypenumbers": "strict",
          "coloraxis": {
           "colorbar": {
            "outlinewidth": 0,
            "ticks": ""
           }
          },
          "colorscale": {
           "diverging": [
            [
             0,
             "#8e0152"
            ],
            [
             0.1,
             "#c51b7d"
            ],
            [
             0.2,
             "#de77ae"
            ],
            [
             0.3,
             "#f1b6da"
            ],
            [
             0.4,
             "#fde0ef"
            ],
            [
             0.5,
             "#f7f7f7"
            ],
            [
             0.6,
             "#e6f5d0"
            ],
            [
             0.7,
             "#b8e186"
            ],
            [
             0.8,
             "#7fbc41"
            ],
            [
             0.9,
             "#4d9221"
            ],
            [
             1,
             "#276419"
            ]
           ],
           "sequential": [
            [
             0,
             "#0d0887"
            ],
            [
             0.1111111111111111,
             "#46039f"
            ],
            [
             0.2222222222222222,
             "#7201a8"
            ],
            [
             0.3333333333333333,
             "#9c179e"
            ],
            [
             0.4444444444444444,
             "#bd3786"
            ],
            [
             0.5555555555555556,
             "#d8576b"
            ],
            [
             0.6666666666666666,
             "#ed7953"
            ],
            [
             0.7777777777777778,
             "#fb9f3a"
            ],
            [
             0.8888888888888888,
             "#fdca26"
            ],
            [
             1,
             "#f0f921"
            ]
           ],
           "sequentialminus": [
            [
             0,
             "#0d0887"
            ],
            [
             0.1111111111111111,
             "#46039f"
            ],
            [
             0.2222222222222222,
             "#7201a8"
            ],
            [
             0.3333333333333333,
             "#9c179e"
            ],
            [
             0.4444444444444444,
             "#bd3786"
            ],
            [
             0.5555555555555556,
             "#d8576b"
            ],
            [
             0.6666666666666666,
             "#ed7953"
            ],
            [
             0.7777777777777778,
             "#fb9f3a"
            ],
            [
             0.8888888888888888,
             "#fdca26"
            ],
            [
             1,
             "#f0f921"
            ]
           ]
          },
          "colorway": [
           "#636efa",
           "#EF553B",
           "#00cc96",
           "#ab63fa",
           "#FFA15A",
           "#19d3f3",
           "#FF6692",
           "#B6E880",
           "#FF97FF",
           "#FECB52"
          ],
          "font": {
           "color": "#2a3f5f"
          },
          "geo": {
           "bgcolor": "white",
           "lakecolor": "white",
           "landcolor": "#E5ECF6",
           "showlakes": true,
           "showland": true,
           "subunitcolor": "white"
          },
          "hoverlabel": {
           "align": "left"
          },
          "hovermode": "closest",
          "mapbox": {
           "style": "light"
          },
          "paper_bgcolor": "white",
          "plot_bgcolor": "#E5ECF6",
          "polar": {
           "angularaxis": {
            "gridcolor": "white",
            "linecolor": "white",
            "ticks": ""
           },
           "bgcolor": "#E5ECF6",
           "radialaxis": {
            "gridcolor": "white",
            "linecolor": "white",
            "ticks": ""
           }
          },
          "scene": {
           "xaxis": {
            "backgroundcolor": "#E5ECF6",
            "gridcolor": "white",
            "gridwidth": 2,
            "linecolor": "white",
            "showbackground": true,
            "ticks": "",
            "zerolinecolor": "white"
           },
           "yaxis": {
            "backgroundcolor": "#E5ECF6",
            "gridcolor": "white",
            "gridwidth": 2,
            "linecolor": "white",
            "showbackground": true,
            "ticks": "",
            "zerolinecolor": "white"
           },
           "zaxis": {
            "backgroundcolor": "#E5ECF6",
            "gridcolor": "white",
            "gridwidth": 2,
            "linecolor": "white",
            "showbackground": true,
            "ticks": "",
            "zerolinecolor": "white"
           }
          },
          "shapedefaults": {
           "line": {
            "color": "#2a3f5f"
           }
          },
          "ternary": {
           "aaxis": {
            "gridcolor": "white",
            "linecolor": "white",
            "ticks": ""
           },
           "baxis": {
            "gridcolor": "white",
            "linecolor": "white",
            "ticks": ""
           },
           "bgcolor": "#E5ECF6",
           "caxis": {
            "gridcolor": "white",
            "linecolor": "white",
            "ticks": ""
           }
          },
          "title": {
           "x": 0.05
          },
          "xaxis": {
           "automargin": true,
           "gridcolor": "white",
           "linecolor": "white",
           "ticks": "",
           "title": {
            "standoff": 15
           },
           "zerolinecolor": "white",
           "zerolinewidth": 2
          },
          "yaxis": {
           "automargin": true,
           "gridcolor": "white",
           "linecolor": "white",
           "ticks": "",
           "title": {
            "standoff": 15
           },
           "zerolinecolor": "white",
           "zerolinewidth": 2
          }
         }
        },
        "title": {
         "text": "Cost Landscape",
         "x": 0.5,
         "y": 0.9
        },
        "width": 600,
        "xaxis": {
         "range": [
          0.5,
          0.8
         ],
         "title": {
          "text": "Negative electrode active material volume fraction"
         }
        },
        "yaxis": {
         "range": [
          0.4,
          0.7
         ],
         "title": {
          "text": "Positive electrode active material volume fraction"
         }
        }
       }
      }
     },
     "metadata": {},
     "output_type": "display_data"
    },
    {
     "data": {
      "application/vnd.plotly.v1+json": {
       "config": {
        "plotlyServerURL": "https://plot.ly"
       },
       "data": [
        {
         "type": "contour",
         "x": [
          0.5,
          0.5214285714285715,
          0.5428571428571428,
          0.5642857142857143,
          0.5857142857142857,
          0.6071428571428572,
          0.6285714285714286,
          0.65,
          0.6714285714285715,
          0.6928571428571428,
          0.7142857142857143,
          0.7357142857142858,
          0.7571428571428571,
          0.7785714285714287,
          0.8
         ],
         "y": [
          0.4,
          0.42142857142857143,
          0.4428571428571429,
          0.4642857142857143,
          0.4857142857142857,
          0.5071428571428571,
          0.5285714285714286,
          0.55,
          0.5714285714285714,
          0.5928571428571429,
          0.6142857142857143,
          0.6357142857142857,
          0.6571428571428571,
          0.6785714285714286,
          0.7
         ],
         "z": [
          [
           11.330269947733937,
           10.811928740710844,
           10.328882265727202,
           9.89499682604525,
           9.521822346104845,
           9.211717713340473,
           8.956603577849947,
           8.743430128712893,
           8.559949777408967,
           8.39710243664611,
           8.24889961414955,
           8.11155054464076,
           null,
           null,
           null
          ],
          [
           9.014925831610197,
           8.553723446906329,
           8.123800630754676,
           7.737790213876439,
           7.406253834509807,
           7.131401297143623,
           6.905986851753443,
           6.718220191598258,
           6.557076725806079,
           6.414419512376294,
           6.284881403797242,
           6.165067613111573,
           null,
           null,
           null
          ],
          [
           7.099376044051603,
           6.692021619890155,
           6.31269730246763,
           5.972546780060217,
           5.680950975944914,
           5.439807736077199,
           5.242589379356271,
           5.07875457021344,
           4.938499185366888,
           4.814615626705183,
           4.702360589292002,
           4.598738319045039,
           null,
           null,
           null
          ],
          [
           5.541384396605047,
           5.183453499286376,
           4.85110815273978,
           4.553897678797431,
           4.299846115606059,
           4.090373911074973,
           3.9195358797742212,
           3.77796140189141,
           3.657024122317591,
           3.550421117418589,
           3.4540197863356363,
           3.365213978459071,
           null,
           null,
           null
          ],
          [
           4.295526553295418,
           3.9819515161944246,
           3.6921576397428235,
           3.4341213991831214,
           3.2145001419495918,
           3.0341214624414876,
           2.887487481622607,
           2.7662796055638013,
           2.6629618586658466,
           2.572077593608494,
           2.490068146412312,
           2.414693664033629,
           null,
           null,
           null
          ],
          [
           3.3112086840725365,
           3.036933190001017,
           2.785006193266575,
           2.5620319784891588,
           2.3733495051383064,
           2.219185484564524,
           2.094385704401664,
           1.9915531130529194,
           1.9041267324238795,
           1.827413877063981,
           1.7583749110616465,
           1.6951023809335148,
           null,
           null,
           null
          ],
          [
           2.537499209447039,
           2.297970701921439,
           2.079547142114841,
           1.8876586997170817,
           1.726482738658519,
           1.595691729853479,
           1.4904106256446368,
           1.4040420976734729,
           1.3308804418702267,
           1.2669060483229369,
           1.2095377820469606,
           1.1571620813786134,
           null,
           null,
           null
          ],
          [
           1.9291856899117428,
           1.7205760420554097,
           1.5319016629333353,
           1.3676048679400892,
           1.2308735525381334,
           1.1209158398126853,
           1.033068241304827,
           0.9614637482078938,
           0.9011327647381925,
           0.8486436228674586,
           0.8018163776859416,
           0.7592963666498921,
           null,
           null,
           null
          ],
          [
           1.449919483016957,
           1.2691188153000306,
           1.1071292350447213,
           0.9675246331856576,
           0.8526701969348967,
           0.7613800022467664,
           0.6892228373944369,
           0.6309439217400394,
           0.5822318951221453,
           0.5401710036122102,
           0.5029335660713108,
           0.46939056678139157,
           null,
           null,
           null
          ],
          [
           1.0722315228282115,
           0.9167982414521217,
           0.7789936055339796,
           0.6617381503913187,
           0.5666709428389584,
           0.4922850627903033,
           0.4343732082198215,
           0.3882308034791506,
           0.3501326696959011,
           0.3176210131855748,
           0.2891811030442856,
           0.26388131267672993,
           null,
           null,
           null
          ],
          [
           0.7757229060597397,
           0.6436709958933234,
           0.5281066232912515,
           0.43133185153746,
           0.3543774570156617,
           0.2954741455130202,
           0.2506336534877685,
           0.2156545135851295,
           0.1873418508466862,
           0.1636506957775685,
           0.14334744622511125,
           0.12568049384311014,
           null,
           null,
           null
          ],
          [
           0.5454534256640861,
           0.4351895512960567,
           0.3402795365289646,
           0.2624763065466594,
           0.20227847904998109,
           0.1576991330698127,
           0.12496568094161395,
           0.10034310868321532,
           0.0811234903585089,
           0.06563988225730882,
           0.05291372299984055,
           0.04236073337662288,
           null,
           null,
           null
          ],
          [
           0.37016324815777685,
           0.28037438014665095,
           0.20481914671578744,
           0.14475335433583644,
           0.10020058310321385,
           0.06899015585863881,
           0.0475619300711303,
           0.032618434504420174,
           0.021904898602354516,
           0.014104433338070346,
           0.008476199089539858,
           0.004588948164989829,
           null,
           null,
           null
          ],
          [
           null,
           null,
           null,
           null,
           null,
           null,
           null,
           null,
           null,
           null,
           null,
           null,
           null,
           null,
           null
          ],
          [
           null,
           null,
           null,
           null,
           null,
           null,
           null,
           null,
           null,
           null,
           null,
           null,
           null,
           null,
           null
          ]
         ]
        }
       ],
       "layout": {
        "height": 600,
        "template": {
         "data": {
          "bar": [
           {
            "error_x": {
             "color": "#2a3f5f"
            },
            "error_y": {
             "color": "#2a3f5f"
            },
            "marker": {
             "line": {
              "color": "#E5ECF6",
              "width": 0.5
             },
             "pattern": {
              "fillmode": "overlay",
              "size": 10,
              "solidity": 0.2
             }
            },
            "type": "bar"
           }
          ],
          "barpolar": [
           {
            "marker": {
             "line": {
              "color": "#E5ECF6",
              "width": 0.5
             },
             "pattern": {
              "fillmode": "overlay",
              "size": 10,
              "solidity": 0.2
             }
            },
            "type": "barpolar"
           }
          ],
          "carpet": [
           {
            "aaxis": {
             "endlinecolor": "#2a3f5f",
             "gridcolor": "white",
             "linecolor": "white",
             "minorgridcolor": "white",
             "startlinecolor": "#2a3f5f"
            },
            "baxis": {
             "endlinecolor": "#2a3f5f",
             "gridcolor": "white",
             "linecolor": "white",
             "minorgridcolor": "white",
             "startlinecolor": "#2a3f5f"
            },
            "type": "carpet"
           }
          ],
          "choropleth": [
           {
            "colorbar": {
             "outlinewidth": 0,
             "ticks": ""
            },
            "type": "choropleth"
           }
          ],
          "contour": [
           {
            "colorbar": {
             "outlinewidth": 0,
             "ticks": ""
            },
            "colorscale": [
             [
              0,
              "#0d0887"
             ],
             [
              0.1111111111111111,
              "#46039f"
             ],
             [
              0.2222222222222222,
              "#7201a8"
             ],
             [
              0.3333333333333333,
              "#9c179e"
             ],
             [
              0.4444444444444444,
              "#bd3786"
             ],
             [
              0.5555555555555556,
              "#d8576b"
             ],
             [
              0.6666666666666666,
              "#ed7953"
             ],
             [
              0.7777777777777778,
              "#fb9f3a"
             ],
             [
              0.8888888888888888,
              "#fdca26"
             ],
             [
              1,
              "#f0f921"
             ]
            ],
            "type": "contour"
           }
          ],
          "contourcarpet": [
           {
            "colorbar": {
             "outlinewidth": 0,
             "ticks": ""
            },
            "type": "contourcarpet"
           }
          ],
          "heatmap": [
           {
            "colorbar": {
             "outlinewidth": 0,
             "ticks": ""
            },
            "colorscale": [
             [
              0,
              "#0d0887"
             ],
             [
              0.1111111111111111,
              "#46039f"
             ],
             [
              0.2222222222222222,
              "#7201a8"
             ],
             [
              0.3333333333333333,
              "#9c179e"
             ],
             [
              0.4444444444444444,
              "#bd3786"
             ],
             [
              0.5555555555555556,
              "#d8576b"
             ],
             [
              0.6666666666666666,
              "#ed7953"
             ],
             [
              0.7777777777777778,
              "#fb9f3a"
             ],
             [
              0.8888888888888888,
              "#fdca26"
             ],
             [
              1,
              "#f0f921"
             ]
            ],
            "type": "heatmap"
           }
          ],
          "heatmapgl": [
           {
            "colorbar": {
             "outlinewidth": 0,
             "ticks": ""
            },
            "colorscale": [
             [
              0,
              "#0d0887"
             ],
             [
              0.1111111111111111,
              "#46039f"
             ],
             [
              0.2222222222222222,
              "#7201a8"
             ],
             [
              0.3333333333333333,
              "#9c179e"
             ],
             [
              0.4444444444444444,
              "#bd3786"
             ],
             [
              0.5555555555555556,
              "#d8576b"
             ],
             [
              0.6666666666666666,
              "#ed7953"
             ],
             [
              0.7777777777777778,
              "#fb9f3a"
             ],
             [
              0.8888888888888888,
              "#fdca26"
             ],
             [
              1,
              "#f0f921"
             ]
            ],
            "type": "heatmapgl"
           }
          ],
          "histogram": [
           {
            "marker": {
             "pattern": {
              "fillmode": "overlay",
              "size": 10,
              "solidity": 0.2
             }
            },
            "type": "histogram"
           }
          ],
          "histogram2d": [
           {
            "colorbar": {
             "outlinewidth": 0,
             "ticks": ""
            },
            "colorscale": [
             [
              0,
              "#0d0887"
             ],
             [
              0.1111111111111111,
              "#46039f"
             ],
             [
              0.2222222222222222,
              "#7201a8"
             ],
             [
              0.3333333333333333,
              "#9c179e"
             ],
             [
              0.4444444444444444,
              "#bd3786"
             ],
             [
              0.5555555555555556,
              "#d8576b"
             ],
             [
              0.6666666666666666,
              "#ed7953"
             ],
             [
              0.7777777777777778,
              "#fb9f3a"
             ],
             [
              0.8888888888888888,
              "#fdca26"
             ],
             [
              1,
              "#f0f921"
             ]
            ],
            "type": "histogram2d"
           }
          ],
          "histogram2dcontour": [
           {
            "colorbar": {
             "outlinewidth": 0,
             "ticks": ""
            },
            "colorscale": [
             [
              0,
              "#0d0887"
             ],
             [
              0.1111111111111111,
              "#46039f"
             ],
             [
              0.2222222222222222,
              "#7201a8"
             ],
             [
              0.3333333333333333,
              "#9c179e"
             ],
             [
              0.4444444444444444,
              "#bd3786"
             ],
             [
              0.5555555555555556,
              "#d8576b"
             ],
             [
              0.6666666666666666,
              "#ed7953"
             ],
             [
              0.7777777777777778,
              "#fb9f3a"
             ],
             [
              0.8888888888888888,
              "#fdca26"
             ],
             [
              1,
              "#f0f921"
             ]
            ],
            "type": "histogram2dcontour"
           }
          ],
          "mesh3d": [
           {
            "colorbar": {
             "outlinewidth": 0,
             "ticks": ""
            },
            "type": "mesh3d"
           }
          ],
          "parcoords": [
           {
            "line": {
             "colorbar": {
              "outlinewidth": 0,
              "ticks": ""
             }
            },
            "type": "parcoords"
           }
          ],
          "pie": [
           {
            "automargin": true,
            "type": "pie"
           }
          ],
          "scatter": [
           {
            "fillpattern": {
             "fillmode": "overlay",
             "size": 10,
             "solidity": 0.2
            },
            "type": "scatter"
           }
          ],
          "scatter3d": [
           {
            "line": {
             "colorbar": {
              "outlinewidth": 0,
              "ticks": ""
             }
            },
            "marker": {
             "colorbar": {
              "outlinewidth": 0,
              "ticks": ""
             }
            },
            "type": "scatter3d"
           }
          ],
          "scattercarpet": [
           {
            "marker": {
             "colorbar": {
              "outlinewidth": 0,
              "ticks": ""
             }
            },
            "type": "scattercarpet"
           }
          ],
          "scattergeo": [
           {
            "marker": {
             "colorbar": {
              "outlinewidth": 0,
              "ticks": ""
             }
            },
            "type": "scattergeo"
           }
          ],
          "scattergl": [
           {
            "marker": {
             "colorbar": {
              "outlinewidth": 0,
              "ticks": ""
             }
            },
            "type": "scattergl"
           }
          ],
          "scattermapbox": [
           {
            "marker": {
             "colorbar": {
              "outlinewidth": 0,
              "ticks": ""
             }
            },
            "type": "scattermapbox"
           }
          ],
          "scatterpolar": [
           {
            "marker": {
             "colorbar": {
              "outlinewidth": 0,
              "ticks": ""
             }
            },
            "type": "scatterpolar"
           }
          ],
          "scatterpolargl": [
           {
            "marker": {
             "colorbar": {
              "outlinewidth": 0,
              "ticks": ""
             }
            },
            "type": "scatterpolargl"
           }
          ],
          "scatterternary": [
           {
            "marker": {
             "colorbar": {
              "outlinewidth": 0,
              "ticks": ""
             }
            },
            "type": "scatterternary"
           }
          ],
          "surface": [
           {
            "colorbar": {
             "outlinewidth": 0,
             "ticks": ""
            },
            "colorscale": [
             [
              0,
              "#0d0887"
             ],
             [
              0.1111111111111111,
              "#46039f"
             ],
             [
              0.2222222222222222,
              "#7201a8"
             ],
             [
              0.3333333333333333,
              "#9c179e"
             ],
             [
              0.4444444444444444,
              "#bd3786"
             ],
             [
              0.5555555555555556,
              "#d8576b"
             ],
             [
              0.6666666666666666,
              "#ed7953"
             ],
             [
              0.7777777777777778,
              "#fb9f3a"
             ],
             [
              0.8888888888888888,
              "#fdca26"
             ],
             [
              1,
              "#f0f921"
             ]
            ],
            "type": "surface"
           }
          ],
          "table": [
           {
            "cells": {
             "fill": {
              "color": "#EBF0F8"
             },
             "line": {
              "color": "white"
             }
            },
            "header": {
             "fill": {
              "color": "#C8D4E3"
             },
             "line": {
              "color": "white"
             }
            },
            "type": "table"
           }
          ]
         },
         "layout": {
          "annotationdefaults": {
           "arrowcolor": "#2a3f5f",
           "arrowhead": 0,
           "arrowwidth": 1
          },
          "autotypenumbers": "strict",
          "coloraxis": {
           "colorbar": {
            "outlinewidth": 0,
            "ticks": ""
           }
          },
          "colorscale": {
           "diverging": [
            [
             0,
             "#8e0152"
            ],
            [
             0.1,
             "#c51b7d"
            ],
            [
             0.2,
             "#de77ae"
            ],
            [
             0.3,
             "#f1b6da"
            ],
            [
             0.4,
             "#fde0ef"
            ],
            [
             0.5,
             "#f7f7f7"
            ],
            [
             0.6,
             "#e6f5d0"
            ],
            [
             0.7,
             "#b8e186"
            ],
            [
             0.8,
             "#7fbc41"
            ],
            [
             0.9,
             "#4d9221"
            ],
            [
             1,
             "#276419"
            ]
           ],
           "sequential": [
            [
             0,
             "#0d0887"
            ],
            [
             0.1111111111111111,
             "#46039f"
            ],
            [
             0.2222222222222222,
             "#7201a8"
            ],
            [
             0.3333333333333333,
             "#9c179e"
            ],
            [
             0.4444444444444444,
             "#bd3786"
            ],
            [
             0.5555555555555556,
             "#d8576b"
            ],
            [
             0.6666666666666666,
             "#ed7953"
            ],
            [
             0.7777777777777778,
             "#fb9f3a"
            ],
            [
             0.8888888888888888,
             "#fdca26"
            ],
            [
             1,
             "#f0f921"
            ]
           ],
           "sequentialminus": [
            [
             0,
             "#0d0887"
            ],
            [
             0.1111111111111111,
             "#46039f"
            ],
            [
             0.2222222222222222,
             "#7201a8"
            ],
            [
             0.3333333333333333,
             "#9c179e"
            ],
            [
             0.4444444444444444,
             "#bd3786"
            ],
            [
             0.5555555555555556,
             "#d8576b"
            ],
            [
             0.6666666666666666,
             "#ed7953"
            ],
            [
             0.7777777777777778,
             "#fb9f3a"
            ],
            [
             0.8888888888888888,
             "#fdca26"
            ],
            [
             1,
             "#f0f921"
            ]
           ]
          },
          "colorway": [
           "#636efa",
           "#EF553B",
           "#00cc96",
           "#ab63fa",
           "#FFA15A",
           "#19d3f3",
           "#FF6692",
           "#B6E880",
           "#FF97FF",
           "#FECB52"
          ],
          "font": {
           "color": "#2a3f5f"
          },
          "geo": {
           "bgcolor": "white",
           "lakecolor": "white",
           "landcolor": "#E5ECF6",
           "showlakes": true,
           "showland": true,
           "subunitcolor": "white"
          },
          "hoverlabel": {
           "align": "left"
          },
          "hovermode": "closest",
          "mapbox": {
           "style": "light"
          },
          "paper_bgcolor": "white",
          "plot_bgcolor": "#E5ECF6",
          "polar": {
           "angularaxis": {
            "gridcolor": "white",
            "linecolor": "white",
            "ticks": ""
           },
           "bgcolor": "#E5ECF6",
           "radialaxis": {
            "gridcolor": "white",
            "linecolor": "white",
            "ticks": ""
           }
          },
          "scene": {
           "xaxis": {
            "backgroundcolor": "#E5ECF6",
            "gridcolor": "white",
            "gridwidth": 2,
            "linecolor": "white",
            "showbackground": true,
            "ticks": "",
            "zerolinecolor": "white"
           },
           "yaxis": {
            "backgroundcolor": "#E5ECF6",
            "gridcolor": "white",
            "gridwidth": 2,
            "linecolor": "white",
            "showbackground": true,
            "ticks": "",
            "zerolinecolor": "white"
           },
           "zaxis": {
            "backgroundcolor": "#E5ECF6",
            "gridcolor": "white",
            "gridwidth": 2,
            "linecolor": "white",
            "showbackground": true,
            "ticks": "",
            "zerolinecolor": "white"
           }
          },
          "shapedefaults": {
           "line": {
            "color": "#2a3f5f"
           }
          },
          "ternary": {
           "aaxis": {
            "gridcolor": "white",
            "linecolor": "white",
            "ticks": ""
           },
           "baxis": {
            "gridcolor": "white",
            "linecolor": "white",
            "ticks": ""
           },
           "bgcolor": "#E5ECF6",
           "caxis": {
            "gridcolor": "white",
            "linecolor": "white",
            "ticks": ""
           }
          },
          "title": {
           "x": 0.05
          },
          "xaxis": {
           "automargin": true,
           "gridcolor": "white",
           "linecolor": "white",
           "ticks": "",
           "title": {
            "standoff": 15
           },
           "zerolinecolor": "white",
           "zerolinewidth": 2
          },
          "yaxis": {
           "automargin": true,
           "gridcolor": "white",
           "linecolor": "white",
           "ticks": "",
           "title": {
            "standoff": 15
           },
           "zerolinecolor": "white",
           "zerolinewidth": 2
          }
         }
        },
        "title": {
         "text": "Cost Landscape",
         "x": 0.5,
         "y": 0.9
        },
        "width": 600,
        "xaxis": {
         "range": [
          0.5,
          0.8
         ],
         "title": {
          "text": "Negative electrode active material volume fraction"
         }
        },
        "yaxis": {
         "range": [
          0.4,
          0.7
         ],
         "title": {
          "text": "Positive electrode active material volume fraction"
         }
        }
       }
      }
     },
     "metadata": {},
     "output_type": "display_data"
    }
   ],
   "source": [
    "# Plot the cost landscape\n",
    "pybop.plot_cost2d(cost, steps=15);\n",
    "# Plot the cost landscape with optimisation path and updated bounds\n",
    "# bounds = np.array([[0.6, 0.9], [0.5, 0.8]])\n",
    "# pybop.plot_cost2d(cost, optim=optim, bounds=bounds, steps=15);"
   ]
  },
  {
   "cell_type": "markdown",
   "metadata": {},
   "source": [
    "### Conclusion\n",
    "\n",
    "This notebook illustrates how to perform parameter estimation using CMA-ES in PyBOP, providing insights into the optimization process through various visualizations."
   ]
  }
 ],
 "metadata": {
  "colab": {
   "provenance": []
  },
  "kernelspec": {
   "display_name": "Python 3 (ipykernel)",
   "language": "python",
   "name": "python3"
  },
  "language_info": {
   "codemirror_mode": {
    "name": "ipython",
    "version": 3
   },
   "file_extension": ".py",
   "mimetype": "text/x-python",
   "name": "python",
   "nbconvert_exporter": "python",
   "pygments_lexer": "ipython3",
   "version": "3.10.12"
  },
  "widgets": {
   "application/vnd.jupyter.widget-state+json": {
    "06f2374f91c8455bb63252092512f2ed": {
     "model_module": "@jupyter-widgets/base",
     "model_module_version": "2.0.0",
     "model_name": "LayoutModel",
     "state": {
      "_model_module": "@jupyter-widgets/base",
      "_model_module_version": "2.0.0",
      "_model_name": "LayoutModel",
      "_view_count": null,
      "_view_module": "@jupyter-widgets/base",
      "_view_module_version": "2.0.0",
      "_view_name": "LayoutView",
      "align_content": null,
      "align_items": null,
      "align_self": null,
      "border_bottom": null,
      "border_left": null,
      "border_right": null,
      "border_top": null,
      "bottom": null,
      "display": null,
      "flex": null,
      "flex_flow": null,
      "grid_area": null,
      "grid_auto_columns": null,
      "grid_auto_flow": null,
      "grid_auto_rows": null,
      "grid_column": null,
      "grid_gap": null,
      "grid_row": null,
      "grid_template_areas": null,
      "grid_template_columns": null,
      "grid_template_rows": null,
      "height": null,
      "justify_content": null,
      "justify_items": null,
      "left": null,
      "margin": null,
      "max_height": null,
      "max_width": null,
      "min_height": null,
      "min_width": null,
      "object_fit": null,
      "object_position": null,
      "order": null,
      "overflow": null,
      "padding": null,
      "right": null,
      "top": null,
      "visibility": null,
      "width": null
     }
    },
    "423bffea3a1c42b49a9ad71218e5811b": {
     "model_module": "@jupyter-widgets/base",
     "model_module_version": "2.0.0",
     "model_name": "LayoutModel",
     "state": {
      "_model_module": "@jupyter-widgets/base",
      "_model_module_version": "2.0.0",
      "_model_name": "LayoutModel",
      "_view_count": null,
      "_view_module": "@jupyter-widgets/base",
      "_view_module_version": "2.0.0",
      "_view_name": "LayoutView",
      "align_content": null,
      "align_items": null,
      "align_self": null,
      "border_bottom": null,
      "border_left": null,
      "border_right": null,
      "border_top": null,
      "bottom": null,
      "display": null,
      "flex": null,
      "flex_flow": null,
      "grid_area": null,
      "grid_auto_columns": null,
      "grid_auto_flow": null,
      "grid_auto_rows": null,
      "grid_column": null,
      "grid_gap": null,
      "grid_row": null,
      "grid_template_areas": null,
      "grid_template_columns": null,
      "grid_template_rows": null,
      "height": null,
      "justify_content": null,
      "justify_items": null,
      "left": null,
      "margin": null,
      "max_height": null,
      "max_width": null,
      "min_height": null,
      "min_width": null,
      "object_fit": null,
      "object_position": null,
      "order": null,
      "overflow": null,
      "padding": null,
      "right": null,
      "top": null,
      "visibility": null,
      "width": null
     }
    },
    "56ff19291e464d63b23e63b8e2ac9ea3": {
     "model_module": "@jupyter-widgets/controls",
     "model_module_version": "2.0.0",
     "model_name": "SliderStyleModel",
     "state": {
      "_model_module": "@jupyter-widgets/controls",
      "_model_module_version": "2.0.0",
      "_model_name": "SliderStyleModel",
      "_view_count": null,
      "_view_module": "@jupyter-widgets/base",
      "_view_module_version": "2.0.0",
      "_view_name": "StyleView",
      "description_width": "",
      "handle_color": null
     }
    },
    "646a8670cb204a31bb56bc2380898093": {
     "model_module": "@jupyter-widgets/base",
     "model_module_version": "2.0.0",
     "model_name": "LayoutModel",
     "state": {
      "_model_module": "@jupyter-widgets/base",
      "_model_module_version": "2.0.0",
      "_model_name": "LayoutModel",
      "_view_count": null,
      "_view_module": "@jupyter-widgets/base",
      "_view_module_version": "2.0.0",
      "_view_name": "LayoutView",
      "align_content": null,
      "align_items": null,
      "align_self": null,
      "border_bottom": null,
      "border_left": null,
      "border_right": null,
      "border_top": null,
      "bottom": null,
      "display": null,
      "flex": null,
      "flex_flow": null,
      "grid_area": null,
      "grid_auto_columns": null,
      "grid_auto_flow": null,
      "grid_auto_rows": null,
      "grid_column": null,
      "grid_gap": null,
      "grid_row": null,
      "grid_template_areas": null,
      "grid_template_columns": null,
      "grid_template_rows": null,
      "height": null,
      "justify_content": null,
      "justify_items": null,
      "left": null,
      "margin": null,
      "max_height": null,
      "max_width": null,
      "min_height": null,
      "min_width": null,
      "object_fit": null,
      "object_position": null,
      "order": null,
      "overflow": null,
      "padding": null,
      "right": null,
      "top": null,
      "visibility": null,
      "width": null
     }
    },
    "7d46516469314b88be3500e2afcafcf6": {
     "model_module": "@jupyter-widgets/output",
     "model_module_version": "1.0.0",
     "model_name": "OutputModel",
     "state": {
      "_dom_classes": [],
      "_model_module": "@jupyter-widgets/output",
      "_model_module_version": "1.0.0",
      "_model_name": "OutputModel",
      "_view_count": null,
      "_view_module": "@jupyter-widgets/output",
      "_view_module_version": "1.0.0",
      "_view_name": "OutputView",
      "layout": "IPY_MODEL_646a8670cb204a31bb56bc2380898093",
      "msg_id": "",
      "outputs": [],
      "tabbable": null,
      "tooltip": null
     }
    },
    "8d003c14da5f4fa68284b28c15cee6e6": {
     "model_module": "@jupyter-widgets/controls",
     "model_module_version": "2.0.0",
     "model_name": "VBoxModel",
     "state": {
      "_dom_classes": [
       "widget-interact"
      ],
      "_model_module": "@jupyter-widgets/controls",
      "_model_module_version": "2.0.0",
      "_model_name": "VBoxModel",
      "_view_count": null,
      "_view_module": "@jupyter-widgets/controls",
      "_view_module_version": "2.0.0",
      "_view_name": "VBoxView",
      "box_style": "",
      "children": [
       "IPY_MODEL_aef2fa7adcc14ad0854b73d5910ae3b4",
       "IPY_MODEL_7d46516469314b88be3500e2afcafcf6"
      ],
      "layout": "IPY_MODEL_423bffea3a1c42b49a9ad71218e5811b",
      "tabbable": null,
      "tooltip": null
     }
    },
    "aef2fa7adcc14ad0854b73d5910ae3b4": {
     "model_module": "@jupyter-widgets/controls",
     "model_module_version": "2.0.0",
     "model_name": "FloatSliderModel",
     "state": {
      "_dom_classes": [],
      "_model_module": "@jupyter-widgets/controls",
      "_model_module_version": "2.0.0",
      "_model_name": "FloatSliderModel",
      "_view_count": null,
      "_view_module": "@jupyter-widgets/controls",
      "_view_module_version": "2.0.0",
      "_view_name": "FloatSliderView",
      "behavior": "drag-tap",
      "continuous_update": true,
      "description": "t",
      "description_allow_html": false,
      "disabled": false,
      "layout": "IPY_MODEL_06f2374f91c8455bb63252092512f2ed",
      "max": 1.1333333333333333,
      "min": 0,
      "orientation": "horizontal",
      "readout": true,
      "readout_format": ".2f",
      "step": 0.011333333333333332,
      "style": "IPY_MODEL_56ff19291e464d63b23e63b8e2ac9ea3",
      "tabbable": null,
      "tooltip": null,
      "value": 0
     }
    }
   }
  }
 },
 "nbformat": 4,
 "nbformat_minor": 4
}
