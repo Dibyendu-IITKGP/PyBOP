{
 "cells": [
  {
   "cell_type": "markdown",
   "metadata": {
    "id": "expmkveO04pw"
   },
   "source": [
    "## Parameter Estimation with Adam in PyBOP\n",
    "\n",
    "In this notebook, we demonstrate an example of parameter estimation for a single-particle model using the Adam optimiser [1]. The ADAM optimiser is an algorithm for gradient-based optimization, combining the advantages of the Adaptive Gradient Algorithm (AdaGrad) and Root Mean Square Propagation (RMSProp).\n",
    "\n",
    "[[1]: Adam: A Method for Stochastic Optimization](https://arxiv.org/abs/1412.6980)\n",
    "\n",
    "### Setting up the Environment\n",
    "\n",
    "Before we begin, we need to ensure that we have all the necessary tools. We will install PyBOP from its development branch and upgrade some dependencies:"
   ]
  },
  {
   "cell_type": "code",
   "execution_count": 14,
   "metadata": {
    "colab": {
     "base_uri": "https://localhost:8080/"
    },
    "id": "X87NUGPW04py",
    "outputId": "0d785b07-7cff-4aeb-e60a-4ff5a669afbf"
   },
   "outputs": [
    {
     "name": "stdout",
     "output_type": "stream",
     "text": [
      "Requirement already satisfied: pip in /Users/bradyplanden/.pyenv/versions/pybop-env/lib/python3.11/site-packages (23.3.2)\n",
      "Requirement already satisfied: ipywidgets in /Users/bradyplanden/.pyenv/versions/pybop-env/lib/python3.11/site-packages (8.1.1)\n",
      "Requirement already satisfied: comm>=0.1.3 in /Users/bradyplanden/.pyenv/versions/pybop-env/lib/python3.11/site-packages (from ipywidgets) (0.2.0)\n",
      "Requirement already satisfied: ipython>=6.1.0 in /Users/bradyplanden/.pyenv/versions/pybop-env/lib/python3.11/site-packages (from ipywidgets) (8.18.1)\n",
      "Requirement already satisfied: traitlets>=4.3.1 in /Users/bradyplanden/.pyenv/versions/pybop-env/lib/python3.11/site-packages (from ipywidgets) (5.14.0)\n",
      "Requirement already satisfied: widgetsnbextension~=4.0.9 in /Users/bradyplanden/.pyenv/versions/pybop-env/lib/python3.11/site-packages (from ipywidgets) (4.0.9)\n",
      "Requirement already satisfied: jupyterlab-widgets~=3.0.9 in /Users/bradyplanden/.pyenv/versions/pybop-env/lib/python3.11/site-packages (from ipywidgets) (3.0.9)\n",
      "Requirement already satisfied: decorator in /Users/bradyplanden/.pyenv/versions/pybop-env/lib/python3.11/site-packages (from ipython>=6.1.0->ipywidgets) (5.1.1)\n",
      "Requirement already satisfied: jedi>=0.16 in /Users/bradyplanden/.pyenv/versions/pybop-env/lib/python3.11/site-packages (from ipython>=6.1.0->ipywidgets) (0.19.1)\n",
      "Requirement already satisfied: matplotlib-inline in /Users/bradyplanden/.pyenv/versions/pybop-env/lib/python3.11/site-packages (from ipython>=6.1.0->ipywidgets) (0.1.6)\n",
      "Requirement already satisfied: prompt-toolkit<3.1.0,>=3.0.41 in /Users/bradyplanden/.pyenv/versions/pybop-env/lib/python3.11/site-packages (from ipython>=6.1.0->ipywidgets) (3.0.41)\n",
      "Requirement already satisfied: pygments>=2.4.0 in /Users/bradyplanden/.pyenv/versions/pybop-env/lib/python3.11/site-packages (from ipython>=6.1.0->ipywidgets) (2.17.2)\n",
      "Requirement already satisfied: stack-data in /Users/bradyplanden/.pyenv/versions/pybop-env/lib/python3.11/site-packages (from ipython>=6.1.0->ipywidgets) (0.6.3)\n",
      "Requirement already satisfied: pexpect>4.3 in /Users/bradyplanden/.pyenv/versions/pybop-env/lib/python3.11/site-packages (from ipython>=6.1.0->ipywidgets) (4.9.0)\n",
      "Requirement already satisfied: parso<0.9.0,>=0.8.3 in /Users/bradyplanden/.pyenv/versions/pybop-env/lib/python3.11/site-packages (from jedi>=0.16->ipython>=6.1.0->ipywidgets) (0.8.3)\n",
      "Requirement already satisfied: ptyprocess>=0.5 in /Users/bradyplanden/.pyenv/versions/pybop-env/lib/python3.11/site-packages (from pexpect>4.3->ipython>=6.1.0->ipywidgets) (0.7.0)\n",
      "Requirement already satisfied: wcwidth in /Users/bradyplanden/.pyenv/versions/pybop-env/lib/python3.11/site-packages (from prompt-toolkit<3.1.0,>=3.0.41->ipython>=6.1.0->ipywidgets) (0.2.12)\n",
      "Requirement already satisfied: executing>=1.2.0 in /Users/bradyplanden/.pyenv/versions/pybop-env/lib/python3.11/site-packages (from stack-data->ipython>=6.1.0->ipywidgets) (2.0.1)\n",
      "Requirement already satisfied: asttokens>=2.1.0 in /Users/bradyplanden/.pyenv/versions/pybop-env/lib/python3.11/site-packages (from stack-data->ipython>=6.1.0->ipywidgets) (2.4.1)\n",
      "Requirement already satisfied: pure-eval in /Users/bradyplanden/.pyenv/versions/pybop-env/lib/python3.11/site-packages (from stack-data->ipython>=6.1.0->ipywidgets) (0.2.2)\n",
      "Requirement already satisfied: six>=1.12.0 in /Users/bradyplanden/.pyenv/versions/pybop-env/lib/python3.11/site-packages (from asttokens>=2.1.0->stack-data->ipython>=6.1.0->ipywidgets) (1.16.0)\n",
      "Note: you may need to restart the kernel to use updated packages.\n",
      "Note: you may need to restart the kernel to use updated packages.\n"
     ]
    }
   ],
   "source": [
    "%pip install --upgrade pip ipywidgets\n",
    "%pip install pybop -q"
   ]
  },
  {
   "cell_type": "markdown",
   "metadata": {
    "id": "jAvD5fk104p0"
   },
   "source": [
    "### Importing Libraries\n",
    "\n",
    "With the environment set up, we can now import PyBOP alongside other libraries we will need:"
   ]
  },
  {
   "cell_type": "code",
   "execution_count": 15,
   "metadata": {
    "id": "SQdt4brD04p1"
   },
   "outputs": [],
   "source": [
    "import pybop\n",
    "import numpy as np"
   ]
  },
  {
   "cell_type": "markdown",
   "metadata": {
    "id": "5XU-dMtU04p2"
   },
   "source": [
    "### Generate Synthetic Data\n",
    "\n",
    "To demonstrate parameter estimation, we first need synthetic data. This data will be generated using the PyBOP forward model, which requires defining a parameter set and the model itself.\n",
    "\n",
    "#### Defining Parameters and Model\n",
    "\n",
    "We start by creating an example parameter set and then instantiate the single-particle model (SPM):"
   ]
  },
  {
   "cell_type": "code",
   "execution_count": 16,
   "metadata": {},
   "outputs": [],
   "source": [
    "parameter_set = pybop.ParameterSet.pybamm(\"Chen2020\")\n",
    "model = pybop.lithium_ion.SPM(parameter_set=parameter_set)"
   ]
  },
  {
   "cell_type": "markdown",
   "metadata": {},
   "source": [
    "### Simulating Forward Model\n",
    "\n",
    "We can then simulate the model using the `predict` method, with a default constant current to generate voltage data."
   ]
  },
  {
   "cell_type": "code",
   "execution_count": 17,
   "metadata": {
    "id": "sBasxv8U04p3"
   },
   "outputs": [],
   "source": [
    "t_eval = np.arange(0, 900, 2)\n",
    "values = model.predict(t_eval=t_eval)"
   ]
  },
  {
   "cell_type": "markdown",
   "metadata": {},
   "source": [
    "### Adding Noise to Voltage Data\n",
    "\n",
    "To make the parameter estimation more realistic, we add Gaussian noise to the data."
   ]
  },
  {
   "cell_type": "code",
   "execution_count": 18,
   "metadata": {},
   "outputs": [],
   "source": [
    "sigma = 0.001\n",
    "corrupt_values = values[\"Voltage [V]\"].data + np.random.normal(0, sigma, len(t_eval))"
   ]
  },
  {
   "cell_type": "markdown",
   "metadata": {
    "id": "X8-tubYY04p_"
   },
   "source": [
    "## Identify the Parameters"
   ]
  },
  {
   "cell_type": "markdown",
   "metadata": {
    "id": "PQqhvSZN04p_"
   },
   "source": [
    "We will now set up the parameter estimation process by defining the datasets for optimisation and selecting the model parameters we wish to estimate."
   ]
  },
  {
   "cell_type": "markdown",
   "metadata": {},
   "source": [
    "### Creating Optimization Dataset\n",
    "\n",
    "The dataset for optimization is composed of time, current, and the noisy voltage data:"
   ]
  },
  {
   "cell_type": "code",
   "execution_count": 19,
   "metadata": {
    "id": "zuvGHWID04p_"
   },
   "outputs": [],
   "source": [
    "dataset = pybop.Dataset(\n",
    "    {\n",
    "        \"Time [s]\": t_eval,\n",
    "        \"Current function [A]\": values[\"Current [A]\"].data,\n",
    "        \"Voltage [V]\": corrupt_values,\n",
    "    }\n",
    ")"
   ]
  },
  {
   "cell_type": "markdown",
   "metadata": {
    "id": "ffS3CF_704qA"
   },
   "source": [
    "### Defining Parameters to Estimate\n",
    "\n",
    "We select the parameters for estimation and set up their prior distributions and bounds:"
   ]
  },
  {
   "cell_type": "code",
   "execution_count": 20,
   "metadata": {
    "id": "WPCybXIJ04qA"
   },
   "outputs": [],
   "source": [
    "parameters = [\n",
    "    pybop.Parameter(\n",
    "        \"Negative electrode active material volume fraction\",\n",
    "        prior=pybop.Gaussian(0.6, 0.02),\n",
    "        bounds=[0.5, 0.8],\n",
    "    ),\n",
    "    pybop.Parameter(\n",
    "        \"Positive electrode active material volume fraction\",\n",
    "        prior=pybop.Gaussian(0.48, 0.02),\n",
    "        bounds=[0.4, 0.7],\n",
    "    ),\n",
    "]"
   ]
  },
  {
   "cell_type": "markdown",
   "metadata": {
    "id": "n4OHa-aF04qA"
   },
   "source": [
    "### Setting up the Optimization Problem\n",
    "\n",
    "With the datasets and parameters defined, we can set up the optimization problem, its cost function, and the optimizer."
   ]
  },
  {
   "cell_type": "code",
   "execution_count": 21,
   "metadata": {
    "id": "etMzRtx404qA"
   },
   "outputs": [
    {
     "name": "stdout",
     "output_type": "stream",
     "text": [
      "NOTE: Boundaries ignored by Adam\n"
     ]
    }
   ],
   "source": [
    "problem = pybop.FittingProblem(model, parameters, dataset)\n",
    "cost = pybop.SumSquaredError(problem)\n",
    "optim = pybop.Optimisation(cost, optimiser=pybop.Adam)\n",
    "optim.set_max_iterations(400)"
   ]
  },
  {
   "cell_type": "markdown",
   "metadata": {
    "id": "caprp-bV04qB"
   },
   "source": [
    "### Running the Optimization\n",
    "\n",
    "We proceed to run the Adam optimization algorithm to estimate the parameters:"
   ]
  },
  {
   "cell_type": "code",
   "execution_count": 22,
   "metadata": {
    "id": "-9OVt0EQ04qB"
   },
   "outputs": [],
   "source": [
    "x, final_cost = optim.run()"
   ]
  },
  {
   "cell_type": "markdown",
   "metadata": {
    "id": "-4pZsDmS04qC"
   },
   "source": [
    "### Viewing the Estimated Parameters\n",
    "\n",
    "After the optimization, we can examine the estimated parameter values:"
   ]
  },
  {
   "cell_type": "code",
   "execution_count": 23,
   "metadata": {
    "colab": {
     "base_uri": "https://localhost:8080/"
    },
    "id": "Hgz8SV4i04qC",
    "outputId": "e1e42ae7-5075-4c47-dd68-1b22ecc170f6"
   },
   "outputs": [
    {
     "data": {
      "text/plain": [
       "array([0.74959075, 0.60882109])"
      ]
     },
     "execution_count": 23,
     "metadata": {},
     "output_type": "execute_result"
    }
   ],
   "source": [
    "x  # This will output the estimated parameters"
   ]
  },
  {
   "cell_type": "markdown",
   "metadata": {
    "id": "KxKURtH704qC"
   },
   "source": [
    "## Plotting and Visualization\n",
    "\n",
    "PyBOP provides various plotting utilities to visualize the results of the optimization."
   ]
  },
  {
   "cell_type": "markdown",
   "metadata": {
    "id": "-cWCOiqR04qC"
   },
   "source": [
    "### Comparing System Response\n",
    "\n",
    "We can quickly plot the system's response using the estimated parameters compared to the target:"
   ]
  },
  {
   "cell_type": "code",
   "execution_count": 24,
   "metadata": {
    "colab": {
     "base_uri": "https://localhost:8080/",
     "height": 467
    },
    "id": "tJUJ80Ve04qD",
    "outputId": "855fbaa2-1e09-4935-eb1a-8caf7f99eb75"
   },
   "outputs": [
    {
     "data": {
      "application/vnd.plotly.v1+json": {
       "config": {
        "plotlyServerURL": "https://plot.ly"
       },
       "data": [
        {
         "fill": "toself",
         "fillcolor": "rgba(255,229,204,0.8)",
         "hoverinfo": "skip",
         "line": {
          "color": "rgba(255,255,255,0)"
         },
         "showlegend": false,
         "type": "scatter",
         "x": [
          0,
          2,
          4,
          6,
          8,
          10,
          12,
          14,
          16,
          18,
          20,
          22,
          24,
          26,
          28,
          30,
          32,
          34,
          36,
          38,
          40,
          42,
          44,
          46,
          48,
          50,
          52,
          54,
          56,
          58,
          60,
          62,
          64,
          66,
          68,
          70,
          72,
          74,
          76,
          78,
          80,
          82,
          84,
          86,
          88,
          90,
          92,
          94,
          96,
          98,
          100,
          102,
          104,
          106,
          108,
          110,
          112,
          114,
          116,
          118,
          120,
          122,
          124,
          126,
          128,
          130,
          132,
          134,
          136,
          138,
          140,
          142,
          144,
          146,
          148,
          150,
          152,
          154,
          156,
          158,
          160,
          162,
          164,
          166,
          168,
          170,
          172,
          174,
          176,
          178,
          180,
          182,
          184,
          186,
          188,
          190,
          192,
          194,
          196,
          198,
          200,
          202,
          204,
          206,
          208,
          210,
          212,
          214,
          216,
          218,
          220,
          222,
          224,
          226,
          228,
          230,
          232,
          234,
          236,
          238,
          240,
          242,
          244,
          246,
          248,
          250,
          252,
          254,
          256,
          258,
          260,
          262,
          264,
          266,
          268,
          270,
          272,
          274,
          276,
          278,
          280,
          282,
          284,
          286,
          288,
          290,
          292,
          294,
          296,
          298,
          300,
          302,
          304,
          306,
          308,
          310,
          312,
          314,
          316,
          318,
          320,
          322,
          324,
          326,
          328,
          330,
          332,
          334,
          336,
          338,
          340,
          342,
          344,
          346,
          348,
          350,
          352,
          354,
          356,
          358,
          360,
          362,
          364,
          366,
          368,
          370,
          372,
          374,
          376,
          378,
          380,
          382,
          384,
          386,
          388,
          390,
          392,
          394,
          396,
          398,
          400,
          402,
          404,
          406,
          408,
          410,
          412,
          414,
          416,
          418,
          420,
          422,
          424,
          426,
          428,
          430,
          432,
          434,
          436,
          438,
          440,
          442,
          444,
          446,
          448,
          450,
          452,
          454,
          456,
          458,
          460,
          462,
          464,
          466,
          468,
          470,
          472,
          474,
          476,
          478,
          480,
          482,
          484,
          486,
          488,
          490,
          492,
          494,
          496,
          498,
          500,
          502,
          504,
          506,
          508,
          510,
          512,
          514,
          516,
          518,
          520,
          522,
          524,
          526,
          528,
          530,
          532,
          534,
          536,
          538,
          540,
          542,
          544,
          546,
          548,
          550,
          552,
          554,
          556,
          558,
          560,
          562,
          564,
          566,
          568,
          570,
          572,
          574,
          576,
          578,
          580,
          582,
          584,
          586,
          588,
          590,
          592,
          594,
          596,
          598,
          600,
          602,
          604,
          606,
          608,
          610,
          612,
          614,
          616,
          618,
          620,
          622,
          624,
          626,
          628,
          630,
          632,
          634,
          636,
          638,
          640,
          642,
          644,
          646,
          648,
          650,
          652,
          654,
          656,
          658,
          660,
          662,
          664,
          666,
          668,
          670,
          672,
          674,
          676,
          678,
          680,
          682,
          684,
          686,
          688,
          690,
          692,
          694,
          696,
          698,
          700,
          702,
          704,
          706,
          708,
          710,
          712,
          714,
          716,
          718,
          720,
          722,
          724,
          726,
          728,
          730,
          732,
          734,
          736,
          738,
          740,
          742,
          744,
          746,
          748,
          750,
          752,
          754,
          756,
          758,
          760,
          762,
          764,
          766,
          768,
          770,
          772,
          774,
          776,
          778,
          780,
          782,
          784,
          786,
          788,
          790,
          792,
          794,
          796,
          798,
          800,
          802,
          804,
          806,
          808,
          810,
          812,
          814,
          816,
          818,
          820,
          822,
          824,
          826,
          828,
          830,
          832,
          834,
          836,
          838,
          840,
          842,
          844,
          846,
          848,
          850,
          852,
          854,
          856,
          858,
          860,
          862,
          864,
          866,
          868,
          870,
          872,
          874,
          876,
          878,
          880,
          882,
          884,
          886,
          888,
          890,
          892,
          894,
          896,
          898,
          898,
          896,
          894,
          892,
          890,
          888,
          886,
          884,
          882,
          880,
          878,
          876,
          874,
          872,
          870,
          868,
          866,
          864,
          862,
          860,
          858,
          856,
          854,
          852,
          850,
          848,
          846,
          844,
          842,
          840,
          838,
          836,
          834,
          832,
          830,
          828,
          826,
          824,
          822,
          820,
          818,
          816,
          814,
          812,
          810,
          808,
          806,
          804,
          802,
          800,
          798,
          796,
          794,
          792,
          790,
          788,
          786,
          784,
          782,
          780,
          778,
          776,
          774,
          772,
          770,
          768,
          766,
          764,
          762,
          760,
          758,
          756,
          754,
          752,
          750,
          748,
          746,
          744,
          742,
          740,
          738,
          736,
          734,
          732,
          730,
          728,
          726,
          724,
          722,
          720,
          718,
          716,
          714,
          712,
          710,
          708,
          706,
          704,
          702,
          700,
          698,
          696,
          694,
          692,
          690,
          688,
          686,
          684,
          682,
          680,
          678,
          676,
          674,
          672,
          670,
          668,
          666,
          664,
          662,
          660,
          658,
          656,
          654,
          652,
          650,
          648,
          646,
          644,
          642,
          640,
          638,
          636,
          634,
          632,
          630,
          628,
          626,
          624,
          622,
          620,
          618,
          616,
          614,
          612,
          610,
          608,
          606,
          604,
          602,
          600,
          598,
          596,
          594,
          592,
          590,
          588,
          586,
          584,
          582,
          580,
          578,
          576,
          574,
          572,
          570,
          568,
          566,
          564,
          562,
          560,
          558,
          556,
          554,
          552,
          550,
          548,
          546,
          544,
          542,
          540,
          538,
          536,
          534,
          532,
          530,
          528,
          526,
          524,
          522,
          520,
          518,
          516,
          514,
          512,
          510,
          508,
          506,
          504,
          502,
          500,
          498,
          496,
          494,
          492,
          490,
          488,
          486,
          484,
          482,
          480,
          478,
          476,
          474,
          472,
          470,
          468,
          466,
          464,
          462,
          460,
          458,
          456,
          454,
          452,
          450,
          448,
          446,
          444,
          442,
          440,
          438,
          436,
          434,
          432,
          430,
          428,
          426,
          424,
          422,
          420,
          418,
          416,
          414,
          412,
          410,
          408,
          406,
          404,
          402,
          400,
          398,
          396,
          394,
          392,
          390,
          388,
          386,
          384,
          382,
          380,
          378,
          376,
          374,
          372,
          370,
          368,
          366,
          364,
          362,
          360,
          358,
          356,
          354,
          352,
          350,
          348,
          346,
          344,
          342,
          340,
          338,
          336,
          334,
          332,
          330,
          328,
          326,
          324,
          322,
          320,
          318,
          316,
          314,
          312,
          310,
          308,
          306,
          304,
          302,
          300,
          298,
          296,
          294,
          292,
          290,
          288,
          286,
          284,
          282,
          280,
          278,
          276,
          274,
          272,
          270,
          268,
          266,
          264,
          262,
          260,
          258,
          256,
          254,
          252,
          250,
          248,
          246,
          244,
          242,
          240,
          238,
          236,
          234,
          232,
          230,
          228,
          226,
          224,
          222,
          220,
          218,
          216,
          214,
          212,
          210,
          208,
          206,
          204,
          202,
          200,
          198,
          196,
          194,
          192,
          190,
          188,
          186,
          184,
          182,
          180,
          178,
          176,
          174,
          172,
          170,
          168,
          166,
          164,
          162,
          160,
          158,
          156,
          154,
          152,
          150,
          148,
          146,
          144,
          142,
          140,
          138,
          136,
          134,
          132,
          130,
          128,
          126,
          124,
          122,
          120,
          118,
          116,
          114,
          112,
          110,
          108,
          106,
          104,
          102,
          100,
          98,
          96,
          94,
          92,
          90,
          88,
          86,
          84,
          82,
          80,
          78,
          76,
          74,
          72,
          70,
          68,
          66,
          64,
          62,
          60,
          58,
          56,
          54,
          52,
          50,
          48,
          46,
          44,
          42,
          40,
          38,
          36,
          34,
          32,
          30,
          28,
          26,
          24,
          22,
          20,
          18,
          16,
          14,
          12,
          10,
          8,
          6,
          4,
          2,
          0
         ],
         "y": [
          4.069409085334125,
          4.0601834471251115,
          4.052275107778892,
          4.045548052603374,
          4.039786710355561,
          4.034809767485059,
          4.030473521370246,
          4.026665688337361,
          4.023299606295809,
          4.020307002392036,
          4.017633326780227,
          4.015235236366807,
          4.013076410222474,
          4.0111269574597435,
          4.009362068579041,
          4.007760603155709,
          4.006305391110603,
          4.004980727481927,
          4.003774339337482,
          4.002674128442867,
          4.001670541565694,
          4.000754153080076,
          3.9999171466002448,
          3.999152121134436,
          3.99845263663121,
          3.9978127563659265,
          3.997227180850361,
          3.9966909354572584,
          3.9961996539233127,
          3.9957493401877153,
          3.9953361056387657,
          3.9949564988845863,
          3.994607449731519,
          3.9942859552692256,
          3.993989128486594,
          3.99371453553381,
          3.9934598136993977,
          3.993222627038175,
          3.9930009771004307,
          3.9927929490809584,
          3.992596715319497,
          3.992410612630896,
          3.992233087274067,
          3.992062681978895,
          3.991898039503824,
          3.99173790181868,
          3.9915810920970483,
          3.9914265068800714,
          3.991273132878074,
          3.991120023729347,
          3.990966265477342,
          3.9908110546880153,
          3.9906536351748376,
          3.990493310237653,
          3.9903294403604948,
          3.990161360473184,
          3.9899885405903732,
          3.9898104837950576,
          3.9896267304672937,
          3.989436865005138,
          3.9892404488457527,
          3.989037119594966,
          3.9888265784426564,
          3.9886085389600083,
          3.9883827470009883,
          3.9881489514428257,
          3.9879069221353114,
          3.987656497171028,
          3.987397519081791,
          3.9871298537144817,
          3.986853382800838,
          3.9865679950062414,
          3.986273623575543,
          3.9859702097022582,
          3.985657711887337,
          3.985336103971306,
          3.985005362458347,
          3.984665496272099,
          3.9843165213183145,
          3.9839584665255794,
          3.98359137323084,
          3.983215259012032,
          3.9828301975757863,
          3.982436261261464,
          3.982033529715961,
          3.9816220920728767,
          3.981202046556897,
          3.980773500117212,
          3.9803365680874006,
          3.979891284130256,
          3.9794377907229586,
          3.978976233543407,
          3.9785067434818533,
          3.9780294569144616,
          3.97754451544192,
          3.977052065646151,
          3.9765522588634865,
          3.9760451647002695,
          3.975530925715541,
          3.9750097299982547,
          3.974481729400768,
          3.9739470779739956,
          3.973405931780151,
          3.9728584487185588,
          3.9723047883637084,
          3.971745051945331,
          3.9711793608946246,
          3.970607916212243,
          3.970030871893392,
          3.969448382422239,
          3.9688606027302837,
          3.968267688166375,
          3.967669794477492,
          3.967067077799492,
          3.9664596946570327,
          3.965847801971877,
          3.9652315570789454,
          3.964611117749264,
          3.963986523310676,
          3.963357877225578,
          3.962725417258217,
          3.9620892872609055,
          3.9614496303353004,
          3.9608065888450774,
          3.960160304433344,
          3.959510918044133,
          3.9588585699476675,
          3.958203399769048,
          3.9575455465198583,
          3.956885148632529,
          3.956222343997038,
          3.955557123911793,
          3.9548895714582732,
          3.9542199155709192,
          3.953548275130078,
          3.9528747671914206,
          3.952199506981481,
          3.9515226078952117,
          3.95084418149522,
          3.950164337512753,
          3.9494831838501594,
          3.948800826584773,
          3.9481173699741494,
          3.947432916462429,
          3.9467475093714235,
          3.9460612306848457,
          3.9453742116417896,
          3.944686541281446,
          3.943998306356327,
          3.9433095913276683,
          3.942620478361945,
          3.9419310473284788,
          3.9412413757979055,
          3.9405515390417074,
          3.939861610032527,
          3.939171659445411,
          3.938481755659795,
          3.937792008219647,
          3.937102490816011,
          3.936413240649264,
          3.935724321388795,
          3.93503579478745,
          3.9343477206981885,
          3.9336601570909964,
          3.9329731600700053,
          3.932286783890924,
          3.931601080978593,
          3.930916101944707,
          3.930231895605734,
          3.9295485090008744,
          3.92886603403921,
          3.9281845220045577,
          3.9275039903063673,
          3.926824483563064,
          3.9261460450613104,
          3.925468716784175,
          3.924792539438968,
          3.9241175524847782,
          3.923443794159725,
          3.9227713015078733,
          3.9221001104058,
          3.921430255588872,
          3.9207617706770668,
          3.920094683841927,
          3.919429026075213,
          3.918764829932162,
          3.9181021244214893,
          3.9174409375294847,
          3.916781296242845,
          3.916123226571117,
          3.915466753568783,
          3.9148119013569866,
          3.914158693144865,
          3.9135071512505575,
          3.912857297121817,
          3.9122091513562554,
          3.9115627139738867,
          3.910918002839694,
          3.910275045100259,
          3.909633856401598,
          3.9089944515024198,
          3.9083568442887087,
          3.907721047788062,
          3.9070870741837593,
          3.90645493482856,
          3.905824640258256,
          3.905196200204958,
          3.9045696236101257,
          3.9039449186373627,
          3.903322096828788,
          3.902701164850452,
          3.902082126856163,
          3.90146498837418,
          3.900849754241782,
          3.900236428617275,
          3.8996250149917553,
          3.8990155162006377,
          3.8984079344349105,
          3.8978022712521825,
          3.8971985275874514,
          3.8965967037636657,
          3.895996799502039,
          3.8953988499211083,
          3.8948028493654134,
          3.8942087800155765,
          3.893616640789429,
          3.8930264300731223,
          3.892438145726509,
          3.8918517850884733,
          3.8912673449820123,
          3.8906848217192445,
          3.8901042111061557,
          3.8895255084473446,
          3.888948708550459,
          3.8883738057305948,
          3.8878007938145083,
          3.887229666144673,
          3.886660415583231,
          3.8860930345157696,
          3.8855275148549775,
          3.8849638480441473,
          3.884402025060559,
          3.883842036418728,
          3.883283872173464,
          3.8827275854790146,
          3.8821732284611525,
          3.8816206982448733,
          3.881069986144481,
          3.8805210831466534,
          3.8799739799132795,
          3.879428666784224,
          3.878885133779904,
          3.878343370603778,
          3.8778033666447205,
          3.8772651109792444,
          3.8767285923736634,
          3.8761937992860442,
          3.8756607198681525,
          3.875129341967188,
          3.8745996531274707,
          3.874071640591971,
          3.8735452913037474,
          3.8730205919072747,
          3.872497528749615,
          3.871976087881558,
          3.871456255058568,
          3.8709380365620993,
          3.8704215809999183,
          3.8699067261711484,
          3.8693934599229736,
          3.8688817699541995,
          3.86837164381775,
          3.8678630689230085,
          3.867356032538103,
          3.8668505217920495,
          3.866346523676811,
          3.865844025049238,
          3.865343012632947,
          3.8648434730200143,
          3.8643453926726825,
          3.863848757924881,
          3.8633535549836973,
          3.86285976993073,
          3.862367388723379,
          3.8618763971959984,
          3.8613867810609976,
          3.8608985259098256,
          3.860411617213904,
          3.8599260403253948,
          3.859441809219439,
          3.85895889960204,
          3.858477294889817,
          3.8579969828067253,
          3.8575179511746325,
          3.85704018791956,
          3.856563681077796,
          3.8560884188019267,
          3.8556143893667945,
          3.8551415811753644,
          3.85466998276454,
          3.854199820510942,
          3.85373083417058,
          3.8532628955758805,
          3.8527960216518493,
          3.8523303115589025,
          3.851865683069139,
          3.8514021244432084,
          3.8509396534845406,
          3.8504782521805465,
          3.8500179025565293,
          3.8495585922679663,
          3.8491003087991857,
          3.848643040288014,
          3.8481867744542577,
          3.8477314989596887,
          3.847277193313528,
          3.846823786651271,
          3.846371321962849,
          3.845919786736665,
          3.8454691684070355,
          3.8450194543551093,
          3.8445706319097854,
          3.844122688348565,
          3.843675610898332,
          3.843229386736133,
          3.8427840029898603,
          3.842339446738924,
          3.841895693027924,
          3.841452633463128,
          3.841010344633924,
          3.8405688134916716,
          3.8401280269390288,
          3.839687971830305,
          3.839248634971829,
          3.8388100031222105,
          3.838372062992567,
          3.837934801246754,
          3.837498204501493,
          3.837062259326512,
          3.8366269407652913,
          3.8361921339445417,
          3.8357579195697102,
          3.83532428406834,
          3.834891213817886,
          3.834458695145517,
          3.8340267143279663,
          3.8335952575912966,
          3.8331643111106555,
          3.832733861009961,
          3.832303893361558,
          3.831874394185862,
          3.8314453395461476,
          3.8310166176058553,
          3.8305883042344946,
          3.8301603852657773,
          3.829732846475959,
          3.829305673583234,
          3.8288788522470485,
          3.828452368067431,
          3.8280262065842243,
          3.827600353276312,
          3.827174793560798,
          3.8267495127921407,
          3.826324488018212,
          3.8258996127080223,
          3.82547495567302,
          3.8250505020144026,
          3.8246262367629287,
          3.8242021448778325,
          3.823778211245628,
          3.8233544206789274,
          3.8229307579152083,
          3.822507207615512,
          3.8220837543631134,
          3.8216603826621514,
          3.821237069957637,
          3.8208137107625877,
          3.820390367891996,
          3.8199670249813655,
          3.819543665576123,
          3.819120273129828,
          3.818696831002301,
          3.818273322457713,
          3.817849730662613,
          3.8174260386839154,
          3.8170022294868566,
          3.8165782859328456,
          3.816154190777298,
          3.8157299266674367,
          3.8153054761399963,
          3.814880821618869,
          3.8144559454127647,
          3.8140308297127152,
          3.813605456589587,
          3.8131798079915376,
          3.812753865741363,
          3.812327611533839,
          3.8119009786533655,
          3.8114739741147248,
          3.8110465926708614,
          3.8106188150550095,
          3.810190621855304,
          3.809761993511587,
          3.8093329103121665,
          3.808903352390525,
          3.80847329972194,
          3.8080427321200454,
          3.807611629233334,
          3.807179970541581,
          3.8067477353522103,
          3.806314902796583,
          3.805881451826222,
          3.8054473612089734,
          3.805012609525098,
          3.804577175163279,
          3.804141036316586,
          3.803704170978345,
          3.8032665569379778,
          3.802828167463069,
          3.8023889780719804,
          3.8019489706686236,
          3.801508122116508,
          3.801066409052759,
          3.8006238078835737,
          3.8001802947795538,
          3.7997358456710058,
          3.799290436243201,
          3.7988440419315457,
          3.7983966379167198,
          3.797948199119807,
          3.797498700197308,
          3.7970481155361697,
          3.796596419248749,
          3.7961435851677776,
          3.7956895868412612,
          3.7952343975273863,
          3.7947779901894143,
          3.794320337490548,
          3.7938614117888148,
          3.7934011858793992,
          3.7929396360788483,
          3.7924767301773157,
          3.7920124394179564,
          3.7915467347147183,
          3.7910795866474523,
          3.7906109654570117,
          3.7901408410405395,
          3.7896691829467524,
          3.789195960371369,
          3.7887211421526668,
          3.774119690832461,
          3.774594509051163,
          3.7750677316265464,
          3.7755393897203335,
          3.7760095141368057,
          3.7764781353272463,
          3.7769452833945123,
          3.7774109880977504,
          3.7778752788571097,
          3.7783381847586424,
          3.7787997345591933,
          3.779259960468609,
          3.779718886170342,
          3.7801765388692083,
          3.7806329462071804,
          3.7810881355210553,
          3.7815421338475717,
          3.781994967928543,
          3.7824466642159638,
          3.782897248877102,
          3.7833467477996012,
          3.783795186596514,
          3.7842425906113397,
          3.784688984922995,
          3.7851343943508,
          3.785578843459348,
          3.7860223565633677,
          3.786464957732553,
          3.786906670796302,
          3.7873475193484176,
          3.7877875267517744,
          3.788226716142863,
          3.788665105617772,
          3.789102719658139,
          3.78953958499638,
          3.789975723843073,
          3.790411158204892,
          3.7908459098887675,
          3.791280000506016,
          3.791713451476377,
          3.7921462840320044,
          3.792578519221375,
          3.793010177913128,
          3.7934412807998394,
          3.793871848401734,
          3.794301901070319,
          3.7947314589919605,
          3.795160542191381,
          3.795589170535098,
          3.7960173637348036,
          3.7964451413506555,
          3.796872522794519,
          3.7972995273331596,
          3.797726160213633,
          3.798152414421157,
          3.7985783566713316,
          3.799004005269381,
          3.7994293783925093,
          3.7998544940925587,
          3.800279370298663,
          3.8007040248197903,
          3.8011284753472308,
          3.801552739457092,
          3.8019768346126397,
          3.8024007781666507,
          3.8028245873637094,
          3.803248279342407,
          3.803671871137507,
          3.804095379682095,
          3.804518821809622,
          3.804942214255917,
          3.8053655736611596,
          3.80578891657179,
          3.8062122594423817,
          3.806635618637431,
          3.8070589313419454,
          3.8074823030429075,
          3.8079057562953063,
          3.8083293065950024,
          3.8087529693587214,
          3.809176759925422,
          3.8096006935576265,
          3.8100247854427227,
          3.8104490506941966,
          3.810873504352814,
          3.8112981613878163,
          3.811723036698006,
          3.8121480614719347,
          3.812573342240592,
          3.812998901956106,
          3.8134247552640184,
          3.813850916747225,
          3.8142774009268425,
          3.814704222263028,
          3.815131395155753,
          3.8155589339455713,
          3.8159868529142886,
          3.8164151662856494,
          3.8168438882259417,
          3.817272942865656,
          3.817702442041352,
          3.818132409689755,
          3.8185628597904495,
          3.8189938062710906,
          3.8194252630077603,
          3.819857243825311,
          3.82028976249768,
          3.820722832748134,
          3.8211564682495043,
          3.8215906826243358,
          3.8220254894450854,
          3.822460808006306,
          3.822896753181287,
          3.823333349926548,
          3.823770611672361,
          3.8242085518020046,
          3.824647183651623,
          3.8250865205100992,
          3.825526575618823,
          3.8259673621714656,
          3.826408893313718,
          3.826851182142922,
          3.827294241707718,
          3.827737995418718,
          3.8281825516696544,
          3.828627935415927,
          3.829074159578126,
          3.829521237028359,
          3.8299691805895795,
          3.8304180030349033,
          3.8308677170868295,
          3.831318335416459,
          3.831769870642643,
          3.832222335331065,
          3.832675741993322,
          3.8331300476394827,
          3.8335853231340518,
          3.834041588967808,
          3.83449885747898,
          3.8349571409477603,
          3.8354164512363234,
          3.8358768008603406,
          3.8363382021643346,
          3.8368006731230024,
          3.837264231748933,
          3.8377288602386965,
          3.8381945703316434,
          3.8386614442556746,
          3.839129382850374,
          3.839598369190736,
          3.840068531444334,
          3.8405401298551585,
          3.8410129380465885,
          3.8414869674817207,
          3.84196222975759,
          3.842438736599354,
          3.8429164998544265,
          3.8433955314865194,
          3.843875843569611,
          3.844357448281834,
          3.844840357899233,
          3.845324589005189,
          3.845810165893698,
          3.8462970745896197,
          3.8467853297407917,
          3.8472749458757924,
          3.847765937403173,
          3.848258318610524,
          3.8487521036634913,
          3.849247306604675,
          3.8497439413524766,
          3.8502420216998083,
          3.850741561312741,
          3.851242573729032,
          3.851745072356605,
          3.8522490704718435,
          3.852754581217897,
          3.8532616176028025,
          3.853770192497544,
          3.8542803186339936,
          3.8547920086027676,
          3.8553052748509424,
          3.8558201296797123,
          3.8563365852418934,
          3.856854803738362,
          3.857374636561352,
          3.857896077429409,
          3.8584191405870687,
          3.8589438399835414,
          3.859470189271765,
          3.8599982018072647,
          3.860527890646982,
          3.8610592685479466,
          3.8615923479658383,
          3.8621271410534574,
          3.8626636596590385,
          3.8632019153245145,
          3.863741919283572,
          3.864283682459698,
          3.864827215464018,
          3.8653725285930736,
          3.8659196318264475,
          3.866468534824275,
          3.8670192469246674,
          3.8675717771409466,
          3.8681261341588087,
          3.868682420853258,
          3.869240585098522,
          3.869800573740353,
          3.8703623967239413,
          3.8709260635347715,
          3.8714915831955636,
          3.872058964263025,
          3.872628214824467,
          3.8731993424943023,
          3.873772354410389,
          3.874347257230253,
          3.8749240571271386,
          3.8755027597859497,
          3.8760833703990385,
          3.8766658936618064,
          3.8772503337682673,
          3.877836694406303,
          3.8784249787529164,
          3.879015189469223,
          3.8796073286953705,
          3.8802013980452075,
          3.8807973986009023,
          3.881395348181833,
          3.8819952524434598,
          3.8825970762672455,
          3.8832008199319765,
          3.8838064831147046,
          3.8844140648804317,
          3.8850235636715493,
          3.885634977297069,
          3.886248302921576,
          3.886863537053974,
          3.887480675535957,
          3.888099713530246,
          3.888720645508582,
          3.8893434673171567,
          3.8899681722899198,
          3.890594748884752,
          3.89122318893805,
          3.891853483508354,
          3.8924856228635534,
          3.893119596467856,
          3.8937553929685027,
          3.894393000182214,
          3.895032405081392,
          3.895673593780053,
          3.896316551519488,
          3.8969612626536807,
          3.8976077000360494,
          3.898255845801611,
          3.8989056999303515,
          3.899557241824659,
          3.9002104500367807,
          3.900865302248577,
          3.9015217752509113,
          3.9021798449226393,
          3.902839486209279,
          3.9035006731012833,
          3.904163378611956,
          3.904827574755007,
          3.905493232521721,
          3.906160319356861,
          3.906828804268666,
          3.907498659085594,
          3.9081698501876674,
          3.908842342839519,
          3.9095161011645723,
          3.9101910881187623,
          3.910867265463969,
          3.9115445937411044,
          3.912223032242858,
          3.9129025389861614,
          3.9135830706843517,
          3.914264582719004,
          3.9149470576806684,
          3.915630444285528,
          3.9163146506245012,
          3.916999629658387,
          3.917685332570718,
          3.9183717087497993,
          3.9190587057707904,
          3.9197462693779825,
          3.920434343467244,
          3.921122870068589,
          3.921811789329058,
          3.922501039495805,
          3.923190556899441,
          3.923880304339589,
          3.924570208125205,
          3.9252601587123213,
          3.9259500877215014,
          3.9266399244776995,
          3.927329596008273,
          3.928019027041739,
          3.9287081400074624,
          3.929396855036121,
          3.93008508996124,
          3.9307727603215836,
          3.9314597793646398,
          3.9321460580512175,
          3.932831465142223,
          3.9335159186539435,
          3.934199375264567,
          3.9348817325299534,
          3.935562886192547,
          3.9362427301750142,
          3.9369211565750057,
          3.937598055661275,
          3.9382733158712147,
          3.938946823809872,
          3.9396184642507133,
          3.9402881201380673,
          3.940955672591587,
          3.941620892676832,
          3.942283697312323,
          3.9429440951996524,
          3.943601948448842,
          3.9442571186274615,
          3.944909466723927,
          3.945558853113138,
          3.9462051375248715,
          3.9468481790150944,
          3.9474878359406995,
          3.948123965938011,
          3.9487564259053722,
          3.94938507199047,
          3.950009666429058,
          3.9506301057587394,
          3.951246350651671,
          3.951858243336827,
          3.952465626479286,
          3.953068343157286,
          3.953666236846169,
          3.9542591514100778,
          3.954846931102033,
          3.955429420573186,
          3.9560064648920372,
          3.9565779095744187,
          3.957143600625125,
          3.9577033370435024,
          3.958256997398353,
          3.958804480459945,
          3.9593456266537896,
          3.959880278080562,
          3.960408278678049,
          3.960929474395335,
          3.9614437133800635,
          3.9619508075432806,
          3.9624506143259453,
          3.962943064121714,
          3.9634280055942557,
          3.9639052921616473,
          3.964374782223201,
          3.9648363394027526,
          3.96528983281005,
          3.9657351167671946,
          3.9661720487970062,
          3.966600595236691,
          3.9670206407526707,
          3.967432078395755,
          3.967834809941258,
          3.9682287462555803,
          3.9686138076918263,
          3.968989921910634,
          3.9693570152053734,
          3.9697150699981085,
          3.970064044951893,
          3.970403911138141,
          3.9707346526511,
          3.971056260567131,
          3.9713687583820523,
          3.971672172255337,
          3.9719665436860354,
          3.972251931480632,
          3.9725284023942757,
          3.972796067761585,
          3.9730550458508223,
          3.9733054708151054,
          3.9735475001226197,
          3.9737812956807823,
          3.9740070876398024,
          3.9742251271224505,
          3.97443566827476,
          3.9746389975255467,
          3.974835413684932,
          3.9750252791470877,
          3.9752090324748517,
          3.9753870892701673,
          3.975559909152978,
          3.975727989040289,
          3.9758918589174472,
          3.9760521838546317,
          3.9762096033678094,
          3.976364814157136,
          3.976518572409141,
          3.976671681557868,
          3.9768250555598654,
          3.9769796407768423,
          3.977136450498474,
          3.977296588183618,
          3.977461230658689,
          3.977631635953861,
          3.97780916131069,
          3.977995263999291,
          3.9781914977607524,
          3.9783995257802247,
          3.978621175717969,
          3.9788583623791918,
          3.979113084213604,
          3.979387677166388,
          3.9796845039490196,
          3.980005998411313,
          3.9803550475643803,
          3.9807346543185598,
          3.9811478888675094,
          3.9815982026031067,
          3.9820894841370524,
          3.982625729530155,
          3.9832113050457205,
          3.983851185311004,
          3.98455066981423,
          3.985315695280039,
          3.98615270175987,
          3.987069090245488,
          3.9880726771226604,
          3.989172888017275,
          3.9903792761617205,
          3.991703939790397,
          3.9931591518355023,
          3.994760617258835,
          3.996525506139537,
          3.9984749589022672,
          4.0006337850466,
          4.00303187546002,
          4.005705551071829,
          4.008698154975602,
          4.012064237017154,
          4.015872070050039,
          4.020208316164852,
          4.0251852590353545,
          4.030946601283167,
          4.0376736564586855,
          4.045581995804905,
          4.054807634013918
         ]
        },
        {
         "mode": "markers",
         "name": "Target",
         "type": "scatter",
         "x": [
          0,
          2,
          4,
          6,
          8,
          10,
          12,
          14,
          16,
          18,
          20,
          22,
          24,
          26,
          28,
          30,
          32,
          34,
          36,
          38,
          40,
          42,
          44,
          46,
          48,
          50,
          52,
          54,
          56,
          58,
          60,
          62,
          64,
          66,
          68,
          70,
          72,
          74,
          76,
          78,
          80,
          82,
          84,
          86,
          88,
          90,
          92,
          94,
          96,
          98,
          100,
          102,
          104,
          106,
          108,
          110,
          112,
          114,
          116,
          118,
          120,
          122,
          124,
          126,
          128,
          130,
          132,
          134,
          136,
          138,
          140,
          142,
          144,
          146,
          148,
          150,
          152,
          154,
          156,
          158,
          160,
          162,
          164,
          166,
          168,
          170,
          172,
          174,
          176,
          178,
          180,
          182,
          184,
          186,
          188,
          190,
          192,
          194,
          196,
          198,
          200,
          202,
          204,
          206,
          208,
          210,
          212,
          214,
          216,
          218,
          220,
          222,
          224,
          226,
          228,
          230,
          232,
          234,
          236,
          238,
          240,
          242,
          244,
          246,
          248,
          250,
          252,
          254,
          256,
          258,
          260,
          262,
          264,
          266,
          268,
          270,
          272,
          274,
          276,
          278,
          280,
          282,
          284,
          286,
          288,
          290,
          292,
          294,
          296,
          298,
          300,
          302,
          304,
          306,
          308,
          310,
          312,
          314,
          316,
          318,
          320,
          322,
          324,
          326,
          328,
          330,
          332,
          334,
          336,
          338,
          340,
          342,
          344,
          346,
          348,
          350,
          352,
          354,
          356,
          358,
          360,
          362,
          364,
          366,
          368,
          370,
          372,
          374,
          376,
          378,
          380,
          382,
          384,
          386,
          388,
          390,
          392,
          394,
          396,
          398,
          400,
          402,
          404,
          406,
          408,
          410,
          412,
          414,
          416,
          418,
          420,
          422,
          424,
          426,
          428,
          430,
          432,
          434,
          436,
          438,
          440,
          442,
          444,
          446,
          448,
          450,
          452,
          454,
          456,
          458,
          460,
          462,
          464,
          466,
          468,
          470,
          472,
          474,
          476,
          478,
          480,
          482,
          484,
          486,
          488,
          490,
          492,
          494,
          496,
          498,
          500,
          502,
          504,
          506,
          508,
          510,
          512,
          514,
          516,
          518,
          520,
          522,
          524,
          526,
          528,
          530,
          532,
          534,
          536,
          538,
          540,
          542,
          544,
          546,
          548,
          550,
          552,
          554,
          556,
          558,
          560,
          562,
          564,
          566,
          568,
          570,
          572,
          574,
          576,
          578,
          580,
          582,
          584,
          586,
          588,
          590,
          592,
          594,
          596,
          598,
          600,
          602,
          604,
          606,
          608,
          610,
          612,
          614,
          616,
          618,
          620,
          622,
          624,
          626,
          628,
          630,
          632,
          634,
          636,
          638,
          640,
          642,
          644,
          646,
          648,
          650,
          652,
          654,
          656,
          658,
          660,
          662,
          664,
          666,
          668,
          670,
          672,
          674,
          676,
          678,
          680,
          682,
          684,
          686,
          688,
          690,
          692,
          694,
          696,
          698,
          700,
          702,
          704,
          706,
          708,
          710,
          712,
          714,
          716,
          718,
          720,
          722,
          724,
          726,
          728,
          730,
          732,
          734,
          736,
          738,
          740,
          742,
          744,
          746,
          748,
          750,
          752,
          754,
          756,
          758,
          760,
          762,
          764,
          766,
          768,
          770,
          772,
          774,
          776,
          778,
          780,
          782,
          784,
          786,
          788,
          790,
          792,
          794,
          796,
          798,
          800,
          802,
          804,
          806,
          808,
          810,
          812,
          814,
          816,
          818,
          820,
          822,
          824,
          826,
          828,
          830,
          832,
          834,
          836,
          838,
          840,
          842,
          844,
          846,
          848,
          850,
          852,
          854,
          856,
          858,
          860,
          862,
          864,
          866,
          868,
          870,
          872,
          874,
          876,
          878,
          880,
          882,
          884,
          886,
          888,
          890,
          892,
          894,
          896,
          898
         ],
         "y": [
          4.0642936042166316,
          4.055247369909628,
          4.047562648333548,
          4.04170694755277,
          4.036470411987567,
          4.031261307528761,
          4.028839109305117,
          4.024160325411498,
          4.0201186404171025,
          4.019128214137314,
          4.014784549123485,
          4.013545640501475,
          4.008950376518328,
          4.008349433407843,
          4.0054405657804075,
          4.003371277159347,
          4.003843340788115,
          4.002759581444141,
          4.001698603263032,
          3.9998464933833886,
          3.9996716895211386,
          3.998982232781615,
          3.9972087778503624,
          3.9935326575421817,
          3.9968464291822947,
          3.9921174228824485,
          3.993833428178188,
          3.994131195332841,
          3.9926833555648695,
          3.9925581708364235,
          3.991218601840674,
          3.9906006542919585,
          3.9902692768544212,
          3.9887754417181376,
          3.9898682712310087,
          3.988935540655242,
          3.9901716427353175,
          3.9911787318340943,
          3.988867576019678,
          3.9869108403776568,
          3.987415531789007,
          3.9885336669171276,
          3.987204621988873,
          3.989174994337588,
          3.9851454263382338,
          3.987102598483577,
          3.9870145257917833,
          3.987312329986473,
          3.9865593476915406,
          3.9886168643612234,
          3.9863617915195557,
          3.9858930483210337,
          3.9855888712517094,
          3.9855198627495274,
          3.9855951958926785,
          3.986813231793018,
          3.982803977027148,
          3.986187672106951,
          3.984186985273501,
          3.984394771823851,
          3.987038672512569,
          3.9839260778577463,
          3.985661860897585,
          3.984099008352487,
          3.985399855627609,
          3.9864342192409556,
          3.9841947571491505,
          3.9844299008692317,
          3.9855872103840992,
          3.985276387494318,
          3.9852511211193895,
          3.9839564853882945,
          3.982953775591216,
          3.981747178364704,
          3.981968073989974,
          3.981151910846345,
          3.983079121222521,
          3.9811089246713665,
          3.9817499613003315,
          3.983278590735271,
          3.980578860408614,
          3.981717104307516,
          3.979399344899368,
          3.9820179392540367,
          3.980710655119109,
          3.9794518585894045,
          3.980862493961963,
          3.980160885567054,
          3.9803895596767367,
          3.9798797318733357,
          3.978938129414863,
          3.9780866433514652,
          3.9776208710075367,
          3.9795970260452815,
          3.9789685994510924,
          3.977592075588845,
          3.9757685064610206,
          3.97633129791508,
          3.9766965754014154,
          3.9748775611622147,
          3.976768248082923,
          3.9749126456860684,
          3.9738016241729555,
          3.9723978293871545,
          3.972272361264244,
          3.9742591694092773,
          3.9739878097195267,
          3.971531096846387,
          3.9737181039666702,
          3.972223297857433,
          3.9712658028434062,
          3.971562892563125,
          3.9714520704350487,
          3.9717249722456924,
          3.970461966620821,
          3.967918575536853,
          3.9678280244892274,
          3.9696952833036505,
          3.9678931184357267,
          3.9681703022272243,
          3.9670958537901364,
          3.9669781917595754,
          3.966910008966875,
          3.964729154847711,
          3.964807876132338,
          3.9646732820235,
          3.9636401996255994,
          3.964698352278589,
          3.9628542295433054,
          3.9630772744088243,
          3.9611879478738845,
          3.960712847764878,
          3.9635861674481836,
          3.960407863347703,
          3.960160768611451,
          3.9581294281911097,
          3.959726571833682,
          3.9578383996631508,
          3.9556186190844063,
          3.956397846738801,
          3.9581592896471456,
          3.9561158046747007,
          3.954684747419382,
          3.956553483466271,
          3.9535248782821575,
          3.9533669517490684,
          3.952240326557315,
          3.952867314939262,
          3.9531251156590987,
          3.952278619102011,
          3.9502318630335505,
          3.950172888597651,
          3.9468399088386477,
          3.949073137136319,
          3.949204392949204,
          3.947476521112613,
          3.9480258706753935,
          3.94762882346675,
          3.947393006801813,
          3.9461610593799623,
          3.9437917359210393,
          3.9442103214032502,
          3.9439103230633195,
          3.9436998543696458,
          3.943356044079462,
          3.943118033536709,
          3.9403772895936706,
          3.9399109594426034,
          3.940378605823898,
          3.941131402786104,
          3.9417289869527585,
          3.9401072819095653,
          3.9396678650925328,
          3.937516142657316,
          3.9363969007987727,
          3.934874995379803,
          3.9346098703942367,
          3.9361037355123565,
          3.933587400303623,
          3.9369240261956535,
          3.933629526908953,
          3.9323787617854404,
          3.9330661246142404,
          3.931576567542683,
          3.930718615664881,
          3.9302931408241846,
          3.930106290686119,
          3.92965368195146,
          3.92963132322127,
          3.927125930435148,
          3.928170377437646,
          3.925724529143811,
          3.9268125408928145,
          3.9236924793187002,
          3.9245681042384852,
          3.9240677495607765,
          3.9249715365133224,
          3.9231926278797125,
          3.9206946213431033,
          3.921955957923204,
          3.9234432246239748,
          3.9226831624862504,
          3.919055218194535,
          3.9190942260537986,
          3.920558934244036,
          3.920401426338944,
          3.9200223295915255,
          3.9167736887908604,
          3.9168659738568055,
          3.9160901587254315,
          3.9161508061074732,
          3.9157281858761404,
          3.9151507480163454,
          3.9123193250346637,
          3.9131589858127738,
          3.9126176322255226,
          3.912083456865546,
          3.911170104741441,
          3.9109730846561894,
          3.9107719368457166,
          3.909725131107276,
          3.9101667039323806,
          3.9061724578759516,
          3.9090410313514097,
          3.9070490442720893,
          3.9065439940100455,
          3.9074862924934393,
          3.9050370509293,
          3.9047673294595486,
          3.903632813852465,
          3.9052958684529875,
          3.9029999148261805,
          3.9038223653096966,
          3.9019369261749963,
          3.901068456038932,
          3.9018156691476515,
          3.9001693250583207,
          3.8985348787131344,
          3.8998272670825043,
          3.899223272364894,
          3.897248587647853,
          3.8965984674582943,
          3.8965042290197145,
          3.8952093877633964,
          3.8979520786605804,
          3.89500794276629,
          3.8958044655163873,
          3.89348273504972,
          3.8919043451611994,
          3.893105452102119,
          3.891492532135288,
          3.8917372482651107,
          3.8945017442706997,
          3.8917588442026188,
          3.891145763332319,
          3.8927100742232583,
          3.887974397195683,
          3.8896029753126387,
          3.888199580762906,
          3.889163110123418,
          3.888190183631694,
          3.8879006489427623,
          3.886928747373405,
          3.886609537462156,
          3.8869264306285274,
          3.885198604283429,
          3.8865738419039535,
          3.8847566188655724,
          3.884477205366019,
          3.8824717105510715,
          3.8807282397456655,
          3.882564637236408,
          3.881410737491432,
          3.881813730107673,
          3.880700347854898,
          3.8809196152080974,
          3.8799706337710558,
          3.879857986856854,
          3.8771938035066364,
          3.879310336573046,
          3.8777312605812897,
          3.877819709127911,
          3.875695954528853,
          3.8767549381096535,
          3.8748799579597413,
          3.8736944162013325,
          3.8729040841097016,
          3.8736893292952104,
          3.8739906283153402,
          3.873110300246829,
          3.872237699226705,
          3.8713717552315683,
          3.8717808753897907,
          3.871721196631256,
          3.8711168104594726,
          3.871134204562752,
          3.8693705368974096,
          3.870784311776316,
          3.8668301447779165,
          3.8681983859206652,
          3.866849161602926,
          3.86771159359641,
          3.8680673778945036,
          3.867175379498705,
          3.8652100377706615,
          3.8641224001417327,
          3.865682033618418,
          3.8658661347691283,
          3.86528882806965,
          3.865170775003813,
          3.8650938230761684,
          3.863559009621453,
          3.8626261925227254,
          3.8616002456153633,
          3.8605367416038785,
          3.8614311976391145,
          3.861476146654293,
          3.8602268893627203,
          3.8589798867017007,
          3.860738447974875,
          3.857337725098417,
          3.8584112736841427,
          3.8568134880056326,
          3.8570614528377405,
          3.85629309294869,
          3.854876920407636,
          3.8574796517082053,
          3.8561216086949015,
          3.856517283595356,
          3.8536329206645883,
          3.8542186675866734,
          3.854295659941095,
          3.8526291353869975,
          3.8533124826451726,
          3.852155895642069,
          3.85088439331894,
          3.85183440988892,
          3.8505548668161618,
          3.8513308951181395,
          3.8512660296308434,
          3.849738003225371,
          3.849219735262644,
          3.849415445119658,
          3.8463496411544087,
          3.8483016613597294,
          3.847396557844445,
          3.8483086366751884,
          3.846928693053506,
          3.847234214410313,
          3.846543856000555,
          3.8438238215074154,
          3.845121000864967,
          3.8453157305759245,
          3.843956538970165,
          3.8447182414198906,
          3.844075018031965,
          3.843821948181671,
          3.8421223370210815,
          3.84305811472737,
          3.8418292164869836,
          3.8430345184880252,
          3.840915533712202,
          3.8387436162825868,
          3.840668875107893,
          3.8414845839635103,
          3.84065722777423,
          3.8414141218868676,
          3.8388197732952007,
          3.8400383506054907,
          3.8365472842615,
          3.8397668657709754,
          3.8388867988627426,
          3.8358298715238344,
          3.8348508221683466,
          3.83880483370908,
          3.8357524646846177,
          3.8360563212556436,
          3.835560992714603,
          3.8359977480886958,
          3.8349669406700198,
          3.8346880438695923,
          3.832065551184803,
          3.8323164174398294,
          3.832126811822378,
          3.8342809048481477,
          3.8302003558569675,
          3.832987868010063,
          3.830613170916759,
          3.832034456413613,
          3.8307340859052545,
          3.8284427214127486,
          3.8293955515417553,
          3.8277626121148134,
          3.829209417976929,
          3.8275029626218338,
          3.8291037256049187,
          3.8268237328997032,
          3.8270020123309014,
          3.8272076959135934,
          3.8249656279174973,
          3.826011190791867,
          3.826104210570798,
          3.826159069115752,
          3.8238903025602693,
          3.822264990949354,
          3.8252195891577885,
          3.8236654197201894,
          3.821747510729285,
          3.8207104275978248,
          3.821719093700516,
          3.8217845619936437,
          3.822047561688007,
          3.821869941179955,
          3.82179969139879,
          3.8213526896175005,
          3.8220175864736663,
          3.817669133650412,
          3.819130880012844,
          3.8194638474535756,
          3.8193335168411187,
          3.8191430844633465,
          3.8181905707097408,
          3.8182020546939484,
          3.8177715027834886,
          3.8175422457316626,
          3.8158600098987385,
          3.8154552491746325,
          3.8144848271053586,
          3.814653708365386,
          3.813553104784434,
          3.8142581101272426,
          3.8153246822779265,
          3.812108983668821,
          3.8132048987819167,
          3.810708313699819,
          3.81238277307235,
          3.8125709390772156,
          3.811914002652422,
          3.8107041172672234,
          3.8106869058503987,
          3.8091645202834306,
          3.810047755910662,
          3.8069647289995343,
          3.8100892860943287,
          3.8098642839143877,
          3.8088817735066005,
          3.8074202298942894,
          3.8071016365256827,
          3.8075710404886625,
          3.805725242712594
         ]
        },
        {
         "line": {
          "width": 4
         },
         "mode": "lines",
         "name": "Model",
         "type": "scatter",
         "x": [
          0,
          2,
          4,
          6,
          8,
          10,
          12,
          14,
          16,
          18,
          20,
          22,
          24,
          26,
          28,
          30,
          32,
          34,
          36,
          38,
          40,
          42,
          44,
          46,
          48,
          50,
          52,
          54,
          56,
          58,
          60,
          62,
          64,
          66,
          68,
          70,
          72,
          74,
          76,
          78,
          80,
          82,
          84,
          86,
          88,
          90,
          92,
          94,
          96,
          98,
          100,
          102,
          104,
          106,
          108,
          110,
          112,
          114,
          116,
          118,
          120,
          122,
          124,
          126,
          128,
          130,
          132,
          134,
          136,
          138,
          140,
          142,
          144,
          146,
          148,
          150,
          152,
          154,
          156,
          158,
          160,
          162,
          164,
          166,
          168,
          170,
          172,
          174,
          176,
          178,
          180,
          182,
          184,
          186,
          188,
          190,
          192,
          194,
          196,
          198,
          200,
          202,
          204,
          206,
          208,
          210,
          212,
          214,
          216,
          218,
          220,
          222,
          224,
          226,
          228,
          230,
          232,
          234,
          236,
          238,
          240,
          242,
          244,
          246,
          248,
          250,
          252,
          254,
          256,
          258,
          260,
          262,
          264,
          266,
          268,
          270,
          272,
          274,
          276,
          278,
          280,
          282,
          284,
          286,
          288,
          290,
          292,
          294,
          296,
          298,
          300,
          302,
          304,
          306,
          308,
          310,
          312,
          314,
          316,
          318,
          320,
          322,
          324,
          326,
          328,
          330,
          332,
          334,
          336,
          338,
          340,
          342,
          344,
          346,
          348,
          350,
          352,
          354,
          356,
          358,
          360,
          362,
          364,
          366,
          368,
          370,
          372,
          374,
          376,
          378,
          380,
          382,
          384,
          386,
          388,
          390,
          392,
          394,
          396,
          398,
          400,
          402,
          404,
          406,
          408,
          410,
          412,
          414,
          416,
          418,
          420,
          422,
          424,
          426,
          428,
          430,
          432,
          434,
          436,
          438,
          440,
          442,
          444,
          446,
          448,
          450,
          452,
          454,
          456,
          458,
          460,
          462,
          464,
          466,
          468,
          470,
          472,
          474,
          476,
          478,
          480,
          482,
          484,
          486,
          488,
          490,
          492,
          494,
          496,
          498,
          500,
          502,
          504,
          506,
          508,
          510,
          512,
          514,
          516,
          518,
          520,
          522,
          524,
          526,
          528,
          530,
          532,
          534,
          536,
          538,
          540,
          542,
          544,
          546,
          548,
          550,
          552,
          554,
          556,
          558,
          560,
          562,
          564,
          566,
          568,
          570,
          572,
          574,
          576,
          578,
          580,
          582,
          584,
          586,
          588,
          590,
          592,
          594,
          596,
          598,
          600,
          602,
          604,
          606,
          608,
          610,
          612,
          614,
          616,
          618,
          620,
          622,
          624,
          626,
          628,
          630,
          632,
          634,
          636,
          638,
          640,
          642,
          644,
          646,
          648,
          650,
          652,
          654,
          656,
          658,
          660,
          662,
          664,
          666,
          668,
          670,
          672,
          674,
          676,
          678,
          680,
          682,
          684,
          686,
          688,
          690,
          692,
          694,
          696,
          698,
          700,
          702,
          704,
          706,
          708,
          710,
          712,
          714,
          716,
          718,
          720,
          722,
          724,
          726,
          728,
          730,
          732,
          734,
          736,
          738,
          740,
          742,
          744,
          746,
          748,
          750,
          752,
          754,
          756,
          758,
          760,
          762,
          764,
          766,
          768,
          770,
          772,
          774,
          776,
          778,
          780,
          782,
          784,
          786,
          788,
          790,
          792,
          794,
          796,
          798,
          800,
          802,
          804,
          806,
          808,
          810,
          812,
          814,
          816,
          818,
          820,
          822,
          824,
          826,
          828,
          830,
          832,
          834,
          836,
          838,
          840,
          842,
          844,
          846,
          848,
          850,
          852,
          854,
          856,
          858,
          860,
          862,
          864,
          866,
          868,
          870,
          872,
          874,
          876,
          878,
          880,
          882,
          884,
          886,
          888,
          890,
          892,
          894,
          896,
          898
         ],
         "y": [
          4.0621083596740215,
          4.052882721465008,
          4.044974382118789,
          4.038247326943271,
          4.032485984695458,
          4.027509041824955,
          4.023172795710143,
          4.019364962677257,
          4.015998880635705,
          4.013006276731932,
          4.0103326011201235,
          4.007934510706703,
          4.00577568456237,
          4.00382623179964,
          4.002061342918938,
          4.000459877495605,
          3.9990046654505,
          3.9976800018218235,
          3.996473613677378,
          3.9953734027827634,
          3.994369815905591,
          3.993453427419973,
          3.992616420940142,
          3.991851395474333,
          3.991151910971107,
          3.9905120307058235,
          3.989926455190258,
          3.9893902097971554,
          3.9888989282632097,
          3.9884486145276123,
          3.9880353799786628,
          3.9876557732244833,
          3.987306724071416,
          3.9869852296091226,
          3.986688402826491,
          3.986413809873707,
          3.9861590880392948,
          3.985921901378072,
          3.9857002514403277,
          3.9854922234208554,
          3.985295989659394,
          3.985109886970793,
          3.984932361613964,
          3.984761956318792,
          3.984597313843721,
          3.984437176158577,
          3.9842803664369453,
          3.9841257812199684,
          3.983972407217971,
          3.983819298069244,
          3.983665539817239,
          3.9835103290279124,
          3.9833529095147346,
          3.98319258457755,
          3.9830287147003918,
          3.982860634813081,
          3.9826878149302702,
          3.9825097581349547,
          3.9823260048071907,
          3.982136139345035,
          3.9819397231856497,
          3.981736393934863,
          3.9815258527825534,
          3.9813078132999054,
          3.9810820213408853,
          3.9808482257827227,
          3.9806061964752084,
          3.9803557715109252,
          3.980096793421688,
          3.9798291280543787,
          3.979552657140735,
          3.9792672693461384,
          3.97897289791544,
          3.9786694840421553,
          3.978356986227234,
          3.978035378311203,
          3.977704636798244,
          3.977364770611996,
          3.9770157956582115,
          3.9766577408654764,
          3.976290647570737,
          3.9759145333519292,
          3.9755294719156833,
          3.975135535601361,
          3.974732804055858,
          3.9743213664127737,
          3.973901320896794,
          3.9734727744571092,
          3.9730358424272976,
          3.972590558470153,
          3.9721370650628556,
          3.971675507883304,
          3.9712060178217503,
          3.9707287312543587,
          3.970243789781817,
          3.9697513399860482,
          3.9692515332033835,
          3.9687444390401665,
          3.968230200055438,
          3.9677090043381518,
          3.967181003740665,
          3.9666463523138926,
          3.966105206120048,
          3.9655577230584558,
          3.9650040627036054,
          3.964444326285228,
          3.9638786352345217,
          3.96330719055214,
          3.962730146233289,
          3.962147656762136,
          3.9615598770701808,
          3.960966962506272,
          3.960369068817389,
          3.959766352139389,
          3.9591589689969298,
          3.958547076311774,
          3.9579308314188424,
          3.957310392089161,
          3.956685797650573,
          3.956057151565475,
          3.955424691598114,
          3.9547885616008025,
          3.9541489046751974,
          3.9535058631849744,
          3.952859578773241,
          3.95221019238403,
          3.9515578442875645,
          3.950902674108945,
          3.9502448208597554,
          3.949584422972426,
          3.948921618336935,
          3.94825639825169,
          3.9475888457981703,
          3.9469191899108163,
          3.946247549469975,
          3.9455740415313176,
          3.944898781321378,
          3.9442218822351087,
          3.9435434558351172,
          3.94286361185265,
          3.9421824581900564,
          3.94150010092467,
          3.9408166443140464,
          3.940132190802326,
          3.9394467837113205,
          3.9387605050247427,
          3.9380734859816866,
          3.937385815621343,
          3.936697580696224,
          3.9360088656675654,
          3.935319752701842,
          3.934630321668376,
          3.9339406501378025,
          3.9332508133816044,
          3.9325608843724242,
          3.931870933785308,
          3.931181029999692,
          3.930491282559544,
          3.929801765155908,
          3.929112514989161,
          3.928423595728692,
          3.927735069127347,
          3.9270469950380855,
          3.9263594314308934,
          3.9256724344099023,
          3.924986058230821,
          3.92430035531849,
          3.923615376284604,
          3.922931169945631,
          3.9222477833407714,
          3.921565308379107,
          3.9208837963444547,
          3.9202032646462643,
          3.919523757902961,
          3.9188453194012074,
          3.918167991124072,
          3.9174918137788652,
          3.9168168268246752,
          3.916143068499622,
          3.9154705758477704,
          3.914799384745697,
          3.914129529928769,
          3.913461045016964,
          3.912793958181824,
          3.91212830041511,
          3.911464104272059,
          3.9108013987613863,
          3.9101402118693818,
          3.9094805705827422,
          3.9088225009110142,
          3.90816602790868,
          3.9075111756968837,
          3.906857967484762,
          3.9062064255904545,
          3.905556571461714,
          3.9049084256961524,
          3.9042619883137837,
          3.903617277179591,
          3.902974319440156,
          3.902333130741495,
          3.9016937258423168,
          3.9010561186286057,
          3.900420322127959,
          3.8997863485236564,
          3.899154209168457,
          3.898523914598153,
          3.897895474544855,
          3.8972688979500227,
          3.8966441929772597,
          3.896021371168685,
          3.895400439190349,
          3.89478140119606,
          3.894164262714077,
          3.893549028581679,
          3.892935702957172,
          3.8923242893316523,
          3.8917147905405347,
          3.8911072087748075,
          3.8905015455920795,
          3.8898978019273485,
          3.8892959781035628,
          3.888696073841936,
          3.8880981242610053,
          3.8875021237053105,
          3.8869080543554735,
          3.886315915129326,
          3.8857257044130193,
          3.885137420066406,
          3.8845510594283703,
          3.8839666193219093,
          3.8833840960591415,
          3.8828034854460527,
          3.8822247827872416,
          3.881647982890356,
          3.881073080070492,
          3.8805000681544053,
          3.87992894048457,
          3.879359689923128,
          3.8787923088556666,
          3.8782267891948745,
          3.8776631223840443,
          3.877101299400456,
          3.876541310758625,
          3.875983146513361,
          3.8754268598189117,
          3.8748725028010496,
          3.8743199725847703,
          3.873769260484378,
          3.8732203574865505,
          3.8726732542531765,
          3.872127941124121,
          3.871584408119801,
          3.871042644943675,
          3.8705026409846175,
          3.8699643853191414,
          3.8694278667135604,
          3.8688930736259413,
          3.8683599942080495,
          3.867828616307085,
          3.8672989274673677,
          3.866770914931868,
          3.8662445656436444,
          3.8657198662471717,
          3.865196803089512,
          3.864675362221455,
          3.864155529398465,
          3.8636373109019964,
          3.8631208553398153,
          3.8626060005110454,
          3.8620927342628706,
          3.8615810442940965,
          3.861070918157647,
          3.8605623432629055,
          3.860055306878,
          3.8595497961319465,
          3.859045798016708,
          3.858543299389135,
          3.858042286972844,
          3.8575427473599113,
          3.8570446670125795,
          3.856548032264778,
          3.8560528293235943,
          3.855559044270627,
          3.855066663063276,
          3.8545756715358954,
          3.8540860554008947,
          3.8535978002497226,
          3.853110891553801,
          3.852625314665292,
          3.852141083559336,
          3.851658173941937,
          3.851176569229714,
          3.8506962571466223,
          3.8502172255145295,
          3.849739462259457,
          3.849262955417693,
          3.8487876931418237,
          3.8483136637066915,
          3.8478408555152614,
          3.847369257104437,
          3.846899094850839,
          3.846430108510477,
          3.8459621699157776,
          3.8454952959917463,
          3.8450295858987995,
          3.844564957409036,
          3.8441013987831054,
          3.8436389278244376,
          3.8431775265204435,
          3.8427171768964263,
          3.8422578666078633,
          3.8417995831390828,
          3.841342314627911,
          3.8408860487941547,
          3.8404307732995857,
          3.839976467653425,
          3.839523060991168,
          3.839070596302746,
          3.838619061076562,
          3.8381684427469325,
          3.8377187286950063,
          3.8372699062496824,
          3.836821962688462,
          3.836374885238229,
          3.83592866107603,
          3.8354832773297574,
          3.835038721078821,
          3.834594967367821,
          3.834151907803025,
          3.833709618973821,
          3.8332680878315686,
          3.832827301278926,
          3.832387246170202,
          3.831947909311726,
          3.8315092774621076,
          3.831071337332464,
          3.830634075586651,
          3.83019747884139,
          3.829761533666409,
          3.8293262151051883,
          3.8288914082844387,
          3.8284571939096073,
          3.828023558408237,
          3.827590488157783,
          3.827157969485414,
          3.8267259886678633,
          3.8262945319311936,
          3.8258635854505525,
          3.825433135349858,
          3.825003167701455,
          3.824573668525759,
          3.8241446138860447,
          3.8237158919457523,
          3.8232875785743916,
          3.8228596596056743,
          3.822432120815856,
          3.822004947923131,
          3.8215781265869455,
          3.821151642407328,
          3.8207254809241213,
          3.820299627616209,
          3.819874067900695,
          3.8194487871320377,
          3.819023762358109,
          3.8185988870479193,
          3.818174230012917,
          3.8177497763542996,
          3.8173255111028257,
          3.8169014192177295,
          3.816477485585525,
          3.8160536950188244,
          3.8156300322551053,
          3.8152064819554092,
          3.8147830287030104,
          3.8143596570020484,
          3.813936344297534,
          3.8135129851024847,
          3.813089642231893,
          3.8126662993212626,
          3.81224293991602,
          3.811819547469725,
          3.811396105342198,
          3.81097259679761,
          3.81054900500251,
          3.8101253130238124,
          3.8097015038267537,
          3.8092775602727427,
          3.808853465117195,
          3.8084292010073337,
          3.8080047504798933,
          3.807580095958766,
          3.8071552197526617,
          3.8067301040526123,
          3.806304730929484,
          3.8058790823314346,
          3.80545314008126,
          3.805026885873736,
          3.8046002529932625,
          3.804173248454622,
          3.8037458670107585,
          3.8033180893949066,
          3.802889896195201,
          3.802461267851484,
          3.8020321846520635,
          3.801602626730422,
          3.801172574061837,
          3.8007420064599424,
          3.800310903573231,
          3.799879244881478,
          3.7994470096921074,
          3.79901417713648,
          3.798580726166119,
          3.7981466355488704,
          3.797711883864995,
          3.797276449503176,
          3.796840310656483,
          3.796403445318242,
          3.795965831277875,
          3.795527441802966,
          3.7950882524118774,
          3.7946482450085206,
          3.794207396456405,
          3.793765683392656,
          3.7933230822234707,
          3.792879569119451,
          3.7924351200109028,
          3.791989710583098,
          3.7915433162714427,
          3.791095912256617,
          3.790647473459704,
          3.790197974537205,
          3.7897473898760667,
          3.789295693588646,
          3.7888428595076746,
          3.7883888611811583,
          3.7879336718672834,
          3.7874772645293113,
          3.787019611830445,
          3.7865606861287118,
          3.7861004602192962,
          3.7856389104187453,
          3.7851760045172127,
          3.7847117137578534,
          3.7842460090546153,
          3.7837788609873493,
          3.7833102397969087,
          3.7828401153804365,
          3.7823684572866494,
          3.781895234711266,
          3.7814204164925638
         ]
        }
       ],
       "layout": {
        "autosize": false,
        "height": 576,
        "legend": {
         "font": {
          "size": 12
         },
         "x": 1,
         "xanchor": "right",
         "y": 1,
         "yanchor": "top"
        },
        "margin": {
         "b": 10,
         "l": 10,
         "pad": 4,
         "r": 10,
         "t": 75
        },
        "showlegend": true,
        "template": {
         "data": {
          "bar": [
           {
            "error_x": {
             "color": "#2a3f5f"
            },
            "error_y": {
             "color": "#2a3f5f"
            },
            "marker": {
             "line": {
              "color": "#E5ECF6",
              "width": 0.5
             },
             "pattern": {
              "fillmode": "overlay",
              "size": 10,
              "solidity": 0.2
             }
            },
            "type": "bar"
           }
          ],
          "barpolar": [
           {
            "marker": {
             "line": {
              "color": "#E5ECF6",
              "width": 0.5
             },
             "pattern": {
              "fillmode": "overlay",
              "size": 10,
              "solidity": 0.2
             }
            },
            "type": "barpolar"
           }
          ],
          "carpet": [
           {
            "aaxis": {
             "endlinecolor": "#2a3f5f",
             "gridcolor": "white",
             "linecolor": "white",
             "minorgridcolor": "white",
             "startlinecolor": "#2a3f5f"
            },
            "baxis": {
             "endlinecolor": "#2a3f5f",
             "gridcolor": "white",
             "linecolor": "white",
             "minorgridcolor": "white",
             "startlinecolor": "#2a3f5f"
            },
            "type": "carpet"
           }
          ],
          "choropleth": [
           {
            "colorbar": {
             "outlinewidth": 0,
             "ticks": ""
            },
            "type": "choropleth"
           }
          ],
          "contour": [
           {
            "colorbar": {
             "outlinewidth": 0,
             "ticks": ""
            },
            "colorscale": [
             [
              0,
              "#0d0887"
             ],
             [
              0.1111111111111111,
              "#46039f"
             ],
             [
              0.2222222222222222,
              "#7201a8"
             ],
             [
              0.3333333333333333,
              "#9c179e"
             ],
             [
              0.4444444444444444,
              "#bd3786"
             ],
             [
              0.5555555555555556,
              "#d8576b"
             ],
             [
              0.6666666666666666,
              "#ed7953"
             ],
             [
              0.7777777777777778,
              "#fb9f3a"
             ],
             [
              0.8888888888888888,
              "#fdca26"
             ],
             [
              1,
              "#f0f921"
             ]
            ],
            "type": "contour"
           }
          ],
          "contourcarpet": [
           {
            "colorbar": {
             "outlinewidth": 0,
             "ticks": ""
            },
            "type": "contourcarpet"
           }
          ],
          "heatmap": [
           {
            "colorbar": {
             "outlinewidth": 0,
             "ticks": ""
            },
            "colorscale": [
             [
              0,
              "#0d0887"
             ],
             [
              0.1111111111111111,
              "#46039f"
             ],
             [
              0.2222222222222222,
              "#7201a8"
             ],
             [
              0.3333333333333333,
              "#9c179e"
             ],
             [
              0.4444444444444444,
              "#bd3786"
             ],
             [
              0.5555555555555556,
              "#d8576b"
             ],
             [
              0.6666666666666666,
              "#ed7953"
             ],
             [
              0.7777777777777778,
              "#fb9f3a"
             ],
             [
              0.8888888888888888,
              "#fdca26"
             ],
             [
              1,
              "#f0f921"
             ]
            ],
            "type": "heatmap"
           }
          ],
          "heatmapgl": [
           {
            "colorbar": {
             "outlinewidth": 0,
             "ticks": ""
            },
            "colorscale": [
             [
              0,
              "#0d0887"
             ],
             [
              0.1111111111111111,
              "#46039f"
             ],
             [
              0.2222222222222222,
              "#7201a8"
             ],
             [
              0.3333333333333333,
              "#9c179e"
             ],
             [
              0.4444444444444444,
              "#bd3786"
             ],
             [
              0.5555555555555556,
              "#d8576b"
             ],
             [
              0.6666666666666666,
              "#ed7953"
             ],
             [
              0.7777777777777778,
              "#fb9f3a"
             ],
             [
              0.8888888888888888,
              "#fdca26"
             ],
             [
              1,
              "#f0f921"
             ]
            ],
            "type": "heatmapgl"
           }
          ],
          "histogram": [
           {
            "marker": {
             "pattern": {
              "fillmode": "overlay",
              "size": 10,
              "solidity": 0.2
             }
            },
            "type": "histogram"
           }
          ],
          "histogram2d": [
           {
            "colorbar": {
             "outlinewidth": 0,
             "ticks": ""
            },
            "colorscale": [
             [
              0,
              "#0d0887"
             ],
             [
              0.1111111111111111,
              "#46039f"
             ],
             [
              0.2222222222222222,
              "#7201a8"
             ],
             [
              0.3333333333333333,
              "#9c179e"
             ],
             [
              0.4444444444444444,
              "#bd3786"
             ],
             [
              0.5555555555555556,
              "#d8576b"
             ],
             [
              0.6666666666666666,
              "#ed7953"
             ],
             [
              0.7777777777777778,
              "#fb9f3a"
             ],
             [
              0.8888888888888888,
              "#fdca26"
             ],
             [
              1,
              "#f0f921"
             ]
            ],
            "type": "histogram2d"
           }
          ],
          "histogram2dcontour": [
           {
            "colorbar": {
             "outlinewidth": 0,
             "ticks": ""
            },
            "colorscale": [
             [
              0,
              "#0d0887"
             ],
             [
              0.1111111111111111,
              "#46039f"
             ],
             [
              0.2222222222222222,
              "#7201a8"
             ],
             [
              0.3333333333333333,
              "#9c179e"
             ],
             [
              0.4444444444444444,
              "#bd3786"
             ],
             [
              0.5555555555555556,
              "#d8576b"
             ],
             [
              0.6666666666666666,
              "#ed7953"
             ],
             [
              0.7777777777777778,
              "#fb9f3a"
             ],
             [
              0.8888888888888888,
              "#fdca26"
             ],
             [
              1,
              "#f0f921"
             ]
            ],
            "type": "histogram2dcontour"
           }
          ],
          "mesh3d": [
           {
            "colorbar": {
             "outlinewidth": 0,
             "ticks": ""
            },
            "type": "mesh3d"
           }
          ],
          "parcoords": [
           {
            "line": {
             "colorbar": {
              "outlinewidth": 0,
              "ticks": ""
             }
            },
            "type": "parcoords"
           }
          ],
          "pie": [
           {
            "automargin": true,
            "type": "pie"
           }
          ],
          "scatter": [
           {
            "fillpattern": {
             "fillmode": "overlay",
             "size": 10,
             "solidity": 0.2
            },
            "type": "scatter"
           }
          ],
          "scatter3d": [
           {
            "line": {
             "colorbar": {
              "outlinewidth": 0,
              "ticks": ""
             }
            },
            "marker": {
             "colorbar": {
              "outlinewidth": 0,
              "ticks": ""
             }
            },
            "type": "scatter3d"
           }
          ],
          "scattercarpet": [
           {
            "marker": {
             "colorbar": {
              "outlinewidth": 0,
              "ticks": ""
             }
            },
            "type": "scattercarpet"
           }
          ],
          "scattergeo": [
           {
            "marker": {
             "colorbar": {
              "outlinewidth": 0,
              "ticks": ""
             }
            },
            "type": "scattergeo"
           }
          ],
          "scattergl": [
           {
            "marker": {
             "colorbar": {
              "outlinewidth": 0,
              "ticks": ""
             }
            },
            "type": "scattergl"
           }
          ],
          "scattermapbox": [
           {
            "marker": {
             "colorbar": {
              "outlinewidth": 0,
              "ticks": ""
             }
            },
            "type": "scattermapbox"
           }
          ],
          "scatterpolar": [
           {
            "marker": {
             "colorbar": {
              "outlinewidth": 0,
              "ticks": ""
             }
            },
            "type": "scatterpolar"
           }
          ],
          "scatterpolargl": [
           {
            "marker": {
             "colorbar": {
              "outlinewidth": 0,
              "ticks": ""
             }
            },
            "type": "scatterpolargl"
           }
          ],
          "scatterternary": [
           {
            "marker": {
             "colorbar": {
              "outlinewidth": 0,
              "ticks": ""
             }
            },
            "type": "scatterternary"
           }
          ],
          "surface": [
           {
            "colorbar": {
             "outlinewidth": 0,
             "ticks": ""
            },
            "colorscale": [
             [
              0,
              "#0d0887"
             ],
             [
              0.1111111111111111,
              "#46039f"
             ],
             [
              0.2222222222222222,
              "#7201a8"
             ],
             [
              0.3333333333333333,
              "#9c179e"
             ],
             [
              0.4444444444444444,
              "#bd3786"
             ],
             [
              0.5555555555555556,
              "#d8576b"
             ],
             [
              0.6666666666666666,
              "#ed7953"
             ],
             [
              0.7777777777777778,
              "#fb9f3a"
             ],
             [
              0.8888888888888888,
              "#fdca26"
             ],
             [
              1,
              "#f0f921"
             ]
            ],
            "type": "surface"
           }
          ],
          "table": [
           {
            "cells": {
             "fill": {
              "color": "#EBF0F8"
             },
             "line": {
              "color": "white"
             }
            },
            "header": {
             "fill": {
              "color": "#C8D4E3"
             },
             "line": {
              "color": "white"
             }
            },
            "type": "table"
           }
          ]
         },
         "layout": {
          "annotationdefaults": {
           "arrowcolor": "#2a3f5f",
           "arrowhead": 0,
           "arrowwidth": 1
          },
          "autotypenumbers": "strict",
          "coloraxis": {
           "colorbar": {
            "outlinewidth": 0,
            "ticks": ""
           }
          },
          "colorscale": {
           "diverging": [
            [
             0,
             "#8e0152"
            ],
            [
             0.1,
             "#c51b7d"
            ],
            [
             0.2,
             "#de77ae"
            ],
            [
             0.3,
             "#f1b6da"
            ],
            [
             0.4,
             "#fde0ef"
            ],
            [
             0.5,
             "#f7f7f7"
            ],
            [
             0.6,
             "#e6f5d0"
            ],
            [
             0.7,
             "#b8e186"
            ],
            [
             0.8,
             "#7fbc41"
            ],
            [
             0.9,
             "#4d9221"
            ],
            [
             1,
             "#276419"
            ]
           ],
           "sequential": [
            [
             0,
             "#0d0887"
            ],
            [
             0.1111111111111111,
             "#46039f"
            ],
            [
             0.2222222222222222,
             "#7201a8"
            ],
            [
             0.3333333333333333,
             "#9c179e"
            ],
            [
             0.4444444444444444,
             "#bd3786"
            ],
            [
             0.5555555555555556,
             "#d8576b"
            ],
            [
             0.6666666666666666,
             "#ed7953"
            ],
            [
             0.7777777777777778,
             "#fb9f3a"
            ],
            [
             0.8888888888888888,
             "#fdca26"
            ],
            [
             1,
             "#f0f921"
            ]
           ],
           "sequentialminus": [
            [
             0,
             "#0d0887"
            ],
            [
             0.1111111111111111,
             "#46039f"
            ],
            [
             0.2222222222222222,
             "#7201a8"
            ],
            [
             0.3333333333333333,
             "#9c179e"
            ],
            [
             0.4444444444444444,
             "#bd3786"
            ],
            [
             0.5555555555555556,
             "#d8576b"
            ],
            [
             0.6666666666666666,
             "#ed7953"
            ],
            [
             0.7777777777777778,
             "#fb9f3a"
            ],
            [
             0.8888888888888888,
             "#fdca26"
            ],
            [
             1,
             "#f0f921"
            ]
           ]
          },
          "colorway": [
           "#636efa",
           "#EF553B",
           "#00cc96",
           "#ab63fa",
           "#FFA15A",
           "#19d3f3",
           "#FF6692",
           "#B6E880",
           "#FF97FF",
           "#FECB52"
          ],
          "font": {
           "color": "#2a3f5f"
          },
          "geo": {
           "bgcolor": "white",
           "lakecolor": "white",
           "landcolor": "#E5ECF6",
           "showlakes": true,
           "showland": true,
           "subunitcolor": "white"
          },
          "hoverlabel": {
           "align": "left"
          },
          "hovermode": "closest",
          "mapbox": {
           "style": "light"
          },
          "paper_bgcolor": "white",
          "plot_bgcolor": "#E5ECF6",
          "polar": {
           "angularaxis": {
            "gridcolor": "white",
            "linecolor": "white",
            "ticks": ""
           },
           "bgcolor": "#E5ECF6",
           "radialaxis": {
            "gridcolor": "white",
            "linecolor": "white",
            "ticks": ""
           }
          },
          "scene": {
           "xaxis": {
            "backgroundcolor": "#E5ECF6",
            "gridcolor": "white",
            "gridwidth": 2,
            "linecolor": "white",
            "showbackground": true,
            "ticks": "",
            "zerolinecolor": "white"
           },
           "yaxis": {
            "backgroundcolor": "#E5ECF6",
            "gridcolor": "white",
            "gridwidth": 2,
            "linecolor": "white",
            "showbackground": true,
            "ticks": "",
            "zerolinecolor": "white"
           },
           "zaxis": {
            "backgroundcolor": "#E5ECF6",
            "gridcolor": "white",
            "gridwidth": 2,
            "linecolor": "white",
            "showbackground": true,
            "ticks": "",
            "zerolinecolor": "white"
           }
          },
          "shapedefaults": {
           "line": {
            "color": "#2a3f5f"
           }
          },
          "ternary": {
           "aaxis": {
            "gridcolor": "white",
            "linecolor": "white",
            "ticks": ""
           },
           "baxis": {
            "gridcolor": "white",
            "linecolor": "white",
            "ticks": ""
           },
           "bgcolor": "#E5ECF6",
           "caxis": {
            "gridcolor": "white",
            "linecolor": "white",
            "ticks": ""
           }
          },
          "title": {
           "x": 0.05
          },
          "xaxis": {
           "automargin": true,
           "gridcolor": "white",
           "linecolor": "white",
           "ticks": "",
           "title": {
            "standoff": 15
           },
           "zerolinecolor": "white",
           "zerolinewidth": 2
          },
          "yaxis": {
           "automargin": true,
           "gridcolor": "white",
           "linecolor": "white",
           "ticks": "",
           "title": {
            "standoff": 15
           },
           "zerolinecolor": "white",
           "zerolinewidth": 2
          }
         }
        },
        "title": {
         "text": "Optimised Comparison",
         "x": 0.5
        },
        "width": 1024,
        "xaxis": {
         "autorange": true,
         "range": [
          -54.313231642426395,
          952.3132316424264
         ],
         "tickfont": {
          "size": 12
         },
         "title": {
          "font": {
           "size": 12
          },
          "text": "Time [s]"
         },
         "type": "linear"
        },
        "yaxis": {
         "autorange": true,
         "range": [
          3.757714724471257,
          4.085814051695328
         ],
         "tickfont": {
          "size": 12
         },
         "title": {
          "font": {
           "size": 12
          },
          "text": "Voltage [V]"
         },
         "type": "linear"
        }
       }
      },
      "image/png": "[encoded data removed]",
      "text/html": [
       "<div>                            <div id=\"db858378-217a-4a04-a6b2-308ad5b70cbc\" class=\"plotly-graph-div\" style=\"height:576px; width:1024px;\"></div>            <script type=\"text/javascript\">                require([\"plotly\"], function(Plotly) {                    window.PLOTLYENV=window.PLOTLYENV || {};                                    if (document.getElementById(\"db858378-217a-4a04-a6b2-308ad5b70cbc\")) {                    Plotly.newPlot(                        \"db858378-217a-4a04-a6b2-308ad5b70cbc\",                        [{\"fill\":\"toself\",\"fillcolor\":\"rgba(255,229,204,0.8)\",\"hoverinfo\":\"skip\",\"line\":{\"color\":\"rgba(255,255,255,0)\"},\"showlegend\":false,\"x\":[0,2,4,6,8,10,12,14,16,18,20,22,24,26,28,30,32,34,36,38,40,42,44,46,48,50,52,54,56,58,60,62,64,66,68,70,72,74,76,78,80,82,84,86,88,90,92,94,96,98,100,102,104,106,108,110,112,114,116,118,120,122,124,126,128,130,132,134,136,138,140,142,144,146,148,150,152,154,156,158,160,162,164,166,168,170,172,174,176,178,180,182,184,186,188,190,192,194,196,198,200,202,204,206,208,210,212,214,216,218,220,222,224,226,228,230,232,234,236,238,240,242,244,246,248,250,252,254,256,258,260,262,264,266,268,270,272,274,276,278,280,282,284,286,288,290,292,294,296,298,300,302,304,306,308,310,312,314,316,318,320,322,324,326,328,330,332,334,336,338,340,342,344,346,348,350,352,354,356,358,360,362,364,366,368,370,372,374,376,378,380,382,384,386,388,390,392,394,396,398,400,402,404,406,408,410,412,414,416,418,420,422,424,426,428,430,432,434,436,438,440,442,444,446,448,450,452,454,456,458,460,462,464,466,468,470,472,474,476,478,480,482,484,486,488,490,492,494,496,498,500,502,504,506,508,510,512,514,516,518,520,522,524,526,528,530,532,534,536,538,540,542,544,546,548,550,552,554,556,558,560,562,564,566,568,570,572,574,576,578,580,582,584,586,588,590,592,594,596,598,600,602,604,606,608,610,612,614,616,618,620,622,624,626,628,630,632,634,636,638,640,642,644,646,648,650,652,654,656,658,660,662,664,666,668,670,672,674,676,678,680,682,684,686,688,690,692,694,696,698,700,702,704,706,708,710,712,714,716,718,720,722,724,726,728,730,732,734,736,738,740,742,744,746,748,750,752,754,756,758,760,762,764,766,768,770,772,774,776,778,780,782,784,786,788,790,792,794,796,798,800,802,804,806,808,810,812,814,816,818,820,822,824,826,828,830,832,834,836,838,840,842,844,846,848,850,852,854,856,858,860,862,864,866,868,870,872,874,876,878,880,882,884,886,888,890,892,894,896,898,898,896,894,892,890,888,886,884,882,880,878,876,874,872,870,868,866,864,862,860,858,856,854,852,850,848,846,844,842,840,838,836,834,832,830,828,826,824,822,820,818,816,814,812,810,808,806,804,802,800,798,796,794,792,790,788,786,784,782,780,778,776,774,772,770,768,766,764,762,760,758,756,754,752,750,748,746,744,742,740,738,736,734,732,730,728,726,724,722,720,718,716,714,712,710,708,706,704,702,700,698,696,694,692,690,688,686,684,682,680,678,676,674,672,670,668,666,664,662,660,658,656,654,652,650,648,646,644,642,640,638,636,634,632,630,628,626,624,622,620,618,616,614,612,610,608,606,604,602,600,598,596,594,592,590,588,586,584,582,580,578,576,574,572,570,568,566,564,562,560,558,556,554,552,550,548,546,544,542,540,538,536,534,532,530,528,526,524,522,520,518,516,514,512,510,508,506,504,502,500,498,496,494,492,490,488,486,484,482,480,478,476,474,472,470,468,466,464,462,460,458,456,454,452,450,448,446,444,442,440,438,436,434,432,430,428,426,424,422,420,418,416,414,412,410,408,406,404,402,400,398,396,394,392,390,388,386,384,382,380,378,376,374,372,370,368,366,364,362,360,358,356,354,352,350,348,346,344,342,340,338,336,334,332,330,328,326,324,322,320,318,316,314,312,310,308,306,304,302,300,298,296,294,292,290,288,286,284,282,280,278,276,274,272,270,268,266,264,262,260,258,256,254,252,250,248,246,244,242,240,238,236,234,232,230,228,226,224,222,220,218,216,214,212,210,208,206,204,202,200,198,196,194,192,190,188,186,184,182,180,178,176,174,172,170,168,166,164,162,160,158,156,154,152,150,148,146,144,142,140,138,136,134,132,130,128,126,124,122,120,118,116,114,112,110,108,106,104,102,100,98,96,94,92,90,88,86,84,82,80,78,76,74,72,70,68,66,64,62,60,58,56,54,52,50,48,46,44,42,40,38,36,34,32,30,28,26,24,22,20,18,16,14,12,10,8,6,4,2,0],\"y\":[4.069409085334125,4.0601834471251115,4.052275107778892,4.045548052603374,4.039786710355561,4.034809767485059,4.030473521370246,4.026665688337361,4.023299606295809,4.020307002392036,4.017633326780227,4.015235236366807,4.013076410222474,4.0111269574597435,4.009362068579041,4.007760603155709,4.006305391110603,4.004980727481927,4.003774339337482,4.002674128442867,4.001670541565694,4.000754153080076,3.9999171466002448,3.999152121134436,3.99845263663121,3.9978127563659265,3.997227180850361,3.9966909354572584,3.9961996539233127,3.9957493401877153,3.9953361056387657,3.9949564988845863,3.994607449731519,3.9942859552692256,3.993989128486594,3.99371453553381,3.9934598136993977,3.993222627038175,3.9930009771004307,3.9927929490809584,3.992596715319497,3.992410612630896,3.992233087274067,3.992062681978895,3.991898039503824,3.99173790181868,3.9915810920970483,3.9914265068800714,3.991273132878074,3.991120023729347,3.990966265477342,3.9908110546880153,3.9906536351748376,3.990493310237653,3.9903294403604948,3.990161360473184,3.9899885405903732,3.9898104837950576,3.9896267304672937,3.989436865005138,3.9892404488457527,3.989037119594966,3.9888265784426564,3.9886085389600083,3.9883827470009883,3.9881489514428257,3.9879069221353114,3.987656497171028,3.987397519081791,3.9871298537144817,3.986853382800838,3.9865679950062414,3.986273623575543,3.9859702097022582,3.985657711887337,3.985336103971306,3.985005362458347,3.984665496272099,3.9843165213183145,3.9839584665255794,3.98359137323084,3.983215259012032,3.9828301975757863,3.982436261261464,3.982033529715961,3.9816220920728767,3.981202046556897,3.980773500117212,3.9803365680874006,3.979891284130256,3.9794377907229586,3.978976233543407,3.9785067434818533,3.9780294569144616,3.97754451544192,3.977052065646151,3.9765522588634865,3.9760451647002695,3.975530925715541,3.9750097299982547,3.974481729400768,3.9739470779739956,3.973405931780151,3.9728584487185588,3.9723047883637084,3.971745051945331,3.9711793608946246,3.970607916212243,3.970030871893392,3.969448382422239,3.9688606027302837,3.968267688166375,3.967669794477492,3.967067077799492,3.9664596946570327,3.965847801971877,3.9652315570789454,3.964611117749264,3.963986523310676,3.963357877225578,3.962725417258217,3.9620892872609055,3.9614496303353004,3.9608065888450774,3.960160304433344,3.959510918044133,3.9588585699476675,3.958203399769048,3.9575455465198583,3.956885148632529,3.956222343997038,3.955557123911793,3.9548895714582732,3.9542199155709192,3.953548275130078,3.9528747671914206,3.952199506981481,3.9515226078952117,3.95084418149522,3.950164337512753,3.9494831838501594,3.948800826584773,3.9481173699741494,3.947432916462429,3.9467475093714235,3.9460612306848457,3.9453742116417896,3.944686541281446,3.943998306356327,3.9433095913276683,3.942620478361945,3.9419310473284788,3.9412413757979055,3.9405515390417074,3.939861610032527,3.939171659445411,3.938481755659795,3.937792008219647,3.937102490816011,3.936413240649264,3.935724321388795,3.93503579478745,3.9343477206981885,3.9336601570909964,3.9329731600700053,3.932286783890924,3.931601080978593,3.930916101944707,3.930231895605734,3.9295485090008744,3.92886603403921,3.9281845220045577,3.9275039903063673,3.926824483563064,3.9261460450613104,3.925468716784175,3.924792539438968,3.9241175524847782,3.923443794159725,3.9227713015078733,3.9221001104058,3.921430255588872,3.9207617706770668,3.920094683841927,3.919429026075213,3.918764829932162,3.9181021244214893,3.9174409375294847,3.916781296242845,3.916123226571117,3.915466753568783,3.9148119013569866,3.914158693144865,3.9135071512505575,3.912857297121817,3.9122091513562554,3.9115627139738867,3.910918002839694,3.910275045100259,3.909633856401598,3.9089944515024198,3.9083568442887087,3.907721047788062,3.9070870741837593,3.90645493482856,3.905824640258256,3.905196200204958,3.9045696236101257,3.9039449186373627,3.903322096828788,3.902701164850452,3.902082126856163,3.90146498837418,3.900849754241782,3.900236428617275,3.8996250149917553,3.8990155162006377,3.8984079344349105,3.8978022712521825,3.8971985275874514,3.8965967037636657,3.895996799502039,3.8953988499211083,3.8948028493654134,3.8942087800155765,3.893616640789429,3.8930264300731223,3.892438145726509,3.8918517850884733,3.8912673449820123,3.8906848217192445,3.8901042111061557,3.8895255084473446,3.888948708550459,3.8883738057305948,3.8878007938145083,3.887229666144673,3.886660415583231,3.8860930345157696,3.8855275148549775,3.8849638480441473,3.884402025060559,3.883842036418728,3.883283872173464,3.8827275854790146,3.8821732284611525,3.8816206982448733,3.881069986144481,3.8805210831466534,3.8799739799132795,3.879428666784224,3.878885133779904,3.878343370603778,3.8778033666447205,3.8772651109792444,3.8767285923736634,3.8761937992860442,3.8756607198681525,3.875129341967188,3.8745996531274707,3.874071640591971,3.8735452913037474,3.8730205919072747,3.872497528749615,3.871976087881558,3.871456255058568,3.8709380365620993,3.8704215809999183,3.8699067261711484,3.8693934599229736,3.8688817699541995,3.86837164381775,3.8678630689230085,3.867356032538103,3.8668505217920495,3.866346523676811,3.865844025049238,3.865343012632947,3.8648434730200143,3.8643453926726825,3.863848757924881,3.8633535549836973,3.86285976993073,3.862367388723379,3.8618763971959984,3.8613867810609976,3.8608985259098256,3.860411617213904,3.8599260403253948,3.859441809219439,3.85895889960204,3.858477294889817,3.8579969828067253,3.8575179511746325,3.85704018791956,3.856563681077796,3.8560884188019267,3.8556143893667945,3.8551415811753644,3.85466998276454,3.854199820510942,3.85373083417058,3.8532628955758805,3.8527960216518493,3.8523303115589025,3.851865683069139,3.8514021244432084,3.8509396534845406,3.8504782521805465,3.8500179025565293,3.8495585922679663,3.8491003087991857,3.848643040288014,3.8481867744542577,3.8477314989596887,3.847277193313528,3.846823786651271,3.846371321962849,3.845919786736665,3.8454691684070355,3.8450194543551093,3.8445706319097854,3.844122688348565,3.843675610898332,3.843229386736133,3.8427840029898603,3.842339446738924,3.841895693027924,3.841452633463128,3.841010344633924,3.8405688134916716,3.8401280269390288,3.839687971830305,3.839248634971829,3.8388100031222105,3.838372062992567,3.837934801246754,3.837498204501493,3.837062259326512,3.8366269407652913,3.8361921339445417,3.8357579195697102,3.83532428406834,3.834891213817886,3.834458695145517,3.8340267143279663,3.8335952575912966,3.8331643111106555,3.832733861009961,3.832303893361558,3.831874394185862,3.8314453395461476,3.8310166176058553,3.8305883042344946,3.8301603852657773,3.829732846475959,3.829305673583234,3.8288788522470485,3.828452368067431,3.8280262065842243,3.827600353276312,3.827174793560798,3.8267495127921407,3.826324488018212,3.8258996127080223,3.82547495567302,3.8250505020144026,3.8246262367629287,3.8242021448778325,3.823778211245628,3.8233544206789274,3.8229307579152083,3.822507207615512,3.8220837543631134,3.8216603826621514,3.821237069957637,3.8208137107625877,3.820390367891996,3.8199670249813655,3.819543665576123,3.819120273129828,3.818696831002301,3.818273322457713,3.817849730662613,3.8174260386839154,3.8170022294868566,3.8165782859328456,3.816154190777298,3.8157299266674367,3.8153054761399963,3.814880821618869,3.8144559454127647,3.8140308297127152,3.813605456589587,3.8131798079915376,3.812753865741363,3.812327611533839,3.8119009786533655,3.8114739741147248,3.8110465926708614,3.8106188150550095,3.810190621855304,3.809761993511587,3.8093329103121665,3.808903352390525,3.80847329972194,3.8080427321200454,3.807611629233334,3.807179970541581,3.8067477353522103,3.806314902796583,3.805881451826222,3.8054473612089734,3.805012609525098,3.804577175163279,3.804141036316586,3.803704170978345,3.8032665569379778,3.802828167463069,3.8023889780719804,3.8019489706686236,3.801508122116508,3.801066409052759,3.8006238078835737,3.8001802947795538,3.7997358456710058,3.799290436243201,3.7988440419315457,3.7983966379167198,3.797948199119807,3.797498700197308,3.7970481155361697,3.796596419248749,3.7961435851677776,3.7956895868412612,3.7952343975273863,3.7947779901894143,3.794320337490548,3.7938614117888148,3.7934011858793992,3.7929396360788483,3.7924767301773157,3.7920124394179564,3.7915467347147183,3.7910795866474523,3.7906109654570117,3.7901408410405395,3.7896691829467524,3.789195960371369,3.7887211421526668,3.774119690832461,3.774594509051163,3.7750677316265464,3.7755393897203335,3.7760095141368057,3.7764781353272463,3.7769452833945123,3.7774109880977504,3.7778752788571097,3.7783381847586424,3.7787997345591933,3.779259960468609,3.779718886170342,3.7801765388692083,3.7806329462071804,3.7810881355210553,3.7815421338475717,3.781994967928543,3.7824466642159638,3.782897248877102,3.7833467477996012,3.783795186596514,3.7842425906113397,3.784688984922995,3.7851343943508,3.785578843459348,3.7860223565633677,3.786464957732553,3.786906670796302,3.7873475193484176,3.7877875267517744,3.788226716142863,3.788665105617772,3.789102719658139,3.78953958499638,3.789975723843073,3.790411158204892,3.7908459098887675,3.791280000506016,3.791713451476377,3.7921462840320044,3.792578519221375,3.793010177913128,3.7934412807998394,3.793871848401734,3.794301901070319,3.7947314589919605,3.795160542191381,3.795589170535098,3.7960173637348036,3.7964451413506555,3.796872522794519,3.7972995273331596,3.797726160213633,3.798152414421157,3.7985783566713316,3.799004005269381,3.7994293783925093,3.7998544940925587,3.800279370298663,3.8007040248197903,3.8011284753472308,3.801552739457092,3.8019768346126397,3.8024007781666507,3.8028245873637094,3.803248279342407,3.803671871137507,3.804095379682095,3.804518821809622,3.804942214255917,3.8053655736611596,3.80578891657179,3.8062122594423817,3.806635618637431,3.8070589313419454,3.8074823030429075,3.8079057562953063,3.8083293065950024,3.8087529693587214,3.809176759925422,3.8096006935576265,3.8100247854427227,3.8104490506941966,3.810873504352814,3.8112981613878163,3.811723036698006,3.8121480614719347,3.812573342240592,3.812998901956106,3.8134247552640184,3.813850916747225,3.8142774009268425,3.814704222263028,3.815131395155753,3.8155589339455713,3.8159868529142886,3.8164151662856494,3.8168438882259417,3.817272942865656,3.817702442041352,3.818132409689755,3.8185628597904495,3.8189938062710906,3.8194252630077603,3.819857243825311,3.82028976249768,3.820722832748134,3.8211564682495043,3.8215906826243358,3.8220254894450854,3.822460808006306,3.822896753181287,3.823333349926548,3.823770611672361,3.8242085518020046,3.824647183651623,3.8250865205100992,3.825526575618823,3.8259673621714656,3.826408893313718,3.826851182142922,3.827294241707718,3.827737995418718,3.8281825516696544,3.828627935415927,3.829074159578126,3.829521237028359,3.8299691805895795,3.8304180030349033,3.8308677170868295,3.831318335416459,3.831769870642643,3.832222335331065,3.832675741993322,3.8331300476394827,3.8335853231340518,3.834041588967808,3.83449885747898,3.8349571409477603,3.8354164512363234,3.8358768008603406,3.8363382021643346,3.8368006731230024,3.837264231748933,3.8377288602386965,3.8381945703316434,3.8386614442556746,3.839129382850374,3.839598369190736,3.840068531444334,3.8405401298551585,3.8410129380465885,3.8414869674817207,3.84196222975759,3.842438736599354,3.8429164998544265,3.8433955314865194,3.843875843569611,3.844357448281834,3.844840357899233,3.845324589005189,3.845810165893698,3.8462970745896197,3.8467853297407917,3.8472749458757924,3.847765937403173,3.848258318610524,3.8487521036634913,3.849247306604675,3.8497439413524766,3.8502420216998083,3.850741561312741,3.851242573729032,3.851745072356605,3.8522490704718435,3.852754581217897,3.8532616176028025,3.853770192497544,3.8542803186339936,3.8547920086027676,3.8553052748509424,3.8558201296797123,3.8563365852418934,3.856854803738362,3.857374636561352,3.857896077429409,3.8584191405870687,3.8589438399835414,3.859470189271765,3.8599982018072647,3.860527890646982,3.8610592685479466,3.8615923479658383,3.8621271410534574,3.8626636596590385,3.8632019153245145,3.863741919283572,3.864283682459698,3.864827215464018,3.8653725285930736,3.8659196318264475,3.866468534824275,3.8670192469246674,3.8675717771409466,3.8681261341588087,3.868682420853258,3.869240585098522,3.869800573740353,3.8703623967239413,3.8709260635347715,3.8714915831955636,3.872058964263025,3.872628214824467,3.8731993424943023,3.873772354410389,3.874347257230253,3.8749240571271386,3.8755027597859497,3.8760833703990385,3.8766658936618064,3.8772503337682673,3.877836694406303,3.8784249787529164,3.879015189469223,3.8796073286953705,3.8802013980452075,3.8807973986009023,3.881395348181833,3.8819952524434598,3.8825970762672455,3.8832008199319765,3.8838064831147046,3.8844140648804317,3.8850235636715493,3.885634977297069,3.886248302921576,3.886863537053974,3.887480675535957,3.888099713530246,3.888720645508582,3.8893434673171567,3.8899681722899198,3.890594748884752,3.89122318893805,3.891853483508354,3.8924856228635534,3.893119596467856,3.8937553929685027,3.894393000182214,3.895032405081392,3.895673593780053,3.896316551519488,3.8969612626536807,3.8976077000360494,3.898255845801611,3.8989056999303515,3.899557241824659,3.9002104500367807,3.900865302248577,3.9015217752509113,3.9021798449226393,3.902839486209279,3.9035006731012833,3.904163378611956,3.904827574755007,3.905493232521721,3.906160319356861,3.906828804268666,3.907498659085594,3.9081698501876674,3.908842342839519,3.9095161011645723,3.9101910881187623,3.910867265463969,3.9115445937411044,3.912223032242858,3.9129025389861614,3.9135830706843517,3.914264582719004,3.9149470576806684,3.915630444285528,3.9163146506245012,3.916999629658387,3.917685332570718,3.9183717087497993,3.9190587057707904,3.9197462693779825,3.920434343467244,3.921122870068589,3.921811789329058,3.922501039495805,3.923190556899441,3.923880304339589,3.924570208125205,3.9252601587123213,3.9259500877215014,3.9266399244776995,3.927329596008273,3.928019027041739,3.9287081400074624,3.929396855036121,3.93008508996124,3.9307727603215836,3.9314597793646398,3.9321460580512175,3.932831465142223,3.9335159186539435,3.934199375264567,3.9348817325299534,3.935562886192547,3.9362427301750142,3.9369211565750057,3.937598055661275,3.9382733158712147,3.938946823809872,3.9396184642507133,3.9402881201380673,3.940955672591587,3.941620892676832,3.942283697312323,3.9429440951996524,3.943601948448842,3.9442571186274615,3.944909466723927,3.945558853113138,3.9462051375248715,3.9468481790150944,3.9474878359406995,3.948123965938011,3.9487564259053722,3.94938507199047,3.950009666429058,3.9506301057587394,3.951246350651671,3.951858243336827,3.952465626479286,3.953068343157286,3.953666236846169,3.9542591514100778,3.954846931102033,3.955429420573186,3.9560064648920372,3.9565779095744187,3.957143600625125,3.9577033370435024,3.958256997398353,3.958804480459945,3.9593456266537896,3.959880278080562,3.960408278678049,3.960929474395335,3.9614437133800635,3.9619508075432806,3.9624506143259453,3.962943064121714,3.9634280055942557,3.9639052921616473,3.964374782223201,3.9648363394027526,3.96528983281005,3.9657351167671946,3.9661720487970062,3.966600595236691,3.9670206407526707,3.967432078395755,3.967834809941258,3.9682287462555803,3.9686138076918263,3.968989921910634,3.9693570152053734,3.9697150699981085,3.970064044951893,3.970403911138141,3.9707346526511,3.971056260567131,3.9713687583820523,3.971672172255337,3.9719665436860354,3.972251931480632,3.9725284023942757,3.972796067761585,3.9730550458508223,3.9733054708151054,3.9735475001226197,3.9737812956807823,3.9740070876398024,3.9742251271224505,3.97443566827476,3.9746389975255467,3.974835413684932,3.9750252791470877,3.9752090324748517,3.9753870892701673,3.975559909152978,3.975727989040289,3.9758918589174472,3.9760521838546317,3.9762096033678094,3.976364814157136,3.976518572409141,3.976671681557868,3.9768250555598654,3.9769796407768423,3.977136450498474,3.977296588183618,3.977461230658689,3.977631635953861,3.97780916131069,3.977995263999291,3.9781914977607524,3.9783995257802247,3.978621175717969,3.9788583623791918,3.979113084213604,3.979387677166388,3.9796845039490196,3.980005998411313,3.9803550475643803,3.9807346543185598,3.9811478888675094,3.9815982026031067,3.9820894841370524,3.982625729530155,3.9832113050457205,3.983851185311004,3.98455066981423,3.985315695280039,3.98615270175987,3.987069090245488,3.9880726771226604,3.989172888017275,3.9903792761617205,3.991703939790397,3.9931591518355023,3.994760617258835,3.996525506139537,3.9984749589022672,4.0006337850466,4.00303187546002,4.005705551071829,4.008698154975602,4.012064237017154,4.015872070050039,4.020208316164852,4.0251852590353545,4.030946601283167,4.0376736564586855,4.045581995804905,4.054807634013918],\"type\":\"scatter\"},{\"mode\":\"markers\",\"name\":\"Target\",\"x\":[0,2,4,6,8,10,12,14,16,18,20,22,24,26,28,30,32,34,36,38,40,42,44,46,48,50,52,54,56,58,60,62,64,66,68,70,72,74,76,78,80,82,84,86,88,90,92,94,96,98,100,102,104,106,108,110,112,114,116,118,120,122,124,126,128,130,132,134,136,138,140,142,144,146,148,150,152,154,156,158,160,162,164,166,168,170,172,174,176,178,180,182,184,186,188,190,192,194,196,198,200,202,204,206,208,210,212,214,216,218,220,222,224,226,228,230,232,234,236,238,240,242,244,246,248,250,252,254,256,258,260,262,264,266,268,270,272,274,276,278,280,282,284,286,288,290,292,294,296,298,300,302,304,306,308,310,312,314,316,318,320,322,324,326,328,330,332,334,336,338,340,342,344,346,348,350,352,354,356,358,360,362,364,366,368,370,372,374,376,378,380,382,384,386,388,390,392,394,396,398,400,402,404,406,408,410,412,414,416,418,420,422,424,426,428,430,432,434,436,438,440,442,444,446,448,450,452,454,456,458,460,462,464,466,468,470,472,474,476,478,480,482,484,486,488,490,492,494,496,498,500,502,504,506,508,510,512,514,516,518,520,522,524,526,528,530,532,534,536,538,540,542,544,546,548,550,552,554,556,558,560,562,564,566,568,570,572,574,576,578,580,582,584,586,588,590,592,594,596,598,600,602,604,606,608,610,612,614,616,618,620,622,624,626,628,630,632,634,636,638,640,642,644,646,648,650,652,654,656,658,660,662,664,666,668,670,672,674,676,678,680,682,684,686,688,690,692,694,696,698,700,702,704,706,708,710,712,714,716,718,720,722,724,726,728,730,732,734,736,738,740,742,744,746,748,750,752,754,756,758,760,762,764,766,768,770,772,774,776,778,780,782,784,786,788,790,792,794,796,798,800,802,804,806,808,810,812,814,816,818,820,822,824,826,828,830,832,834,836,838,840,842,844,846,848,850,852,854,856,858,860,862,864,866,868,870,872,874,876,878,880,882,884,886,888,890,892,894,896,898],\"y\":[4.0642936042166316,4.055247369909628,4.047562648333548,4.04170694755277,4.036470411987567,4.031261307528761,4.028839109305117,4.024160325411498,4.0201186404171025,4.019128214137314,4.014784549123485,4.013545640501475,4.008950376518328,4.008349433407843,4.0054405657804075,4.003371277159347,4.003843340788115,4.002759581444141,4.001698603263032,3.9998464933833886,3.9996716895211386,3.998982232781615,3.9972087778503624,3.9935326575421817,3.9968464291822947,3.9921174228824485,3.993833428178188,3.994131195332841,3.9926833555648695,3.9925581708364235,3.991218601840674,3.9906006542919585,3.9902692768544212,3.9887754417181376,3.9898682712310087,3.988935540655242,3.9901716427353175,3.9911787318340943,3.988867576019678,3.9869108403776568,3.987415531789007,3.9885336669171276,3.987204621988873,3.989174994337588,3.9851454263382338,3.987102598483577,3.9870145257917833,3.987312329986473,3.9865593476915406,3.9886168643612234,3.9863617915195557,3.9858930483210337,3.9855888712517094,3.9855198627495274,3.9855951958926785,3.986813231793018,3.982803977027148,3.986187672106951,3.984186985273501,3.984394771823851,3.987038672512569,3.9839260778577463,3.985661860897585,3.984099008352487,3.985399855627609,3.9864342192409556,3.9841947571491505,3.9844299008692317,3.9855872103840992,3.985276387494318,3.9852511211193895,3.9839564853882945,3.982953775591216,3.981747178364704,3.981968073989974,3.981151910846345,3.983079121222521,3.9811089246713665,3.9817499613003315,3.983278590735271,3.980578860408614,3.981717104307516,3.979399344899368,3.9820179392540367,3.980710655119109,3.9794518585894045,3.980862493961963,3.980160885567054,3.9803895596767367,3.9798797318733357,3.978938129414863,3.9780866433514652,3.9776208710075367,3.9795970260452815,3.9789685994510924,3.977592075588845,3.9757685064610206,3.97633129791508,3.9766965754014154,3.9748775611622147,3.976768248082923,3.9749126456860684,3.9738016241729555,3.9723978293871545,3.972272361264244,3.9742591694092773,3.9739878097195267,3.971531096846387,3.9737181039666702,3.972223297857433,3.9712658028434062,3.971562892563125,3.9714520704350487,3.9717249722456924,3.970461966620821,3.967918575536853,3.9678280244892274,3.9696952833036505,3.9678931184357267,3.9681703022272243,3.9670958537901364,3.9669781917595754,3.966910008966875,3.964729154847711,3.964807876132338,3.9646732820235,3.9636401996255994,3.964698352278589,3.9628542295433054,3.9630772744088243,3.9611879478738845,3.960712847764878,3.9635861674481836,3.960407863347703,3.960160768611451,3.9581294281911097,3.959726571833682,3.9578383996631508,3.9556186190844063,3.956397846738801,3.9581592896471456,3.9561158046747007,3.954684747419382,3.956553483466271,3.9535248782821575,3.9533669517490684,3.952240326557315,3.952867314939262,3.9531251156590987,3.952278619102011,3.9502318630335505,3.950172888597651,3.9468399088386477,3.949073137136319,3.949204392949204,3.947476521112613,3.9480258706753935,3.94762882346675,3.947393006801813,3.9461610593799623,3.9437917359210393,3.9442103214032502,3.9439103230633195,3.9436998543696458,3.943356044079462,3.943118033536709,3.9403772895936706,3.9399109594426034,3.940378605823898,3.941131402786104,3.9417289869527585,3.9401072819095653,3.9396678650925328,3.937516142657316,3.9363969007987727,3.934874995379803,3.9346098703942367,3.9361037355123565,3.933587400303623,3.9369240261956535,3.933629526908953,3.9323787617854404,3.9330661246142404,3.931576567542683,3.930718615664881,3.9302931408241846,3.930106290686119,3.92965368195146,3.92963132322127,3.927125930435148,3.928170377437646,3.925724529143811,3.9268125408928145,3.9236924793187002,3.9245681042384852,3.9240677495607765,3.9249715365133224,3.9231926278797125,3.9206946213431033,3.921955957923204,3.9234432246239748,3.9226831624862504,3.919055218194535,3.9190942260537986,3.920558934244036,3.920401426338944,3.9200223295915255,3.9167736887908604,3.9168659738568055,3.9160901587254315,3.9161508061074732,3.9157281858761404,3.9151507480163454,3.9123193250346637,3.9131589858127738,3.9126176322255226,3.912083456865546,3.911170104741441,3.9109730846561894,3.9107719368457166,3.909725131107276,3.9101667039323806,3.9061724578759516,3.9090410313514097,3.9070490442720893,3.9065439940100455,3.9074862924934393,3.9050370509293,3.9047673294595486,3.903632813852465,3.9052958684529875,3.9029999148261805,3.9038223653096966,3.9019369261749963,3.901068456038932,3.9018156691476515,3.9001693250583207,3.8985348787131344,3.8998272670825043,3.899223272364894,3.897248587647853,3.8965984674582943,3.8965042290197145,3.8952093877633964,3.8979520786605804,3.89500794276629,3.8958044655163873,3.89348273504972,3.8919043451611994,3.893105452102119,3.891492532135288,3.8917372482651107,3.8945017442706997,3.8917588442026188,3.891145763332319,3.8927100742232583,3.887974397195683,3.8896029753126387,3.888199580762906,3.889163110123418,3.888190183631694,3.8879006489427623,3.886928747373405,3.886609537462156,3.8869264306285274,3.885198604283429,3.8865738419039535,3.8847566188655724,3.884477205366019,3.8824717105510715,3.8807282397456655,3.882564637236408,3.881410737491432,3.881813730107673,3.880700347854898,3.8809196152080974,3.8799706337710558,3.879857986856854,3.8771938035066364,3.879310336573046,3.8777312605812897,3.877819709127911,3.875695954528853,3.8767549381096535,3.8748799579597413,3.8736944162013325,3.8729040841097016,3.8736893292952104,3.8739906283153402,3.873110300246829,3.872237699226705,3.8713717552315683,3.8717808753897907,3.871721196631256,3.8711168104594726,3.871134204562752,3.8693705368974096,3.870784311776316,3.8668301447779165,3.8681983859206652,3.866849161602926,3.86771159359641,3.8680673778945036,3.867175379498705,3.8652100377706615,3.8641224001417327,3.865682033618418,3.8658661347691283,3.86528882806965,3.865170775003813,3.8650938230761684,3.863559009621453,3.8626261925227254,3.8616002456153633,3.8605367416038785,3.8614311976391145,3.861476146654293,3.8602268893627203,3.8589798867017007,3.860738447974875,3.857337725098417,3.8584112736841427,3.8568134880056326,3.8570614528377405,3.85629309294869,3.854876920407636,3.8574796517082053,3.8561216086949015,3.856517283595356,3.8536329206645883,3.8542186675866734,3.854295659941095,3.8526291353869975,3.8533124826451726,3.852155895642069,3.85088439331894,3.85183440988892,3.8505548668161618,3.8513308951181395,3.8512660296308434,3.849738003225371,3.849219735262644,3.849415445119658,3.8463496411544087,3.8483016613597294,3.847396557844445,3.8483086366751884,3.846928693053506,3.847234214410313,3.846543856000555,3.8438238215074154,3.845121000864967,3.8453157305759245,3.843956538970165,3.8447182414198906,3.844075018031965,3.843821948181671,3.8421223370210815,3.84305811472737,3.8418292164869836,3.8430345184880252,3.840915533712202,3.8387436162825868,3.840668875107893,3.8414845839635103,3.84065722777423,3.8414141218868676,3.8388197732952007,3.8400383506054907,3.8365472842615,3.8397668657709754,3.8388867988627426,3.8358298715238344,3.8348508221683466,3.83880483370908,3.8357524646846177,3.8360563212556436,3.835560992714603,3.8359977480886958,3.8349669406700198,3.8346880438695923,3.832065551184803,3.8323164174398294,3.832126811822378,3.8342809048481477,3.8302003558569675,3.832987868010063,3.830613170916759,3.832034456413613,3.8307340859052545,3.8284427214127486,3.8293955515417553,3.8277626121148134,3.829209417976929,3.8275029626218338,3.8291037256049187,3.8268237328997032,3.8270020123309014,3.8272076959135934,3.8249656279174973,3.826011190791867,3.826104210570798,3.826159069115752,3.8238903025602693,3.822264990949354,3.8252195891577885,3.8236654197201894,3.821747510729285,3.8207104275978248,3.821719093700516,3.8217845619936437,3.822047561688007,3.821869941179955,3.82179969139879,3.8213526896175005,3.8220175864736663,3.817669133650412,3.819130880012844,3.8194638474535756,3.8193335168411187,3.8191430844633465,3.8181905707097408,3.8182020546939484,3.8177715027834886,3.8175422457316626,3.8158600098987385,3.8154552491746325,3.8144848271053586,3.814653708365386,3.813553104784434,3.8142581101272426,3.8153246822779265,3.812108983668821,3.8132048987819167,3.810708313699819,3.81238277307235,3.8125709390772156,3.811914002652422,3.8107041172672234,3.8106869058503987,3.8091645202834306,3.810047755910662,3.8069647289995343,3.8100892860943287,3.8098642839143877,3.8088817735066005,3.8074202298942894,3.8071016365256827,3.8075710404886625,3.805725242712594],\"type\":\"scatter\"},{\"line\":{\"width\":4},\"mode\":\"lines\",\"name\":\"Model\",\"x\":[0,2,4,6,8,10,12,14,16,18,20,22,24,26,28,30,32,34,36,38,40,42,44,46,48,50,52,54,56,58,60,62,64,66,68,70,72,74,76,78,80,82,84,86,88,90,92,94,96,98,100,102,104,106,108,110,112,114,116,118,120,122,124,126,128,130,132,134,136,138,140,142,144,146,148,150,152,154,156,158,160,162,164,166,168,170,172,174,176,178,180,182,184,186,188,190,192,194,196,198,200,202,204,206,208,210,212,214,216,218,220,222,224,226,228,230,232,234,236,238,240,242,244,246,248,250,252,254,256,258,260,262,264,266,268,270,272,274,276,278,280,282,284,286,288,290,292,294,296,298,300,302,304,306,308,310,312,314,316,318,320,322,324,326,328,330,332,334,336,338,340,342,344,346,348,350,352,354,356,358,360,362,364,366,368,370,372,374,376,378,380,382,384,386,388,390,392,394,396,398,400,402,404,406,408,410,412,414,416,418,420,422,424,426,428,430,432,434,436,438,440,442,444,446,448,450,452,454,456,458,460,462,464,466,468,470,472,474,476,478,480,482,484,486,488,490,492,494,496,498,500,502,504,506,508,510,512,514,516,518,520,522,524,526,528,530,532,534,536,538,540,542,544,546,548,550,552,554,556,558,560,562,564,566,568,570,572,574,576,578,580,582,584,586,588,590,592,594,596,598,600,602,604,606,608,610,612,614,616,618,620,622,624,626,628,630,632,634,636,638,640,642,644,646,648,650,652,654,656,658,660,662,664,666,668,670,672,674,676,678,680,682,684,686,688,690,692,694,696,698,700,702,704,706,708,710,712,714,716,718,720,722,724,726,728,730,732,734,736,738,740,742,744,746,748,750,752,754,756,758,760,762,764,766,768,770,772,774,776,778,780,782,784,786,788,790,792,794,796,798,800,802,804,806,808,810,812,814,816,818,820,822,824,826,828,830,832,834,836,838,840,842,844,846,848,850,852,854,856,858,860,862,864,866,868,870,872,874,876,878,880,882,884,886,888,890,892,894,896,898],\"y\":[4.0621083596740215,4.052882721465008,4.044974382118789,4.038247326943271,4.032485984695458,4.027509041824955,4.023172795710143,4.019364962677257,4.015998880635705,4.013006276731932,4.0103326011201235,4.007934510706703,4.00577568456237,4.00382623179964,4.002061342918938,4.000459877495605,3.9990046654505,3.9976800018218235,3.996473613677378,3.9953734027827634,3.994369815905591,3.993453427419973,3.992616420940142,3.991851395474333,3.991151910971107,3.9905120307058235,3.989926455190258,3.9893902097971554,3.9888989282632097,3.9884486145276123,3.9880353799786628,3.9876557732244833,3.987306724071416,3.9869852296091226,3.986688402826491,3.986413809873707,3.9861590880392948,3.985921901378072,3.9857002514403277,3.9854922234208554,3.985295989659394,3.985109886970793,3.984932361613964,3.984761956318792,3.984597313843721,3.984437176158577,3.9842803664369453,3.9841257812199684,3.983972407217971,3.983819298069244,3.983665539817239,3.9835103290279124,3.9833529095147346,3.98319258457755,3.9830287147003918,3.982860634813081,3.9826878149302702,3.9825097581349547,3.9823260048071907,3.982136139345035,3.9819397231856497,3.981736393934863,3.9815258527825534,3.9813078132999054,3.9810820213408853,3.9808482257827227,3.9806061964752084,3.9803557715109252,3.980096793421688,3.9798291280543787,3.979552657140735,3.9792672693461384,3.97897289791544,3.9786694840421553,3.978356986227234,3.978035378311203,3.977704636798244,3.977364770611996,3.9770157956582115,3.9766577408654764,3.976290647570737,3.9759145333519292,3.9755294719156833,3.975135535601361,3.974732804055858,3.9743213664127737,3.973901320896794,3.9734727744571092,3.9730358424272976,3.972590558470153,3.9721370650628556,3.971675507883304,3.9712060178217503,3.9707287312543587,3.970243789781817,3.9697513399860482,3.9692515332033835,3.9687444390401665,3.968230200055438,3.9677090043381518,3.967181003740665,3.9666463523138926,3.966105206120048,3.9655577230584558,3.9650040627036054,3.964444326285228,3.9638786352345217,3.96330719055214,3.962730146233289,3.962147656762136,3.9615598770701808,3.960966962506272,3.960369068817389,3.959766352139389,3.9591589689969298,3.958547076311774,3.9579308314188424,3.957310392089161,3.956685797650573,3.956057151565475,3.955424691598114,3.9547885616008025,3.9541489046751974,3.9535058631849744,3.952859578773241,3.95221019238403,3.9515578442875645,3.950902674108945,3.9502448208597554,3.949584422972426,3.948921618336935,3.94825639825169,3.9475888457981703,3.9469191899108163,3.946247549469975,3.9455740415313176,3.944898781321378,3.9442218822351087,3.9435434558351172,3.94286361185265,3.9421824581900564,3.94150010092467,3.9408166443140464,3.940132190802326,3.9394467837113205,3.9387605050247427,3.9380734859816866,3.937385815621343,3.936697580696224,3.9360088656675654,3.935319752701842,3.934630321668376,3.9339406501378025,3.9332508133816044,3.9325608843724242,3.931870933785308,3.931181029999692,3.930491282559544,3.929801765155908,3.929112514989161,3.928423595728692,3.927735069127347,3.9270469950380855,3.9263594314308934,3.9256724344099023,3.924986058230821,3.92430035531849,3.923615376284604,3.922931169945631,3.9222477833407714,3.921565308379107,3.9208837963444547,3.9202032646462643,3.919523757902961,3.9188453194012074,3.918167991124072,3.9174918137788652,3.9168168268246752,3.916143068499622,3.9154705758477704,3.914799384745697,3.914129529928769,3.913461045016964,3.912793958181824,3.91212830041511,3.911464104272059,3.9108013987613863,3.9101402118693818,3.9094805705827422,3.9088225009110142,3.90816602790868,3.9075111756968837,3.906857967484762,3.9062064255904545,3.905556571461714,3.9049084256961524,3.9042619883137837,3.903617277179591,3.902974319440156,3.902333130741495,3.9016937258423168,3.9010561186286057,3.900420322127959,3.8997863485236564,3.899154209168457,3.898523914598153,3.897895474544855,3.8972688979500227,3.8966441929772597,3.896021371168685,3.895400439190349,3.89478140119606,3.894164262714077,3.893549028581679,3.892935702957172,3.8923242893316523,3.8917147905405347,3.8911072087748075,3.8905015455920795,3.8898978019273485,3.8892959781035628,3.888696073841936,3.8880981242610053,3.8875021237053105,3.8869080543554735,3.886315915129326,3.8857257044130193,3.885137420066406,3.8845510594283703,3.8839666193219093,3.8833840960591415,3.8828034854460527,3.8822247827872416,3.881647982890356,3.881073080070492,3.8805000681544053,3.87992894048457,3.879359689923128,3.8787923088556666,3.8782267891948745,3.8776631223840443,3.877101299400456,3.876541310758625,3.875983146513361,3.8754268598189117,3.8748725028010496,3.8743199725847703,3.873769260484378,3.8732203574865505,3.8726732542531765,3.872127941124121,3.871584408119801,3.871042644943675,3.8705026409846175,3.8699643853191414,3.8694278667135604,3.8688930736259413,3.8683599942080495,3.867828616307085,3.8672989274673677,3.866770914931868,3.8662445656436444,3.8657198662471717,3.865196803089512,3.864675362221455,3.864155529398465,3.8636373109019964,3.8631208553398153,3.8626060005110454,3.8620927342628706,3.8615810442940965,3.861070918157647,3.8605623432629055,3.860055306878,3.8595497961319465,3.859045798016708,3.858543299389135,3.858042286972844,3.8575427473599113,3.8570446670125795,3.856548032264778,3.8560528293235943,3.855559044270627,3.855066663063276,3.8545756715358954,3.8540860554008947,3.8535978002497226,3.853110891553801,3.852625314665292,3.852141083559336,3.851658173941937,3.851176569229714,3.8506962571466223,3.8502172255145295,3.849739462259457,3.849262955417693,3.8487876931418237,3.8483136637066915,3.8478408555152614,3.847369257104437,3.846899094850839,3.846430108510477,3.8459621699157776,3.8454952959917463,3.8450295858987995,3.844564957409036,3.8441013987831054,3.8436389278244376,3.8431775265204435,3.8427171768964263,3.8422578666078633,3.8417995831390828,3.841342314627911,3.8408860487941547,3.8404307732995857,3.839976467653425,3.839523060991168,3.839070596302746,3.838619061076562,3.8381684427469325,3.8377187286950063,3.8372699062496824,3.836821962688462,3.836374885238229,3.83592866107603,3.8354832773297574,3.835038721078821,3.834594967367821,3.834151907803025,3.833709618973821,3.8332680878315686,3.832827301278926,3.832387246170202,3.831947909311726,3.8315092774621076,3.831071337332464,3.830634075586651,3.83019747884139,3.829761533666409,3.8293262151051883,3.8288914082844387,3.8284571939096073,3.828023558408237,3.827590488157783,3.827157969485414,3.8267259886678633,3.8262945319311936,3.8258635854505525,3.825433135349858,3.825003167701455,3.824573668525759,3.8241446138860447,3.8237158919457523,3.8232875785743916,3.8228596596056743,3.822432120815856,3.822004947923131,3.8215781265869455,3.821151642407328,3.8207254809241213,3.820299627616209,3.819874067900695,3.8194487871320377,3.819023762358109,3.8185988870479193,3.818174230012917,3.8177497763542996,3.8173255111028257,3.8169014192177295,3.816477485585525,3.8160536950188244,3.8156300322551053,3.8152064819554092,3.8147830287030104,3.8143596570020484,3.813936344297534,3.8135129851024847,3.813089642231893,3.8126662993212626,3.81224293991602,3.811819547469725,3.811396105342198,3.81097259679761,3.81054900500251,3.8101253130238124,3.8097015038267537,3.8092775602727427,3.808853465117195,3.8084292010073337,3.8080047504798933,3.807580095958766,3.8071552197526617,3.8067301040526123,3.806304730929484,3.8058790823314346,3.80545314008126,3.805026885873736,3.8046002529932625,3.804173248454622,3.8037458670107585,3.8033180893949066,3.802889896195201,3.802461267851484,3.8020321846520635,3.801602626730422,3.801172574061837,3.8007420064599424,3.800310903573231,3.799879244881478,3.7994470096921074,3.79901417713648,3.798580726166119,3.7981466355488704,3.797711883864995,3.797276449503176,3.796840310656483,3.796403445318242,3.795965831277875,3.795527441802966,3.7950882524118774,3.7946482450085206,3.794207396456405,3.793765683392656,3.7933230822234707,3.792879569119451,3.7924351200109028,3.791989710583098,3.7915433162714427,3.791095912256617,3.790647473459704,3.790197974537205,3.7897473898760667,3.789295693588646,3.7888428595076746,3.7883888611811583,3.7879336718672834,3.7874772645293113,3.787019611830445,3.7865606861287118,3.7861004602192962,3.7856389104187453,3.7851760045172127,3.7847117137578534,3.7842460090546153,3.7837788609873493,3.7833102397969087,3.7828401153804365,3.7823684572866494,3.781895234711266,3.7814204164925638],\"type\":\"scatter\"}],                        {\"autosize\":false,\"height\":576,\"legend\":{\"font\":{\"size\":12},\"x\":1,\"xanchor\":\"right\",\"y\":1,\"yanchor\":\"top\"},\"margin\":{\"b\":10,\"l\":10,\"pad\":4,\"r\":10,\"t\":75},\"showlegend\":true,\"title\":{\"text\":\"Optimised Comparison\",\"x\":0.5},\"width\":1024,\"xaxis\":{\"tickfont\":{\"size\":12},\"title\":{\"font\":{\"size\":12},\"text\":\"Time [s]\"}},\"yaxis\":{\"tickfont\":{\"size\":12},\"title\":{\"font\":{\"size\":12},\"text\":\"Voltage [V]\"}},\"template\":{\"data\":{\"histogram2dcontour\":[{\"type\":\"histogram2dcontour\",\"colorbar\":{\"outlinewidth\":0,\"ticks\":\"\"},\"colorscale\":[[0.0,\"#0d0887\"],[0.1111111111111111,\"#46039f\"],[0.2222222222222222,\"#7201a8\"],[0.3333333333333333,\"#9c179e\"],[0.4444444444444444,\"#bd3786\"],[0.5555555555555556,\"#d8576b\"],[0.6666666666666666,\"#ed7953\"],[0.7777777777777778,\"#fb9f3a\"],[0.8888888888888888,\"#fdca26\"],[1.0,\"#f0f921\"]]}],\"choropleth\":[{\"type\":\"choropleth\",\"colorbar\":{\"outlinewidth\":0,\"ticks\":\"\"}}],\"histogram2d\":[{\"type\":\"histogram2d\",\"colorbar\":{\"outlinewidth\":0,\"ticks\":\"\"},\"colorscale\":[[0.0,\"#0d0887\"],[0.1111111111111111,\"#46039f\"],[0.2222222222222222,\"#7201a8\"],[0.3333333333333333,\"#9c179e\"],[0.4444444444444444,\"#bd3786\"],[0.5555555555555556,\"#d8576b\"],[0.6666666666666666,\"#ed7953\"],[0.7777777777777778,\"#fb9f3a\"],[0.8888888888888888,\"#fdca26\"],[1.0,\"#f0f921\"]]}],\"heatmap\":[{\"type\":\"heatmap\",\"colorbar\":{\"outlinewidth\":0,\"ticks\":\"\"},\"colorscale\":[[0.0,\"#0d0887\"],[0.1111111111111111,\"#46039f\"],[0.2222222222222222,\"#7201a8\"],[0.3333333333333333,\"#9c179e\"],[0.4444444444444444,\"#bd3786\"],[0.5555555555555556,\"#d8576b\"],[0.6666666666666666,\"#ed7953\"],[0.7777777777777778,\"#fb9f3a\"],[0.8888888888888888,\"#fdca26\"],[1.0,\"#f0f921\"]]}],\"heatmapgl\":[{\"type\":\"heatmapgl\",\"colorbar\":{\"outlinewidth\":0,\"ticks\":\"\"},\"colorscale\":[[0.0,\"#0d0887\"],[0.1111111111111111,\"#46039f\"],[0.2222222222222222,\"#7201a8\"],[0.3333333333333333,\"#9c179e\"],[0.4444444444444444,\"#bd3786\"],[0.5555555555555556,\"#d8576b\"],[0.6666666666666666,\"#ed7953\"],[0.7777777777777778,\"#fb9f3a\"],[0.8888888888888888,\"#fdca26\"],[1.0,\"#f0f921\"]]}],\"contourcarpet\":[{\"type\":\"contourcarpet\",\"colorbar\":{\"outlinewidth\":0,\"ticks\":\"\"}}],\"contour\":[{\"type\":\"contour\",\"colorbar\":{\"outlinewidth\":0,\"ticks\":\"\"},\"colorscale\":[[0.0,\"#0d0887\"],[0.1111111111111111,\"#46039f\"],[0.2222222222222222,\"#7201a8\"],[0.3333333333333333,\"#9c179e\"],[0.4444444444444444,\"#bd3786\"],[0.5555555555555556,\"#d8576b\"],[0.6666666666666666,\"#ed7953\"],[0.7777777777777778,\"#fb9f3a\"],[0.8888888888888888,\"#fdca26\"],[1.0,\"#f0f921\"]]}],\"surface\":[{\"type\":\"surface\",\"colorbar\":{\"outlinewidth\":0,\"ticks\":\"\"},\"colorscale\":[[0.0,\"#0d0887\"],[0.1111111111111111,\"#46039f\"],[0.2222222222222222,\"#7201a8\"],[0.3333333333333333,\"#9c179e\"],[0.4444444444444444,\"#bd3786\"],[0.5555555555555556,\"#d8576b\"],[0.6666666666666666,\"#ed7953\"],[0.7777777777777778,\"#fb9f3a\"],[0.8888888888888888,\"#fdca26\"],[1.0,\"#f0f921\"]]}],\"mesh3d\":[{\"type\":\"mesh3d\",\"colorbar\":{\"outlinewidth\":0,\"ticks\":\"\"}}],\"scatter\":[{\"fillpattern\":{\"fillmode\":\"overlay\",\"size\":10,\"solidity\":0.2},\"type\":\"scatter\"}],\"parcoords\":[{\"type\":\"parcoords\",\"line\":{\"colorbar\":{\"outlinewidth\":0,\"ticks\":\"\"}}}],\"scatterpolargl\":[{\"type\":\"scatterpolargl\",\"marker\":{\"colorbar\":{\"outlinewidth\":0,\"ticks\":\"\"}}}],\"bar\":[{\"error_x\":{\"color\":\"#2a3f5f\"},\"error_y\":{\"color\":\"#2a3f5f\"},\"marker\":{\"line\":{\"color\":\"#E5ECF6\",\"width\":0.5},\"pattern\":{\"fillmode\":\"overlay\",\"size\":10,\"solidity\":0.2}},\"type\":\"bar\"}],\"scattergeo\":[{\"type\":\"scattergeo\",\"marker\":{\"colorbar\":{\"outlinewidth\":0,\"ticks\":\"\"}}}],\"scatterpolar\":[{\"type\":\"scatterpolar\",\"marker\":{\"colorbar\":{\"outlinewidth\":0,\"ticks\":\"\"}}}],\"histogram\":[{\"marker\":{\"pattern\":{\"fillmode\":\"overlay\",\"size\":10,\"solidity\":0.2}},\"type\":\"histogram\"}],\"scattergl\":[{\"type\":\"scattergl\",\"marker\":{\"colorbar\":{\"outlinewidth\":0,\"ticks\":\"\"}}}],\"scatter3d\":[{\"type\":\"scatter3d\",\"line\":{\"colorbar\":{\"outlinewidth\":0,\"ticks\":\"\"}},\"marker\":{\"colorbar\":{\"outlinewidth\":0,\"ticks\":\"\"}}}],\"scattermapbox\":[{\"type\":\"scattermapbox\",\"marker\":{\"colorbar\":{\"outlinewidth\":0,\"ticks\":\"\"}}}],\"scatterternary\":[{\"type\":\"scatterternary\",\"marker\":{\"colorbar\":{\"outlinewidth\":0,\"ticks\":\"\"}}}],\"scattercarpet\":[{\"type\":\"scattercarpet\",\"marker\":{\"colorbar\":{\"outlinewidth\":0,\"ticks\":\"\"}}}],\"carpet\":[{\"aaxis\":{\"endlinecolor\":\"#2a3f5f\",\"gridcolor\":\"white\",\"linecolor\":\"white\",\"minorgridcolor\":\"white\",\"startlinecolor\":\"#2a3f5f\"},\"baxis\":{\"endlinecolor\":\"#2a3f5f\",\"gridcolor\":\"white\",\"linecolor\":\"white\",\"minorgridcolor\":\"white\",\"startlinecolor\":\"#2a3f5f\"},\"type\":\"carpet\"}],\"table\":[{\"cells\":{\"fill\":{\"color\":\"#EBF0F8\"},\"line\":{\"color\":\"white\"}},\"header\":{\"fill\":{\"color\":\"#C8D4E3\"},\"line\":{\"color\":\"white\"}},\"type\":\"table\"}],\"barpolar\":[{\"marker\":{\"line\":{\"color\":\"#E5ECF6\",\"width\":0.5},\"pattern\":{\"fillmode\":\"overlay\",\"size\":10,\"solidity\":0.2}},\"type\":\"barpolar\"}],\"pie\":[{\"automargin\":true,\"type\":\"pie\"}]},\"layout\":{\"autotypenumbers\":\"strict\",\"colorway\":[\"#636efa\",\"#EF553B\",\"#00cc96\",\"#ab63fa\",\"#FFA15A\",\"#19d3f3\",\"#FF6692\",\"#B6E880\",\"#FF97FF\",\"#FECB52\"],\"font\":{\"color\":\"#2a3f5f\"},\"hovermode\":\"closest\",\"hoverlabel\":{\"align\":\"left\"},\"paper_bgcolor\":\"white\",\"plot_bgcolor\":\"#E5ECF6\",\"polar\":{\"bgcolor\":\"#E5ECF6\",\"angularaxis\":{\"gridcolor\":\"white\",\"linecolor\":\"white\",\"ticks\":\"\"},\"radialaxis\":{\"gridcolor\":\"white\",\"linecolor\":\"white\",\"ticks\":\"\"}},\"ternary\":{\"bgcolor\":\"#E5ECF6\",\"aaxis\":{\"gridcolor\":\"white\",\"linecolor\":\"white\",\"ticks\":\"\"},\"baxis\":{\"gridcolor\":\"white\",\"linecolor\":\"white\",\"ticks\":\"\"},\"caxis\":{\"gridcolor\":\"white\",\"linecolor\":\"white\",\"ticks\":\"\"}},\"coloraxis\":{\"colorbar\":{\"outlinewidth\":0,\"ticks\":\"\"}},\"colorscale\":{\"sequential\":[[0.0,\"#0d0887\"],[0.1111111111111111,\"#46039f\"],[0.2222222222222222,\"#7201a8\"],[0.3333333333333333,\"#9c179e\"],[0.4444444444444444,\"#bd3786\"],[0.5555555555555556,\"#d8576b\"],[0.6666666666666666,\"#ed7953\"],[0.7777777777777778,\"#fb9f3a\"],[0.8888888888888888,\"#fdca26\"],[1.0,\"#f0f921\"]],\"sequentialminus\":[[0.0,\"#0d0887\"],[0.1111111111111111,\"#46039f\"],[0.2222222222222222,\"#7201a8\"],[0.3333333333333333,\"#9c179e\"],[0.4444444444444444,\"#bd3786\"],[0.5555555555555556,\"#d8576b\"],[0.6666666666666666,\"#ed7953\"],[0.7777777777777778,\"#fb9f3a\"],[0.8888888888888888,\"#fdca26\"],[1.0,\"#f0f921\"]],\"diverging\":[[0,\"#8e0152\"],[0.1,\"#c51b7d\"],[0.2,\"#de77ae\"],[0.3,\"#f1b6da\"],[0.4,\"#fde0ef\"],[0.5,\"#f7f7f7\"],[0.6,\"#e6f5d0\"],[0.7,\"#b8e186\"],[0.8,\"#7fbc41\"],[0.9,\"#4d9221\"],[1,\"#276419\"]]},\"xaxis\":{\"gridcolor\":\"white\",\"linecolor\":\"white\",\"ticks\":\"\",\"title\":{\"standoff\":15},\"zerolinecolor\":\"white\",\"automargin\":true,\"zerolinewidth\":2},\"yaxis\":{\"gridcolor\":\"white\",\"linecolor\":\"white\",\"ticks\":\"\",\"title\":{\"standoff\":15},\"zerolinecolor\":\"white\",\"automargin\":true,\"zerolinewidth\":2},\"scene\":{\"xaxis\":{\"backgroundcolor\":\"#E5ECF6\",\"gridcolor\":\"white\",\"linecolor\":\"white\",\"showbackground\":true,\"ticks\":\"\",\"zerolinecolor\":\"white\",\"gridwidth\":2},\"yaxis\":{\"backgroundcolor\":\"#E5ECF6\",\"gridcolor\":\"white\",\"linecolor\":\"white\",\"showbackground\":true,\"ticks\":\"\",\"zerolinecolor\":\"white\",\"gridwidth\":2},\"zaxis\":{\"backgroundcolor\":\"#E5ECF6\",\"gridcolor\":\"white\",\"linecolor\":\"white\",\"showbackground\":true,\"ticks\":\"\",\"zerolinecolor\":\"white\",\"gridwidth\":2}},\"shapedefaults\":{\"line\":{\"color\":\"#2a3f5f\"}},\"annotationdefaults\":{\"arrowcolor\":\"#2a3f5f\",\"arrowhead\":0,\"arrowwidth\":1},\"geo\":{\"bgcolor\":\"white\",\"landcolor\":\"#E5ECF6\",\"subunitcolor\":\"white\",\"showland\":true,\"showlakes\":true,\"lakecolor\":\"white\"},\"title\":{\"x\":0.05},\"mapbox\":{\"style\":\"light\"}}}},                        {\"responsive\": true}                    ).then(function(){\n",
       "                            \n",
       "var gd = document.getElementById('db858378-217a-4a04-a6b2-308ad5b70cbc');\n",
       "var x = new MutationObserver(function (mutations, observer) {{\n",
       "        var display = window.getComputedStyle(gd).display;\n",
       "        if (!display || display === 'none') {{\n",
       "            console.log([gd, 'removed!']);\n",
       "            Plotly.purge(gd);\n",
       "            observer.disconnect();\n",
       "        }}\n",
       "}});\n",
       "\n",
       "// Listen for the removal of the full notebook cells\n",
       "var notebookContainer = gd.closest('#notebook-container');\n",
       "if (notebookContainer) {{\n",
       "    x.observe(notebookContainer, {childList: true});\n",
       "}}\n",
       "\n",
       "// Listen for the clearing of the current output cell\n",
       "var outputEl = gd.closest('.output');\n",
       "if (outputEl) {{\n",
       "    x.observe(outputEl, {childList: true});\n",
       "}}\n",
       "\n",
       "                        })                };                });            </script>        </div>"
      ]
     },
     "metadata": {},
     "output_type": "display_data"
    }
   ],
   "source": [
    "pybop.quick_plot(x, cost, title=\"Optimised Comparison\");"
   ]
  },
  {
   "cell_type": "markdown",
   "metadata": {},
   "source": [
    "### Convergence and Parameter Trajectories\n",
    "\n",
    "To assess the optimization process, we can plot the convergence of the cost function and the trajectories of the parameters:"
   ]
  },
  {
   "cell_type": "code",
   "execution_count": 25,
   "metadata": {
    "id": "N5XYkevi04qD"
   },
   "outputs": [
    {
     "data": {
      "application/vnd.plotly.v1+json": {
       "config": {
        "plotlyServerURL": "https://plot.ly"
       },
       "data": [
        {
         "line": {
          "width": 4
         },
         "mode": "lines",
         "name": "Adam",
         "type": "scatter",
         "x": [
          1,
          2,
          3,
          4,
          5,
          6,
          7,
          8,
          9,
          10,
          11,
          12,
          13,
          14,
          15,
          16,
          17,
          18,
          19,
          20,
          21,
          22,
          23,
          24,
          25,
          26,
          27
         ],
         "y": [
          4.631790237443781,
          0.14417743526236015,
          null,
          null,
          null,
          null,
          null,
          null,
          null,
          null,
          null,
          null,
          null,
          null,
          null,
          null,
          null,
          null,
          null,
          null,
          null,
          null,
          null,
          null,
          null,
          null,
          null
         ]
        }
       ],
       "layout": {
        "autosize": false,
        "height": 576,
        "legend": {
         "font": {
          "size": 12
         },
         "x": 1,
         "xanchor": "right",
         "y": 1,
         "yanchor": "top"
        },
        "margin": {
         "b": 10,
         "l": 10,
         "pad": 4,
         "r": 10,
         "t": 75
        },
        "showlegend": true,
        "template": {
         "data": {
          "bar": [
           {
            "error_x": {
             "color": "#2a3f5f"
            },
            "error_y": {
             "color": "#2a3f5f"
            },
            "marker": {
             "line": {
              "color": "#E5ECF6",
              "width": 0.5
             },
             "pattern": {
              "fillmode": "overlay",
              "size": 10,
              "solidity": 0.2
             }
            },
            "type": "bar"
           }
          ],
          "barpolar": [
           {
            "marker": {
             "line": {
              "color": "#E5ECF6",
              "width": 0.5
             },
             "pattern": {
              "fillmode": "overlay",
              "size": 10,
              "solidity": 0.2
             }
            },
            "type": "barpolar"
           }
          ],
          "carpet": [
           {
            "aaxis": {
             "endlinecolor": "#2a3f5f",
             "gridcolor": "white",
             "linecolor": "white",
             "minorgridcolor": "white",
             "startlinecolor": "#2a3f5f"
            },
            "baxis": {
             "endlinecolor": "#2a3f5f",
             "gridcolor": "white",
             "linecolor": "white",
             "minorgridcolor": "white",
             "startlinecolor": "#2a3f5f"
            },
            "type": "carpet"
           }
          ],
          "choropleth": [
           {
            "colorbar": {
             "outlinewidth": 0,
             "ticks": ""
            },
            "type": "choropleth"
           }
          ],
          "contour": [
           {
            "colorbar": {
             "outlinewidth": 0,
             "ticks": ""
            },
            "colorscale": [
             [
              0,
              "#0d0887"
             ],
             [
              0.1111111111111111,
              "#46039f"
             ],
             [
              0.2222222222222222,
              "#7201a8"
             ],
             [
              0.3333333333333333,
              "#9c179e"
             ],
             [
              0.4444444444444444,
              "#bd3786"
             ],
             [
              0.5555555555555556,
              "#d8576b"
             ],
             [
              0.6666666666666666,
              "#ed7953"
             ],
             [
              0.7777777777777778,
              "#fb9f3a"
             ],
             [
              0.8888888888888888,
              "#fdca26"
             ],
             [
              1,
              "#f0f921"
             ]
            ],
            "type": "contour"
           }
          ],
          "contourcarpet": [
           {
            "colorbar": {
             "outlinewidth": 0,
             "ticks": ""
            },
            "type": "contourcarpet"
           }
          ],
          "heatmap": [
           {
            "colorbar": {
             "outlinewidth": 0,
             "ticks": ""
            },
            "colorscale": [
             [
              0,
              "#0d0887"
             ],
             [
              0.1111111111111111,
              "#46039f"
             ],
             [
              0.2222222222222222,
              "#7201a8"
             ],
             [
              0.3333333333333333,
              "#9c179e"
             ],
             [
              0.4444444444444444,
              "#bd3786"
             ],
             [
              0.5555555555555556,
              "#d8576b"
             ],
             [
              0.6666666666666666,
              "#ed7953"
             ],
             [
              0.7777777777777778,
              "#fb9f3a"
             ],
             [
              0.8888888888888888,
              "#fdca26"
             ],
             [
              1,
              "#f0f921"
             ]
            ],
            "type": "heatmap"
           }
          ],
          "heatmapgl": [
           {
            "colorbar": {
             "outlinewidth": 0,
             "ticks": ""
            },
            "colorscale": [
             [
              0,
              "#0d0887"
             ],
             [
              0.1111111111111111,
              "#46039f"
             ],
             [
              0.2222222222222222,
              "#7201a8"
             ],
             [
              0.3333333333333333,
              "#9c179e"
             ],
             [
              0.4444444444444444,
              "#bd3786"
             ],
             [
              0.5555555555555556,
              "#d8576b"
             ],
             [
              0.6666666666666666,
              "#ed7953"
             ],
             [
              0.7777777777777778,
              "#fb9f3a"
             ],
             [
              0.8888888888888888,
              "#fdca26"
             ],
             [
              1,
              "#f0f921"
             ]
            ],
            "type": "heatmapgl"
           }
          ],
          "histogram": [
           {
            "marker": {
             "pattern": {
              "fillmode": "overlay",
              "size": 10,
              "solidity": 0.2
             }
            },
            "type": "histogram"
           }
          ],
          "histogram2d": [
           {
            "colorbar": {
             "outlinewidth": 0,
             "ticks": ""
            },
            "colorscale": [
             [
              0,
              "#0d0887"
             ],
             [
              0.1111111111111111,
              "#46039f"
             ],
             [
              0.2222222222222222,
              "#7201a8"
             ],
             [
              0.3333333333333333,
              "#9c179e"
             ],
             [
              0.4444444444444444,
              "#bd3786"
             ],
             [
              0.5555555555555556,
              "#d8576b"
             ],
             [
              0.6666666666666666,
              "#ed7953"
             ],
             [
              0.7777777777777778,
              "#fb9f3a"
             ],
             [
              0.8888888888888888,
              "#fdca26"
             ],
             [
              1,
              "#f0f921"
             ]
            ],
            "type": "histogram2d"
           }
          ],
          "histogram2dcontour": [
           {
            "colorbar": {
             "outlinewidth": 0,
             "ticks": ""
            },
            "colorscale": [
             [
              0,
              "#0d0887"
             ],
             [
              0.1111111111111111,
              "#46039f"
             ],
             [
              0.2222222222222222,
              "#7201a8"
             ],
             [
              0.3333333333333333,
              "#9c179e"
             ],
             [
              0.4444444444444444,
              "#bd3786"
             ],
             [
              0.5555555555555556,
              "#d8576b"
             ],
             [
              0.6666666666666666,
              "#ed7953"
             ],
             [
              0.7777777777777778,
              "#fb9f3a"
             ],
             [
              0.8888888888888888,
              "#fdca26"
             ],
             [
              1,
              "#f0f921"
             ]
            ],
            "type": "histogram2dcontour"
           }
          ],
          "mesh3d": [
           {
            "colorbar": {
             "outlinewidth": 0,
             "ticks": ""
            },
            "type": "mesh3d"
           }
          ],
          "parcoords": [
           {
            "line": {
             "colorbar": {
              "outlinewidth": 0,
              "ticks": ""
             }
            },
            "type": "parcoords"
           }
          ],
          "pie": [
           {
            "automargin": true,
            "type": "pie"
           }
          ],
          "scatter": [
           {
            "fillpattern": {
             "fillmode": "overlay",
             "size": 10,
             "solidity": 0.2
            },
            "type": "scatter"
           }
          ],
          "scatter3d": [
           {
            "line": {
             "colorbar": {
              "outlinewidth": 0,
              "ticks": ""
             }
            },
            "marker": {
             "colorbar": {
              "outlinewidth": 0,
              "ticks": ""
             }
            },
            "type": "scatter3d"
           }
          ],
          "scattercarpet": [
           {
            "marker": {
             "colorbar": {
              "outlinewidth": 0,
              "ticks": ""
             }
            },
            "type": "scattercarpet"
           }
          ],
          "scattergeo": [
           {
            "marker": {
             "colorbar": {
              "outlinewidth": 0,
              "ticks": ""
             }
            },
            "type": "scattergeo"
           }
          ],
          "scattergl": [
           {
            "marker": {
             "colorbar": {
              "outlinewidth": 0,
              "ticks": ""
             }
            },
            "type": "scattergl"
           }
          ],
          "scattermapbox": [
           {
            "marker": {
             "colorbar": {
              "outlinewidth": 0,
              "ticks": ""
             }
            },
            "type": "scattermapbox"
           }
          ],
          "scatterpolar": [
           {
            "marker": {
             "colorbar": {
              "outlinewidth": 0,
              "ticks": ""
             }
            },
            "type": "scatterpolar"
           }
          ],
          "scatterpolargl": [
           {
            "marker": {
             "colorbar": {
              "outlinewidth": 0,
              "ticks": ""
             }
            },
            "type": "scatterpolargl"
           }
          ],
          "scatterternary": [
           {
            "marker": {
             "colorbar": {
              "outlinewidth": 0,
              "ticks": ""
             }
            },
            "type": "scatterternary"
           }
          ],
          "surface": [
           {
            "colorbar": {
             "outlinewidth": 0,
             "ticks": ""
            },
            "colorscale": [
             [
              0,
              "#0d0887"
             ],
             [
              0.1111111111111111,
              "#46039f"
             ],
             [
              0.2222222222222222,
              "#7201a8"
             ],
             [
              0.3333333333333333,
              "#9c179e"
             ],
             [
              0.4444444444444444,
              "#bd3786"
             ],
             [
              0.5555555555555556,
              "#d8576b"
             ],
             [
              0.6666666666666666,
              "#ed7953"
             ],
             [
              0.7777777777777778,
              "#fb9f3a"
             ],
             [
              0.8888888888888888,
              "#fdca26"
             ],
             [
              1,
              "#f0f921"
             ]
            ],
            "type": "surface"
           }
          ],
          "table": [
           {
            "cells": {
             "fill": {
              "color": "#EBF0F8"
             },
             "line": {
              "color": "white"
             }
            },
            "header": {
             "fill": {
              "color": "#C8D4E3"
             },
             "line": {
              "color": "white"
             }
            },
            "type": "table"
           }
          ]
         },
         "layout": {
          "annotationdefaults": {
           "arrowcolor": "#2a3f5f",
           "arrowhead": 0,
           "arrowwidth": 1
          },
          "autotypenumbers": "strict",
          "coloraxis": {
           "colorbar": {
            "outlinewidth": 0,
            "ticks": ""
           }
          },
          "colorscale": {
           "diverging": [
            [
             0,
             "#8e0152"
            ],
            [
             0.1,
             "#c51b7d"
            ],
            [
             0.2,
             "#de77ae"
            ],
            [
             0.3,
             "#f1b6da"
            ],
            [
             0.4,
             "#fde0ef"
            ],
            [
             0.5,
             "#f7f7f7"
            ],
            [
             0.6,
             "#e6f5d0"
            ],
            [
             0.7,
             "#b8e186"
            ],
            [
             0.8,
             "#7fbc41"
            ],
            [
             0.9,
             "#4d9221"
            ],
            [
             1,
             "#276419"
            ]
           ],
           "sequential": [
            [
             0,
             "#0d0887"
            ],
            [
             0.1111111111111111,
             "#46039f"
            ],
            [
             0.2222222222222222,
             "#7201a8"
            ],
            [
             0.3333333333333333,
             "#9c179e"
            ],
            [
             0.4444444444444444,
             "#bd3786"
            ],
            [
             0.5555555555555556,
             "#d8576b"
            ],
            [
             0.6666666666666666,
             "#ed7953"
            ],
            [
             0.7777777777777778,
             "#fb9f3a"
            ],
            [
             0.8888888888888888,
             "#fdca26"
            ],
            [
             1,
             "#f0f921"
            ]
           ],
           "sequentialminus": [
            [
             0,
             "#0d0887"
            ],
            [
             0.1111111111111111,
             "#46039f"
            ],
            [
             0.2222222222222222,
             "#7201a8"
            ],
            [
             0.3333333333333333,
             "#9c179e"
            ],
            [
             0.4444444444444444,
             "#bd3786"
            ],
            [
             0.5555555555555556,
             "#d8576b"
            ],
            [
             0.6666666666666666,
             "#ed7953"
            ],
            [
             0.7777777777777778,
             "#fb9f3a"
            ],
            [
             0.8888888888888888,
             "#fdca26"
            ],
            [
             1,
             "#f0f921"
            ]
           ]
          },
          "colorway": [
           "#636efa",
           "#EF553B",
           "#00cc96",
           "#ab63fa",
           "#FFA15A",
           "#19d3f3",
           "#FF6692",
           "#B6E880",
           "#FF97FF",
           "#FECB52"
          ],
          "font": {
           "color": "#2a3f5f"
          },
          "geo": {
           "bgcolor": "white",
           "lakecolor": "white",
           "landcolor": "#E5ECF6",
           "showlakes": true,
           "showland": true,
           "subunitcolor": "white"
          },
          "hoverlabel": {
           "align": "left"
          },
          "hovermode": "closest",
          "mapbox": {
           "style": "light"
          },
          "paper_bgcolor": "white",
          "plot_bgcolor": "#E5ECF6",
          "polar": {
           "angularaxis": {
            "gridcolor": "white",
            "linecolor": "white",
            "ticks": ""
           },
           "bgcolor": "#E5ECF6",
           "radialaxis": {
            "gridcolor": "white",
            "linecolor": "white",
            "ticks": ""
           }
          },
          "scene": {
           "xaxis": {
            "backgroundcolor": "#E5ECF6",
            "gridcolor": "white",
            "gridwidth": 2,
            "linecolor": "white",
            "showbackground": true,
            "ticks": "",
            "zerolinecolor": "white"
           },
           "yaxis": {
            "backgroundcolor": "#E5ECF6",
            "gridcolor": "white",
            "gridwidth": 2,
            "linecolor": "white",
            "showbackground": true,
            "ticks": "",
            "zerolinecolor": "white"
           },
           "zaxis": {
            "backgroundcolor": "#E5ECF6",
            "gridcolor": "white",
            "gridwidth": 2,
            "linecolor": "white",
            "showbackground": true,
            "ticks": "",
            "zerolinecolor": "white"
           }
          },
          "shapedefaults": {
           "line": {
            "color": "#2a3f5f"
           }
          },
          "ternary": {
           "aaxis": {
            "gridcolor": "white",
            "linecolor": "white",
            "ticks": ""
           },
           "baxis": {
            "gridcolor": "white",
            "linecolor": "white",
            "ticks": ""
           },
           "bgcolor": "#E5ECF6",
           "caxis": {
            "gridcolor": "white",
            "linecolor": "white",
            "ticks": ""
           }
          },
          "title": {
           "x": 0.05
          },
          "xaxis": {
           "automargin": true,
           "gridcolor": "white",
           "linecolor": "white",
           "ticks": "",
           "title": {
            "standoff": 15
           },
           "zerolinecolor": "white",
           "zerolinewidth": 2
          },
          "yaxis": {
           "automargin": true,
           "gridcolor": "white",
           "linecolor": "white",
           "ticks": "",
           "title": {
            "standoff": 15
           },
           "zerolinecolor": "white",
           "zerolinewidth": 2
          }
         }
        },
        "title": {
         "text": "Convergence",
         "x": 0.5
        },
        "width": 1024,
        "xaxis": {
         "autorange": true,
         "range": [
          1,
          27
         ],
         "tickfont": {
          "size": 12
         },
         "title": {
          "font": {
           "size": 12
          },
          "text": "Iteration"
         },
         "type": "linear"
        },
        "yaxis": {
         "autorange": true,
         "range": [
          -0.10513438708105213,
          4.881102059787193
         ],
         "tickfont": {
          "size": 12
         },
         "title": {
          "font": {
           "size": 12
          },
          "text": "Cost"
         },
         "type": "linear"
        }
       }
      },
      "image/png": "[encoded data removed]",
      "text/html": [
       "<div>                            <div id=\"0d59c7c4-ff97-4f51-8134-60bc21fb904a\" class=\"plotly-graph-div\" style=\"height:576px; width:1024px;\"></div>            <script type=\"text/javascript\">                require([\"plotly\"], function(Plotly) {                    window.PLOTLYENV=window.PLOTLYENV || {};                                    if (document.getElementById(\"0d59c7c4-ff97-4f51-8134-60bc21fb904a\")) {                    Plotly.newPlot(                        \"0d59c7c4-ff97-4f51-8134-60bc21fb904a\",                        [{\"line\":{\"width\":4},\"mode\":\"lines\",\"name\":\"Adam\",\"x\":[1,2,3,4,5,6,7,8,9,10,11,12,13,14,15,16,17,18,19,20,21,22,23,24,25,26,27],\"y\":[4.631790237443781,0.14417743526236015,null,null,null,null,null,null,null,null,null,null,null,null,null,null,null,null,null,null,null,null,null,null,null,null,null],\"type\":\"scatter\"}],                        {\"autosize\":false,\"height\":576,\"legend\":{\"font\":{\"size\":12},\"x\":1,\"xanchor\":\"right\",\"y\":1,\"yanchor\":\"top\"},\"margin\":{\"b\":10,\"l\":10,\"pad\":4,\"r\":10,\"t\":75},\"showlegend\":true,\"title\":{\"text\":\"Convergence\",\"x\":0.5},\"width\":1024,\"xaxis\":{\"tickfont\":{\"size\":12},\"title\":{\"font\":{\"size\":12},\"text\":\"Iteration\"}},\"yaxis\":{\"tickfont\":{\"size\":12},\"title\":{\"font\":{\"size\":12},\"text\":\"Cost\"}},\"template\":{\"data\":{\"histogram2dcontour\":[{\"type\":\"histogram2dcontour\",\"colorbar\":{\"outlinewidth\":0,\"ticks\":\"\"},\"colorscale\":[[0.0,\"#0d0887\"],[0.1111111111111111,\"#46039f\"],[0.2222222222222222,\"#7201a8\"],[0.3333333333333333,\"#9c179e\"],[0.4444444444444444,\"#bd3786\"],[0.5555555555555556,\"#d8576b\"],[0.6666666666666666,\"#ed7953\"],[0.7777777777777778,\"#fb9f3a\"],[0.8888888888888888,\"#fdca26\"],[1.0,\"#f0f921\"]]}],\"choropleth\":[{\"type\":\"choropleth\",\"colorbar\":{\"outlinewidth\":0,\"ticks\":\"\"}}],\"histogram2d\":[{\"type\":\"histogram2d\",\"colorbar\":{\"outlinewidth\":0,\"ticks\":\"\"},\"colorscale\":[[0.0,\"#0d0887\"],[0.1111111111111111,\"#46039f\"],[0.2222222222222222,\"#7201a8\"],[0.3333333333333333,\"#9c179e\"],[0.4444444444444444,\"#bd3786\"],[0.5555555555555556,\"#d8576b\"],[0.6666666666666666,\"#ed7953\"],[0.7777777777777778,\"#fb9f3a\"],[0.8888888888888888,\"#fdca26\"],[1.0,\"#f0f921\"]]}],\"heatmap\":[{\"type\":\"heatmap\",\"colorbar\":{\"outlinewidth\":0,\"ticks\":\"\"},\"colorscale\":[[0.0,\"#0d0887\"],[0.1111111111111111,\"#46039f\"],[0.2222222222222222,\"#7201a8\"],[0.3333333333333333,\"#9c179e\"],[0.4444444444444444,\"#bd3786\"],[0.5555555555555556,\"#d8576b\"],[0.6666666666666666,\"#ed7953\"],[0.7777777777777778,\"#fb9f3a\"],[0.8888888888888888,\"#fdca26\"],[1.0,\"#f0f921\"]]}],\"heatmapgl\":[{\"type\":\"heatmapgl\",\"colorbar\":{\"outlinewidth\":0,\"ticks\":\"\"},\"colorscale\":[[0.0,\"#0d0887\"],[0.1111111111111111,\"#46039f\"],[0.2222222222222222,\"#7201a8\"],[0.3333333333333333,\"#9c179e\"],[0.4444444444444444,\"#bd3786\"],[0.5555555555555556,\"#d8576b\"],[0.6666666666666666,\"#ed7953\"],[0.7777777777777778,\"#fb9f3a\"],[0.8888888888888888,\"#fdca26\"],[1.0,\"#f0f921\"]]}],\"contourcarpet\":[{\"type\":\"contourcarpet\",\"colorbar\":{\"outlinewidth\":0,\"ticks\":\"\"}}],\"contour\":[{\"type\":\"contour\",\"colorbar\":{\"outlinewidth\":0,\"ticks\":\"\"},\"colorscale\":[[0.0,\"#0d0887\"],[0.1111111111111111,\"#46039f\"],[0.2222222222222222,\"#7201a8\"],[0.3333333333333333,\"#9c179e\"],[0.4444444444444444,\"#bd3786\"],[0.5555555555555556,\"#d8576b\"],[0.6666666666666666,\"#ed7953\"],[0.7777777777777778,\"#fb9f3a\"],[0.8888888888888888,\"#fdca26\"],[1.0,\"#f0f921\"]]}],\"surface\":[{\"type\":\"surface\",\"colorbar\":{\"outlinewidth\":0,\"ticks\":\"\"},\"colorscale\":[[0.0,\"#0d0887\"],[0.1111111111111111,\"#46039f\"],[0.2222222222222222,\"#7201a8\"],[0.3333333333333333,\"#9c179e\"],[0.4444444444444444,\"#bd3786\"],[0.5555555555555556,\"#d8576b\"],[0.6666666666666666,\"#ed7953\"],[0.7777777777777778,\"#fb9f3a\"],[0.8888888888888888,\"#fdca26\"],[1.0,\"#f0f921\"]]}],\"mesh3d\":[{\"type\":\"mesh3d\",\"colorbar\":{\"outlinewidth\":0,\"ticks\":\"\"}}],\"scatter\":[{\"fillpattern\":{\"fillmode\":\"overlay\",\"size\":10,\"solidity\":0.2},\"type\":\"scatter\"}],\"parcoords\":[{\"type\":\"parcoords\",\"line\":{\"colorbar\":{\"outlinewidth\":0,\"ticks\":\"\"}}}],\"scatterpolargl\":[{\"type\":\"scatterpolargl\",\"marker\":{\"colorbar\":{\"outlinewidth\":0,\"ticks\":\"\"}}}],\"bar\":[{\"error_x\":{\"color\":\"#2a3f5f\"},\"error_y\":{\"color\":\"#2a3f5f\"},\"marker\":{\"line\":{\"color\":\"#E5ECF6\",\"width\":0.5},\"pattern\":{\"fillmode\":\"overlay\",\"size\":10,\"solidity\":0.2}},\"type\":\"bar\"}],\"scattergeo\":[{\"type\":\"scattergeo\",\"marker\":{\"colorbar\":{\"outlinewidth\":0,\"ticks\":\"\"}}}],\"scatterpolar\":[{\"type\":\"scatterpolar\",\"marker\":{\"colorbar\":{\"outlinewidth\":0,\"ticks\":\"\"}}}],\"histogram\":[{\"marker\":{\"pattern\":{\"fillmode\":\"overlay\",\"size\":10,\"solidity\":0.2}},\"type\":\"histogram\"}],\"scattergl\":[{\"type\":\"scattergl\",\"marker\":{\"colorbar\":{\"outlinewidth\":0,\"ticks\":\"\"}}}],\"scatter3d\":[{\"type\":\"scatter3d\",\"line\":{\"colorbar\":{\"outlinewidth\":0,\"ticks\":\"\"}},\"marker\":{\"colorbar\":{\"outlinewidth\":0,\"ticks\":\"\"}}}],\"scattermapbox\":[{\"type\":\"scattermapbox\",\"marker\":{\"colorbar\":{\"outlinewidth\":0,\"ticks\":\"\"}}}],\"scatterternary\":[{\"type\":\"scatterternary\",\"marker\":{\"colorbar\":{\"outlinewidth\":0,\"ticks\":\"\"}}}],\"scattercarpet\":[{\"type\":\"scattercarpet\",\"marker\":{\"colorbar\":{\"outlinewidth\":0,\"ticks\":\"\"}}}],\"carpet\":[{\"aaxis\":{\"endlinecolor\":\"#2a3f5f\",\"gridcolor\":\"white\",\"linecolor\":\"white\",\"minorgridcolor\":\"white\",\"startlinecolor\":\"#2a3f5f\"},\"baxis\":{\"endlinecolor\":\"#2a3f5f\",\"gridcolor\":\"white\",\"linecolor\":\"white\",\"minorgridcolor\":\"white\",\"startlinecolor\":\"#2a3f5f\"},\"type\":\"carpet\"}],\"table\":[{\"cells\":{\"fill\":{\"color\":\"#EBF0F8\"},\"line\":{\"color\":\"white\"}},\"header\":{\"fill\":{\"color\":\"#C8D4E3\"},\"line\":{\"color\":\"white\"}},\"type\":\"table\"}],\"barpolar\":[{\"marker\":{\"line\":{\"color\":\"#E5ECF6\",\"width\":0.5},\"pattern\":{\"fillmode\":\"overlay\",\"size\":10,\"solidity\":0.2}},\"type\":\"barpolar\"}],\"pie\":[{\"automargin\":true,\"type\":\"pie\"}]},\"layout\":{\"autotypenumbers\":\"strict\",\"colorway\":[\"#636efa\",\"#EF553B\",\"#00cc96\",\"#ab63fa\",\"#FFA15A\",\"#19d3f3\",\"#FF6692\",\"#B6E880\",\"#FF97FF\",\"#FECB52\"],\"font\":{\"color\":\"#2a3f5f\"},\"hovermode\":\"closest\",\"hoverlabel\":{\"align\":\"left\"},\"paper_bgcolor\":\"white\",\"plot_bgcolor\":\"#E5ECF6\",\"polar\":{\"bgcolor\":\"#E5ECF6\",\"angularaxis\":{\"gridcolor\":\"white\",\"linecolor\":\"white\",\"ticks\":\"\"},\"radialaxis\":{\"gridcolor\":\"white\",\"linecolor\":\"white\",\"ticks\":\"\"}},\"ternary\":{\"bgcolor\":\"#E5ECF6\",\"aaxis\":{\"gridcolor\":\"white\",\"linecolor\":\"white\",\"ticks\":\"\"},\"baxis\":{\"gridcolor\":\"white\",\"linecolor\":\"white\",\"ticks\":\"\"},\"caxis\":{\"gridcolor\":\"white\",\"linecolor\":\"white\",\"ticks\":\"\"}},\"coloraxis\":{\"colorbar\":{\"outlinewidth\":0,\"ticks\":\"\"}},\"colorscale\":{\"sequential\":[[0.0,\"#0d0887\"],[0.1111111111111111,\"#46039f\"],[0.2222222222222222,\"#7201a8\"],[0.3333333333333333,\"#9c179e\"],[0.4444444444444444,\"#bd3786\"],[0.5555555555555556,\"#d8576b\"],[0.6666666666666666,\"#ed7953\"],[0.7777777777777778,\"#fb9f3a\"],[0.8888888888888888,\"#fdca26\"],[1.0,\"#f0f921\"]],\"sequentialminus\":[[0.0,\"#0d0887\"],[0.1111111111111111,\"#46039f\"],[0.2222222222222222,\"#7201a8\"],[0.3333333333333333,\"#9c179e\"],[0.4444444444444444,\"#bd3786\"],[0.5555555555555556,\"#d8576b\"],[0.6666666666666666,\"#ed7953\"],[0.7777777777777778,\"#fb9f3a\"],[0.8888888888888888,\"#fdca26\"],[1.0,\"#f0f921\"]],\"diverging\":[[0,\"#8e0152\"],[0.1,\"#c51b7d\"],[0.2,\"#de77ae\"],[0.3,\"#f1b6da\"],[0.4,\"#fde0ef\"],[0.5,\"#f7f7f7\"],[0.6,\"#e6f5d0\"],[0.7,\"#b8e186\"],[0.8,\"#7fbc41\"],[0.9,\"#4d9221\"],[1,\"#276419\"]]},\"xaxis\":{\"gridcolor\":\"white\",\"linecolor\":\"white\",\"ticks\":\"\",\"title\":{\"standoff\":15},\"zerolinecolor\":\"white\",\"automargin\":true,\"zerolinewidth\":2},\"yaxis\":{\"gridcolor\":\"white\",\"linecolor\":\"white\",\"ticks\":\"\",\"title\":{\"standoff\":15},\"zerolinecolor\":\"white\",\"automargin\":true,\"zerolinewidth\":2},\"scene\":{\"xaxis\":{\"backgroundcolor\":\"#E5ECF6\",\"gridcolor\":\"white\",\"linecolor\":\"white\",\"showbackground\":true,\"ticks\":\"\",\"zerolinecolor\":\"white\",\"gridwidth\":2},\"yaxis\":{\"backgroundcolor\":\"#E5ECF6\",\"gridcolor\":\"white\",\"linecolor\":\"white\",\"showbackground\":true,\"ticks\":\"\",\"zerolinecolor\":\"white\",\"gridwidth\":2},\"zaxis\":{\"backgroundcolor\":\"#E5ECF6\",\"gridcolor\":\"white\",\"linecolor\":\"white\",\"showbackground\":true,\"ticks\":\"\",\"zerolinecolor\":\"white\",\"gridwidth\":2}},\"shapedefaults\":{\"line\":{\"color\":\"#2a3f5f\"}},\"annotationdefaults\":{\"arrowcolor\":\"#2a3f5f\",\"arrowhead\":0,\"arrowwidth\":1},\"geo\":{\"bgcolor\":\"white\",\"landcolor\":\"#E5ECF6\",\"subunitcolor\":\"white\",\"showland\":true,\"showlakes\":true,\"lakecolor\":\"white\"},\"title\":{\"x\":0.05},\"mapbox\":{\"style\":\"light\"}}}},                        {\"responsive\": true}                    ).then(function(){\n",
       "                            \n",
       "var gd = document.getElementById('0d59c7c4-ff97-4f51-8134-60bc21fb904a');\n",
       "var x = new MutationObserver(function (mutations, observer) {{\n",
       "        var display = window.getComputedStyle(gd).display;\n",
       "        if (!display || display === 'none') {{\n",
       "            console.log([gd, 'removed!']);\n",
       "            Plotly.purge(gd);\n",
       "            observer.disconnect();\n",
       "        }}\n",
       "}});\n",
       "\n",
       "// Listen for the removal of the full notebook cells\n",
       "var notebookContainer = gd.closest('#notebook-container');\n",
       "if (notebookContainer) {{\n",
       "    x.observe(notebookContainer, {childList: true});\n",
       "}}\n",
       "\n",
       "// Listen for the clearing of the current output cell\n",
       "var outputEl = gd.closest('.output');\n",
       "if (outputEl) {{\n",
       "    x.observe(outputEl, {childList: true});\n",
       "}}\n",
       "\n",
       "                        })                };                });            </script>        </div>"
      ]
     },
     "metadata": {},
     "output_type": "display_data"
    },
    {
     "data": {
      "application/vnd.plotly.v1+json": {
       "config": {
        "plotlyServerURL": "https://plot.ly"
       },
       "data": [
        {
         "name": "Negative electrode active material volume fraction",
         "type": "scatter",
         "x": [
          0,
          1,
          2,
          3,
          4,
          5,
          6,
          7,
          8,
          9,
          10,
          11,
          12,
          13,
          14,
          15,
          16,
          17,
          18,
          19,
          20,
          21,
          22,
          23,
          24,
          25,
          26
         ],
         "xaxis": "x",
         "y": [
          0.5973854734091671,
          0.7495907457939224,
          0.8600550194499827,
          0.9355542869819478,
          0.9885162865561056,
          1.0250419416076115,
          1.0487224354799283,
          1.0619150663775896,
          1.0662842508047101,
          1.0630680725203854,
          1.0532240892676932,
          1.0375155219919607,
          1.0165653535734185,
          0.9908919526635798,
          0.9609334713446426,
          0.9270651118642977,
          0.8896116923943075,
          0.8488570143045052,
          0.8050509932047014,
          0.7584151889940085,
          0.7091471655137969,
          0.6574239785523336,
          0.6034050037916349,
          0.5472342573421157,
          0.48904232082422316,
          0.4289479543528889,
          0.36705946033606024
         ],
         "yaxis": "y"
        },
        {
         "name": "Positive electrode active material volume fraction",
         "type": "scatter",
         "x": [
          0,
          1,
          2,
          3,
          4,
          5,
          6,
          7,
          8,
          9,
          10,
          11,
          12,
          13,
          14,
          15,
          16,
          17,
          18,
          19,
          20,
          21,
          22,
          23,
          24,
          25,
          26
         ],
         "xaxis": "x2",
         "y": [
          0.45661581760263686,
          0.6088210901120648,
          0.720573692227322,
          0.8053691686094567,
          0.8733830633034931,
          0.9295140707123055,
          0.9765940003280092,
          1.01645078441555,
          1.05035524113237,
          1.0792392967113968,
          1.1038143473412085,
          1.1246406413680443,
          1.1421704690144416,
          1.1567763698295264,
          1.1687702943003226,
          1.1784170559259177,
          1.1859440431421433,
          1.1915484025863348,
          1.1954024656515447,
          1.1976579253702961,
          1.1984491055963193,
          1.1978955585484694,
          1.1961041570656736,
          1.1931708009678696,
          1.1891818246411905,
          1.1842151703671202,
          1.1783413758286536
         ],
         "yaxis": "y2"
        }
       ],
       "layout": {
        "height": 576,
        "legend": {
         "orientation": "h",
         "x": 1,
         "xanchor": "right",
         "y": 1.02,
         "yanchor": "bottom"
        },
        "template": {
         "data": {
          "bar": [
           {
            "error_x": {
             "color": "#2a3f5f"
            },
            "error_y": {
             "color": "#2a3f5f"
            },
            "marker": {
             "line": {
              "color": "#E5ECF6",
              "width": 0.5
             },
             "pattern": {
              "fillmode": "overlay",
              "size": 10,
              "solidity": 0.2
             }
            },
            "type": "bar"
           }
          ],
          "barpolar": [
           {
            "marker": {
             "line": {
              "color": "#E5ECF6",
              "width": 0.5
             },
             "pattern": {
              "fillmode": "overlay",
              "size": 10,
              "solidity": 0.2
             }
            },
            "type": "barpolar"
           }
          ],
          "carpet": [
           {
            "aaxis": {
             "endlinecolor": "#2a3f5f",
             "gridcolor": "white",
             "linecolor": "white",
             "minorgridcolor": "white",
             "startlinecolor": "#2a3f5f"
            },
            "baxis": {
             "endlinecolor": "#2a3f5f",
             "gridcolor": "white",
             "linecolor": "white",
             "minorgridcolor": "white",
             "startlinecolor": "#2a3f5f"
            },
            "type": "carpet"
           }
          ],
          "choropleth": [
           {
            "colorbar": {
             "outlinewidth": 0,
             "ticks": ""
            },
            "type": "choropleth"
           }
          ],
          "contour": [
           {
            "colorbar": {
             "outlinewidth": 0,
             "ticks": ""
            },
            "colorscale": [
             [
              0,
              "#0d0887"
             ],
             [
              0.1111111111111111,
              "#46039f"
             ],
             [
              0.2222222222222222,
              "#7201a8"
             ],
             [
              0.3333333333333333,
              "#9c179e"
             ],
             [
              0.4444444444444444,
              "#bd3786"
             ],
             [
              0.5555555555555556,
              "#d8576b"
             ],
             [
              0.6666666666666666,
              "#ed7953"
             ],
             [
              0.7777777777777778,
              "#fb9f3a"
             ],
             [
              0.8888888888888888,
              "#fdca26"
             ],
             [
              1,
              "#f0f921"
             ]
            ],
            "type": "contour"
           }
          ],
          "contourcarpet": [
           {
            "colorbar": {
             "outlinewidth": 0,
             "ticks": ""
            },
            "type": "contourcarpet"
           }
          ],
          "heatmap": [
           {
            "colorbar": {
             "outlinewidth": 0,
             "ticks": ""
            },
            "colorscale": [
             [
              0,
              "#0d0887"
             ],
             [
              0.1111111111111111,
              "#46039f"
             ],
             [
              0.2222222222222222,
              "#7201a8"
             ],
             [
              0.3333333333333333,
              "#9c179e"
             ],
             [
              0.4444444444444444,
              "#bd3786"
             ],
             [
              0.5555555555555556,
              "#d8576b"
             ],
             [
              0.6666666666666666,
              "#ed7953"
             ],
             [
              0.7777777777777778,
              "#fb9f3a"
             ],
             [
              0.8888888888888888,
              "#fdca26"
             ],
             [
              1,
              "#f0f921"
             ]
            ],
            "type": "heatmap"
           }
          ],
          "heatmapgl": [
           {
            "colorbar": {
             "outlinewidth": 0,
             "ticks": ""
            },
            "colorscale": [
             [
              0,
              "#0d0887"
             ],
             [
              0.1111111111111111,
              "#46039f"
             ],
             [
              0.2222222222222222,
              "#7201a8"
             ],
             [
              0.3333333333333333,
              "#9c179e"
             ],
             [
              0.4444444444444444,
              "#bd3786"
             ],
             [
              0.5555555555555556,
              "#d8576b"
             ],
             [
              0.6666666666666666,
              "#ed7953"
             ],
             [
              0.7777777777777778,
              "#fb9f3a"
             ],
             [
              0.8888888888888888,
              "#fdca26"
             ],
             [
              1,
              "#f0f921"
             ]
            ],
            "type": "heatmapgl"
           }
          ],
          "histogram": [
           {
            "marker": {
             "pattern": {
              "fillmode": "overlay",
              "size": 10,
              "solidity": 0.2
             }
            },
            "type": "histogram"
           }
          ],
          "histogram2d": [
           {
            "colorbar": {
             "outlinewidth": 0,
             "ticks": ""
            },
            "colorscale": [
             [
              0,
              "#0d0887"
             ],
             [
              0.1111111111111111,
              "#46039f"
             ],
             [
              0.2222222222222222,
              "#7201a8"
             ],
             [
              0.3333333333333333,
              "#9c179e"
             ],
             [
              0.4444444444444444,
              "#bd3786"
             ],
             [
              0.5555555555555556,
              "#d8576b"
             ],
             [
              0.6666666666666666,
              "#ed7953"
             ],
             [
              0.7777777777777778,
              "#fb9f3a"
             ],
             [
              0.8888888888888888,
              "#fdca26"
             ],
             [
              1,
              "#f0f921"
             ]
            ],
            "type": "histogram2d"
           }
          ],
          "histogram2dcontour": [
           {
            "colorbar": {
             "outlinewidth": 0,
             "ticks": ""
            },
            "colorscale": [
             [
              0,
              "#0d0887"
             ],
             [
              0.1111111111111111,
              "#46039f"
             ],
             [
              0.2222222222222222,
              "#7201a8"
             ],
             [
              0.3333333333333333,
              "#9c179e"
             ],
             [
              0.4444444444444444,
              "#bd3786"
             ],
             [
              0.5555555555555556,
              "#d8576b"
             ],
             [
              0.6666666666666666,
              "#ed7953"
             ],
             [
              0.7777777777777778,
              "#fb9f3a"
             ],
             [
              0.8888888888888888,
              "#fdca26"
             ],
             [
              1,
              "#f0f921"
             ]
            ],
            "type": "histogram2dcontour"
           }
          ],
          "mesh3d": [
           {
            "colorbar": {
             "outlinewidth": 0,
             "ticks": ""
            },
            "type": "mesh3d"
           }
          ],
          "parcoords": [
           {
            "line": {
             "colorbar": {
              "outlinewidth": 0,
              "ticks": ""
             }
            },
            "type": "parcoords"
           }
          ],
          "pie": [
           {
            "automargin": true,
            "type": "pie"
           }
          ],
          "scatter": [
           {
            "fillpattern": {
             "fillmode": "overlay",
             "size": 10,
             "solidity": 0.2
            },
            "type": "scatter"
           }
          ],
          "scatter3d": [
           {
            "line": {
             "colorbar": {
              "outlinewidth": 0,
              "ticks": ""
             }
            },
            "marker": {
             "colorbar": {
              "outlinewidth": 0,
              "ticks": ""
             }
            },
            "type": "scatter3d"
           }
          ],
          "scattercarpet": [
           {
            "marker": {
             "colorbar": {
              "outlinewidth": 0,
              "ticks": ""
             }
            },
            "type": "scattercarpet"
           }
          ],
          "scattergeo": [
           {
            "marker": {
             "colorbar": {
              "outlinewidth": 0,
              "ticks": ""
             }
            },
            "type": "scattergeo"
           }
          ],
          "scattergl": [
           {
            "marker": {
             "colorbar": {
              "outlinewidth": 0,
              "ticks": ""
             }
            },
            "type": "scattergl"
           }
          ],
          "scattermapbox": [
           {
            "marker": {
             "colorbar": {
              "outlinewidth": 0,
              "ticks": ""
             }
            },
            "type": "scattermapbox"
           }
          ],
          "scatterpolar": [
           {
            "marker": {
             "colorbar": {
              "outlinewidth": 0,
              "ticks": ""
             }
            },
            "type": "scatterpolar"
           }
          ],
          "scatterpolargl": [
           {
            "marker": {
             "colorbar": {
              "outlinewidth": 0,
              "ticks": ""
             }
            },
            "type": "scatterpolargl"
           }
          ],
          "scatterternary": [
           {
            "marker": {
             "colorbar": {
              "outlinewidth": 0,
              "ticks": ""
             }
            },
            "type": "scatterternary"
           }
          ],
          "surface": [
           {
            "colorbar": {
             "outlinewidth": 0,
             "ticks": ""
            },
            "colorscale": [
             [
              0,
              "#0d0887"
             ],
             [
              0.1111111111111111,
              "#46039f"
             ],
             [
              0.2222222222222222,
              "#7201a8"
             ],
             [
              0.3333333333333333,
              "#9c179e"
             ],
             [
              0.4444444444444444,
              "#bd3786"
             ],
             [
              0.5555555555555556,
              "#d8576b"
             ],
             [
              0.6666666666666666,
              "#ed7953"
             ],
             [
              0.7777777777777778,
              "#fb9f3a"
             ],
             [
              0.8888888888888888,
              "#fdca26"
             ],
             [
              1,
              "#f0f921"
             ]
            ],
            "type": "surface"
           }
          ],
          "table": [
           {
            "cells": {
             "fill": {
              "color": "#EBF0F8"
             },
             "line": {
              "color": "white"
             }
            },
            "header": {
             "fill": {
              "color": "#C8D4E3"
             },
             "line": {
              "color": "white"
             }
            },
            "type": "table"
           }
          ]
         },
         "layout": {
          "annotationdefaults": {
           "arrowcolor": "#2a3f5f",
           "arrowhead": 0,
           "arrowwidth": 1
          },
          "autotypenumbers": "strict",
          "coloraxis": {
           "colorbar": {
            "outlinewidth": 0,
            "ticks": ""
           }
          },
          "colorscale": {
           "diverging": [
            [
             0,
             "#8e0152"
            ],
            [
             0.1,
             "#c51b7d"
            ],
            [
             0.2,
             "#de77ae"
            ],
            [
             0.3,
             "#f1b6da"
            ],
            [
             0.4,
             "#fde0ef"
            ],
            [
             0.5,
             "#f7f7f7"
            ],
            [
             0.6,
             "#e6f5d0"
            ],
            [
             0.7,
             "#b8e186"
            ],
            [
             0.8,
             "#7fbc41"
            ],
            [
             0.9,
             "#4d9221"
            ],
            [
             1,
             "#276419"
            ]
           ],
           "sequential": [
            [
             0,
             "#0d0887"
            ],
            [
             0.1111111111111111,
             "#46039f"
            ],
            [
             0.2222222222222222,
             "#7201a8"
            ],
            [
             0.3333333333333333,
             "#9c179e"
            ],
            [
             0.4444444444444444,
             "#bd3786"
            ],
            [
             0.5555555555555556,
             "#d8576b"
            ],
            [
             0.6666666666666666,
             "#ed7953"
            ],
            [
             0.7777777777777778,
             "#fb9f3a"
            ],
            [
             0.8888888888888888,
             "#fdca26"
            ],
            [
             1,
             "#f0f921"
            ]
           ],
           "sequentialminus": [
            [
             0,
             "#0d0887"
            ],
            [
             0.1111111111111111,
             "#46039f"
            ],
            [
             0.2222222222222222,
             "#7201a8"
            ],
            [
             0.3333333333333333,
             "#9c179e"
            ],
            [
             0.4444444444444444,
             "#bd3786"
            ],
            [
             0.5555555555555556,
             "#d8576b"
            ],
            [
             0.6666666666666666,
             "#ed7953"
            ],
            [
             0.7777777777777778,
             "#fb9f3a"
            ],
            [
             0.8888888888888888,
             "#fdca26"
            ],
            [
             1,
             "#f0f921"
            ]
           ]
          },
          "colorway": [
           "#636efa",
           "#EF553B",
           "#00cc96",
           "#ab63fa",
           "#FFA15A",
           "#19d3f3",
           "#FF6692",
           "#B6E880",
           "#FF97FF",
           "#FECB52"
          ],
          "font": {
           "color": "#2a3f5f"
          },
          "geo": {
           "bgcolor": "white",
           "lakecolor": "white",
           "landcolor": "#E5ECF6",
           "showlakes": true,
           "showland": true,
           "subunitcolor": "white"
          },
          "hoverlabel": {
           "align": "left"
          },
          "hovermode": "closest",
          "mapbox": {
           "style": "light"
          },
          "paper_bgcolor": "white",
          "plot_bgcolor": "#E5ECF6",
          "polar": {
           "angularaxis": {
            "gridcolor": "white",
            "linecolor": "white",
            "ticks": ""
           },
           "bgcolor": "#E5ECF6",
           "radialaxis": {
            "gridcolor": "white",
            "linecolor": "white",
            "ticks": ""
           }
          },
          "scene": {
           "xaxis": {
            "backgroundcolor": "#E5ECF6",
            "gridcolor": "white",
            "gridwidth": 2,
            "linecolor": "white",
            "showbackground": true,
            "ticks": "",
            "zerolinecolor": "white"
           },
           "yaxis": {
            "backgroundcolor": "#E5ECF6",
            "gridcolor": "white",
            "gridwidth": 2,
            "linecolor": "white",
            "showbackground": true,
            "ticks": "",
            "zerolinecolor": "white"
           },
           "zaxis": {
            "backgroundcolor": "#E5ECF6",
            "gridcolor": "white",
            "gridwidth": 2,
            "linecolor": "white",
            "showbackground": true,
            "ticks": "",
            "zerolinecolor": "white"
           }
          },
          "shapedefaults": {
           "line": {
            "color": "#2a3f5f"
           }
          },
          "ternary": {
           "aaxis": {
            "gridcolor": "white",
            "linecolor": "white",
            "ticks": ""
           },
           "baxis": {
            "gridcolor": "white",
            "linecolor": "white",
            "ticks": ""
           },
           "bgcolor": "#E5ECF6",
           "caxis": {
            "gridcolor": "white",
            "linecolor": "white",
            "ticks": ""
           }
          },
          "title": {
           "x": 0.05
          },
          "xaxis": {
           "automargin": true,
           "gridcolor": "white",
           "linecolor": "white",
           "ticks": "",
           "title": {
            "standoff": 15
           },
           "zerolinecolor": "white",
           "zerolinewidth": 2
          },
          "yaxis": {
           "automargin": true,
           "gridcolor": "white",
           "linecolor": "white",
           "ticks": "",
           "title": {
            "standoff": 15
           },
           "zerolinecolor": "white",
           "zerolinewidth": 2
          }
         }
        },
        "title": {
         "text": "Parameter Convergence"
        },
        "width": 1024,
        "xaxis": {
         "anchor": "y",
         "autorange": true,
         "domain": [
          0,
          0.45
         ],
         "range": [
          0,
          26
         ],
         "title": {
          "text": "Function Call"
         },
         "type": "linear"
        },
        "xaxis2": {
         "anchor": "y2",
         "autorange": true,
         "domain": [
          0.55,
          1
         ],
         "range": [
          0,
          26
         ],
         "title": {
          "text": "Function Call"
         },
         "type": "linear"
        },
        "yaxis": {
         "anchor": "x",
         "autorange": true,
         "domain": [
          0,
          1
         ],
         "range": [
          0.32821363864335745,
          1.105130072497413
         ],
         "title": {
          "text": "Negative electrode active material volume fraction"
         },
         "type": "linear"
        },
        "yaxis2": {
         "anchor": "x2",
         "autorange": true,
         "domain": [
          0,
          1
         ],
         "range": [
          0.4154028571585434,
          1.2396620660404127
         ],
         "title": {
          "text": "Positive electrode active material volume fraction"
         },
         "type": "linear"
        }
       }
      },
      "image/png": "[encoded data removed]",
      "text/html": [
       "<div>                            <div id=\"6df86279-f06e-4385-85fe-4d96ca0973a0\" class=\"plotly-graph-div\" style=\"height:576px; width:1024px;\"></div>            <script type=\"text/javascript\">                require([\"plotly\"], function(Plotly) {                    window.PLOTLYENV=window.PLOTLYENV || {};                                    if (document.getElementById(\"6df86279-f06e-4385-85fe-4d96ca0973a0\")) {                    Plotly.newPlot(                        \"6df86279-f06e-4385-85fe-4d96ca0973a0\",                        [{\"name\":\"Negative electrode active material volume fraction\",\"x\":[0,1,2,3,4,5,6,7,8,9,10,11,12,13,14,15,16,17,18,19,20,21,22,23,24,25,26],\"y\":[0.5973854734091671,0.7495907457939224,0.8600550194499827,0.9355542869819478,0.9885162865561056,1.0250419416076115,1.0487224354799283,1.0619150663775896,1.0662842508047101,1.0630680725203854,1.0532240892676932,1.0375155219919607,1.0165653535734185,0.9908919526635798,0.9609334713446426,0.9270651118642977,0.8896116923943075,0.8488570143045052,0.8050509932047014,0.7584151889940085,0.7091471655137969,0.6574239785523336,0.6034050037916349,0.5472342573421157,0.48904232082422316,0.4289479543528889,0.36705946033606024],\"type\":\"scatter\",\"xaxis\":\"x\",\"yaxis\":\"y\"},{\"name\":\"Positive electrode active material volume fraction\",\"x\":[0,1,2,3,4,5,6,7,8,9,10,11,12,13,14,15,16,17,18,19,20,21,22,23,24,25,26],\"y\":[0.45661581760263686,0.6088210901120648,0.720573692227322,0.8053691686094567,0.8733830633034931,0.9295140707123055,0.9765940003280092,1.01645078441555,1.05035524113237,1.0792392967113968,1.1038143473412085,1.1246406413680443,1.1421704690144416,1.1567763698295264,1.1687702943003226,1.1784170559259177,1.1859440431421433,1.1915484025863348,1.1954024656515447,1.1976579253702961,1.1984491055963193,1.1978955585484694,1.1961041570656736,1.1931708009678696,1.1891818246411905,1.1842151703671202,1.1783413758286536],\"type\":\"scatter\",\"xaxis\":\"x2\",\"yaxis\":\"y2\"}],                        {\"template\":{\"data\":{\"histogram2dcontour\":[{\"type\":\"histogram2dcontour\",\"colorbar\":{\"outlinewidth\":0,\"ticks\":\"\"},\"colorscale\":[[0.0,\"#0d0887\"],[0.1111111111111111,\"#46039f\"],[0.2222222222222222,\"#7201a8\"],[0.3333333333333333,\"#9c179e\"],[0.4444444444444444,\"#bd3786\"],[0.5555555555555556,\"#d8576b\"],[0.6666666666666666,\"#ed7953\"],[0.7777777777777778,\"#fb9f3a\"],[0.8888888888888888,\"#fdca26\"],[1.0,\"#f0f921\"]]}],\"choropleth\":[{\"type\":\"choropleth\",\"colorbar\":{\"outlinewidth\":0,\"ticks\":\"\"}}],\"histogram2d\":[{\"type\":\"histogram2d\",\"colorbar\":{\"outlinewidth\":0,\"ticks\":\"\"},\"colorscale\":[[0.0,\"#0d0887\"],[0.1111111111111111,\"#46039f\"],[0.2222222222222222,\"#7201a8\"],[0.3333333333333333,\"#9c179e\"],[0.4444444444444444,\"#bd3786\"],[0.5555555555555556,\"#d8576b\"],[0.6666666666666666,\"#ed7953\"],[0.7777777777777778,\"#fb9f3a\"],[0.8888888888888888,\"#fdca26\"],[1.0,\"#f0f921\"]]}],\"heatmap\":[{\"type\":\"heatmap\",\"colorbar\":{\"outlinewidth\":0,\"ticks\":\"\"},\"colorscale\":[[0.0,\"#0d0887\"],[0.1111111111111111,\"#46039f\"],[0.2222222222222222,\"#7201a8\"],[0.3333333333333333,\"#9c179e\"],[0.4444444444444444,\"#bd3786\"],[0.5555555555555556,\"#d8576b\"],[0.6666666666666666,\"#ed7953\"],[0.7777777777777778,\"#fb9f3a\"],[0.8888888888888888,\"#fdca26\"],[1.0,\"#f0f921\"]]}],\"heatmapgl\":[{\"type\":\"heatmapgl\",\"colorbar\":{\"outlinewidth\":0,\"ticks\":\"\"},\"colorscale\":[[0.0,\"#0d0887\"],[0.1111111111111111,\"#46039f\"],[0.2222222222222222,\"#7201a8\"],[0.3333333333333333,\"#9c179e\"],[0.4444444444444444,\"#bd3786\"],[0.5555555555555556,\"#d8576b\"],[0.6666666666666666,\"#ed7953\"],[0.7777777777777778,\"#fb9f3a\"],[0.8888888888888888,\"#fdca26\"],[1.0,\"#f0f921\"]]}],\"contourcarpet\":[{\"type\":\"contourcarpet\",\"colorbar\":{\"outlinewidth\":0,\"ticks\":\"\"}}],\"contour\":[{\"type\":\"contour\",\"colorbar\":{\"outlinewidth\":0,\"ticks\":\"\"},\"colorscale\":[[0.0,\"#0d0887\"],[0.1111111111111111,\"#46039f\"],[0.2222222222222222,\"#7201a8\"],[0.3333333333333333,\"#9c179e\"],[0.4444444444444444,\"#bd3786\"],[0.5555555555555556,\"#d8576b\"],[0.6666666666666666,\"#ed7953\"],[0.7777777777777778,\"#fb9f3a\"],[0.8888888888888888,\"#fdca26\"],[1.0,\"#f0f921\"]]}],\"surface\":[{\"type\":\"surface\",\"colorbar\":{\"outlinewidth\":0,\"ticks\":\"\"},\"colorscale\":[[0.0,\"#0d0887\"],[0.1111111111111111,\"#46039f\"],[0.2222222222222222,\"#7201a8\"],[0.3333333333333333,\"#9c179e\"],[0.4444444444444444,\"#bd3786\"],[0.5555555555555556,\"#d8576b\"],[0.6666666666666666,\"#ed7953\"],[0.7777777777777778,\"#fb9f3a\"],[0.8888888888888888,\"#fdca26\"],[1.0,\"#f0f921\"]]}],\"mesh3d\":[{\"type\":\"mesh3d\",\"colorbar\":{\"outlinewidth\":0,\"ticks\":\"\"}}],\"scatter\":[{\"fillpattern\":{\"fillmode\":\"overlay\",\"size\":10,\"solidity\":0.2},\"type\":\"scatter\"}],\"parcoords\":[{\"type\":\"parcoords\",\"line\":{\"colorbar\":{\"outlinewidth\":0,\"ticks\":\"\"}}}],\"scatterpolargl\":[{\"type\":\"scatterpolargl\",\"marker\":{\"colorbar\":{\"outlinewidth\":0,\"ticks\":\"\"}}}],\"bar\":[{\"error_x\":{\"color\":\"#2a3f5f\"},\"error_y\":{\"color\":\"#2a3f5f\"},\"marker\":{\"line\":{\"color\":\"#E5ECF6\",\"width\":0.5},\"pattern\":{\"fillmode\":\"overlay\",\"size\":10,\"solidity\":0.2}},\"type\":\"bar\"}],\"scattergeo\":[{\"type\":\"scattergeo\",\"marker\":{\"colorbar\":{\"outlinewidth\":0,\"ticks\":\"\"}}}],\"scatterpolar\":[{\"type\":\"scatterpolar\",\"marker\":{\"colorbar\":{\"outlinewidth\":0,\"ticks\":\"\"}}}],\"histogram\":[{\"marker\":{\"pattern\":{\"fillmode\":\"overlay\",\"size\":10,\"solidity\":0.2}},\"type\":\"histogram\"}],\"scattergl\":[{\"type\":\"scattergl\",\"marker\":{\"colorbar\":{\"outlinewidth\":0,\"ticks\":\"\"}}}],\"scatter3d\":[{\"type\":\"scatter3d\",\"line\":{\"colorbar\":{\"outlinewidth\":0,\"ticks\":\"\"}},\"marker\":{\"colorbar\":{\"outlinewidth\":0,\"ticks\":\"\"}}}],\"scattermapbox\":[{\"type\":\"scattermapbox\",\"marker\":{\"colorbar\":{\"outlinewidth\":0,\"ticks\":\"\"}}}],\"scatterternary\":[{\"type\":\"scatterternary\",\"marker\":{\"colorbar\":{\"outlinewidth\":0,\"ticks\":\"\"}}}],\"scattercarpet\":[{\"type\":\"scattercarpet\",\"marker\":{\"colorbar\":{\"outlinewidth\":0,\"ticks\":\"\"}}}],\"carpet\":[{\"aaxis\":{\"endlinecolor\":\"#2a3f5f\",\"gridcolor\":\"white\",\"linecolor\":\"white\",\"minorgridcolor\":\"white\",\"startlinecolor\":\"#2a3f5f\"},\"baxis\":{\"endlinecolor\":\"#2a3f5f\",\"gridcolor\":\"white\",\"linecolor\":\"white\",\"minorgridcolor\":\"white\",\"startlinecolor\":\"#2a3f5f\"},\"type\":\"carpet\"}],\"table\":[{\"cells\":{\"fill\":{\"color\":\"#EBF0F8\"},\"line\":{\"color\":\"white\"}},\"header\":{\"fill\":{\"color\":\"#C8D4E3\"},\"line\":{\"color\":\"white\"}},\"type\":\"table\"}],\"barpolar\":[{\"marker\":{\"line\":{\"color\":\"#E5ECF6\",\"width\":0.5},\"pattern\":{\"fillmode\":\"overlay\",\"size\":10,\"solidity\":0.2}},\"type\":\"barpolar\"}],\"pie\":[{\"automargin\":true,\"type\":\"pie\"}]},\"layout\":{\"autotypenumbers\":\"strict\",\"colorway\":[\"#636efa\",\"#EF553B\",\"#00cc96\",\"#ab63fa\",\"#FFA15A\",\"#19d3f3\",\"#FF6692\",\"#B6E880\",\"#FF97FF\",\"#FECB52\"],\"font\":{\"color\":\"#2a3f5f\"},\"hovermode\":\"closest\",\"hoverlabel\":{\"align\":\"left\"},\"paper_bgcolor\":\"white\",\"plot_bgcolor\":\"#E5ECF6\",\"polar\":{\"bgcolor\":\"#E5ECF6\",\"angularaxis\":{\"gridcolor\":\"white\",\"linecolor\":\"white\",\"ticks\":\"\"},\"radialaxis\":{\"gridcolor\":\"white\",\"linecolor\":\"white\",\"ticks\":\"\"}},\"ternary\":{\"bgcolor\":\"#E5ECF6\",\"aaxis\":{\"gridcolor\":\"white\",\"linecolor\":\"white\",\"ticks\":\"\"},\"baxis\":{\"gridcolor\":\"white\",\"linecolor\":\"white\",\"ticks\":\"\"},\"caxis\":{\"gridcolor\":\"white\",\"linecolor\":\"white\",\"ticks\":\"\"}},\"coloraxis\":{\"colorbar\":{\"outlinewidth\":0,\"ticks\":\"\"}},\"colorscale\":{\"sequential\":[[0.0,\"#0d0887\"],[0.1111111111111111,\"#46039f\"],[0.2222222222222222,\"#7201a8\"],[0.3333333333333333,\"#9c179e\"],[0.4444444444444444,\"#bd3786\"],[0.5555555555555556,\"#d8576b\"],[0.6666666666666666,\"#ed7953\"],[0.7777777777777778,\"#fb9f3a\"],[0.8888888888888888,\"#fdca26\"],[1.0,\"#f0f921\"]],\"sequentialminus\":[[0.0,\"#0d0887\"],[0.1111111111111111,\"#46039f\"],[0.2222222222222222,\"#7201a8\"],[0.3333333333333333,\"#9c179e\"],[0.4444444444444444,\"#bd3786\"],[0.5555555555555556,\"#d8576b\"],[0.6666666666666666,\"#ed7953\"],[0.7777777777777778,\"#fb9f3a\"],[0.8888888888888888,\"#fdca26\"],[1.0,\"#f0f921\"]],\"diverging\":[[0,\"#8e0152\"],[0.1,\"#c51b7d\"],[0.2,\"#de77ae\"],[0.3,\"#f1b6da\"],[0.4,\"#fde0ef\"],[0.5,\"#f7f7f7\"],[0.6,\"#e6f5d0\"],[0.7,\"#b8e186\"],[0.8,\"#7fbc41\"],[0.9,\"#4d9221\"],[1,\"#276419\"]]},\"xaxis\":{\"gridcolor\":\"white\",\"linecolor\":\"white\",\"ticks\":\"\",\"title\":{\"standoff\":15},\"zerolinecolor\":\"white\",\"automargin\":true,\"zerolinewidth\":2},\"yaxis\":{\"gridcolor\":\"white\",\"linecolor\":\"white\",\"ticks\":\"\",\"title\":{\"standoff\":15},\"zerolinecolor\":\"white\",\"automargin\":true,\"zerolinewidth\":2},\"scene\":{\"xaxis\":{\"backgroundcolor\":\"#E5ECF6\",\"gridcolor\":\"white\",\"linecolor\":\"white\",\"showbackground\":true,\"ticks\":\"\",\"zerolinecolor\":\"white\",\"gridwidth\":2},\"yaxis\":{\"backgroundcolor\":\"#E5ECF6\",\"gridcolor\":\"white\",\"linecolor\":\"white\",\"showbackground\":true,\"ticks\":\"\",\"zerolinecolor\":\"white\",\"gridwidth\":2},\"zaxis\":{\"backgroundcolor\":\"#E5ECF6\",\"gridcolor\":\"white\",\"linecolor\":\"white\",\"showbackground\":true,\"ticks\":\"\",\"zerolinecolor\":\"white\",\"gridwidth\":2}},\"shapedefaults\":{\"line\":{\"color\":\"#2a3f5f\"}},\"annotationdefaults\":{\"arrowcolor\":\"#2a3f5f\",\"arrowhead\":0,\"arrowwidth\":1},\"geo\":{\"bgcolor\":\"white\",\"landcolor\":\"#E5ECF6\",\"subunitcolor\":\"white\",\"showland\":true,\"showlakes\":true,\"lakecolor\":\"white\"},\"title\":{\"x\":0.05},\"mapbox\":{\"style\":\"light\"}}},\"xaxis\":{\"anchor\":\"y\",\"domain\":[0.0,0.45],\"title\":{\"text\":\"Function Call\"}},\"yaxis\":{\"anchor\":\"x\",\"domain\":[0.0,1.0],\"title\":{\"text\":\"Negative electrode active material volume fraction\"}},\"xaxis2\":{\"anchor\":\"y2\",\"domain\":[0.55,1.0],\"title\":{\"text\":\"Function Call\"}},\"yaxis2\":{\"anchor\":\"x2\",\"domain\":[0.0,1.0],\"title\":{\"text\":\"Positive electrode active material volume fraction\"}},\"legend\":{\"orientation\":\"h\",\"yanchor\":\"bottom\",\"y\":1.02,\"xanchor\":\"right\",\"x\":1},\"title\":{\"text\":\"Parameter Convergence\"},\"width\":1024,\"height\":576},                        {\"responsive\": true}                    ).then(function(){\n",
       "                            \n",
       "var gd = document.getElementById('6df86279-f06e-4385-85fe-4d96ca0973a0');\n",
       "var x = new MutationObserver(function (mutations, observer) {{\n",
       "        var display = window.getComputedStyle(gd).display;\n",
       "        if (!display || display === 'none') {{\n",
       "            console.log([gd, 'removed!']);\n",
       "            Plotly.purge(gd);\n",
       "            observer.disconnect();\n",
       "        }}\n",
       "}});\n",
       "\n",
       "// Listen for the removal of the full notebook cells\n",
       "var notebookContainer = gd.closest('#notebook-container');\n",
       "if (notebookContainer) {{\n",
       "    x.observe(notebookContainer, {childList: true});\n",
       "}}\n",
       "\n",
       "// Listen for the clearing of the current output cell\n",
       "var outputEl = gd.closest('.output');\n",
       "if (outputEl) {{\n",
       "    x.observe(outputEl, {childList: true});\n",
       "}}\n",
       "\n",
       "                        })                };                });            </script>        </div>"
      ]
     },
     "metadata": {},
     "output_type": "display_data"
    }
   ],
   "source": [
    "pybop.plot_convergence(optim)\n",
    "pybop.plot_parameters(optim);"
   ]
  },
  {
   "cell_type": "markdown",
   "metadata": {},
   "source": [
    "### Cost Landscape\n",
    "\n",
    "Finally, we can visualize the cost landscape and the path taken by the optimizer:"
   ]
  },
  {
   "cell_type": "code",
   "execution_count": 26,
   "metadata": {},
   "outputs": [
    {
     "data": {
      "application/vnd.plotly.v1+json": {
       "config": {
        "plotlyServerURL": "https://plot.ly"
       },
       "data": [
        {
         "autocontour": true,
         "contours": {
          "end": 11,
          "size": 1,
          "start": 1
         },
         "type": "contour",
         "x": [
          0.5,
          0.5214285714285715,
          0.5428571428571428,
          0.5642857142857143,
          0.5857142857142857,
          0.6071428571428572,
          0.6285714285714286,
          0.65,
          0.6714285714285715,
          0.6928571428571428,
          0.7142857142857143,
          0.7357142857142858,
          0.7571428571428571,
          0.7785714285714287,
          0.8
         ],
         "y": [
          0.4,
          0.42142857142857143,
          0.4428571428571429,
          0.4642857142857143,
          0.4857142857142857,
          0.5071428571428571,
          0.5285714285714286,
          0.55,
          0.5714285714285714,
          0.5928571428571429,
          0.6142857142857143,
          0.6357142857142857,
          0.6571428571428571,
          0.6785714285714286,
          0.7
         ],
         "z": [
          [
           11.329162071324948,
           10.810903475294767,
           10.32788990777695,
           9.89401956309138,
           9.52085808765622,
           9.210769136482016,
           8.955672649058503,
           8.74251739486905,
           8.559054995506404,
           8.396225101497489,
           8.248039178718242,
           8.11070649936898,
           null,
           null,
           null
          ],
          [
           9.014158370097551,
           8.55303859675332,
           8.123148688007744,
           7.737153399148838,
           7.405630044842416,
           7.13079313908942,
           6.905396341660912,
           6.717647872591711,
           6.55652235773898,
           6.413882589128958,
           6.284361384762283,
           6.164563988408143,
           null,
           null,
           null
          ],
          [
           7.098921351649411,
           6.691649538419369,
           6.312358128921299,
           5.972222739459995,
           5.6806399544456845,
           5.439512350603121,
           5.242311638500578,
           5.078495017843191,
           4.938257583180183,
           4.814391470603081,
           4.702153342124281,
           4.598547465187288,
           null,
           null,
           null
          ],
          [
           5.541175104745984,
           5.1833268180394505,
           4.851014380277697,
           4.553819043023411,
           4.299780495453575,
           4.090323928651209,
           3.9195035382105754,
           3.777947247388595,
           3.6570279169252964,
           3.5504423617189795,
           3.4540579402698754,
           3.3652685251582466,
           null,
           null,
           null
          ],
          [
           4.295492034474281,
           3.9819996080668147,
           3.6922386708683033,
           3.434217537808995,
           3.2146092965989386,
           3.0342462537053683,
           2.887629910633267,
           2.7664402207101566,
           2.6631404237888043,
           2.5722736110324966,
           2.4902810710196333,
           2.414922985263334,
           null,
           null,
           null
          ],
          [
           3.3112876890406295,
           3.037094805787926,
           2.7852007526417646,
           2.562241643444228,
           2.3735721862445045,
           2.2194238001332973,
           2.094641655227946,
           1.9918272491975058,
           1.904418820630199,
           1.8277234160887186,
           1.7587013601177162,
           1.69544522473974,
           null,
           null,
           null
          ],
          [
           2.5376410116933714,
           2.2981951152198494,
           2.0798045028757874,
           1.8879311656353654,
           1.7267682206110084,
           1.5959928428036898,
           1.4907293724882225,
           1.404379029199971,
           1.3312353273100257,
           1.2672783837244932,
           1.209927027808256,
           1.157567721465013,
           null,
           null,
           null
          ],
          [
           1.9293484215049441,
           1.7208213851661358,
           1.5321799554794238,
           1.3678982665753565,
           1.2311799681774058,
           1.1212379369305092,
           1.0334079166112962,
           0.9618216095756095,
           0.9015085781526988,
           0.8490368888640681,
           0.8022265525103194,
           0.7597229324198246,
           null,
           null,
           null
          ],
          [
           1.4500686238440532,
           1.269350520908772,
           1.1073939392197203,
           0.9678044442766368,
           0.8529630256131859,
           0.7616885118272652,
           0.6895489224900059,
           0.6312881939085596,
           0.5825941178531018,
           0.5405506789226584,
           0.503330148650467,
           0.4698035399646058,
           null,
           null,
           null
          ],
          [
           1.0723389161693189,
           0.9169882798820299,
           0.7792165645800415,
           0.6619762168820089,
           0.566922027951196,
           0.4925518288663826,
           0.43465754662850564,
           0.38853332945868413,
           0.35045314704635444,
           0.3179589414770845,
           0.2895359349736061,
           0.2642525421820235,
           null,
           null,
           null
          ],
          [
           0.7757660803707241,
           0.6437968184762833,
           0.5282653660366576,
           0.4315057033052333,
           0.3545643270171147,
           0.2956766968266945,
           0.25085377510788176,
           0.215892821057163,
           0.18759811146848687,
           0.16392440562881233,
           0.14363805855043804,
           0.1259875092751347,
           null,
           null,
           null
          ],
          [
           0.5454150614074997,
           0.4352338376666942,
           0.3403567428313692,
           0.26256862196475605,
           0.20238381443527814,
           0.15782015021820892,
           0.12510426679077064,
           0.1004998796487084,
           0.08129821362393945,
           0.06583205082798091,
           0.05312280105331813,
           0.04258621664714512,
           null,
           null,
           null
          ],
          [
           0.37003066969414056,
           0.2803244536233421,
           0.20480214064657346,
           0.14475145741954276,
           0.10021170818681423,
           0.06901696341961469,
           0.04760630568321053,
           0.03268099471838355,
           0.021985409775502382,
           0.01420238722657809,
           0.008591067909690567,
           0.004720222986051925,
           null,
           null,
           null
          ],
          [
           null,
           null,
           null,
           null,
           null,
           null,
           null,
           null,
           null,
           null,
           null,
           null,
           null,
           null,
           null
          ],
          [
           null,
           null,
           null,
           null,
           null,
           null,
           null,
           null,
           null,
           null,
           null,
           null,
           null,
           null,
           null
          ]
         ]
        }
       ],
       "layout": {
        "height": 600,
        "template": {
         "data": {
          "bar": [
           {
            "error_x": {
             "color": "#2a3f5f"
            },
            "error_y": {
             "color": "#2a3f5f"
            },
            "marker": {
             "line": {
              "color": "#E5ECF6",
              "width": 0.5
             },
             "pattern": {
              "fillmode": "overlay",
              "size": 10,
              "solidity": 0.2
             }
            },
            "type": "bar"
           }
          ],
          "barpolar": [
           {
            "marker": {
             "line": {
              "color": "#E5ECF6",
              "width": 0.5
             },
             "pattern": {
              "fillmode": "overlay",
              "size": 10,
              "solidity": 0.2
             }
            },
            "type": "barpolar"
           }
          ],
          "carpet": [
           {
            "aaxis": {
             "endlinecolor": "#2a3f5f",
             "gridcolor": "white",
             "linecolor": "white",
             "minorgridcolor": "white",
             "startlinecolor": "#2a3f5f"
            },
            "baxis": {
             "endlinecolor": "#2a3f5f",
             "gridcolor": "white",
             "linecolor": "white",
             "minorgridcolor": "white",
             "startlinecolor": "#2a3f5f"
            },
            "type": "carpet"
           }
          ],
          "choropleth": [
           {
            "colorbar": {
             "outlinewidth": 0,
             "ticks": ""
            },
            "type": "choropleth"
           }
          ],
          "contour": [
           {
            "colorbar": {
             "outlinewidth": 0,
             "ticks": ""
            },
            "colorscale": [
             [
              0,
              "#0d0887"
             ],
             [
              0.1111111111111111,
              "#46039f"
             ],
             [
              0.2222222222222222,
              "#7201a8"
             ],
             [
              0.3333333333333333,
              "#9c179e"
             ],
             [
              0.4444444444444444,
              "#bd3786"
             ],
             [
              0.5555555555555556,
              "#d8576b"
             ],
             [
              0.6666666666666666,
              "#ed7953"
             ],
             [
              0.7777777777777778,
              "#fb9f3a"
             ],
             [
              0.8888888888888888,
              "#fdca26"
             ],
             [
              1,
              "#f0f921"
             ]
            ],
            "type": "contour"
           }
          ],
          "contourcarpet": [
           {
            "colorbar": {
             "outlinewidth": 0,
             "ticks": ""
            },
            "type": "contourcarpet"
           }
          ],
          "heatmap": [
           {
            "colorbar": {
             "outlinewidth": 0,
             "ticks": ""
            },
            "colorscale": [
             [
              0,
              "#0d0887"
             ],
             [
              0.1111111111111111,
              "#46039f"
             ],
             [
              0.2222222222222222,
              "#7201a8"
             ],
             [
              0.3333333333333333,
              "#9c179e"
             ],
             [
              0.4444444444444444,
              "#bd3786"
             ],
             [
              0.5555555555555556,
              "#d8576b"
             ],
             [
              0.6666666666666666,
              "#ed7953"
             ],
             [
              0.7777777777777778,
              "#fb9f3a"
             ],
             [
              0.8888888888888888,
              "#fdca26"
             ],
             [
              1,
              "#f0f921"
             ]
            ],
            "type": "heatmap"
           }
          ],
          "heatmapgl": [
           {
            "colorbar": {
             "outlinewidth": 0,
             "ticks": ""
            },
            "colorscale": [
             [
              0,
              "#0d0887"
             ],
             [
              0.1111111111111111,
              "#46039f"
             ],
             [
              0.2222222222222222,
              "#7201a8"
             ],
             [
              0.3333333333333333,
              "#9c179e"
             ],
             [
              0.4444444444444444,
              "#bd3786"
             ],
             [
              0.5555555555555556,
              "#d8576b"
             ],
             [
              0.6666666666666666,
              "#ed7953"
             ],
             [
              0.7777777777777778,
              "#fb9f3a"
             ],
             [
              0.8888888888888888,
              "#fdca26"
             ],
             [
              1,
              "#f0f921"
             ]
            ],
            "type": "heatmapgl"
           }
          ],
          "histogram": [
           {
            "marker": {
             "pattern": {
              "fillmode": "overlay",
              "size": 10,
              "solidity": 0.2
             }
            },
            "type": "histogram"
           }
          ],
          "histogram2d": [
           {
            "colorbar": {
             "outlinewidth": 0,
             "ticks": ""
            },
            "colorscale": [
             [
              0,
              "#0d0887"
             ],
             [
              0.1111111111111111,
              "#46039f"
             ],
             [
              0.2222222222222222,
              "#7201a8"
             ],
             [
              0.3333333333333333,
              "#9c179e"
             ],
             [
              0.4444444444444444,
              "#bd3786"
             ],
             [
              0.5555555555555556,
              "#d8576b"
             ],
             [
              0.6666666666666666,
              "#ed7953"
             ],
             [
              0.7777777777777778,
              "#fb9f3a"
             ],
             [
              0.8888888888888888,
              "#fdca26"
             ],
             [
              1,
              "#f0f921"
             ]
            ],
            "type": "histogram2d"
           }
          ],
          "histogram2dcontour": [
           {
            "colorbar": {
             "outlinewidth": 0,
             "ticks": ""
            },
            "colorscale": [
             [
              0,
              "#0d0887"
             ],
             [
              0.1111111111111111,
              "#46039f"
             ],
             [
              0.2222222222222222,
              "#7201a8"
             ],
             [
              0.3333333333333333,
              "#9c179e"
             ],
             [
              0.4444444444444444,
              "#bd3786"
             ],
             [
              0.5555555555555556,
              "#d8576b"
             ],
             [
              0.6666666666666666,
              "#ed7953"
             ],
             [
              0.7777777777777778,
              "#fb9f3a"
             ],
             [
              0.8888888888888888,
              "#fdca26"
             ],
             [
              1,
              "#f0f921"
             ]
            ],
            "type": "histogram2dcontour"
           }
          ],
          "mesh3d": [
           {
            "colorbar": {
             "outlinewidth": 0,
             "ticks": ""
            },
            "type": "mesh3d"
           }
          ],
          "parcoords": [
           {
            "line": {
             "colorbar": {
              "outlinewidth": 0,
              "ticks": ""
             }
            },
            "type": "parcoords"
           }
          ],
          "pie": [
           {
            "automargin": true,
            "type": "pie"
           }
          ],
          "scatter": [
           {
            "fillpattern": {
             "fillmode": "overlay",
             "size": 10,
             "solidity": 0.2
            },
            "type": "scatter"
           }
          ],
          "scatter3d": [
           {
            "line": {
             "colorbar": {
              "outlinewidth": 0,
              "ticks": ""
             }
            },
            "marker": {
             "colorbar": {
              "outlinewidth": 0,
              "ticks": ""
             }
            },
            "type": "scatter3d"
           }
          ],
          "scattercarpet": [
           {
            "marker": {
             "colorbar": {
              "outlinewidth": 0,
              "ticks": ""
             }
            },
            "type": "scattercarpet"
           }
          ],
          "scattergeo": [
           {
            "marker": {
             "colorbar": {
              "outlinewidth": 0,
              "ticks": ""
             }
            },
            "type": "scattergeo"
           }
          ],
          "scattergl": [
           {
            "marker": {
             "colorbar": {
              "outlinewidth": 0,
              "ticks": ""
             }
            },
            "type": "scattergl"
           }
          ],
          "scattermapbox": [
           {
            "marker": {
             "colorbar": {
              "outlinewidth": 0,
              "ticks": ""
             }
            },
            "type": "scattermapbox"
           }
          ],
          "scatterpolar": [
           {
            "marker": {
             "colorbar": {
              "outlinewidth": 0,
              "ticks": ""
             }
            },
            "type": "scatterpolar"
           }
          ],
          "scatterpolargl": [
           {
            "marker": {
             "colorbar": {
              "outlinewidth": 0,
              "ticks": ""
             }
            },
            "type": "scatterpolargl"
           }
          ],
          "scatterternary": [
           {
            "marker": {
             "colorbar": {
              "outlinewidth": 0,
              "ticks": ""
             }
            },
            "type": "scatterternary"
           }
          ],
          "surface": [
           {
            "colorbar": {
             "outlinewidth": 0,
             "ticks": ""
            },
            "colorscale": [
             [
              0,
              "#0d0887"
             ],
             [
              0.1111111111111111,
              "#46039f"
             ],
             [
              0.2222222222222222,
              "#7201a8"
             ],
             [
              0.3333333333333333,
              "#9c179e"
             ],
             [
              0.4444444444444444,
              "#bd3786"
             ],
             [
              0.5555555555555556,
              "#d8576b"
             ],
             [
              0.6666666666666666,
              "#ed7953"
             ],
             [
              0.7777777777777778,
              "#fb9f3a"
             ],
             [
              0.8888888888888888,
              "#fdca26"
             ],
             [
              1,
              "#f0f921"
             ]
            ],
            "type": "surface"
           }
          ],
          "table": [
           {
            "cells": {
             "fill": {
              "color": "#EBF0F8"
             },
             "line": {
              "color": "white"
             }
            },
            "header": {
             "fill": {
              "color": "#C8D4E3"
             },
             "line": {
              "color": "white"
             }
            },
            "type": "table"
           }
          ]
         },
         "layout": {
          "annotationdefaults": {
           "arrowcolor": "#2a3f5f",
           "arrowhead": 0,
           "arrowwidth": 1
          },
          "autotypenumbers": "strict",
          "coloraxis": {
           "colorbar": {
            "outlinewidth": 0,
            "ticks": ""
           }
          },
          "colorscale": {
           "diverging": [
            [
             0,
             "#8e0152"
            ],
            [
             0.1,
             "#c51b7d"
            ],
            [
             0.2,
             "#de77ae"
            ],
            [
             0.3,
             "#f1b6da"
            ],
            [
             0.4,
             "#fde0ef"
            ],
            [
             0.5,
             "#f7f7f7"
            ],
            [
             0.6,
             "#e6f5d0"
            ],
            [
             0.7,
             "#b8e186"
            ],
            [
             0.8,
             "#7fbc41"
            ],
            [
             0.9,
             "#4d9221"
            ],
            [
             1,
             "#276419"
            ]
           ],
           "sequential": [
            [
             0,
             "#0d0887"
            ],
            [
             0.1111111111111111,
             "#46039f"
            ],
            [
             0.2222222222222222,
             "#7201a8"
            ],
            [
             0.3333333333333333,
             "#9c179e"
            ],
            [
             0.4444444444444444,
             "#bd3786"
            ],
            [
             0.5555555555555556,
             "#d8576b"
            ],
            [
             0.6666666666666666,
             "#ed7953"
            ],
            [
             0.7777777777777778,
             "#fb9f3a"
            ],
            [
             0.8888888888888888,
             "#fdca26"
            ],
            [
             1,
             "#f0f921"
            ]
           ],
           "sequentialminus": [
            [
             0,
             "#0d0887"
            ],
            [
             0.1111111111111111,
             "#46039f"
            ],
            [
             0.2222222222222222,
             "#7201a8"
            ],
            [
             0.3333333333333333,
             "#9c179e"
            ],
            [
             0.4444444444444444,
             "#bd3786"
            ],
            [
             0.5555555555555556,
             "#d8576b"
            ],
            [
             0.6666666666666666,
             "#ed7953"
            ],
            [
             0.7777777777777778,
             "#fb9f3a"
            ],
            [
             0.8888888888888888,
             "#fdca26"
            ],
            [
             1,
             "#f0f921"
            ]
           ]
          },
          "colorway": [
           "#636efa",
           "#EF553B",
           "#00cc96",
           "#ab63fa",
           "#FFA15A",
           "#19d3f3",
           "#FF6692",
           "#B6E880",
           "#FF97FF",
           "#FECB52"
          ],
          "font": {
           "color": "#2a3f5f"
          },
          "geo": {
           "bgcolor": "white",
           "lakecolor": "white",
           "landcolor": "#E5ECF6",
           "showlakes": true,
           "showland": true,
           "subunitcolor": "white"
          },
          "hoverlabel": {
           "align": "left"
          },
          "hovermode": "closest",
          "mapbox": {
           "style": "light"
          },
          "paper_bgcolor": "white",
          "plot_bgcolor": "#E5ECF6",
          "polar": {
           "angularaxis": {
            "gridcolor": "white",
            "linecolor": "white",
            "ticks": ""
           },
           "bgcolor": "#E5ECF6",
           "radialaxis": {
            "gridcolor": "white",
            "linecolor": "white",
            "ticks": ""
           }
          },
          "scene": {
           "xaxis": {
            "backgroundcolor": "#E5ECF6",
            "gridcolor": "white",
            "gridwidth": 2,
            "linecolor": "white",
            "showbackground": true,
            "ticks": "",
            "zerolinecolor": "white"
           },
           "yaxis": {
            "backgroundcolor": "#E5ECF6",
            "gridcolor": "white",
            "gridwidth": 2,
            "linecolor": "white",
            "showbackground": true,
            "ticks": "",
            "zerolinecolor": "white"
           },
           "zaxis": {
            "backgroundcolor": "#E5ECF6",
            "gridcolor": "white",
            "gridwidth": 2,
            "linecolor": "white",
            "showbackground": true,
            "ticks": "",
            "zerolinecolor": "white"
           }
          },
          "shapedefaults": {
           "line": {
            "color": "#2a3f5f"
           }
          },
          "ternary": {
           "aaxis": {
            "gridcolor": "white",
            "linecolor": "white",
            "ticks": ""
           },
           "baxis": {
            "gridcolor": "white",
            "linecolor": "white",
            "ticks": ""
           },
           "bgcolor": "#E5ECF6",
           "caxis": {
            "gridcolor": "white",
            "linecolor": "white",
            "ticks": ""
           }
          },
          "title": {
           "x": 0.05
          },
          "xaxis": {
           "automargin": true,
           "gridcolor": "white",
           "linecolor": "white",
           "ticks": "",
           "title": {
            "standoff": 15
           },
           "zerolinecolor": "white",
           "zerolinewidth": 2
          },
          "yaxis": {
           "automargin": true,
           "gridcolor": "white",
           "linecolor": "white",
           "ticks": "",
           "title": {
            "standoff": 15
           },
           "zerolinecolor": "white",
           "zerolinewidth": 2
          }
         }
        },
        "title": {
         "text": "Cost Landscape",
         "x": 0.5,
         "y": 0.9
        },
        "width": 600,
        "xaxis": {
         "range": [
          0.5,
          0.8
         ],
         "title": {
          "text": "Negative electrode active material volume fraction"
         },
         "type": "linear"
        },
        "yaxis": {
         "range": [
          0.4,
          0.7
         ],
         "title": {
          "text": "Positive electrode active material volume fraction"
         },
         "type": "linear"
        }
       }
      },
      "image/png": "[encoded data removed]",
      "text/html": [
       "<div>                            <div id=\"f7f36457-7c36-4dde-bb04-a1daa36d5329\" class=\"plotly-graph-div\" style=\"height:600px; width:600px;\"></div>            <script type=\"text/javascript\">                require([\"plotly\"], function(Plotly) {                    window.PLOTLYENV=window.PLOTLYENV || {};                                    if (document.getElementById(\"f7f36457-7c36-4dde-bb04-a1daa36d5329\")) {                    Plotly.newPlot(                        \"f7f36457-7c36-4dde-bb04-a1daa36d5329\",                        [{\"x\":[0.5,0.5214285714285715,0.5428571428571428,0.5642857142857143,0.5857142857142857,0.6071428571428572,0.6285714285714286,0.65,0.6714285714285715,0.6928571428571428,0.7142857142857143,0.7357142857142858,0.7571428571428571,0.7785714285714287,0.8],\"y\":[0.4,0.42142857142857143,0.4428571428571429,0.4642857142857143,0.4857142857142857,0.5071428571428571,0.5285714285714286,0.55,0.5714285714285714,0.5928571428571429,0.6142857142857143,0.6357142857142857,0.6571428571428571,0.6785714285714286,0.7],\"z\":[[11.329162071324948,10.810903475294767,10.32788990777695,9.89401956309138,9.52085808765622,9.210769136482016,8.955672649058503,8.74251739486905,8.559054995506404,8.396225101497489,8.248039178718242,8.11070649936898,null,null,null],[9.014158370097551,8.55303859675332,8.123148688007744,7.737153399148838,7.405630044842416,7.13079313908942,6.905396341660912,6.717647872591711,6.55652235773898,6.413882589128958,6.284361384762283,6.164563988408143,null,null,null],[7.098921351649411,6.691649538419369,6.312358128921299,5.972222739459995,5.6806399544456845,5.439512350603121,5.242311638500578,5.078495017843191,4.938257583180183,4.814391470603081,4.702153342124281,4.598547465187288,null,null,null],[5.541175104745984,5.1833268180394505,4.851014380277697,4.553819043023411,4.299780495453575,4.090323928651209,3.9195035382105754,3.777947247388595,3.6570279169252964,3.5504423617189795,3.4540579402698754,3.3652685251582466,null,null,null],[4.295492034474281,3.9819996080668147,3.6922386708683033,3.434217537808995,3.2146092965989386,3.0342462537053683,2.887629910633267,2.7664402207101566,2.6631404237888043,2.5722736110324966,2.4902810710196333,2.414922985263334,null,null,null],[3.3112876890406295,3.037094805787926,2.7852007526417646,2.562241643444228,2.3735721862445045,2.2194238001332973,2.094641655227946,1.9918272491975058,1.904418820630199,1.8277234160887186,1.7587013601177162,1.69544522473974,null,null,null],[2.5376410116933714,2.2981951152198494,2.0798045028757874,1.8879311656353654,1.7267682206110084,1.5959928428036898,1.4907293724882225,1.404379029199971,1.3312353273100257,1.2672783837244932,1.209927027808256,1.157567721465013,null,null,null],[1.9293484215049441,1.7208213851661358,1.5321799554794238,1.3678982665753565,1.2311799681774058,1.1212379369305092,1.0334079166112962,0.9618216095756095,0.9015085781526988,0.8490368888640681,0.8022265525103194,0.7597229324198246,null,null,null],[1.4500686238440532,1.269350520908772,1.1073939392197203,0.9678044442766368,0.8529630256131859,0.7616885118272652,0.6895489224900059,0.6312881939085596,0.5825941178531018,0.5405506789226584,0.503330148650467,0.4698035399646058,null,null,null],[1.0723389161693189,0.9169882798820299,0.7792165645800415,0.6619762168820089,0.566922027951196,0.4925518288663826,0.43465754662850564,0.38853332945868413,0.35045314704635444,0.3179589414770845,0.2895359349736061,0.2642525421820235,null,null,null],[0.7757660803707241,0.6437968184762833,0.5282653660366576,0.4315057033052333,0.3545643270171147,0.2956766968266945,0.25085377510788176,0.215892821057163,0.18759811146848687,0.16392440562881233,0.14363805855043804,0.1259875092751347,null,null,null],[0.5454150614074997,0.4352338376666942,0.3403567428313692,0.26256862196475605,0.20238381443527814,0.15782015021820892,0.12510426679077064,0.1004998796487084,0.08129821362393945,0.06583205082798091,0.05312280105331813,0.04258621664714512,null,null,null],[0.37003066969414056,0.2803244536233421,0.20480214064657346,0.14475145741954276,0.10021170818681423,0.06901696341961469,0.04760630568321053,0.03268099471838355,0.021985409775502382,0.01420238722657809,0.008591067909690567,0.004720222986051925,null,null,null],[null,null,null,null,null,null,null,null,null,null,null,null,null,null,null],[null,null,null,null,null,null,null,null,null,null,null,null,null,null,null]],\"type\":\"contour\"}],                        {\"template\":{\"data\":{\"histogram2dcontour\":[{\"type\":\"histogram2dcontour\",\"colorbar\":{\"outlinewidth\":0,\"ticks\":\"\"},\"colorscale\":[[0.0,\"#0d0887\"],[0.1111111111111111,\"#46039f\"],[0.2222222222222222,\"#7201a8\"],[0.3333333333333333,\"#9c179e\"],[0.4444444444444444,\"#bd3786\"],[0.5555555555555556,\"#d8576b\"],[0.6666666666666666,\"#ed7953\"],[0.7777777777777778,\"#fb9f3a\"],[0.8888888888888888,\"#fdca26\"],[1.0,\"#f0f921\"]]}],\"choropleth\":[{\"type\":\"choropleth\",\"colorbar\":{\"outlinewidth\":0,\"ticks\":\"\"}}],\"histogram2d\":[{\"type\":\"histogram2d\",\"colorbar\":{\"outlinewidth\":0,\"ticks\":\"\"},\"colorscale\":[[0.0,\"#0d0887\"],[0.1111111111111111,\"#46039f\"],[0.2222222222222222,\"#7201a8\"],[0.3333333333333333,\"#9c179e\"],[0.4444444444444444,\"#bd3786\"],[0.5555555555555556,\"#d8576b\"],[0.6666666666666666,\"#ed7953\"],[0.7777777777777778,\"#fb9f3a\"],[0.8888888888888888,\"#fdca26\"],[1.0,\"#f0f921\"]]}],\"heatmap\":[{\"type\":\"heatmap\",\"colorbar\":{\"outlinewidth\":0,\"ticks\":\"\"},\"colorscale\":[[0.0,\"#0d0887\"],[0.1111111111111111,\"#46039f\"],[0.2222222222222222,\"#7201a8\"],[0.3333333333333333,\"#9c179e\"],[0.4444444444444444,\"#bd3786\"],[0.5555555555555556,\"#d8576b\"],[0.6666666666666666,\"#ed7953\"],[0.7777777777777778,\"#fb9f3a\"],[0.8888888888888888,\"#fdca26\"],[1.0,\"#f0f921\"]]}],\"heatmapgl\":[{\"type\":\"heatmapgl\",\"colorbar\":{\"outlinewidth\":0,\"ticks\":\"\"},\"colorscale\":[[0.0,\"#0d0887\"],[0.1111111111111111,\"#46039f\"],[0.2222222222222222,\"#7201a8\"],[0.3333333333333333,\"#9c179e\"],[0.4444444444444444,\"#bd3786\"],[0.5555555555555556,\"#d8576b\"],[0.6666666666666666,\"#ed7953\"],[0.7777777777777778,\"#fb9f3a\"],[0.8888888888888888,\"#fdca26\"],[1.0,\"#f0f921\"]]}],\"contourcarpet\":[{\"type\":\"contourcarpet\",\"colorbar\":{\"outlinewidth\":0,\"ticks\":\"\"}}],\"contour\":[{\"type\":\"contour\",\"colorbar\":{\"outlinewidth\":0,\"ticks\":\"\"},\"colorscale\":[[0.0,\"#0d0887\"],[0.1111111111111111,\"#46039f\"],[0.2222222222222222,\"#7201a8\"],[0.3333333333333333,\"#9c179e\"],[0.4444444444444444,\"#bd3786\"],[0.5555555555555556,\"#d8576b\"],[0.6666666666666666,\"#ed7953\"],[0.7777777777777778,\"#fb9f3a\"],[0.8888888888888888,\"#fdca26\"],[1.0,\"#f0f921\"]]}],\"surface\":[{\"type\":\"surface\",\"colorbar\":{\"outlinewidth\":0,\"ticks\":\"\"},\"colorscale\":[[0.0,\"#0d0887\"],[0.1111111111111111,\"#46039f\"],[0.2222222222222222,\"#7201a8\"],[0.3333333333333333,\"#9c179e\"],[0.4444444444444444,\"#bd3786\"],[0.5555555555555556,\"#d8576b\"],[0.6666666666666666,\"#ed7953\"],[0.7777777777777778,\"#fb9f3a\"],[0.8888888888888888,\"#fdca26\"],[1.0,\"#f0f921\"]]}],\"mesh3d\":[{\"type\":\"mesh3d\",\"colorbar\":{\"outlinewidth\":0,\"ticks\":\"\"}}],\"scatter\":[{\"fillpattern\":{\"fillmode\":\"overlay\",\"size\":10,\"solidity\":0.2},\"type\":\"scatter\"}],\"parcoords\":[{\"type\":\"parcoords\",\"line\":{\"colorbar\":{\"outlinewidth\":0,\"ticks\":\"\"}}}],\"scatterpolargl\":[{\"type\":\"scatterpolargl\",\"marker\":{\"colorbar\":{\"outlinewidth\":0,\"ticks\":\"\"}}}],\"bar\":[{\"error_x\":{\"color\":\"#2a3f5f\"},\"error_y\":{\"color\":\"#2a3f5f\"},\"marker\":{\"line\":{\"color\":\"#E5ECF6\",\"width\":0.5},\"pattern\":{\"fillmode\":\"overlay\",\"size\":10,\"solidity\":0.2}},\"type\":\"bar\"}],\"scattergeo\":[{\"type\":\"scattergeo\",\"marker\":{\"colorbar\":{\"outlinewidth\":0,\"ticks\":\"\"}}}],\"scatterpolar\":[{\"type\":\"scatterpolar\",\"marker\":{\"colorbar\":{\"outlinewidth\":0,\"ticks\":\"\"}}}],\"histogram\":[{\"marker\":{\"pattern\":{\"fillmode\":\"overlay\",\"size\":10,\"solidity\":0.2}},\"type\":\"histogram\"}],\"scattergl\":[{\"type\":\"scattergl\",\"marker\":{\"colorbar\":{\"outlinewidth\":0,\"ticks\":\"\"}}}],\"scatter3d\":[{\"type\":\"scatter3d\",\"line\":{\"colorbar\":{\"outlinewidth\":0,\"ticks\":\"\"}},\"marker\":{\"colorbar\":{\"outlinewidth\":0,\"ticks\":\"\"}}}],\"scattermapbox\":[{\"type\":\"scattermapbox\",\"marker\":{\"colorbar\":{\"outlinewidth\":0,\"ticks\":\"\"}}}],\"scatterternary\":[{\"type\":\"scatterternary\",\"marker\":{\"colorbar\":{\"outlinewidth\":0,\"ticks\":\"\"}}}],\"scattercarpet\":[{\"type\":\"scattercarpet\",\"marker\":{\"colorbar\":{\"outlinewidth\":0,\"ticks\":\"\"}}}],\"carpet\":[{\"aaxis\":{\"endlinecolor\":\"#2a3f5f\",\"gridcolor\":\"white\",\"linecolor\":\"white\",\"minorgridcolor\":\"white\",\"startlinecolor\":\"#2a3f5f\"},\"baxis\":{\"endlinecolor\":\"#2a3f5f\",\"gridcolor\":\"white\",\"linecolor\":\"white\",\"minorgridcolor\":\"white\",\"startlinecolor\":\"#2a3f5f\"},\"type\":\"carpet\"}],\"table\":[{\"cells\":{\"fill\":{\"color\":\"#EBF0F8\"},\"line\":{\"color\":\"white\"}},\"header\":{\"fill\":{\"color\":\"#C8D4E3\"},\"line\":{\"color\":\"white\"}},\"type\":\"table\"}],\"barpolar\":[{\"marker\":{\"line\":{\"color\":\"#E5ECF6\",\"width\":0.5},\"pattern\":{\"fillmode\":\"overlay\",\"size\":10,\"solidity\":0.2}},\"type\":\"barpolar\"}],\"pie\":[{\"automargin\":true,\"type\":\"pie\"}]},\"layout\":{\"autotypenumbers\":\"strict\",\"colorway\":[\"#636efa\",\"#EF553B\",\"#00cc96\",\"#ab63fa\",\"#FFA15A\",\"#19d3f3\",\"#FF6692\",\"#B6E880\",\"#FF97FF\",\"#FECB52\"],\"font\":{\"color\":\"#2a3f5f\"},\"hovermode\":\"closest\",\"hoverlabel\":{\"align\":\"left\"},\"paper_bgcolor\":\"white\",\"plot_bgcolor\":\"#E5ECF6\",\"polar\":{\"bgcolor\":\"#E5ECF6\",\"angularaxis\":{\"gridcolor\":\"white\",\"linecolor\":\"white\",\"ticks\":\"\"},\"radialaxis\":{\"gridcolor\":\"white\",\"linecolor\":\"white\",\"ticks\":\"\"}},\"ternary\":{\"bgcolor\":\"#E5ECF6\",\"aaxis\":{\"gridcolor\":\"white\",\"linecolor\":\"white\",\"ticks\":\"\"},\"baxis\":{\"gridcolor\":\"white\",\"linecolor\":\"white\",\"ticks\":\"\"},\"caxis\":{\"gridcolor\":\"white\",\"linecolor\":\"white\",\"ticks\":\"\"}},\"coloraxis\":{\"colorbar\":{\"outlinewidth\":0,\"ticks\":\"\"}},\"colorscale\":{\"sequential\":[[0.0,\"#0d0887\"],[0.1111111111111111,\"#46039f\"],[0.2222222222222222,\"#7201a8\"],[0.3333333333333333,\"#9c179e\"],[0.4444444444444444,\"#bd3786\"],[0.5555555555555556,\"#d8576b\"],[0.6666666666666666,\"#ed7953\"],[0.7777777777777778,\"#fb9f3a\"],[0.8888888888888888,\"#fdca26\"],[1.0,\"#f0f921\"]],\"sequentialminus\":[[0.0,\"#0d0887\"],[0.1111111111111111,\"#46039f\"],[0.2222222222222222,\"#7201a8\"],[0.3333333333333333,\"#9c179e\"],[0.4444444444444444,\"#bd3786\"],[0.5555555555555556,\"#d8576b\"],[0.6666666666666666,\"#ed7953\"],[0.7777777777777778,\"#fb9f3a\"],[0.8888888888888888,\"#fdca26\"],[1.0,\"#f0f921\"]],\"diverging\":[[0,\"#8e0152\"],[0.1,\"#c51b7d\"],[0.2,\"#de77ae\"],[0.3,\"#f1b6da\"],[0.4,\"#fde0ef\"],[0.5,\"#f7f7f7\"],[0.6,\"#e6f5d0\"],[0.7,\"#b8e186\"],[0.8,\"#7fbc41\"],[0.9,\"#4d9221\"],[1,\"#276419\"]]},\"xaxis\":{\"gridcolor\":\"white\",\"linecolor\":\"white\",\"ticks\":\"\",\"title\":{\"standoff\":15},\"zerolinecolor\":\"white\",\"automargin\":true,\"zerolinewidth\":2},\"yaxis\":{\"gridcolor\":\"white\",\"linecolor\":\"white\",\"ticks\":\"\",\"title\":{\"standoff\":15},\"zerolinecolor\":\"white\",\"automargin\":true,\"zerolinewidth\":2},\"scene\":{\"xaxis\":{\"backgroundcolor\":\"#E5ECF6\",\"gridcolor\":\"white\",\"linecolor\":\"white\",\"showbackground\":true,\"ticks\":\"\",\"zerolinecolor\":\"white\",\"gridwidth\":2},\"yaxis\":{\"backgroundcolor\":\"#E5ECF6\",\"gridcolor\":\"white\",\"linecolor\":\"white\",\"showbackground\":true,\"ticks\":\"\",\"zerolinecolor\":\"white\",\"gridwidth\":2},\"zaxis\":{\"backgroundcolor\":\"#E5ECF6\",\"gridcolor\":\"white\",\"linecolor\":\"white\",\"showbackground\":true,\"ticks\":\"\",\"zerolinecolor\":\"white\",\"gridwidth\":2}},\"shapedefaults\":{\"line\":{\"color\":\"#2a3f5f\"}},\"annotationdefaults\":{\"arrowcolor\":\"#2a3f5f\",\"arrowhead\":0,\"arrowwidth\":1},\"geo\":{\"bgcolor\":\"white\",\"landcolor\":\"#E5ECF6\",\"subunitcolor\":\"white\",\"showland\":true,\"showlakes\":true,\"lakecolor\":\"white\"},\"title\":{\"x\":0.05},\"mapbox\":{\"style\":\"light\"}}},\"title\":{\"text\":\"Cost Landscape\",\"x\":0.5,\"y\":0.9},\"xaxis\":{\"title\":{\"text\":\"Negative electrode active material volume fraction\"},\"range\":[0.5,0.8]},\"yaxis\":{\"title\":{\"text\":\"Positive electrode active material volume fraction\"},\"range\":[0.4,0.7]},\"width\":600,\"height\":600},                        {\"responsive\": true}                    ).then(function(){\n",
       "                            \n",
       "var gd = document.getElementById('f7f36457-7c36-4dde-bb04-a1daa36d5329');\n",
       "var x = new MutationObserver(function (mutations, observer) {{\n",
       "        var display = window.getComputedStyle(gd).display;\n",
       "        if (!display || display === 'none') {{\n",
       "            console.log([gd, 'removed!']);\n",
       "            Plotly.purge(gd);\n",
       "            observer.disconnect();\n",
       "        }}\n",
       "}});\n",
       "\n",
       "// Listen for the removal of the full notebook cells\n",
       "var notebookContainer = gd.closest('#notebook-container');\n",
       "if (notebookContainer) {{\n",
       "    x.observe(notebookContainer, {childList: true});\n",
       "}}\n",
       "\n",
       "// Listen for the clearing of the current output cell\n",
       "var outputEl = gd.closest('.output');\n",
       "if (outputEl) {{\n",
       "    x.observe(outputEl, {childList: true});\n",
       "}}\n",
       "\n",
       "                        })                };                });            </script>        </div>"
      ]
     },
     "metadata": {},
     "output_type": "display_data"
    }
   ],
   "source": [
    "# Plot the cost landscape\n",
    "pybop.plot_cost2d(cost, steps=15);\n",
    "# Plot the cost landscape with optimisation path and updated bounds\n",
    "# bounds = np.array([[0.6, 0.9], [0.5, 0.8]])\n",
    "# pybop.plot_cost2d(cost, optim=optim, bounds=bounds, steps=15);"
   ]
  },
  {
   "cell_type": "markdown",
   "metadata": {},
   "source": [
    "### Conclusion\n",
    "\n",
    "This notebook illustrates how to perform parameter estimation using Adam in PyBOP, providing insights into the optimization process through various visualizations."
   ]
  }
 ],
 "metadata": {
  "colab": {
   "provenance": []
  },
  "kernelspec": {
   "display_name": "Python 3 (ipykernel)",
   "language": "python",
   "name": "python3"
  },
  "language_info": {
   "codemirror_mode": {
    "name": "ipython",
    "version": 3
   },
   "file_extension": ".py",
   "mimetype": "text/x-python",
   "name": "python",
   "nbconvert_exporter": "python",
   "pygments_lexer": "ipython3",
   "version": "3.11.4"
  },
  "widgets": {
   "application/vnd.jupyter.widget-state+json": {
    "06f2374f91c8455bb63252092512f2ed": {
     "model_module": "@jupyter-widgets/base",
     "model_module_version": "2.0.0",
     "model_name": "LayoutModel",
     "state": {
      "_model_module": "@jupyter-widgets/base",
      "_model_module_version": "2.0.0",
      "_model_name": "LayoutModel",
      "_view_count": null,
      "_view_module": "@jupyter-widgets/base",
      "_view_module_version": "2.0.0",
      "_view_name": "LayoutView",
      "align_content": null,
      "align_items": null,
      "align_self": null,
      "border_bottom": null,
      "border_left": null,
      "border_right": null,
      "border_top": null,
      "bottom": null,
      "display": null,
      "flex": null,
      "flex_flow": null,
      "grid_area": null,
      "grid_auto_columns": null,
      "grid_auto_flow": null,
      "grid_auto_rows": null,
      "grid_column": null,
      "grid_gap": null,
      "grid_row": null,
      "grid_template_areas": null,
      "grid_template_columns": null,
      "grid_template_rows": null,
      "height": null,
      "justify_content": null,
      "justify_items": null,
      "left": null,
      "margin": null,
      "max_height": null,
      "max_width": null,
      "min_height": null,
      "min_width": null,
      "object_fit": null,
      "object_position": null,
      "order": null,
      "overflow": null,
      "padding": null,
      "right": null,
      "top": null,
      "visibility": null,
      "width": null
     }
    },
    "423bffea3a1c42b49a9ad71218e5811b": {
     "model_module": "@jupyter-widgets/base",
     "model_module_version": "2.0.0",
     "model_name": "LayoutModel",
     "state": {
      "_model_module": "@jupyter-widgets/base",
      "_model_module_version": "2.0.0",
      "_model_name": "LayoutModel",
      "_view_count": null,
      "_view_module": "@jupyter-widgets/base",
      "_view_module_version": "2.0.0",
      "_view_name": "LayoutView",
      "align_content": null,
      "align_items": null,
      "align_self": null,
      "border_bottom": null,
      "border_left": null,
      "border_right": null,
      "border_top": null,
      "bottom": null,
      "display": null,
      "flex": null,
      "flex_flow": null,
      "grid_area": null,
      "grid_auto_columns": null,
      "grid_auto_flow": null,
      "grid_auto_rows": null,
      "grid_column": null,
      "grid_gap": null,
      "grid_row": null,
      "grid_template_areas": null,
      "grid_template_columns": null,
      "grid_template_rows": null,
      "height": null,
      "justify_content": null,
      "justify_items": null,
      "left": null,
      "margin": null,
      "max_height": null,
      "max_width": null,
      "min_height": null,
      "min_width": null,
      "object_fit": null,
      "object_position": null,
      "order": null,
      "overflow": null,
      "padding": null,
      "right": null,
      "top": null,
      "visibility": null,
      "width": null
     }
    },
    "56ff19291e464d63b23e63b8e2ac9ea3": {
     "model_module": "@jupyter-widgets/controls",
     "model_module_version": "2.0.0",
     "model_name": "SliderStyleModel",
     "state": {
      "_model_module": "@jupyter-widgets/controls",
      "_model_module_version": "2.0.0",
      "_model_name": "SliderStyleModel",
      "_view_count": null,
      "_view_module": "@jupyter-widgets/base",
      "_view_module_version": "2.0.0",
      "_view_name": "StyleView",
      "description_width": "",
      "handle_color": null
     }
    },
    "646a8670cb204a31bb56bc2380898093": {
     "model_module": "@jupyter-widgets/base",
     "model_module_version": "2.0.0",
     "model_name": "LayoutModel",
     "state": {
      "_model_module": "@jupyter-widgets/base",
      "_model_module_version": "2.0.0",
      "_model_name": "LayoutModel",
      "_view_count": null,
      "_view_module": "@jupyter-widgets/base",
      "_view_module_version": "2.0.0",
      "_view_name": "LayoutView",
      "align_content": null,
      "align_items": null,
      "align_self": null,
      "border_bottom": null,
      "border_left": null,
      "border_right": null,
      "border_top": null,
      "bottom": null,
      "display": null,
      "flex": null,
      "flex_flow": null,
      "grid_area": null,
      "grid_auto_columns": null,
      "grid_auto_flow": null,
      "grid_auto_rows": null,
      "grid_column": null,
      "grid_gap": null,
      "grid_row": null,
      "grid_template_areas": null,
      "grid_template_columns": null,
      "grid_template_rows": null,
      "height": null,
      "justify_content": null,
      "justify_items": null,
      "left": null,
      "margin": null,
      "max_height": null,
      "max_width": null,
      "min_height": null,
      "min_width": null,
      "object_fit": null,
      "object_position": null,
      "order": null,
      "overflow": null,
      "padding": null,
      "right": null,
      "top": null,
      "visibility": null,
      "width": null
     }
    },
    "7d46516469314b88be3500e2afcafcf6": {
     "model_module": "@jupyter-widgets/output",
     "model_module_version": "1.0.0",
     "model_name": "OutputModel",
     "state": {
      "_dom_classes": [],
      "_model_module": "@jupyter-widgets/output",
      "_model_module_version": "1.0.0",
      "_model_name": "OutputModel",
      "_view_count": null,
      "_view_module": "@jupyter-widgets/output",
      "_view_module_version": "1.0.0",
      "_view_name": "OutputView",
      "layout": "IPY_MODEL_646a8670cb204a31bb56bc2380898093",
      "msg_id": "",
      "outputs": [],
      "tabbable": null,
      "tooltip": null
     }
    },
    "8d003c14da5f4fa68284b28c15cee6e6": {
     "model_module": "@jupyter-widgets/controls",
     "model_module_version": "2.0.0",
     "model_name": "VBoxModel",
     "state": {
      "_dom_classes": [
       "widget-interact"
      ],
      "_model_module": "@jupyter-widgets/controls",
      "_model_module_version": "2.0.0",
      "_model_name": "VBoxModel",
      "_view_count": null,
      "_view_module": "@jupyter-widgets/controls",
      "_view_module_version": "2.0.0",
      "_view_name": "VBoxView",
      "box_style": "",
      "children": [
       "IPY_MODEL_aef2fa7adcc14ad0854b73d5910ae3b4",
       "IPY_MODEL_7d46516469314b88be3500e2afcafcf6"
      ],
      "layout": "IPY_MODEL_423bffea3a1c42b49a9ad71218e5811b",
      "tabbable": null,
      "tooltip": null
     }
    },
    "aef2fa7adcc14ad0854b73d5910ae3b4": {
     "model_module": "@jupyter-widgets/controls",
     "model_module_version": "2.0.0",
     "model_name": "FloatSliderModel",
     "state": {
      "_dom_classes": [],
      "_model_module": "@jupyter-widgets/controls",
      "_model_module_version": "2.0.0",
      "_model_name": "FloatSliderModel",
      "_view_count": null,
      "_view_module": "@jupyter-widgets/controls",
      "_view_module_version": "2.0.0",
      "_view_name": "FloatSliderView",
      "behavior": "drag-tap",
      "continuous_update": true,
      "description": "t",
      "description_allow_html": false,
      "disabled": false,
      "layout": "IPY_MODEL_06f2374f91c8455bb63252092512f2ed",
      "max": 1.1333333333333333,
      "min": 0,
      "orientation": "horizontal",
      "readout": true,
      "readout_format": ".2f",
      "step": 0.011333333333333332,
      "style": "IPY_MODEL_56ff19291e464d63b23e63b8e2ac9ea3",
      "tabbable": null,
      "tooltip": null,
      "value": 0
     }
    }
   }
  }
 },
 "nbformat": 4,
 "nbformat_minor": 4
}
