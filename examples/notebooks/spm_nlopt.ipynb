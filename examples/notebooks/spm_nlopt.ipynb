{
 "cells": [
  {
   "cell_type": "markdown",
   "metadata": {
    "id": "expmkveO04pw"
   },
   "source": [
    "## A NMC/Gr parameterisation example using PyBOP\n",
    "\n",
    "This notebook introduces a synthetic re-parameterisation of the single-particle model with corrupted observations. To start, we import the PyBOP package for parameterisation and the PyBaMM package to generate the initial synethic data,"
   ]
  },
  {
   "cell_type": "code",
   "execution_count": 1,
   "metadata": {
    "colab": {
     "base_uri": "https://localhost:8080/"
    },
    "id": "X87NUGPW04py",
    "outputId": "0d785b07-7cff-4aeb-e60a-4ff5a669afbf"
   },
   "outputs": [],
   "source": [
    "%pip install --upgrade pip ipywidgets\n",
    "# %pip install git+https://github.com/pybop-team/PyBOP.git@develop -q % Uncomment to install from github"
   ]
  },
  {
   "cell_type": "markdown",
   "metadata": {
    "id": "jAvD5fk104p0"
   },
   "source": [
    "Next, we import the added packages plus any additional dependencies,"
   ]
  },
  {
   "cell_type": "code",
   "execution_count": 2,
   "metadata": {
    "id": "SQdt4brD04p1"
   },
   "outputs": [],
   "source": [
    "import pybop\n",
    "import matplotlib.pyplot as plt\n",
    "import numpy as np"
   ]
  },
  {
   "cell_type": "markdown",
   "metadata": {
    "id": "5XU-dMtU04p2"
   },
   "source": [
    "## Generate Synthetic Data"
   ]
  },
  {
   "cell_type": "markdown",
   "metadata": {
    "id": "MlBYO-xK04p3"
   },
   "source": [
    "We need to generate the synthetic data required for later reparameterisation. To do this we will run the PyBaMM forward model and store the generated data. This will be integrated into PyBOP in a future release for fast synthetic generation. For now, we define the PyBaMM model with a default parameter set,"
   ]
  },
  {
   "cell_type": "code",
   "execution_count": 3,
   "metadata": {
    "id": "sBasxv8U04p3"
   },
   "outputs": [],
   "source": [
    "model = pybop.lithium_ion.SPM()\n",
    "params = model.default_parameter_values"
   ]
  },
  {
   "cell_type": "markdown",
   "metadata": {
    "id": "wRDiC_dj04p5"
   },
   "source": [
    "We can now modify individual parameters with the bespoke values and run the simulation."
   ]
  },
  {
   "cell_type": "code",
   "execution_count": 4,
   "metadata": {
    "id": "JgN4C76x04p6"
   },
   "outputs": [],
   "source": [
    "params.update(\n",
    "    {\n",
    "        \"Negative electrode active material volume fraction\": 0.48,\n",
    "        \"Positive electrode active material volume fraction\": 0.54,\n",
    "    }\n",
    ")"
   ]
  },
  {
   "cell_type": "markdown",
   "metadata": {
    "id": "KWA5Fmbv04p7"
   },
   "source": [
    "Define the PyBOP experiment (wrapper class for the PyBaMM experiment) and run the forward model to capture the synthetic data."
   ]
  },
  {
   "cell_type": "code",
   "execution_count": 5,
   "metadata": {
    "id": "LvQ7eXGf04p7"
   },
   "outputs": [],
   "source": [
    "experiment = pybop.Experiment(\n",
    "    [\n",
    "        (\n",
    "            \"Discharge at 1C for 15 minutes (1 second period)\",\n",
    "            \"Rest for 2 minutes (1 second period)\",\n",
    "            \"Charge at 1C for 15 minutes (1 second period)\",\n",
    "            \"Rest for 2 minutes (1 second period)\",\n",
    "        ),\n",
    "    ]\n",
    "    * 2\n",
    ")\n",
    "sol = model.predict(experiment=experiment, parameter_set=params)"
   ]
  },
  {
   "cell_type": "markdown",
   "metadata": {
    "id": "kPlPy2oo04p-"
   },
   "source": [
    "Now, let's corrupt the synthetic data with 3mV of gaussian noise centered around zero,"
   ]
  },
  {
   "cell_type": "code",
   "execution_count": 6,
   "metadata": {
    "id": "IW9PFOV904p-"
   },
   "outputs": [],
   "source": [
    "corrupt_V = sol[\"Voltage [V]\"].data\n",
    "corrupt_V += np.random.normal(0, 0.003, len(corrupt_V))"
   ]
  },
  {
   "cell_type": "markdown",
   "metadata": {
    "id": "X8-tubYY04p_"
   },
   "source": [
    "## Identify the Parameters"
   ]
  },
  {
   "cell_type": "markdown",
   "metadata": {
    "id": "PQqhvSZN04p_"
   },
   "source": [
    "Now, to blind fit the synthetic parameters we need to define the observation variables. For the observed voltage variable, we used the newly corrupted voltage array,"
   ]
  },
  {
   "cell_type": "code",
   "execution_count": 7,
   "metadata": {
    "id": "zuvGHWID04p_"
   },
   "outputs": [],
   "source": [
    "dataset = pybop.Dataset(\n",
    "    {\n",
    "        \"Time [s]\": sol[\"Time [s]\"].data,\n",
    "        \"Current function [A]\": sol[\"Current [A]\"].data,\n",
    "        \"Voltage [V]\": corrupt_V,\n",
    "    }\n",
    ")"
   ]
  },
  {
   "cell_type": "markdown",
   "metadata": {
    "id": "ffS3CF_704qA"
   },
   "source": [
    "Next, we define the targeted forward model parameters for estimation. Furthermore, PyBOP provides functionality to define a prior for the parameters. The initial parameters values used in the estimiation will be randomly drawn from the prior distribution."
   ]
  },
  {
   "cell_type": "code",
   "execution_count": 8,
   "metadata": {
    "id": "WPCybXIJ04qA"
   },
   "outputs": [],
   "source": [
    "parameters = [\n",
    "    pybop.Parameter(\n",
    "        \"Negative electrode active material volume fraction\",\n",
    "        prior=pybop.Gaussian(0.5, 0.02),\n",
    "        bounds=[0.48, 0.625],\n",
    "    ),\n",
    "    pybop.Parameter(\n",
    "        \"Positive electrode active material volume fraction\",\n",
    "        prior=pybop.Gaussian(0.6, 0.02),\n",
    "        bounds=[0.525, 0.75],\n",
    "    ),\n",
    "]"
   ]
  },
  {
   "cell_type": "markdown",
   "metadata": {
    "id": "n4OHa-aF04qA"
   },
   "source": [
    "We can now define the fitting signal, a problem (which combines the model with the dataset) and construct a cost function."
   ]
  },
  {
   "cell_type": "code",
   "execution_count": 9,
   "metadata": {
    "id": "etMzRtx404qA"
   },
   "outputs": [],
   "source": [
    "signal = \"Voltage [V]\"\n",
    "problem = pybop.FittingProblem(model, parameters, dataset, signal=signal)\n",
    "cost = pybop.RootMeanSquaredError(problem)"
   ]
  },
  {
   "cell_type": "markdown",
   "metadata": {
    "id": "eQiGurUV04qB"
   },
   "source": [
    "Let's construct PyBOP's optimisation class. This class provides the methods needed to fit the forward model. For this example, we use a root-mean square cost function with the BOBYQA algorithm implemented in NLOpt."
   ]
  },
  {
   "cell_type": "code",
   "execution_count": 10,
   "metadata": {
    "id": "N3FtAhrT04qB"
   },
   "outputs": [],
   "source": [
    "optim = pybop.Optimisation(\n",
    "    cost=cost,\n",
    "    optimiser=pybop.NLoptOptimize,\n",
    ")\n",
    "optim.set_max_iterations(100)"
   ]
  },
  {
   "cell_type": "markdown",
   "metadata": {
    "id": "caprp-bV04qB"
   },
   "source": [
    "Finally, we run the estimation algorithm."
   ]
  },
  {
   "cell_type": "code",
   "execution_count": 11,
   "metadata": {
    "id": "-9OVt0EQ04qB"
   },
   "outputs": [],
   "source": [
    "x, final_cost = optim.run()"
   ]
  },
  {
   "cell_type": "markdown",
   "metadata": {
    "id": "-4pZsDmS04qC"
   },
   "source": [
    "Let's view the identified parameters:"
   ]
  },
  {
   "cell_type": "code",
   "execution_count": 12,
   "metadata": {
    "colab": {
     "base_uri": "https://localhost:8080/"
    },
    "id": "Hgz8SV4i04qC",
    "outputId": "e1e42ae7-5075-4c47-dd68-1b22ecc170f6"
   },
   "outputs": [
    {
     "data": {
      "text/plain": [
       "array([0.51059945, 0.53727348])"
      ]
     },
     "execution_count": 12,
     "metadata": {},
     "output_type": "execute_result"
    }
   ],
   "source": [
    "x"
   ]
  },
  {
   "cell_type": "markdown",
   "metadata": {
    "id": "KxKURtH704qC"
   },
   "source": [
    "## Plotting"
   ]
  },
  {
   "cell_type": "markdown",
   "metadata": {
    "id": "-cWCOiqR04qC"
   },
   "source": [
    "First, run the SPM forward model with the estimated parameters,"
   ]
  },
  {
   "cell_type": "code",
   "execution_count": 13,
   "metadata": {
    "id": "ZVfozY0A04qC"
   },
   "outputs": [],
   "source": [
    "params.update(\n",
    "    {\n",
    "        \"Negative electrode active material volume fraction\": x[0],\n",
    "        \"Positive electrode active material volume fraction\": x[1],\n",
    "    }\n",
    ")\n",
    "optsol = model.predict(experiment=experiment, parameter_set=params)[\"Voltage [V]\"].data"
   ]
  },
  {
   "cell_type": "markdown",
   "metadata": {
    "id": "ntIvAJmA04qD"
   },
   "source": [
    "Now, we plot the estimated forward model against the corrupted synthetic observation,"
   ]
  },
  {
   "cell_type": "code",
   "execution_count": 14,
   "metadata": {
    "colab": {
     "base_uri": "https://localhost:8080/",
     "height": 467
    },
    "id": "tJUJ80Ve04qD",
    "outputId": "855fbaa2-1e09-4935-eb1a-8caf7f99eb75"
   },
   "outputs": [
    {
     "data": {
      "text/plain": [
       "<matplotlib.legend.Legend at 0x7f66b99ef4f0>"
      ]
     },
     "execution_count": 14,
     "metadata": {},
     "output_type": "execute_result"
    },
    {
     "data": {
      "image/png": "[encoded data removed]",
      "text/plain": [
       "<Figure size 640x480 with 1 Axes>"
      ]
     },
     "metadata": {},
     "output_type": "display_data"
    }
   ],
   "source": [
    "plt.plot(corrupt_V, label=\"Groundtruth\")\n",
    "plt.plot(optsol, label=\"Estimated\")\n",
    "plt.xlabel(\"Time (s)\")\n",
    "plt.ylabel(\"Voltage (V)\")\n",
    "plt.legend()"
   ]
  }
 ],
 "metadata": {
  "colab": {
   "provenance": []
  },
  "kernelspec": {
   "display_name": "Python 3 (ipykernel)",
   "language": "python",
   "name": "python3"
  },
  "language_info": {
   "codemirror_mode": {
    "name": "ipython",
    "version": 3
   },
   "file_extension": ".py",
   "mimetype": "text/x-python",
   "name": "python",
   "nbconvert_exporter": "python",
   "pygments_lexer": "ipython3",
   "version": "3.10.12"
  },
  "widgets": {
   "application/vnd.jupyter.widget-state+json": {
    "06f2374f91c8455bb63252092512f2ed": {
     "model_module": "@jupyter-widgets/base",
     "model_module_version": "2.0.0",
     "model_name": "LayoutModel",
     "state": {
      "_model_module": "@jupyter-widgets/base",
      "_model_module_version": "2.0.0",
      "_model_name": "LayoutModel",
      "_view_count": null,
      "_view_module": "@jupyter-widgets/base",
      "_view_module_version": "2.0.0",
      "_view_name": "LayoutView",
      "align_content": null,
      "align_items": null,
      "align_self": null,
      "border_bottom": null,
      "border_left": null,
      "border_right": null,
      "border_top": null,
      "bottom": null,
      "display": null,
      "flex": null,
      "flex_flow": null,
      "grid_area": null,
      "grid_auto_columns": null,
      "grid_auto_flow": null,
      "grid_auto_rows": null,
      "grid_column": null,
      "grid_gap": null,
      "grid_row": null,
      "grid_template_areas": null,
      "grid_template_columns": null,
      "grid_template_rows": null,
      "height": null,
      "justify_content": null,
      "justify_items": null,
      "left": null,
      "margin": null,
      "max_height": null,
      "max_width": null,
      "min_height": null,
      "min_width": null,
      "object_fit": null,
      "object_position": null,
      "order": null,
      "overflow": null,
      "padding": null,
      "right": null,
      "top": null,
      "visibility": null,
      "width": null
     }
    },
    "423bffea3a1c42b49a9ad71218e5811b": {
     "model_module": "@jupyter-widgets/base",
     "model_module_version": "2.0.0",
     "model_name": "LayoutModel",
     "state": {
      "_model_module": "@jupyter-widgets/base",
      "_model_module_version": "2.0.0",
      "_model_name": "LayoutModel",
      "_view_count": null,
      "_view_module": "@jupyter-widgets/base",
      "_view_module_version": "2.0.0",
      "_view_name": "LayoutView",
      "align_content": null,
      "align_items": null,
      "align_self": null,
      "border_bottom": null,
      "border_left": null,
      "border_right": null,
      "border_top": null,
      "bottom": null,
      "display": null,
      "flex": null,
      "flex_flow": null,
      "grid_area": null,
      "grid_auto_columns": null,
      "grid_auto_flow": null,
      "grid_auto_rows": null,
      "grid_column": null,
      "grid_gap": null,
      "grid_row": null,
      "grid_template_areas": null,
      "grid_template_columns": null,
      "grid_template_rows": null,
      "height": null,
      "justify_content": null,
      "justify_items": null,
      "left": null,
      "margin": null,
      "max_height": null,
      "max_width": null,
      "min_height": null,
      "min_width": null,
      "object_fit": null,
      "object_position": null,
      "order": null,
      "overflow": null,
      "padding": null,
      "right": null,
      "top": null,
      "visibility": null,
      "width": null
     }
    },
    "56ff19291e464d63b23e63b8e2ac9ea3": {
     "model_module": "@jupyter-widgets/controls",
     "model_module_version": "2.0.0",
     "model_name": "SliderStyleModel",
     "state": {
      "_model_module": "@jupyter-widgets/controls",
      "_model_module_version": "2.0.0",
      "_model_name": "SliderStyleModel",
      "_view_count": null,
      "_view_module": "@jupyter-widgets/base",
      "_view_module_version": "2.0.0",
      "_view_name": "StyleView",
      "description_width": "",
      "handle_color": null
     }
    },
    "646a8670cb204a31bb56bc2380898093": {
     "model_module": "@jupyter-widgets/base",
     "model_module_version": "2.0.0",
     "model_name": "LayoutModel",
     "state": {
      "_model_module": "@jupyter-widgets/base",
      "_model_module_version": "2.0.0",
      "_model_name": "LayoutModel",
      "_view_count": null,
      "_view_module": "@jupyter-widgets/base",
      "_view_module_version": "2.0.0",
      "_view_name": "LayoutView",
      "align_content": null,
      "align_items": null,
      "align_self": null,
      "border_bottom": null,
      "border_left": null,
      "border_right": null,
      "border_top": null,
      "bottom": null,
      "display": null,
      "flex": null,
      "flex_flow": null,
      "grid_area": null,
      "grid_auto_columns": null,
      "grid_auto_flow": null,
      "grid_auto_rows": null,
      "grid_column": null,
      "grid_gap": null,
      "grid_row": null,
      "grid_template_areas": null,
      "grid_template_columns": null,
      "grid_template_rows": null,
      "height": null,
      "justify_content": null,
      "justify_items": null,
      "left": null,
      "margin": null,
      "max_height": null,
      "max_width": null,
      "min_height": null,
      "min_width": null,
      "object_fit": null,
      "object_position": null,
      "order": null,
      "overflow": null,
      "padding": null,
      "right": null,
      "top": null,
      "visibility": null,
      "width": null
     }
    },
    "7d46516469314b88be3500e2afcafcf6": {
     "model_module": "@jupyter-widgets/output",
     "model_module_version": "1.0.0",
     "model_name": "OutputModel",
     "state": {
      "_dom_classes": [],
      "_model_module": "@jupyter-widgets/output",
      "_model_module_version": "1.0.0",
      "_model_name": "OutputModel",
      "_view_count": null,
      "_view_module": "@jupyter-widgets/output",
      "_view_module_version": "1.0.0",
      "_view_name": "OutputView",
      "layout": "IPY_MODEL_646a8670cb204a31bb56bc2380898093",
      "msg_id": "",
      "outputs": [],
      "tabbable": null,
      "tooltip": null
     }
    },
    "8d003c14da5f4fa68284b28c15cee6e6": {
     "model_module": "@jupyter-widgets/controls",
     "model_module_version": "2.0.0",
     "model_name": "VBoxModel",
     "state": {
      "_dom_classes": [
       "widget-interact"
      ],
      "_model_module": "@jupyter-widgets/controls",
      "_model_module_version": "2.0.0",
      "_model_name": "VBoxModel",
      "_view_count": null,
      "_view_module": "@jupyter-widgets/controls",
      "_view_module_version": "2.0.0",
      "_view_name": "VBoxView",
      "box_style": "",
      "children": [
       "IPY_MODEL_aef2fa7adcc14ad0854b73d5910ae3b4",
       "IPY_MODEL_7d46516469314b88be3500e2afcafcf6"
      ],
      "layout": "IPY_MODEL_423bffea3a1c42b49a9ad71218e5811b",
      "tabbable": null,
      "tooltip": null
     }
    },
    "aef2fa7adcc14ad0854b73d5910ae3b4": {
     "model_module": "@jupyter-widgets/controls",
     "model_module_version": "2.0.0",
     "model_name": "FloatSliderModel",
     "state": {
      "_dom_classes": [],
      "_model_module": "@jupyter-widgets/controls",
      "_model_module_version": "2.0.0",
      "_model_name": "FloatSliderModel",
      "_view_count": null,
      "_view_module": "@jupyter-widgets/controls",
      "_view_module_version": "2.0.0",
      "_view_name": "FloatSliderView",
      "behavior": "drag-tap",
      "continuous_update": true,
      "description": "t",
      "description_allow_html": false,
      "disabled": false,
      "layout": "IPY_MODEL_06f2374f91c8455bb63252092512f2ed",
      "max": 1.1333333333333333,
      "min": 0,
      "orientation": "horizontal",
      "readout": true,
      "readout_format": ".2f",
      "step": 0.011333333333333332,
      "style": "IPY_MODEL_56ff19291e464d63b23e63b8e2ac9ea3",
      "tabbable": null,
      "tooltip": null,
      "value": 0
     }
    }
   }
  }
 },
 "nbformat": 4,
 "nbformat_minor": 4
}
